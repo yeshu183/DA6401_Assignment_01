{
  "cells": [
    {
      "cell_type": "code",
      "execution_count": 1,
      "metadata": {
        "id": "ORZgzk52GSAT"
      },
      "outputs": [],
      "source": [
        "import numpy as np\n",
        "import pandas as pd\n",
        "import matplotlib.pyplot as plt\n",
        "import seaborn as sns\n",
        "from keras.datasets import fashion_mnist\n",
        "import time"
      ]
    },
    {
      "cell_type": "code",
      "source": [
        "(x_train, y_train), (x_test, y_test) = fashion_mnist.load_data()"
      ],
      "metadata": {
        "colab": {
          "base_uri": "https://localhost:8080/"
        },
        "id": "T9-iyV5oy94Z",
        "outputId": "ea42d43e-ce2e-4a64-edf9-e92896a4aa05"
      },
      "execution_count": 2,
      "outputs": [
        {
          "output_type": "stream",
          "name": "stdout",
          "text": [
            "Downloading data from https://storage.googleapis.com/tensorflow/tf-keras-datasets/train-labels-idx1-ubyte.gz\n",
            "\u001b[1m29515/29515\u001b[0m \u001b[32m━━━━━━━━━━━━━━━━━━━━\u001b[0m\u001b[37m\u001b[0m \u001b[1m0s\u001b[0m 0us/step\n",
            "Downloading data from https://storage.googleapis.com/tensorflow/tf-keras-datasets/train-images-idx3-ubyte.gz\n",
            "\u001b[1m26421880/26421880\u001b[0m \u001b[32m━━━━━━━━━━━━━━━━━━━━\u001b[0m\u001b[37m\u001b[0m \u001b[1m0s\u001b[0m 0us/step\n",
            "Downloading data from https://storage.googleapis.com/tensorflow/tf-keras-datasets/t10k-labels-idx1-ubyte.gz\n",
            "\u001b[1m5148/5148\u001b[0m \u001b[32m━━━━━━━━━━━━━━━━━━━━\u001b[0m\u001b[37m\u001b[0m \u001b[1m0s\u001b[0m 0us/step\n",
            "Downloading data from https://storage.googleapis.com/tensorflow/tf-keras-datasets/t10k-images-idx3-ubyte.gz\n",
            "\u001b[1m4422102/4422102\u001b[0m \u001b[32m━━━━━━━━━━━━━━━━━━━━\u001b[0m\u001b[37m\u001b[0m \u001b[1m0s\u001b[0m 0us/step\n"
          ]
        }
      ]
    },
    {
      "cell_type": "code",
      "source": [
        "# Split validation set (10% of training data)\n",
        "val_size = int(0.1 * len(x_train))\n",
        "x_val, y_val = x_train[:val_size], y_train[:val_size]\n",
        "x_train, y_train = x_train[val_size:], y_train[val_size:]\n",
        "\n",
        "# Normalize inputs\n",
        "x_train = x_train.reshape(x_train.shape[0], -1) / 255.0\n",
        "x_val = x_val.reshape(x_val.shape[0], -1) / 255.0\n",
        "x_test = x_test.reshape(x_test.shape[0], -1) / 255.0"
      ],
      "metadata": {
        "id": "BeTHNHD3zOwS"
      },
      "execution_count": 3,
      "outputs": []
    },
    {
      "cell_type": "code",
      "source": [
        "y_train"
      ],
      "metadata": {
        "colab": {
          "base_uri": "https://localhost:8080/"
        },
        "id": "0YRHjFaqy9va",
        "outputId": "889e6db1-c41c-4a45-a4c5-d804eccb17cb"
      },
      "execution_count": 4,
      "outputs": [
        {
          "output_type": "execute_result",
          "data": {
            "text/plain": [
              "array([8, 6, 4, ..., 3, 0, 5], dtype=uint8)"
            ]
          },
          "metadata": {},
          "execution_count": 4
        }
      ]
    },
    {
      "cell_type": "code",
      "source": [],
      "metadata": {
        "id": "M6KcTRZyy9lf"
      },
      "execution_count": null,
      "outputs": []
    },
    {
      "cell_type": "code",
      "source": [],
      "metadata": {
        "id": "M9kos9zqy84O"
      },
      "execution_count": null,
      "outputs": []
    },
    {
      "cell_type": "code",
      "source": [
        "class NN:\n",
        "  def __init__(self,input_shape,output_shape,n_hidden_layers,h_per_layer,activation_func=\"relu\",loss_func=\"cross_entropy_loss\",init_type=\"random\"):\n",
        "    self.input_shape = input_shape\n",
        "    self.output_shape = output_shape\n",
        "    self.n_h = n_hidden_layers\n",
        "    self.k = h_per_layer\n",
        "    self.weights,self.biases = self.weight_init(init_type)\n",
        "    self.grad_weights = [0]*(self.n_h+1)\n",
        "    self.grad_biases = [0]*(self.n_h+1)\n",
        "    self.activation_func = activation_func\n",
        "    self.loss_func = loss_func\n",
        "  def activation(self,x):\n",
        "    if self.activation_func == \"relu\":\n",
        "      return np.maximum(0,x)\n",
        "    elif self.activation_func == \"tanh\":\n",
        "      return np.tanh(x)\n",
        "    elif self.activation_func == \"sigmoid\":\n",
        "      return 1/(1+np.exp(-x))\n",
        "  def activation_grad(self,x):\n",
        "    if self.activation_func == \"relu\":\n",
        "      return np.where(x>0,1,0)\n",
        "    elif self.activation_func == \"tanh\":\n",
        "      return 1-np.tanh(x)**2\n",
        "    elif self.activation_func == \"sigmoid\":\n",
        "      s = 1/(1+np.exp(-x))\n",
        "      return s*(1-s)\n",
        "  def softmax(self,x):\n",
        "    exp_x = np.exp(x - np.max(x, axis=0, keepdims=True))\n",
        "    return exp_x / np.sum(exp_x, axis=0, keepdims=True)\n",
        "  def transpose(self,w):\n",
        "    return np.array(w).T.tolist()\n",
        "  def one_hot(self,y):\n",
        "    ohe = np.zeros((len(y), self.output_shape))\n",
        "    for i in range(len(y)):\n",
        "      ohe[i][y[i]] = 1\n",
        "    return ohe\n",
        "  def loss(self,y_hat,y_true):\n",
        "    if self.loss_func == \"cross_entropy_loss\":\n",
        "      y_hat = np.array(y_hat)\n",
        "      y_true = np.array(y_true)\n",
        "      epsilon = 1e-10  # Prevent log(0)\n",
        "      return -np.sum(y_true * np.log(y_hat + epsilon)) / y_hat.shape[0]\n",
        "    elif self.loss_func == \"squared_error\":\n",
        "      return np.sum((y_hat-y_true)**2)\n",
        "  def accuracy(self,y_hat,y_true):\n",
        "    return np.sum(y_hat==y_true)/len(y_true)\n",
        "  def weight_init(self, init_type=\"random\"):\n",
        "    weights = []\n",
        "    biases = []\n",
        "    if init_type == \"random\":\n",
        "        weights.append(np.random.randn(self.input_shape, self.k))\n",
        "        biases.append(np.random.randn(self.k, 1))\n",
        "        for i in range(self.n_h - 1):\n",
        "            weights.append(np.random.randn(self.k, self.k))\n",
        "            biases.append(np.random.randn(self.k, 1))\n",
        "        weights.append(np.random.randn(self.k, self.output_shape))\n",
        "        biases.append(np.random.randn(self.output_shape, 1))\n",
        "    elif init_type == \"xavier\":\n",
        "        # Xavier Initialization\n",
        "        weights.append(np.random.randn(self.input_shape, self.k) * np.sqrt(2 / (self.input_shape + self.k)))\n",
        "        biases.append(np.zeros((self.k, 1)))  # Biases are usually initialized to 0\n",
        "        for i in range(self.n_h - 1):\n",
        "            weights.append(np.random.randn(self.k, self.k) * np.sqrt(2 / (self.k + self.k)))\n",
        "            biases.append(np.zeros((self.k, 1)))\n",
        "        weights.append(np.random.randn(self.k, self.output_shape) * np.sqrt(2 / (self.k + self.output_shape)))\n",
        "        biases.append(np.zeros((self.output_shape, 1)))\n",
        "    return weights, biases\n",
        "\n",
        "  def basic_optimizer(self, lr=0.001, beta1=0.9, beta2=0.999, epsilon=1e-8):\n",
        "    if not hasattr(self, \"m_weights\"):\n",
        "        # Initialize moment estimates as numpy arrays\n",
        "        self.m_weights = [np.zeros_like(w) for w in self.weights]\n",
        "        self.v_weights = [np.zeros_like(w) for w in self.weights]\n",
        "        self.m_biases = [np.zeros_like(b) for b in self.biases]\n",
        "        self.v_biases = [np.zeros_like(b) for b in self.biases]\n",
        "        self.t = 0  # Time step\n",
        "\n",
        "    self.t += 1  # Increment time step\n",
        "\n",
        "    for i in range(len(self.weights)):\n",
        "        # Convert gradients to numpy arrays\n",
        "        grad_w = np.array(self.grad_weights[i])\n",
        "        grad_b = np.array(self.grad_biases[i])\n",
        "\n",
        "        # Compute biased first moment estimate\n",
        "        self.m_weights[i] = beta1 * self.m_weights[i] + (1 - beta1) * grad_w\n",
        "        self.m_biases[i] = beta1 * self.m_biases[i] + (1 - beta1) * grad_b\n",
        "\n",
        "        # Compute biased second moment estimate\n",
        "        self.v_weights[i] = beta2 * self.v_weights[i] + (1 - beta2) * (grad_w ** 2)\n",
        "        self.v_biases[i] = beta2 * self.v_biases[i] + (1 - beta2) * (grad_b ** 2)\n",
        "\n",
        "        # Bias-corrected moment estimates\n",
        "        m_w_hat = self.m_weights[i] / (1 - beta1 ** self.t)\n",
        "        v_w_hat = self.v_weights[i] / (1 - beta2 ** self.t)\n",
        "        m_b_hat = self.m_biases[i] / (1 - beta1 ** self.t)\n",
        "        v_b_hat = self.v_biases[i] / (1 - beta2 ** self.t)\n",
        "\n",
        "        # Update weights and biases\n",
        "        self.weights[i] -= lr * m_w_hat / (np.sqrt(v_w_hat) + epsilon)\n",
        "        self.biases[i] -= lr * m_b_hat / (np.sqrt(v_b_hat) + epsilon)\n",
        "\n",
        "  def forward(self,x,y):\n",
        "    a_list = [0]*(self.n_h+2)\n",
        "    h_list = [0]*(self.n_h+2)\n",
        "    h = self.transpose(x)\n",
        "    h_list[0] = h\n",
        "    for i in range(self.n_h):\n",
        "      a_list[i+1] = np.dot(self.transpose(self.weights[i]),h_list[i])+self.biases[i] #biases are broadcasted\n",
        "      h_list[i+1] = self.activation(a_list[i+1])\n",
        "    a_list[self.n_h+1] = np.dot(self.transpose(self.weights[self.n_h]),h_list[self.n_h])+self.biases[self.n_h]\n",
        "    y_hat = self.transpose(self.softmax(a_list[self.n_h+1]))\n",
        "    h_list[self.n_h+1] = y_hat\n",
        "    return a_list,h_list\n",
        "  def backward(self,a_list,h_list,y):\n",
        "    a_grad_list = [0]*(self.n_h+2)\n",
        "    h_grad_list = [0]*(self.n_h+2)\n",
        "    y_hat = h_list[self.n_h+1]\n",
        "    if self.loss_func == \"cross_entropy_loss\": #gradient wrt output layer\n",
        "      a_grad = self.transpose(y_hat - self.one_hot(y))\n",
        "    elif self.loss_func == \"squared_error\":\n",
        "      a_grad = 2*(np.argmax(y_hat,axis=0) - y) #must be changed appropriately\n",
        "    a_grad_list[-1] = a_grad\n",
        "    for k in range(self.n_h,-1,-1): # gradient wrt hiddden layers\n",
        "      h_grad = np.dot(self.weights[k],a_grad_list[k+1])\n",
        "      h_grad_list[k] = h_grad\n",
        "      a_grad = np.multiply(h_grad,self.activation_grad(a_list[k]))\n",
        "      a_grad_list[k] = a_grad\n",
        "      self.grad_weights[k] = self.transpose(np.dot(a_grad_list[k+1],self.transpose(h_list[k]))) #gradients wrt parameters\n",
        "      self.grad_biases[k] = np.sum(a_grad_list[k+1],axis=1, keepdims=True)\n",
        "  def train(self,x_train,y_train,x_val,y_val,lr,epochs):\n",
        "    train_loss_list = []\n",
        "    train_acc_list = []\n",
        "    val_loss_list = []\n",
        "    val_acc_list = []\n",
        "    for i in range(epochs):\n",
        "      start = time.time()\n",
        "      a_list_train,h_list_train = self.forward(x_train,y_train) # forward pass\n",
        "      #print(\"forward pass done\")\n",
        "      self.backward(a_list_train,h_list_train,y_train) # backward pass\n",
        "      #print(\"backward pass done\")\n",
        "      self.basic_optimizer(lr=lr) # updating weights\n",
        "      #print(\"optimizer done\")\n",
        "      y_hat = h_list_train[self.n_h+1]\n",
        "      train_loss = self.loss(y_hat,self.one_hot(y_train))\n",
        "      train_acc = self.accuracy(np.argmax(np.array(y_hat),axis=1),y_train)\n",
        "      train_loss_list.append(train_loss)\n",
        "      train_acc_list.append(train_acc)\n",
        "      #print(\"Train Loss: \",train_loss,\"Train Accuracy: \",train_acc)\n",
        "      a_list_val,h_list_val = self.forward(x_val,y_val)\n",
        "      y_hat_val = h_list_val[self.n_h+1]\n",
        "      val_loss = self.loss(y_hat_val,self.one_hot(y_val))\n",
        "      val_acc = self.accuracy(np.argmax(np.array(y_hat_val),axis=1),y_val)\n",
        "      val_loss_list.append(val_loss)\n",
        "      val_acc_list.append(val_acc)\n",
        "      end = time.time()\n",
        "      print(f\"Epoch: {i+1} | Time: {(end-start):.2f} | Train Loss: {train_loss:.4f} | Train Accuracy: {train_acc:.4f} | Val Loss: {val_loss:.4f} | Val Accuracy: {val_acc:.4f}\")\n",
        "    return train_loss_list,train_acc_list,val_loss_list,val_acc_list"
      ],
      "metadata": {
        "id": "5BE2JhcCJoUV"
      },
      "execution_count": 5,
      "outputs": []
    },
    {
      "cell_type": "code",
      "source": [
        "# Hyperparameters\n",
        "num_hid_layers = 3\n",
        "hid_layer_size = 64  # Changeable number of layers\n",
        "weight_init = 'xavier'  # Options: 'random', 'xavier'\n",
        "activation = 'relu'  # Options: 'sigmoid', 'tanh', 'relu'\n",
        "#l2_reg = 0.0005  # L2 regularization strength\n",
        "lr = 1e-3  # Options: 1e-3, 1e-4\n",
        "#batch_size = 32  # Options: 16, 32, 64\n",
        "epochs = 20  # Options: 5, 10\n",
        "#optimizer = 'sgd'  # Options: 'sgd', 'momentum', 'nesterov', 'rmsprop', 'adam', 'nadam'\n",
        "loss_func = 'cross_entropy_loss'  # Options: 'cross_entropy_loss', 'squared_error'\n",
        "# self,input_shape,output_shape,n_hidden_layers,h_per_layer,activation_func=\"ReLU\",loss_func=\"cross_entropy_loss\"\n",
        "# Initialize and train the model\n",
        "nn = NN(input_shape=784,output_shape=10,n_hidden_layers=num_hid_layers, h_per_layer=hid_layer_size, activation_func=activation, init_type=weight_init, loss_func=loss_func)\n",
        "train_loss_list,train_acc_list,val_loss_list,val_acc_list = nn.train(x_train, y_train, x_val, y_val, epochs=epochs,lr=lr)"
      ],
      "metadata": {
        "colab": {
          "base_uri": "https://localhost:8080/"
        },
        "id": "lQgXsVYBy4XP",
        "outputId": "f95f2948-a2cc-4c7f-80df-a7581a2243d1"
      },
      "execution_count": 6,
      "outputs": [
        {
          "output_type": "stream",
          "name": "stdout",
          "text": [
            "Epoch: 1 | Time: 21.80 | Train Loss: 2.3226 | Train Accuracy: 0.1054 | Val Loss: 2.2301 | Val Accuracy: 0.1578\n",
            "Epoch: 2 | Time: 23.17 | Train Loss: 2.2344 | Train Accuracy: 0.1476 | Val Loss: 2.1716 | Val Accuracy: 0.2402\n",
            "Epoch: 3 | Time: 16.93 | Train Loss: 2.1774 | Train Accuracy: 0.2312 | Val Loss: 2.1180 | Val Accuracy: 0.2707\n",
            "Epoch: 4 | Time: 15.88 | Train Loss: 2.1247 | Train Accuracy: 0.2641 | Val Loss: 2.0607 | Val Accuracy: 0.2917\n",
            "Epoch: 5 | Time: 18.39 | Train Loss: 2.0678 | Train Accuracy: 0.2877 | Val Loss: 1.9966 | Val Accuracy: 0.3105\n",
            "Epoch: 6 | Time: 16.63 | Train Loss: 2.0043 | Train Accuracy: 0.3061 | Val Loss: 1.9282 | Val Accuracy: 0.3255\n",
            "Epoch: 7 | Time: 16.98 | Train Loss: 1.9365 | Train Accuracy: 0.3218 | Val Loss: 1.8579 | Val Accuracy: 0.3403\n",
            "Epoch: 8 | Time: 16.81 | Train Loss: 1.8663 | Train Accuracy: 0.3371 | Val Loss: 1.7853 | Val Accuracy: 0.3648\n",
            "Epoch: 9 | Time: 16.60 | Train Loss: 1.7941 | Train Accuracy: 0.3634 | Val Loss: 1.7105 | Val Accuracy: 0.4058\n",
            "Epoch: 10 | Time: 17.47 | Train Loss: 1.7196 | Train Accuracy: 0.4061 | Val Loss: 1.6340 | Val Accuracy: 0.4605\n",
            "Epoch: 11 | Time: 16.87 | Train Loss: 1.6435 | Train Accuracy: 0.4593 | Val Loss: 1.5568 | Val Accuracy: 0.5155\n",
            "Epoch: 12 | Time: 17.00 | Train Loss: 1.5667 | Train Accuracy: 0.5103 | Val Loss: 1.4802 | Val Accuracy: 0.5560\n",
            "Epoch: 13 | Time: 16.31 | Train Loss: 1.4899 | Train Accuracy: 0.5520 | Val Loss: 1.4037 | Val Accuracy: 0.5725\n",
            "Epoch: 14 | Time: 15.80 | Train Loss: 1.4130 | Train Accuracy: 0.5741 | Val Loss: 1.3275 | Val Accuracy: 0.5862\n",
            "Epoch: 15 | Time: 17.57 | Train Loss: 1.3362 | Train Accuracy: 0.5863 | Val Loss: 1.2538 | Val Accuracy: 0.5927\n",
            "Epoch: 16 | Time: 15.59 | Train Loss: 1.2620 | Train Accuracy: 0.5929 | Val Loss: 1.1852 | Val Accuracy: 0.6013\n",
            "Epoch: 17 | Time: 16.37 | Train Loss: 1.1930 | Train Accuracy: 0.5999 | Val Loss: 1.1222 | Val Accuracy: 0.6115\n",
            "Epoch: 18 | Time: 17.40 | Train Loss: 1.1295 | Train Accuracy: 0.6119 | Val Loss: 1.0654 | Val Accuracy: 0.6312\n",
            "Epoch: 19 | Time: 15.61 | Train Loss: 1.0721 | Train Accuracy: 0.6333 | Val Loss: 1.0145 | Val Accuracy: 0.6603\n",
            "Epoch: 20 | Time: 16.60 | Train Loss: 1.0209 | Train Accuracy: 0.6576 | Val Loss: 0.9685 | Val Accuracy: 0.6840\n"
          ]
        }
      ]
    },
    {
      "cell_type": "code",
      "source": [
        "plt.plot(train_acc_list)\n",
        "plt.plot(val_acc_list)\n",
        "#plt.plot(train_loss_list)\n",
        "#plt.plot(val_loss_list)\n",
        "plt.xlabel(\"Epochs\")\n",
        "plt.ylabel(\"Acc\")"
      ],
      "metadata": {
        "colab": {
          "base_uri": "https://localhost:8080/",
          "height": 466
        },
        "id": "_U3OP1_Yy4Tz",
        "outputId": "fdd4e682-3f5c-48df-c233-ca94c989dd19"
      },
      "execution_count": 9,
      "outputs": [
        {
          "output_type": "execute_result",
          "data": {
            "text/plain": [
              "Text(0, 0.5, 'Acc')"
            ]
          },
          "metadata": {},
          "execution_count": 9
        },
        {
          "output_type": "display_data",
          "data": {
            "text/plain": [
              "<Figure size 640x480 with 1 Axes>"
            ],
            "image/png": "[encoded data removed]"
          },
          "metadata": {}
        }
      ]
    },
    {
      "cell_type": "code",
      "source": [
        "plt.plot(train_loss_list)\n",
        "plt.plot(val_loss_list)\n",
        "plt.xlabel(\"Epochs\")\n",
        "plt.ylabel(\"Loss\")"
      ],
      "metadata": {
        "colab": {
          "base_uri": "https://localhost:8080/",
          "height": 193
        },
        "id": "jCTWrR1By4RA",
        "outputId": "6624b609-e640-42aa-d275-ce02a88b8de2"
      },
      "execution_count": 1,
      "outputs": [
        {
          "output_type": "error",
          "ename": "NameError",
          "evalue": "name 'plt' is not defined",
          "traceback": [
            "\u001b[0;31m---------------------------------------------------------------------------\u001b[0m",
            "\u001b[0;31mNameError\u001b[0m                                 Traceback (most recent call last)",
            "\u001b[0;32m<ipython-input-1-3eaddfd389ac>\u001b[0m in \u001b[0;36m<cell line: 0>\u001b[0;34m()\u001b[0m\n\u001b[0;32m----> 1\u001b[0;31m \u001b[0mplt\u001b[0m\u001b[0;34m.\u001b[0m\u001b[0mplot\u001b[0m\u001b[0;34m(\u001b[0m\u001b[0mtrain_loss_list\u001b[0m\u001b[0;34m)\u001b[0m\u001b[0;34m\u001b[0m\u001b[0;34m\u001b[0m\u001b[0m\n\u001b[0m\u001b[1;32m      2\u001b[0m \u001b[0mplt\u001b[0m\u001b[0;34m.\u001b[0m\u001b[0mplot\u001b[0m\u001b[0;34m(\u001b[0m\u001b[0mval_loss_list\u001b[0m\u001b[0;34m)\u001b[0m\u001b[0;34m\u001b[0m\u001b[0;34m\u001b[0m\u001b[0m\n\u001b[1;32m      3\u001b[0m \u001b[0mplt\u001b[0m\u001b[0;34m.\u001b[0m\u001b[0mxlabel\u001b[0m\u001b[0;34m(\u001b[0m\u001b[0;34m\"Epochs\"\u001b[0m\u001b[0;34m)\u001b[0m\u001b[0;34m\u001b[0m\u001b[0;34m\u001b[0m\u001b[0m\n\u001b[1;32m      4\u001b[0m \u001b[0mplt\u001b[0m\u001b[0;34m.\u001b[0m\u001b[0mylabel\u001b[0m\u001b[0;34m(\u001b[0m\u001b[0;34m\"Loss\"\u001b[0m\u001b[0;34m)\u001b[0m\u001b[0;34m\u001b[0m\u001b[0;34m\u001b[0m\u001b[0m\n",
            "\u001b[0;31mNameError\u001b[0m: name 'plt' is not defined"
          ]
        }
      ]
    },
    {
      "cell_type": "code",
      "source": [],
      "metadata": {
        "id": "S_IjmXtRy4OV"
      },
      "execution_count": null,
      "outputs": []
    },
    {
      "cell_type": "code",
      "source": [],
      "metadata": {
        "id": "5VGQ3r6Cy4Bi"
      },
      "execution_count": null,
      "outputs": []
    },
    {
      "cell_type": "code",
      "source": [],
      "metadata": {
        "id": "P8pNfdXxy3-M"
      },
      "execution_count": null,
      "outputs": []
    }
  ],
  "metadata": {
    "kernelspec": {
      "display_name": "Python 3",
      "name": "python3"
    },
    "language_info": {
      "codemirror_mode": {
        "name": "ipython",
        "version": 3
      },
      "file_extension": ".py",
      "mimetype": "text/x-python",
      "name": "python",
      "nbconvert_exporter": "python",
      "pygments_lexer": "ipython3",
      "version": "3.12.2"
    },
    "colab": {
      "provenance": [],
      "gpuType": "T4"
    }
  },
  "nbformat": 4,
  "nbformat_minor": 0
}