{
  "cells": [
    {
      "cell_type": "code",
      "execution_count": 3,
      "metadata": {
        "id": "ORZgzk52GSAT"
      },
      "outputs": [],
      "source": [
        "import numpy as np\n",
        "import pandas as pd\n",
        "import matplotlib.pyplot as plt\n",
        "import seaborn as sns\n",
        "from keras.datasets import fashion_mnist\n",
        "import time\n",
        "import pickle"
      ]
    },
    {
      "cell_type": "code",
      "source": [
        "import wandb\n",
        "wandb.login()\n",
        "#API Key: f659082c2b19bf3ffaaceceb36c1e280541f6b11"
      ],
      "metadata": {
        "colab": {
          "base_uri": "https://localhost:8080/"
        },
        "id": "yFML75noWRV3",
        "outputId": "58478fac-5de6-40db-d30a-bc1f26e91ad8"
      },
      "execution_count": 4,
      "outputs": [
        {
          "output_type": "stream",
          "name": "stderr",
          "text": [
            "\u001b[34m\u001b[1mwandb\u001b[0m: Using wandb-core as the SDK backend.  Please refer to https://wandb.me/wandb-core for more information.\n",
            "\u001b[34m\u001b[1mwandb\u001b[0m: Currently logged in as: \u001b[33myeshu183\u001b[0m (\u001b[33myeshu183-indian-institute-of-technology-madras\u001b[0m) to \u001b[32mhttps://api.wandb.ai\u001b[0m. Use \u001b[1m`wandb login --relogin`\u001b[0m to force relogin\n"
          ]
        },
        {
          "output_type": "execute_result",
          "data": {
            "text/plain": [
              "True"
            ]
          },
          "metadata": {},
          "execution_count": 4
        }
      ]
    },
    {
      "cell_type": "code",
      "source": [
        "(x_train, y_train), (x_test, y_test) = fashion_mnist.load_data()"
      ],
      "metadata": {
        "id": "T9-iyV5oy94Z"
      },
      "execution_count": 5,
      "outputs": []
    },
    {
      "cell_type": "code",
      "source": [
        "# Split validation set (10% of training data)\n",
        "val_size = int(0.1 * len(x_train))\n",
        "x_val, y_val = x_train[:val_size], y_train[:val_size]\n",
        "x_train, y_train = x_train[val_size:], y_train[val_size:]\n",
        "\n",
        "# Normalize inputs\n",
        "x_train = x_train.reshape(x_train.shape[0], -1) / 255.0\n",
        "x_val = x_val.reshape(x_val.shape[0], -1) / 255.0\n",
        "x_test = x_test.reshape(x_test.shape[0], -1) / 255.0"
      ],
      "metadata": {
        "id": "BeTHNHD3zOwS"
      },
      "execution_count": 6,
      "outputs": []
    },
    {
      "cell_type": "code",
      "source": [
        "y_train"
      ],
      "metadata": {
        "colab": {
          "base_uri": "https://localhost:8080/"
        },
        "id": "0YRHjFaqy9va",
        "outputId": "93b62736-60a5-47b7-960c-ba3d0050949b"
      },
      "execution_count": 5,
      "outputs": [
        {
          "output_type": "execute_result",
          "data": {
            "text/plain": [
              "array([8, 6, 4, ..., 3, 0, 5], dtype=uint8)"
            ]
          },
          "metadata": {},
          "execution_count": 5
        }
      ]
    },
    {
      "cell_type": "code",
      "source": [],
      "metadata": {
        "id": "M6KcTRZyy9lf"
      },
      "execution_count": 5,
      "outputs": []
    },
    {
      "cell_type": "code",
      "source": [
        "class Optimizers:\n",
        "    def __init__(self, lr=1e-3, epsilon=1e-8, beta1=0.9, beta2=0.999, rho=0.9, optimizer=\"adam\"):\n",
        "        self.lr = lr\n",
        "        self.epsilon = epsilon\n",
        "        self.beta1 = beta1\n",
        "        self.beta2 = beta2\n",
        "        self.rho = rho\n",
        "        self.optimizer = optimizer  # Store optimizer type\n",
        "\n",
        "        self.v, self.s, self.m = {}, {}, {}  # Optimizer state\n",
        "        self.t = 0  # Time step for Adam/Nadam\n",
        "\n",
        "    def _initialize_params(self, key, shape):\n",
        "        \"\"\"Initialize optimizer states for a given parameter key\"\"\"\n",
        "        if key not in self.v:\n",
        "            self.v[key] = np.zeros(shape)\n",
        "            self.s[key] = np.zeros(shape)\n",
        "            self.m[key] = np.zeros(shape)\n",
        "\n",
        "    def step(self, w, b, dw, db, key=\"w\"):\n",
        "        \"\"\"Generic function to perform an optimization step based on selected optimizer\"\"\"\n",
        "        self._initialize_params(key, w.shape)\n",
        "        self.t += 1  # Increment time step\n",
        "\n",
        "        if self.optimizer == \"sgd\":\n",
        "            w -= self.lr * dw\n",
        "            b -= self.lr * db\n",
        "\n",
        "        elif self.optimizer == \"momentum\":\n",
        "            self.v[key] = self.beta1 * self.v[key] - self.lr * dw\n",
        "            w += self.v[key]\n",
        "            b -= self.lr * db\n",
        "\n",
        "        elif self.optimizer == \"nesterov\":\n",
        "            prev_v = self.v[key]\n",
        "            self.v[key] = self.beta1 * self.v[key] - self.lr * dw\n",
        "            w += -self.beta1 * prev_v + (1 + self.beta1) * self.v[key]\n",
        "            b -= self.lr * db\n",
        "\n",
        "        elif self.optimizer == \"rmsprop\":\n",
        "            self.s[key] = self.rho * self.s[key] + (1 - self.rho) * (dw ** 2)\n",
        "            w -= self.lr * dw / (np.sqrt(self.s[key]) + self.epsilon)\n",
        "            b -= self.lr * db\n",
        "\n",
        "        elif self.optimizer == \"adam\":\n",
        "            self.m[key] = self.beta1 * self.m[key] + (1 - self.beta1) * dw\n",
        "            self.s[key] = self.beta2 * self.s[key] + (1 - self.beta2) * (dw ** 2)\n",
        "            m_hat = self.m[key] / (1 - self.beta1 ** self.t)\n",
        "            s_hat = self.s[key] / (1 - self.beta2 ** self.t)\n",
        "            w -= self.lr * m_hat / (np.sqrt(s_hat) + self.epsilon)\n",
        "            b -= self.lr * db\n",
        "\n",
        "        return w, b"
      ],
      "metadata": {
        "id": "M9kos9zqy84O"
      },
      "execution_count": 7,
      "outputs": []
    },
    {
      "cell_type": "code",
      "source": [
        "class NN:\n",
        "  def __init__(self,input_shape,output_shape,n_hidden_layers,h_per_layer,optimizer,activation_func=\"relu\",loss_func=\"cross_entropy_loss\",init_type=\"random\",l2_reg=0):\n",
        "    self.input_shape = input_shape\n",
        "    self.output_shape = output_shape\n",
        "    self.n_h = n_hidden_layers\n",
        "    self.k = h_per_layer\n",
        "    self.weights,self.biases = self.weight_init(init_type)\n",
        "    self.optimizer_function = optimizer\n",
        "    self.grad_weights = [0]*(self.n_h+1)\n",
        "    self.grad_biases = [0]*(self.n_h+1)\n",
        "    self.activation_func = activation_func\n",
        "    self.loss_func = loss_func\n",
        "    self.l2_reg = l2_reg\n",
        "  def activation(self,x):\n",
        "    if self.activation_func == \"relu\":\n",
        "      return np.maximum(0,x)\n",
        "    elif self.activation_func == \"tanh\":\n",
        "      return np.tanh(x)\n",
        "    elif self.activation_func == \"sigmoid\":\n",
        "      return 1/(1+np.exp(-x))\n",
        "  def activation_grad(self,x):\n",
        "    if self.activation_func == \"relu\":\n",
        "      return np.where(x>0,1,0)\n",
        "    elif self.activation_func == \"tanh\":\n",
        "      return 1-np.tanh(x)**2\n",
        "    elif self.activation_func == \"sigmoid\":\n",
        "      s = 1/(1+np.exp(-x))\n",
        "      return s*(1-s)\n",
        "  def softmax(self,x):\n",
        "    exp_x = np.exp(x - np.max(x, axis=0, keepdims=True))\n",
        "    return exp_x / np.sum(exp_x, axis=0, keepdims=True)\n",
        "  def one_hot(self,y):\n",
        "    ohe = np.zeros((len(y), self.output_shape))\n",
        "    for i in range(len(y)):\n",
        "      ohe[i][y[i]] = 1\n",
        "    return ohe\n",
        "  def loss(self,y_hat,y_true):\n",
        "    if self.loss_func == \"cross_entropy_loss\":\n",
        "      y_hat = np.array(y_hat)\n",
        "      y_true = np.array(y_true)\n",
        "      epsilon = 1e-10  # Prevent log(0)\n",
        "      return -np.sum(y_true * np.log(y_hat + epsilon)) / y_hat.shape[0]\n",
        "    elif self.loss_func == \"squared_error\":\n",
        "      diff = y_hat - y_true\n",
        "      squared_diff = diff**2\n",
        "      mse = np.mean(squared_diff)\n",
        "      return mse\n",
        "  def accuracy(self,y_hat,y_true):\n",
        "    return np.sum(y_hat==y_true)/len(y_true)\n",
        "  def weight_init(self, init_type=\"random\"):\n",
        "    weights = []\n",
        "    biases = []\n",
        "    if init_type == \"random\":\n",
        "        weights.append(np.random.randn(self.input_shape, self.k))\n",
        "        biases.append(np.random.randn(self.k, 1))\n",
        "        for i in range(self.n_h - 1):\n",
        "            weights.append(np.random.randn(self.k, self.k))\n",
        "            biases.append(np.random.randn(self.k, 1))\n",
        "        weights.append(np.random.randn(self.k, self.output_shape))\n",
        "        biases.append(np.random.randn(self.output_shape, 1))\n",
        "    elif init_type == \"xavier\":\n",
        "        # Xavier Initialization\n",
        "        weights.append(np.random.randn(self.input_shape, self.k) * np.sqrt(2 / (self.input_shape + self.k)))\n",
        "        biases.append(np.zeros((self.k, 1)))  # Biases are usually initialized to 0\n",
        "        for i in range(self.n_h - 1):\n",
        "            weights.append(np.random.randn(self.k, self.k) * np.sqrt(2 / (self.k + self.k)))\n",
        "            biases.append(np.zeros((self.k, 1)))\n",
        "        weights.append(np.random.randn(self.k, self.output_shape) * np.sqrt(2 / (self.k + self.output_shape)))\n",
        "        biases.append(np.zeros((self.output_shape, 1)))\n",
        "    return weights, biases\n",
        "\n",
        "  def update_parameters(self):\n",
        "    for i in range(len(self.weights)):\n",
        "      grad_w = np.array(self.grad_weights[i])\n",
        "      grad_b = np.array(self.grad_biases[i])\n",
        "      self.weights[i], self.biases[i] = self.optimizer_function.step(\n",
        "              self.weights[i], self.biases[i],grad_w,grad_b,key=f\"layer_{i}\")\n",
        "\n",
        "  def forward(self,x):\n",
        "    a_list = [0]*(self.n_h+2)\n",
        "    h_list = [0]*(self.n_h+2)\n",
        "    h = x.T\n",
        "    h_list[0] = h\n",
        "    for i in range(self.n_h):\n",
        "      a_list[i+1] = np.dot(self.weights[i].T,h_list[i])+self.biases[i] #biases are broadcasted\n",
        "      h_list[i+1] = self.activation(a_list[i+1])\n",
        "    a_list[self.n_h+1] = np.dot(self.weights[self.n_h].T,h_list[self.n_h])+self.biases[self.n_h]\n",
        "    y_hat = self.softmax(a_list[self.n_h+1]).T\n",
        "    h_list[self.n_h+1] = y_hat\n",
        "    return a_list,h_list\n",
        "  def backward(self,a_list,h_list,y):\n",
        "    a_grad_list = [0]*(self.n_h+2)\n",
        "    h_grad_list = [0]*(self.n_h+2)\n",
        "    y_hat = h_list[self.n_h+1]\n",
        "    if self.loss_func == \"cross_entropy_loss\": #gradient wrt output layer\n",
        "      a_grad = (y_hat - self.one_hot(y)).T\n",
        "    elif self.loss_func == \"squared_error\":\n",
        "      #a_grad = (y_hat - self.one_hot(y)).T\n",
        "      a_grad = (2*(y_hat - self.one_hot(y))*y_hat*(1-y_hat)).T #must be changed appropriately\n",
        "    a_grad_list[-1] = a_grad/y_hat.shape[0]\n",
        "    for k in range(self.n_h,-1,-1): # gradient wrt hiddden layers\n",
        "      h_grad = np.dot(self.weights[k],a_grad_list[k+1])\n",
        "      h_grad_list[k] = h_grad\n",
        "      a_grad = np.multiply(h_grad,self.activation_grad(a_list[k]))\n",
        "      a_grad_list[k] = a_grad\n",
        "      self.grad_weights[k] = np.dot(a_grad_list[k+1],h_list[k].T).T + + self.l2_reg * self.weights[k] #gradients wrt parameters\n",
        "      self.grad_biases[k] = np.sum(a_grad_list[k+1],axis=1, keepdims=True)\n",
        "  def predict(self,x):\n",
        "    a_list,h_list = self.forward(x)\n",
        "    return np.argmax(h_list[self.n_h+1],axis=0)\n",
        "  def train(self,x_train,y_train,x_val,y_val,epochs=10,batch_size=32):\n",
        "    train_loss_list = []\n",
        "    train_acc_list = []\n",
        "    val_loss_list = []\n",
        "    val_acc_list = []\n",
        "    for i in range(epochs):\n",
        "      start = time.time()\n",
        "      indices = np.arange(len(x_train))\n",
        "      np.random.shuffle(indices)\n",
        "      per_epoch_loss = []\n",
        "      per_epoch_acc = []\n",
        "      for j in range(0,len(x_train),batch_size):\n",
        "        #startf = time.time()\n",
        "        batch_indices = indices[j:j+batch_size]\n",
        "        x_batch = x_train[batch_indices]\n",
        "        y_batch = y_train[batch_indices]\n",
        "        a_list_train,h_list_train = self.forward(x_batch) # forward pass\n",
        "        #end_time_f = time.time()\n",
        "        #startb = time.time()\n",
        "        #print(\"forward pass done\")\n",
        "        self.backward(a_list_train,h_list_train,y_batch) # backward pass\n",
        "        #end_time_b = time.time()\n",
        "        #starto = time.time()\n",
        "        #print(\"backward pass done\")\n",
        "        self.update_parameters()\n",
        "        #self.optimizer_function(lr=lr) # updating weights\n",
        "        #end_time_o = time.time()\n",
        "        #print(\"optimizer done\")\n",
        "        y_hat = h_list_train[self.n_h+1]\n",
        "        per_epoch_loss.append(self.loss(y_hat,self.one_hot(y_batch)))\n",
        "        per_epoch_acc.append(self.accuracy(np.argmax(np.array(y_hat),axis=1),y_batch))\n",
        "      train_loss = np.mean(per_epoch_loss)\n",
        "      train_acc = np.mean(per_epoch_acc)\n",
        "      train_loss_list.append(train_loss)\n",
        "      train_acc_list.append(train_acc)\n",
        "      #print(f\"Epoch: {i+1} | Batch: {j+1}/{len(x_train)} | f_time: {(end_time_f-startf): .6f} | b_time:{(end_time_b-startb): .6f} | o_time:{(end_time_o-starto): .6f}\")\n",
        "      #print(\"Train Loss: \",train_loss,\"Train Accuracy: \",train_acc)\n",
        "      a_list_val,h_list_val = self.forward(x_val)\n",
        "      y_hat_val = h_list_val[self.n_h+1]\n",
        "      val_loss = self.loss(y_hat_val,self.one_hot(y_val))\n",
        "      val_acc = self.accuracy(np.argmax(np.array(y_hat_val),axis=1),y_val)\n",
        "      val_loss_list.append(val_loss)\n",
        "      val_acc_list.append(val_acc)\n",
        "      end = time.time()\n",
        "      # Log metrics\n",
        "      wandb.log({\n",
        "          \"train_loss\": train_loss,\n",
        "          \"train_acc\": train_acc,\n",
        "          \"val_loss\": val_loss,\n",
        "          \"val_acc\": val_acc,\n",
        "          \"epoch\": i+1\n",
        "      })\n",
        "      print(f\"Epoch: {i+1} | Time: {(end-start):.2f} | Train Loss: {train_loss:.4f} | Train Accuracy: {train_acc:.4f} | Val Loss: {val_loss:.4f} | Val Accuracy: {val_acc:.4f}\")\n",
        "    return train_loss_list,train_acc_list,val_loss_list,val_acc_list"
      ],
      "metadata": {
        "id": "5BE2JhcCJoUV"
      },
      "execution_count": 23,
      "outputs": []
    },
    {
      "cell_type": "code",
      "source": [
        "wandb.finish()\n",
        "wandb.init(project=\"Example_run\")\n",
        "# Hyperparameters\n",
        "num_hid_layers = 3 #3,4,5\n",
        "hid_layer_size = 64  # Changeable number of layers\n",
        "weight_init = 'xavier'  # Options: 'random', 'xavier'\n",
        "activation = 'relu'  # Options: 'sigmoid', 'tanh', 'relu'\n",
        "l2_reg = 0.05  # L2 regularization strength\n",
        "lr = 1e-3  # Options: 1e-3, 1e-4\n",
        "batch_size = 64  # Options: 16, 32, 64\n",
        "epochs = 3  # Options: 5, 10\n",
        "optimizer_func = 'sgd'  # Options: 'sgd', 'momentum', 'nesterov', 'rmsprop', 'adam'\n",
        "loss_func = \"squared_error\"  # Options: 'cross_entropy_loss', 'squared_error'\n",
        "# self,input_shape,output_shape,n_hidden_layers,h_per_layer,activation_func=\"ReLU\",loss_func=\"cross_entropy_loss\"\n",
        "# Initialize and train the model\n",
        "optimizer = Optimizers(lr=lr, beta1=0.9, beta2=0.999, rho=0.9, optimizer=optimizer_func)\n",
        "nn = NN(input_shape=784,output_shape=10,n_hidden_layers=num_hid_layers, h_per_layer=hid_layer_size, activation_func=activation, init_type=weight_init, loss_func=loss_func,l2_reg=l2_reg,optimizer=optimizer)\n",
        "train_loss_list,train_acc_list,val_loss_list,val_acc_list = nn.train(x_train, y_train, x_val, y_val, epochs=epochs,batch_size=batch_size)\n",
        "wandb.finish()"
      ],
      "metadata": {
        "colab": {
          "base_uri": "https://localhost:8080/",
          "height": 624
        },
        "id": "lQgXsVYBy4XP",
        "outputId": "aa4bfeb3-881a-4829-cccd-514c899b26f0"
      },
      "execution_count": 24,
      "outputs": [
        {
          "output_type": "display_data",
          "data": {
            "text/plain": [
              "<IPython.core.display.HTML object>"
            ],
            "text/html": [
              "Tracking run with wandb version 0.19.8"
            ]
          },
          "metadata": {}
        },
        {
          "output_type": "display_data",
          "data": {
            "text/plain": [
              "<IPython.core.display.HTML object>"
            ],
            "text/html": [
              "Run data is saved locally in <code>/content/wandb/run-20250317_123529-1vpif3y9</code>"
            ]
          },
          "metadata": {}
        },
        {
          "output_type": "display_data",
          "data": {
            "text/plain": [
              "<IPython.core.display.HTML object>"
            ],
            "text/html": [
              "Syncing run <strong><a href='https://wandb.ai/yeshu183-indian-institute-of-technology-madras/Example_run/runs/1vpif3y9' target=\"_blank\">silvery-hill-26</a></strong> to <a href='https://wandb.ai/yeshu183-indian-institute-of-technology-madras/Example_run' target=\"_blank\">Weights & Biases</a> (<a href='https://wandb.me/developer-guide' target=\"_blank\">docs</a>)<br>"
            ]
          },
          "metadata": {}
        },
        {
          "output_type": "display_data",
          "data": {
            "text/plain": [
              "<IPython.core.display.HTML object>"
            ],
            "text/html": [
              " View project at <a href='https://wandb.ai/yeshu183-indian-institute-of-technology-madras/Example_run' target=\"_blank\">https://wandb.ai/yeshu183-indian-institute-of-technology-madras/Example_run</a>"
            ]
          },
          "metadata": {}
        },
        {
          "output_type": "display_data",
          "data": {
            "text/plain": [
              "<IPython.core.display.HTML object>"
            ],
            "text/html": [
              " View run at <a href='https://wandb.ai/yeshu183-indian-institute-of-technology-madras/Example_run/runs/1vpif3y9' target=\"_blank\">https://wandb.ai/yeshu183-indian-institute-of-technology-madras/Example_run/runs/1vpif3y9</a>"
            ]
          },
          "metadata": {}
        },
        {
          "output_type": "stream",
          "name": "stdout",
          "text": [
            "Epoch: 1 | Time: 4.85 | Train Loss: 0.0896 | Train Accuracy: 0.1234 | Val Loss: 0.0887 | Val Accuracy: 0.1583\n",
            "Epoch: 2 | Time: 2.98 | Train Loss: 0.0881 | Train Accuracy: 0.1972 | Val Loss: 0.0875 | Val Accuracy: 0.2353\n",
            "Epoch: 3 | Time: 2.59 | Train Loss: 0.0871 | Train Accuracy: 0.2588 | Val Loss: 0.0865 | Val Accuracy: 0.2980\n"
          ]
        },
        {
          "output_type": "display_data",
          "data": {
            "text/plain": [
              "<IPython.core.display.HTML object>"
            ],
            "text/html": []
          },
          "metadata": {}
        },
        {
          "output_type": "display_data",
          "data": {
            "text/plain": [
              "<IPython.core.display.HTML object>"
            ],
            "text/html": [
              "<br>    <style><br>        .wandb-row {<br>            display: flex;<br>            flex-direction: row;<br>            flex-wrap: wrap;<br>            justify-content: flex-start;<br>            width: 100%;<br>        }<br>        .wandb-col {<br>            display: flex;<br>            flex-direction: column;<br>            flex-basis: 100%;<br>            flex: 1;<br>            padding: 10px;<br>        }<br>    </style><br><div class=\"wandb-row\"><div class=\"wandb-col\"><h3>Run history:</h3><br/><table class=\"wandb\"><tr><td>epoch</td><td>▁▅█</td></tr><tr><td>train_acc</td><td>▁▅█</td></tr><tr><td>train_loss</td><td>█▄▁</td></tr><tr><td>val_acc</td><td>▁▅█</td></tr><tr><td>val_loss</td><td>█▄▁</td></tr></table><br/></div><div class=\"wandb-col\"><h3>Run summary:</h3><br/><table class=\"wandb\"><tr><td>epoch</td><td>3</td></tr><tr><td>train_acc</td><td>0.25881</td></tr><tr><td>train_loss</td><td>0.08712</td></tr><tr><td>val_acc</td><td>0.298</td></tr><tr><td>val_loss</td><td>0.08653</td></tr></table><br/></div></div>"
            ]
          },
          "metadata": {}
        },
        {
          "output_type": "display_data",
          "data": {
            "text/plain": [
              "<IPython.core.display.HTML object>"
            ],
            "text/html": [
              " View run <strong style=\"color:#cdcd00\">silvery-hill-26</strong> at: <a href='https://wandb.ai/yeshu183-indian-institute-of-technology-madras/Example_run/runs/1vpif3y9' target=\"_blank\">https://wandb.ai/yeshu183-indian-institute-of-technology-madras/Example_run/runs/1vpif3y9</a><br> View project at: <a href='https://wandb.ai/yeshu183-indian-institute-of-technology-madras/Example_run' target=\"_blank\">https://wandb.ai/yeshu183-indian-institute-of-technology-madras/Example_run</a><br>Synced 5 W&B file(s), 0 media file(s), 0 artifact file(s) and 0 other file(s)"
            ]
          },
          "metadata": {}
        },
        {
          "output_type": "display_data",
          "data": {
            "text/plain": [
              "<IPython.core.display.HTML object>"
            ],
            "text/html": [
              "Find logs at: <code>./wandb/run-20250317_123529-1vpif3y9/logs</code>"
            ]
          },
          "metadata": {}
        }
      ]
    },
    {
      "cell_type": "code",
      "source": [
        "# Initialize Weights & Biases (wandb)\n",
        "wandb.finish()\n",
        "best_val_acc = 0\n",
        "\n",
        "# nn = NN(input_shape=784,output_shape=10,n_hidden_layers=num_hid_layers, h_per_layer=hid_layer_size, activation_func=activation, init_type=weight_init, loss_func=loss_func,l2_reg=l2_reg)\n",
        "# train_loss_list,train_acc_list,val_loss_list,val_acc_list = nn.train(x_train, y_train, x_val, y_val, epochs=epochs,lr=lr,batch_size=batch_size)\n",
        "\n",
        "# Define sweep configuration\n",
        "sweep_config = {\n",
        "    'method': 'bayes',  # Options: grid, random, bayes\n",
        "    'metric': {'name': 'final_val_acc', 'goal': 'maximize'},\n",
        "    'parameters': {\n",
        "        'loss_func': {'values': ['cross_entropy_loss','squared_error']},#, 'squared_error'\n",
        "        'epochs': {'values': [5,10]},\n",
        "        'num_hid_layers': {'values': [3, 4, 5]},\n",
        "        'hid_layer_size': {'values': [32,64,128]},\n",
        "        'lr': {'values': [1e-3, 1e-4]},\n",
        "        'weight_init': {'values': ['random', 'xavier']},\n",
        "        'activation': {'values': ['sigmoid', 'tanh', 'relu']},\n",
        "        'l2_reg': {'values': [0, 0.0005, 0.5]},\n",
        "        'batch_size': {'values': [16, 32, 64]},\n",
        "        'optimizer_func': {'values': ['sgd','momentum', 'nesterov', 'rmsprop', 'adam']}\n",
        "    }\n",
        "}\n",
        "\n",
        "sweep_id = wandb.sweep(sweep_config, project=\"New Sweep\")\n",
        "\n",
        "def train_sweep():\n",
        "    global best_val_acc\n",
        "    wandb.init(project=\"New Sweep\")\n",
        "    config = wandb.config\n",
        "    wandb.run.name = f\"e_{config.epochs}_hl_{config.num_hid_layers}_nhpl_{config.hid_layer_size}_bs_{config.batch_size}_init_{config.weight_init}_ac_{config.activation}_op_{config.optimizer_func}_lo_{config.loss_func}\"\n",
        "    optimizer = Optimizers(lr=config.lr, beta1=0.9, beta2=0.999, rho=0.9, optimizer=config.optimizer_func)\n",
        "    nn = NN(\n",
        "        input_shape=784,\n",
        "        n_hidden_layers=config.num_hid_layers,\n",
        "        h_per_layer=config.hid_layer_size,\n",
        "        activation_func=config.activation,\n",
        "        init_type=config.weight_init,\n",
        "        l2_reg=config.l2_reg,\n",
        "        optimizer=optimizer,\n",
        "        loss_func=config.loss_func,\n",
        "        output_shape=10\n",
        "    )\n",
        "\n",
        "    train_loss_list,train_acc_list,val_loss_list,val_acc_list = nn.train(x_train, y_train, x_val, y_val, epochs=config.epochs, batch_size=config.batch_size)\n",
        "\n",
        "    a_list_val,h_list_val = nn.forward(x_val)\n",
        "    y_hat_val = h_list_val[nn.n_h+1]\n",
        "    final_val_loss = nn.loss(y_hat_val,nn.one_hot(y_val))\n",
        "    final_val_acc = nn.accuracy(np.argmax(np.array(y_hat_val),axis=1),y_val)\n",
        "    wandb.log({\"train_loss\": train_loss_list})\n",
        "    wandb.log({\"train_acc\": train_acc_list})\n",
        "    wandb.log({\"val_loss\": val_loss_list})\n",
        "    wandb.log({\"val_acc\": val_acc_list})\n",
        "    wandb.log({\"final_val_loss\": final_val_loss})\n",
        "    wandb.log({\"final_val_acc\": final_val_acc})\n",
        "    print(f\"Validation Loss: {final_val_loss:.4f}, Validation Accuracy: {final_val_acc:.4f}\")\n",
        "    if final_val_acc > best_val_acc:\n",
        "        best_val_acc = final_val_acc\n",
        "        with open(\"best_model.pkl\", \"wb\") as f:\n",
        "            pickle.dump(nn, f)  # Save the entire model object\n",
        "        wandb.save(\"best_model.pkl\")  # Save to W&B cloud storage\n",
        "        print(\"Best model updated!\")\n",
        "\n",
        "wandb.agent(sweep_id, function=train_sweep,count=100)\n",
        "wandb.finish()"
      ],
      "metadata": {
        "colab": {
          "base_uri": "https://localhost:8080/",
          "height": 1000
        },
        "id": "L4rH1muGQpM5",
        "outputId": "1cf00523-ff79-4d1e-aabf-ef3b4bdf02bc"
      },
      "execution_count": null,
      "outputs": [
        {
          "output_type": "stream",
          "name": "stdout",
          "text": [
            "Create sweep with ID: surnww5r\n",
            "Sweep URL: https://wandb.ai/yeshu183-indian-institute-of-technology-madras/New%20Sweep/sweeps/surnww5r\n"
          ]
        },
        {
          "output_type": "stream",
          "name": "stderr",
          "text": [
            "\u001b[34m\u001b[1mwandb\u001b[0m: Agent Starting Run: 2layq9u9 with config:\n",
            "\u001b[34m\u001b[1mwandb\u001b[0m: \tactivation: sigmoid\n",
            "\u001b[34m\u001b[1mwandb\u001b[0m: \tbatch_size: 32\n",
            "\u001b[34m\u001b[1mwandb\u001b[0m: \tepochs: 5\n",
            "\u001b[34m\u001b[1mwandb\u001b[0m: \thid_layer_size: 32\n",
            "\u001b[34m\u001b[1mwandb\u001b[0m: \tl2_reg: 0.0005\n",
            "\u001b[34m\u001b[1mwandb\u001b[0m: \tloss_func: cross_entropy_loss\n",
            "\u001b[34m\u001b[1mwandb\u001b[0m: \tlr: 0.001\n",
            "\u001b[34m\u001b[1mwandb\u001b[0m: \tnum_hid_layers: 4\n",
            "\u001b[34m\u001b[1mwandb\u001b[0m: \toptimizer_func: nesterov\n",
            "\u001b[34m\u001b[1mwandb\u001b[0m: \tweight_init: xavier\n"
          ]
        },
        {
          "output_type": "display_data",
          "data": {
            "text/plain": [
              "<IPython.core.display.HTML object>"
            ],
            "text/html": [
              "Ignoring project 'New Sweep' when running a sweep."
            ]
          },
          "metadata": {}
        },
        {
          "output_type": "display_data",
          "data": {
            "text/plain": [
              "<IPython.core.display.HTML object>"
            ],
            "text/html": [
              "Tracking run with wandb version 0.19.8"
            ]
          },
          "metadata": {}
        },
        {
          "output_type": "display_data",
          "data": {
            "text/plain": [
              "<IPython.core.display.HTML object>"
            ],
            "text/html": [
              "Run data is saved locally in <code>/content/wandb/run-20250317_123651-2layq9u9</code>"
            ]
          },
          "metadata": {}
        },
        {
          "output_type": "display_data",
          "data": {
            "text/plain": [
              "<IPython.core.display.HTML object>"
            ],
            "text/html": [
              "Syncing run <strong><a href='https://wandb.ai/yeshu183-indian-institute-of-technology-madras/New%20Sweep/runs/2layq9u9' target=\"_blank\">revived-sweep-1</a></strong> to <a href='https://wandb.ai/yeshu183-indian-institute-of-technology-madras/New%20Sweep' target=\"_blank\">Weights & Biases</a> (<a href='https://wandb.me/developer-guide' target=\"_blank\">docs</a>)<br>Sweep page: <a href='https://wandb.ai/yeshu183-indian-institute-of-technology-madras/New%20Sweep/sweeps/surnww5r' target=\"_blank\">https://wandb.ai/yeshu183-indian-institute-of-technology-madras/New%20Sweep/sweeps/surnww5r</a>"
            ]
          },
          "metadata": {}
        },
        {
          "output_type": "display_data",
          "data": {
            "text/plain": [
              "<IPython.core.display.HTML object>"
            ],
            "text/html": [
              " View project at <a href='https://wandb.ai/yeshu183-indian-institute-of-technology-madras/New%20Sweep' target=\"_blank\">https://wandb.ai/yeshu183-indian-institute-of-technology-madras/New%20Sweep</a>"
            ]
          },
          "metadata": {}
        },
        {
          "output_type": "display_data",
          "data": {
            "text/plain": [
              "<IPython.core.display.HTML object>"
            ],
            "text/html": [
              " View sweep at <a href='https://wandb.ai/yeshu183-indian-institute-of-technology-madras/New%20Sweep/sweeps/surnww5r' target=\"_blank\">https://wandb.ai/yeshu183-indian-institute-of-technology-madras/New%20Sweep/sweeps/surnww5r</a>"
            ]
          },
          "metadata": {}
        },
        {
          "output_type": "display_data",
          "data": {
            "text/plain": [
              "<IPython.core.display.HTML object>"
            ],
            "text/html": [
              " View run at <a href='https://wandb.ai/yeshu183-indian-institute-of-technology-madras/New%20Sweep/runs/2layq9u9' target=\"_blank\">https://wandb.ai/yeshu183-indian-institute-of-technology-madras/New%20Sweep/runs/2layq9u9</a>"
            ]
          },
          "metadata": {}
        },
        {
          "output_type": "stream",
          "name": "stdout",
          "text": [
            "Epoch: 1 | Time: 3.96 | Train Loss: 2.3090 | Train Accuracy: 0.0977 | Val Loss: 2.3031 | Val Accuracy: 0.1003\n",
            "Epoch: 2 | Time: 5.52 | Train Loss: 2.3024 | Train Accuracy: 0.1062 | Val Loss: 2.3023 | Val Accuracy: 0.1003\n",
            "Epoch: 3 | Time: 3.31 | Train Loss: 2.3023 | Train Accuracy: 0.1048 | Val Loss: 2.3022 | Val Accuracy: 0.0990\n",
            "Epoch: 4 | Time: 3.30 | Train Loss: 2.3017 | Train Accuracy: 0.1066 | Val Loss: 2.3022 | Val Accuracy: 0.1013\n",
            "Epoch: 5 | Time: 6.17 | Train Loss: 2.3013 | Train Accuracy: 0.1125 | Val Loss: 2.3009 | Val Accuracy: 0.0990\n",
            "Validation Loss: 2.3009, Validation Accuracy: 0.0990\n",
            "Best model updated!\n"
          ]
        },
        {
          "output_type": "display_data",
          "data": {
            "text/plain": [
              "<IPython.core.display.HTML object>"
            ],
            "text/html": []
          },
          "metadata": {}
        },
        {
          "output_type": "display_data",
          "data": {
            "text/plain": [
              "<IPython.core.display.HTML object>"
            ],
            "text/html": [
              "<br>    <style><br>        .wandb-row {<br>            display: flex;<br>            flex-direction: row;<br>            flex-wrap: wrap;<br>            justify-content: flex-start;<br>            width: 100%;<br>        }<br>        .wandb-col {<br>            display: flex;<br>            flex-direction: column;<br>            flex-basis: 100%;<br>            flex: 1;<br>            padding: 10px;<br>        }<br>    </style><br><div class=\"wandb-row\"><div class=\"wandb-col\"><h3>Run history:</h3><br/><table class=\"wandb\"><tr><td>epoch</td><td>▁▃▅▆█</td></tr><tr><td>final_val_acc</td><td>▁</td></tr><tr><td>final_val_loss</td><td>▁</td></tr><tr><td>train_acc</td><td>▁▅▄▅█</td></tr><tr><td>train_loss</td><td>█▂▂▁▁</td></tr><tr><td>val_acc</td><td>▅▅▁█▁</td></tr><tr><td>val_loss</td><td>█▆▅▅▁</td></tr></table><br/></div><div class=\"wandb-col\"><h3>Run summary:</h3><br/><table class=\"wandb\"><tr><td>epoch</td><td>5</td></tr><tr><td>final_val_acc</td><td>0.099</td></tr><tr><td>final_val_loss</td><td>2.30095</td></tr></table><br/></div></div>"
            ]
          },
          "metadata": {}
        },
        {
          "output_type": "display_data",
          "data": {
            "text/plain": [
              "<IPython.core.display.HTML object>"
            ],
            "text/html": [
              " View run <strong style=\"color:#cdcd00\">e_5_hl_4_nhpl_32_bs_32_init_xavier_ac_sigmoid_op_nesterov_lo_cross_entropy_loss</strong> at: <a href='https://wandb.ai/yeshu183-indian-institute-of-technology-madras/New%20Sweep/runs/2layq9u9' target=\"_blank\">https://wandb.ai/yeshu183-indian-institute-of-technology-madras/New%20Sweep/runs/2layq9u9</a><br> View project at: <a href='https://wandb.ai/yeshu183-indian-institute-of-technology-madras/New%20Sweep' target=\"_blank\">https://wandb.ai/yeshu183-indian-institute-of-technology-madras/New%20Sweep</a><br>Synced 5 W&B file(s), 0 media file(s), 0 artifact file(s) and 1 other file(s)"
            ]
          },
          "metadata": {}
        },
        {
          "output_type": "display_data",
          "data": {
            "text/plain": [
              "<IPython.core.display.HTML object>"
            ],
            "text/html": [
              "Find logs at: <code>./wandb/run-20250317_123651-2layq9u9/logs</code>"
            ]
          },
          "metadata": {}
        },
        {
          "output_type": "stream",
          "name": "stderr",
          "text": [
            "\u001b[34m\u001b[1mwandb\u001b[0m: Agent Starting Run: di2trkzx with config:\n",
            "\u001b[34m\u001b[1mwandb\u001b[0m: \tactivation: tanh\n",
            "\u001b[34m\u001b[1mwandb\u001b[0m: \tbatch_size: 64\n",
            "\u001b[34m\u001b[1mwandb\u001b[0m: \tepochs: 5\n",
            "\u001b[34m\u001b[1mwandb\u001b[0m: \thid_layer_size: 64\n",
            "\u001b[34m\u001b[1mwandb\u001b[0m: \tl2_reg: 0.0005\n",
            "\u001b[34m\u001b[1mwandb\u001b[0m: \tloss_func: cross_entropy_loss\n",
            "\u001b[34m\u001b[1mwandb\u001b[0m: \tlr: 0.001\n",
            "\u001b[34m\u001b[1mwandb\u001b[0m: \tnum_hid_layers: 4\n",
            "\u001b[34m\u001b[1mwandb\u001b[0m: \toptimizer_func: rmsprop\n",
            "\u001b[34m\u001b[1mwandb\u001b[0m: \tweight_init: xavier\n"
          ]
        },
        {
          "output_type": "display_data",
          "data": {
            "text/plain": [
              "<IPython.core.display.HTML object>"
            ],
            "text/html": [
              "Ignoring project 'New Sweep' when running a sweep."
            ]
          },
          "metadata": {}
        },
        {
          "output_type": "display_data",
          "data": {
            "text/plain": [
              "<IPython.core.display.HTML object>"
            ],
            "text/html": [
              "Tracking run with wandb version 0.19.8"
            ]
          },
          "metadata": {}
        },
        {
          "output_type": "display_data",
          "data": {
            "text/plain": [
              "<IPython.core.display.HTML object>"
            ],
            "text/html": [
              "Run data is saved locally in <code>/content/wandb/run-20250317_123721-di2trkzx</code>"
            ]
          },
          "metadata": {}
        },
        {
          "output_type": "display_data",
          "data": {
            "text/plain": [
              "<IPython.core.display.HTML object>"
            ],
            "text/html": [
              "Syncing run <strong><a href='https://wandb.ai/yeshu183-indian-institute-of-technology-madras/New%20Sweep/runs/di2trkzx' target=\"_blank\">azure-sweep-2</a></strong> to <a href='https://wandb.ai/yeshu183-indian-institute-of-technology-madras/New%20Sweep' target=\"_blank\">Weights & Biases</a> (<a href='https://wandb.me/developer-guide' target=\"_blank\">docs</a>)<br>Sweep page: <a href='https://wandb.ai/yeshu183-indian-institute-of-technology-madras/New%20Sweep/sweeps/surnww5r' target=\"_blank\">https://wandb.ai/yeshu183-indian-institute-of-technology-madras/New%20Sweep/sweeps/surnww5r</a>"
            ]
          },
          "metadata": {}
        },
        {
          "output_type": "display_data",
          "data": {
            "text/plain": [
              "<IPython.core.display.HTML object>"
            ],
            "text/html": [
              " View project at <a href='https://wandb.ai/yeshu183-indian-institute-of-technology-madras/New%20Sweep' target=\"_blank\">https://wandb.ai/yeshu183-indian-institute-of-technology-madras/New%20Sweep</a>"
            ]
          },
          "metadata": {}
        },
        {
          "output_type": "display_data",
          "data": {
            "text/plain": [
              "<IPython.core.display.HTML object>"
            ],
            "text/html": [
              " View sweep at <a href='https://wandb.ai/yeshu183-indian-institute-of-technology-madras/New%20Sweep/sweeps/surnww5r' target=\"_blank\">https://wandb.ai/yeshu183-indian-institute-of-technology-madras/New%20Sweep/sweeps/surnww5r</a>"
            ]
          },
          "metadata": {}
        },
        {
          "output_type": "display_data",
          "data": {
            "text/plain": [
              "<IPython.core.display.HTML object>"
            ],
            "text/html": [
              " View run at <a href='https://wandb.ai/yeshu183-indian-institute-of-technology-madras/New%20Sweep/runs/di2trkzx' target=\"_blank\">https://wandb.ai/yeshu183-indian-institute-of-technology-madras/New%20Sweep/runs/di2trkzx</a>"
            ]
          },
          "metadata": {}
        },
        {
          "output_type": "stream",
          "name": "stdout",
          "text": [
            "Epoch: 1 | Time: 8.13 | Train Loss: 0.5354 | Train Accuracy: 0.8055 | Val Loss: 0.4698 | Val Accuracy: 0.8225\n",
            "Epoch: 2 | Time: 5.55 | Train Loss: 0.4073 | Train Accuracy: 0.8533 | Val Loss: 0.4318 | Val Accuracy: 0.8395\n",
            "Epoch: 3 | Time: 7.77 | Train Loss: 0.3755 | Train Accuracy: 0.8624 | Val Loss: 0.3777 | Val Accuracy: 0.8605\n",
            "Epoch: 4 | Time: 5.92 | Train Loss: 0.3538 | Train Accuracy: 0.8698 | Val Loss: 0.3740 | Val Accuracy: 0.8633\n",
            "Epoch: 5 | Time: 8.19 | Train Loss: 0.3430 | Train Accuracy: 0.8736 | Val Loss: 0.3506 | Val Accuracy: 0.8715\n",
            "Validation Loss: 0.3506, Validation Accuracy: 0.8715\n",
            "Best model updated!\n"
          ]
        },
        {
          "output_type": "display_data",
          "data": {
            "text/plain": [
              "<IPython.core.display.HTML object>"
            ],
            "text/html": []
          },
          "metadata": {}
        },
        {
          "output_type": "display_data",
          "data": {
            "text/plain": [
              "<IPython.core.display.HTML object>"
            ],
            "text/html": [
              "<br>    <style><br>        .wandb-row {<br>            display: flex;<br>            flex-direction: row;<br>            flex-wrap: wrap;<br>            justify-content: flex-start;<br>            width: 100%;<br>        }<br>        .wandb-col {<br>            display: flex;<br>            flex-direction: column;<br>            flex-basis: 100%;<br>            flex: 1;<br>            padding: 10px;<br>        }<br>    </style><br><div class=\"wandb-row\"><div class=\"wandb-col\"><h3>Run history:</h3><br/><table class=\"wandb\"><tr><td>epoch</td><td>▁▃▅▆█</td></tr><tr><td>final_val_acc</td><td>▁</td></tr><tr><td>final_val_loss</td><td>▁</td></tr><tr><td>train_acc</td><td>▁▆▇██</td></tr><tr><td>train_loss</td><td>█▃▂▁▁</td></tr><tr><td>val_acc</td><td>▁▃▆▇█</td></tr><tr><td>val_loss</td><td>█▆▃▂▁</td></tr></table><br/></div><div class=\"wandb-col\"><h3>Run summary:</h3><br/><table class=\"wandb\"><tr><td>epoch</td><td>5</td></tr><tr><td>final_val_acc</td><td>0.8715</td></tr><tr><td>final_val_loss</td><td>0.35057</td></tr></table><br/></div></div>"
            ]
          },
          "metadata": {}
        },
        {
          "output_type": "display_data",
          "data": {
            "text/plain": [
              "<IPython.core.display.HTML object>"
            ],
            "text/html": [
              " View run <strong style=\"color:#cdcd00\">e_5_hl_4_nhpl_64_bs_64_init_xavier_ac_tanh_op_rmsprop_lo_cross_entropy_loss</strong> at: <a href='https://wandb.ai/yeshu183-indian-institute-of-technology-madras/New%20Sweep/runs/di2trkzx' target=\"_blank\">https://wandb.ai/yeshu183-indian-institute-of-technology-madras/New%20Sweep/runs/di2trkzx</a><br> View project at: <a href='https://wandb.ai/yeshu183-indian-institute-of-technology-madras/New%20Sweep' target=\"_blank\">https://wandb.ai/yeshu183-indian-institute-of-technology-madras/New%20Sweep</a><br>Synced 5 W&B file(s), 0 media file(s), 0 artifact file(s) and 1 other file(s)"
            ]
          },
          "metadata": {}
        },
        {
          "output_type": "display_data",
          "data": {
            "text/plain": [
              "<IPython.core.display.HTML object>"
            ],
            "text/html": [
              "Find logs at: <code>./wandb/run-20250317_123721-di2trkzx/logs</code>"
            ]
          },
          "metadata": {}
        },
        {
          "output_type": "stream",
          "name": "stderr",
          "text": [
            "\u001b[34m\u001b[1mwandb\u001b[0m: Agent Starting Run: pjglc4oe with config:\n",
            "\u001b[34m\u001b[1mwandb\u001b[0m: \tactivation: sigmoid\n",
            "\u001b[34m\u001b[1mwandb\u001b[0m: \tbatch_size: 32\n",
            "\u001b[34m\u001b[1mwandb\u001b[0m: \tepochs: 5\n",
            "\u001b[34m\u001b[1mwandb\u001b[0m: \thid_layer_size: 128\n",
            "\u001b[34m\u001b[1mwandb\u001b[0m: \tl2_reg: 0.5\n",
            "\u001b[34m\u001b[1mwandb\u001b[0m: \tloss_func: cross_entropy_loss\n",
            "\u001b[34m\u001b[1mwandb\u001b[0m: \tlr: 0.001\n",
            "\u001b[34m\u001b[1mwandb\u001b[0m: \tnum_hid_layers: 3\n",
            "\u001b[34m\u001b[1mwandb\u001b[0m: \toptimizer_func: nesterov\n",
            "\u001b[34m\u001b[1mwandb\u001b[0m: \tweight_init: random\n"
          ]
        },
        {
          "output_type": "display_data",
          "data": {
            "text/plain": [
              "<IPython.core.display.HTML object>"
            ],
            "text/html": [
              "Ignoring project 'New Sweep' when running a sweep."
            ]
          },
          "metadata": {}
        },
        {
          "output_type": "display_data",
          "data": {
            "text/plain": [
              "<IPython.core.display.HTML object>"
            ],
            "text/html": [
              "Tracking run with wandb version 0.19.8"
            ]
          },
          "metadata": {}
        },
        {
          "output_type": "display_data",
          "data": {
            "text/plain": [
              "<IPython.core.display.HTML object>"
            ],
            "text/html": [
              "Run data is saved locally in <code>/content/wandb/run-20250317_123802-pjglc4oe</code>"
            ]
          },
          "metadata": {}
        },
        {
          "output_type": "display_data",
          "data": {
            "text/plain": [
              "<IPython.core.display.HTML object>"
            ],
            "text/html": [
              "Syncing run <strong><a href='https://wandb.ai/yeshu183-indian-institute-of-technology-madras/New%20Sweep/runs/pjglc4oe' target=\"_blank\">dutiful-sweep-3</a></strong> to <a href='https://wandb.ai/yeshu183-indian-institute-of-technology-madras/New%20Sweep' target=\"_blank\">Weights & Biases</a> (<a href='https://wandb.me/developer-guide' target=\"_blank\">docs</a>)<br>Sweep page: <a href='https://wandb.ai/yeshu183-indian-institute-of-technology-madras/New%20Sweep/sweeps/surnww5r' target=\"_blank\">https://wandb.ai/yeshu183-indian-institute-of-technology-madras/New%20Sweep/sweeps/surnww5r</a>"
            ]
          },
          "metadata": {}
        },
        {
          "output_type": "display_data",
          "data": {
            "text/plain": [
              "<IPython.core.display.HTML object>"
            ],
            "text/html": [
              " View project at <a href='https://wandb.ai/yeshu183-indian-institute-of-technology-madras/New%20Sweep' target=\"_blank\">https://wandb.ai/yeshu183-indian-institute-of-technology-madras/New%20Sweep</a>"
            ]
          },
          "metadata": {}
        },
        {
          "output_type": "display_data",
          "data": {
            "text/plain": [
              "<IPython.core.display.HTML object>"
            ],
            "text/html": [
              " View sweep at <a href='https://wandb.ai/yeshu183-indian-institute-of-technology-madras/New%20Sweep/sweeps/surnww5r' target=\"_blank\">https://wandb.ai/yeshu183-indian-institute-of-technology-madras/New%20Sweep/sweeps/surnww5r</a>"
            ]
          },
          "metadata": {}
        },
        {
          "output_type": "display_data",
          "data": {
            "text/plain": [
              "<IPython.core.display.HTML object>"
            ],
            "text/html": [
              " View run at <a href='https://wandb.ai/yeshu183-indian-institute-of-technology-madras/New%20Sweep/runs/pjglc4oe' target=\"_blank\">https://wandb.ai/yeshu183-indian-institute-of-technology-madras/New%20Sweep/runs/pjglc4oe</a>"
            ]
          },
          "metadata": {}
        },
        {
          "output_type": "stream",
          "name": "stdout",
          "text": [
            "Epoch: 1 | Time: 12.25 | Train Loss: 2.4344 | Train Accuracy: 0.1251 | Val Loss: 2.3071 | Val Accuracy: 0.1028\n",
            "Epoch: 2 | Time: 12.54 | Train Loss: 2.3083 | Train Accuracy: 0.0989 | Val Loss: 2.3052 | Val Accuracy: 0.1013\n",
            "Epoch: 3 | Time: 10.60 | Train Loss: 2.3084 | Train Accuracy: 0.0992 | Val Loss: 2.3064 | Val Accuracy: 0.1013\n",
            "Epoch: 4 | Time: 10.88 | Train Loss: 2.3080 | Train Accuracy: 0.1019 | Val Loss: 2.3084 | Val Accuracy: 0.1013\n",
            "Epoch: 5 | Time: 12.06 | Train Loss: 2.3077 | Train Accuracy: 0.1021 | Val Loss: 2.3053 | Val Accuracy: 0.0983\n",
            "Validation Loss: 2.3053, Validation Accuracy: 0.0983\n"
          ]
        },
        {
          "output_type": "display_data",
          "data": {
            "text/plain": [
              "<IPython.core.display.HTML object>"
            ],
            "text/html": []
          },
          "metadata": {}
        },
        {
          "output_type": "display_data",
          "data": {
            "text/plain": [
              "<IPython.core.display.HTML object>"
            ],
            "text/html": [
              "<br>    <style><br>        .wandb-row {<br>            display: flex;<br>            flex-direction: row;<br>            flex-wrap: wrap;<br>            justify-content: flex-start;<br>            width: 100%;<br>        }<br>        .wandb-col {<br>            display: flex;<br>            flex-direction: column;<br>            flex-basis: 100%;<br>            flex: 1;<br>            padding: 10px;<br>        }<br>    </style><br><div class=\"wandb-row\"><div class=\"wandb-col\"><h3>Run history:</h3><br/><table class=\"wandb\"><tr><td>epoch</td><td>▁▃▅▆█</td></tr><tr><td>final_val_acc</td><td>▁</td></tr><tr><td>final_val_loss</td><td>▁</td></tr><tr><td>train_acc</td><td>█▁▁▂▂</td></tr><tr><td>train_loss</td><td>█▁▁▁▁</td></tr><tr><td>val_acc</td><td>█▆▆▆▁</td></tr><tr><td>val_loss</td><td>▅▁▄█▁</td></tr></table><br/></div><div class=\"wandb-col\"><h3>Run summary:</h3><br/><table class=\"wandb\"><tr><td>epoch</td><td>5</td></tr><tr><td>final_val_acc</td><td>0.09833</td></tr><tr><td>final_val_loss</td><td>2.30535</td></tr></table><br/></div></div>"
            ]
          },
          "metadata": {}
        },
        {
          "output_type": "display_data",
          "data": {
            "text/plain": [
              "<IPython.core.display.HTML object>"
            ],
            "text/html": [
              " View run <strong style=\"color:#cdcd00\">e_5_hl_3_nhpl_128_bs_32_init_random_ac_sigmoid_op_nesterov_lo_cross_entropy_loss</strong> at: <a href='https://wandb.ai/yeshu183-indian-institute-of-technology-madras/New%20Sweep/runs/pjglc4oe' target=\"_blank\">https://wandb.ai/yeshu183-indian-institute-of-technology-madras/New%20Sweep/runs/pjglc4oe</a><br> View project at: <a href='https://wandb.ai/yeshu183-indian-institute-of-technology-madras/New%20Sweep' target=\"_blank\">https://wandb.ai/yeshu183-indian-institute-of-technology-madras/New%20Sweep</a><br>Synced 5 W&B file(s), 0 media file(s), 0 artifact file(s) and 0 other file(s)"
            ]
          },
          "metadata": {}
        },
        {
          "output_type": "display_data",
          "data": {
            "text/plain": [
              "<IPython.core.display.HTML object>"
            ],
            "text/html": [
              "Find logs at: <code>./wandb/run-20250317_123802-pjglc4oe/logs</code>"
            ]
          },
          "metadata": {}
        },
        {
          "output_type": "stream",
          "name": "stderr",
          "text": [
            "\u001b[34m\u001b[1mwandb\u001b[0m: Agent Starting Run: bwl1a6qn with config:\n",
            "\u001b[34m\u001b[1mwandb\u001b[0m: \tactivation: relu\n",
            "\u001b[34m\u001b[1mwandb\u001b[0m: \tbatch_size: 32\n",
            "\u001b[34m\u001b[1mwandb\u001b[0m: \tepochs: 5\n",
            "\u001b[34m\u001b[1mwandb\u001b[0m: \thid_layer_size: 64\n",
            "\u001b[34m\u001b[1mwandb\u001b[0m: \tl2_reg: 0.0005\n",
            "\u001b[34m\u001b[1mwandb\u001b[0m: \tloss_func: squared_error\n",
            "\u001b[34m\u001b[1mwandb\u001b[0m: \tlr: 0.0001\n",
            "\u001b[34m\u001b[1mwandb\u001b[0m: \tnum_hid_layers: 4\n",
            "\u001b[34m\u001b[1mwandb\u001b[0m: \toptimizer_func: momentum\n",
            "\u001b[34m\u001b[1mwandb\u001b[0m: \tweight_init: xavier\n"
          ]
        },
        {
          "output_type": "display_data",
          "data": {
            "text/plain": [
              "<IPython.core.display.HTML object>"
            ],
            "text/html": [
              "Ignoring project 'New Sweep' when running a sweep."
            ]
          },
          "metadata": {}
        },
        {
          "output_type": "display_data",
          "data": {
            "text/plain": [
              "<IPython.core.display.HTML object>"
            ],
            "text/html": [
              "Tracking run with wandb version 0.19.8"
            ]
          },
          "metadata": {}
        },
        {
          "output_type": "display_data",
          "data": {
            "text/plain": [
              "<IPython.core.display.HTML object>"
            ],
            "text/html": [
              "Run data is saved locally in <code>/content/wandb/run-20250317_123908-bwl1a6qn</code>"
            ]
          },
          "metadata": {}
        },
        {
          "output_type": "display_data",
          "data": {
            "text/plain": [
              "<IPython.core.display.HTML object>"
            ],
            "text/html": [
              "Syncing run <strong><a href='https://wandb.ai/yeshu183-indian-institute-of-technology-madras/New%20Sweep/runs/bwl1a6qn' target=\"_blank\">winter-sweep-4</a></strong> to <a href='https://wandb.ai/yeshu183-indian-institute-of-technology-madras/New%20Sweep' target=\"_blank\">Weights & Biases</a> (<a href='https://wandb.me/developer-guide' target=\"_blank\">docs</a>)<br>Sweep page: <a href='https://wandb.ai/yeshu183-indian-institute-of-technology-madras/New%20Sweep/sweeps/surnww5r' target=\"_blank\">https://wandb.ai/yeshu183-indian-institute-of-technology-madras/New%20Sweep/sweeps/surnww5r</a>"
            ]
          },
          "metadata": {}
        },
        {
          "output_type": "display_data",
          "data": {
            "text/plain": [
              "<IPython.core.display.HTML object>"
            ],
            "text/html": [
              " View project at <a href='https://wandb.ai/yeshu183-indian-institute-of-technology-madras/New%20Sweep' target=\"_blank\">https://wandb.ai/yeshu183-indian-institute-of-technology-madras/New%20Sweep</a>"
            ]
          },
          "metadata": {}
        },
        {
          "output_type": "display_data",
          "data": {
            "text/plain": [
              "<IPython.core.display.HTML object>"
            ],
            "text/html": [
              " View sweep at <a href='https://wandb.ai/yeshu183-indian-institute-of-technology-madras/New%20Sweep/sweeps/surnww5r' target=\"_blank\">https://wandb.ai/yeshu183-indian-institute-of-technology-madras/New%20Sweep/sweeps/surnww5r</a>"
            ]
          },
          "metadata": {}
        },
        {
          "output_type": "display_data",
          "data": {
            "text/plain": [
              "<IPython.core.display.HTML object>"
            ],
            "text/html": [
              " View run at <a href='https://wandb.ai/yeshu183-indian-institute-of-technology-madras/New%20Sweep/runs/bwl1a6qn' target=\"_blank\">https://wandb.ai/yeshu183-indian-institute-of-technology-madras/New%20Sweep/runs/bwl1a6qn</a>"
            ]
          },
          "metadata": {}
        },
        {
          "output_type": "stream",
          "name": "stdout",
          "text": [
            "Epoch: 1 | Time: 4.62 | Train Loss: 0.0894 | Train Accuracy: 0.1639 | Val Loss: 0.0882 | Val Accuracy: 0.2365\n",
            "Epoch: 2 | Time: 5.36 | Train Loss: 0.0867 | Train Accuracy: 0.2582 | Val Loss: 0.0850 | Val Accuracy: 0.2545\n",
            "Epoch: 3 | Time: 7.02 | Train Loss: 0.0818 | Train Accuracy: 0.2700 | Val Loss: 0.0786 | Val Accuracy: 0.2767\n",
            "Epoch: 4 | Time: 4.61 | Train Loss: 0.0745 | Train Accuracy: 0.3192 | Val Loss: 0.0707 | Val Accuracy: 0.3735\n",
            "Epoch: 5 | Time: 8.14 | Train Loss: 0.0653 | Train Accuracy: 0.4954 | Val Loss: 0.0584 | Val Accuracy: 0.6163\n",
            "Validation Loss: 0.0584, Validation Accuracy: 0.6163\n"
          ]
        },
        {
          "output_type": "display_data",
          "data": {
            "text/plain": [
              "<IPython.core.display.HTML object>"
            ],
            "text/html": []
          },
          "metadata": {}
        },
        {
          "output_type": "display_data",
          "data": {
            "text/plain": [
              "<IPython.core.display.HTML object>"
            ],
            "text/html": [
              "<br>    <style><br>        .wandb-row {<br>            display: flex;<br>            flex-direction: row;<br>            flex-wrap: wrap;<br>            justify-content: flex-start;<br>            width: 100%;<br>        }<br>        .wandb-col {<br>            display: flex;<br>            flex-direction: column;<br>            flex-basis: 100%;<br>            flex: 1;<br>            padding: 10px;<br>        }<br>    </style><br><div class=\"wandb-row\"><div class=\"wandb-col\"><h3>Run history:</h3><br/><table class=\"wandb\"><tr><td>epoch</td><td>▁▃▅▆█</td></tr><tr><td>final_val_acc</td><td>▁</td></tr><tr><td>final_val_loss</td><td>▁</td></tr><tr><td>train_acc</td><td>▁▃▃▄█</td></tr><tr><td>train_loss</td><td>█▇▆▄▁</td></tr><tr><td>val_acc</td><td>▁▁▂▄█</td></tr><tr><td>val_loss</td><td>█▇▆▄▁</td></tr></table><br/></div><div class=\"wandb-col\"><h3>Run summary:</h3><br/><table class=\"wandb\"><tr><td>epoch</td><td>5</td></tr><tr><td>final_val_acc</td><td>0.61633</td></tr><tr><td>final_val_loss</td><td>0.05835</td></tr></table><br/></div></div>"
            ]
          },
          "metadata": {}
        },
        {
          "output_type": "display_data",
          "data": {
            "text/plain": [
              "<IPython.core.display.HTML object>"
            ],
            "text/html": [
              " View run <strong style=\"color:#cdcd00\">e_5_hl_4_nhpl_64_bs_32_init_xavier_ac_relu_op_momentum_lo_squared_error</strong> at: <a href='https://wandb.ai/yeshu183-indian-institute-of-technology-madras/New%20Sweep/runs/bwl1a6qn' target=\"_blank\">https://wandb.ai/yeshu183-indian-institute-of-technology-madras/New%20Sweep/runs/bwl1a6qn</a><br> View project at: <a href='https://wandb.ai/yeshu183-indian-institute-of-technology-madras/New%20Sweep' target=\"_blank\">https://wandb.ai/yeshu183-indian-institute-of-technology-madras/New%20Sweep</a><br>Synced 5 W&B file(s), 0 media file(s), 0 artifact file(s) and 0 other file(s)"
            ]
          },
          "metadata": {}
        },
        {
          "output_type": "display_data",
          "data": {
            "text/plain": [
              "<IPython.core.display.HTML object>"
            ],
            "text/html": [
              "Find logs at: <code>./wandb/run-20250317_123908-bwl1a6qn/logs</code>"
            ]
          },
          "metadata": {}
        },
        {
          "output_type": "stream",
          "name": "stderr",
          "text": [
            "\u001b[34m\u001b[1mwandb\u001b[0m: Agent Starting Run: t6h0pzj2 with config:\n",
            "\u001b[34m\u001b[1mwandb\u001b[0m: \tactivation: tanh\n",
            "\u001b[34m\u001b[1mwandb\u001b[0m: \tbatch_size: 16\n",
            "\u001b[34m\u001b[1mwandb\u001b[0m: \tepochs: 10\n",
            "\u001b[34m\u001b[1mwandb\u001b[0m: \thid_layer_size: 64\n",
            "\u001b[34m\u001b[1mwandb\u001b[0m: \tl2_reg: 0\n",
            "\u001b[34m\u001b[1mwandb\u001b[0m: \tloss_func: squared_error\n",
            "\u001b[34m\u001b[1mwandb\u001b[0m: \tlr: 0.0001\n",
            "\u001b[34m\u001b[1mwandb\u001b[0m: \tnum_hid_layers: 4\n",
            "\u001b[34m\u001b[1mwandb\u001b[0m: \toptimizer_func: adam\n",
            "\u001b[34m\u001b[1mwandb\u001b[0m: \tweight_init: xavier\n"
          ]
        },
        {
          "output_type": "display_data",
          "data": {
            "text/plain": [
              "<IPython.core.display.HTML object>"
            ],
            "text/html": [
              "Ignoring project 'New Sweep' when running a sweep."
            ]
          },
          "metadata": {}
        },
        {
          "output_type": "display_data",
          "data": {
            "text/plain": [
              "<IPython.core.display.HTML object>"
            ],
            "text/html": [
              "Tracking run with wandb version 0.19.8"
            ]
          },
          "metadata": {}
        },
        {
          "output_type": "display_data",
          "data": {
            "text/plain": [
              "<IPython.core.display.HTML object>"
            ],
            "text/html": [
              "Run data is saved locally in <code>/content/wandb/run-20250317_123943-t6h0pzj2</code>"
            ]
          },
          "metadata": {}
        },
        {
          "output_type": "display_data",
          "data": {
            "text/plain": [
              "<IPython.core.display.HTML object>"
            ],
            "text/html": [
              "Syncing run <strong><a href='https://wandb.ai/yeshu183-indian-institute-of-technology-madras/New%20Sweep/runs/t6h0pzj2' target=\"_blank\">dutiful-sweep-5</a></strong> to <a href='https://wandb.ai/yeshu183-indian-institute-of-technology-madras/New%20Sweep' target=\"_blank\">Weights & Biases</a> (<a href='https://wandb.me/developer-guide' target=\"_blank\">docs</a>)<br>Sweep page: <a href='https://wandb.ai/yeshu183-indian-institute-of-technology-madras/New%20Sweep/sweeps/surnww5r' target=\"_blank\">https://wandb.ai/yeshu183-indian-institute-of-technology-madras/New%20Sweep/sweeps/surnww5r</a>"
            ]
          },
          "metadata": {}
        },
        {
          "output_type": "display_data",
          "data": {
            "text/plain": [
              "<IPython.core.display.HTML object>"
            ],
            "text/html": [
              " View project at <a href='https://wandb.ai/yeshu183-indian-institute-of-technology-madras/New%20Sweep' target=\"_blank\">https://wandb.ai/yeshu183-indian-institute-of-technology-madras/New%20Sweep</a>"
            ]
          },
          "metadata": {}
        },
        {
          "output_type": "display_data",
          "data": {
            "text/plain": [
              "<IPython.core.display.HTML object>"
            ],
            "text/html": [
              " View sweep at <a href='https://wandb.ai/yeshu183-indian-institute-of-technology-madras/New%20Sweep/sweeps/surnww5r' target=\"_blank\">https://wandb.ai/yeshu183-indian-institute-of-technology-madras/New%20Sweep/sweeps/surnww5r</a>"
            ]
          },
          "metadata": {}
        },
        {
          "output_type": "display_data",
          "data": {
            "text/plain": [
              "<IPython.core.display.HTML object>"
            ],
            "text/html": [
              " View run at <a href='https://wandb.ai/yeshu183-indian-institute-of-technology-madras/New%20Sweep/runs/t6h0pzj2' target=\"_blank\">https://wandb.ai/yeshu183-indian-institute-of-technology-madras/New%20Sweep/runs/t6h0pzj2</a>"
            ]
          },
          "metadata": {}
        },
        {
          "output_type": "stream",
          "name": "stdout",
          "text": [
            "Epoch: 1 | Time: 15.64 | Train Loss: 0.0286 | Train Accuracy: 0.8007 | Val Loss: 0.0220 | Val Accuracy: 0.8460\n",
            "Epoch: 2 | Time: 15.74 | Train Loss: 0.0216 | Train Accuracy: 0.8500 | Val Loss: 0.0201 | Val Accuracy: 0.8588\n",
            "Epoch: 3 | Time: 15.65 | Train Loss: 0.0198 | Train Accuracy: 0.8627 | Val Loss: 0.0192 | Val Accuracy: 0.8647\n",
            "Epoch: 4 | Time: 16.11 | Train Loss: 0.0187 | Train Accuracy: 0.8723 | Val Loss: 0.0186 | Val Accuracy: 0.8678\n",
            "Epoch: 5 | Time: 16.48 | Train Loss: 0.0179 | Train Accuracy: 0.8765 | Val Loss: 0.0181 | Val Accuracy: 0.8708\n",
            "Epoch: 6 | Time: 16.44 | Train Loss: 0.0173 | Train Accuracy: 0.8816 | Val Loss: 0.0183 | Val Accuracy: 0.8733\n",
            "Epoch: 7 | Time: 15.64 | Train Loss: 0.0169 | Train Accuracy: 0.8839 | Val Loss: 0.0177 | Val Accuracy: 0.8762\n",
            "Epoch: 8 | Time: 15.18 | Train Loss: 0.0163 | Train Accuracy: 0.8895 | Val Loss: 0.0176 | Val Accuracy: 0.8777\n",
            "Epoch: 9 | Time: 15.42 | Train Loss: 0.0160 | Train Accuracy: 0.8910 | Val Loss: 0.0173 | Val Accuracy: 0.8773\n",
            "Epoch: 10 | Time: 15.48 | Train Loss: 0.0156 | Train Accuracy: 0.8945 | Val Loss: 0.0174 | Val Accuracy: 0.8805\n",
            "Validation Loss: 0.0174, Validation Accuracy: 0.8805\n",
            "Best model updated!\n"
          ]
        },
        {
          "output_type": "display_data",
          "data": {
            "text/plain": [
              "<IPython.core.display.HTML object>"
            ],
            "text/html": []
          },
          "metadata": {}
        },
        {
          "output_type": "display_data",
          "data": {
            "text/plain": [
              "<IPython.core.display.HTML object>"
            ],
            "text/html": [
              "<br>    <style><br>        .wandb-row {<br>            display: flex;<br>            flex-direction: row;<br>            flex-wrap: wrap;<br>            justify-content: flex-start;<br>            width: 100%;<br>        }<br>        .wandb-col {<br>            display: flex;<br>            flex-direction: column;<br>            flex-basis: 100%;<br>            flex: 1;<br>            padding: 10px;<br>        }<br>    </style><br><div class=\"wandb-row\"><div class=\"wandb-col\"><h3>Run history:</h3><br/><table class=\"wandb\"><tr><td>epoch</td><td>▁▂▃▃▄▅▆▆▇█</td></tr><tr><td>final_val_acc</td><td>▁</td></tr><tr><td>final_val_loss</td><td>▁</td></tr><tr><td>train_acc</td><td>▁▅▆▆▇▇▇███</td></tr><tr><td>train_loss</td><td>█▄▃▃▂▂▂▁▁▁</td></tr><tr><td>val_acc</td><td>▁▄▅▅▆▇▇▇▇█</td></tr><tr><td>val_loss</td><td>█▅▄▃▂▂▂▁▁▁</td></tr></table><br/></div><div class=\"wandb-col\"><h3>Run summary:</h3><br/><table class=\"wandb\"><tr><td>epoch</td><td>10</td></tr><tr><td>final_val_acc</td><td>0.8805</td></tr><tr><td>final_val_loss</td><td>0.01742</td></tr></table><br/></div></div>"
            ]
          },
          "metadata": {}
        },
        {
          "output_type": "display_data",
          "data": {
            "text/plain": [
              "<IPython.core.display.HTML object>"
            ],
            "text/html": [
              " View run <strong style=\"color:#cdcd00\">e_10_hl_4_nhpl_64_bs_16_init_xavier_ac_tanh_op_adam_lo_squared_error</strong> at: <a href='https://wandb.ai/yeshu183-indian-institute-of-technology-madras/New%20Sweep/runs/t6h0pzj2' target=\"_blank\">https://wandb.ai/yeshu183-indian-institute-of-technology-madras/New%20Sweep/runs/t6h0pzj2</a><br> View project at: <a href='https://wandb.ai/yeshu183-indian-institute-of-technology-madras/New%20Sweep' target=\"_blank\">https://wandb.ai/yeshu183-indian-institute-of-technology-madras/New%20Sweep</a><br>Synced 5 W&B file(s), 0 media file(s), 0 artifact file(s) and 1 other file(s)"
            ]
          },
          "metadata": {}
        },
        {
          "output_type": "display_data",
          "data": {
            "text/plain": [
              "<IPython.core.display.HTML object>"
            ],
            "text/html": [
              "Find logs at: <code>./wandb/run-20250317_123943-t6h0pzj2/logs</code>"
            ]
          },
          "metadata": {}
        },
        {
          "output_type": "stream",
          "name": "stderr",
          "text": [
            "\u001b[34m\u001b[1mwandb\u001b[0m: Agent Starting Run: rciwac86 with config:\n",
            "\u001b[34m\u001b[1mwandb\u001b[0m: \tactivation: relu\n",
            "\u001b[34m\u001b[1mwandb\u001b[0m: \tbatch_size: 64\n",
            "\u001b[34m\u001b[1mwandb\u001b[0m: \tepochs: 10\n",
            "\u001b[34m\u001b[1mwandb\u001b[0m: \thid_layer_size: 32\n",
            "\u001b[34m\u001b[1mwandb\u001b[0m: \tl2_reg: 0\n",
            "\u001b[34m\u001b[1mwandb\u001b[0m: \tloss_func: squared_error\n",
            "\u001b[34m\u001b[1mwandb\u001b[0m: \tlr: 0.0001\n",
            "\u001b[34m\u001b[1mwandb\u001b[0m: \tnum_hid_layers: 5\n",
            "\u001b[34m\u001b[1mwandb\u001b[0m: \toptimizer_func: nesterov\n",
            "\u001b[34m\u001b[1mwandb\u001b[0m: \tweight_init: random\n"
          ]
        },
        {
          "output_type": "display_data",
          "data": {
            "text/plain": [
              "<IPython.core.display.HTML object>"
            ],
            "text/html": [
              "Ignoring project 'New Sweep' when running a sweep."
            ]
          },
          "metadata": {}
        },
        {
          "output_type": "display_data",
          "data": {
            "text/plain": [
              "<IPython.core.display.HTML object>"
            ],
            "text/html": [
              "Tracking run with wandb version 0.19.8"
            ]
          },
          "metadata": {}
        },
        {
          "output_type": "display_data",
          "data": {
            "text/plain": [
              "<IPython.core.display.HTML object>"
            ],
            "text/html": [
              "Run data is saved locally in <code>/content/wandb/run-20250317_124226-rciwac86</code>"
            ]
          },
          "metadata": {}
        },
        {
          "output_type": "display_data",
          "data": {
            "text/plain": [
              "<IPython.core.display.HTML object>"
            ],
            "text/html": [
              "Syncing run <strong><a href='https://wandb.ai/yeshu183-indian-institute-of-technology-madras/New%20Sweep/runs/rciwac86' target=\"_blank\">helpful-sweep-6</a></strong> to <a href='https://wandb.ai/yeshu183-indian-institute-of-technology-madras/New%20Sweep' target=\"_blank\">Weights & Biases</a> (<a href='https://wandb.me/developer-guide' target=\"_blank\">docs</a>)<br>Sweep page: <a href='https://wandb.ai/yeshu183-indian-institute-of-technology-madras/New%20Sweep/sweeps/surnww5r' target=\"_blank\">https://wandb.ai/yeshu183-indian-institute-of-technology-madras/New%20Sweep/sweeps/surnww5r</a>"
            ]
          },
          "metadata": {}
        },
        {
          "output_type": "display_data",
          "data": {
            "text/plain": [
              "<IPython.core.display.HTML object>"
            ],
            "text/html": [
              " View project at <a href='https://wandb.ai/yeshu183-indian-institute-of-technology-madras/New%20Sweep' target=\"_blank\">https://wandb.ai/yeshu183-indian-institute-of-technology-madras/New%20Sweep</a>"
            ]
          },
          "metadata": {}
        },
        {
          "output_type": "display_data",
          "data": {
            "text/plain": [
              "<IPython.core.display.HTML object>"
            ],
            "text/html": [
              " View sweep at <a href='https://wandb.ai/yeshu183-indian-institute-of-technology-madras/New%20Sweep/sweeps/surnww5r' target=\"_blank\">https://wandb.ai/yeshu183-indian-institute-of-technology-madras/New%20Sweep/sweeps/surnww5r</a>"
            ]
          },
          "metadata": {}
        },
        {
          "output_type": "display_data",
          "data": {
            "text/plain": [
              "<IPython.core.display.HTML object>"
            ],
            "text/html": [
              " View run at <a href='https://wandb.ai/yeshu183-indian-institute-of-technology-madras/New%20Sweep/runs/rciwac86' target=\"_blank\">https://wandb.ai/yeshu183-indian-institute-of-technology-madras/New%20Sweep/runs/rciwac86</a>"
            ]
          },
          "metadata": {}
        },
        {
          "output_type": "stream",
          "name": "stdout",
          "text": [
            "Epoch: 1 | Time: 4.88 | Train Loss: 0.1906 | Train Accuracy: 0.0468 | Val Loss: 0.1895 | Val Accuracy: 0.0525\n",
            "Epoch: 2 | Time: 2.36 | Train Loss: 0.1874 | Train Accuracy: 0.0631 | Val Loss: 0.1821 | Val Accuracy: 0.0893\n",
            "Epoch: 3 | Time: 2.28 | Train Loss: 0.1796 | Train Accuracy: 0.1020 | Val Loss: 0.1769 | Val Accuracy: 0.1155\n",
            "Epoch: 4 | Time: 2.28 | Train Loss: 0.1762 | Train Accuracy: 0.1185 | Val Loss: 0.1725 | Val Accuracy: 0.1370\n",
            "Epoch: 5 | Time: 2.27 | Train Loss: 0.1744 | Train Accuracy: 0.1277 | Val Loss: 0.1730 | Val Accuracy: 0.1347\n",
            "Epoch: 6 | Time: 4.90 | Train Loss: 0.1802 | Train Accuracy: 0.0990 | Val Loss: 0.1814 | Val Accuracy: 0.0932\n",
            "Epoch: 7 | Time: 2.33 | Train Loss: 0.1799 | Train Accuracy: 0.1004 | Val Loss: 0.1814 | Val Accuracy: 0.0928\n",
            "Epoch: 8 | Time: 2.66 | Train Loss: 0.1798 | Train Accuracy: 0.1011 | Val Loss: 0.1794 | Val Accuracy: 0.1028\n",
            "Epoch: 9 | Time: 2.29 | Train Loss: 0.1801 | Train Accuracy: 0.0997 | Val Loss: 0.1794 | Val Accuracy: 0.1028\n",
            "Epoch: 10 | Time: 2.28 | Train Loss: 0.1801 | Train Accuracy: 0.0997 | Val Loss: 0.1794 | Val Accuracy: 0.1028\n",
            "Validation Loss: 0.1794, Validation Accuracy: 0.1028\n"
          ]
        },
        {
          "output_type": "display_data",
          "data": {
            "text/plain": [
              "<IPython.core.display.HTML object>"
            ],
            "text/html": []
          },
          "metadata": {}
        },
        {
          "output_type": "display_data",
          "data": {
            "text/plain": [
              "<IPython.core.display.HTML object>"
            ],
            "text/html": [
              "<br>    <style><br>        .wandb-row {<br>            display: flex;<br>            flex-direction: row;<br>            flex-wrap: wrap;<br>            justify-content: flex-start;<br>            width: 100%;<br>        }<br>        .wandb-col {<br>            display: flex;<br>            flex-direction: column;<br>            flex-basis: 100%;<br>            flex: 1;<br>            padding: 10px;<br>        }<br>    </style><br><div class=\"wandb-row\"><div class=\"wandb-col\"><h3>Run history:</h3><br/><table class=\"wandb\"><tr><td>epoch</td><td>▁▂▃▃▄▅▆▆▇█</td></tr><tr><td>final_val_acc</td><td>▁</td></tr><tr><td>final_val_loss</td><td>▁</td></tr><tr><td>train_acc</td><td>▁▂▆▇█▆▆▆▆▆</td></tr><tr><td>train_loss</td><td>█▇▃▂▁▃▃▃▃▃</td></tr><tr><td>val_acc</td><td>▁▄▆██▄▄▅▅▅</td></tr><tr><td>val_loss</td><td>█▅▃▁▁▅▅▄▄▄</td></tr></table><br/></div><div class=\"wandb-col\"><h3>Run summary:</h3><br/><table class=\"wandb\"><tr><td>epoch</td><td>10</td></tr><tr><td>final_val_acc</td><td>0.10283</td></tr><tr><td>final_val_loss</td><td>0.17943</td></tr></table><br/></div></div>"
            ]
          },
          "metadata": {}
        },
        {
          "output_type": "display_data",
          "data": {
            "text/plain": [
              "<IPython.core.display.HTML object>"
            ],
            "text/html": [
              " View run <strong style=\"color:#cdcd00\">e_10_hl_5_nhpl_32_bs_64_init_random_ac_relu_op_nesterov_lo_squared_error</strong> at: <a href='https://wandb.ai/yeshu183-indian-institute-of-technology-madras/New%20Sweep/runs/rciwac86' target=\"_blank\">https://wandb.ai/yeshu183-indian-institute-of-technology-madras/New%20Sweep/runs/rciwac86</a><br> View project at: <a href='https://wandb.ai/yeshu183-indian-institute-of-technology-madras/New%20Sweep' target=\"_blank\">https://wandb.ai/yeshu183-indian-institute-of-technology-madras/New%20Sweep</a><br>Synced 5 W&B file(s), 0 media file(s), 0 artifact file(s) and 0 other file(s)"
            ]
          },
          "metadata": {}
        },
        {
          "output_type": "display_data",
          "data": {
            "text/plain": [
              "<IPython.core.display.HTML object>"
            ],
            "text/html": [
              "Find logs at: <code>./wandb/run-20250317_124226-rciwac86/logs</code>"
            ]
          },
          "metadata": {}
        },
        {
          "output_type": "stream",
          "name": "stderr",
          "text": [
            "\u001b[34m\u001b[1mwandb\u001b[0m: Agent Starting Run: 31pyf5eu with config:\n",
            "\u001b[34m\u001b[1mwandb\u001b[0m: \tactivation: relu\n",
            "\u001b[34m\u001b[1mwandb\u001b[0m: \tbatch_size: 16\n",
            "\u001b[34m\u001b[1mwandb\u001b[0m: \tepochs: 10\n",
            "\u001b[34m\u001b[1mwandb\u001b[0m: \thid_layer_size: 32\n",
            "\u001b[34m\u001b[1mwandb\u001b[0m: \tl2_reg: 0.5\n",
            "\u001b[34m\u001b[1mwandb\u001b[0m: \tloss_func: cross_entropy_loss\n",
            "\u001b[34m\u001b[1mwandb\u001b[0m: \tlr: 0.001\n",
            "\u001b[34m\u001b[1mwandb\u001b[0m: \tnum_hid_layers: 5\n",
            "\u001b[34m\u001b[1mwandb\u001b[0m: \toptimizer_func: rmsprop\n",
            "\u001b[34m\u001b[1mwandb\u001b[0m: \tweight_init: xavier\n"
          ]
        },
        {
          "output_type": "display_data",
          "data": {
            "text/plain": [
              "<IPython.core.display.HTML object>"
            ],
            "text/html": [
              "Ignoring project 'New Sweep' when running a sweep."
            ]
          },
          "metadata": {}
        },
        {
          "output_type": "display_data",
          "data": {
            "text/plain": [
              "<IPython.core.display.HTML object>"
            ],
            "text/html": [
              "Tracking run with wandb version 0.19.8"
            ]
          },
          "metadata": {}
        },
        {
          "output_type": "display_data",
          "data": {
            "text/plain": [
              "<IPython.core.display.HTML object>"
            ],
            "text/html": [
              "Run data is saved locally in <code>/content/wandb/run-20250317_124302-31pyf5eu</code>"
            ]
          },
          "metadata": {}
        },
        {
          "output_type": "display_data",
          "data": {
            "text/plain": [
              "<IPython.core.display.HTML object>"
            ],
            "text/html": [
              "Syncing run <strong><a href='https://wandb.ai/yeshu183-indian-institute-of-technology-madras/New%20Sweep/runs/31pyf5eu' target=\"_blank\">earthy-sweep-7</a></strong> to <a href='https://wandb.ai/yeshu183-indian-institute-of-technology-madras/New%20Sweep' target=\"_blank\">Weights & Biases</a> (<a href='https://wandb.me/developer-guide' target=\"_blank\">docs</a>)<br>Sweep page: <a href='https://wandb.ai/yeshu183-indian-institute-of-technology-madras/New%20Sweep/sweeps/surnww5r' target=\"_blank\">https://wandb.ai/yeshu183-indian-institute-of-technology-madras/New%20Sweep/sweeps/surnww5r</a>"
            ]
          },
          "metadata": {}
        },
        {
          "output_type": "display_data",
          "data": {
            "text/plain": [
              "<IPython.core.display.HTML object>"
            ],
            "text/html": [
              " View project at <a href='https://wandb.ai/yeshu183-indian-institute-of-technology-madras/New%20Sweep' target=\"_blank\">https://wandb.ai/yeshu183-indian-institute-of-technology-madras/New%20Sweep</a>"
            ]
          },
          "metadata": {}
        },
        {
          "output_type": "display_data",
          "data": {
            "text/plain": [
              "<IPython.core.display.HTML object>"
            ],
            "text/html": [
              " View sweep at <a href='https://wandb.ai/yeshu183-indian-institute-of-technology-madras/New%20Sweep/sweeps/surnww5r' target=\"_blank\">https://wandb.ai/yeshu183-indian-institute-of-technology-madras/New%20Sweep/sweeps/surnww5r</a>"
            ]
          },
          "metadata": {}
        },
        {
          "output_type": "display_data",
          "data": {
            "text/plain": [
              "<IPython.core.display.HTML object>"
            ],
            "text/html": [
              " View run at <a href='https://wandb.ai/yeshu183-indian-institute-of-technology-madras/New%20Sweep/runs/31pyf5eu' target=\"_blank\">https://wandb.ai/yeshu183-indian-institute-of-technology-madras/New%20Sweep/runs/31pyf5eu</a>"
            ]
          },
          "metadata": {}
        },
        {
          "output_type": "stream",
          "name": "stdout",
          "text": [
            "Epoch: 1 | Time: 5.76 | Train Loss: 2.3023 | Train Accuracy: 0.1000 | Val Loss: 2.3026 | Val Accuracy: 0.0933\n",
            "Epoch: 2 | Time: 8.67 | Train Loss: 2.3026 | Train Accuracy: 0.1001 | Val Loss: 2.3026 | Val Accuracy: 0.0933\n",
            "Epoch: 3 | Time: 5.99 | Train Loss: 2.3026 | Train Accuracy: 0.1007 | Val Loss: 2.3027 | Val Accuracy: 0.0933\n",
            "Epoch: 4 | Time: 8.55 | Train Loss: 2.3026 | Train Accuracy: 0.0992 | Val Loss: 2.3027 | Val Accuracy: 0.0933\n",
            "Epoch: 5 | Time: 5.56 | Train Loss: 2.3026 | Train Accuracy: 0.1005 | Val Loss: 2.3027 | Val Accuracy: 0.0933\n",
            "Epoch: 6 | Time: 8.29 | Train Loss: 2.3026 | Train Accuracy: 0.0997 | Val Loss: 2.3027 | Val Accuracy: 0.0933\n",
            "Epoch: 7 | Time: 5.52 | Train Loss: 2.3026 | Train Accuracy: 0.0985 | Val Loss: 2.3027 | Val Accuracy: 0.0933\n",
            "Epoch: 8 | Time: 8.73 | Train Loss: 2.3026 | Train Accuracy: 0.1007 | Val Loss: 2.3027 | Val Accuracy: 0.0933\n",
            "Epoch: 9 | Time: 5.66 | Train Loss: 2.3026 | Train Accuracy: 0.1007 | Val Loss: 2.3027 | Val Accuracy: 0.0933\n",
            "Epoch: 10 | Time: 8.29 | Train Loss: 2.3026 | Train Accuracy: 0.1006 | Val Loss: 2.3027 | Val Accuracy: 0.0933\n",
            "Validation Loss: 2.3027, Validation Accuracy: 0.0933\n"
          ]
        },
        {
          "output_type": "display_data",
          "data": {
            "text/plain": [
              "<IPython.core.display.HTML object>"
            ],
            "text/html": []
          },
          "metadata": {}
        },
        {
          "output_type": "display_data",
          "data": {
            "text/plain": [
              "<IPython.core.display.HTML object>"
            ],
            "text/html": [
              "<br>    <style><br>        .wandb-row {<br>            display: flex;<br>            flex-direction: row;<br>            flex-wrap: wrap;<br>            justify-content: flex-start;<br>            width: 100%;<br>        }<br>        .wandb-col {<br>            display: flex;<br>            flex-direction: column;<br>            flex-basis: 100%;<br>            flex: 1;<br>            padding: 10px;<br>        }<br>    </style><br><div class=\"wandb-row\"><div class=\"wandb-col\"><h3>Run history:</h3><br/><table class=\"wandb\"><tr><td>epoch</td><td>▁▂▃▃▄▅▆▆▇█</td></tr><tr><td>final_val_acc</td><td>▁</td></tr><tr><td>final_val_loss</td><td>▁</td></tr><tr><td>train_acc</td><td>▆▆█▃▇▅▁███</td></tr><tr><td>train_loss</td><td>▁█████████</td></tr><tr><td>val_acc</td><td>▁▁▁▁▁▁▁▁▁▁</td></tr><tr><td>val_loss</td><td>▁▃▄▅▆▇▇▇██</td></tr></table><br/></div><div class=\"wandb-col\"><h3>Run summary:</h3><br/><table class=\"wandb\"><tr><td>epoch</td><td>10</td></tr><tr><td>final_val_acc</td><td>0.09333</td></tr><tr><td>final_val_loss</td><td>2.30273</td></tr></table><br/></div></div>"
            ]
          },
          "metadata": {}
        },
        {
          "output_type": "display_data",
          "data": {
            "text/plain": [
              "<IPython.core.display.HTML object>"
            ],
            "text/html": [
              " View run <strong style=\"color:#cdcd00\">e_10_hl_5_nhpl_32_bs_16_init_xavier_ac_relu_op_rmsprop_lo_cross_entropy_loss</strong> at: <a href='https://wandb.ai/yeshu183-indian-institute-of-technology-madras/New%20Sweep/runs/31pyf5eu' target=\"_blank\">https://wandb.ai/yeshu183-indian-institute-of-technology-madras/New%20Sweep/runs/31pyf5eu</a><br> View project at: <a href='https://wandb.ai/yeshu183-indian-institute-of-technology-madras/New%20Sweep' target=\"_blank\">https://wandb.ai/yeshu183-indian-institute-of-technology-madras/New%20Sweep</a><br>Synced 5 W&B file(s), 0 media file(s), 0 artifact file(s) and 0 other file(s)"
            ]
          },
          "metadata": {}
        },
        {
          "output_type": "display_data",
          "data": {
            "text/plain": [
              "<IPython.core.display.HTML object>"
            ],
            "text/html": [
              "Find logs at: <code>./wandb/run-20250317_124302-31pyf5eu/logs</code>"
            ]
          },
          "metadata": {}
        },
        {
          "output_type": "stream",
          "name": "stderr",
          "text": [
            "\u001b[34m\u001b[1mwandb\u001b[0m: Agent Starting Run: 8e6d34y5 with config:\n",
            "\u001b[34m\u001b[1mwandb\u001b[0m: \tactivation: tanh\n",
            "\u001b[34m\u001b[1mwandb\u001b[0m: \tbatch_size: 16\n",
            "\u001b[34m\u001b[1mwandb\u001b[0m: \tepochs: 5\n",
            "\u001b[34m\u001b[1mwandb\u001b[0m: \thid_layer_size: 128\n",
            "\u001b[34m\u001b[1mwandb\u001b[0m: \tl2_reg: 0\n",
            "\u001b[34m\u001b[1mwandb\u001b[0m: \tloss_func: cross_entropy_loss\n",
            "\u001b[34m\u001b[1mwandb\u001b[0m: \tlr: 0.0001\n",
            "\u001b[34m\u001b[1mwandb\u001b[0m: \tnum_hid_layers: 4\n",
            "\u001b[34m\u001b[1mwandb\u001b[0m: \toptimizer_func: nesterov\n",
            "\u001b[34m\u001b[1mwandb\u001b[0m: \tweight_init: xavier\n"
          ]
        },
        {
          "output_type": "display_data",
          "data": {
            "text/plain": [
              "<IPython.core.display.HTML object>"
            ],
            "text/html": [
              "Ignoring project 'New Sweep' when running a sweep."
            ]
          },
          "metadata": {}
        },
        {
          "output_type": "display_data",
          "data": {
            "text/plain": [
              "<IPython.core.display.HTML object>"
            ],
            "text/html": [
              "Tracking run with wandb version 0.19.8"
            ]
          },
          "metadata": {}
        },
        {
          "output_type": "display_data",
          "data": {
            "text/plain": [
              "<IPython.core.display.HTML object>"
            ],
            "text/html": [
              "Run data is saved locally in <code>/content/wandb/run-20250317_124418-8e6d34y5</code>"
            ]
          },
          "metadata": {}
        },
        {
          "output_type": "display_data",
          "data": {
            "text/plain": [
              "<IPython.core.display.HTML object>"
            ],
            "text/html": [
              "Syncing run <strong><a href='https://wandb.ai/yeshu183-indian-institute-of-technology-madras/New%20Sweep/runs/8e6d34y5' target=\"_blank\">peachy-sweep-8</a></strong> to <a href='https://wandb.ai/yeshu183-indian-institute-of-technology-madras/New%20Sweep' target=\"_blank\">Weights & Biases</a> (<a href='https://wandb.me/developer-guide' target=\"_blank\">docs</a>)<br>Sweep page: <a href='https://wandb.ai/yeshu183-indian-institute-of-technology-madras/New%20Sweep/sweeps/surnww5r' target=\"_blank\">https://wandb.ai/yeshu183-indian-institute-of-technology-madras/New%20Sweep/sweeps/surnww5r</a>"
            ]
          },
          "metadata": {}
        },
        {
          "output_type": "display_data",
          "data": {
            "text/plain": [
              "<IPython.core.display.HTML object>"
            ],
            "text/html": [
              " View project at <a href='https://wandb.ai/yeshu183-indian-institute-of-technology-madras/New%20Sweep' target=\"_blank\">https://wandb.ai/yeshu183-indian-institute-of-technology-madras/New%20Sweep</a>"
            ]
          },
          "metadata": {}
        },
        {
          "output_type": "display_data",
          "data": {
            "text/plain": [
              "<IPython.core.display.HTML object>"
            ],
            "text/html": [
              " View sweep at <a href='https://wandb.ai/yeshu183-indian-institute-of-technology-madras/New%20Sweep/sweeps/surnww5r' target=\"_blank\">https://wandb.ai/yeshu183-indian-institute-of-technology-madras/New%20Sweep/sweeps/surnww5r</a>"
            ]
          },
          "metadata": {}
        },
        {
          "output_type": "display_data",
          "data": {
            "text/plain": [
              "<IPython.core.display.HTML object>"
            ],
            "text/html": [
              " View run at <a href='https://wandb.ai/yeshu183-indian-institute-of-technology-madras/New%20Sweep/runs/8e6d34y5' target=\"_blank\">https://wandb.ai/yeshu183-indian-institute-of-technology-madras/New%20Sweep/runs/8e6d34y5</a>"
            ]
          },
          "metadata": {}
        },
        {
          "output_type": "stream",
          "name": "stdout",
          "text": [
            "Epoch: 1 | Time: 26.48 | Train Loss: 1.0957 | Train Accuracy: 0.6580 | Val Loss: 0.7511 | Val Accuracy: 0.7497\n",
            "Epoch: 2 | Time: 26.11 | Train Loss: 0.6692 | Train Accuracy: 0.7711 | Val Loss: 0.6040 | Val Accuracy: 0.7992\n",
            "Epoch: 3 | Time: 24.93 | Train Loss: 0.5705 | Train Accuracy: 0.8039 | Val Loss: 0.5391 | Val Accuracy: 0.8163\n",
            "Epoch: 4 | Time: 25.26 | Train Loss: 0.5201 | Train Accuracy: 0.8185 | Val Loss: 0.4982 | Val Accuracy: 0.8290\n",
            "Epoch: 5 | Time: 26.93 | Train Loss: 0.4893 | Train Accuracy: 0.8281 | Val Loss: 0.4754 | Val Accuracy: 0.8347\n",
            "Validation Loss: 0.4754, Validation Accuracy: 0.8347\n"
          ]
        },
        {
          "output_type": "display_data",
          "data": {
            "text/plain": [
              "<IPython.core.display.HTML object>"
            ],
            "text/html": []
          },
          "metadata": {}
        },
        {
          "output_type": "display_data",
          "data": {
            "text/plain": [
              "<IPython.core.display.HTML object>"
            ],
            "text/html": [
              "<br>    <style><br>        .wandb-row {<br>            display: flex;<br>            flex-direction: row;<br>            flex-wrap: wrap;<br>            justify-content: flex-start;<br>            width: 100%;<br>        }<br>        .wandb-col {<br>            display: flex;<br>            flex-direction: column;<br>            flex-basis: 100%;<br>            flex: 1;<br>            padding: 10px;<br>        }<br>    </style><br><div class=\"wandb-row\"><div class=\"wandb-col\"><h3>Run history:</h3><br/><table class=\"wandb\"><tr><td>epoch</td><td>▁▃▅▆█</td></tr><tr><td>final_val_acc</td><td>▁</td></tr><tr><td>final_val_loss</td><td>▁</td></tr><tr><td>train_acc</td><td>▁▆▇██</td></tr><tr><td>train_loss</td><td>█▃▂▁▁</td></tr><tr><td>val_acc</td><td>▁▅▆██</td></tr><tr><td>val_loss</td><td>█▄▃▂▁</td></tr></table><br/></div><div class=\"wandb-col\"><h3>Run summary:</h3><br/><table class=\"wandb\"><tr><td>epoch</td><td>5</td></tr><tr><td>final_val_acc</td><td>0.83467</td></tr><tr><td>final_val_loss</td><td>0.47541</td></tr></table><br/></div></div>"
            ]
          },
          "metadata": {}
        },
        {
          "output_type": "display_data",
          "data": {
            "text/plain": [
              "<IPython.core.display.HTML object>"
            ],
            "text/html": [
              " View run <strong style=\"color:#cdcd00\">e_5_hl_4_nhpl_128_bs_16_init_xavier_ac_tanh_op_nesterov_lo_cross_entropy_loss</strong> at: <a href='https://wandb.ai/yeshu183-indian-institute-of-technology-madras/New%20Sweep/runs/8e6d34y5' target=\"_blank\">https://wandb.ai/yeshu183-indian-institute-of-technology-madras/New%20Sweep/runs/8e6d34y5</a><br> View project at: <a href='https://wandb.ai/yeshu183-indian-institute-of-technology-madras/New%20Sweep' target=\"_blank\">https://wandb.ai/yeshu183-indian-institute-of-technology-madras/New%20Sweep</a><br>Synced 5 W&B file(s), 0 media file(s), 0 artifact file(s) and 0 other file(s)"
            ]
          },
          "metadata": {}
        },
        {
          "output_type": "display_data",
          "data": {
            "text/plain": [
              "<IPython.core.display.HTML object>"
            ],
            "text/html": [
              "Find logs at: <code>./wandb/run-20250317_124418-8e6d34y5/logs</code>"
            ]
          },
          "metadata": {}
        },
        {
          "output_type": "stream",
          "name": "stderr",
          "text": [
            "\u001b[34m\u001b[1mwandb\u001b[0m: Agent Starting Run: 2ep3rjts with config:\n",
            "\u001b[34m\u001b[1mwandb\u001b[0m: \tactivation: sigmoid\n",
            "\u001b[34m\u001b[1mwandb\u001b[0m: \tbatch_size: 64\n",
            "\u001b[34m\u001b[1mwandb\u001b[0m: \tepochs: 5\n",
            "\u001b[34m\u001b[1mwandb\u001b[0m: \thid_layer_size: 64\n",
            "\u001b[34m\u001b[1mwandb\u001b[0m: \tl2_reg: 0.5\n",
            "\u001b[34m\u001b[1mwandb\u001b[0m: \tloss_func: squared_error\n",
            "\u001b[34m\u001b[1mwandb\u001b[0m: \tlr: 0.001\n",
            "\u001b[34m\u001b[1mwandb\u001b[0m: \tnum_hid_layers: 5\n",
            "\u001b[34m\u001b[1mwandb\u001b[0m: \toptimizer_func: rmsprop\n",
            "\u001b[34m\u001b[1mwandb\u001b[0m: \tweight_init: xavier\n"
          ]
        },
        {
          "output_type": "display_data",
          "data": {
            "text/plain": [
              "<IPython.core.display.HTML object>"
            ],
            "text/html": [
              "Ignoring project 'New Sweep' when running a sweep."
            ]
          },
          "metadata": {}
        },
        {
          "output_type": "display_data",
          "data": {
            "text/plain": [
              "<IPython.core.display.HTML object>"
            ],
            "text/html": [
              "Tracking run with wandb version 0.19.8"
            ]
          },
          "metadata": {}
        },
        {
          "output_type": "display_data",
          "data": {
            "text/plain": [
              "<IPython.core.display.HTML object>"
            ],
            "text/html": [
              "Run data is saved locally in <code>/content/wandb/run-20250317_124635-2ep3rjts</code>"
            ]
          },
          "metadata": {}
        },
        {
          "output_type": "display_data",
          "data": {
            "text/plain": [
              "<IPython.core.display.HTML object>"
            ],
            "text/html": [
              "Syncing run <strong><a href='https://wandb.ai/yeshu183-indian-institute-of-technology-madras/New%20Sweep/runs/2ep3rjts' target=\"_blank\">glowing-sweep-9</a></strong> to <a href='https://wandb.ai/yeshu183-indian-institute-of-technology-madras/New%20Sweep' target=\"_blank\">Weights & Biases</a> (<a href='https://wandb.me/developer-guide' target=\"_blank\">docs</a>)<br>Sweep page: <a href='https://wandb.ai/yeshu183-indian-institute-of-technology-madras/New%20Sweep/sweeps/surnww5r' target=\"_blank\">https://wandb.ai/yeshu183-indian-institute-of-technology-madras/New%20Sweep/sweeps/surnww5r</a>"
            ]
          },
          "metadata": {}
        },
        {
          "output_type": "display_data",
          "data": {
            "text/plain": [
              "<IPython.core.display.HTML object>"
            ],
            "text/html": [
              " View project at <a href='https://wandb.ai/yeshu183-indian-institute-of-technology-madras/New%20Sweep' target=\"_blank\">https://wandb.ai/yeshu183-indian-institute-of-technology-madras/New%20Sweep</a>"
            ]
          },
          "metadata": {}
        },
        {
          "output_type": "display_data",
          "data": {
            "text/plain": [
              "<IPython.core.display.HTML object>"
            ],
            "text/html": [
              " View sweep at <a href='https://wandb.ai/yeshu183-indian-institute-of-technology-madras/New%20Sweep/sweeps/surnww5r' target=\"_blank\">https://wandb.ai/yeshu183-indian-institute-of-technology-madras/New%20Sweep/sweeps/surnww5r</a>"
            ]
          },
          "metadata": {}
        },
        {
          "output_type": "display_data",
          "data": {
            "text/plain": [
              "<IPython.core.display.HTML object>"
            ],
            "text/html": [
              " View run at <a href='https://wandb.ai/yeshu183-indian-institute-of-technology-madras/New%20Sweep/runs/2ep3rjts' target=\"_blank\">https://wandb.ai/yeshu183-indian-institute-of-technology-madras/New%20Sweep/runs/2ep3rjts</a>"
            ]
          },
          "metadata": {}
        },
        {
          "output_type": "stream",
          "name": "stdout",
          "text": [
            "Epoch: 1 | Time: 4.51 | Train Loss: 0.0903 | Train Accuracy: 0.1012 | Val Loss: 0.0900 | Val Accuracy: 0.0983\n",
            "Epoch: 2 | Time: 4.52 | Train Loss: 0.0900 | Train Accuracy: 0.0984 | Val Loss: 0.0900 | Val Accuracy: 0.0983\n",
            "Epoch: 3 | Time: 7.08 | Train Loss: 0.0900 | Train Accuracy: 0.0987 | Val Loss: 0.0900 | Val Accuracy: 0.0983\n",
            "Epoch: 4 | Time: 5.01 | Train Loss: 0.0900 | Train Accuracy: 0.1003 | Val Loss: 0.0900 | Val Accuracy: 0.0973\n",
            "Epoch: 5 | Time: 6.99 | Train Loss: 0.0900 | Train Accuracy: 0.0983 | Val Loss: 0.0900 | Val Accuracy: 0.1020\n",
            "Validation Loss: 0.0900, Validation Accuracy: 0.1020\n"
          ]
        },
        {
          "output_type": "display_data",
          "data": {
            "text/plain": [
              "<IPython.core.display.HTML object>"
            ],
            "text/html": []
          },
          "metadata": {}
        },
        {
          "output_type": "display_data",
          "data": {
            "text/plain": [
              "<IPython.core.display.HTML object>"
            ],
            "text/html": [
              "<br>    <style><br>        .wandb-row {<br>            display: flex;<br>            flex-direction: row;<br>            flex-wrap: wrap;<br>            justify-content: flex-start;<br>            width: 100%;<br>        }<br>        .wandb-col {<br>            display: flex;<br>            flex-direction: column;<br>            flex-basis: 100%;<br>            flex: 1;<br>            padding: 10px;<br>        }<br>    </style><br><div class=\"wandb-row\"><div class=\"wandb-col\"><h3>Run history:</h3><br/><table class=\"wandb\"><tr><td>epoch</td><td>▁▃▅▆█</td></tr><tr><td>final_val_acc</td><td>▁</td></tr><tr><td>final_val_loss</td><td>▁</td></tr><tr><td>train_acc</td><td>█▁▂▆▁</td></tr><tr><td>train_loss</td><td>█▁▁▁▁</td></tr><tr><td>val_acc</td><td>▃▃▃▁█</td></tr><tr><td>val_loss</td><td>█▃▇▃▁</td></tr></table><br/></div><div class=\"wandb-col\"><h3>Run summary:</h3><br/><table class=\"wandb\"><tr><td>epoch</td><td>5</td></tr><tr><td>final_val_acc</td><td>0.102</td></tr><tr><td>final_val_loss</td><td>0.09</td></tr></table><br/></div></div>"
            ]
          },
          "metadata": {}
        },
        {
          "output_type": "display_data",
          "data": {
            "text/plain": [
              "<IPython.core.display.HTML object>"
            ],
            "text/html": [
              " View run <strong style=\"color:#cdcd00\">e_5_hl_5_nhpl_64_bs_64_init_xavier_ac_sigmoid_op_rmsprop_lo_squared_error</strong> at: <a href='https://wandb.ai/yeshu183-indian-institute-of-technology-madras/New%20Sweep/runs/2ep3rjts' target=\"_blank\">https://wandb.ai/yeshu183-indian-institute-of-technology-madras/New%20Sweep/runs/2ep3rjts</a><br> View project at: <a href='https://wandb.ai/yeshu183-indian-institute-of-technology-madras/New%20Sweep' target=\"_blank\">https://wandb.ai/yeshu183-indian-institute-of-technology-madras/New%20Sweep</a><br>Synced 5 W&B file(s), 0 media file(s), 0 artifact file(s) and 0 other file(s)"
            ]
          },
          "metadata": {}
        },
        {
          "output_type": "display_data",
          "data": {
            "text/plain": [
              "<IPython.core.display.HTML object>"
            ],
            "text/html": [
              "Find logs at: <code>./wandb/run-20250317_124635-2ep3rjts/logs</code>"
            ]
          },
          "metadata": {}
        },
        {
          "output_type": "stream",
          "name": "stderr",
          "text": [
            "\u001b[34m\u001b[1mwandb\u001b[0m: Agent Starting Run: ar9acgdr with config:\n",
            "\u001b[34m\u001b[1mwandb\u001b[0m: \tactivation: tanh\n",
            "\u001b[34m\u001b[1mwandb\u001b[0m: \tbatch_size: 16\n",
            "\u001b[34m\u001b[1mwandb\u001b[0m: \tepochs: 10\n",
            "\u001b[34m\u001b[1mwandb\u001b[0m: \thid_layer_size: 128\n",
            "\u001b[34m\u001b[1mwandb\u001b[0m: \tl2_reg: 0.5\n",
            "\u001b[34m\u001b[1mwandb\u001b[0m: \tloss_func: cross_entropy_loss\n",
            "\u001b[34m\u001b[1mwandb\u001b[0m: \tlr: 0.001\n",
            "\u001b[34m\u001b[1mwandb\u001b[0m: \tnum_hid_layers: 3\n",
            "\u001b[34m\u001b[1mwandb\u001b[0m: \toptimizer_func: nesterov\n",
            "\u001b[34m\u001b[1mwandb\u001b[0m: \tweight_init: random\n"
          ]
        },
        {
          "output_type": "display_data",
          "data": {
            "text/plain": [
              "<IPython.core.display.HTML object>"
            ],
            "text/html": [
              "Ignoring project 'New Sweep' when running a sweep."
            ]
          },
          "metadata": {}
        },
        {
          "output_type": "display_data",
          "data": {
            "text/plain": [
              "<IPython.core.display.HTML object>"
            ],
            "text/html": [
              "Tracking run with wandb version 0.19.8"
            ]
          },
          "metadata": {}
        },
        {
          "output_type": "display_data",
          "data": {
            "text/plain": [
              "<IPython.core.display.HTML object>"
            ],
            "text/html": [
              "Run data is saved locally in <code>/content/wandb/run-20250317_124711-ar9acgdr</code>"
            ]
          },
          "metadata": {}
        },
        {
          "output_type": "display_data",
          "data": {
            "text/plain": [
              "<IPython.core.display.HTML object>"
            ],
            "text/html": [
              "Syncing run <strong><a href='https://wandb.ai/yeshu183-indian-institute-of-technology-madras/New%20Sweep/runs/ar9acgdr' target=\"_blank\">swept-sweep-10</a></strong> to <a href='https://wandb.ai/yeshu183-indian-institute-of-technology-madras/New%20Sweep' target=\"_blank\">Weights & Biases</a> (<a href='https://wandb.me/developer-guide' target=\"_blank\">docs</a>)<br>Sweep page: <a href='https://wandb.ai/yeshu183-indian-institute-of-technology-madras/New%20Sweep/sweeps/surnww5r' target=\"_blank\">https://wandb.ai/yeshu183-indian-institute-of-technology-madras/New%20Sweep/sweeps/surnww5r</a>"
            ]
          },
          "metadata": {}
        },
        {
          "output_type": "display_data",
          "data": {
            "text/plain": [
              "<IPython.core.display.HTML object>"
            ],
            "text/html": [
              " View project at <a href='https://wandb.ai/yeshu183-indian-institute-of-technology-madras/New%20Sweep' target=\"_blank\">https://wandb.ai/yeshu183-indian-institute-of-technology-madras/New%20Sweep</a>"
            ]
          },
          "metadata": {}
        },
        {
          "output_type": "display_data",
          "data": {
            "text/plain": [
              "<IPython.core.display.HTML object>"
            ],
            "text/html": [
              " View sweep at <a href='https://wandb.ai/yeshu183-indian-institute-of-technology-madras/New%20Sweep/sweeps/surnww5r' target=\"_blank\">https://wandb.ai/yeshu183-indian-institute-of-technology-madras/New%20Sweep/sweeps/surnww5r</a>"
            ]
          },
          "metadata": {}
        },
        {
          "output_type": "display_data",
          "data": {
            "text/plain": [
              "<IPython.core.display.HTML object>"
            ],
            "text/html": [
              " View run at <a href='https://wandb.ai/yeshu183-indian-institute-of-technology-madras/New%20Sweep/runs/ar9acgdr' target=\"_blank\">https://wandb.ai/yeshu183-indian-institute-of-technology-madras/New%20Sweep/runs/ar9acgdr</a>"
            ]
          },
          "metadata": {}
        },
        {
          "output_type": "stream",
          "name": "stdout",
          "text": [
            "Epoch: 1 | Time: 23.81 | Train Loss: 2.3912 | Train Accuracy: 0.1772 | Val Loss: 2.3168 | Val Accuracy: 0.0983\n",
            "Epoch: 2 | Time: 20.84 | Train Loss: 2.3119 | Train Accuracy: 0.1013 | Val Loss: 2.3084 | Val Accuracy: 0.1072\n",
            "Epoch: 3 | Time: 23.25 | Train Loss: 2.3118 | Train Accuracy: 0.1008 | Val Loss: 2.3123 | Val Accuracy: 0.0973\n",
            "Epoch: 4 | Time: 20.65 | Train Loss: 2.3117 | Train Accuracy: 0.0984 | Val Loss: 2.3087 | Val Accuracy: 0.0973\n",
            "Epoch: 5 | Time: 23.05 | Train Loss: 2.3116 | Train Accuracy: 0.1009 | Val Loss: 2.3176 | Val Accuracy: 0.0983\n",
            "Epoch: 6 | Time: 21.19 | Train Loss: 2.3113 | Train Accuracy: 0.0997 | Val Loss: 2.3142 | Val Accuracy: 0.0973\n",
            "Epoch: 7 | Time: 22.76 | Train Loss: 2.3108 | Train Accuracy: 0.0985 | Val Loss: 2.3074 | Val Accuracy: 0.0973\n",
            "Epoch: 8 | Time: 21.56 | Train Loss: 2.3110 | Train Accuracy: 0.1018 | Val Loss: 2.3134 | Val Accuracy: 0.0973\n",
            "Epoch: 9 | Time: 22.41 | Train Loss: 2.3110 | Train Accuracy: 0.1006 | Val Loss: 2.3056 | Val Accuracy: 0.0973\n",
            "Epoch: 10 | Time: 21.59 | Train Loss: 2.3110 | Train Accuracy: 0.0989 | Val Loss: 2.3139 | Val Accuracy: 0.0983\n",
            "Validation Loss: 2.3139, Validation Accuracy: 0.0983\n"
          ]
        },
        {
          "output_type": "display_data",
          "data": {
            "text/plain": [
              "<IPython.core.display.HTML object>"
            ],
            "text/html": []
          },
          "metadata": {}
        },
        {
          "output_type": "display_data",
          "data": {
            "text/plain": [
              "<IPython.core.display.HTML object>"
            ],
            "text/html": [
              "<br>    <style><br>        .wandb-row {<br>            display: flex;<br>            flex-direction: row;<br>            flex-wrap: wrap;<br>            justify-content: flex-start;<br>            width: 100%;<br>        }<br>        .wandb-col {<br>            display: flex;<br>            flex-direction: column;<br>            flex-basis: 100%;<br>            flex: 1;<br>            padding: 10px;<br>        }<br>    </style><br><div class=\"wandb-row\"><div class=\"wandb-col\"><h3>Run history:</h3><br/><table class=\"wandb\"><tr><td>epoch</td><td>▁▂▃▃▄▅▆▆▇█</td></tr><tr><td>final_val_acc</td><td>▁</td></tr><tr><td>final_val_loss</td><td>▁</td></tr><tr><td>train_acc</td><td>█▁▁▁▁▁▁▁▁▁</td></tr><tr><td>train_loss</td><td>█▁▁▁▁▁▁▁▁▁</td></tr><tr><td>val_acc</td><td>▂█▁▁▂▁▁▁▁▂</td></tr><tr><td>val_loss</td><td>█▃▅▃█▆▂▆▁▆</td></tr></table><br/></div><div class=\"wandb-col\"><h3>Run summary:</h3><br/><table class=\"wandb\"><tr><td>epoch</td><td>10</td></tr><tr><td>final_val_acc</td><td>0.09833</td></tr><tr><td>final_val_loss</td><td>2.31387</td></tr></table><br/></div></div>"
            ]
          },
          "metadata": {}
        },
        {
          "output_type": "display_data",
          "data": {
            "text/plain": [
              "<IPython.core.display.HTML object>"
            ],
            "text/html": [
              " View run <strong style=\"color:#cdcd00\">e_10_hl_3_nhpl_128_bs_16_init_random_ac_tanh_op_nesterov_lo_cross_entropy_loss</strong> at: <a href='https://wandb.ai/yeshu183-indian-institute-of-technology-madras/New%20Sweep/runs/ar9acgdr' target=\"_blank\">https://wandb.ai/yeshu183-indian-institute-of-technology-madras/New%20Sweep/runs/ar9acgdr</a><br> View project at: <a href='https://wandb.ai/yeshu183-indian-institute-of-technology-madras/New%20Sweep' target=\"_blank\">https://wandb.ai/yeshu183-indian-institute-of-technology-madras/New%20Sweep</a><br>Synced 5 W&B file(s), 0 media file(s), 0 artifact file(s) and 0 other file(s)"
            ]
          },
          "metadata": {}
        },
        {
          "output_type": "display_data",
          "data": {
            "text/plain": [
              "<IPython.core.display.HTML object>"
            ],
            "text/html": [
              "Find logs at: <code>./wandb/run-20250317_124711-ar9acgdr/logs</code>"
            ]
          },
          "metadata": {}
        },
        {
          "output_type": "stream",
          "name": "stderr",
          "text": [
            "\u001b[34m\u001b[1mwandb\u001b[0m: Agent Starting Run: r06mphfe with config:\n",
            "\u001b[34m\u001b[1mwandb\u001b[0m: \tactivation: sigmoid\n",
            "\u001b[34m\u001b[1mwandb\u001b[0m: \tbatch_size: 16\n",
            "\u001b[34m\u001b[1mwandb\u001b[0m: \tepochs: 10\n",
            "\u001b[34m\u001b[1mwandb\u001b[0m: \thid_layer_size: 64\n",
            "\u001b[34m\u001b[1mwandb\u001b[0m: \tl2_reg: 0.0005\n",
            "\u001b[34m\u001b[1mwandb\u001b[0m: \tloss_func: cross_entropy_loss\n",
            "\u001b[34m\u001b[1mwandb\u001b[0m: \tlr: 0.001\n",
            "\u001b[34m\u001b[1mwandb\u001b[0m: \tnum_hid_layers: 3\n",
            "\u001b[34m\u001b[1mwandb\u001b[0m: \toptimizer_func: nesterov\n",
            "\u001b[34m\u001b[1mwandb\u001b[0m: \tweight_init: xavier\n"
          ]
        },
        {
          "output_type": "display_data",
          "data": {
            "text/plain": [
              "<IPython.core.display.HTML object>"
            ],
            "text/html": [
              "Ignoring project 'New Sweep' when running a sweep."
            ]
          },
          "metadata": {}
        },
        {
          "output_type": "display_data",
          "data": {
            "text/plain": [
              "<IPython.core.display.HTML object>"
            ],
            "text/html": [
              "Tracking run with wandb version 0.19.8"
            ]
          },
          "metadata": {}
        },
        {
          "output_type": "display_data",
          "data": {
            "text/plain": [
              "<IPython.core.display.HTML object>"
            ],
            "text/html": [
              "Run data is saved locally in <code>/content/wandb/run-20250317_125059-r06mphfe</code>"
            ]
          },
          "metadata": {}
        },
        {
          "output_type": "display_data",
          "data": {
            "text/plain": [
              "<IPython.core.display.HTML object>"
            ],
            "text/html": [
              "Syncing run <strong><a href='https://wandb.ai/yeshu183-indian-institute-of-technology-madras/New%20Sweep/runs/r06mphfe' target=\"_blank\">snowy-sweep-11</a></strong> to <a href='https://wandb.ai/yeshu183-indian-institute-of-technology-madras/New%20Sweep' target=\"_blank\">Weights & Biases</a> (<a href='https://wandb.me/developer-guide' target=\"_blank\">docs</a>)<br>Sweep page: <a href='https://wandb.ai/yeshu183-indian-institute-of-technology-madras/New%20Sweep/sweeps/surnww5r' target=\"_blank\">https://wandb.ai/yeshu183-indian-institute-of-technology-madras/New%20Sweep/sweeps/surnww5r</a>"
            ]
          },
          "metadata": {}
        },
        {
          "output_type": "display_data",
          "data": {
            "text/plain": [
              "<IPython.core.display.HTML object>"
            ],
            "text/html": [
              " View project at <a href='https://wandb.ai/yeshu183-indian-institute-of-technology-madras/New%20Sweep' target=\"_blank\">https://wandb.ai/yeshu183-indian-institute-of-technology-madras/New%20Sweep</a>"
            ]
          },
          "metadata": {}
        },
        {
          "output_type": "display_data",
          "data": {
            "text/plain": [
              "<IPython.core.display.HTML object>"
            ],
            "text/html": [
              " View sweep at <a href='https://wandb.ai/yeshu183-indian-institute-of-technology-madras/New%20Sweep/sweeps/surnww5r' target=\"_blank\">https://wandb.ai/yeshu183-indian-institute-of-technology-madras/New%20Sweep/sweeps/surnww5r</a>"
            ]
          },
          "metadata": {}
        },
        {
          "output_type": "display_data",
          "data": {
            "text/plain": [
              "<IPython.core.display.HTML object>"
            ],
            "text/html": [
              " View run at <a href='https://wandb.ai/yeshu183-indian-institute-of-technology-madras/New%20Sweep/runs/r06mphfe' target=\"_blank\">https://wandb.ai/yeshu183-indian-institute-of-technology-madras/New%20Sweep/runs/r06mphfe</a>"
            ]
          },
          "metadata": {}
        },
        {
          "output_type": "stream",
          "name": "stdout",
          "text": [
            "Epoch: 1 | Time: 10.13 | Train Loss: 2.2914 | Train Accuracy: 0.1397 | Val Loss: 2.2615 | Val Accuracy: 0.1765\n",
            "Epoch: 2 | Time: 10.76 | Train Loss: 2.0644 | Train Accuracy: 0.3092 | Val Loss: 1.7071 | Val Accuracy: 0.3603\n",
            "Epoch: 3 | Time: 8.65 | Train Loss: 1.4960 | Train Accuracy: 0.4724 | Val Loss: 1.3114 | Val Accuracy: 0.5623\n",
            "Epoch: 4 | Time: 9.82 | Train Loss: 1.1950 | Train Accuracy: 0.5806 | Val Loss: 1.0823 | Val Accuracy: 0.6225\n",
            "Epoch: 5 | Time: 10.58 | Train Loss: 1.0244 | Train Accuracy: 0.6186 | Val Loss: 0.9624 | Val Accuracy: 0.6527\n",
            "Epoch: 6 | Time: 7.77 | Train Loss: 0.9252 | Train Accuracy: 0.6486 | Val Loss: 0.8852 | Val Accuracy: 0.6750\n",
            "Epoch: 7 | Time: 10.30 | Train Loss: 0.8548 | Train Accuracy: 0.6770 | Val Loss: 0.8206 | Val Accuracy: 0.6837\n",
            "Epoch: 8 | Time: 10.59 | Train Loss: 0.7987 | Train Accuracy: 0.7097 | Val Loss: 0.7714 | Val Accuracy: 0.7292\n",
            "Epoch: 9 | Time: 7.86 | Train Loss: 0.7517 | Train Accuracy: 0.7293 | Val Loss: 0.7272 | Val Accuracy: 0.7535\n",
            "Epoch: 10 | Time: 10.28 | Train Loss: 0.7113 | Train Accuracy: 0.7467 | Val Loss: 0.6875 | Val Accuracy: 0.7657\n",
            "Validation Loss: 0.6875, Validation Accuracy: 0.7657\n"
          ]
        },
        {
          "output_type": "display_data",
          "data": {
            "text/plain": [
              "<IPython.core.display.HTML object>"
            ],
            "text/html": []
          },
          "metadata": {}
        },
        {
          "output_type": "display_data",
          "data": {
            "text/plain": [
              "<IPython.core.display.HTML object>"
            ],
            "text/html": [
              "<br>    <style><br>        .wandb-row {<br>            display: flex;<br>            flex-direction: row;<br>            flex-wrap: wrap;<br>            justify-content: flex-start;<br>            width: 100%;<br>        }<br>        .wandb-col {<br>            display: flex;<br>            flex-direction: column;<br>            flex-basis: 100%;<br>            flex: 1;<br>            padding: 10px;<br>        }<br>    </style><br><div class=\"wandb-row\"><div class=\"wandb-col\"><h3>Run history:</h3><br/><table class=\"wandb\"><tr><td>epoch</td><td>▁▂▃▃▄▅▆▆▇█</td></tr><tr><td>final_val_acc</td><td>▁</td></tr><tr><td>final_val_loss</td><td>▁</td></tr><tr><td>train_acc</td><td>▁▃▅▆▇▇▇███</td></tr><tr><td>train_loss</td><td>█▇▄▃▂▂▂▁▁▁</td></tr><tr><td>val_acc</td><td>▁▃▆▆▇▇▇███</td></tr><tr><td>val_loss</td><td>█▆▄▃▂▂▂▁▁▁</td></tr></table><br/></div><div class=\"wandb-col\"><h3>Run summary:</h3><br/><table class=\"wandb\"><tr><td>epoch</td><td>10</td></tr><tr><td>final_val_acc</td><td>0.76567</td></tr><tr><td>final_val_loss</td><td>0.68748</td></tr></table><br/></div></div>"
            ]
          },
          "metadata": {}
        },
        {
          "output_type": "display_data",
          "data": {
            "text/plain": [
              "<IPython.core.display.HTML object>"
            ],
            "text/html": [
              " View run <strong style=\"color:#cdcd00\">e_10_hl_3_nhpl_64_bs_16_init_xavier_ac_sigmoid_op_nesterov_lo_cross_entropy_loss</strong> at: <a href='https://wandb.ai/yeshu183-indian-institute-of-technology-madras/New%20Sweep/runs/r06mphfe' target=\"_blank\">https://wandb.ai/yeshu183-indian-institute-of-technology-madras/New%20Sweep/runs/r06mphfe</a><br> View project at: <a href='https://wandb.ai/yeshu183-indian-institute-of-technology-madras/New%20Sweep' target=\"_blank\">https://wandb.ai/yeshu183-indian-institute-of-technology-madras/New%20Sweep</a><br>Synced 5 W&B file(s), 0 media file(s), 0 artifact file(s) and 0 other file(s)"
            ]
          },
          "metadata": {}
        },
        {
          "output_type": "display_data",
          "data": {
            "text/plain": [
              "<IPython.core.display.HTML object>"
            ],
            "text/html": [
              "Find logs at: <code>./wandb/run-20250317_125059-r06mphfe/logs</code>"
            ]
          },
          "metadata": {}
        },
        {
          "output_type": "stream",
          "name": "stderr",
          "text": [
            "\u001b[34m\u001b[1mwandb\u001b[0m: Agent Starting Run: qm7blfzl with config:\n",
            "\u001b[34m\u001b[1mwandb\u001b[0m: \tactivation: sigmoid\n",
            "\u001b[34m\u001b[1mwandb\u001b[0m: \tbatch_size: 32\n",
            "\u001b[34m\u001b[1mwandb\u001b[0m: \tepochs: 5\n",
            "\u001b[34m\u001b[1mwandb\u001b[0m: \thid_layer_size: 64\n",
            "\u001b[34m\u001b[1mwandb\u001b[0m: \tl2_reg: 0\n",
            "\u001b[34m\u001b[1mwandb\u001b[0m: \tloss_func: squared_error\n",
            "\u001b[34m\u001b[1mwandb\u001b[0m: \tlr: 0.001\n",
            "\u001b[34m\u001b[1mwandb\u001b[0m: \tnum_hid_layers: 4\n",
            "\u001b[34m\u001b[1mwandb\u001b[0m: \toptimizer_func: nesterov\n",
            "\u001b[34m\u001b[1mwandb\u001b[0m: \tweight_init: xavier\n"
          ]
        },
        {
          "output_type": "display_data",
          "data": {
            "text/plain": [
              "<IPython.core.display.HTML object>"
            ],
            "text/html": [
              "Ignoring project 'New Sweep' when running a sweep."
            ]
          },
          "metadata": {}
        },
        {
          "output_type": "display_data",
          "data": {
            "text/plain": [
              "<IPython.core.display.HTML object>"
            ],
            "text/html": [
              "Tracking run with wandb version 0.19.8"
            ]
          },
          "metadata": {}
        },
        {
          "output_type": "display_data",
          "data": {
            "text/plain": [
              "<IPython.core.display.HTML object>"
            ],
            "text/html": [
              "Run data is saved locally in <code>/content/wandb/run-20250317_125246-qm7blfzl</code>"
            ]
          },
          "metadata": {}
        },
        {
          "output_type": "display_data",
          "data": {
            "text/plain": [
              "<IPython.core.display.HTML object>"
            ],
            "text/html": [
              "Syncing run <strong><a href='https://wandb.ai/yeshu183-indian-institute-of-technology-madras/New%20Sweep/runs/qm7blfzl' target=\"_blank\">light-sweep-12</a></strong> to <a href='https://wandb.ai/yeshu183-indian-institute-of-technology-madras/New%20Sweep' target=\"_blank\">Weights & Biases</a> (<a href='https://wandb.me/developer-guide' target=\"_blank\">docs</a>)<br>Sweep page: <a href='https://wandb.ai/yeshu183-indian-institute-of-technology-madras/New%20Sweep/sweeps/surnww5r' target=\"_blank\">https://wandb.ai/yeshu183-indian-institute-of-technology-madras/New%20Sweep/sweeps/surnww5r</a>"
            ]
          },
          "metadata": {}
        },
        {
          "output_type": "display_data",
          "data": {
            "text/plain": [
              "<IPython.core.display.HTML object>"
            ],
            "text/html": [
              " View project at <a href='https://wandb.ai/yeshu183-indian-institute-of-technology-madras/New%20Sweep' target=\"_blank\">https://wandb.ai/yeshu183-indian-institute-of-technology-madras/New%20Sweep</a>"
            ]
          },
          "metadata": {}
        },
        {
          "output_type": "display_data",
          "data": {
            "text/plain": [
              "<IPython.core.display.HTML object>"
            ],
            "text/html": [
              " View sweep at <a href='https://wandb.ai/yeshu183-indian-institute-of-technology-madras/New%20Sweep/sweeps/surnww5r' target=\"_blank\">https://wandb.ai/yeshu183-indian-institute-of-technology-madras/New%20Sweep/sweeps/surnww5r</a>"
            ]
          },
          "metadata": {}
        },
        {
          "output_type": "display_data",
          "data": {
            "text/plain": [
              "<IPython.core.display.HTML object>"
            ],
            "text/html": [
              " View run at <a href='https://wandb.ai/yeshu183-indian-institute-of-technology-madras/New%20Sweep/runs/qm7blfzl' target=\"_blank\">https://wandb.ai/yeshu183-indian-institute-of-technology-madras/New%20Sweep/runs/qm7blfzl</a>"
            ]
          },
          "metadata": {}
        },
        {
          "output_type": "stream",
          "name": "stdout",
          "text": [
            "Epoch: 1 | Time: 7.87 | Train Loss: 0.0905 | Train Accuracy: 0.0994 | Val Loss: 0.0900 | Val Accuracy: 0.0983\n",
            "Epoch: 2 | Time: 5.98 | Train Loss: 0.0900 | Train Accuracy: 0.1017 | Val Loss: 0.0900 | Val Accuracy: 0.0990\n",
            "Epoch: 3 | Time: 8.38 | Train Loss: 0.0900 | Train Accuracy: 0.1028 | Val Loss: 0.0900 | Val Accuracy: 0.0983\n",
            "Epoch: 4 | Time: 5.70 | Train Loss: 0.0900 | Train Accuracy: 0.1070 | Val Loss: 0.0900 | Val Accuracy: 0.0947\n",
            "Epoch: 5 | Time: 8.39 | Train Loss: 0.0900 | Train Accuracy: 0.1066 | Val Loss: 0.0900 | Val Accuracy: 0.0973\n",
            "Validation Loss: 0.0900, Validation Accuracy: 0.0973\n"
          ]
        },
        {
          "output_type": "display_data",
          "data": {
            "text/plain": [
              "<IPython.core.display.HTML object>"
            ],
            "text/html": []
          },
          "metadata": {}
        },
        {
          "output_type": "display_data",
          "data": {
            "text/plain": [
              "<IPython.core.display.HTML object>"
            ],
            "text/html": [
              "<br>    <style><br>        .wandb-row {<br>            display: flex;<br>            flex-direction: row;<br>            flex-wrap: wrap;<br>            justify-content: flex-start;<br>            width: 100%;<br>        }<br>        .wandb-col {<br>            display: flex;<br>            flex-direction: column;<br>            flex-basis: 100%;<br>            flex: 1;<br>            padding: 10px;<br>        }<br>    </style><br><div class=\"wandb-row\"><div class=\"wandb-col\"><h3>Run history:</h3><br/><table class=\"wandb\"><tr><td>epoch</td><td>▁▃▅▆█</td></tr><tr><td>final_val_acc</td><td>▁</td></tr><tr><td>final_val_loss</td><td>▁</td></tr><tr><td>train_acc</td><td>▁▃▄██</td></tr><tr><td>train_loss</td><td>█▁▁▁▁</td></tr><tr><td>val_acc</td><td>▇█▇▁▅</td></tr><tr><td>val_loss</td><td>█▆▅▂▁</td></tr></table><br/></div><div class=\"wandb-col\"><h3>Run summary:</h3><br/><table class=\"wandb\"><tr><td>epoch</td><td>5</td></tr><tr><td>final_val_acc</td><td>0.09733</td></tr><tr><td>final_val_loss</td><td>0.08998</td></tr></table><br/></div></div>"
            ]
          },
          "metadata": {}
        },
        {
          "output_type": "display_data",
          "data": {
            "text/plain": [
              "<IPython.core.display.HTML object>"
            ],
            "text/html": [
              " View run <strong style=\"color:#cdcd00\">e_5_hl_4_nhpl_64_bs_32_init_xavier_ac_sigmoid_op_nesterov_lo_squared_error</strong> at: <a href='https://wandb.ai/yeshu183-indian-institute-of-technology-madras/New%20Sweep/runs/qm7blfzl' target=\"_blank\">https://wandb.ai/yeshu183-indian-institute-of-technology-madras/New%20Sweep/runs/qm7blfzl</a><br> View project at: <a href='https://wandb.ai/yeshu183-indian-institute-of-technology-madras/New%20Sweep' target=\"_blank\">https://wandb.ai/yeshu183-indian-institute-of-technology-madras/New%20Sweep</a><br>Synced 5 W&B file(s), 0 media file(s), 0 artifact file(s) and 0 other file(s)"
            ]
          },
          "metadata": {}
        },
        {
          "output_type": "display_data",
          "data": {
            "text/plain": [
              "<IPython.core.display.HTML object>"
            ],
            "text/html": [
              "Find logs at: <code>./wandb/run-20250317_125246-qm7blfzl/logs</code>"
            ]
          },
          "metadata": {}
        },
        {
          "output_type": "stream",
          "name": "stderr",
          "text": [
            "\u001b[34m\u001b[1mwandb\u001b[0m: Agent Starting Run: 62lagckn with config:\n",
            "\u001b[34m\u001b[1mwandb\u001b[0m: \tactivation: tanh\n",
            "\u001b[34m\u001b[1mwandb\u001b[0m: \tbatch_size: 64\n",
            "\u001b[34m\u001b[1mwandb\u001b[0m: \tepochs: 10\n",
            "\u001b[34m\u001b[1mwandb\u001b[0m: \thid_layer_size: 64\n",
            "\u001b[34m\u001b[1mwandb\u001b[0m: \tl2_reg: 0.0005\n",
            "\u001b[34m\u001b[1mwandb\u001b[0m: \tloss_func: squared_error\n",
            "\u001b[34m\u001b[1mwandb\u001b[0m: \tlr: 0.0001\n",
            "\u001b[34m\u001b[1mwandb\u001b[0m: \tnum_hid_layers: 3\n",
            "\u001b[34m\u001b[1mwandb\u001b[0m: \toptimizer_func: adam\n",
            "\u001b[34m\u001b[1mwandb\u001b[0m: \tweight_init: random\n"
          ]
        },
        {
          "output_type": "display_data",
          "data": {
            "text/plain": [
              "<IPython.core.display.HTML object>"
            ],
            "text/html": [
              "Ignoring project 'New Sweep' when running a sweep."
            ]
          },
          "metadata": {}
        },
        {
          "output_type": "display_data",
          "data": {
            "text/plain": [
              "<IPython.core.display.HTML object>"
            ],
            "text/html": [
              "Tracking run with wandb version 0.19.8"
            ]
          },
          "metadata": {}
        },
        {
          "output_type": "display_data",
          "data": {
            "text/plain": [
              "<IPython.core.display.HTML object>"
            ],
            "text/html": [
              "Run data is saved locally in <code>/content/wandb/run-20250317_125328-62lagckn</code>"
            ]
          },
          "metadata": {}
        },
        {
          "output_type": "display_data",
          "data": {
            "text/plain": [
              "<IPython.core.display.HTML object>"
            ],
            "text/html": [
              "Syncing run <strong><a href='https://wandb.ai/yeshu183-indian-institute-of-technology-madras/New%20Sweep/runs/62lagckn' target=\"_blank\">helpful-sweep-13</a></strong> to <a href='https://wandb.ai/yeshu183-indian-institute-of-technology-madras/New%20Sweep' target=\"_blank\">Weights & Biases</a> (<a href='https://wandb.me/developer-guide' target=\"_blank\">docs</a>)<br>Sweep page: <a href='https://wandb.ai/yeshu183-indian-institute-of-technology-madras/New%20Sweep/sweeps/surnww5r' target=\"_blank\">https://wandb.ai/yeshu183-indian-institute-of-technology-madras/New%20Sweep/sweeps/surnww5r</a>"
            ]
          },
          "metadata": {}
        },
        {
          "output_type": "display_data",
          "data": {
            "text/plain": [
              "<IPython.core.display.HTML object>"
            ],
            "text/html": [
              " View project at <a href='https://wandb.ai/yeshu183-indian-institute-of-technology-madras/New%20Sweep' target=\"_blank\">https://wandb.ai/yeshu183-indian-institute-of-technology-madras/New%20Sweep</a>"
            ]
          },
          "metadata": {}
        },
        {
          "output_type": "display_data",
          "data": {
            "text/plain": [
              "<IPython.core.display.HTML object>"
            ],
            "text/html": [
              " View sweep at <a href='https://wandb.ai/yeshu183-indian-institute-of-technology-madras/New%20Sweep/sweeps/surnww5r' target=\"_blank\">https://wandb.ai/yeshu183-indian-institute-of-technology-madras/New%20Sweep/sweeps/surnww5r</a>"
            ]
          },
          "metadata": {}
        },
        {
          "output_type": "display_data",
          "data": {
            "text/plain": [
              "<IPython.core.display.HTML object>"
            ],
            "text/html": [
              " View run at <a href='https://wandb.ai/yeshu183-indian-institute-of-technology-madras/New%20Sweep/runs/62lagckn' target=\"_blank\">https://wandb.ai/yeshu183-indian-institute-of-technology-madras/New%20Sweep/runs/62lagckn</a>"
            ]
          },
          "metadata": {}
        },
        {
          "output_type": "stream",
          "name": "stdout",
          "text": [
            "Epoch: 1 | Time: 7.66 | Train Loss: 0.1507 | Train Accuracy: 0.1118 | Val Loss: 0.1431 | Val Accuracy: 0.1155\n",
            "Epoch: 2 | Time: 5.18 | Train Loss: 0.1267 | Train Accuracy: 0.1453 | Val Loss: 0.1111 | Val Accuracy: 0.1790\n",
            "Epoch: 3 | Time: 7.83 | Train Loss: 0.1001 | Train Accuracy: 0.2063 | Val Loss: 0.0930 | Val Accuracy: 0.2388\n",
            "Epoch: 4 | Time: 5.17 | Train Loss: 0.0887 | Train Accuracy: 0.2612 | Val Loss: 0.0855 | Val Accuracy: 0.2847\n",
            "Epoch: 5 | Time: 6.62 | Train Loss: 0.0820 | Train Accuracy: 0.3143 | Val Loss: 0.0785 | Val Accuracy: 0.3575\n",
            "Epoch: 6 | Time: 6.42 | Train Loss: 0.0757 | Train Accuracy: 0.3910 | Val Loss: 0.0723 | Val Accuracy: 0.4287\n",
            "Epoch: 7 | Time: 5.24 | Train Loss: 0.0702 | Train Accuracy: 0.4445 | Val Loss: 0.0675 | Val Accuracy: 0.4665\n",
            "Epoch: 8 | Time: 7.86 | Train Loss: 0.0657 | Train Accuracy: 0.4829 | Val Loss: 0.0634 | Val Accuracy: 0.5052\n",
            "Epoch: 9 | Time: 5.42 | Train Loss: 0.0617 | Train Accuracy: 0.5165 | Val Loss: 0.0595 | Val Accuracy: 0.5370\n",
            "Epoch: 10 | Time: 7.71 | Train Loss: 0.0582 | Train Accuracy: 0.5460 | Val Loss: 0.0562 | Val Accuracy: 0.5615\n",
            "Validation Loss: 0.0562, Validation Accuracy: 0.5615\n"
          ]
        },
        {
          "output_type": "display_data",
          "data": {
            "text/plain": [
              "<IPython.core.display.HTML object>"
            ],
            "text/html": []
          },
          "metadata": {}
        },
        {
          "output_type": "display_data",
          "data": {
            "text/plain": [
              "<IPython.core.display.HTML object>"
            ],
            "text/html": [
              "<br>    <style><br>        .wandb-row {<br>            display: flex;<br>            flex-direction: row;<br>            flex-wrap: wrap;<br>            justify-content: flex-start;<br>            width: 100%;<br>        }<br>        .wandb-col {<br>            display: flex;<br>            flex-direction: column;<br>            flex-basis: 100%;<br>            flex: 1;<br>            padding: 10px;<br>        }<br>    </style><br><div class=\"wandb-row\"><div class=\"wandb-col\"><h3>Run history:</h3><br/><table class=\"wandb\"><tr><td>epoch</td><td>▁▂▃▃▄▅▆▆▇█</td></tr><tr><td>final_val_acc</td><td>▁</td></tr><tr><td>final_val_loss</td><td>▁</td></tr><tr><td>train_acc</td><td>▁▂▃▃▄▆▆▇██</td></tr><tr><td>train_loss</td><td>█▆▄▃▃▂▂▂▁▁</td></tr><tr><td>val_acc</td><td>▁▂▃▄▅▆▇▇██</td></tr><tr><td>val_loss</td><td>█▅▄▃▃▂▂▂▁▁</td></tr></table><br/></div><div class=\"wandb-col\"><h3>Run summary:</h3><br/><table class=\"wandb\"><tr><td>epoch</td><td>10</td></tr><tr><td>final_val_acc</td><td>0.5615</td></tr><tr><td>final_val_loss</td><td>0.05619</td></tr></table><br/></div></div>"
            ]
          },
          "metadata": {}
        },
        {
          "output_type": "display_data",
          "data": {
            "text/plain": [
              "<IPython.core.display.HTML object>"
            ],
            "text/html": [
              " View run <strong style=\"color:#cdcd00\">e_10_hl_3_nhpl_64_bs_64_init_random_ac_tanh_op_adam_lo_squared_error</strong> at: <a href='https://wandb.ai/yeshu183-indian-institute-of-technology-madras/New%20Sweep/runs/62lagckn' target=\"_blank\">https://wandb.ai/yeshu183-indian-institute-of-technology-madras/New%20Sweep/runs/62lagckn</a><br> View project at: <a href='https://wandb.ai/yeshu183-indian-institute-of-technology-madras/New%20Sweep' target=\"_blank\">https://wandb.ai/yeshu183-indian-institute-of-technology-madras/New%20Sweep</a><br>Synced 5 W&B file(s), 0 media file(s), 0 artifact file(s) and 0 other file(s)"
            ]
          },
          "metadata": {}
        },
        {
          "output_type": "display_data",
          "data": {
            "text/plain": [
              "<IPython.core.display.HTML object>"
            ],
            "text/html": [
              "Find logs at: <code>./wandb/run-20250317_125328-62lagckn/logs</code>"
            ]
          },
          "metadata": {}
        },
        {
          "output_type": "stream",
          "name": "stderr",
          "text": [
            "\u001b[34m\u001b[1mwandb\u001b[0m: Agent Starting Run: 1opk0rv7 with config:\n",
            "\u001b[34m\u001b[1mwandb\u001b[0m: \tactivation: tanh\n",
            "\u001b[34m\u001b[1mwandb\u001b[0m: \tbatch_size: 64\n",
            "\u001b[34m\u001b[1mwandb\u001b[0m: \tepochs: 5\n",
            "\u001b[34m\u001b[1mwandb\u001b[0m: \thid_layer_size: 128\n",
            "\u001b[34m\u001b[1mwandb\u001b[0m: \tl2_reg: 0\n",
            "\u001b[34m\u001b[1mwandb\u001b[0m: \tloss_func: cross_entropy_loss\n",
            "\u001b[34m\u001b[1mwandb\u001b[0m: \tlr: 0.001\n",
            "\u001b[34m\u001b[1mwandb\u001b[0m: \tnum_hid_layers: 5\n",
            "\u001b[34m\u001b[1mwandb\u001b[0m: \toptimizer_func: sgd\n",
            "\u001b[34m\u001b[1mwandb\u001b[0m: \tweight_init: xavier\n"
          ]
        },
        {
          "output_type": "display_data",
          "data": {
            "text/plain": [
              "<IPython.core.display.HTML object>"
            ],
            "text/html": [
              "Ignoring project 'New Sweep' when running a sweep."
            ]
          },
          "metadata": {}
        },
        {
          "output_type": "display_data",
          "data": {
            "text/plain": [
              "<IPython.core.display.HTML object>"
            ],
            "text/html": [
              "Tracking run with wandb version 0.19.8"
            ]
          },
          "metadata": {}
        },
        {
          "output_type": "display_data",
          "data": {
            "text/plain": [
              "<IPython.core.display.HTML object>"
            ],
            "text/html": [
              "Run data is saved locally in <code>/content/wandb/run-20250317_125437-1opk0rv7</code>"
            ]
          },
          "metadata": {}
        },
        {
          "output_type": "display_data",
          "data": {
            "text/plain": [
              "<IPython.core.display.HTML object>"
            ],
            "text/html": [
              "Syncing run <strong><a href='https://wandb.ai/yeshu183-indian-institute-of-technology-madras/New%20Sweep/runs/1opk0rv7' target=\"_blank\">atomic-sweep-14</a></strong> to <a href='https://wandb.ai/yeshu183-indian-institute-of-technology-madras/New%20Sweep' target=\"_blank\">Weights & Biases</a> (<a href='https://wandb.me/developer-guide' target=\"_blank\">docs</a>)<br>Sweep page: <a href='https://wandb.ai/yeshu183-indian-institute-of-technology-madras/New%20Sweep/sweeps/surnww5r' target=\"_blank\">https://wandb.ai/yeshu183-indian-institute-of-technology-madras/New%20Sweep/sweeps/surnww5r</a>"
            ]
          },
          "metadata": {}
        },
        {
          "output_type": "display_data",
          "data": {
            "text/plain": [
              "<IPython.core.display.HTML object>"
            ],
            "text/html": [
              " View project at <a href='https://wandb.ai/yeshu183-indian-institute-of-technology-madras/New%20Sweep' target=\"_blank\">https://wandb.ai/yeshu183-indian-institute-of-technology-madras/New%20Sweep</a>"
            ]
          },
          "metadata": {}
        },
        {
          "output_type": "display_data",
          "data": {
            "text/plain": [
              "<IPython.core.display.HTML object>"
            ],
            "text/html": [
              " View sweep at <a href='https://wandb.ai/yeshu183-indian-institute-of-technology-madras/New%20Sweep/sweeps/surnww5r' target=\"_blank\">https://wandb.ai/yeshu183-indian-institute-of-technology-madras/New%20Sweep/sweeps/surnww5r</a>"
            ]
          },
          "metadata": {}
        },
        {
          "output_type": "display_data",
          "data": {
            "text/plain": [
              "<IPython.core.display.HTML object>"
            ],
            "text/html": [
              " View run at <a href='https://wandb.ai/yeshu183-indian-institute-of-technology-madras/New%20Sweep/runs/1opk0rv7' target=\"_blank\">https://wandb.ai/yeshu183-indian-institute-of-technology-madras/New%20Sweep/runs/1opk0rv7</a>"
            ]
          },
          "metadata": {}
        },
        {
          "output_type": "stream",
          "name": "stdout",
          "text": [
            "Epoch: 1 | Time: 13.95 | Train Loss: 1.6684 | Train Accuracy: 0.4936 | Val Loss: 1.2456 | Val Accuracy: 0.6443\n",
            "Epoch: 2 | Time: 14.49 | Train Loss: 1.0772 | Train Accuracy: 0.6709 | Val Loss: 0.9420 | Val Accuracy: 0.6985\n",
            "Epoch: 3 | Time: 14.36 | Train Loss: 0.8695 | Train Accuracy: 0.7144 | Val Loss: 0.8023 | Val Accuracy: 0.7380\n",
            "Epoch: 4 | Time: 14.48 | Train Loss: 0.7618 | Train Accuracy: 0.7425 | Val Loss: 0.7187 | Val Accuracy: 0.7603\n",
            "Epoch: 5 | Time: 14.03 | Train Loss: 0.6943 | Train Accuracy: 0.7625 | Val Loss: 0.6640 | Val Accuracy: 0.7767\n",
            "Validation Loss: 0.6640, Validation Accuracy: 0.7767\n"
          ]
        },
        {
          "output_type": "display_data",
          "data": {
            "text/plain": [
              "<IPython.core.display.HTML object>"
            ],
            "text/html": []
          },
          "metadata": {}
        },
        {
          "output_type": "display_data",
          "data": {
            "text/plain": [
              "<IPython.core.display.HTML object>"
            ],
            "text/html": [
              "<br>    <style><br>        .wandb-row {<br>            display: flex;<br>            flex-direction: row;<br>            flex-wrap: wrap;<br>            justify-content: flex-start;<br>            width: 100%;<br>        }<br>        .wandb-col {<br>            display: flex;<br>            flex-direction: column;<br>            flex-basis: 100%;<br>            flex: 1;<br>            padding: 10px;<br>        }<br>    </style><br><div class=\"wandb-row\"><div class=\"wandb-col\"><h3>Run history:</h3><br/><table class=\"wandb\"><tr><td>epoch</td><td>▁▃▅▆█</td></tr><tr><td>final_val_acc</td><td>▁</td></tr><tr><td>final_val_loss</td><td>▁</td></tr><tr><td>train_acc</td><td>▁▆▇▇█</td></tr><tr><td>train_loss</td><td>█▄▂▁▁</td></tr><tr><td>val_acc</td><td>▁▄▆▇█</td></tr><tr><td>val_loss</td><td>█▄▃▂▁</td></tr></table><br/></div><div class=\"wandb-col\"><h3>Run summary:</h3><br/><table class=\"wandb\"><tr><td>epoch</td><td>5</td></tr><tr><td>final_val_acc</td><td>0.77667</td></tr><tr><td>final_val_loss</td><td>0.66396</td></tr></table><br/></div></div>"
            ]
          },
          "metadata": {}
        },
        {
          "output_type": "display_data",
          "data": {
            "text/plain": [
              "<IPython.core.display.HTML object>"
            ],
            "text/html": [
              " View run <strong style=\"color:#cdcd00\">e_5_hl_5_nhpl_128_bs_64_init_xavier_ac_tanh_op_sgd_lo_cross_entropy_loss</strong> at: <a href='https://wandb.ai/yeshu183-indian-institute-of-technology-madras/New%20Sweep/runs/1opk0rv7' target=\"_blank\">https://wandb.ai/yeshu183-indian-institute-of-technology-madras/New%20Sweep/runs/1opk0rv7</a><br> View project at: <a href='https://wandb.ai/yeshu183-indian-institute-of-technology-madras/New%20Sweep' target=\"_blank\">https://wandb.ai/yeshu183-indian-institute-of-technology-madras/New%20Sweep</a><br>Synced 5 W&B file(s), 0 media file(s), 0 artifact file(s) and 0 other file(s)"
            ]
          },
          "metadata": {}
        },
        {
          "output_type": "display_data",
          "data": {
            "text/plain": [
              "<IPython.core.display.HTML object>"
            ],
            "text/html": [
              "Find logs at: <code>./wandb/run-20250317_125437-1opk0rv7/logs</code>"
            ]
          },
          "metadata": {}
        },
        {
          "output_type": "stream",
          "name": "stderr",
          "text": [
            "\u001b[34m\u001b[1mwandb\u001b[0m: Agent Starting Run: sfde17f9 with config:\n",
            "\u001b[34m\u001b[1mwandb\u001b[0m: \tactivation: sigmoid\n",
            "\u001b[34m\u001b[1mwandb\u001b[0m: \tbatch_size: 16\n",
            "\u001b[34m\u001b[1mwandb\u001b[0m: \tepochs: 10\n",
            "\u001b[34m\u001b[1mwandb\u001b[0m: \thid_layer_size: 32\n",
            "\u001b[34m\u001b[1mwandb\u001b[0m: \tl2_reg: 0.0005\n",
            "\u001b[34m\u001b[1mwandb\u001b[0m: \tloss_func: squared_error\n",
            "\u001b[34m\u001b[1mwandb\u001b[0m: \tlr: 0.001\n",
            "\u001b[34m\u001b[1mwandb\u001b[0m: \tnum_hid_layers: 5\n",
            "\u001b[34m\u001b[1mwandb\u001b[0m: \toptimizer_func: momentum\n",
            "\u001b[34m\u001b[1mwandb\u001b[0m: \tweight_init: xavier\n"
          ]
        },
        {
          "output_type": "display_data",
          "data": {
            "text/plain": [
              "<IPython.core.display.HTML object>"
            ],
            "text/html": [
              "Ignoring project 'New Sweep' when running a sweep."
            ]
          },
          "metadata": {}
        },
        {
          "output_type": "display_data",
          "data": {
            "text/plain": [
              "<IPython.core.display.HTML object>"
            ],
            "text/html": [
              "Tracking run with wandb version 0.19.8"
            ]
          },
          "metadata": {}
        },
        {
          "output_type": "display_data",
          "data": {
            "text/plain": [
              "<IPython.core.display.HTML object>"
            ],
            "text/html": [
              "Run data is saved locally in <code>/content/wandb/run-20250317_125553-sfde17f9</code>"
            ]
          },
          "metadata": {}
        },
        {
          "output_type": "display_data",
          "data": {
            "text/plain": [
              "<IPython.core.display.HTML object>"
            ],
            "text/html": [
              "Syncing run <strong><a href='https://wandb.ai/yeshu183-indian-institute-of-technology-madras/New%20Sweep/runs/sfde17f9' target=\"_blank\">graceful-sweep-15</a></strong> to <a href='https://wandb.ai/yeshu183-indian-institute-of-technology-madras/New%20Sweep' target=\"_blank\">Weights & Biases</a> (<a href='https://wandb.me/developer-guide' target=\"_blank\">docs</a>)<br>Sweep page: <a href='https://wandb.ai/yeshu183-indian-institute-of-technology-madras/New%20Sweep/sweeps/surnww5r' target=\"_blank\">https://wandb.ai/yeshu183-indian-institute-of-technology-madras/New%20Sweep/sweeps/surnww5r</a>"
            ]
          },
          "metadata": {}
        },
        {
          "output_type": "display_data",
          "data": {
            "text/plain": [
              "<IPython.core.display.HTML object>"
            ],
            "text/html": [
              " View project at <a href='https://wandb.ai/yeshu183-indian-institute-of-technology-madras/New%20Sweep' target=\"_blank\">https://wandb.ai/yeshu183-indian-institute-of-technology-madras/New%20Sweep</a>"
            ]
          },
          "metadata": {}
        },
        {
          "output_type": "display_data",
          "data": {
            "text/plain": [
              "<IPython.core.display.HTML object>"
            ],
            "text/html": [
              " View sweep at <a href='https://wandb.ai/yeshu183-indian-institute-of-technology-madras/New%20Sweep/sweeps/surnww5r' target=\"_blank\">https://wandb.ai/yeshu183-indian-institute-of-technology-madras/New%20Sweep/sweeps/surnww5r</a>"
            ]
          },
          "metadata": {}
        },
        {
          "output_type": "display_data",
          "data": {
            "text/plain": [
              "<IPython.core.display.HTML object>"
            ],
            "text/html": [
              " View run at <a href='https://wandb.ai/yeshu183-indian-institute-of-technology-madras/New%20Sweep/runs/sfde17f9' target=\"_blank\">https://wandb.ai/yeshu183-indian-institute-of-technology-madras/New%20Sweep/runs/sfde17f9</a>"
            ]
          },
          "metadata": {}
        },
        {
          "output_type": "stream",
          "name": "stdout",
          "text": [
            "Epoch: 1 | Time: 8.68 | Train Loss: 0.0902 | Train Accuracy: 0.0981 | Val Loss: 0.0900 | Val Accuracy: 0.0933\n",
            "Epoch: 2 | Time: 5.65 | Train Loss: 0.0900 | Train Accuracy: 0.0973 | Val Loss: 0.0900 | Val Accuracy: 0.1003\n",
            "Epoch: 3 | Time: 8.59 | Train Loss: 0.0900 | Train Accuracy: 0.0999 | Val Loss: 0.0900 | Val Accuracy: 0.0933\n",
            "Epoch: 4 | Time: 5.41 | Train Loss: 0.0900 | Train Accuracy: 0.0995 | Val Loss: 0.0900 | Val Accuracy: 0.1313\n",
            "Epoch: 5 | Time: 8.50 | Train Loss: 0.0900 | Train Accuracy: 0.0978 | Val Loss: 0.0900 | Val Accuracy: 0.0990\n",
            "Epoch: 6 | Time: 5.84 | Train Loss: 0.0900 | Train Accuracy: 0.0987 | Val Loss: 0.0900 | Val Accuracy: 0.1072\n",
            "Epoch: 7 | Time: 7.08 | Train Loss: 0.0900 | Train Accuracy: 0.0988 | Val Loss: 0.0900 | Val Accuracy: 0.1003\n",
            "Epoch: 8 | Time: 6.63 | Train Loss: 0.0900 | Train Accuracy: 0.0983 | Val Loss: 0.0900 | Val Accuracy: 0.1072\n",
            "Epoch: 9 | Time: 6.33 | Train Loss: 0.0900 | Train Accuracy: 0.1010 | Val Loss: 0.0900 | Val Accuracy: 0.1028\n",
            "Epoch: 10 | Time: 7.87 | Train Loss: 0.0900 | Train Accuracy: 0.0977 | Val Loss: 0.0900 | Val Accuracy: 0.0973\n",
            "Validation Loss: 0.0900, Validation Accuracy: 0.0973\n"
          ]
        },
        {
          "output_type": "display_data",
          "data": {
            "text/plain": [
              "<IPython.core.display.HTML object>"
            ],
            "text/html": []
          },
          "metadata": {}
        },
        {
          "output_type": "display_data",
          "data": {
            "text/plain": [
              "<IPython.core.display.HTML object>"
            ],
            "text/html": [
              "<br>    <style><br>        .wandb-row {<br>            display: flex;<br>            flex-direction: row;<br>            flex-wrap: wrap;<br>            justify-content: flex-start;<br>            width: 100%;<br>        }<br>        .wandb-col {<br>            display: flex;<br>            flex-direction: column;<br>            flex-basis: 100%;<br>            flex: 1;<br>            padding: 10px;<br>        }<br>    </style><br><div class=\"wandb-row\"><div class=\"wandb-col\"><h3>Run history:</h3><br/><table class=\"wandb\"><tr><td>epoch</td><td>▁▂▃▃▄▅▆▆▇█</td></tr><tr><td>final_val_acc</td><td>▁</td></tr><tr><td>final_val_loss</td><td>▁</td></tr><tr><td>train_acc</td><td>▃▁▆▅▂▄▄▃█▂</td></tr><tr><td>train_loss</td><td>█▁▁▁▁▁▁▁▁▁</td></tr><tr><td>val_acc</td><td>▁▂▁█▂▄▂▄▃▂</td></tr><tr><td>val_loss</td><td>▄█▃▁▆▂▂▁▃▃</td></tr></table><br/></div><div class=\"wandb-col\"><h3>Run summary:</h3><br/><table class=\"wandb\"><tr><td>epoch</td><td>10</td></tr><tr><td>final_val_acc</td><td>0.09733</td></tr><tr><td>final_val_loss</td><td>0.09</td></tr></table><br/></div></div>"
            ]
          },
          "metadata": {}
        },
        {
          "output_type": "display_data",
          "data": {
            "text/plain": [
              "<IPython.core.display.HTML object>"
            ],
            "text/html": [
              " View run <strong style=\"color:#cdcd00\">e_10_hl_5_nhpl_32_bs_16_init_xavier_ac_sigmoid_op_momentum_lo_squared_error</strong> at: <a href='https://wandb.ai/yeshu183-indian-institute-of-technology-madras/New%20Sweep/runs/sfde17f9' target=\"_blank\">https://wandb.ai/yeshu183-indian-institute-of-technology-madras/New%20Sweep/runs/sfde17f9</a><br> View project at: <a href='https://wandb.ai/yeshu183-indian-institute-of-technology-madras/New%20Sweep' target=\"_blank\">https://wandb.ai/yeshu183-indian-institute-of-technology-madras/New%20Sweep</a><br>Synced 5 W&B file(s), 0 media file(s), 0 artifact file(s) and 0 other file(s)"
            ]
          },
          "metadata": {}
        },
        {
          "output_type": "display_data",
          "data": {
            "text/plain": [
              "<IPython.core.display.HTML object>"
            ],
            "text/html": [
              "Find logs at: <code>./wandb/run-20250317_125553-sfde17f9/logs</code>"
            ]
          },
          "metadata": {}
        },
        {
          "output_type": "stream",
          "name": "stderr",
          "text": [
            "\u001b[34m\u001b[1mwandb\u001b[0m: Agent Starting Run: je4eob2r with config:\n",
            "\u001b[34m\u001b[1mwandb\u001b[0m: \tactivation: relu\n",
            "\u001b[34m\u001b[1mwandb\u001b[0m: \tbatch_size: 32\n",
            "\u001b[34m\u001b[1mwandb\u001b[0m: \tepochs: 10\n",
            "\u001b[34m\u001b[1mwandb\u001b[0m: \thid_layer_size: 32\n",
            "\u001b[34m\u001b[1mwandb\u001b[0m: \tl2_reg: 0.5\n",
            "\u001b[34m\u001b[1mwandb\u001b[0m: \tloss_func: squared_error\n",
            "\u001b[34m\u001b[1mwandb\u001b[0m: \tlr: 0.001\n",
            "\u001b[34m\u001b[1mwandb\u001b[0m: \tnum_hid_layers: 3\n",
            "\u001b[34m\u001b[1mwandb\u001b[0m: \toptimizer_func: adam\n",
            "\u001b[34m\u001b[1mwandb\u001b[0m: \tweight_init: random\n"
          ]
        },
        {
          "output_type": "display_data",
          "data": {
            "text/plain": [
              "<IPython.core.display.HTML object>"
            ],
            "text/html": [
              "Ignoring project 'New Sweep' when running a sweep."
            ]
          },
          "metadata": {}
        },
        {
          "output_type": "display_data",
          "data": {
            "text/plain": [
              "<IPython.core.display.HTML object>"
            ],
            "text/html": [
              "Tracking run with wandb version 0.19.8"
            ]
          },
          "metadata": {}
        },
        {
          "output_type": "display_data",
          "data": {
            "text/plain": [
              "<IPython.core.display.HTML object>"
            ],
            "text/html": [
              "Run data is saved locally in <code>/content/wandb/run-20250317_125710-je4eob2r</code>"
            ]
          },
          "metadata": {}
        },
        {
          "output_type": "display_data",
          "data": {
            "text/plain": [
              "<IPython.core.display.HTML object>"
            ],
            "text/html": [
              "Syncing run <strong><a href='https://wandb.ai/yeshu183-indian-institute-of-technology-madras/New%20Sweep/runs/je4eob2r' target=\"_blank\">breezy-sweep-16</a></strong> to <a href='https://wandb.ai/yeshu183-indian-institute-of-technology-madras/New%20Sweep' target=\"_blank\">Weights & Biases</a> (<a href='https://wandb.me/developer-guide' target=\"_blank\">docs</a>)<br>Sweep page: <a href='https://wandb.ai/yeshu183-indian-institute-of-technology-madras/New%20Sweep/sweeps/surnww5r' target=\"_blank\">https://wandb.ai/yeshu183-indian-institute-of-technology-madras/New%20Sweep/sweeps/surnww5r</a>"
            ]
          },
          "metadata": {}
        },
        {
          "output_type": "display_data",
          "data": {
            "text/plain": [
              "<IPython.core.display.HTML object>"
            ],
            "text/html": [
              " View project at <a href='https://wandb.ai/yeshu183-indian-institute-of-technology-madras/New%20Sweep' target=\"_blank\">https://wandb.ai/yeshu183-indian-institute-of-technology-madras/New%20Sweep</a>"
            ]
          },
          "metadata": {}
        },
        {
          "output_type": "display_data",
          "data": {
            "text/plain": [
              "<IPython.core.display.HTML object>"
            ],
            "text/html": [
              " View sweep at <a href='https://wandb.ai/yeshu183-indian-institute-of-technology-madras/New%20Sweep/sweeps/surnww5r' target=\"_blank\">https://wandb.ai/yeshu183-indian-institute-of-technology-madras/New%20Sweep/sweeps/surnww5r</a>"
            ]
          },
          "metadata": {}
        },
        {
          "output_type": "display_data",
          "data": {
            "text/plain": [
              "<IPython.core.display.HTML object>"
            ],
            "text/html": [
              " View run at <a href='https://wandb.ai/yeshu183-indian-institute-of-technology-madras/New%20Sweep/runs/je4eob2r' target=\"_blank\">https://wandb.ai/yeshu183-indian-institute-of-technology-madras/New%20Sweep/runs/je4eob2r</a>"
            ]
          },
          "metadata": {}
        },
        {
          "output_type": "stream",
          "name": "stdout",
          "text": [
            "Epoch: 1 | Time: 7.83 | Train Loss: 0.1744 | Train Accuracy: 0.1209 | Val Loss: 0.1803 | Val Accuracy: 0.0983\n",
            "Epoch: 2 | Time: 5.66 | Train Loss: 0.1790 | Train Accuracy: 0.1004 | Val Loss: 0.1813 | Val Accuracy: 0.0933\n",
            "Epoch: 3 | Time: 6.37 | Train Loss: 0.1786 | Train Accuracy: 0.1012 | Val Loss: 0.1797 | Val Accuracy: 0.1013\n",
            "Epoch: 4 | Time: 3.76 | Train Loss: 0.1784 | Train Accuracy: 0.1014 | Val Loss: 0.1781 | Val Accuracy: 0.1020\n",
            "Epoch: 5 | Time: 3.34 | Train Loss: 0.1786 | Train Accuracy: 0.1002 | Val Loss: 0.1802 | Val Accuracy: 0.0983\n",
            "Epoch: 6 | Time: 9.62 | Train Loss: 0.1785 | Train Accuracy: 0.1009 | Val Loss: 0.1805 | Val Accuracy: 0.0973\n",
            "Epoch: 7 | Time: 7.81 | Train Loss: 0.1784 | Train Accuracy: 0.1005 | Val Loss: 0.1802 | Val Accuracy: 0.0990\n",
            "Epoch: 8 | Time: 6.59 | Train Loss: 0.1788 | Train Accuracy: 0.1001 | Val Loss: 0.1802 | Val Accuracy: 0.0983\n",
            "Epoch: 9 | Time: 4.06 | Train Loss: 0.1792 | Train Accuracy: 0.0993 | Val Loss: 0.1786 | Val Accuracy: 0.1072\n",
            "Epoch: 10 | Time: 9.01 | Train Loss: 0.1796 | Train Accuracy: 0.0985 | Val Loss: 0.1797 | Val Accuracy: 0.1013\n",
            "Validation Loss: 0.1797, Validation Accuracy: 0.1013\n"
          ]
        },
        {
          "output_type": "display_data",
          "data": {
            "text/plain": [
              "<IPython.core.display.HTML object>"
            ],
            "text/html": []
          },
          "metadata": {}
        },
        {
          "output_type": "display_data",
          "data": {
            "text/plain": [
              "<IPython.core.display.HTML object>"
            ],
            "text/html": [
              "<br>    <style><br>        .wandb-row {<br>            display: flex;<br>            flex-direction: row;<br>            flex-wrap: wrap;<br>            justify-content: flex-start;<br>            width: 100%;<br>        }<br>        .wandb-col {<br>            display: flex;<br>            flex-direction: column;<br>            flex-basis: 100%;<br>            flex: 1;<br>            padding: 10px;<br>        }<br>    </style><br><div class=\"wandb-row\"><div class=\"wandb-col\"><h3>Run history:</h3><br/><table class=\"wandb\"><tr><td>epoch</td><td>▁▂▃▃▄▅▆▆▇█</td></tr><tr><td>final_val_acc</td><td>▁</td></tr><tr><td>final_val_loss</td><td>▁</td></tr><tr><td>train_acc</td><td>█▂▂▂▂▂▂▁▁▁</td></tr><tr><td>train_loss</td><td>▁▇▇▆▇▆▆▇▇█</td></tr><tr><td>val_acc</td><td>▄▁▅▅▄▃▄▄█▅</td></tr><tr><td>val_loss</td><td>▆█▅▁▆▆▆▆▂▅</td></tr></table><br/></div><div class=\"wandb-col\"><h3>Run summary:</h3><br/><table class=\"wandb\"><tr><td>epoch</td><td>10</td></tr><tr><td>final_val_acc</td><td>0.10133</td></tr><tr><td>final_val_loss</td><td>0.17972</td></tr></table><br/></div></div>"
            ]
          },
          "metadata": {}
        },
        {
          "output_type": "display_data",
          "data": {
            "text/plain": [
              "<IPython.core.display.HTML object>"
            ],
            "text/html": [
              " View run <strong style=\"color:#cdcd00\">e_10_hl_3_nhpl_32_bs_32_init_random_ac_relu_op_adam_lo_squared_error</strong> at: <a href='https://wandb.ai/yeshu183-indian-institute-of-technology-madras/New%20Sweep/runs/je4eob2r' target=\"_blank\">https://wandb.ai/yeshu183-indian-institute-of-technology-madras/New%20Sweep/runs/je4eob2r</a><br> View project at: <a href='https://wandb.ai/yeshu183-indian-institute-of-technology-madras/New%20Sweep' target=\"_blank\">https://wandb.ai/yeshu183-indian-institute-of-technology-madras/New%20Sweep</a><br>Synced 5 W&B file(s), 0 media file(s), 0 artifact file(s) and 0 other file(s)"
            ]
          },
          "metadata": {}
        },
        {
          "output_type": "display_data",
          "data": {
            "text/plain": [
              "<IPython.core.display.HTML object>"
            ],
            "text/html": [
              "Find logs at: <code>./wandb/run-20250317_125710-je4eob2r/logs</code>"
            ]
          },
          "metadata": {}
        },
        {
          "output_type": "stream",
          "name": "stderr",
          "text": [
            "\u001b[34m\u001b[1mwandb\u001b[0m: Agent Starting Run: kubhqnpw with config:\n",
            "\u001b[34m\u001b[1mwandb\u001b[0m: \tactivation: relu\n",
            "\u001b[34m\u001b[1mwandb\u001b[0m: \tbatch_size: 16\n",
            "\u001b[34m\u001b[1mwandb\u001b[0m: \tepochs: 5\n",
            "\u001b[34m\u001b[1mwandb\u001b[0m: \thid_layer_size: 128\n",
            "\u001b[34m\u001b[1mwandb\u001b[0m: \tl2_reg: 0.0005\n",
            "\u001b[34m\u001b[1mwandb\u001b[0m: \tloss_func: squared_error\n",
            "\u001b[34m\u001b[1mwandb\u001b[0m: \tlr: 0.0001\n",
            "\u001b[34m\u001b[1mwandb\u001b[0m: \tnum_hid_layers: 3\n",
            "\u001b[34m\u001b[1mwandb\u001b[0m: \toptimizer_func: sgd\n",
            "\u001b[34m\u001b[1mwandb\u001b[0m: \tweight_init: random\n"
          ]
        },
        {
          "output_type": "display_data",
          "data": {
            "text/plain": [
              "<IPython.core.display.HTML object>"
            ],
            "text/html": [
              "Ignoring project 'New Sweep' when running a sweep."
            ]
          },
          "metadata": {}
        },
        {
          "output_type": "display_data",
          "data": {
            "text/plain": [
              "<IPython.core.display.HTML object>"
            ],
            "text/html": [
              "Tracking run with wandb version 0.19.8"
            ]
          },
          "metadata": {}
        },
        {
          "output_type": "display_data",
          "data": {
            "text/plain": [
              "<IPython.core.display.HTML object>"
            ],
            "text/html": [
              "Run data is saved locally in <code>/content/wandb/run-20250317_125821-kubhqnpw</code>"
            ]
          },
          "metadata": {}
        },
        {
          "output_type": "display_data",
          "data": {
            "text/plain": [
              "<IPython.core.display.HTML object>"
            ],
            "text/html": [
              "Syncing run <strong><a href='https://wandb.ai/yeshu183-indian-institute-of-technology-madras/New%20Sweep/runs/kubhqnpw' target=\"_blank\">valiant-sweep-17</a></strong> to <a href='https://wandb.ai/yeshu183-indian-institute-of-technology-madras/New%20Sweep' target=\"_blank\">Weights & Biases</a> (<a href='https://wandb.me/developer-guide' target=\"_blank\">docs</a>)<br>Sweep page: <a href='https://wandb.ai/yeshu183-indian-institute-of-technology-madras/New%20Sweep/sweeps/surnww5r' target=\"_blank\">https://wandb.ai/yeshu183-indian-institute-of-technology-madras/New%20Sweep/sweeps/surnww5r</a>"
            ]
          },
          "metadata": {}
        },
        {
          "output_type": "display_data",
          "data": {
            "text/plain": [
              "<IPython.core.display.HTML object>"
            ],
            "text/html": [
              " View project at <a href='https://wandb.ai/yeshu183-indian-institute-of-technology-madras/New%20Sweep' target=\"_blank\">https://wandb.ai/yeshu183-indian-institute-of-technology-madras/New%20Sweep</a>"
            ]
          },
          "metadata": {}
        },
        {
          "output_type": "display_data",
          "data": {
            "text/plain": [
              "<IPython.core.display.HTML object>"
            ],
            "text/html": [
              " View sweep at <a href='https://wandb.ai/yeshu183-indian-institute-of-technology-madras/New%20Sweep/sweeps/surnww5r' target=\"_blank\">https://wandb.ai/yeshu183-indian-institute-of-technology-madras/New%20Sweep/sweeps/surnww5r</a>"
            ]
          },
          "metadata": {}
        },
        {
          "output_type": "display_data",
          "data": {
            "text/plain": [
              "<IPython.core.display.HTML object>"
            ],
            "text/html": [
              " View run at <a href='https://wandb.ai/yeshu183-indian-institute-of-technology-madras/New%20Sweep/runs/kubhqnpw' target=\"_blank\">https://wandb.ai/yeshu183-indian-institute-of-technology-madras/New%20Sweep/runs/kubhqnpw</a>"
            ]
          },
          "metadata": {}
        },
        {
          "output_type": "stream",
          "name": "stdout",
          "text": [
            "Epoch: 1 | Time: 14.25 | Train Loss: 0.1797 | Train Accuracy: 0.1015 | Val Loss: 0.1804 | Val Accuracy: 0.0982\n",
            "Epoch: 2 | Time: 13.46 | Train Loss: 0.1797 | Train Accuracy: 0.1014 | Val Loss: 0.1804 | Val Accuracy: 0.0980\n",
            "Epoch: 3 | Time: 13.90 | Train Loss: 0.1797 | Train Accuracy: 0.1013 | Val Loss: 0.1804 | Val Accuracy: 0.0980\n",
            "Epoch: 4 | Time: 13.73 | Train Loss: 0.1797 | Train Accuracy: 0.1013 | Val Loss: 0.1803 | Val Accuracy: 0.0985\n",
            "Epoch: 5 | Time: 13.53 | Train Loss: 0.1797 | Train Accuracy: 0.1016 | Val Loss: 0.1803 | Val Accuracy: 0.0985\n",
            "Validation Loss: 0.1803, Validation Accuracy: 0.0985\n"
          ]
        },
        {
          "output_type": "display_data",
          "data": {
            "text/plain": [
              "<IPython.core.display.HTML object>"
            ],
            "text/html": []
          },
          "metadata": {}
        },
        {
          "output_type": "display_data",
          "data": {
            "text/plain": [
              "<IPython.core.display.HTML object>"
            ],
            "text/html": [
              "<br>    <style><br>        .wandb-row {<br>            display: flex;<br>            flex-direction: row;<br>            flex-wrap: wrap;<br>            justify-content: flex-start;<br>            width: 100%;<br>        }<br>        .wandb-col {<br>            display: flex;<br>            flex-direction: column;<br>            flex-basis: 100%;<br>            flex: 1;<br>            padding: 10px;<br>        }<br>    </style><br><div class=\"wandb-row\"><div class=\"wandb-col\"><h3>Run history:</h3><br/><table class=\"wandb\"><tr><td>epoch</td><td>▁▃▅▆█</td></tr><tr><td>final_val_acc</td><td>▁</td></tr><tr><td>final_val_loss</td><td>▁</td></tr><tr><td>train_acc</td><td>▅▃▁▁█</td></tr><tr><td>train_loss</td><td>▄▆██▁</td></tr><tr><td>val_acc</td><td>▃▁▁██</td></tr><tr><td>val_loss</td><td>▆██▁▁</td></tr></table><br/></div><div class=\"wandb-col\"><h3>Run summary:</h3><br/><table class=\"wandb\"><tr><td>epoch</td><td>5</td></tr><tr><td>final_val_acc</td><td>0.0985</td></tr><tr><td>final_val_loss</td><td>0.1803</td></tr></table><br/></div></div>"
            ]
          },
          "metadata": {}
        },
        {
          "output_type": "display_data",
          "data": {
            "text/plain": [
              "<IPython.core.display.HTML object>"
            ],
            "text/html": [
              " View run <strong style=\"color:#cdcd00\">e_5_hl_3_nhpl_128_bs_16_init_random_ac_relu_op_sgd_lo_squared_error</strong> at: <a href='https://wandb.ai/yeshu183-indian-institute-of-technology-madras/New%20Sweep/runs/kubhqnpw' target=\"_blank\">https://wandb.ai/yeshu183-indian-institute-of-technology-madras/New%20Sweep/runs/kubhqnpw</a><br> View project at: <a href='https://wandb.ai/yeshu183-indian-institute-of-technology-madras/New%20Sweep' target=\"_blank\">https://wandb.ai/yeshu183-indian-institute-of-technology-madras/New%20Sweep</a><br>Synced 5 W&B file(s), 0 media file(s), 0 artifact file(s) and 0 other file(s)"
            ]
          },
          "metadata": {}
        },
        {
          "output_type": "display_data",
          "data": {
            "text/plain": [
              "<IPython.core.display.HTML object>"
            ],
            "text/html": [
              "Find logs at: <code>./wandb/run-20250317_125821-kubhqnpw/logs</code>"
            ]
          },
          "metadata": {}
        },
        {
          "output_type": "stream",
          "name": "stderr",
          "text": [
            "\u001b[34m\u001b[1mwandb\u001b[0m: Agent Starting Run: wh9b6o27 with config:\n",
            "\u001b[34m\u001b[1mwandb\u001b[0m: \tactivation: tanh\n",
            "\u001b[34m\u001b[1mwandb\u001b[0m: \tbatch_size: 64\n",
            "\u001b[34m\u001b[1mwandb\u001b[0m: \tepochs: 5\n",
            "\u001b[34m\u001b[1mwandb\u001b[0m: \thid_layer_size: 32\n",
            "\u001b[34m\u001b[1mwandb\u001b[0m: \tl2_reg: 0.5\n",
            "\u001b[34m\u001b[1mwandb\u001b[0m: \tloss_func: cross_entropy_loss\n",
            "\u001b[34m\u001b[1mwandb\u001b[0m: \tlr: 0.0001\n",
            "\u001b[34m\u001b[1mwandb\u001b[0m: \tnum_hid_layers: 3\n",
            "\u001b[34m\u001b[1mwandb\u001b[0m: \toptimizer_func: momentum\n",
            "\u001b[34m\u001b[1mwandb\u001b[0m: \tweight_init: xavier\n"
          ]
        },
        {
          "output_type": "display_data",
          "data": {
            "text/plain": [
              "<IPython.core.display.HTML object>"
            ],
            "text/html": [
              "Ignoring project 'New Sweep' when running a sweep."
            ]
          },
          "metadata": {}
        },
        {
          "output_type": "display_data",
          "data": {
            "text/plain": [
              "<IPython.core.display.HTML object>"
            ],
            "text/html": [
              "Tracking run with wandb version 0.19.8"
            ]
          },
          "metadata": {}
        },
        {
          "output_type": "display_data",
          "data": {
            "text/plain": [
              "<IPython.core.display.HTML object>"
            ],
            "text/html": [
              "Run data is saved locally in <code>/content/wandb/run-20250317_125937-wh9b6o27</code>"
            ]
          },
          "metadata": {}
        },
        {
          "output_type": "display_data",
          "data": {
            "text/plain": [
              "<IPython.core.display.HTML object>"
            ],
            "text/html": [
              "Syncing run <strong><a href='https://wandb.ai/yeshu183-indian-institute-of-technology-madras/New%20Sweep/runs/wh9b6o27' target=\"_blank\">rural-sweep-18</a></strong> to <a href='https://wandb.ai/yeshu183-indian-institute-of-technology-madras/New%20Sweep' target=\"_blank\">Weights & Biases</a> (<a href='https://wandb.me/developer-guide' target=\"_blank\">docs</a>)<br>Sweep page: <a href='https://wandb.ai/yeshu183-indian-institute-of-technology-madras/New%20Sweep/sweeps/surnww5r' target=\"_blank\">https://wandb.ai/yeshu183-indian-institute-of-technology-madras/New%20Sweep/sweeps/surnww5r</a>"
            ]
          },
          "metadata": {}
        },
        {
          "output_type": "display_data",
          "data": {
            "text/plain": [
              "<IPython.core.display.HTML object>"
            ],
            "text/html": [
              " View project at <a href='https://wandb.ai/yeshu183-indian-institute-of-technology-madras/New%20Sweep' target=\"_blank\">https://wandb.ai/yeshu183-indian-institute-of-technology-madras/New%20Sweep</a>"
            ]
          },
          "metadata": {}
        },
        {
          "output_type": "display_data",
          "data": {
            "text/plain": [
              "<IPython.core.display.HTML object>"
            ],
            "text/html": [
              " View sweep at <a href='https://wandb.ai/yeshu183-indian-institute-of-technology-madras/New%20Sweep/sweeps/surnww5r' target=\"_blank\">https://wandb.ai/yeshu183-indian-institute-of-technology-madras/New%20Sweep/sweeps/surnww5r</a>"
            ]
          },
          "metadata": {}
        },
        {
          "output_type": "display_data",
          "data": {
            "text/plain": [
              "<IPython.core.display.HTML object>"
            ],
            "text/html": [
              " View run at <a href='https://wandb.ai/yeshu183-indian-institute-of-technology-madras/New%20Sweep/runs/wh9b6o27' target=\"_blank\">https://wandb.ai/yeshu183-indian-institute-of-technology-madras/New%20Sweep/runs/wh9b6o27</a>"
            ]
          },
          "metadata": {}
        },
        {
          "output_type": "stream",
          "name": "stdout",
          "text": [
            "Epoch: 1 | Time: 2.56 | Train Loss: 2.0753 | Train Accuracy: 0.3476 | Val Loss: 2.0262 | Val Accuracy: 0.4453\n",
            "Epoch: 2 | Time: 2.60 | Train Loss: 2.0874 | Train Accuracy: 0.4088 | Val Loss: 2.1455 | Val Accuracy: 0.4105\n",
            "Epoch: 3 | Time: 2.53 | Train Loss: 2.1942 | Train Accuracy: 0.4020 | Val Loss: 2.2326 | Val Accuracy: 0.4092\n",
            "Epoch: 4 | Time: 3.96 | Train Loss: 2.2587 | Train Accuracy: 0.4023 | Val Loss: 2.2779 | Val Accuracy: 0.3947\n",
            "Epoch: 5 | Time: 3.78 | Train Loss: 2.2886 | Train Accuracy: 0.3341 | Val Loss: 2.2958 | Val Accuracy: 0.3075\n",
            "Validation Loss: 2.2958, Validation Accuracy: 0.3075\n"
          ]
        },
        {
          "output_type": "display_data",
          "data": {
            "text/plain": [
              "<IPython.core.display.HTML object>"
            ],
            "text/html": []
          },
          "metadata": {}
        },
        {
          "output_type": "display_data",
          "data": {
            "text/plain": [
              "<IPython.core.display.HTML object>"
            ],
            "text/html": [
              "<br>    <style><br>        .wandb-row {<br>            display: flex;<br>            flex-direction: row;<br>            flex-wrap: wrap;<br>            justify-content: flex-start;<br>            width: 100%;<br>        }<br>        .wandb-col {<br>            display: flex;<br>            flex-direction: column;<br>            flex-basis: 100%;<br>            flex: 1;<br>            padding: 10px;<br>        }<br>    </style><br><div class=\"wandb-row\"><div class=\"wandb-col\"><h3>Run history:</h3><br/><table class=\"wandb\"><tr><td>epoch</td><td>▁▃▅▆█</td></tr><tr><td>final_val_acc</td><td>▁</td></tr><tr><td>final_val_loss</td><td>▁</td></tr><tr><td>train_acc</td><td>▂█▇▇▁</td></tr><tr><td>train_loss</td><td>▁▁▅▇█</td></tr><tr><td>val_acc</td><td>█▆▆▅▁</td></tr><tr><td>val_loss</td><td>▁▄▆██</td></tr></table><br/></div><div class=\"wandb-col\"><h3>Run summary:</h3><br/><table class=\"wandb\"><tr><td>epoch</td><td>5</td></tr><tr><td>final_val_acc</td><td>0.3075</td></tr><tr><td>final_val_loss</td><td>2.2958</td></tr></table><br/></div></div>"
            ]
          },
          "metadata": {}
        },
        {
          "output_type": "display_data",
          "data": {
            "text/plain": [
              "<IPython.core.display.HTML object>"
            ],
            "text/html": [
              " View run <strong style=\"color:#cdcd00\">e_5_hl_3_nhpl_32_bs_64_init_xavier_ac_tanh_op_momentum_lo_cross_entropy_loss</strong> at: <a href='https://wandb.ai/yeshu183-indian-institute-of-technology-madras/New%20Sweep/runs/wh9b6o27' target=\"_blank\">https://wandb.ai/yeshu183-indian-institute-of-technology-madras/New%20Sweep/runs/wh9b6o27</a><br> View project at: <a href='https://wandb.ai/yeshu183-indian-institute-of-technology-madras/New%20Sweep' target=\"_blank\">https://wandb.ai/yeshu183-indian-institute-of-technology-madras/New%20Sweep</a><br>Synced 5 W&B file(s), 0 media file(s), 0 artifact file(s) and 0 other file(s)"
            ]
          },
          "metadata": {}
        },
        {
          "output_type": "display_data",
          "data": {
            "text/plain": [
              "<IPython.core.display.HTML object>"
            ],
            "text/html": [
              "Find logs at: <code>./wandb/run-20250317_125937-wh9b6o27/logs</code>"
            ]
          },
          "metadata": {}
        },
        {
          "output_type": "stream",
          "name": "stderr",
          "text": [
            "\u001b[34m\u001b[1mwandb\u001b[0m: Agent Starting Run: kjkl10cw with config:\n",
            "\u001b[34m\u001b[1mwandb\u001b[0m: \tactivation: relu\n",
            "\u001b[34m\u001b[1mwandb\u001b[0m: \tbatch_size: 32\n",
            "\u001b[34m\u001b[1mwandb\u001b[0m: \tepochs: 10\n",
            "\u001b[34m\u001b[1mwandb\u001b[0m: \thid_layer_size: 128\n",
            "\u001b[34m\u001b[1mwandb\u001b[0m: \tl2_reg: 0\n",
            "\u001b[34m\u001b[1mwandb\u001b[0m: \tloss_func: cross_entropy_loss\n",
            "\u001b[34m\u001b[1mwandb\u001b[0m: \tlr: 0.0001\n",
            "\u001b[34m\u001b[1mwandb\u001b[0m: \tnum_hid_layers: 4\n",
            "\u001b[34m\u001b[1mwandb\u001b[0m: \toptimizer_func: adam\n",
            "\u001b[34m\u001b[1mwandb\u001b[0m: \tweight_init: random\n"
          ]
        },
        {
          "output_type": "display_data",
          "data": {
            "text/plain": [
              "<IPython.core.display.HTML object>"
            ],
            "text/html": [
              "Ignoring project 'New Sweep' when running a sweep."
            ]
          },
          "metadata": {}
        },
        {
          "output_type": "display_data",
          "data": {
            "text/plain": [
              "<IPython.core.display.HTML object>"
            ],
            "text/html": [
              "Tracking run with wandb version 0.19.8"
            ]
          },
          "metadata": {}
        },
        {
          "output_type": "display_data",
          "data": {
            "text/plain": [
              "<IPython.core.display.HTML object>"
            ],
            "text/html": [
              "Run data is saved locally in <code>/content/wandb/run-20250317_125958-kjkl10cw</code>"
            ]
          },
          "metadata": {}
        },
        {
          "output_type": "display_data",
          "data": {
            "text/plain": [
              "<IPython.core.display.HTML object>"
            ],
            "text/html": [
              "Syncing run <strong><a href='https://wandb.ai/yeshu183-indian-institute-of-technology-madras/New%20Sweep/runs/kjkl10cw' target=\"_blank\">generous-sweep-19</a></strong> to <a href='https://wandb.ai/yeshu183-indian-institute-of-technology-madras/New%20Sweep' target=\"_blank\">Weights & Biases</a> (<a href='https://wandb.me/developer-guide' target=\"_blank\">docs</a>)<br>Sweep page: <a href='https://wandb.ai/yeshu183-indian-institute-of-technology-madras/New%20Sweep/sweeps/surnww5r' target=\"_blank\">https://wandb.ai/yeshu183-indian-institute-of-technology-madras/New%20Sweep/sweeps/surnww5r</a>"
            ]
          },
          "metadata": {}
        },
        {
          "output_type": "display_data",
          "data": {
            "text/plain": [
              "<IPython.core.display.HTML object>"
            ],
            "text/html": [
              " View project at <a href='https://wandb.ai/yeshu183-indian-institute-of-technology-madras/New%20Sweep' target=\"_blank\">https://wandb.ai/yeshu183-indian-institute-of-technology-madras/New%20Sweep</a>"
            ]
          },
          "metadata": {}
        },
        {
          "output_type": "display_data",
          "data": {
            "text/plain": [
              "<IPython.core.display.HTML object>"
            ],
            "text/html": [
              " View sweep at <a href='https://wandb.ai/yeshu183-indian-institute-of-technology-madras/New%20Sweep/sweeps/surnww5r' target=\"_blank\">https://wandb.ai/yeshu183-indian-institute-of-technology-madras/New%20Sweep/sweeps/surnww5r</a>"
            ]
          },
          "metadata": {}
        },
        {
          "output_type": "display_data",
          "data": {
            "text/plain": [
              "<IPython.core.display.HTML object>"
            ],
            "text/html": [
              " View run at <a href='https://wandb.ai/yeshu183-indian-institute-of-technology-madras/New%20Sweep/runs/kjkl10cw' target=\"_blank\">https://wandb.ai/yeshu183-indian-institute-of-technology-madras/New%20Sweep/runs/kjkl10cw</a>"
            ]
          },
          "metadata": {}
        },
        {
          "output_type": "stream",
          "name": "stdout",
          "text": [
            "Epoch: 1 | Time: 16.38 | Train Loss: 10.7002 | Train Accuracy: 0.5349 | Val Loss: 7.6300 | Val Accuracy: 0.6683\n",
            "Epoch: 2 | Time: 14.94 | Train Loss: 7.2875 | Train Accuracy: 0.6831 | Val Loss: 6.5420 | Val Accuracy: 0.7157\n",
            "Epoch: 3 | Time: 15.08 | Train Loss: 6.5104 | Train Accuracy: 0.7168 | Val Loss: 6.1922 | Val Accuracy: 0.7303\n",
            "Epoch: 4 | Time: 15.22 | Train Loss: 6.1263 | Train Accuracy: 0.7334 | Val Loss: 5.9919 | Val Accuracy: 0.7393\n",
            "Epoch: 5 | Time: 15.69 | Train Loss: 5.8160 | Train Accuracy: 0.7468 | Val Loss: 5.6625 | Val Accuracy: 0.7538\n",
            "Epoch: 6 | Time: 15.30 | Train Loss: 5.5611 | Train Accuracy: 0.7576 | Val Loss: 5.5765 | Val Accuracy: 0.7573\n",
            "Epoch: 7 | Time: 15.61 | Train Loss: 5.3855 | Train Accuracy: 0.7654 | Val Loss: 5.4226 | Val Accuracy: 0.7642\n",
            "Epoch: 8 | Time: 15.68 | Train Loss: 5.2353 | Train Accuracy: 0.7718 | Val Loss: 5.3613 | Val Accuracy: 0.7663\n",
            "Epoch: 9 | Time: 15.05 | Train Loss: 5.0890 | Train Accuracy: 0.7781 | Val Loss: 5.3369 | Val Accuracy: 0.7680\n",
            "Epoch: 10 | Time: 14.97 | Train Loss: 4.9873 | Train Accuracy: 0.7823 | Val Loss: 5.2473 | Val Accuracy: 0.7710\n",
            "Validation Loss: 5.2473, Validation Accuracy: 0.7710\n"
          ]
        },
        {
          "output_type": "display_data",
          "data": {
            "text/plain": [
              "<IPython.core.display.HTML object>"
            ],
            "text/html": []
          },
          "metadata": {}
        },
        {
          "output_type": "display_data",
          "data": {
            "text/plain": [
              "<IPython.core.display.HTML object>"
            ],
            "text/html": [
              "<br>    <style><br>        .wandb-row {<br>            display: flex;<br>            flex-direction: row;<br>            flex-wrap: wrap;<br>            justify-content: flex-start;<br>            width: 100%;<br>        }<br>        .wandb-col {<br>            display: flex;<br>            flex-direction: column;<br>            flex-basis: 100%;<br>            flex: 1;<br>            padding: 10px;<br>        }<br>    </style><br><div class=\"wandb-row\"><div class=\"wandb-col\"><h3>Run history:</h3><br/><table class=\"wandb\"><tr><td>epoch</td><td>▁▂▃▃▄▅▆▆▇█</td></tr><tr><td>final_val_acc</td><td>▁</td></tr><tr><td>final_val_loss</td><td>▁</td></tr><tr><td>train_acc</td><td>▁▅▆▇▇▇████</td></tr><tr><td>train_loss</td><td>█▄▃▂▂▂▁▁▁▁</td></tr><tr><td>val_acc</td><td>▁▄▅▆▇▇████</td></tr><tr><td>val_loss</td><td>█▅▄▃▂▂▂▁▁▁</td></tr></table><br/></div><div class=\"wandb-col\"><h3>Run summary:</h3><br/><table class=\"wandb\"><tr><td>epoch</td><td>10</td></tr><tr><td>final_val_acc</td><td>0.771</td></tr><tr><td>final_val_loss</td><td>5.24728</td></tr></table><br/></div></div>"
            ]
          },
          "metadata": {}
        },
        {
          "output_type": "display_data",
          "data": {
            "text/plain": [
              "<IPython.core.display.HTML object>"
            ],
            "text/html": [
              " View run <strong style=\"color:#cdcd00\">e_10_hl_4_nhpl_128_bs_32_init_random_ac_relu_op_adam_lo_cross_entropy_loss</strong> at: <a href='https://wandb.ai/yeshu183-indian-institute-of-technology-madras/New%20Sweep/runs/kjkl10cw' target=\"_blank\">https://wandb.ai/yeshu183-indian-institute-of-technology-madras/New%20Sweep/runs/kjkl10cw</a><br> View project at: <a href='https://wandb.ai/yeshu183-indian-institute-of-technology-madras/New%20Sweep' target=\"_blank\">https://wandb.ai/yeshu183-indian-institute-of-technology-madras/New%20Sweep</a><br>Synced 5 W&B file(s), 0 media file(s), 0 artifact file(s) and 0 other file(s)"
            ]
          },
          "metadata": {}
        },
        {
          "output_type": "display_data",
          "data": {
            "text/plain": [
              "<IPython.core.display.HTML object>"
            ],
            "text/html": [
              "Find logs at: <code>./wandb/run-20250317_125958-kjkl10cw/logs</code>"
            ]
          },
          "metadata": {}
        },
        {
          "output_type": "stream",
          "name": "stderr",
          "text": [
            "\u001b[34m\u001b[1mwandb\u001b[0m: Sweep Agent: Waiting for job.\n",
            "\u001b[34m\u001b[1mwandb\u001b[0m: Job received.\n",
            "\u001b[34m\u001b[1mwandb\u001b[0m: Agent Starting Run: xqy1o3kv with config:\n",
            "\u001b[34m\u001b[1mwandb\u001b[0m: \tactivation: tanh\n",
            "\u001b[34m\u001b[1mwandb\u001b[0m: \tbatch_size: 32\n",
            "\u001b[34m\u001b[1mwandb\u001b[0m: \tepochs: 5\n",
            "\u001b[34m\u001b[1mwandb\u001b[0m: \thid_layer_size: 64\n",
            "\u001b[34m\u001b[1mwandb\u001b[0m: \tl2_reg: 0.5\n",
            "\u001b[34m\u001b[1mwandb\u001b[0m: \tloss_func: squared_error\n",
            "\u001b[34m\u001b[1mwandb\u001b[0m: \tlr: 0.0001\n",
            "\u001b[34m\u001b[1mwandb\u001b[0m: \tnum_hid_layers: 5\n",
            "\u001b[34m\u001b[1mwandb\u001b[0m: \toptimizer_func: rmsprop\n",
            "\u001b[34m\u001b[1mwandb\u001b[0m: \tweight_init: random\n"
          ]
        },
        {
          "output_type": "display_data",
          "data": {
            "text/plain": [
              "<IPython.core.display.HTML object>"
            ],
            "text/html": [
              "Ignoring project 'New Sweep' when running a sweep."
            ]
          },
          "metadata": {}
        },
        {
          "output_type": "display_data",
          "data": {
            "text/plain": [
              "<IPython.core.display.HTML object>"
            ],
            "text/html": [
              "Tracking run with wandb version 0.19.8"
            ]
          },
          "metadata": {}
        },
        {
          "output_type": "display_data",
          "data": {
            "text/plain": [
              "<IPython.core.display.HTML object>"
            ],
            "text/html": [
              "Run data is saved locally in <code>/content/wandb/run-20250317_130246-xqy1o3kv</code>"
            ]
          },
          "metadata": {}
        },
        {
          "output_type": "display_data",
          "data": {
            "text/plain": [
              "<IPython.core.display.HTML object>"
            ],
            "text/html": [
              "Syncing run <strong><a href='https://wandb.ai/yeshu183-indian-institute-of-technology-madras/New%20Sweep/runs/xqy1o3kv' target=\"_blank\">eternal-sweep-20</a></strong> to <a href='https://wandb.ai/yeshu183-indian-institute-of-technology-madras/New%20Sweep' target=\"_blank\">Weights & Biases</a> (<a href='https://wandb.me/developer-guide' target=\"_blank\">docs</a>)<br>Sweep page: <a href='https://wandb.ai/yeshu183-indian-institute-of-technology-madras/New%20Sweep/sweeps/surnww5r' target=\"_blank\">https://wandb.ai/yeshu183-indian-institute-of-technology-madras/New%20Sweep/sweeps/surnww5r</a>"
            ]
          },
          "metadata": {}
        },
        {
          "output_type": "display_data",
          "data": {
            "text/plain": [
              "<IPython.core.display.HTML object>"
            ],
            "text/html": [
              " View project at <a href='https://wandb.ai/yeshu183-indian-institute-of-technology-madras/New%20Sweep' target=\"_blank\">https://wandb.ai/yeshu183-indian-institute-of-technology-madras/New%20Sweep</a>"
            ]
          },
          "metadata": {}
        },
        {
          "output_type": "display_data",
          "data": {
            "text/plain": [
              "<IPython.core.display.HTML object>"
            ],
            "text/html": [
              " View sweep at <a href='https://wandb.ai/yeshu183-indian-institute-of-technology-madras/New%20Sweep/sweeps/surnww5r' target=\"_blank\">https://wandb.ai/yeshu183-indian-institute-of-technology-madras/New%20Sweep/sweeps/surnww5r</a>"
            ]
          },
          "metadata": {}
        },
        {
          "output_type": "display_data",
          "data": {
            "text/plain": [
              "<IPython.core.display.HTML object>"
            ],
            "text/html": [
              " View run at <a href='https://wandb.ai/yeshu183-indian-institute-of-technology-madras/New%20Sweep/runs/xqy1o3kv' target=\"_blank\">https://wandb.ai/yeshu183-indian-institute-of-technology-madras/New%20Sweep/runs/xqy1o3kv</a>"
            ]
          },
          "metadata": {}
        },
        {
          "output_type": "stream",
          "name": "stdout",
          "text": [
            "Epoch: 1 | Time: 10.91 | Train Loss: 0.1574 | Train Accuracy: 0.1016 | Val Loss: 0.1561 | Val Accuracy: 0.0967\n",
            "Epoch: 2 | Time: 9.08 | Train Loss: 0.1532 | Train Accuracy: 0.0988 | Val Loss: 0.1508 | Val Accuracy: 0.0963\n",
            "Epoch: 3 | Time: 10.94 | Train Loss: 0.1448 | Train Accuracy: 0.1038 | Val Loss: 0.1388 | Val Accuracy: 0.1073\n",
            "Epoch: 4 | Time: 11.16 | Train Loss: 0.1334 | Train Accuracy: 0.1086 | Val Loss: 0.1273 | Val Accuracy: 0.1117\n",
            "Epoch: 5 | Time: 9.35 | Train Loss: 0.1187 | Train Accuracy: 0.1201 | Val Loss: 0.1108 | Val Accuracy: 0.1295\n",
            "Validation Loss: 0.1108, Validation Accuracy: 0.1295\n"
          ]
        },
        {
          "output_type": "display_data",
          "data": {
            "text/plain": [
              "<IPython.core.display.HTML object>"
            ],
            "text/html": []
          },
          "metadata": {}
        },
        {
          "output_type": "display_data",
          "data": {
            "text/plain": [
              "<IPython.core.display.HTML object>"
            ],
            "text/html": [
              "<br>    <style><br>        .wandb-row {<br>            display: flex;<br>            flex-direction: row;<br>            flex-wrap: wrap;<br>            justify-content: flex-start;<br>            width: 100%;<br>        }<br>        .wandb-col {<br>            display: flex;<br>            flex-direction: column;<br>            flex-basis: 100%;<br>            flex: 1;<br>            padding: 10px;<br>        }<br>    </style><br><div class=\"wandb-row\"><div class=\"wandb-col\"><h3>Run history:</h3><br/><table class=\"wandb\"><tr><td>epoch</td><td>▁▃▅▆█</td></tr><tr><td>final_val_acc</td><td>▁</td></tr><tr><td>final_val_loss</td><td>▁</td></tr><tr><td>train_acc</td><td>▂▁▃▄█</td></tr><tr><td>train_loss</td><td>█▇▆▄▁</td></tr><tr><td>val_acc</td><td>▁▁▃▄█</td></tr><tr><td>val_loss</td><td>█▇▅▄▁</td></tr></table><br/></div><div class=\"wandb-col\"><h3>Run summary:</h3><br/><table class=\"wandb\"><tr><td>epoch</td><td>5</td></tr><tr><td>final_val_acc</td><td>0.1295</td></tr><tr><td>final_val_loss</td><td>0.11079</td></tr></table><br/></div></div>"
            ]
          },
          "metadata": {}
        },
        {
          "output_type": "display_data",
          "data": {
            "text/plain": [
              "<IPython.core.display.HTML object>"
            ],
            "text/html": [
              " View run <strong style=\"color:#cdcd00\">e_5_hl_5_nhpl_64_bs_32_init_random_ac_tanh_op_rmsprop_lo_squared_error</strong> at: <a href='https://wandb.ai/yeshu183-indian-institute-of-technology-madras/New%20Sweep/runs/xqy1o3kv' target=\"_blank\">https://wandb.ai/yeshu183-indian-institute-of-technology-madras/New%20Sweep/runs/xqy1o3kv</a><br> View project at: <a href='https://wandb.ai/yeshu183-indian-institute-of-technology-madras/New%20Sweep' target=\"_blank\">https://wandb.ai/yeshu183-indian-institute-of-technology-madras/New%20Sweep</a><br>Synced 5 W&B file(s), 0 media file(s), 0 artifact file(s) and 0 other file(s)"
            ]
          },
          "metadata": {}
        },
        {
          "output_type": "display_data",
          "data": {
            "text/plain": [
              "<IPython.core.display.HTML object>"
            ],
            "text/html": [
              "Find logs at: <code>./wandb/run-20250317_130246-xqy1o3kv/logs</code>"
            ]
          },
          "metadata": {}
        },
        {
          "output_type": "stream",
          "name": "stderr",
          "text": [
            "\u001b[34m\u001b[1mwandb\u001b[0m: Agent Starting Run: 62ef204e with config:\n",
            "\u001b[34m\u001b[1mwandb\u001b[0m: \tactivation: tanh\n",
            "\u001b[34m\u001b[1mwandb\u001b[0m: \tbatch_size: 64\n",
            "\u001b[34m\u001b[1mwandb\u001b[0m: \tepochs: 10\n",
            "\u001b[34m\u001b[1mwandb\u001b[0m: \thid_layer_size: 128\n",
            "\u001b[34m\u001b[1mwandb\u001b[0m: \tl2_reg: 0.5\n",
            "\u001b[34m\u001b[1mwandb\u001b[0m: \tloss_func: cross_entropy_loss\n",
            "\u001b[34m\u001b[1mwandb\u001b[0m: \tlr: 0.0001\n",
            "\u001b[34m\u001b[1mwandb\u001b[0m: \tnum_hid_layers: 5\n",
            "\u001b[34m\u001b[1mwandb\u001b[0m: \toptimizer_func: momentum\n",
            "\u001b[34m\u001b[1mwandb\u001b[0m: \tweight_init: random\n"
          ]
        },
        {
          "output_type": "display_data",
          "data": {
            "text/plain": [
              "<IPython.core.display.HTML object>"
            ],
            "text/html": [
              "Ignoring project 'New Sweep' when running a sweep."
            ]
          },
          "metadata": {}
        },
        {
          "output_type": "display_data",
          "data": {
            "text/plain": [
              "<IPython.core.display.HTML object>"
            ],
            "text/html": [
              "Tracking run with wandb version 0.19.8"
            ]
          },
          "metadata": {}
        },
        {
          "output_type": "display_data",
          "data": {
            "text/plain": [
              "<IPython.core.display.HTML object>"
            ],
            "text/html": [
              "Run data is saved locally in <code>/content/wandb/run-20250317_130341-62ef204e</code>"
            ]
          },
          "metadata": {}
        },
        {
          "output_type": "display_data",
          "data": {
            "text/plain": [
              "<IPython.core.display.HTML object>"
            ],
            "text/html": [
              "Syncing run <strong><a href='https://wandb.ai/yeshu183-indian-institute-of-technology-madras/New%20Sweep/runs/62ef204e' target=\"_blank\">distinctive-sweep-21</a></strong> to <a href='https://wandb.ai/yeshu183-indian-institute-of-technology-madras/New%20Sweep' target=\"_blank\">Weights & Biases</a> (<a href='https://wandb.me/developer-guide' target=\"_blank\">docs</a>)<br>Sweep page: <a href='https://wandb.ai/yeshu183-indian-institute-of-technology-madras/New%20Sweep/sweeps/surnww5r' target=\"_blank\">https://wandb.ai/yeshu183-indian-institute-of-technology-madras/New%20Sweep/sweeps/surnww5r</a>"
            ]
          },
          "metadata": {}
        },
        {
          "output_type": "display_data",
          "data": {
            "text/plain": [
              "<IPython.core.display.HTML object>"
            ],
            "text/html": [
              " View project at <a href='https://wandb.ai/yeshu183-indian-institute-of-technology-madras/New%20Sweep' target=\"_blank\">https://wandb.ai/yeshu183-indian-institute-of-technology-madras/New%20Sweep</a>"
            ]
          },
          "metadata": {}
        },
        {
          "output_type": "display_data",
          "data": {
            "text/plain": [
              "<IPython.core.display.HTML object>"
            ],
            "text/html": [
              " View sweep at <a href='https://wandb.ai/yeshu183-indian-institute-of-technology-madras/New%20Sweep/sweeps/surnww5r' target=\"_blank\">https://wandb.ai/yeshu183-indian-institute-of-technology-madras/New%20Sweep/sweeps/surnww5r</a>"
            ]
          },
          "metadata": {}
        },
        {
          "output_type": "display_data",
          "data": {
            "text/plain": [
              "<IPython.core.display.HTML object>"
            ],
            "text/html": [
              " View run at <a href='https://wandb.ai/yeshu183-indian-institute-of-technology-madras/New%20Sweep/runs/62ef204e' target=\"_blank\">https://wandb.ai/yeshu183-indian-institute-of-technology-madras/New%20Sweep/runs/62ef204e</a>"
            ]
          },
          "metadata": {}
        },
        {
          "output_type": "stream",
          "name": "stdout",
          "text": [
            "Epoch: 1 | Time: 14.70 | Train Loss: 10.0203 | Train Accuracy: 0.1580 | Val Loss: 6.3304 | Val Accuracy: 0.2415\n",
            "Epoch: 2 | Time: 15.00 | Train Loss: 4.2544 | Train Accuracy: 0.3109 | Val Loss: 2.5878 | Val Accuracy: 0.4022\n",
            "Epoch: 3 | Time: 14.40 | Train Loss: 1.8161 | Train Accuracy: 0.4820 | Val Loss: 1.2700 | Val Accuracy: 0.5655\n",
            "Epoch: 4 | Time: 14.37 | Train Loss: 1.1165 | Train Accuracy: 0.6182 | Val Loss: 1.0370 | Val Accuracy: 0.6740\n",
            "Epoch: 5 | Time: 14.34 | Train Loss: 1.1447 | Train Accuracy: 0.6801 | Val Loss: 1.3051 | Val Accuracy: 0.6883\n",
            "Epoch: 6 | Time: 14.41 | Train Loss: 1.5690 | Train Accuracy: 0.6418 | Val Loss: 1.8220 | Val Accuracy: 0.5778\n",
            "Epoch: 7 | Time: 14.61 | Train Loss: 2.0227 | Train Accuracy: 0.4596 | Val Loss: 2.1759 | Val Accuracy: 0.2315\n",
            "Epoch: 8 | Time: 14.65 | Train Loss: 2.2488 | Train Accuracy: 0.1436 | Val Loss: 2.2903 | Val Accuracy: 0.0973\n",
            "Epoch: 9 | Time: 14.34 | Train Loss: 2.3004 | Train Accuracy: 0.1003 | Val Loss: 2.3059 | Val Accuracy: 0.0973\n",
            "Epoch: 10 | Time: 14.60 | Train Loss: 2.3056 | Train Accuracy: 0.1003 | Val Loss: 2.3068 | Val Accuracy: 0.0973\n",
            "Validation Loss: 2.3068, Validation Accuracy: 0.0973\n"
          ]
        },
        {
          "output_type": "display_data",
          "data": {
            "text/plain": [
              "<IPython.core.display.HTML object>"
            ],
            "text/html": []
          },
          "metadata": {}
        },
        {
          "output_type": "display_data",
          "data": {
            "text/plain": [
              "<IPython.core.display.HTML object>"
            ],
            "text/html": [
              "<br>    <style><br>        .wandb-row {<br>            display: flex;<br>            flex-direction: row;<br>            flex-wrap: wrap;<br>            justify-content: flex-start;<br>            width: 100%;<br>        }<br>        .wandb-col {<br>            display: flex;<br>            flex-direction: column;<br>            flex-basis: 100%;<br>            flex: 1;<br>            padding: 10px;<br>        }<br>    </style><br><div class=\"wandb-row\"><div class=\"wandb-col\"><h3>Run history:</h3><br/><table class=\"wandb\"><tr><td>epoch</td><td>▁▂▃▃▄▅▆▆▇█</td></tr><tr><td>final_val_acc</td><td>▁</td></tr><tr><td>final_val_loss</td><td>▁</td></tr><tr><td>train_acc</td><td>▂▄▆▇██▅▂▁▁</td></tr><tr><td>train_loss</td><td>█▃▂▁▁▁▂▂▂▂</td></tr><tr><td>val_acc</td><td>▃▅▇██▇▃▁▁▁</td></tr><tr><td>val_loss</td><td>█▃▁▁▁▂▃▃▃▃</td></tr></table><br/></div><div class=\"wandb-col\"><h3>Run summary:</h3><br/><table class=\"wandb\"><tr><td>epoch</td><td>10</td></tr><tr><td>final_val_acc</td><td>0.09733</td></tr><tr><td>final_val_loss</td><td>2.30677</td></tr></table><br/></div></div>"
            ]
          },
          "metadata": {}
        },
        {
          "output_type": "display_data",
          "data": {
            "text/plain": [
              "<IPython.core.display.HTML object>"
            ],
            "text/html": [
              " View run <strong style=\"color:#cdcd00\">e_10_hl_5_nhpl_128_bs_64_init_random_ac_tanh_op_momentum_lo_cross_entropy_loss</strong> at: <a href='https://wandb.ai/yeshu183-indian-institute-of-technology-madras/New%20Sweep/runs/62ef204e' target=\"_blank\">https://wandb.ai/yeshu183-indian-institute-of-technology-madras/New%20Sweep/runs/62ef204e</a><br> View project at: <a href='https://wandb.ai/yeshu183-indian-institute-of-technology-madras/New%20Sweep' target=\"_blank\">https://wandb.ai/yeshu183-indian-institute-of-technology-madras/New%20Sweep</a><br>Synced 5 W&B file(s), 0 media file(s), 0 artifact file(s) and 0 other file(s)"
            ]
          },
          "metadata": {}
        },
        {
          "output_type": "display_data",
          "data": {
            "text/plain": [
              "<IPython.core.display.HTML object>"
            ],
            "text/html": [
              "Find logs at: <code>./wandb/run-20250317_130341-62ef204e/logs</code>"
            ]
          },
          "metadata": {}
        },
        {
          "output_type": "stream",
          "name": "stderr",
          "text": [
            "\u001b[34m\u001b[1mwandb\u001b[0m: Agent Starting Run: pv8z0je3 with config:\n",
            "\u001b[34m\u001b[1mwandb\u001b[0m: \tactivation: relu\n",
            "\u001b[34m\u001b[1mwandb\u001b[0m: \tbatch_size: 32\n",
            "\u001b[34m\u001b[1mwandb\u001b[0m: \tepochs: 10\n",
            "\u001b[34m\u001b[1mwandb\u001b[0m: \thid_layer_size: 32\n",
            "\u001b[34m\u001b[1mwandb\u001b[0m: \tl2_reg: 0.5\n",
            "\u001b[34m\u001b[1mwandb\u001b[0m: \tloss_func: squared_error\n",
            "\u001b[34m\u001b[1mwandb\u001b[0m: \tlr: 0.001\n",
            "\u001b[34m\u001b[1mwandb\u001b[0m: \tnum_hid_layers: 5\n",
            "\u001b[34m\u001b[1mwandb\u001b[0m: \toptimizer_func: momentum\n",
            "\u001b[34m\u001b[1mwandb\u001b[0m: \tweight_init: random\n"
          ]
        },
        {
          "output_type": "display_data",
          "data": {
            "text/plain": [
              "<IPython.core.display.HTML object>"
            ],
            "text/html": [
              "Ignoring project 'New Sweep' when running a sweep."
            ]
          },
          "metadata": {}
        },
        {
          "output_type": "display_data",
          "data": {
            "text/plain": [
              "<IPython.core.display.HTML object>"
            ],
            "text/html": [
              "Tracking run with wandb version 0.19.8"
            ]
          },
          "metadata": {}
        },
        {
          "output_type": "display_data",
          "data": {
            "text/plain": [
              "<IPython.core.display.HTML object>"
            ],
            "text/html": [
              "Run data is saved locally in <code>/content/wandb/run-20250317_130614-pv8z0je3</code>"
            ]
          },
          "metadata": {}
        },
        {
          "output_type": "display_data",
          "data": {
            "text/plain": [
              "<IPython.core.display.HTML object>"
            ],
            "text/html": [
              "Syncing run <strong><a href='https://wandb.ai/yeshu183-indian-institute-of-technology-madras/New%20Sweep/runs/pv8z0je3' target=\"_blank\">olive-sweep-22</a></strong> to <a href='https://wandb.ai/yeshu183-indian-institute-of-technology-madras/New%20Sweep' target=\"_blank\">Weights & Biases</a> (<a href='https://wandb.me/developer-guide' target=\"_blank\">docs</a>)<br>Sweep page: <a href='https://wandb.ai/yeshu183-indian-institute-of-technology-madras/New%20Sweep/sweeps/surnww5r' target=\"_blank\">https://wandb.ai/yeshu183-indian-institute-of-technology-madras/New%20Sweep/sweeps/surnww5r</a>"
            ]
          },
          "metadata": {}
        },
        {
          "output_type": "display_data",
          "data": {
            "text/plain": [
              "<IPython.core.display.HTML object>"
            ],
            "text/html": [
              " View project at <a href='https://wandb.ai/yeshu183-indian-institute-of-technology-madras/New%20Sweep' target=\"_blank\">https://wandb.ai/yeshu183-indian-institute-of-technology-madras/New%20Sweep</a>"
            ]
          },
          "metadata": {}
        },
        {
          "output_type": "display_data",
          "data": {
            "text/plain": [
              "<IPython.core.display.HTML object>"
            ],
            "text/html": [
              " View sweep at <a href='https://wandb.ai/yeshu183-indian-institute-of-technology-madras/New%20Sweep/sweeps/surnww5r' target=\"_blank\">https://wandb.ai/yeshu183-indian-institute-of-technology-madras/New%20Sweep/sweeps/surnww5r</a>"
            ]
          },
          "metadata": {}
        },
        {
          "output_type": "display_data",
          "data": {
            "text/plain": [
              "<IPython.core.display.HTML object>"
            ],
            "text/html": [
              " View run at <a href='https://wandb.ai/yeshu183-indian-institute-of-technology-madras/New%20Sweep/runs/pv8z0je3' target=\"_blank\">https://wandb.ai/yeshu183-indian-institute-of-technology-madras/New%20Sweep/runs/pv8z0je3</a>"
            ]
          },
          "metadata": {}
        },
        {
          "output_type": "stream",
          "name": "stdout",
          "text": [
            "Epoch: 1 | Time: 5.73 | Train Loss: 0.1009 | Train Accuracy: 0.1159 | Val Loss: 0.0926 | Val Accuracy: 0.1003\n",
            "Epoch: 2 | Time: 3.01 | Train Loss: 0.0926 | Train Accuracy: 0.1009 | Val Loss: 0.0926 | Val Accuracy: 0.1003\n",
            "Epoch: 3 | Time: 3.11 | Train Loss: 0.0926 | Train Accuracy: 0.1001 | Val Loss: 0.0926 | Val Accuracy: 0.1003\n",
            "Epoch: 4 | Time: 3.76 | Train Loss: 0.0926 | Train Accuracy: 0.1002 | Val Loss: 0.0925 | Val Accuracy: 0.1003\n",
            "Epoch: 5 | Time: 5.10 | Train Loss: 0.0925 | Train Accuracy: 0.0993 | Val Loss: 0.0925 | Val Accuracy: 0.1003\n",
            "Epoch: 6 | Time: 3.40 | Train Loss: 0.0925 | Train Accuracy: 0.0993 | Val Loss: 0.0924 | Val Accuracy: 0.1003\n",
            "Epoch: 7 | Time: 3.02 | Train Loss: 0.0924 | Train Accuracy: 0.1003 | Val Loss: 0.0924 | Val Accuracy: 0.0990\n",
            "Epoch: 8 | Time: 4.44 | Train Loss: 0.0924 | Train Accuracy: 0.0994 | Val Loss: 0.0923 | Val Accuracy: 0.1003\n",
            "Epoch: 9 | Time: 4.32 | Train Loss: 0.0924 | Train Accuracy: 0.0966 | Val Loss: 0.0922 | Val Accuracy: 0.0990\n",
            "Epoch: 10 | Time: 3.05 | Train Loss: 0.0923 | Train Accuracy: 0.1019 | Val Loss: 0.0922 | Val Accuracy: 0.0990\n",
            "Validation Loss: 0.0922, Validation Accuracy: 0.0990\n"
          ]
        },
        {
          "output_type": "display_data",
          "data": {
            "text/plain": [
              "<IPython.core.display.HTML object>"
            ],
            "text/html": []
          },
          "metadata": {}
        },
        {
          "output_type": "display_data",
          "data": {
            "text/plain": [
              "<IPython.core.display.HTML object>"
            ],
            "text/html": [
              "<br>    <style><br>        .wandb-row {<br>            display: flex;<br>            flex-direction: row;<br>            flex-wrap: wrap;<br>            justify-content: flex-start;<br>            width: 100%;<br>        }<br>        .wandb-col {<br>            display: flex;<br>            flex-direction: column;<br>            flex-basis: 100%;<br>            flex: 1;<br>            padding: 10px;<br>        }<br>    </style><br><div class=\"wandb-row\"><div class=\"wandb-col\"><h3>Run history:</h3><br/><table class=\"wandb\"><tr><td>epoch</td><td>▁▂▃▃▄▅▆▆▇█</td></tr><tr><td>final_val_acc</td><td>▁</td></tr><tr><td>final_val_loss</td><td>▁</td></tr><tr><td>train_acc</td><td>█▃▂▂▂▂▂▂▁▃</td></tr><tr><td>train_loss</td><td>█▁▁▁▁▁▁▁▁▁</td></tr><tr><td>val_acc</td><td>██████▁█▁▁</td></tr><tr><td>val_loss</td><td>█▇▇▇▅▄▄▃▁▁</td></tr></table><br/></div><div class=\"wandb-col\"><h3>Run summary:</h3><br/><table class=\"wandb\"><tr><td>epoch</td><td>10</td></tr><tr><td>final_val_acc</td><td>0.099</td></tr><tr><td>final_val_loss</td><td>0.09225</td></tr></table><br/></div></div>"
            ]
          },
          "metadata": {}
        },
        {
          "output_type": "display_data",
          "data": {
            "text/plain": [
              "<IPython.core.display.HTML object>"
            ],
            "text/html": [
              " View run <strong style=\"color:#cdcd00\">e_10_hl_5_nhpl_32_bs_32_init_random_ac_relu_op_momentum_lo_squared_error</strong> at: <a href='https://wandb.ai/yeshu183-indian-institute-of-technology-madras/New%20Sweep/runs/pv8z0je3' target=\"_blank\">https://wandb.ai/yeshu183-indian-institute-of-technology-madras/New%20Sweep/runs/pv8z0je3</a><br> View project at: <a href='https://wandb.ai/yeshu183-indian-institute-of-technology-madras/New%20Sweep' target=\"_blank\">https://wandb.ai/yeshu183-indian-institute-of-technology-madras/New%20Sweep</a><br>Synced 5 W&B file(s), 0 media file(s), 0 artifact file(s) and 0 other file(s)"
            ]
          },
          "metadata": {}
        },
        {
          "output_type": "display_data",
          "data": {
            "text/plain": [
              "<IPython.core.display.HTML object>"
            ],
            "text/html": [
              "Find logs at: <code>./wandb/run-20250317_130614-pv8z0je3/logs</code>"
            ]
          },
          "metadata": {}
        },
        {
          "output_type": "stream",
          "name": "stderr",
          "text": [
            "\u001b[34m\u001b[1mwandb\u001b[0m: Agent Starting Run: sxlt8w3m with config:\n",
            "\u001b[34m\u001b[1mwandb\u001b[0m: \tactivation: relu\n",
            "\u001b[34m\u001b[1mwandb\u001b[0m: \tbatch_size: 32\n",
            "\u001b[34m\u001b[1mwandb\u001b[0m: \tepochs: 10\n",
            "\u001b[34m\u001b[1mwandb\u001b[0m: \thid_layer_size: 128\n",
            "\u001b[34m\u001b[1mwandb\u001b[0m: \tl2_reg: 0.0005\n",
            "\u001b[34m\u001b[1mwandb\u001b[0m: \tloss_func: cross_entropy_loss\n",
            "\u001b[34m\u001b[1mwandb\u001b[0m: \tlr: 0.0001\n",
            "\u001b[34m\u001b[1mwandb\u001b[0m: \tnum_hid_layers: 4\n",
            "\u001b[34m\u001b[1mwandb\u001b[0m: \toptimizer_func: adam\n",
            "\u001b[34m\u001b[1mwandb\u001b[0m: \tweight_init: xavier\n"
          ]
        },
        {
          "output_type": "display_data",
          "data": {
            "text/plain": [
              "<IPython.core.display.HTML object>"
            ],
            "text/html": [
              "Ignoring project 'New Sweep' when running a sweep."
            ]
          },
          "metadata": {}
        },
        {
          "output_type": "display_data",
          "data": {
            "text/plain": [
              "<IPython.core.display.HTML object>"
            ],
            "text/html": [
              "Tracking run with wandb version 0.19.8"
            ]
          },
          "metadata": {}
        },
        {
          "output_type": "display_data",
          "data": {
            "text/plain": [
              "<IPython.core.display.HTML object>"
            ],
            "text/html": [
              "Run data is saved locally in <code>/content/wandb/run-20250317_130700-sxlt8w3m</code>"
            ]
          },
          "metadata": {}
        },
        {
          "output_type": "display_data",
          "data": {
            "text/plain": [
              "<IPython.core.display.HTML object>"
            ],
            "text/html": [
              "Syncing run <strong><a href='https://wandb.ai/yeshu183-indian-institute-of-technology-madras/New%20Sweep/runs/sxlt8w3m' target=\"_blank\">apricot-sweep-23</a></strong> to <a href='https://wandb.ai/yeshu183-indian-institute-of-technology-madras/New%20Sweep' target=\"_blank\">Weights & Biases</a> (<a href='https://wandb.me/developer-guide' target=\"_blank\">docs</a>)<br>Sweep page: <a href='https://wandb.ai/yeshu183-indian-institute-of-technology-madras/New%20Sweep/sweeps/surnww5r' target=\"_blank\">https://wandb.ai/yeshu183-indian-institute-of-technology-madras/New%20Sweep/sweeps/surnww5r</a>"
            ]
          },
          "metadata": {}
        },
        {
          "output_type": "display_data",
          "data": {
            "text/plain": [
              "<IPython.core.display.HTML object>"
            ],
            "text/html": [
              " View project at <a href='https://wandb.ai/yeshu183-indian-institute-of-technology-madras/New%20Sweep' target=\"_blank\">https://wandb.ai/yeshu183-indian-institute-of-technology-madras/New%20Sweep</a>"
            ]
          },
          "metadata": {}
        },
        {
          "output_type": "display_data",
          "data": {
            "text/plain": [
              "<IPython.core.display.HTML object>"
            ],
            "text/html": [
              " View sweep at <a href='https://wandb.ai/yeshu183-indian-institute-of-technology-madras/New%20Sweep/sweeps/surnww5r' target=\"_blank\">https://wandb.ai/yeshu183-indian-institute-of-technology-madras/New%20Sweep/sweeps/surnww5r</a>"
            ]
          },
          "metadata": {}
        },
        {
          "output_type": "display_data",
          "data": {
            "text/plain": [
              "<IPython.core.display.HTML object>"
            ],
            "text/html": [
              " View run at <a href='https://wandb.ai/yeshu183-indian-institute-of-technology-madras/New%20Sweep/runs/sxlt8w3m' target=\"_blank\">https://wandb.ai/yeshu183-indian-institute-of-technology-madras/New%20Sweep/runs/sxlt8w3m</a>"
            ]
          },
          "metadata": {}
        },
        {
          "output_type": "stream",
          "name": "stdout",
          "text": [
            "Epoch: 1 | Time: 15.88 | Train Loss: 0.6032 | Train Accuracy: 0.7919 | Val Loss: 0.4422 | Val Accuracy: 0.8447\n",
            "Epoch: 2 | Time: 15.32 | Train Loss: 0.4204 | Train Accuracy: 0.8512 | Val Loss: 0.4017 | Val Accuracy: 0.8560\n",
            "Epoch: 3 | Time: 14.93 | Train Loss: 0.3861 | Train Accuracy: 0.8627 | Val Loss: 0.3717 | Val Accuracy: 0.8698\n",
            "Epoch: 4 | Time: 14.91 | Train Loss: 0.3618 | Train Accuracy: 0.8701 | Val Loss: 0.3704 | Val Accuracy: 0.8680\n",
            "Epoch: 5 | Time: 15.11 | Train Loss: 0.3455 | Train Accuracy: 0.8758 | Val Loss: 0.3448 | Val Accuracy: 0.8762\n",
            "Epoch: 6 | Time: 15.03 | Train Loss: 0.3316 | Train Accuracy: 0.8818 | Val Loss: 0.3491 | Val Accuracy: 0.8758\n",
            "Epoch: 7 | Time: 14.85 | Train Loss: 0.3189 | Train Accuracy: 0.8841 | Val Loss: 0.3274 | Val Accuracy: 0.8808\n",
            "Epoch: 8 | Time: 14.87 | Train Loss: 0.3088 | Train Accuracy: 0.8878 | Val Loss: 0.3406 | Val Accuracy: 0.8755\n",
            "Epoch: 9 | Time: 15.15 | Train Loss: 0.2998 | Train Accuracy: 0.8907 | Val Loss: 0.3346 | Val Accuracy: 0.8785\n",
            "Epoch: 10 | Time: 15.56 | Train Loss: 0.2924 | Train Accuracy: 0.8938 | Val Loss: 0.3238 | Val Accuracy: 0.8788\n",
            "Validation Loss: 0.3238, Validation Accuracy: 0.8788\n"
          ]
        },
        {
          "output_type": "display_data",
          "data": {
            "text/plain": [
              "<IPython.core.display.HTML object>"
            ],
            "text/html": []
          },
          "metadata": {}
        },
        {
          "output_type": "display_data",
          "data": {
            "text/plain": [
              "<IPython.core.display.HTML object>"
            ],
            "text/html": [
              "<br>    <style><br>        .wandb-row {<br>            display: flex;<br>            flex-direction: row;<br>            flex-wrap: wrap;<br>            justify-content: flex-start;<br>            width: 100%;<br>        }<br>        .wandb-col {<br>            display: flex;<br>            flex-direction: column;<br>            flex-basis: 100%;<br>            flex: 1;<br>            padding: 10px;<br>        }<br>    </style><br><div class=\"wandb-row\"><div class=\"wandb-col\"><h3>Run history:</h3><br/><table class=\"wandb\"><tr><td>epoch</td><td>▁▂▃▃▄▅▆▆▇█</td></tr><tr><td>final_val_acc</td><td>▁</td></tr><tr><td>final_val_loss</td><td>▁</td></tr><tr><td>train_acc</td><td>▁▅▆▆▇▇▇███</td></tr><tr><td>train_loss</td><td>█▄▃▃▂▂▂▁▁▁</td></tr><tr><td>val_acc</td><td>▁▃▆▆▇▇█▇██</td></tr><tr><td>val_loss</td><td>█▆▄▄▂▂▁▂▂▁</td></tr></table><br/></div><div class=\"wandb-col\"><h3>Run summary:</h3><br/><table class=\"wandb\"><tr><td>epoch</td><td>10</td></tr><tr><td>final_val_acc</td><td>0.87883</td></tr><tr><td>final_val_loss</td><td>0.32378</td></tr></table><br/></div></div>"
            ]
          },
          "metadata": {}
        },
        {
          "output_type": "display_data",
          "data": {
            "text/plain": [
              "<IPython.core.display.HTML object>"
            ],
            "text/html": [
              " View run <strong style=\"color:#cdcd00\">e_10_hl_4_nhpl_128_bs_32_init_xavier_ac_relu_op_adam_lo_cross_entropy_loss</strong> at: <a href='https://wandb.ai/yeshu183-indian-institute-of-technology-madras/New%20Sweep/runs/sxlt8w3m' target=\"_blank\">https://wandb.ai/yeshu183-indian-institute-of-technology-madras/New%20Sweep/runs/sxlt8w3m</a><br> View project at: <a href='https://wandb.ai/yeshu183-indian-institute-of-technology-madras/New%20Sweep' target=\"_blank\">https://wandb.ai/yeshu183-indian-institute-of-technology-madras/New%20Sweep</a><br>Synced 5 W&B file(s), 0 media file(s), 0 artifact file(s) and 0 other file(s)"
            ]
          },
          "metadata": {}
        },
        {
          "output_type": "display_data",
          "data": {
            "text/plain": [
              "<IPython.core.display.HTML object>"
            ],
            "text/html": [
              "Find logs at: <code>./wandb/run-20250317_130700-sxlt8w3m/logs</code>"
            ]
          },
          "metadata": {}
        },
        {
          "output_type": "stream",
          "name": "stderr",
          "text": [
            "\u001b[34m\u001b[1mwandb\u001b[0m: Agent Starting Run: y9vgqj8a with config:\n",
            "\u001b[34m\u001b[1mwandb\u001b[0m: \tactivation: tanh\n",
            "\u001b[34m\u001b[1mwandb\u001b[0m: \tbatch_size: 64\n",
            "\u001b[34m\u001b[1mwandb\u001b[0m: \tepochs: 10\n",
            "\u001b[34m\u001b[1mwandb\u001b[0m: \thid_layer_size: 128\n",
            "\u001b[34m\u001b[1mwandb\u001b[0m: \tl2_reg: 0.0005\n",
            "\u001b[34m\u001b[1mwandb\u001b[0m: \tloss_func: cross_entropy_loss\n",
            "\u001b[34m\u001b[1mwandb\u001b[0m: \tlr: 0.0001\n",
            "\u001b[34m\u001b[1mwandb\u001b[0m: \tnum_hid_layers: 4\n",
            "\u001b[34m\u001b[1mwandb\u001b[0m: \toptimizer_func: adam\n",
            "\u001b[34m\u001b[1mwandb\u001b[0m: \tweight_init: xavier\n"
          ]
        },
        {
          "output_type": "display_data",
          "data": {
            "text/plain": [
              "<IPython.core.display.HTML object>"
            ],
            "text/html": [
              "Ignoring project 'New Sweep' when running a sweep."
            ]
          },
          "metadata": {}
        },
        {
          "output_type": "display_data",
          "data": {
            "text/plain": [
              "<IPython.core.display.HTML object>"
            ],
            "text/html": [
              "Tracking run with wandb version 0.19.8"
            ]
          },
          "metadata": {}
        },
        {
          "output_type": "display_data",
          "data": {
            "text/plain": [
              "<IPython.core.display.HTML object>"
            ],
            "text/html": [
              "Run data is saved locally in <code>/content/wandb/run-20250317_130938-y9vgqj8a</code>"
            ]
          },
          "metadata": {}
        },
        {
          "output_type": "display_data",
          "data": {
            "text/plain": [
              "<IPython.core.display.HTML object>"
            ],
            "text/html": [
              "Syncing run <strong><a href='https://wandb.ai/yeshu183-indian-institute-of-technology-madras/New%20Sweep/runs/y9vgqj8a' target=\"_blank\">glamorous-sweep-24</a></strong> to <a href='https://wandb.ai/yeshu183-indian-institute-of-technology-madras/New%20Sweep' target=\"_blank\">Weights & Biases</a> (<a href='https://wandb.me/developer-guide' target=\"_blank\">docs</a>)<br>Sweep page: <a href='https://wandb.ai/yeshu183-indian-institute-of-technology-madras/New%20Sweep/sweeps/surnww5r' target=\"_blank\">https://wandb.ai/yeshu183-indian-institute-of-technology-madras/New%20Sweep/sweeps/surnww5r</a>"
            ]
          },
          "metadata": {}
        },
        {
          "output_type": "display_data",
          "data": {
            "text/plain": [
              "<IPython.core.display.HTML object>"
            ],
            "text/html": [
              " View project at <a href='https://wandb.ai/yeshu183-indian-institute-of-technology-madras/New%20Sweep' target=\"_blank\">https://wandb.ai/yeshu183-indian-institute-of-technology-madras/New%20Sweep</a>"
            ]
          },
          "metadata": {}
        },
        {
          "output_type": "display_data",
          "data": {
            "text/plain": [
              "<IPython.core.display.HTML object>"
            ],
            "text/html": [
              " View sweep at <a href='https://wandb.ai/yeshu183-indian-institute-of-technology-madras/New%20Sweep/sweeps/surnww5r' target=\"_blank\">https://wandb.ai/yeshu183-indian-institute-of-technology-madras/New%20Sweep/sweeps/surnww5r</a>"
            ]
          },
          "metadata": {}
        },
        {
          "output_type": "display_data",
          "data": {
            "text/plain": [
              "<IPython.core.display.HTML object>"
            ],
            "text/html": [
              " View run at <a href='https://wandb.ai/yeshu183-indian-institute-of-technology-madras/New%20Sweep/runs/y9vgqj8a' target=\"_blank\">https://wandb.ai/yeshu183-indian-institute-of-technology-madras/New%20Sweep/runs/y9vgqj8a</a>"
            ]
          },
          "metadata": {}
        },
        {
          "output_type": "stream",
          "name": "stdout",
          "text": [
            "Epoch: 1 | Time: 14.80 | Train Loss: 0.5931 | Train Accuracy: 0.7936 | Val Loss: 0.4396 | Val Accuracy: 0.8423\n",
            "Epoch: 2 | Time: 14.71 | Train Loss: 0.4173 | Train Accuracy: 0.8503 | Val Loss: 0.3983 | Val Accuracy: 0.8568\n",
            "Epoch: 3 | Time: 14.50 | Train Loss: 0.3860 | Train Accuracy: 0.8619 | Val Loss: 0.3839 | Val Accuracy: 0.8645\n",
            "Epoch: 4 | Time: 14.43 | Train Loss: 0.3681 | Train Accuracy: 0.8678 | Val Loss: 0.3717 | Val Accuracy: 0.8688\n",
            "Epoch: 5 | Time: 14.43 | Train Loss: 0.3539 | Train Accuracy: 0.8727 | Val Loss: 0.3620 | Val Accuracy: 0.8688\n",
            "Epoch: 6 | Time: 14.58 | Train Loss: 0.3443 | Train Accuracy: 0.8752 | Val Loss: 0.3547 | Val Accuracy: 0.8717\n",
            "Epoch: 7 | Time: 14.83 | Train Loss: 0.3339 | Train Accuracy: 0.8794 | Val Loss: 0.3587 | Val Accuracy: 0.8680\n",
            "Epoch: 8 | Time: 14.74 | Train Loss: 0.3254 | Train Accuracy: 0.8824 | Val Loss: 0.3458 | Val Accuracy: 0.8723\n",
            "Epoch: 9 | Time: 14.48 | Train Loss: 0.3191 | Train Accuracy: 0.8851 | Val Loss: 0.3484 | Val Accuracy: 0.8740\n",
            "Epoch: 10 | Time: 14.56 | Train Loss: 0.3125 | Train Accuracy: 0.8873 | Val Loss: 0.3432 | Val Accuracy: 0.8760\n",
            "Validation Loss: 0.3432, Validation Accuracy: 0.8760\n"
          ]
        },
        {
          "output_type": "display_data",
          "data": {
            "text/plain": [
              "<IPython.core.display.HTML object>"
            ],
            "text/html": []
          },
          "metadata": {}
        },
        {
          "output_type": "display_data",
          "data": {
            "text/plain": [
              "<IPython.core.display.HTML object>"
            ],
            "text/html": [
              "<br>    <style><br>        .wandb-row {<br>            display: flex;<br>            flex-direction: row;<br>            flex-wrap: wrap;<br>            justify-content: flex-start;<br>            width: 100%;<br>        }<br>        .wandb-col {<br>            display: flex;<br>            flex-direction: column;<br>            flex-basis: 100%;<br>            flex: 1;<br>            padding: 10px;<br>        }<br>    </style><br><div class=\"wandb-row\"><div class=\"wandb-col\"><h3>Run history:</h3><br/><table class=\"wandb\"><tr><td>epoch</td><td>▁▂▃▃▄▅▆▆▇█</td></tr><tr><td>final_val_acc</td><td>▁</td></tr><tr><td>final_val_loss</td><td>▁</td></tr><tr><td>train_acc</td><td>▁▅▆▇▇▇▇███</td></tr><tr><td>train_loss</td><td>█▄▃▂▂▂▂▁▁▁</td></tr><tr><td>val_acc</td><td>▁▄▆▇▇▇▆▇██</td></tr><tr><td>val_loss</td><td>█▅▄▃▂▂▂▁▁▁</td></tr></table><br/></div><div class=\"wandb-col\"><h3>Run summary:</h3><br/><table class=\"wandb\"><tr><td>epoch</td><td>10</td></tr><tr><td>final_val_acc</td><td>0.876</td></tr><tr><td>final_val_loss</td><td>0.34321</td></tr></table><br/></div></div>"
            ]
          },
          "metadata": {}
        },
        {
          "output_type": "display_data",
          "data": {
            "text/plain": [
              "<IPython.core.display.HTML object>"
            ],
            "text/html": [
              " View run <strong style=\"color:#cdcd00\">e_10_hl_4_nhpl_128_bs_64_init_xavier_ac_tanh_op_adam_lo_cross_entropy_loss</strong> at: <a href='https://wandb.ai/yeshu183-indian-institute-of-technology-madras/New%20Sweep/runs/y9vgqj8a' target=\"_blank\">https://wandb.ai/yeshu183-indian-institute-of-technology-madras/New%20Sweep/runs/y9vgqj8a</a><br> View project at: <a href='https://wandb.ai/yeshu183-indian-institute-of-technology-madras/New%20Sweep' target=\"_blank\">https://wandb.ai/yeshu183-indian-institute-of-technology-madras/New%20Sweep</a><br>Synced 5 W&B file(s), 0 media file(s), 0 artifact file(s) and 0 other file(s)"
            ]
          },
          "metadata": {}
        },
        {
          "output_type": "display_data",
          "data": {
            "text/plain": [
              "<IPython.core.display.HTML object>"
            ],
            "text/html": [
              "Find logs at: <code>./wandb/run-20250317_130938-y9vgqj8a/logs</code>"
            ]
          },
          "metadata": {}
        },
        {
          "output_type": "stream",
          "name": "stderr",
          "text": [
            "\u001b[34m\u001b[1mwandb\u001b[0m: Agent Starting Run: clfbd9zb with config:\n",
            "\u001b[34m\u001b[1mwandb\u001b[0m: \tactivation: relu\n",
            "\u001b[34m\u001b[1mwandb\u001b[0m: \tbatch_size: 32\n",
            "\u001b[34m\u001b[1mwandb\u001b[0m: \tepochs: 10\n",
            "\u001b[34m\u001b[1mwandb\u001b[0m: \thid_layer_size: 128\n",
            "\u001b[34m\u001b[1mwandb\u001b[0m: \tl2_reg: 0\n",
            "\u001b[34m\u001b[1mwandb\u001b[0m: \tloss_func: cross_entropy_loss\n",
            "\u001b[34m\u001b[1mwandb\u001b[0m: \tlr: 0.0001\n",
            "\u001b[34m\u001b[1mwandb\u001b[0m: \tnum_hid_layers: 4\n",
            "\u001b[34m\u001b[1mwandb\u001b[0m: \toptimizer_func: nesterov\n",
            "\u001b[34m\u001b[1mwandb\u001b[0m: \tweight_init: xavier\n"
          ]
        },
        {
          "output_type": "display_data",
          "data": {
            "text/plain": [
              "<IPython.core.display.HTML object>"
            ],
            "text/html": [
              "Ignoring project 'New Sweep' when running a sweep."
            ]
          },
          "metadata": {}
        },
        {
          "output_type": "display_data",
          "data": {
            "text/plain": [
              "<IPython.core.display.HTML object>"
            ],
            "text/html": [
              "Tracking run with wandb version 0.19.8"
            ]
          },
          "metadata": {}
        },
        {
          "output_type": "display_data",
          "data": {
            "text/plain": [
              "<IPython.core.display.HTML object>"
            ],
            "text/html": [
              "Run data is saved locally in <code>/content/wandb/run-20250317_131209-clfbd9zb</code>"
            ]
          },
          "metadata": {}
        },
        {
          "output_type": "display_data",
          "data": {
            "text/plain": [
              "<IPython.core.display.HTML object>"
            ],
            "text/html": [
              "Syncing run <strong><a href='https://wandb.ai/yeshu183-indian-institute-of-technology-madras/New%20Sweep/runs/clfbd9zb' target=\"_blank\">vocal-sweep-25</a></strong> to <a href='https://wandb.ai/yeshu183-indian-institute-of-technology-madras/New%20Sweep' target=\"_blank\">Weights & Biases</a> (<a href='https://wandb.me/developer-guide' target=\"_blank\">docs</a>)<br>Sweep page: <a href='https://wandb.ai/yeshu183-indian-institute-of-technology-madras/New%20Sweep/sweeps/surnww5r' target=\"_blank\">https://wandb.ai/yeshu183-indian-institute-of-technology-madras/New%20Sweep/sweeps/surnww5r</a>"
            ]
          },
          "metadata": {}
        },
        {
          "output_type": "display_data",
          "data": {
            "text/plain": [
              "<IPython.core.display.HTML object>"
            ],
            "text/html": [
              " View project at <a href='https://wandb.ai/yeshu183-indian-institute-of-technology-madras/New%20Sweep' target=\"_blank\">https://wandb.ai/yeshu183-indian-institute-of-technology-madras/New%20Sweep</a>"
            ]
          },
          "metadata": {}
        },
        {
          "output_type": "display_data",
          "data": {
            "text/plain": [
              "<IPython.core.display.HTML object>"
            ],
            "text/html": [
              " View sweep at <a href='https://wandb.ai/yeshu183-indian-institute-of-technology-madras/New%20Sweep/sweeps/surnww5r' target=\"_blank\">https://wandb.ai/yeshu183-indian-institute-of-technology-madras/New%20Sweep/sweeps/surnww5r</a>"
            ]
          },
          "metadata": {}
        },
        {
          "output_type": "display_data",
          "data": {
            "text/plain": [
              "<IPython.core.display.HTML object>"
            ],
            "text/html": [
              " View run at <a href='https://wandb.ai/yeshu183-indian-institute-of-technology-madras/New%20Sweep/runs/clfbd9zb' target=\"_blank\">https://wandb.ai/yeshu183-indian-institute-of-technology-madras/New%20Sweep/runs/clfbd9zb</a>"
            ]
          },
          "metadata": {}
        },
        {
          "output_type": "stream",
          "name": "stdout",
          "text": [
            "Epoch: 1 | Time: 12.63 | Train Loss: 1.9212 | Train Accuracy: 0.3848 | Val Loss: 1.3720 | Val Accuracy: 0.6218\n",
            "Epoch: 2 | Time: 12.28 | Train Loss: 1.0549 | Train Accuracy: 0.6574 | Val Loss: 0.8636 | Val Accuracy: 0.7033\n",
            "Epoch: 3 | Time: 12.32 | Train Loss: 0.7932 | Train Accuracy: 0.7225 | Val Loss: 0.7282 | Val Accuracy: 0.7560\n",
            "Epoch: 4 | Time: 11.01 | Train Loss: 0.6923 | Train Accuracy: 0.7622 | Val Loss: 0.6578 | Val Accuracy: 0.7765\n",
            "Epoch: 5 | Time: 11.38 | Train Loss: 0.6288 | Train Accuracy: 0.7856 | Val Loss: 0.6027 | Val Accuracy: 0.8007\n",
            "Epoch: 6 | Time: 13.19 | Train Loss: 0.5852 | Train Accuracy: 0.8004 | Val Loss: 0.5659 | Val Accuracy: 0.8093\n",
            "Epoch: 7 | Time: 13.26 | Train Loss: 0.5547 | Train Accuracy: 0.8092 | Val Loss: 0.5390 | Val Accuracy: 0.8215\n",
            "Epoch: 8 | Time: 13.41 | Train Loss: 0.5332 | Train Accuracy: 0.8141 | Val Loss: 0.5217 | Val Accuracy: 0.8223\n",
            "Epoch: 9 | Time: 13.12 | Train Loss: 0.5152 | Train Accuracy: 0.8221 | Val Loss: 0.5067 | Val Accuracy: 0.8315\n",
            "Epoch: 10 | Time: 13.28 | Train Loss: 0.5007 | Train Accuracy: 0.8251 | Val Loss: 0.4973 | Val Accuracy: 0.8315\n",
            "Validation Loss: 0.4973, Validation Accuracy: 0.8315\n"
          ]
        },
        {
          "output_type": "display_data",
          "data": {
            "text/plain": [
              "<IPython.core.display.HTML object>"
            ],
            "text/html": []
          },
          "metadata": {}
        },
        {
          "output_type": "display_data",
          "data": {
            "text/plain": [
              "<IPython.core.display.HTML object>"
            ],
            "text/html": [
              "<br>    <style><br>        .wandb-row {<br>            display: flex;<br>            flex-direction: row;<br>            flex-wrap: wrap;<br>            justify-content: flex-start;<br>            width: 100%;<br>        }<br>        .wandb-col {<br>            display: flex;<br>            flex-direction: column;<br>            flex-basis: 100%;<br>            flex: 1;<br>            padding: 10px;<br>        }<br>    </style><br><div class=\"wandb-row\"><div class=\"wandb-col\"><h3>Run history:</h3><br/><table class=\"wandb\"><tr><td>epoch</td><td>▁▂▃▃▄▅▆▆▇█</td></tr><tr><td>final_val_acc</td><td>▁</td></tr><tr><td>final_val_loss</td><td>▁</td></tr><tr><td>train_acc</td><td>▁▅▆▇▇█████</td></tr><tr><td>train_loss</td><td>█▄▂▂▂▁▁▁▁▁</td></tr><tr><td>val_acc</td><td>▁▄▅▆▇▇████</td></tr><tr><td>val_loss</td><td>█▄▃▂▂▂▁▁▁▁</td></tr></table><br/></div><div class=\"wandb-col\"><h3>Run summary:</h3><br/><table class=\"wandb\"><tr><td>epoch</td><td>10</td></tr><tr><td>final_val_acc</td><td>0.8315</td></tr><tr><td>final_val_loss</td><td>0.49726</td></tr></table><br/></div></div>"
            ]
          },
          "metadata": {}
        },
        {
          "output_type": "display_data",
          "data": {
            "text/plain": [
              "<IPython.core.display.HTML object>"
            ],
            "text/html": [
              " View run <strong style=\"color:#cdcd00\">e_10_hl_4_nhpl_128_bs_32_init_xavier_ac_relu_op_nesterov_lo_cross_entropy_loss</strong> at: <a href='https://wandb.ai/yeshu183-indian-institute-of-technology-madras/New%20Sweep/runs/clfbd9zb' target=\"_blank\">https://wandb.ai/yeshu183-indian-institute-of-technology-madras/New%20Sweep/runs/clfbd9zb</a><br> View project at: <a href='https://wandb.ai/yeshu183-indian-institute-of-technology-madras/New%20Sweep' target=\"_blank\">https://wandb.ai/yeshu183-indian-institute-of-technology-madras/New%20Sweep</a><br>Synced 5 W&B file(s), 0 media file(s), 0 artifact file(s) and 0 other file(s)"
            ]
          },
          "metadata": {}
        },
        {
          "output_type": "display_data",
          "data": {
            "text/plain": [
              "<IPython.core.display.HTML object>"
            ],
            "text/html": [
              "Find logs at: <code>./wandb/run-20250317_131209-clfbd9zb/logs</code>"
            ]
          },
          "metadata": {}
        },
        {
          "output_type": "stream",
          "name": "stderr",
          "text": [
            "\u001b[34m\u001b[1mwandb\u001b[0m: Agent Starting Run: cuhh4dg8 with config:\n",
            "\u001b[34m\u001b[1mwandb\u001b[0m: \tactivation: relu\n",
            "\u001b[34m\u001b[1mwandb\u001b[0m: \tbatch_size: 64\n",
            "\u001b[34m\u001b[1mwandb\u001b[0m: \tepochs: 10\n",
            "\u001b[34m\u001b[1mwandb\u001b[0m: \thid_layer_size: 128\n",
            "\u001b[34m\u001b[1mwandb\u001b[0m: \tl2_reg: 0\n",
            "\u001b[34m\u001b[1mwandb\u001b[0m: \tloss_func: cross_entropy_loss\n",
            "\u001b[34m\u001b[1mwandb\u001b[0m: \tlr: 0.0001\n",
            "\u001b[34m\u001b[1mwandb\u001b[0m: \tnum_hid_layers: 5\n",
            "\u001b[34m\u001b[1mwandb\u001b[0m: \toptimizer_func: rmsprop\n",
            "\u001b[34m\u001b[1mwandb\u001b[0m: \tweight_init: xavier\n"
          ]
        },
        {
          "output_type": "display_data",
          "data": {
            "text/plain": [
              "<IPython.core.display.HTML object>"
            ],
            "text/html": [
              "Ignoring project 'New Sweep' when running a sweep."
            ]
          },
          "metadata": {}
        },
        {
          "output_type": "display_data",
          "data": {
            "text/plain": [
              "<IPython.core.display.HTML object>"
            ],
            "text/html": [
              "Tracking run with wandb version 0.19.8"
            ]
          },
          "metadata": {}
        },
        {
          "output_type": "display_data",
          "data": {
            "text/plain": [
              "<IPython.core.display.HTML object>"
            ],
            "text/html": [
              "Run data is saved locally in <code>/content/wandb/run-20250317_131421-cuhh4dg8</code>"
            ]
          },
          "metadata": {}
        },
        {
          "output_type": "display_data",
          "data": {
            "text/plain": [
              "<IPython.core.display.HTML object>"
            ],
            "text/html": [
              "Syncing run <strong><a href='https://wandb.ai/yeshu183-indian-institute-of-technology-madras/New%20Sweep/runs/cuhh4dg8' target=\"_blank\">ethereal-sweep-26</a></strong> to <a href='https://wandb.ai/yeshu183-indian-institute-of-technology-madras/New%20Sweep' target=\"_blank\">Weights & Biases</a> (<a href='https://wandb.me/developer-guide' target=\"_blank\">docs</a>)<br>Sweep page: <a href='https://wandb.ai/yeshu183-indian-institute-of-technology-madras/New%20Sweep/sweeps/surnww5r' target=\"_blank\">https://wandb.ai/yeshu183-indian-institute-of-technology-madras/New%20Sweep/sweeps/surnww5r</a>"
            ]
          },
          "metadata": {}
        },
        {
          "output_type": "display_data",
          "data": {
            "text/plain": [
              "<IPython.core.display.HTML object>"
            ],
            "text/html": [
              " View project at <a href='https://wandb.ai/yeshu183-indian-institute-of-technology-madras/New%20Sweep' target=\"_blank\">https://wandb.ai/yeshu183-indian-institute-of-technology-madras/New%20Sweep</a>"
            ]
          },
          "metadata": {}
        },
        {
          "output_type": "display_data",
          "data": {
            "text/plain": [
              "<IPython.core.display.HTML object>"
            ],
            "text/html": [
              " View sweep at <a href='https://wandb.ai/yeshu183-indian-institute-of-technology-madras/New%20Sweep/sweeps/surnww5r' target=\"_blank\">https://wandb.ai/yeshu183-indian-institute-of-technology-madras/New%20Sweep/sweeps/surnww5r</a>"
            ]
          },
          "metadata": {}
        },
        {
          "output_type": "display_data",
          "data": {
            "text/plain": [
              "<IPython.core.display.HTML object>"
            ],
            "text/html": [
              " View run at <a href='https://wandb.ai/yeshu183-indian-institute-of-technology-madras/New%20Sweep/runs/cuhh4dg8' target=\"_blank\">https://wandb.ai/yeshu183-indian-institute-of-technology-madras/New%20Sweep/runs/cuhh4dg8</a>"
            ]
          },
          "metadata": {}
        },
        {
          "output_type": "stream",
          "name": "stdout",
          "text": [
            "Epoch: 1 | Time: 9.78 | Train Loss: 0.7739 | Train Accuracy: 0.7449 | Val Loss: 0.5301 | Val Accuracy: 0.8103\n",
            "Epoch: 2 | Time: 10.18 | Train Loss: 0.4819 | Train Accuracy: 0.8295 | Val Loss: 0.4581 | Val Accuracy: 0.8375\n",
            "Epoch: 3 | Time: 7.26 | Train Loss: 0.4309 | Train Accuracy: 0.8468 | Val Loss: 0.4068 | Val Accuracy: 0.8577\n",
            "Epoch: 4 | Time: 9.86 | Train Loss: 0.4011 | Train Accuracy: 0.8567 | Val Loss: 0.3848 | Val Accuracy: 0.8623\n",
            "Epoch: 5 | Time: 8.05 | Train Loss: 0.3783 | Train Accuracy: 0.8657 | Val Loss: 0.3849 | Val Accuracy: 0.8650\n",
            "Epoch: 6 | Time: 9.46 | Train Loss: 0.3603 | Train Accuracy: 0.8707 | Val Loss: 0.3774 | Val Accuracy: 0.8630\n",
            "Epoch: 7 | Time: 9.84 | Train Loss: 0.3467 | Train Accuracy: 0.8761 | Val Loss: 0.3478 | Val Accuracy: 0.8752\n",
            "Epoch: 8 | Time: 7.48 | Train Loss: 0.3338 | Train Accuracy: 0.8799 | Val Loss: 0.3403 | Val Accuracy: 0.8787\n",
            "Epoch: 9 | Time: 10.07 | Train Loss: 0.3230 | Train Accuracy: 0.8831 | Val Loss: 0.3308 | Val Accuracy: 0.8817\n",
            "Epoch: 10 | Time: 10.00 | Train Loss: 0.3137 | Train Accuracy: 0.8865 | Val Loss: 0.3366 | Val Accuracy: 0.8780\n",
            "Validation Loss: 0.3366, Validation Accuracy: 0.8780\n"
          ]
        },
        {
          "output_type": "display_data",
          "data": {
            "text/plain": [
              "<IPython.core.display.HTML object>"
            ],
            "text/html": []
          },
          "metadata": {}
        },
        {
          "output_type": "display_data",
          "data": {
            "text/plain": [
              "<IPython.core.display.HTML object>"
            ],
            "text/html": [
              "<br>    <style><br>        .wandb-row {<br>            display: flex;<br>            flex-direction: row;<br>            flex-wrap: wrap;<br>            justify-content: flex-start;<br>            width: 100%;<br>        }<br>        .wandb-col {<br>            display: flex;<br>            flex-direction: column;<br>            flex-basis: 100%;<br>            flex: 1;<br>            padding: 10px;<br>        }<br>    </style><br><div class=\"wandb-row\"><div class=\"wandb-col\"><h3>Run history:</h3><br/><table class=\"wandb\"><tr><td>epoch</td><td>▁▂▃▃▄▅▆▆▇█</td></tr><tr><td>final_val_acc</td><td>▁</td></tr><tr><td>final_val_loss</td><td>▁</td></tr><tr><td>train_acc</td><td>▁▅▆▇▇▇▇███</td></tr><tr><td>train_loss</td><td>█▄▃▂▂▂▂▁▁▁</td></tr><tr><td>val_acc</td><td>▁▄▆▆▆▆▇███</td></tr><tr><td>val_loss</td><td>█▅▄▃▃▃▂▁▁▁</td></tr></table><br/></div><div class=\"wandb-col\"><h3>Run summary:</h3><br/><table class=\"wandb\"><tr><td>epoch</td><td>10</td></tr><tr><td>final_val_acc</td><td>0.878</td></tr><tr><td>final_val_loss</td><td>0.33662</td></tr></table><br/></div></div>"
            ]
          },
          "metadata": {}
        },
        {
          "output_type": "display_data",
          "data": {
            "text/plain": [
              "<IPython.core.display.HTML object>"
            ],
            "text/html": [
              " View run <strong style=\"color:#cdcd00\">e_10_hl_5_nhpl_128_bs_64_init_xavier_ac_relu_op_rmsprop_lo_cross_entropy_loss</strong> at: <a href='https://wandb.ai/yeshu183-indian-institute-of-technology-madras/New%20Sweep/runs/cuhh4dg8' target=\"_blank\">https://wandb.ai/yeshu183-indian-institute-of-technology-madras/New%20Sweep/runs/cuhh4dg8</a><br> View project at: <a href='https://wandb.ai/yeshu183-indian-institute-of-technology-madras/New%20Sweep' target=\"_blank\">https://wandb.ai/yeshu183-indian-institute-of-technology-madras/New%20Sweep</a><br>Synced 5 W&B file(s), 0 media file(s), 0 artifact file(s) and 0 other file(s)"
            ]
          },
          "metadata": {}
        },
        {
          "output_type": "display_data",
          "data": {
            "text/plain": [
              "<IPython.core.display.HTML object>"
            ],
            "text/html": [
              "Find logs at: <code>./wandb/run-20250317_131421-cuhh4dg8/logs</code>"
            ]
          },
          "metadata": {}
        },
        {
          "output_type": "stream",
          "name": "stderr",
          "text": [
            "\u001b[34m\u001b[1mwandb\u001b[0m: Agent Starting Run: 09qrj7km with config:\n",
            "\u001b[34m\u001b[1mwandb\u001b[0m: \tactivation: tanh\n",
            "\u001b[34m\u001b[1mwandb\u001b[0m: \tbatch_size: 64\n",
            "\u001b[34m\u001b[1mwandb\u001b[0m: \tepochs: 10\n",
            "\u001b[34m\u001b[1mwandb\u001b[0m: \thid_layer_size: 128\n",
            "\u001b[34m\u001b[1mwandb\u001b[0m: \tl2_reg: 0\n",
            "\u001b[34m\u001b[1mwandb\u001b[0m: \tloss_func: cross_entropy_loss\n",
            "\u001b[34m\u001b[1mwandb\u001b[0m: \tlr: 0.001\n",
            "\u001b[34m\u001b[1mwandb\u001b[0m: \tnum_hid_layers: 5\n",
            "\u001b[34m\u001b[1mwandb\u001b[0m: \toptimizer_func: adam\n",
            "\u001b[34m\u001b[1mwandb\u001b[0m: \tweight_init: xavier\n"
          ]
        },
        {
          "output_type": "display_data",
          "data": {
            "text/plain": [
              "<IPython.core.display.HTML object>"
            ],
            "text/html": [
              "Ignoring project 'New Sweep' when running a sweep."
            ]
          },
          "metadata": {}
        },
        {
          "output_type": "display_data",
          "data": {
            "text/plain": [
              "<IPython.core.display.HTML object>"
            ],
            "text/html": [
              "Tracking run with wandb version 0.19.8"
            ]
          },
          "metadata": {}
        },
        {
          "output_type": "display_data",
          "data": {
            "text/plain": [
              "<IPython.core.display.HTML object>"
            ],
            "text/html": [
              "Run data is saved locally in <code>/content/wandb/run-20250317_131557-09qrj7km</code>"
            ]
          },
          "metadata": {}
        },
        {
          "output_type": "display_data",
          "data": {
            "text/plain": [
              "<IPython.core.display.HTML object>"
            ],
            "text/html": [
              "Syncing run <strong><a href='https://wandb.ai/yeshu183-indian-institute-of-technology-madras/New%20Sweep/runs/09qrj7km' target=\"_blank\">upbeat-sweep-27</a></strong> to <a href='https://wandb.ai/yeshu183-indian-institute-of-technology-madras/New%20Sweep' target=\"_blank\">Weights & Biases</a> (<a href='https://wandb.me/developer-guide' target=\"_blank\">docs</a>)<br>Sweep page: <a href='https://wandb.ai/yeshu183-indian-institute-of-technology-madras/New%20Sweep/sweeps/surnww5r' target=\"_blank\">https://wandb.ai/yeshu183-indian-institute-of-technology-madras/New%20Sweep/sweeps/surnww5r</a>"
            ]
          },
          "metadata": {}
        },
        {
          "output_type": "display_data",
          "data": {
            "text/plain": [
              "<IPython.core.display.HTML object>"
            ],
            "text/html": [
              " View project at <a href='https://wandb.ai/yeshu183-indian-institute-of-technology-madras/New%20Sweep' target=\"_blank\">https://wandb.ai/yeshu183-indian-institute-of-technology-madras/New%20Sweep</a>"
            ]
          },
          "metadata": {}
        },
        {
          "output_type": "display_data",
          "data": {
            "text/plain": [
              "<IPython.core.display.HTML object>"
            ],
            "text/html": [
              " View sweep at <a href='https://wandb.ai/yeshu183-indian-institute-of-technology-madras/New%20Sweep/sweeps/surnww5r' target=\"_blank\">https://wandb.ai/yeshu183-indian-institute-of-technology-madras/New%20Sweep/sweeps/surnww5r</a>"
            ]
          },
          "metadata": {}
        },
        {
          "output_type": "display_data",
          "data": {
            "text/plain": [
              "<IPython.core.display.HTML object>"
            ],
            "text/html": [
              " View run at <a href='https://wandb.ai/yeshu183-indian-institute-of-technology-madras/New%20Sweep/runs/09qrj7km' target=\"_blank\">https://wandb.ai/yeshu183-indian-institute-of-technology-madras/New%20Sweep/runs/09qrj7km</a>"
            ]
          },
          "metadata": {}
        },
        {
          "output_type": "stream",
          "name": "stdout",
          "text": [
            "Epoch: 1 | Time: 16.85 | Train Loss: 0.5037 | Train Accuracy: 0.8171 | Val Loss: 0.4083 | Val Accuracy: 0.8452\n",
            "Epoch: 2 | Time: 16.39 | Train Loss: 0.3813 | Train Accuracy: 0.8599 | Val Loss: 0.3514 | Val Accuracy: 0.8730\n",
            "Epoch: 3 | Time: 16.40 | Train Loss: 0.3450 | Train Accuracy: 0.8728 | Val Loss: 0.3478 | Val Accuracy: 0.8712\n",
            "Epoch: 4 | Time: 18.54 | Train Loss: 0.3223 | Train Accuracy: 0.8803 | Val Loss: 0.3329 | Val Accuracy: 0.8787\n",
            "Epoch: 5 | Time: 16.34 | Train Loss: 0.3055 | Train Accuracy: 0.8873 | Val Loss: 0.3291 | Val Accuracy: 0.8807\n",
            "Epoch: 6 | Time: 16.16 | Train Loss: 0.2907 | Train Accuracy: 0.8908 | Val Loss: 0.3328 | Val Accuracy: 0.8795\n",
            "Epoch: 7 | Time: 16.20 | Train Loss: 0.2768 | Train Accuracy: 0.8967 | Val Loss: 0.3325 | Val Accuracy: 0.8805\n",
            "Epoch: 8 | Time: 16.25 | Train Loss: 0.2652 | Train Accuracy: 0.9001 | Val Loss: 0.3242 | Val Accuracy: 0.8800\n",
            "Epoch: 9 | Time: 16.33 | Train Loss: 0.2582 | Train Accuracy: 0.9035 | Val Loss: 0.3381 | Val Accuracy: 0.8763\n",
            "Epoch: 10 | Time: 16.81 | Train Loss: 0.2470 | Train Accuracy: 0.9075 | Val Loss: 0.3147 | Val Accuracy: 0.8917\n",
            "Validation Loss: 0.3147, Validation Accuracy: 0.8917\n",
            "Best model updated!\n"
          ]
        },
        {
          "output_type": "display_data",
          "data": {
            "text/plain": [
              "<IPython.core.display.HTML object>"
            ],
            "text/html": []
          },
          "metadata": {}
        },
        {
          "output_type": "display_data",
          "data": {
            "text/plain": [
              "<IPython.core.display.HTML object>"
            ],
            "text/html": [
              "<br>    <style><br>        .wandb-row {<br>            display: flex;<br>            flex-direction: row;<br>            flex-wrap: wrap;<br>            justify-content: flex-start;<br>            width: 100%;<br>        }<br>        .wandb-col {<br>            display: flex;<br>            flex-direction: column;<br>            flex-basis: 100%;<br>            flex: 1;<br>            padding: 10px;<br>        }<br>    </style><br><div class=\"wandb-row\"><div class=\"wandb-col\"><h3>Run history:</h3><br/><table class=\"wandb\"><tr><td>epoch</td><td>▁▂▃▃▄▅▆▆▇█</td></tr><tr><td>final_val_acc</td><td>▁</td></tr><tr><td>final_val_loss</td><td>▁</td></tr><tr><td>train_acc</td><td>▁▄▅▆▆▇▇▇██</td></tr><tr><td>train_loss</td><td>█▅▄▃▃▂▂▁▁▁</td></tr><tr><td>val_acc</td><td>▁▅▅▆▆▆▆▆▆█</td></tr><tr><td>val_loss</td><td>█▄▃▂▂▂▂▂▃▁</td></tr></table><br/></div><div class=\"wandb-col\"><h3>Run summary:</h3><br/><table class=\"wandb\"><tr><td>epoch</td><td>10</td></tr><tr><td>final_val_acc</td><td>0.89167</td></tr><tr><td>final_val_loss</td><td>0.31468</td></tr></table><br/></div></div>"
            ]
          },
          "metadata": {}
        },
        {
          "output_type": "display_data",
          "data": {
            "text/plain": [
              "<IPython.core.display.HTML object>"
            ],
            "text/html": [
              " View run <strong style=\"color:#cdcd00\">e_10_hl_5_nhpl_128_bs_64_init_xavier_ac_tanh_op_adam_lo_cross_entropy_loss</strong> at: <a href='https://wandb.ai/yeshu183-indian-institute-of-technology-madras/New%20Sweep/runs/09qrj7km' target=\"_blank\">https://wandb.ai/yeshu183-indian-institute-of-technology-madras/New%20Sweep/runs/09qrj7km</a><br> View project at: <a href='https://wandb.ai/yeshu183-indian-institute-of-technology-madras/New%20Sweep' target=\"_blank\">https://wandb.ai/yeshu183-indian-institute-of-technology-madras/New%20Sweep</a><br>Synced 5 W&B file(s), 0 media file(s), 0 artifact file(s) and 1 other file(s)"
            ]
          },
          "metadata": {}
        },
        {
          "output_type": "display_data",
          "data": {
            "text/plain": [
              "<IPython.core.display.HTML object>"
            ],
            "text/html": [
              "Find logs at: <code>./wandb/run-20250317_131557-09qrj7km/logs</code>"
            ]
          },
          "metadata": {}
        },
        {
          "output_type": "stream",
          "name": "stderr",
          "text": [
            "\u001b[34m\u001b[1mwandb\u001b[0m: Agent Starting Run: e1hsy39l with config:\n",
            "\u001b[34m\u001b[1mwandb\u001b[0m: \tactivation: tanh\n",
            "\u001b[34m\u001b[1mwandb\u001b[0m: \tbatch_size: 32\n",
            "\u001b[34m\u001b[1mwandb\u001b[0m: \tepochs: 10\n",
            "\u001b[34m\u001b[1mwandb\u001b[0m: \thid_layer_size: 128\n",
            "\u001b[34m\u001b[1mwandb\u001b[0m: \tl2_reg: 0\n",
            "\u001b[34m\u001b[1mwandb\u001b[0m: \tloss_func: cross_entropy_loss\n",
            "\u001b[34m\u001b[1mwandb\u001b[0m: \tlr: 0.0001\n",
            "\u001b[34m\u001b[1mwandb\u001b[0m: \tnum_hid_layers: 4\n",
            "\u001b[34m\u001b[1mwandb\u001b[0m: \toptimizer_func: rmsprop\n",
            "\u001b[34m\u001b[1mwandb\u001b[0m: \tweight_init: xavier\n"
          ]
        },
        {
          "output_type": "display_data",
          "data": {
            "text/plain": [
              "<IPython.core.display.HTML object>"
            ],
            "text/html": [
              "Ignoring project 'New Sweep' when running a sweep."
            ]
          },
          "metadata": {}
        },
        {
          "output_type": "display_data",
          "data": {
            "text/plain": [
              "<IPython.core.display.HTML object>"
            ],
            "text/html": [
              "Tracking run with wandb version 0.19.8"
            ]
          },
          "metadata": {}
        },
        {
          "output_type": "display_data",
          "data": {
            "text/plain": [
              "<IPython.core.display.HTML object>"
            ],
            "text/html": [
              "Run data is saved locally in <code>/content/wandb/run-20250317_131850-e1hsy39l</code>"
            ]
          },
          "metadata": {}
        },
        {
          "output_type": "display_data",
          "data": {
            "text/plain": [
              "<IPython.core.display.HTML object>"
            ],
            "text/html": [
              "Syncing run <strong><a href='https://wandb.ai/yeshu183-indian-institute-of-technology-madras/New%20Sweep/runs/e1hsy39l' target=\"_blank\">kind-sweep-28</a></strong> to <a href='https://wandb.ai/yeshu183-indian-institute-of-technology-madras/New%20Sweep' target=\"_blank\">Weights & Biases</a> (<a href='https://wandb.me/developer-guide' target=\"_blank\">docs</a>)<br>Sweep page: <a href='https://wandb.ai/yeshu183-indian-institute-of-technology-madras/New%20Sweep/sweeps/surnww5r' target=\"_blank\">https://wandb.ai/yeshu183-indian-institute-of-technology-madras/New%20Sweep/sweeps/surnww5r</a>"
            ]
          },
          "metadata": {}
        },
        {
          "output_type": "display_data",
          "data": {
            "text/plain": [
              "<IPython.core.display.HTML object>"
            ],
            "text/html": [
              " View project at <a href='https://wandb.ai/yeshu183-indian-institute-of-technology-madras/New%20Sweep' target=\"_blank\">https://wandb.ai/yeshu183-indian-institute-of-technology-madras/New%20Sweep</a>"
            ]
          },
          "metadata": {}
        },
        {
          "output_type": "display_data",
          "data": {
            "text/plain": [
              "<IPython.core.display.HTML object>"
            ],
            "text/html": [
              " View sweep at <a href='https://wandb.ai/yeshu183-indian-institute-of-technology-madras/New%20Sweep/sweeps/surnww5r' target=\"_blank\">https://wandb.ai/yeshu183-indian-institute-of-technology-madras/New%20Sweep/sweeps/surnww5r</a>"
            ]
          },
          "metadata": {}
        },
        {
          "output_type": "display_data",
          "data": {
            "text/plain": [
              "<IPython.core.display.HTML object>"
            ],
            "text/html": [
              " View run at <a href='https://wandb.ai/yeshu183-indian-institute-of-technology-madras/New%20Sweep/runs/e1hsy39l' target=\"_blank\">https://wandb.ai/yeshu183-indian-institute-of-technology-madras/New%20Sweep/runs/e1hsy39l</a>"
            ]
          },
          "metadata": {}
        },
        {
          "output_type": "stream",
          "name": "stdout",
          "text": [
            "Epoch: 1 | Time: 17.49 | Train Loss: 0.5957 | Train Accuracy: 0.7962 | Val Loss: 0.4306 | Val Accuracy: 0.8452\n",
            "Epoch: 2 | Time: 17.71 | Train Loss: 0.4177 | Train Accuracy: 0.8502 | Val Loss: 0.3991 | Val Accuracy: 0.8567\n",
            "Epoch: 3 | Time: 18.60 | Train Loss: 0.3831 | Train Accuracy: 0.8618 | Val Loss: 0.3895 | Val Accuracy: 0.8583\n",
            "Epoch: 4 | Time: 17.94 | Train Loss: 0.3635 | Train Accuracy: 0.8690 | Val Loss: 0.3620 | Val Accuracy: 0.8665\n",
            "Epoch: 5 | Time: 17.21 | Train Loss: 0.3490 | Train Accuracy: 0.8744 | Val Loss: 0.3547 | Val Accuracy: 0.8707\n",
            "Epoch: 6 | Time: 17.23 | Train Loss: 0.3370 | Train Accuracy: 0.8789 | Val Loss: 0.3530 | Val Accuracy: 0.8715\n",
            "Epoch: 7 | Time: 17.16 | Train Loss: 0.3257 | Train Accuracy: 0.8823 | Val Loss: 0.3492 | Val Accuracy: 0.8722\n",
            "Epoch: 8 | Time: 19.60 | Train Loss: 0.3167 | Train Accuracy: 0.8854 | Val Loss: 0.3456 | Val Accuracy: 0.8757\n",
            "Epoch: 9 | Time: 17.38 | Train Loss: 0.3087 | Train Accuracy: 0.8887 | Val Loss: 0.3361 | Val Accuracy: 0.8793\n",
            "Epoch: 10 | Time: 17.09 | Train Loss: 0.3006 | Train Accuracy: 0.8910 | Val Loss: 0.3340 | Val Accuracy: 0.8743\n",
            "Validation Loss: 0.3340, Validation Accuracy: 0.8743\n"
          ]
        },
        {
          "output_type": "display_data",
          "data": {
            "text/plain": [
              "<IPython.core.display.HTML object>"
            ],
            "text/html": []
          },
          "metadata": {}
        },
        {
          "output_type": "display_data",
          "data": {
            "text/plain": [
              "<IPython.core.display.HTML object>"
            ],
            "text/html": [
              "<br>    <style><br>        .wandb-row {<br>            display: flex;<br>            flex-direction: row;<br>            flex-wrap: wrap;<br>            justify-content: flex-start;<br>            width: 100%;<br>        }<br>        .wandb-col {<br>            display: flex;<br>            flex-direction: column;<br>            flex-basis: 100%;<br>            flex: 1;<br>            padding: 10px;<br>        }<br>    </style><br><div class=\"wandb-row\"><div class=\"wandb-col\"><h3>Run history:</h3><br/><table class=\"wandb\"><tr><td>epoch</td><td>▁▂▃▃▄▅▆▆▇█</td></tr><tr><td>final_val_acc</td><td>▁</td></tr><tr><td>final_val_loss</td><td>▁</td></tr><tr><td>train_acc</td><td>▁▅▆▆▇▇▇███</td></tr><tr><td>train_loss</td><td>█▄▃▂▂▂▂▁▁▁</td></tr><tr><td>val_acc</td><td>▁▃▄▅▆▆▇▇█▇</td></tr><tr><td>val_loss</td><td>█▆▅▃▃▂▂▂▁▁</td></tr></table><br/></div><div class=\"wandb-col\"><h3>Run summary:</h3><br/><table class=\"wandb\"><tr><td>epoch</td><td>10</td></tr><tr><td>final_val_acc</td><td>0.87433</td></tr><tr><td>final_val_loss</td><td>0.33397</td></tr></table><br/></div></div>"
            ]
          },
          "metadata": {}
        },
        {
          "output_type": "display_data",
          "data": {
            "text/plain": [
              "<IPython.core.display.HTML object>"
            ],
            "text/html": [
              " View run <strong style=\"color:#cdcd00\">e_10_hl_4_nhpl_128_bs_32_init_xavier_ac_tanh_op_rmsprop_lo_cross_entropy_loss</strong> at: <a href='https://wandb.ai/yeshu183-indian-institute-of-technology-madras/New%20Sweep/runs/e1hsy39l' target=\"_blank\">https://wandb.ai/yeshu183-indian-institute-of-technology-madras/New%20Sweep/runs/e1hsy39l</a><br> View project at: <a href='https://wandb.ai/yeshu183-indian-institute-of-technology-madras/New%20Sweep' target=\"_blank\">https://wandb.ai/yeshu183-indian-institute-of-technology-madras/New%20Sweep</a><br>Synced 5 W&B file(s), 0 media file(s), 0 artifact file(s) and 0 other file(s)"
            ]
          },
          "metadata": {}
        },
        {
          "output_type": "display_data",
          "data": {
            "text/plain": [
              "<IPython.core.display.HTML object>"
            ],
            "text/html": [
              "Find logs at: <code>./wandb/run-20250317_131850-e1hsy39l/logs</code>"
            ]
          },
          "metadata": {}
        },
        {
          "output_type": "stream",
          "name": "stderr",
          "text": [
            "\u001b[34m\u001b[1mwandb\u001b[0m: Agent Starting Run: 46b2jthp with config:\n",
            "\u001b[34m\u001b[1mwandb\u001b[0m: \tactivation: relu\n",
            "\u001b[34m\u001b[1mwandb\u001b[0m: \tbatch_size: 64\n",
            "\u001b[34m\u001b[1mwandb\u001b[0m: \tepochs: 5\n",
            "\u001b[34m\u001b[1mwandb\u001b[0m: \thid_layer_size: 128\n",
            "\u001b[34m\u001b[1mwandb\u001b[0m: \tl2_reg: 0\n",
            "\u001b[34m\u001b[1mwandb\u001b[0m: \tloss_func: cross_entropy_loss\n",
            "\u001b[34m\u001b[1mwandb\u001b[0m: \tlr: 0.001\n",
            "\u001b[34m\u001b[1mwandb\u001b[0m: \tnum_hid_layers: 4\n",
            "\u001b[34m\u001b[1mwandb\u001b[0m: \toptimizer_func: rmsprop\n",
            "\u001b[34m\u001b[1mwandb\u001b[0m: \tweight_init: xavier\n"
          ]
        },
        {
          "output_type": "display_data",
          "data": {
            "text/plain": [
              "<IPython.core.display.HTML object>"
            ],
            "text/html": [
              "Ignoring project 'New Sweep' when running a sweep."
            ]
          },
          "metadata": {}
        },
        {
          "output_type": "display_data",
          "data": {
            "text/plain": [
              "<IPython.core.display.HTML object>"
            ],
            "text/html": [
              "Tracking run with wandb version 0.19.8"
            ]
          },
          "metadata": {}
        },
        {
          "output_type": "display_data",
          "data": {
            "text/plain": [
              "<IPython.core.display.HTML object>"
            ],
            "text/html": [
              "Run data is saved locally in <code>/content/wandb/run-20250317_132154-46b2jthp</code>"
            ]
          },
          "metadata": {}
        },
        {
          "output_type": "display_data",
          "data": {
            "text/plain": [
              "<IPython.core.display.HTML object>"
            ],
            "text/html": [
              "Syncing run <strong><a href='https://wandb.ai/yeshu183-indian-institute-of-technology-madras/New%20Sweep/runs/46b2jthp' target=\"_blank\">lunar-sweep-29</a></strong> to <a href='https://wandb.ai/yeshu183-indian-institute-of-technology-madras/New%20Sweep' target=\"_blank\">Weights & Biases</a> (<a href='https://wandb.me/developer-guide' target=\"_blank\">docs</a>)<br>Sweep page: <a href='https://wandb.ai/yeshu183-indian-institute-of-technology-madras/New%20Sweep/sweeps/surnww5r' target=\"_blank\">https://wandb.ai/yeshu183-indian-institute-of-technology-madras/New%20Sweep/sweeps/surnww5r</a>"
            ]
          },
          "metadata": {}
        },
        {
          "output_type": "display_data",
          "data": {
            "text/plain": [
              "<IPython.core.display.HTML object>"
            ],
            "text/html": [
              " View project at <a href='https://wandb.ai/yeshu183-indian-institute-of-technology-madras/New%20Sweep' target=\"_blank\">https://wandb.ai/yeshu183-indian-institute-of-technology-madras/New%20Sweep</a>"
            ]
          },
          "metadata": {}
        },
        {
          "output_type": "display_data",
          "data": {
            "text/plain": [
              "<IPython.core.display.HTML object>"
            ],
            "text/html": [
              " View sweep at <a href='https://wandb.ai/yeshu183-indian-institute-of-technology-madras/New%20Sweep/sweeps/surnww5r' target=\"_blank\">https://wandb.ai/yeshu183-indian-institute-of-technology-madras/New%20Sweep/sweeps/surnww5r</a>"
            ]
          },
          "metadata": {}
        },
        {
          "output_type": "display_data",
          "data": {
            "text/plain": [
              "<IPython.core.display.HTML object>"
            ],
            "text/html": [
              " View run at <a href='https://wandb.ai/yeshu183-indian-institute-of-technology-madras/New%20Sweep/runs/46b2jthp' target=\"_blank\">https://wandb.ai/yeshu183-indian-institute-of-technology-madras/New%20Sweep/runs/46b2jthp</a>"
            ]
          },
          "metadata": {}
        },
        {
          "output_type": "stream",
          "name": "stdout",
          "text": [
            "Epoch: 1 | Time: 6.66 | Train Loss: 0.5613 | Train Accuracy: 0.7941 | Val Loss: 0.4417 | Val Accuracy: 0.8412\n",
            "Epoch: 2 | Time: 9.42 | Train Loss: 0.3975 | Train Accuracy: 0.8552 | Val Loss: 0.4206 | Val Accuracy: 0.8552\n",
            "Epoch: 3 | Time: 6.92 | Train Loss: 0.3582 | Train Accuracy: 0.8705 | Val Loss: 0.3698 | Val Accuracy: 0.8712\n",
            "Epoch: 4 | Time: 9.23 | Train Loss: 0.3365 | Train Accuracy: 0.8783 | Val Loss: 0.3835 | Val Accuracy: 0.8753\n",
            "Epoch: 5 | Time: 6.75 | Train Loss: 0.3225 | Train Accuracy: 0.8828 | Val Loss: 0.3653 | Val Accuracy: 0.8797\n",
            "Validation Loss: 0.3653, Validation Accuracy: 0.8797\n"
          ]
        },
        {
          "output_type": "display_data",
          "data": {
            "text/plain": [
              "<IPython.core.display.HTML object>"
            ],
            "text/html": []
          },
          "metadata": {}
        },
        {
          "output_type": "display_data",
          "data": {
            "text/plain": [
              "<IPython.core.display.HTML object>"
            ],
            "text/html": [
              "<br>    <style><br>        .wandb-row {<br>            display: flex;<br>            flex-direction: row;<br>            flex-wrap: wrap;<br>            justify-content: flex-start;<br>            width: 100%;<br>        }<br>        .wandb-col {<br>            display: flex;<br>            flex-direction: column;<br>            flex-basis: 100%;<br>            flex: 1;<br>            padding: 10px;<br>        }<br>    </style><br><div class=\"wandb-row\"><div class=\"wandb-col\"><h3>Run history:</h3><br/><table class=\"wandb\"><tr><td>epoch</td><td>▁▃▅▆█</td></tr><tr><td>final_val_acc</td><td>▁</td></tr><tr><td>final_val_loss</td><td>▁</td></tr><tr><td>train_acc</td><td>▁▆▇██</td></tr><tr><td>train_loss</td><td>█▃▂▁▁</td></tr><tr><td>val_acc</td><td>▁▄▆▇█</td></tr><tr><td>val_loss</td><td>█▆▁▃▁</td></tr></table><br/></div><div class=\"wandb-col\"><h3>Run summary:</h3><br/><table class=\"wandb\"><tr><td>epoch</td><td>5</td></tr><tr><td>final_val_acc</td><td>0.87967</td></tr><tr><td>final_val_loss</td><td>0.36526</td></tr></table><br/></div></div>"
            ]
          },
          "metadata": {}
        },
        {
          "output_type": "display_data",
          "data": {
            "text/plain": [
              "<IPython.core.display.HTML object>"
            ],
            "text/html": [
              " View run <strong style=\"color:#cdcd00\">e_5_hl_4_nhpl_128_bs_64_init_xavier_ac_relu_op_rmsprop_lo_cross_entropy_loss</strong> at: <a href='https://wandb.ai/yeshu183-indian-institute-of-technology-madras/New%20Sweep/runs/46b2jthp' target=\"_blank\">https://wandb.ai/yeshu183-indian-institute-of-technology-madras/New%20Sweep/runs/46b2jthp</a><br> View project at: <a href='https://wandb.ai/yeshu183-indian-institute-of-technology-madras/New%20Sweep' target=\"_blank\">https://wandb.ai/yeshu183-indian-institute-of-technology-madras/New%20Sweep</a><br>Synced 5 W&B file(s), 0 media file(s), 0 artifact file(s) and 0 other file(s)"
            ]
          },
          "metadata": {}
        },
        {
          "output_type": "display_data",
          "data": {
            "text/plain": [
              "<IPython.core.display.HTML object>"
            ],
            "text/html": [
              "Find logs at: <code>./wandb/run-20250317_132154-46b2jthp/logs</code>"
            ]
          },
          "metadata": {}
        },
        {
          "output_type": "stream",
          "name": "stderr",
          "text": [
            "\u001b[34m\u001b[1mwandb\u001b[0m: Agent Starting Run: q0dnocaw with config:\n",
            "\u001b[34m\u001b[1mwandb\u001b[0m: \tactivation: relu\n",
            "\u001b[34m\u001b[1mwandb\u001b[0m: \tbatch_size: 64\n",
            "\u001b[34m\u001b[1mwandb\u001b[0m: \tepochs: 5\n",
            "\u001b[34m\u001b[1mwandb\u001b[0m: \thid_layer_size: 64\n",
            "\u001b[34m\u001b[1mwandb\u001b[0m: \tl2_reg: 0\n",
            "\u001b[34m\u001b[1mwandb\u001b[0m: \tloss_func: cross_entropy_loss\n",
            "\u001b[34m\u001b[1mwandb\u001b[0m: \tlr: 0.0001\n",
            "\u001b[34m\u001b[1mwandb\u001b[0m: \tnum_hid_layers: 5\n",
            "\u001b[34m\u001b[1mwandb\u001b[0m: \toptimizer_func: adam\n",
            "\u001b[34m\u001b[1mwandb\u001b[0m: \tweight_init: xavier\n"
          ]
        },
        {
          "output_type": "display_data",
          "data": {
            "text/plain": [
              "<IPython.core.display.HTML object>"
            ],
            "text/html": [
              "Ignoring project 'New Sweep' when running a sweep."
            ]
          },
          "metadata": {}
        },
        {
          "output_type": "display_data",
          "data": {
            "text/plain": [
              "<IPython.core.display.HTML object>"
            ],
            "text/html": [
              "Tracking run with wandb version 0.19.8"
            ]
          },
          "metadata": {}
        },
        {
          "output_type": "display_data",
          "data": {
            "text/plain": [
              "<IPython.core.display.HTML object>"
            ],
            "text/html": [
              "Run data is saved locally in <code>/content/wandb/run-20250317_132239-q0dnocaw</code>"
            ]
          },
          "metadata": {}
        },
        {
          "output_type": "display_data",
          "data": {
            "text/plain": [
              "<IPython.core.display.HTML object>"
            ],
            "text/html": [
              "Syncing run <strong><a href='https://wandb.ai/yeshu183-indian-institute-of-technology-madras/New%20Sweep/runs/q0dnocaw' target=\"_blank\">elated-sweep-30</a></strong> to <a href='https://wandb.ai/yeshu183-indian-institute-of-technology-madras/New%20Sweep' target=\"_blank\">Weights & Biases</a> (<a href='https://wandb.me/developer-guide' target=\"_blank\">docs</a>)<br>Sweep page: <a href='https://wandb.ai/yeshu183-indian-institute-of-technology-madras/New%20Sweep/sweeps/surnww5r' target=\"_blank\">https://wandb.ai/yeshu183-indian-institute-of-technology-madras/New%20Sweep/sweeps/surnww5r</a>"
            ]
          },
          "metadata": {}
        },
        {
          "output_type": "display_data",
          "data": {
            "text/plain": [
              "<IPython.core.display.HTML object>"
            ],
            "text/html": [
              " View project at <a href='https://wandb.ai/yeshu183-indian-institute-of-technology-madras/New%20Sweep' target=\"_blank\">https://wandb.ai/yeshu183-indian-institute-of-technology-madras/New%20Sweep</a>"
            ]
          },
          "metadata": {}
        },
        {
          "output_type": "display_data",
          "data": {
            "text/plain": [
              "<IPython.core.display.HTML object>"
            ],
            "text/html": [
              " View sweep at <a href='https://wandb.ai/yeshu183-indian-institute-of-technology-madras/New%20Sweep/sweeps/surnww5r' target=\"_blank\">https://wandb.ai/yeshu183-indian-institute-of-technology-madras/New%20Sweep/sweeps/surnww5r</a>"
            ]
          },
          "metadata": {}
        },
        {
          "output_type": "display_data",
          "data": {
            "text/plain": [
              "<IPython.core.display.HTML object>"
            ],
            "text/html": [
              " View run at <a href='https://wandb.ai/yeshu183-indian-institute-of-technology-madras/New%20Sweep/runs/q0dnocaw' target=\"_blank\">https://wandb.ai/yeshu183-indian-institute-of-technology-madras/New%20Sweep/runs/q0dnocaw</a>"
            ]
          },
          "metadata": {}
        },
        {
          "output_type": "stream",
          "name": "stdout",
          "text": [
            "Epoch: 1 | Time: 4.07 | Train Loss: 0.7578 | Train Accuracy: 0.7302 | Val Loss: 0.5154 | Val Accuracy: 0.8198\n",
            "Epoch: 2 | Time: 6.51 | Train Loss: 0.4730 | Train Accuracy: 0.8340 | Val Loss: 0.4416 | Val Accuracy: 0.8463\n",
            "Epoch: 3 | Time: 4.86 | Train Loss: 0.4303 | Train Accuracy: 0.8475 | Val Loss: 0.4178 | Val Accuracy: 0.8552\n",
            "Epoch: 4 | Time: 4.11 | Train Loss: 0.4090 | Train Accuracy: 0.8551 | Val Loss: 0.4238 | Val Accuracy: 0.8498\n",
            "Epoch: 5 | Time: 6.46 | Train Loss: 0.3913 | Train Accuracy: 0.8606 | Val Loss: 0.3870 | Val Accuracy: 0.8613\n",
            "Validation Loss: 0.3870, Validation Accuracy: 0.8613\n"
          ]
        },
        {
          "output_type": "display_data",
          "data": {
            "text/plain": [
              "<IPython.core.display.HTML object>"
            ],
            "text/html": []
          },
          "metadata": {}
        },
        {
          "output_type": "display_data",
          "data": {
            "text/plain": [
              "<IPython.core.display.HTML object>"
            ],
            "text/html": [
              "<br>    <style><br>        .wandb-row {<br>            display: flex;<br>            flex-direction: row;<br>            flex-wrap: wrap;<br>            justify-content: flex-start;<br>            width: 100%;<br>        }<br>        .wandb-col {<br>            display: flex;<br>            flex-direction: column;<br>            flex-basis: 100%;<br>            flex: 1;<br>            padding: 10px;<br>        }<br>    </style><br><div class=\"wandb-row\"><div class=\"wandb-col\"><h3>Run history:</h3><br/><table class=\"wandb\"><tr><td>epoch</td><td>▁▃▅▆█</td></tr><tr><td>final_val_acc</td><td>▁</td></tr><tr><td>final_val_loss</td><td>▁</td></tr><tr><td>train_acc</td><td>▁▇▇██</td></tr><tr><td>train_loss</td><td>█▃▂▁▁</td></tr><tr><td>val_acc</td><td>▁▅▇▆█</td></tr><tr><td>val_loss</td><td>█▄▃▃▁</td></tr></table><br/></div><div class=\"wandb-col\"><h3>Run summary:</h3><br/><table class=\"wandb\"><tr><td>epoch</td><td>5</td></tr><tr><td>final_val_acc</td><td>0.86133</td></tr><tr><td>final_val_loss</td><td>0.387</td></tr></table><br/></div></div>"
            ]
          },
          "metadata": {}
        },
        {
          "output_type": "display_data",
          "data": {
            "text/plain": [
              "<IPython.core.display.HTML object>"
            ],
            "text/html": [
              " View run <strong style=\"color:#cdcd00\">e_5_hl_5_nhpl_64_bs_64_init_xavier_ac_relu_op_adam_lo_cross_entropy_loss</strong> at: <a href='https://wandb.ai/yeshu183-indian-institute-of-technology-madras/New%20Sweep/runs/q0dnocaw' target=\"_blank\">https://wandb.ai/yeshu183-indian-institute-of-technology-madras/New%20Sweep/runs/q0dnocaw</a><br> View project at: <a href='https://wandb.ai/yeshu183-indian-institute-of-technology-madras/New%20Sweep' target=\"_blank\">https://wandb.ai/yeshu183-indian-institute-of-technology-madras/New%20Sweep</a><br>Synced 5 W&B file(s), 0 media file(s), 0 artifact file(s) and 0 other file(s)"
            ]
          },
          "metadata": {}
        },
        {
          "output_type": "display_data",
          "data": {
            "text/plain": [
              "<IPython.core.display.HTML object>"
            ],
            "text/html": [
              "Find logs at: <code>./wandb/run-20250317_132239-q0dnocaw/logs</code>"
            ]
          },
          "metadata": {}
        },
        {
          "output_type": "stream",
          "name": "stderr",
          "text": [
            "\u001b[34m\u001b[1mwandb\u001b[0m: Agent Starting Run: wp8rdnxx with config:\n",
            "\u001b[34m\u001b[1mwandb\u001b[0m: \tactivation: tanh\n",
            "\u001b[34m\u001b[1mwandb\u001b[0m: \tbatch_size: 32\n",
            "\u001b[34m\u001b[1mwandb\u001b[0m: \tepochs: 10\n",
            "\u001b[34m\u001b[1mwandb\u001b[0m: \thid_layer_size: 128\n",
            "\u001b[34m\u001b[1mwandb\u001b[0m: \tl2_reg: 0\n",
            "\u001b[34m\u001b[1mwandb\u001b[0m: \tloss_func: cross_entropy_loss\n",
            "\u001b[34m\u001b[1mwandb\u001b[0m: \tlr: 0.0001\n",
            "\u001b[34m\u001b[1mwandb\u001b[0m: \tnum_hid_layers: 3\n",
            "\u001b[34m\u001b[1mwandb\u001b[0m: \toptimizer_func: adam\n",
            "\u001b[34m\u001b[1mwandb\u001b[0m: \tweight_init: xavier\n"
          ]
        },
        {
          "output_type": "display_data",
          "data": {
            "text/plain": [
              "<IPython.core.display.HTML object>"
            ],
            "text/html": [
              "Ignoring project 'New Sweep' when running a sweep."
            ]
          },
          "metadata": {}
        },
        {
          "output_type": "display_data",
          "data": {
            "text/plain": [
              "<IPython.core.display.HTML object>"
            ],
            "text/html": [
              "Tracking run with wandb version 0.19.8"
            ]
          },
          "metadata": {}
        },
        {
          "output_type": "display_data",
          "data": {
            "text/plain": [
              "<IPython.core.display.HTML object>"
            ],
            "text/html": [
              "Run data is saved locally in <code>/content/wandb/run-20250317_132309-wp8rdnxx</code>"
            ]
          },
          "metadata": {}
        },
        {
          "output_type": "display_data",
          "data": {
            "text/plain": [
              "<IPython.core.display.HTML object>"
            ],
            "text/html": [
              "Syncing run <strong><a href='https://wandb.ai/yeshu183-indian-institute-of-technology-madras/New%20Sweep/runs/wp8rdnxx' target=\"_blank\">hopeful-sweep-31</a></strong> to <a href='https://wandb.ai/yeshu183-indian-institute-of-technology-madras/New%20Sweep' target=\"_blank\">Weights & Biases</a> (<a href='https://wandb.me/developer-guide' target=\"_blank\">docs</a>)<br>Sweep page: <a href='https://wandb.ai/yeshu183-indian-institute-of-technology-madras/New%20Sweep/sweeps/surnww5r' target=\"_blank\">https://wandb.ai/yeshu183-indian-institute-of-technology-madras/New%20Sweep/sweeps/surnww5r</a>"
            ]
          },
          "metadata": {}
        },
        {
          "output_type": "display_data",
          "data": {
            "text/plain": [
              "<IPython.core.display.HTML object>"
            ],
            "text/html": [
              " View project at <a href='https://wandb.ai/yeshu183-indian-institute-of-technology-madras/New%20Sweep' target=\"_blank\">https://wandb.ai/yeshu183-indian-institute-of-technology-madras/New%20Sweep</a>"
            ]
          },
          "metadata": {}
        },
        {
          "output_type": "display_data",
          "data": {
            "text/plain": [
              "<IPython.core.display.HTML object>"
            ],
            "text/html": [
              " View sweep at <a href='https://wandb.ai/yeshu183-indian-institute-of-technology-madras/New%20Sweep/sweeps/surnww5r' target=\"_blank\">https://wandb.ai/yeshu183-indian-institute-of-technology-madras/New%20Sweep/sweeps/surnww5r</a>"
            ]
          },
          "metadata": {}
        },
        {
          "output_type": "display_data",
          "data": {
            "text/plain": [
              "<IPython.core.display.HTML object>"
            ],
            "text/html": [
              " View run at <a href='https://wandb.ai/yeshu183-indian-institute-of-technology-madras/New%20Sweep/runs/wp8rdnxx' target=\"_blank\">https://wandb.ai/yeshu183-indian-institute-of-technology-madras/New%20Sweep/runs/wp8rdnxx</a>"
            ]
          },
          "metadata": {}
        },
        {
          "output_type": "stream",
          "name": "stdout",
          "text": [
            "Epoch: 1 | Time: 17.17 | Train Loss: 0.5629 | Train Accuracy: 0.8059 | Val Loss: 0.4282 | Val Accuracy: 0.8528\n",
            "Epoch: 2 | Time: 16.60 | Train Loss: 0.4101 | Train Accuracy: 0.8528 | Val Loss: 0.3990 | Val Accuracy: 0.8592\n",
            "Epoch: 3 | Time: 16.87 | Train Loss: 0.3788 | Train Accuracy: 0.8631 | Val Loss: 0.3827 | Val Accuracy: 0.8635\n",
            "Epoch: 4 | Time: 18.80 | Train Loss: 0.3584 | Train Accuracy: 0.8704 | Val Loss: 0.3654 | Val Accuracy: 0.8683\n",
            "Epoch: 5 | Time: 16.57 | Train Loss: 0.3433 | Train Accuracy: 0.8763 | Val Loss: 0.3504 | Val Accuracy: 0.8738\n",
            "Epoch: 6 | Time: 16.65 | Train Loss: 0.3310 | Train Accuracy: 0.8799 | Val Loss: 0.3434 | Val Accuracy: 0.8718\n",
            "Epoch: 7 | Time: 16.53 | Train Loss: 0.3207 | Train Accuracy: 0.8835 | Val Loss: 0.3373 | Val Accuracy: 0.8777\n",
            "Epoch: 8 | Time: 16.52 | Train Loss: 0.3107 | Train Accuracy: 0.8869 | Val Loss: 0.3373 | Val Accuracy: 0.8793\n",
            "Epoch: 9 | Time: 17.19 | Train Loss: 0.3015 | Train Accuracy: 0.8910 | Val Loss: 0.3211 | Val Accuracy: 0.8825\n",
            "Epoch: 10 | Time: 18.35 | Train Loss: 0.2938 | Train Accuracy: 0.8930 | Val Loss: 0.3217 | Val Accuracy: 0.8830\n",
            "Validation Loss: 0.3217, Validation Accuracy: 0.8830\n"
          ]
        },
        {
          "output_type": "display_data",
          "data": {
            "text/plain": [
              "<IPython.core.display.HTML object>"
            ],
            "text/html": []
          },
          "metadata": {}
        },
        {
          "output_type": "display_data",
          "data": {
            "text/plain": [
              "<IPython.core.display.HTML object>"
            ],
            "text/html": [
              "<br>    <style><br>        .wandb-row {<br>            display: flex;<br>            flex-direction: row;<br>            flex-wrap: wrap;<br>            justify-content: flex-start;<br>            width: 100%;<br>        }<br>        .wandb-col {<br>            display: flex;<br>            flex-direction: column;<br>            flex-basis: 100%;<br>            flex: 1;<br>            padding: 10px;<br>        }<br>    </style><br><div class=\"wandb-row\"><div class=\"wandb-col\"><h3>Run history:</h3><br/><table class=\"wandb\"><tr><td>epoch</td><td>▁▂▃▃▄▅▆▆▇█</td></tr><tr><td>final_val_acc</td><td>▁</td></tr><tr><td>final_val_loss</td><td>▁</td></tr><tr><td>train_acc</td><td>▁▅▆▆▇▇▇███</td></tr><tr><td>train_loss</td><td>█▄▃▃▂▂▂▁▁▁</td></tr><tr><td>val_acc</td><td>▁▂▃▅▆▅▇▇██</td></tr><tr><td>val_loss</td><td>█▆▅▄▃▂▂▂▁▁</td></tr></table><br/></div><div class=\"wandb-col\"><h3>Run summary:</h3><br/><table class=\"wandb\"><tr><td>epoch</td><td>10</td></tr><tr><td>final_val_acc</td><td>0.883</td></tr><tr><td>final_val_loss</td><td>0.32171</td></tr></table><br/></div></div>"
            ]
          },
          "metadata": {}
        },
        {
          "output_type": "display_data",
          "data": {
            "text/plain": [
              "<IPython.core.display.HTML object>"
            ],
            "text/html": [
              " View run <strong style=\"color:#cdcd00\">e_10_hl_3_nhpl_128_bs_32_init_xavier_ac_tanh_op_adam_lo_cross_entropy_loss</strong> at: <a href='https://wandb.ai/yeshu183-indian-institute-of-technology-madras/New%20Sweep/runs/wp8rdnxx' target=\"_blank\">https://wandb.ai/yeshu183-indian-institute-of-technology-madras/New%20Sweep/runs/wp8rdnxx</a><br> View project at: <a href='https://wandb.ai/yeshu183-indian-institute-of-technology-madras/New%20Sweep' target=\"_blank\">https://wandb.ai/yeshu183-indian-institute-of-technology-madras/New%20Sweep</a><br>Synced 5 W&B file(s), 0 media file(s), 0 artifact file(s) and 0 other file(s)"
            ]
          },
          "metadata": {}
        },
        {
          "output_type": "display_data",
          "data": {
            "text/plain": [
              "<IPython.core.display.HTML object>"
            ],
            "text/html": [
              "Find logs at: <code>./wandb/run-20250317_132309-wp8rdnxx/logs</code>"
            ]
          },
          "metadata": {}
        },
        {
          "output_type": "stream",
          "name": "stderr",
          "text": [
            "\u001b[34m\u001b[1mwandb\u001b[0m: Agent Starting Run: b81szo8x with config:\n",
            "\u001b[34m\u001b[1mwandb\u001b[0m: \tactivation: relu\n",
            "\u001b[34m\u001b[1mwandb\u001b[0m: \tbatch_size: 16\n",
            "\u001b[34m\u001b[1mwandb\u001b[0m: \tepochs: 10\n",
            "\u001b[34m\u001b[1mwandb\u001b[0m: \thid_layer_size: 64\n",
            "\u001b[34m\u001b[1mwandb\u001b[0m: \tl2_reg: 0\n",
            "\u001b[34m\u001b[1mwandb\u001b[0m: \tloss_func: cross_entropy_loss\n",
            "\u001b[34m\u001b[1mwandb\u001b[0m: \tlr: 0.0001\n",
            "\u001b[34m\u001b[1mwandb\u001b[0m: \tnum_hid_layers: 4\n",
            "\u001b[34m\u001b[1mwandb\u001b[0m: \toptimizer_func: adam\n",
            "\u001b[34m\u001b[1mwandb\u001b[0m: \tweight_init: xavier\n"
          ]
        },
        {
          "output_type": "display_data",
          "data": {
            "text/plain": [
              "<IPython.core.display.HTML object>"
            ],
            "text/html": [
              "Ignoring project 'New Sweep' when running a sweep."
            ]
          },
          "metadata": {}
        },
        {
          "output_type": "display_data",
          "data": {
            "text/plain": [
              "<IPython.core.display.HTML object>"
            ],
            "text/html": [
              "Tracking run with wandb version 0.19.8"
            ]
          },
          "metadata": {}
        },
        {
          "output_type": "display_data",
          "data": {
            "text/plain": [
              "<IPython.core.display.HTML object>"
            ],
            "text/html": [
              "Run data is saved locally in <code>/content/wandb/run-20250317_132607-b81szo8x</code>"
            ]
          },
          "metadata": {}
        },
        {
          "output_type": "display_data",
          "data": {
            "text/plain": [
              "<IPython.core.display.HTML object>"
            ],
            "text/html": [
              "Syncing run <strong><a href='https://wandb.ai/yeshu183-indian-institute-of-technology-madras/New%20Sweep/runs/b81szo8x' target=\"_blank\">fast-sweep-32</a></strong> to <a href='https://wandb.ai/yeshu183-indian-institute-of-technology-madras/New%20Sweep' target=\"_blank\">Weights & Biases</a> (<a href='https://wandb.me/developer-guide' target=\"_blank\">docs</a>)<br>Sweep page: <a href='https://wandb.ai/yeshu183-indian-institute-of-technology-madras/New%20Sweep/sweeps/surnww5r' target=\"_blank\">https://wandb.ai/yeshu183-indian-institute-of-technology-madras/New%20Sweep/sweeps/surnww5r</a>"
            ]
          },
          "metadata": {}
        },
        {
          "output_type": "display_data",
          "data": {
            "text/plain": [
              "<IPython.core.display.HTML object>"
            ],
            "text/html": [
              " View project at <a href='https://wandb.ai/yeshu183-indian-institute-of-technology-madras/New%20Sweep' target=\"_blank\">https://wandb.ai/yeshu183-indian-institute-of-technology-madras/New%20Sweep</a>"
            ]
          },
          "metadata": {}
        },
        {
          "output_type": "display_data",
          "data": {
            "text/plain": [
              "<IPython.core.display.HTML object>"
            ],
            "text/html": [
              " View sweep at <a href='https://wandb.ai/yeshu183-indian-institute-of-technology-madras/New%20Sweep/sweeps/surnww5r' target=\"_blank\">https://wandb.ai/yeshu183-indian-institute-of-technology-madras/New%20Sweep/sweeps/surnww5r</a>"
            ]
          },
          "metadata": {}
        },
        {
          "output_type": "display_data",
          "data": {
            "text/plain": [
              "<IPython.core.display.HTML object>"
            ],
            "text/html": [
              " View run at <a href='https://wandb.ai/yeshu183-indian-institute-of-technology-madras/New%20Sweep/runs/b81szo8x' target=\"_blank\">https://wandb.ai/yeshu183-indian-institute-of-technology-madras/New%20Sweep/runs/b81szo8x</a>"
            ]
          },
          "metadata": {}
        },
        {
          "output_type": "stream",
          "name": "stdout",
          "text": [
            "Epoch: 1 | Time: 13.38 | Train Loss: 0.6109 | Train Accuracy: 0.7867 | Val Loss: 0.4561 | Val Accuracy: 0.8440\n",
            "Epoch: 2 | Time: 13.05 | Train Loss: 0.4417 | Train Accuracy: 0.8442 | Val Loss: 0.4215 | Val Accuracy: 0.8525\n",
            "Epoch: 3 | Time: 12.88 | Train Loss: 0.4059 | Train Accuracy: 0.8566 | Val Loss: 0.4069 | Val Accuracy: 0.8585\n",
            "Epoch: 4 | Time: 13.06 | Train Loss: 0.3819 | Train Accuracy: 0.8646 | Val Loss: 0.3798 | Val Accuracy: 0.8657\n",
            "Epoch: 5 | Time: 12.81 | Train Loss: 0.3647 | Train Accuracy: 0.8693 | Val Loss: 0.3677 | Val Accuracy: 0.8735\n",
            "Epoch: 6 | Time: 11.29 | Train Loss: 0.3511 | Train Accuracy: 0.8743 | Val Loss: 0.3723 | Val Accuracy: 0.8695\n",
            "Epoch: 7 | Time: 12.62 | Train Loss: 0.3379 | Train Accuracy: 0.8780 | Val Loss: 0.3643 | Val Accuracy: 0.8690\n",
            "Epoch: 8 | Time: 12.75 | Train Loss: 0.3288 | Train Accuracy: 0.8806 | Val Loss: 0.3501 | Val Accuracy: 0.8743\n",
            "Epoch: 9 | Time: 13.64 | Train Loss: 0.3196 | Train Accuracy: 0.8842 | Val Loss: 0.3418 | Val Accuracy: 0.8740\n",
            "Epoch: 10 | Time: 13.05 | Train Loss: 0.3111 | Train Accuracy: 0.8871 | Val Loss: 0.3406 | Val Accuracy: 0.8813\n",
            "Validation Loss: 0.3406, Validation Accuracy: 0.8813\n"
          ]
        },
        {
          "output_type": "display_data",
          "data": {
            "text/plain": [
              "<IPython.core.display.HTML object>"
            ],
            "text/html": []
          },
          "metadata": {}
        },
        {
          "output_type": "display_data",
          "data": {
            "text/plain": [
              "<IPython.core.display.HTML object>"
            ],
            "text/html": [
              "<br>    <style><br>        .wandb-row {<br>            display: flex;<br>            flex-direction: row;<br>            flex-wrap: wrap;<br>            justify-content: flex-start;<br>            width: 100%;<br>        }<br>        .wandb-col {<br>            display: flex;<br>            flex-direction: column;<br>            flex-basis: 100%;<br>            flex: 1;<br>            padding: 10px;<br>        }<br>    </style><br><div class=\"wandb-row\"><div class=\"wandb-col\"><h3>Run history:</h3><br/><table class=\"wandb\"><tr><td>epoch</td><td>▁▂▃▃▄▅▆▆▇█</td></tr><tr><td>final_val_acc</td><td>▁</td></tr><tr><td>final_val_loss</td><td>▁</td></tr><tr><td>train_acc</td><td>▁▅▆▆▇▇▇███</td></tr><tr><td>train_loss</td><td>█▄▃▃▂▂▂▁▁▁</td></tr><tr><td>val_acc</td><td>▁▃▄▅▇▆▆▇▇█</td></tr><tr><td>val_loss</td><td>█▆▅▃▃▃▂▂▁▁</td></tr></table><br/></div><div class=\"wandb-col\"><h3>Run summary:</h3><br/><table class=\"wandb\"><tr><td>epoch</td><td>10</td></tr><tr><td>final_val_acc</td><td>0.88133</td></tr><tr><td>final_val_loss</td><td>0.34057</td></tr></table><br/></div></div>"
            ]
          },
          "metadata": {}
        },
        {
          "output_type": "display_data",
          "data": {
            "text/plain": [
              "<IPython.core.display.HTML object>"
            ],
            "text/html": [
              " View run <strong style=\"color:#cdcd00\">e_10_hl_4_nhpl_64_bs_16_init_xavier_ac_relu_op_adam_lo_cross_entropy_loss</strong> at: <a href='https://wandb.ai/yeshu183-indian-institute-of-technology-madras/New%20Sweep/runs/b81szo8x' target=\"_blank\">https://wandb.ai/yeshu183-indian-institute-of-technology-madras/New%20Sweep/runs/b81szo8x</a><br> View project at: <a href='https://wandb.ai/yeshu183-indian-institute-of-technology-madras/New%20Sweep' target=\"_blank\">https://wandb.ai/yeshu183-indian-institute-of-technology-madras/New%20Sweep</a><br>Synced 5 W&B file(s), 0 media file(s), 0 artifact file(s) and 0 other file(s)"
            ]
          },
          "metadata": {}
        },
        {
          "output_type": "display_data",
          "data": {
            "text/plain": [
              "<IPython.core.display.HTML object>"
            ],
            "text/html": [
              "Find logs at: <code>./wandb/run-20250317_132607-b81szo8x/logs</code>"
            ]
          },
          "metadata": {}
        },
        {
          "output_type": "stream",
          "name": "stderr",
          "text": [
            "\u001b[34m\u001b[1mwandb\u001b[0m: Agent Starting Run: 3rcwx7f4 with config:\n",
            "\u001b[34m\u001b[1mwandb\u001b[0m: \tactivation: relu\n",
            "\u001b[34m\u001b[1mwandb\u001b[0m: \tbatch_size: 16\n",
            "\u001b[34m\u001b[1mwandb\u001b[0m: \tepochs: 10\n",
            "\u001b[34m\u001b[1mwandb\u001b[0m: \thid_layer_size: 128\n",
            "\u001b[34m\u001b[1mwandb\u001b[0m: \tl2_reg: 0\n",
            "\u001b[34m\u001b[1mwandb\u001b[0m: \tloss_func: cross_entropy_loss\n",
            "\u001b[34m\u001b[1mwandb\u001b[0m: \tlr: 0.0001\n",
            "\u001b[34m\u001b[1mwandb\u001b[0m: \tnum_hid_layers: 4\n",
            "\u001b[34m\u001b[1mwandb\u001b[0m: \toptimizer_func: rmsprop\n",
            "\u001b[34m\u001b[1mwandb\u001b[0m: \tweight_init: xavier\n"
          ]
        },
        {
          "output_type": "display_data",
          "data": {
            "text/plain": [
              "<IPython.core.display.HTML object>"
            ],
            "text/html": [
              "Ignoring project 'New Sweep' when running a sweep."
            ]
          },
          "metadata": {}
        },
        {
          "output_type": "display_data",
          "data": {
            "text/plain": [
              "<IPython.core.display.HTML object>"
            ],
            "text/html": [
              "Tracking run with wandb version 0.19.8"
            ]
          },
          "metadata": {}
        },
        {
          "output_type": "display_data",
          "data": {
            "text/plain": [
              "<IPython.core.display.HTML object>"
            ],
            "text/html": [
              "Run data is saved locally in <code>/content/wandb/run-20250317_132823-3rcwx7f4</code>"
            ]
          },
          "metadata": {}
        },
        {
          "output_type": "display_data",
          "data": {
            "text/plain": [
              "<IPython.core.display.HTML object>"
            ],
            "text/html": [
              "Syncing run <strong><a href='https://wandb.ai/yeshu183-indian-institute-of-technology-madras/New%20Sweep/runs/3rcwx7f4' target=\"_blank\">dry-sweep-33</a></strong> to <a href='https://wandb.ai/yeshu183-indian-institute-of-technology-madras/New%20Sweep' target=\"_blank\">Weights & Biases</a> (<a href='https://wandb.me/developer-guide' target=\"_blank\">docs</a>)<br>Sweep page: <a href='https://wandb.ai/yeshu183-indian-institute-of-technology-madras/New%20Sweep/sweeps/surnww5r' target=\"_blank\">https://wandb.ai/yeshu183-indian-institute-of-technology-madras/New%20Sweep/sweeps/surnww5r</a>"
            ]
          },
          "metadata": {}
        },
        {
          "output_type": "display_data",
          "data": {
            "text/plain": [
              "<IPython.core.display.HTML object>"
            ],
            "text/html": [
              " View project at <a href='https://wandb.ai/yeshu183-indian-institute-of-technology-madras/New%20Sweep' target=\"_blank\">https://wandb.ai/yeshu183-indian-institute-of-technology-madras/New%20Sweep</a>"
            ]
          },
          "metadata": {}
        },
        {
          "output_type": "display_data",
          "data": {
            "text/plain": [
              "<IPython.core.display.HTML object>"
            ],
            "text/html": [
              " View sweep at <a href='https://wandb.ai/yeshu183-indian-institute-of-technology-madras/New%20Sweep/sweeps/surnww5r' target=\"_blank\">https://wandb.ai/yeshu183-indian-institute-of-technology-madras/New%20Sweep/sweeps/surnww5r</a>"
            ]
          },
          "metadata": {}
        },
        {
          "output_type": "display_data",
          "data": {
            "text/plain": [
              "<IPython.core.display.HTML object>"
            ],
            "text/html": [
              " View run at <a href='https://wandb.ai/yeshu183-indian-institute-of-technology-madras/New%20Sweep/runs/3rcwx7f4' target=\"_blank\">https://wandb.ai/yeshu183-indian-institute-of-technology-madras/New%20Sweep/runs/3rcwx7f4</a>"
            ]
          },
          "metadata": {}
        },
        {
          "output_type": "stream",
          "name": "stdout",
          "text": [
            "Epoch: 1 | Time: 20.29 | Train Loss: 0.6290 | Train Accuracy: 0.7880 | Val Loss: 0.4382 | Val Accuracy: 0.8497\n",
            "Epoch: 2 | Time: 22.75 | Train Loss: 0.4322 | Train Accuracy: 0.8489 | Val Loss: 0.4115 | Val Accuracy: 0.8557\n",
            "Epoch: 3 | Time: 20.93 | Train Loss: 0.3879 | Train Accuracy: 0.8621 | Val Loss: 0.3824 | Val Accuracy: 0.8700\n",
            "Epoch: 4 | Time: 22.90 | Train Loss: 0.3611 | Train Accuracy: 0.8711 | Val Loss: 0.3837 | Val Accuracy: 0.8607\n",
            "Epoch: 5 | Time: 22.29 | Train Loss: 0.3424 | Train Accuracy: 0.8782 | Val Loss: 0.3639 | Val Accuracy: 0.8723\n",
            "Epoch: 6 | Time: 23.51 | Train Loss: 0.3289 | Train Accuracy: 0.8843 | Val Loss: 0.3498 | Val Accuracy: 0.8767\n",
            "Epoch: 7 | Time: 20.72 | Train Loss: 0.3180 | Train Accuracy: 0.8874 | Val Loss: 0.3521 | Val Accuracy: 0.8803\n",
            "Epoch: 8 | Time: 23.23 | Train Loss: 0.3098 | Train Accuracy: 0.8889 | Val Loss: 0.3572 | Val Accuracy: 0.8778\n",
            "Epoch: 9 | Time: 20.78 | Train Loss: 0.3006 | Train Accuracy: 0.8935 | Val Loss: 0.3559 | Val Accuracy: 0.8823\n",
            "Epoch: 10 | Time: 23.38 | Train Loss: 0.2926 | Train Accuracy: 0.8945 | Val Loss: 0.3416 | Val Accuracy: 0.8872\n",
            "Validation Loss: 0.3416, Validation Accuracy: 0.8872\n"
          ]
        },
        {
          "output_type": "display_data",
          "data": {
            "text/plain": [
              "<IPython.core.display.HTML object>"
            ],
            "text/html": []
          },
          "metadata": {}
        },
        {
          "output_type": "display_data",
          "data": {
            "text/plain": [
              "<IPython.core.display.HTML object>"
            ],
            "text/html": [
              "<br>    <style><br>        .wandb-row {<br>            display: flex;<br>            flex-direction: row;<br>            flex-wrap: wrap;<br>            justify-content: flex-start;<br>            width: 100%;<br>        }<br>        .wandb-col {<br>            display: flex;<br>            flex-direction: column;<br>            flex-basis: 100%;<br>            flex: 1;<br>            padding: 10px;<br>        }<br>    </style><br><div class=\"wandb-row\"><div class=\"wandb-col\"><h3>Run history:</h3><br/><table class=\"wandb\"><tr><td>epoch</td><td>▁▂▃▃▄▅▆▆▇█</td></tr><tr><td>final_val_acc</td><td>▁</td></tr><tr><td>final_val_loss</td><td>▁</td></tr><tr><td>train_acc</td><td>▁▅▆▆▇▇████</td></tr><tr><td>train_loss</td><td>█▄▃▂▂▂▂▁▁▁</td></tr><tr><td>val_acc</td><td>▁▂▅▃▅▆▇▆▇█</td></tr><tr><td>val_loss</td><td>█▆▄▄▃▂▂▂▂▁</td></tr></table><br/></div><div class=\"wandb-col\"><h3>Run summary:</h3><br/><table class=\"wandb\"><tr><td>epoch</td><td>10</td></tr><tr><td>final_val_acc</td><td>0.88717</td></tr><tr><td>final_val_loss</td><td>0.34161</td></tr></table><br/></div></div>"
            ]
          },
          "metadata": {}
        },
        {
          "output_type": "display_data",
          "data": {
            "text/plain": [
              "<IPython.core.display.HTML object>"
            ],
            "text/html": [
              " View run <strong style=\"color:#cdcd00\">e_10_hl_4_nhpl_128_bs_16_init_xavier_ac_relu_op_rmsprop_lo_cross_entropy_loss</strong> at: <a href='https://wandb.ai/yeshu183-indian-institute-of-technology-madras/New%20Sweep/runs/3rcwx7f4' target=\"_blank\">https://wandb.ai/yeshu183-indian-institute-of-technology-madras/New%20Sweep/runs/3rcwx7f4</a><br> View project at: <a href='https://wandb.ai/yeshu183-indian-institute-of-technology-madras/New%20Sweep' target=\"_blank\">https://wandb.ai/yeshu183-indian-institute-of-technology-madras/New%20Sweep</a><br>Synced 5 W&B file(s), 0 media file(s), 0 artifact file(s) and 0 other file(s)"
            ]
          },
          "metadata": {}
        },
        {
          "output_type": "display_data",
          "data": {
            "text/plain": [
              "<IPython.core.display.HTML object>"
            ],
            "text/html": [
              "Find logs at: <code>./wandb/run-20250317_132823-3rcwx7f4/logs</code>"
            ]
          },
          "metadata": {}
        },
        {
          "output_type": "stream",
          "name": "stderr",
          "text": [
            "\u001b[34m\u001b[1mwandb\u001b[0m: Agent Starting Run: gvf3ehzy with config:\n",
            "\u001b[34m\u001b[1mwandb\u001b[0m: \tactivation: relu\n",
            "\u001b[34m\u001b[1mwandb\u001b[0m: \tbatch_size: 16\n",
            "\u001b[34m\u001b[1mwandb\u001b[0m: \tepochs: 5\n",
            "\u001b[34m\u001b[1mwandb\u001b[0m: \thid_layer_size: 128\n",
            "\u001b[34m\u001b[1mwandb\u001b[0m: \tl2_reg: 0\n",
            "\u001b[34m\u001b[1mwandb\u001b[0m: \tloss_func: cross_entropy_loss\n",
            "\u001b[34m\u001b[1mwandb\u001b[0m: \tlr: 0.0001\n",
            "\u001b[34m\u001b[1mwandb\u001b[0m: \tnum_hid_layers: 4\n",
            "\u001b[34m\u001b[1mwandb\u001b[0m: \toptimizer_func: adam\n",
            "\u001b[34m\u001b[1mwandb\u001b[0m: \tweight_init: xavier\n"
          ]
        },
        {
          "output_type": "display_data",
          "data": {
            "text/plain": [
              "<IPython.core.display.HTML object>"
            ],
            "text/html": [
              "Ignoring project 'New Sweep' when running a sweep."
            ]
          },
          "metadata": {}
        },
        {
          "output_type": "display_data",
          "data": {
            "text/plain": [
              "<IPython.core.display.HTML object>"
            ],
            "text/html": [
              "Tracking run with wandb version 0.19.8"
            ]
          },
          "metadata": {}
        },
        {
          "output_type": "display_data",
          "data": {
            "text/plain": [
              "<IPython.core.display.HTML object>"
            ],
            "text/html": [
              "Run data is saved locally in <code>/content/wandb/run-20250317_133212-gvf3ehzy</code>"
            ]
          },
          "metadata": {}
        },
        {
          "output_type": "display_data",
          "data": {
            "text/plain": [
              "<IPython.core.display.HTML object>"
            ],
            "text/html": [
              "Syncing run <strong><a href='https://wandb.ai/yeshu183-indian-institute-of-technology-madras/New%20Sweep/runs/gvf3ehzy' target=\"_blank\">hardy-sweep-34</a></strong> to <a href='https://wandb.ai/yeshu183-indian-institute-of-technology-madras/New%20Sweep' target=\"_blank\">Weights & Biases</a> (<a href='https://wandb.me/developer-guide' target=\"_blank\">docs</a>)<br>Sweep page: <a href='https://wandb.ai/yeshu183-indian-institute-of-technology-madras/New%20Sweep/sweeps/surnww5r' target=\"_blank\">https://wandb.ai/yeshu183-indian-institute-of-technology-madras/New%20Sweep/sweeps/surnww5r</a>"
            ]
          },
          "metadata": {}
        },
        {
          "output_type": "display_data",
          "data": {
            "text/plain": [
              "<IPython.core.display.HTML object>"
            ],
            "text/html": [
              " View project at <a href='https://wandb.ai/yeshu183-indian-institute-of-technology-madras/New%20Sweep' target=\"_blank\">https://wandb.ai/yeshu183-indian-institute-of-technology-madras/New%20Sweep</a>"
            ]
          },
          "metadata": {}
        },
        {
          "output_type": "display_data",
          "data": {
            "text/plain": [
              "<IPython.core.display.HTML object>"
            ],
            "text/html": [
              " View sweep at <a href='https://wandb.ai/yeshu183-indian-institute-of-technology-madras/New%20Sweep/sweeps/surnww5r' target=\"_blank\">https://wandb.ai/yeshu183-indian-institute-of-technology-madras/New%20Sweep/sweeps/surnww5r</a>"
            ]
          },
          "metadata": {}
        },
        {
          "output_type": "display_data",
          "data": {
            "text/plain": [
              "<IPython.core.display.HTML object>"
            ],
            "text/html": [
              " View run at <a href='https://wandb.ai/yeshu183-indian-institute-of-technology-madras/New%20Sweep/runs/gvf3ehzy' target=\"_blank\">https://wandb.ai/yeshu183-indian-institute-of-technology-madras/New%20Sweep/runs/gvf3ehzy</a>"
            ]
          },
          "metadata": {}
        },
        {
          "output_type": "stream",
          "name": "stdout",
          "text": [
            "Epoch: 1 | Time: 26.46 | Train Loss: 0.5518 | Train Accuracy: 0.8074 | Val Loss: 0.4145 | Val Accuracy: 0.8543\n",
            "Epoch: 2 | Time: 27.33 | Train Loss: 0.4013 | Train Accuracy: 0.8554 | Val Loss: 0.3916 | Val Accuracy: 0.8615\n",
            "Epoch: 3 | Time: 28.39 | Train Loss: 0.3656 | Train Accuracy: 0.8684 | Val Loss: 0.3824 | Val Accuracy: 0.8612\n",
            "Epoch: 4 | Time: 28.17 | Train Loss: 0.3408 | Train Accuracy: 0.8763 | Val Loss: 0.3565 | Val Accuracy: 0.8713\n",
            "Epoch: 5 | Time: 27.94 | Train Loss: 0.3214 | Train Accuracy: 0.8830 | Val Loss: 0.3483 | Val Accuracy: 0.8750\n",
            "Validation Loss: 0.3483, Validation Accuracy: 0.8750\n"
          ]
        },
        {
          "output_type": "display_data",
          "data": {
            "text/plain": [
              "<IPython.core.display.HTML object>"
            ],
            "text/html": []
          },
          "metadata": {}
        },
        {
          "output_type": "display_data",
          "data": {
            "text/plain": [
              "<IPython.core.display.HTML object>"
            ],
            "text/html": [
              "<br>    <style><br>        .wandb-row {<br>            display: flex;<br>            flex-direction: row;<br>            flex-wrap: wrap;<br>            justify-content: flex-start;<br>            width: 100%;<br>        }<br>        .wandb-col {<br>            display: flex;<br>            flex-direction: column;<br>            flex-basis: 100%;<br>            flex: 1;<br>            padding: 10px;<br>        }<br>    </style><br><div class=\"wandb-row\"><div class=\"wandb-col\"><h3>Run history:</h3><br/><table class=\"wandb\"><tr><td>epoch</td><td>▁▃▅▆█</td></tr><tr><td>final_val_acc</td><td>▁</td></tr><tr><td>final_val_loss</td><td>▁</td></tr><tr><td>train_acc</td><td>▁▅▇▇█</td></tr><tr><td>train_loss</td><td>█▃▂▂▁</td></tr><tr><td>val_acc</td><td>▁▃▃▇█</td></tr><tr><td>val_loss</td><td>█▆▅▂▁</td></tr></table><br/></div><div class=\"wandb-col\"><h3>Run summary:</h3><br/><table class=\"wandb\"><tr><td>epoch</td><td>5</td></tr><tr><td>final_val_acc</td><td>0.875</td></tr><tr><td>final_val_loss</td><td>0.34829</td></tr></table><br/></div></div>"
            ]
          },
          "metadata": {}
        },
        {
          "output_type": "display_data",
          "data": {
            "text/plain": [
              "<IPython.core.display.HTML object>"
            ],
            "text/html": [
              " View run <strong style=\"color:#cdcd00\">e_5_hl_4_nhpl_128_bs_16_init_xavier_ac_relu_op_adam_lo_cross_entropy_loss</strong> at: <a href='https://wandb.ai/yeshu183-indian-institute-of-technology-madras/New%20Sweep/runs/gvf3ehzy' target=\"_blank\">https://wandb.ai/yeshu183-indian-institute-of-technology-madras/New%20Sweep/runs/gvf3ehzy</a><br> View project at: <a href='https://wandb.ai/yeshu183-indian-institute-of-technology-madras/New%20Sweep' target=\"_blank\">https://wandb.ai/yeshu183-indian-institute-of-technology-madras/New%20Sweep</a><br>Synced 5 W&B file(s), 0 media file(s), 0 artifact file(s) and 0 other file(s)"
            ]
          },
          "metadata": {}
        },
        {
          "output_type": "display_data",
          "data": {
            "text/plain": [
              "<IPython.core.display.HTML object>"
            ],
            "text/html": [
              "Find logs at: <code>./wandb/run-20250317_133212-gvf3ehzy/logs</code>"
            ]
          },
          "metadata": {}
        },
        {
          "output_type": "stream",
          "name": "stderr",
          "text": [
            "\u001b[34m\u001b[1mwandb\u001b[0m: Agent Starting Run: d73lfwr9 with config:\n",
            "\u001b[34m\u001b[1mwandb\u001b[0m: \tactivation: sigmoid\n",
            "\u001b[34m\u001b[1mwandb\u001b[0m: \tbatch_size: 16\n",
            "\u001b[34m\u001b[1mwandb\u001b[0m: \tepochs: 10\n",
            "\u001b[34m\u001b[1mwandb\u001b[0m: \thid_layer_size: 128\n",
            "\u001b[34m\u001b[1mwandb\u001b[0m: \tl2_reg: 0\n",
            "\u001b[34m\u001b[1mwandb\u001b[0m: \tloss_func: cross_entropy_loss\n",
            "\u001b[34m\u001b[1mwandb\u001b[0m: \tlr: 0.001\n",
            "\u001b[34m\u001b[1mwandb\u001b[0m: \tnum_hid_layers: 4\n",
            "\u001b[34m\u001b[1mwandb\u001b[0m: \toptimizer_func: adam\n",
            "\u001b[34m\u001b[1mwandb\u001b[0m: \tweight_init: xavier\n"
          ]
        },
        {
          "output_type": "display_data",
          "data": {
            "text/plain": [
              "<IPython.core.display.HTML object>"
            ],
            "text/html": [
              "Ignoring project 'New Sweep' when running a sweep."
            ]
          },
          "metadata": {}
        },
        {
          "output_type": "display_data",
          "data": {
            "text/plain": [
              "<IPython.core.display.HTML object>"
            ],
            "text/html": [
              "Tracking run with wandb version 0.19.8"
            ]
          },
          "metadata": {}
        },
        {
          "output_type": "display_data",
          "data": {
            "text/plain": [
              "<IPython.core.display.HTML object>"
            ],
            "text/html": [
              "Run data is saved locally in <code>/content/wandb/run-20250317_133439-d73lfwr9</code>"
            ]
          },
          "metadata": {}
        },
        {
          "output_type": "display_data",
          "data": {
            "text/plain": [
              "<IPython.core.display.HTML object>"
            ],
            "text/html": [
              "Syncing run <strong><a href='https://wandb.ai/yeshu183-indian-institute-of-technology-madras/New%20Sweep/runs/d73lfwr9' target=\"_blank\">major-sweep-35</a></strong> to <a href='https://wandb.ai/yeshu183-indian-institute-of-technology-madras/New%20Sweep' target=\"_blank\">Weights & Biases</a> (<a href='https://wandb.me/developer-guide' target=\"_blank\">docs</a>)<br>Sweep page: <a href='https://wandb.ai/yeshu183-indian-institute-of-technology-madras/New%20Sweep/sweeps/surnww5r' target=\"_blank\">https://wandb.ai/yeshu183-indian-institute-of-technology-madras/New%20Sweep/sweeps/surnww5r</a>"
            ]
          },
          "metadata": {}
        },
        {
          "output_type": "display_data",
          "data": {
            "text/plain": [
              "<IPython.core.display.HTML object>"
            ],
            "text/html": [
              " View project at <a href='https://wandb.ai/yeshu183-indian-institute-of-technology-madras/New%20Sweep' target=\"_blank\">https://wandb.ai/yeshu183-indian-institute-of-technology-madras/New%20Sweep</a>"
            ]
          },
          "metadata": {}
        },
        {
          "output_type": "display_data",
          "data": {
            "text/plain": [
              "<IPython.core.display.HTML object>"
            ],
            "text/html": [
              " View sweep at <a href='https://wandb.ai/yeshu183-indian-institute-of-technology-madras/New%20Sweep/sweeps/surnww5r' target=\"_blank\">https://wandb.ai/yeshu183-indian-institute-of-technology-madras/New%20Sweep/sweeps/surnww5r</a>"
            ]
          },
          "metadata": {}
        },
        {
          "output_type": "display_data",
          "data": {
            "text/plain": [
              "<IPython.core.display.HTML object>"
            ],
            "text/html": [
              " View run at <a href='https://wandb.ai/yeshu183-indian-institute-of-technology-madras/New%20Sweep/runs/d73lfwr9' target=\"_blank\">https://wandb.ai/yeshu183-indian-institute-of-technology-madras/New%20Sweep/runs/d73lfwr9</a>"
            ]
          },
          "metadata": {}
        },
        {
          "output_type": "stream",
          "name": "stdout",
          "text": [
            "Epoch: 1 | Time: 27.34 | Train Loss: 0.6459 | Train Accuracy: 0.7542 | Val Loss: 0.4486 | Val Accuracy: 0.8473\n",
            "Epoch: 2 | Time: 27.85 | Train Loss: 0.4133 | Train Accuracy: 0.8522 | Val Loss: 0.3899 | Val Accuracy: 0.8592\n",
            "Epoch: 3 | Time: 27.41 | Train Loss: 0.3636 | Train Accuracy: 0.8681 | Val Loss: 0.3989 | Val Accuracy: 0.8572\n",
            "Epoch: 4 | Time: 28.38 | Train Loss: 0.3363 | Train Accuracy: 0.8767 | Val Loss: 0.3478 | Val Accuracy: 0.8698\n",
            "Epoch: 5 | Time: 28.19 | Train Loss: 0.3181 | Train Accuracy: 0.8831 | Val Loss: 0.3360 | Val Accuracy: 0.8775\n",
            "Epoch: 6 | Time: 28.31 | Train Loss: 0.3030 | Train Accuracy: 0.8887 | Val Loss: 0.3377 | Val Accuracy: 0.8817\n",
            "Epoch: 7 | Time: 28.12 | Train Loss: 0.2892 | Train Accuracy: 0.8944 | Val Loss: 0.3225 | Val Accuracy: 0.8802\n",
            "Epoch: 8 | Time: 28.57 | Train Loss: 0.2782 | Train Accuracy: 0.8974 | Val Loss: 0.3625 | Val Accuracy: 0.8675\n",
            "Epoch: 9 | Time: 27.96 | Train Loss: 0.2669 | Train Accuracy: 0.9003 | Val Loss: 0.3251 | Val Accuracy: 0.8840\n",
            "Epoch: 10 | Time: 28.41 | Train Loss: 0.2595 | Train Accuracy: 0.9032 | Val Loss: 0.3584 | Val Accuracy: 0.8698\n",
            "Validation Loss: 0.3584, Validation Accuracy: 0.8698\n"
          ]
        },
        {
          "output_type": "display_data",
          "data": {
            "text/plain": [
              "<IPython.core.display.HTML object>"
            ],
            "text/html": []
          },
          "metadata": {}
        },
        {
          "output_type": "display_data",
          "data": {
            "text/plain": [
              "<IPython.core.display.HTML object>"
            ],
            "text/html": [
              "<br>    <style><br>        .wandb-row {<br>            display: flex;<br>            flex-direction: row;<br>            flex-wrap: wrap;<br>            justify-content: flex-start;<br>            width: 100%;<br>        }<br>        .wandb-col {<br>            display: flex;<br>            flex-direction: column;<br>            flex-basis: 100%;<br>            flex: 1;<br>            padding: 10px;<br>        }<br>    </style><br><div class=\"wandb-row\"><div class=\"wandb-col\"><h3>Run history:</h3><br/><table class=\"wandb\"><tr><td>epoch</td><td>▁▂▃▃▄▅▆▆▇█</td></tr><tr><td>final_val_acc</td><td>▁</td></tr><tr><td>final_val_loss</td><td>▁</td></tr><tr><td>train_acc</td><td>▁▆▆▇▇▇████</td></tr><tr><td>train_loss</td><td>█▄▃▂▂▂▂▁▁▁</td></tr><tr><td>val_acc</td><td>▁▃▃▅▇█▇▅█▅</td></tr><tr><td>val_loss</td><td>█▅▅▂▂▂▁▃▁▃</td></tr></table><br/></div><div class=\"wandb-col\"><h3>Run summary:</h3><br/><table class=\"wandb\"><tr><td>epoch</td><td>10</td></tr><tr><td>final_val_acc</td><td>0.86983</td></tr><tr><td>final_val_loss</td><td>0.35838</td></tr></table><br/></div></div>"
            ]
          },
          "metadata": {}
        },
        {
          "output_type": "display_data",
          "data": {
            "text/plain": [
              "<IPython.core.display.HTML object>"
            ],
            "text/html": [
              " View run <strong style=\"color:#cdcd00\">e_10_hl_4_nhpl_128_bs_16_init_xavier_ac_sigmoid_op_adam_lo_cross_entropy_loss</strong> at: <a href='https://wandb.ai/yeshu183-indian-institute-of-technology-madras/New%20Sweep/runs/d73lfwr9' target=\"_blank\">https://wandb.ai/yeshu183-indian-institute-of-technology-madras/New%20Sweep/runs/d73lfwr9</a><br> View project at: <a href='https://wandb.ai/yeshu183-indian-institute-of-technology-madras/New%20Sweep' target=\"_blank\">https://wandb.ai/yeshu183-indian-institute-of-technology-madras/New%20Sweep</a><br>Synced 5 W&B file(s), 0 media file(s), 0 artifact file(s) and 0 other file(s)"
            ]
          },
          "metadata": {}
        },
        {
          "output_type": "display_data",
          "data": {
            "text/plain": [
              "<IPython.core.display.HTML object>"
            ],
            "text/html": [
              "Find logs at: <code>./wandb/run-20250317_133439-d73lfwr9/logs</code>"
            ]
          },
          "metadata": {}
        },
        {
          "output_type": "stream",
          "name": "stderr",
          "text": [
            "\u001b[34m\u001b[1mwandb\u001b[0m: Sweep Agent: Waiting for job.\n",
            "\u001b[34m\u001b[1mwandb\u001b[0m: Job received.\n",
            "\u001b[34m\u001b[1mwandb\u001b[0m: Agent Starting Run: e3i268yp with config:\n",
            "\u001b[34m\u001b[1mwandb\u001b[0m: \tactivation: relu\n",
            "\u001b[34m\u001b[1mwandb\u001b[0m: \tbatch_size: 16\n",
            "\u001b[34m\u001b[1mwandb\u001b[0m: \tepochs: 10\n",
            "\u001b[34m\u001b[1mwandb\u001b[0m: \thid_layer_size: 64\n",
            "\u001b[34m\u001b[1mwandb\u001b[0m: \tl2_reg: 0\n",
            "\u001b[34m\u001b[1mwandb\u001b[0m: \tloss_func: squared_error\n",
            "\u001b[34m\u001b[1mwandb\u001b[0m: \tlr: 0.0001\n",
            "\u001b[34m\u001b[1mwandb\u001b[0m: \tnum_hid_layers: 3\n",
            "\u001b[34m\u001b[1mwandb\u001b[0m: \toptimizer_func: adam\n",
            "\u001b[34m\u001b[1mwandb\u001b[0m: \tweight_init: xavier\n"
          ]
        },
        {
          "output_type": "display_data",
          "data": {
            "text/plain": [
              "<IPython.core.display.HTML object>"
            ],
            "text/html": [
              "Ignoring project 'New Sweep' when running a sweep."
            ]
          },
          "metadata": {}
        },
        {
          "output_type": "display_data",
          "data": {
            "text/plain": [
              "<IPython.core.display.HTML object>"
            ],
            "text/html": [
              "Tracking run with wandb version 0.19.8"
            ]
          },
          "metadata": {}
        },
        {
          "output_type": "display_data",
          "data": {
            "text/plain": [
              "<IPython.core.display.HTML object>"
            ],
            "text/html": [
              "Run data is saved locally in <code>/content/wandb/run-20250317_133934-e3i268yp</code>"
            ]
          },
          "metadata": {}
        },
        {
          "output_type": "display_data",
          "data": {
            "text/plain": [
              "<IPython.core.display.HTML object>"
            ],
            "text/html": [
              "Syncing run <strong><a href='https://wandb.ai/yeshu183-indian-institute-of-technology-madras/New%20Sweep/runs/e3i268yp' target=\"_blank\">rural-sweep-36</a></strong> to <a href='https://wandb.ai/yeshu183-indian-institute-of-technology-madras/New%20Sweep' target=\"_blank\">Weights & Biases</a> (<a href='https://wandb.me/developer-guide' target=\"_blank\">docs</a>)<br>Sweep page: <a href='https://wandb.ai/yeshu183-indian-institute-of-technology-madras/New%20Sweep/sweeps/surnww5r' target=\"_blank\">https://wandb.ai/yeshu183-indian-institute-of-technology-madras/New%20Sweep/sweeps/surnww5r</a>"
            ]
          },
          "metadata": {}
        },
        {
          "output_type": "display_data",
          "data": {
            "text/plain": [
              "<IPython.core.display.HTML object>"
            ],
            "text/html": [
              " View project at <a href='https://wandb.ai/yeshu183-indian-institute-of-technology-madras/New%20Sweep' target=\"_blank\">https://wandb.ai/yeshu183-indian-institute-of-technology-madras/New%20Sweep</a>"
            ]
          },
          "metadata": {}
        },
        {
          "output_type": "display_data",
          "data": {
            "text/plain": [
              "<IPython.core.display.HTML object>"
            ],
            "text/html": [
              " View sweep at <a href='https://wandb.ai/yeshu183-indian-institute-of-technology-madras/New%20Sweep/sweeps/surnww5r' target=\"_blank\">https://wandb.ai/yeshu183-indian-institute-of-technology-madras/New%20Sweep/sweeps/surnww5r</a>"
            ]
          },
          "metadata": {}
        },
        {
          "output_type": "display_data",
          "data": {
            "text/plain": [
              "<IPython.core.display.HTML object>"
            ],
            "text/html": [
              " View run at <a href='https://wandb.ai/yeshu183-indian-institute-of-technology-madras/New%20Sweep/runs/e3i268yp' target=\"_blank\">https://wandb.ai/yeshu183-indian-institute-of-technology-madras/New%20Sweep/runs/e3i268yp</a>"
            ]
          },
          "metadata": {}
        },
        {
          "output_type": "stream",
          "name": "stdout",
          "text": [
            "Epoch: 1 | Time: 12.04 | Train Loss: 0.0310 | Train Accuracy: 0.7853 | Val Loss: 0.0243 | Val Accuracy: 0.8332\n",
            "Epoch: 2 | Time: 12.41 | Train Loss: 0.0234 | Train Accuracy: 0.8413 | Val Loss: 0.0219 | Val Accuracy: 0.8527\n",
            "Epoch: 3 | Time: 12.01 | Train Loss: 0.0216 | Train Accuracy: 0.8522 | Val Loss: 0.0210 | Val Accuracy: 0.8527\n",
            "Epoch: 4 | Time: 11.82 | Train Loss: 0.0204 | Train Accuracy: 0.8612 | Val Loss: 0.0199 | Val Accuracy: 0.8617\n",
            "Epoch: 5 | Time: 13.52 | Train Loss: 0.0196 | Train Accuracy: 0.8659 | Val Loss: 0.0197 | Val Accuracy: 0.8618\n",
            "Epoch: 6 | Time: 13.03 | Train Loss: 0.0188 | Train Accuracy: 0.8717 | Val Loss: 0.0202 | Val Accuracy: 0.8617\n",
            "Epoch: 7 | Time: 12.95 | Train Loss: 0.0183 | Train Accuracy: 0.8736 | Val Loss: 0.0187 | Val Accuracy: 0.8687\n",
            "Epoch: 8 | Time: 13.21 | Train Loss: 0.0178 | Train Accuracy: 0.8781 | Val Loss: 0.0180 | Val Accuracy: 0.8745\n",
            "Epoch: 9 | Time: 13.22 | Train Loss: 0.0173 | Train Accuracy: 0.8816 | Val Loss: 0.0191 | Val Accuracy: 0.8658\n",
            "Epoch: 10 | Time: 12.95 | Train Loss: 0.0171 | Train Accuracy: 0.8826 | Val Loss: 0.0182 | Val Accuracy: 0.8718\n",
            "Validation Loss: 0.0182, Validation Accuracy: 0.8718\n"
          ]
        },
        {
          "output_type": "display_data",
          "data": {
            "text/plain": [
              "<IPython.core.display.HTML object>"
            ],
            "text/html": []
          },
          "metadata": {}
        },
        {
          "output_type": "display_data",
          "data": {
            "text/plain": [
              "<IPython.core.display.HTML object>"
            ],
            "text/html": [
              "<br>    <style><br>        .wandb-row {<br>            display: flex;<br>            flex-direction: row;<br>            flex-wrap: wrap;<br>            justify-content: flex-start;<br>            width: 100%;<br>        }<br>        .wandb-col {<br>            display: flex;<br>            flex-direction: column;<br>            flex-basis: 100%;<br>            flex: 1;<br>            padding: 10px;<br>        }<br>    </style><br><div class=\"wandb-row\"><div class=\"wandb-col\"><h3>Run history:</h3><br/><table class=\"wandb\"><tr><td>epoch</td><td>▁▂▃▃▄▅▆▆▇█</td></tr><tr><td>final_val_acc</td><td>▁</td></tr><tr><td>final_val_loss</td><td>▁</td></tr><tr><td>train_acc</td><td>▁▅▆▆▇▇▇███</td></tr><tr><td>train_loss</td><td>█▄▃▃▂▂▂▁▁▁</td></tr><tr><td>val_acc</td><td>▁▄▄▆▆▆▇█▇█</td></tr><tr><td>val_loss</td><td>█▅▄▃▃▃▂▁▂▁</td></tr></table><br/></div><div class=\"wandb-col\"><h3>Run summary:</h3><br/><table class=\"wandb\"><tr><td>epoch</td><td>10</td></tr><tr><td>final_val_acc</td><td>0.87183</td></tr><tr><td>final_val_loss</td><td>0.01816</td></tr></table><br/></div></div>"
            ]
          },
          "metadata": {}
        },
        {
          "output_type": "display_data",
          "data": {
            "text/plain": [
              "<IPython.core.display.HTML object>"
            ],
            "text/html": [
              " View run <strong style=\"color:#cdcd00\">e_10_hl_3_nhpl_64_bs_16_init_xavier_ac_relu_op_adam_lo_squared_error</strong> at: <a href='https://wandb.ai/yeshu183-indian-institute-of-technology-madras/New%20Sweep/runs/e3i268yp' target=\"_blank\">https://wandb.ai/yeshu183-indian-institute-of-technology-madras/New%20Sweep/runs/e3i268yp</a><br> View project at: <a href='https://wandb.ai/yeshu183-indian-institute-of-technology-madras/New%20Sweep' target=\"_blank\">https://wandb.ai/yeshu183-indian-institute-of-technology-madras/New%20Sweep</a><br>Synced 5 W&B file(s), 0 media file(s), 0 artifact file(s) and 0 other file(s)"
            ]
          },
          "metadata": {}
        },
        {
          "output_type": "display_data",
          "data": {
            "text/plain": [
              "<IPython.core.display.HTML object>"
            ],
            "text/html": [
              "Find logs at: <code>./wandb/run-20250317_133934-e3i268yp/logs</code>"
            ]
          },
          "metadata": {}
        },
        {
          "output_type": "stream",
          "name": "stderr",
          "text": [
            "\u001b[34m\u001b[1mwandb\u001b[0m: Agent Starting Run: 2bj81vnv with config:\n",
            "\u001b[34m\u001b[1mwandb\u001b[0m: \tactivation: tanh\n",
            "\u001b[34m\u001b[1mwandb\u001b[0m: \tbatch_size: 32\n",
            "\u001b[34m\u001b[1mwandb\u001b[0m: \tepochs: 10\n",
            "\u001b[34m\u001b[1mwandb\u001b[0m: \thid_layer_size: 128\n",
            "\u001b[34m\u001b[1mwandb\u001b[0m: \tl2_reg: 0\n",
            "\u001b[34m\u001b[1mwandb\u001b[0m: \tloss_func: cross_entropy_loss\n",
            "\u001b[34m\u001b[1mwandb\u001b[0m: \tlr: 0.0001\n",
            "\u001b[34m\u001b[1mwandb\u001b[0m: \tnum_hid_layers: 4\n",
            "\u001b[34m\u001b[1mwandb\u001b[0m: \toptimizer_func: adam\n",
            "\u001b[34m\u001b[1mwandb\u001b[0m: \tweight_init: xavier\n"
          ]
        },
        {
          "output_type": "display_data",
          "data": {
            "text/plain": [
              "<IPython.core.display.HTML object>"
            ],
            "text/html": [
              "Ignoring project 'New Sweep' when running a sweep."
            ]
          },
          "metadata": {}
        },
        {
          "output_type": "display_data",
          "data": {
            "text/plain": [
              "<IPython.core.display.HTML object>"
            ],
            "text/html": [
              "Tracking run with wandb version 0.19.8"
            ]
          },
          "metadata": {}
        },
        {
          "output_type": "display_data",
          "data": {
            "text/plain": [
              "<IPython.core.display.HTML object>"
            ],
            "text/html": [
              "Run data is saved locally in <code>/content/wandb/run-20250317_134146-2bj81vnv</code>"
            ]
          },
          "metadata": {}
        },
        {
          "output_type": "display_data",
          "data": {
            "text/plain": [
              "<IPython.core.display.HTML object>"
            ],
            "text/html": [
              "Syncing run <strong><a href='https://wandb.ai/yeshu183-indian-institute-of-technology-madras/New%20Sweep/runs/2bj81vnv' target=\"_blank\">genial-sweep-37</a></strong> to <a href='https://wandb.ai/yeshu183-indian-institute-of-technology-madras/New%20Sweep' target=\"_blank\">Weights & Biases</a> (<a href='https://wandb.me/developer-guide' target=\"_blank\">docs</a>)<br>Sweep page: <a href='https://wandb.ai/yeshu183-indian-institute-of-technology-madras/New%20Sweep/sweeps/surnww5r' target=\"_blank\">https://wandb.ai/yeshu183-indian-institute-of-technology-madras/New%20Sweep/sweeps/surnww5r</a>"
            ]
          },
          "metadata": {}
        },
        {
          "output_type": "display_data",
          "data": {
            "text/plain": [
              "<IPython.core.display.HTML object>"
            ],
            "text/html": [
              " View project at <a href='https://wandb.ai/yeshu183-indian-institute-of-technology-madras/New%20Sweep' target=\"_blank\">https://wandb.ai/yeshu183-indian-institute-of-technology-madras/New%20Sweep</a>"
            ]
          },
          "metadata": {}
        },
        {
          "output_type": "display_data",
          "data": {
            "text/plain": [
              "<IPython.core.display.HTML object>"
            ],
            "text/html": [
              " View sweep at <a href='https://wandb.ai/yeshu183-indian-institute-of-technology-madras/New%20Sweep/sweeps/surnww5r' target=\"_blank\">https://wandb.ai/yeshu183-indian-institute-of-technology-madras/New%20Sweep/sweeps/surnww5r</a>"
            ]
          },
          "metadata": {}
        },
        {
          "output_type": "display_data",
          "data": {
            "text/plain": [
              "<IPython.core.display.HTML object>"
            ],
            "text/html": [
              " View run at <a href='https://wandb.ai/yeshu183-indian-institute-of-technology-madras/New%20Sweep/runs/2bj81vnv' target=\"_blank\">https://wandb.ai/yeshu183-indian-institute-of-technology-madras/New%20Sweep/runs/2bj81vnv</a>"
            ]
          },
          "metadata": {}
        },
        {
          "output_type": "stream",
          "name": "stdout",
          "text": [
            "Epoch: 1 | Time: 20.27 | Train Loss: 0.5430 | Train Accuracy: 0.8095 | Val Loss: 0.4136 | Val Accuracy: 0.8543\n",
            "Epoch: 2 | Time: 20.84 | Train Loss: 0.3990 | Train Accuracy: 0.8564 | Val Loss: 0.3800 | Val Accuracy: 0.8670\n",
            "Epoch: 3 | Time: 19.00 | Train Loss: 0.3683 | Train Accuracy: 0.8670 | Val Loss: 0.3782 | Val Accuracy: 0.8643\n",
            "Epoch: 4 | Time: 21.57 | Train Loss: 0.3466 | Train Accuracy: 0.8749 | Val Loss: 0.3529 | Val Accuracy: 0.8747\n",
            "Epoch: 5 | Time: 18.95 | Train Loss: 0.3324 | Train Accuracy: 0.8792 | Val Loss: 0.3449 | Val Accuracy: 0.8783\n",
            "Epoch: 6 | Time: 18.78 | Train Loss: 0.3199 | Train Accuracy: 0.8836 | Val Loss: 0.3367 | Val Accuracy: 0.8775\n",
            "Epoch: 7 | Time: 21.50 | Train Loss: 0.3081 | Train Accuracy: 0.8878 | Val Loss: 0.3323 | Val Accuracy: 0.8822\n",
            "Epoch: 8 | Time: 18.82 | Train Loss: 0.2989 | Train Accuracy: 0.8896 | Val Loss: 0.3260 | Val Accuracy: 0.8828\n",
            "Epoch: 9 | Time: 19.49 | Train Loss: 0.2901 | Train Accuracy: 0.8927 | Val Loss: 0.3295 | Val Accuracy: 0.8797\n",
            "Epoch: 10 | Time: 21.01 | Train Loss: 0.2816 | Train Accuracy: 0.8968 | Val Loss: 0.3367 | Val Accuracy: 0.8767\n",
            "Validation Loss: 0.3367, Validation Accuracy: 0.8767\n"
          ]
        },
        {
          "output_type": "display_data",
          "data": {
            "text/plain": [
              "<IPython.core.display.HTML object>"
            ],
            "text/html": []
          },
          "metadata": {}
        },
        {
          "output_type": "display_data",
          "data": {
            "text/plain": [
              "<IPython.core.display.HTML object>"
            ],
            "text/html": [
              "<br>    <style><br>        .wandb-row {<br>            display: flex;<br>            flex-direction: row;<br>            flex-wrap: wrap;<br>            justify-content: flex-start;<br>            width: 100%;<br>        }<br>        .wandb-col {<br>            display: flex;<br>            flex-direction: column;<br>            flex-basis: 100%;<br>            flex: 1;<br>            padding: 10px;<br>        }<br>    </style><br><div class=\"wandb-row\"><div class=\"wandb-col\"><h3>Run history:</h3><br/><table class=\"wandb\"><tr><td>epoch</td><td>▁▂▃▃▄▅▆▆▇█</td></tr><tr><td>final_val_acc</td><td>▁</td></tr><tr><td>final_val_loss</td><td>▁</td></tr><tr><td>train_acc</td><td>▁▅▆▆▇▇▇▇██</td></tr><tr><td>train_loss</td><td>█▄▃▃▂▂▂▁▁▁</td></tr><tr><td>val_acc</td><td>▁▄▃▆▇▇██▇▆</td></tr><tr><td>val_loss</td><td>█▅▅▃▃▂▁▁▁▂</td></tr></table><br/></div><div class=\"wandb-col\"><h3>Run summary:</h3><br/><table class=\"wandb\"><tr><td>epoch</td><td>10</td></tr><tr><td>final_val_acc</td><td>0.87667</td></tr><tr><td>final_val_loss</td><td>0.33667</td></tr></table><br/></div></div>"
            ]
          },
          "metadata": {}
        },
        {
          "output_type": "display_data",
          "data": {
            "text/plain": [
              "<IPython.core.display.HTML object>"
            ],
            "text/html": [
              " View run <strong style=\"color:#cdcd00\">e_10_hl_4_nhpl_128_bs_32_init_xavier_ac_tanh_op_adam_lo_cross_entropy_loss</strong> at: <a href='https://wandb.ai/yeshu183-indian-institute-of-technology-madras/New%20Sweep/runs/2bj81vnv' target=\"_blank\">https://wandb.ai/yeshu183-indian-institute-of-technology-madras/New%20Sweep/runs/2bj81vnv</a><br> View project at: <a href='https://wandb.ai/yeshu183-indian-institute-of-technology-madras/New%20Sweep' target=\"_blank\">https://wandb.ai/yeshu183-indian-institute-of-technology-madras/New%20Sweep</a><br>Synced 5 W&B file(s), 0 media file(s), 0 artifact file(s) and 0 other file(s)"
            ]
          },
          "metadata": {}
        },
        {
          "output_type": "display_data",
          "data": {
            "text/plain": [
              "<IPython.core.display.HTML object>"
            ],
            "text/html": [
              "Find logs at: <code>./wandb/run-20250317_134146-2bj81vnv/logs</code>"
            ]
          },
          "metadata": {}
        },
        {
          "output_type": "stream",
          "name": "stderr",
          "text": [
            "\u001b[34m\u001b[1mwandb\u001b[0m: Agent Starting Run: abgkpito with config:\n",
            "\u001b[34m\u001b[1mwandb\u001b[0m: \tactivation: tanh\n",
            "\u001b[34m\u001b[1mwandb\u001b[0m: \tbatch_size: 16\n",
            "\u001b[34m\u001b[1mwandb\u001b[0m: \tepochs: 10\n",
            "\u001b[34m\u001b[1mwandb\u001b[0m: \thid_layer_size: 128\n",
            "\u001b[34m\u001b[1mwandb\u001b[0m: \tl2_reg: 0.0005\n",
            "\u001b[34m\u001b[1mwandb\u001b[0m: \tloss_func: cross_entropy_loss\n",
            "\u001b[34m\u001b[1mwandb\u001b[0m: \tlr: 0.0001\n",
            "\u001b[34m\u001b[1mwandb\u001b[0m: \tnum_hid_layers: 4\n",
            "\u001b[34m\u001b[1mwandb\u001b[0m: \toptimizer_func: rmsprop\n",
            "\u001b[34m\u001b[1mwandb\u001b[0m: \tweight_init: xavier\n"
          ]
        },
        {
          "output_type": "display_data",
          "data": {
            "text/plain": [
              "<IPython.core.display.HTML object>"
            ],
            "text/html": [
              "Ignoring project 'New Sweep' when running a sweep."
            ]
          },
          "metadata": {}
        },
        {
          "output_type": "display_data",
          "data": {
            "text/plain": [
              "<IPython.core.display.HTML object>"
            ],
            "text/html": [
              "Tracking run with wandb version 0.19.8"
            ]
          },
          "metadata": {}
        },
        {
          "output_type": "display_data",
          "data": {
            "text/plain": [
              "<IPython.core.display.HTML object>"
            ],
            "text/html": [
              "Run data is saved locally in <code>/content/wandb/run-20250317_134514-abgkpito</code>"
            ]
          },
          "metadata": {}
        },
        {
          "output_type": "display_data",
          "data": {
            "text/plain": [
              "<IPython.core.display.HTML object>"
            ],
            "text/html": [
              "Syncing run <strong><a href='https://wandb.ai/yeshu183-indian-institute-of-technology-madras/New%20Sweep/runs/abgkpito' target=\"_blank\">spring-sweep-38</a></strong> to <a href='https://wandb.ai/yeshu183-indian-institute-of-technology-madras/New%20Sweep' target=\"_blank\">Weights & Biases</a> (<a href='https://wandb.me/developer-guide' target=\"_blank\">docs</a>)<br>Sweep page: <a href='https://wandb.ai/yeshu183-indian-institute-of-technology-madras/New%20Sweep/sweeps/surnww5r' target=\"_blank\">https://wandb.ai/yeshu183-indian-institute-of-technology-madras/New%20Sweep/sweeps/surnww5r</a>"
            ]
          },
          "metadata": {}
        },
        {
          "output_type": "display_data",
          "data": {
            "text/plain": [
              "<IPython.core.display.HTML object>"
            ],
            "text/html": [
              " View project at <a href='https://wandb.ai/yeshu183-indian-institute-of-technology-madras/New%20Sweep' target=\"_blank\">https://wandb.ai/yeshu183-indian-institute-of-technology-madras/New%20Sweep</a>"
            ]
          },
          "metadata": {}
        },
        {
          "output_type": "display_data",
          "data": {
            "text/plain": [
              "<IPython.core.display.HTML object>"
            ],
            "text/html": [
              " View sweep at <a href='https://wandb.ai/yeshu183-indian-institute-of-technology-madras/New%20Sweep/sweeps/surnww5r' target=\"_blank\">https://wandb.ai/yeshu183-indian-institute-of-technology-madras/New%20Sweep/sweeps/surnww5r</a>"
            ]
          },
          "metadata": {}
        },
        {
          "output_type": "display_data",
          "data": {
            "text/plain": [
              "<IPython.core.display.HTML object>"
            ],
            "text/html": [
              " View run at <a href='https://wandb.ai/yeshu183-indian-institute-of-technology-madras/New%20Sweep/runs/abgkpito' target=\"_blank\">https://wandb.ai/yeshu183-indian-institute-of-technology-madras/New%20Sweep/runs/abgkpito</a>"
            ]
          },
          "metadata": {}
        },
        {
          "output_type": "stream",
          "name": "stdout",
          "text": [
            "Epoch: 1 | Time: 27.00 | Train Loss: 0.5519 | Train Accuracy: 0.8064 | Val Loss: 0.4287 | Val Accuracy: 0.8492\n",
            "Epoch: 2 | Time: 27.60 | Train Loss: 0.4130 | Train Accuracy: 0.8512 | Val Loss: 0.4003 | Val Accuracy: 0.8588\n",
            "Epoch: 3 | Time: 27.27 | Train Loss: 0.3830 | Train Accuracy: 0.8618 | Val Loss: 0.3728 | Val Accuracy: 0.8682\n",
            "Epoch: 4 | Time: 26.97 | Train Loss: 0.3642 | Train Accuracy: 0.8694 | Val Loss: 0.3686 | Val Accuracy: 0.8640\n",
            "Epoch: 5 | Time: 27.21 | Train Loss: 0.3520 | Train Accuracy: 0.8731 | Val Loss: 0.3742 | Val Accuracy: 0.8637\n",
            "Epoch: 6 | Time: 26.97 | Train Loss: 0.3405 | Train Accuracy: 0.8777 | Val Loss: 0.3503 | Val Accuracy: 0.8723\n",
            "Epoch: 7 | Time: 25.96 | Train Loss: 0.3331 | Train Accuracy: 0.8797 | Val Loss: 0.3468 | Val Accuracy: 0.8763\n",
            "Epoch: 8 | Time: 26.61 | Train Loss: 0.3261 | Train Accuracy: 0.8820 | Val Loss: 0.3441 | Val Accuracy: 0.8757\n",
            "Epoch: 9 | Time: 27.62 | Train Loss: 0.3184 | Train Accuracy: 0.8852 | Val Loss: 0.3379 | Val Accuracy: 0.8765\n",
            "Epoch: 10 | Time: 27.34 | Train Loss: 0.3124 | Train Accuracy: 0.8866 | Val Loss: 0.3435 | Val Accuracy: 0.8765\n",
            "Validation Loss: 0.3435, Validation Accuracy: 0.8765\n"
          ]
        },
        {
          "output_type": "display_data",
          "data": {
            "text/plain": [
              "<IPython.core.display.HTML object>"
            ],
            "text/html": []
          },
          "metadata": {}
        },
        {
          "output_type": "display_data",
          "data": {
            "text/plain": [
              "<IPython.core.display.HTML object>"
            ],
            "text/html": [
              "<br>    <style><br>        .wandb-row {<br>            display: flex;<br>            flex-direction: row;<br>            flex-wrap: wrap;<br>            justify-content: flex-start;<br>            width: 100%;<br>        }<br>        .wandb-col {<br>            display: flex;<br>            flex-direction: column;<br>            flex-basis: 100%;<br>            flex: 1;<br>            padding: 10px;<br>        }<br>    </style><br><div class=\"wandb-row\"><div class=\"wandb-col\"><h3>Run history:</h3><br/><table class=\"wandb\"><tr><td>epoch</td><td>▁▂▃▃▄▅▆▆▇█</td></tr><tr><td>final_val_acc</td><td>▁</td></tr><tr><td>final_val_loss</td><td>▁</td></tr><tr><td>train_acc</td><td>▁▅▆▆▇▇▇███</td></tr><tr><td>train_loss</td><td>█▄▃▃▂▂▂▁▁▁</td></tr><tr><td>val_acc</td><td>▁▃▆▅▅▇████</td></tr><tr><td>val_loss</td><td>█▆▄▃▄▂▂▁▁▁</td></tr></table><br/></div><div class=\"wandb-col\"><h3>Run summary:</h3><br/><table class=\"wandb\"><tr><td>epoch</td><td>10</td></tr><tr><td>final_val_acc</td><td>0.8765</td></tr><tr><td>final_val_loss</td><td>0.34355</td></tr></table><br/></div></div>"
            ]
          },
          "metadata": {}
        },
        {
          "output_type": "display_data",
          "data": {
            "text/plain": [
              "<IPython.core.display.HTML object>"
            ],
            "text/html": [
              " View run <strong style=\"color:#cdcd00\">e_10_hl_4_nhpl_128_bs_16_init_xavier_ac_tanh_op_rmsprop_lo_cross_entropy_loss</strong> at: <a href='https://wandb.ai/yeshu183-indian-institute-of-technology-madras/New%20Sweep/runs/abgkpito' target=\"_blank\">https://wandb.ai/yeshu183-indian-institute-of-technology-madras/New%20Sweep/runs/abgkpito</a><br> View project at: <a href='https://wandb.ai/yeshu183-indian-institute-of-technology-madras/New%20Sweep' target=\"_blank\">https://wandb.ai/yeshu183-indian-institute-of-technology-madras/New%20Sweep</a><br>Synced 5 W&B file(s), 0 media file(s), 0 artifact file(s) and 0 other file(s)"
            ]
          },
          "metadata": {}
        },
        {
          "output_type": "display_data",
          "data": {
            "text/plain": [
              "<IPython.core.display.HTML object>"
            ],
            "text/html": [
              "Find logs at: <code>./wandb/run-20250317_134514-abgkpito/logs</code>"
            ]
          },
          "metadata": {}
        },
        {
          "output_type": "stream",
          "name": "stderr",
          "text": [
            "\u001b[34m\u001b[1mwandb\u001b[0m: Agent Starting Run: g3p9hveo with config:\n",
            "\u001b[34m\u001b[1mwandb\u001b[0m: \tactivation: relu\n",
            "\u001b[34m\u001b[1mwandb\u001b[0m: \tbatch_size: 16\n",
            "\u001b[34m\u001b[1mwandb\u001b[0m: \tepochs: 10\n",
            "\u001b[34m\u001b[1mwandb\u001b[0m: \thid_layer_size: 128\n",
            "\u001b[34m\u001b[1mwandb\u001b[0m: \tl2_reg: 0\n",
            "\u001b[34m\u001b[1mwandb\u001b[0m: \tloss_func: cross_entropy_loss\n",
            "\u001b[34m\u001b[1mwandb\u001b[0m: \tlr: 0.0001\n",
            "\u001b[34m\u001b[1mwandb\u001b[0m: \tnum_hid_layers: 3\n",
            "\u001b[34m\u001b[1mwandb\u001b[0m: \toptimizer_func: rmsprop\n",
            "\u001b[34m\u001b[1mwandb\u001b[0m: \tweight_init: xavier\n"
          ]
        },
        {
          "output_type": "display_data",
          "data": {
            "text/plain": [
              "<IPython.core.display.HTML object>"
            ],
            "text/html": [
              "Ignoring project 'New Sweep' when running a sweep."
            ]
          },
          "metadata": {}
        },
        {
          "output_type": "display_data",
          "data": {
            "text/plain": [
              "<IPython.core.display.HTML object>"
            ],
            "text/html": [
              "Tracking run with wandb version 0.19.8"
            ]
          },
          "metadata": {}
        },
        {
          "output_type": "display_data",
          "data": {
            "text/plain": [
              "<IPython.core.display.HTML object>"
            ],
            "text/html": [
              "Run data is saved locally in <code>/content/wandb/run-20250317_134954-g3p9hveo</code>"
            ]
          },
          "metadata": {}
        },
        {
          "output_type": "display_data",
          "data": {
            "text/plain": [
              "<IPython.core.display.HTML object>"
            ],
            "text/html": [
              "Syncing run <strong><a href='https://wandb.ai/yeshu183-indian-institute-of-technology-madras/New%20Sweep/runs/g3p9hveo' target=\"_blank\">earnest-sweep-39</a></strong> to <a href='https://wandb.ai/yeshu183-indian-institute-of-technology-madras/New%20Sweep' target=\"_blank\">Weights & Biases</a> (<a href='https://wandb.me/developer-guide' target=\"_blank\">docs</a>)<br>Sweep page: <a href='https://wandb.ai/yeshu183-indian-institute-of-technology-madras/New%20Sweep/sweeps/surnww5r' target=\"_blank\">https://wandb.ai/yeshu183-indian-institute-of-technology-madras/New%20Sweep/sweeps/surnww5r</a>"
            ]
          },
          "metadata": {}
        },
        {
          "output_type": "display_data",
          "data": {
            "text/plain": [
              "<IPython.core.display.HTML object>"
            ],
            "text/html": [
              " View project at <a href='https://wandb.ai/yeshu183-indian-institute-of-technology-madras/New%20Sweep' target=\"_blank\">https://wandb.ai/yeshu183-indian-institute-of-technology-madras/New%20Sweep</a>"
            ]
          },
          "metadata": {}
        },
        {
          "output_type": "display_data",
          "data": {
            "text/plain": [
              "<IPython.core.display.HTML object>"
            ],
            "text/html": [
              " View sweep at <a href='https://wandb.ai/yeshu183-indian-institute-of-technology-madras/New%20Sweep/sweeps/surnww5r' target=\"_blank\">https://wandb.ai/yeshu183-indian-institute-of-technology-madras/New%20Sweep/sweeps/surnww5r</a>"
            ]
          },
          "metadata": {}
        },
        {
          "output_type": "display_data",
          "data": {
            "text/plain": [
              "<IPython.core.display.HTML object>"
            ],
            "text/html": [
              " View run at <a href='https://wandb.ai/yeshu183-indian-institute-of-technology-madras/New%20Sweep/runs/g3p9hveo' target=\"_blank\">https://wandb.ai/yeshu183-indian-institute-of-technology-madras/New%20Sweep/runs/g3p9hveo</a>"
            ]
          },
          "metadata": {}
        },
        {
          "output_type": "stream",
          "name": "stdout",
          "text": [
            "Epoch: 1 | Time: 18.80 | Train Loss: 0.6200 | Train Accuracy: 0.7915 | Val Loss: 0.4607 | Val Accuracy: 0.8355\n",
            "Epoch: 2 | Time: 18.61 | Train Loss: 0.4295 | Train Accuracy: 0.8473 | Val Loss: 0.4007 | Val Accuracy: 0.8605\n",
            "Epoch: 3 | Time: 20.97 | Train Loss: 0.3874 | Train Accuracy: 0.8622 | Val Loss: 0.3884 | Val Accuracy: 0.8625\n",
            "Epoch: 4 | Time: 19.07 | Train Loss: 0.3628 | Train Accuracy: 0.8698 | Val Loss: 0.3656 | Val Accuracy: 0.8697\n",
            "Epoch: 5 | Time: 19.05 | Train Loss: 0.3438 | Train Accuracy: 0.8769 | Val Loss: 0.3494 | Val Accuracy: 0.8745\n",
            "Epoch: 6 | Time: 20.29 | Train Loss: 0.3309 | Train Accuracy: 0.8829 | Val Loss: 0.3408 | Val Accuracy: 0.8772\n",
            "Epoch: 7 | Time: 18.66 | Train Loss: 0.3198 | Train Accuracy: 0.8852 | Val Loss: 0.3402 | Val Accuracy: 0.8795\n",
            "Epoch: 8 | Time: 18.68 | Train Loss: 0.3088 | Train Accuracy: 0.8893 | Val Loss: 0.3739 | Val Accuracy: 0.8635\n",
            "Epoch: 9 | Time: 21.05 | Train Loss: 0.3008 | Train Accuracy: 0.8921 | Val Loss: 0.3518 | Val Accuracy: 0.8753\n",
            "Epoch: 10 | Time: 19.64 | Train Loss: 0.2958 | Train Accuracy: 0.8953 | Val Loss: 0.3537 | Val Accuracy: 0.8785\n",
            "Validation Loss: 0.3537, Validation Accuracy: 0.8785\n"
          ]
        },
        {
          "output_type": "display_data",
          "data": {
            "text/plain": [
              "<IPython.core.display.HTML object>"
            ],
            "text/html": []
          },
          "metadata": {}
        },
        {
          "output_type": "display_data",
          "data": {
            "text/plain": [
              "<IPython.core.display.HTML object>"
            ],
            "text/html": [
              "<br>    <style><br>        .wandb-row {<br>            display: flex;<br>            flex-direction: row;<br>            flex-wrap: wrap;<br>            justify-content: flex-start;<br>            width: 100%;<br>        }<br>        .wandb-col {<br>            display: flex;<br>            flex-direction: column;<br>            flex-basis: 100%;<br>            flex: 1;<br>            padding: 10px;<br>        }<br>    </style><br><div class=\"wandb-row\"><div class=\"wandb-col\"><h3>Run history:</h3><br/><table class=\"wandb\"><tr><td>epoch</td><td>▁▂▃▃▄▅▆▆▇█</td></tr><tr><td>final_val_acc</td><td>▁</td></tr><tr><td>final_val_loss</td><td>▁</td></tr><tr><td>train_acc</td><td>▁▅▆▆▇▇▇███</td></tr><tr><td>train_loss</td><td>█▄▃▂▂▂▂▁▁▁</td></tr><tr><td>val_acc</td><td>▁▅▅▆▇██▅▇█</td></tr><tr><td>val_loss</td><td>█▅▄▂▂▁▁▃▂▂</td></tr></table><br/></div><div class=\"wandb-col\"><h3>Run summary:</h3><br/><table class=\"wandb\"><tr><td>epoch</td><td>10</td></tr><tr><td>final_val_acc</td><td>0.8785</td></tr><tr><td>final_val_loss</td><td>0.35368</td></tr></table><br/></div></div>"
            ]
          },
          "metadata": {}
        },
        {
          "output_type": "display_data",
          "data": {
            "text/plain": [
              "<IPython.core.display.HTML object>"
            ],
            "text/html": [
              " View run <strong style=\"color:#cdcd00\">e_10_hl_3_nhpl_128_bs_16_init_xavier_ac_relu_op_rmsprop_lo_cross_entropy_loss</strong> at: <a href='https://wandb.ai/yeshu183-indian-institute-of-technology-madras/New%20Sweep/runs/g3p9hveo' target=\"_blank\">https://wandb.ai/yeshu183-indian-institute-of-technology-madras/New%20Sweep/runs/g3p9hveo</a><br> View project at: <a href='https://wandb.ai/yeshu183-indian-institute-of-technology-madras/New%20Sweep' target=\"_blank\">https://wandb.ai/yeshu183-indian-institute-of-technology-madras/New%20Sweep</a><br>Synced 5 W&B file(s), 0 media file(s), 0 artifact file(s) and 0 other file(s)"
            ]
          },
          "metadata": {}
        },
        {
          "output_type": "display_data",
          "data": {
            "text/plain": [
              "<IPython.core.display.HTML object>"
            ],
            "text/html": [
              "Find logs at: <code>./wandb/run-20250317_134954-g3p9hveo/logs</code>"
            ]
          },
          "metadata": {}
        },
        {
          "output_type": "stream",
          "name": "stderr",
          "text": [
            "\u001b[34m\u001b[1mwandb\u001b[0m: Sweep Agent: Waiting for job.\n",
            "\u001b[34m\u001b[1mwandb\u001b[0m: Job received.\n",
            "\u001b[34m\u001b[1mwandb\u001b[0m: Agent Starting Run: z2u5rwvj with config:\n",
            "\u001b[34m\u001b[1mwandb\u001b[0m: \tactivation: relu\n",
            "\u001b[34m\u001b[1mwandb\u001b[0m: \tbatch_size: 64\n",
            "\u001b[34m\u001b[1mwandb\u001b[0m: \tepochs: 5\n",
            "\u001b[34m\u001b[1mwandb\u001b[0m: \thid_layer_size: 128\n",
            "\u001b[34m\u001b[1mwandb\u001b[0m: \tl2_reg: 0.0005\n",
            "\u001b[34m\u001b[1mwandb\u001b[0m: \tloss_func: cross_entropy_loss\n",
            "\u001b[34m\u001b[1mwandb\u001b[0m: \tlr: 0.0001\n",
            "\u001b[34m\u001b[1mwandb\u001b[0m: \tnum_hid_layers: 5\n",
            "\u001b[34m\u001b[1mwandb\u001b[0m: \toptimizer_func: adam\n",
            "\u001b[34m\u001b[1mwandb\u001b[0m: \tweight_init: xavier\n"
          ]
        },
        {
          "output_type": "display_data",
          "data": {
            "text/plain": [
              "<IPython.core.display.HTML object>"
            ],
            "text/html": [
              "Ignoring project 'New Sweep' when running a sweep."
            ]
          },
          "metadata": {}
        },
        {
          "output_type": "display_data",
          "data": {
            "text/plain": [
              "<IPython.core.display.HTML object>"
            ],
            "text/html": [
              "Tracking run with wandb version 0.19.8"
            ]
          },
          "metadata": {}
        },
        {
          "output_type": "display_data",
          "data": {
            "text/plain": [
              "<IPython.core.display.HTML object>"
            ],
            "text/html": [
              "Run data is saved locally in <code>/content/wandb/run-20250317_135323-z2u5rwvj</code>"
            ]
          },
          "metadata": {}
        },
        {
          "output_type": "display_data",
          "data": {
            "text/plain": [
              "<IPython.core.display.HTML object>"
            ],
            "text/html": [
              "Syncing run <strong><a href='https://wandb.ai/yeshu183-indian-institute-of-technology-madras/New%20Sweep/runs/z2u5rwvj' target=\"_blank\">fearless-sweep-40</a></strong> to <a href='https://wandb.ai/yeshu183-indian-institute-of-technology-madras/New%20Sweep' target=\"_blank\">Weights & Biases</a> (<a href='https://wandb.me/developer-guide' target=\"_blank\">docs</a>)<br>Sweep page: <a href='https://wandb.ai/yeshu183-indian-institute-of-technology-madras/New%20Sweep/sweeps/surnww5r' target=\"_blank\">https://wandb.ai/yeshu183-indian-institute-of-technology-madras/New%20Sweep/sweeps/surnww5r</a>"
            ]
          },
          "metadata": {}
        },
        {
          "output_type": "display_data",
          "data": {
            "text/plain": [
              "<IPython.core.display.HTML object>"
            ],
            "text/html": [
              " View project at <a href='https://wandb.ai/yeshu183-indian-institute-of-technology-madras/New%20Sweep' target=\"_blank\">https://wandb.ai/yeshu183-indian-institute-of-technology-madras/New%20Sweep</a>"
            ]
          },
          "metadata": {}
        },
        {
          "output_type": "display_data",
          "data": {
            "text/plain": [
              "<IPython.core.display.HTML object>"
            ],
            "text/html": [
              " View sweep at <a href='https://wandb.ai/yeshu183-indian-institute-of-technology-madras/New%20Sweep/sweeps/surnww5r' target=\"_blank\">https://wandb.ai/yeshu183-indian-institute-of-technology-madras/New%20Sweep/sweeps/surnww5r</a>"
            ]
          },
          "metadata": {}
        },
        {
          "output_type": "display_data",
          "data": {
            "text/plain": [
              "<IPython.core.display.HTML object>"
            ],
            "text/html": [
              " View run at <a href='https://wandb.ai/yeshu183-indian-institute-of-technology-madras/New%20Sweep/runs/z2u5rwvj' target=\"_blank\">https://wandb.ai/yeshu183-indian-institute-of-technology-madras/New%20Sweep/runs/z2u5rwvj</a>"
            ]
          },
          "metadata": {}
        },
        {
          "output_type": "stream",
          "name": "stdout",
          "text": [
            "Epoch: 1 | Time: 11.49 | Train Loss: 0.6603 | Train Accuracy: 0.7685 | Val Loss: 0.4560 | Val Accuracy: 0.8457\n",
            "Epoch: 2 | Time: 11.08 | Train Loss: 0.4354 | Train Accuracy: 0.8483 | Val Loss: 0.4135 | Val Accuracy: 0.8543\n",
            "Epoch: 3 | Time: 8.42 | Train Loss: 0.3985 | Train Accuracy: 0.8582 | Val Loss: 0.3871 | Val Accuracy: 0.8645\n",
            "Epoch: 4 | Time: 11.14 | Train Loss: 0.3748 | Train Accuracy: 0.8673 | Val Loss: 0.3733 | Val Accuracy: 0.8662\n",
            "Epoch: 5 | Time: 10.89 | Train Loss: 0.3569 | Train Accuracy: 0.8718 | Val Loss: 0.3605 | Val Accuracy: 0.8710\n",
            "Validation Loss: 0.3605, Validation Accuracy: 0.8710\n"
          ]
        },
        {
          "output_type": "display_data",
          "data": {
            "text/plain": [
              "<IPython.core.display.HTML object>"
            ],
            "text/html": []
          },
          "metadata": {}
        },
        {
          "output_type": "display_data",
          "data": {
            "text/plain": [
              "<IPython.core.display.HTML object>"
            ],
            "text/html": [
              "<br>    <style><br>        .wandb-row {<br>            display: flex;<br>            flex-direction: row;<br>            flex-wrap: wrap;<br>            justify-content: flex-start;<br>            width: 100%;<br>        }<br>        .wandb-col {<br>            display: flex;<br>            flex-direction: column;<br>            flex-basis: 100%;<br>            flex: 1;<br>            padding: 10px;<br>        }<br>    </style><br><div class=\"wandb-row\"><div class=\"wandb-col\"><h3>Run history:</h3><br/><table class=\"wandb\"><tr><td>epoch</td><td>▁▃▅▆█</td></tr><tr><td>final_val_acc</td><td>▁</td></tr><tr><td>final_val_loss</td><td>▁</td></tr><tr><td>train_acc</td><td>▁▆▇██</td></tr><tr><td>train_loss</td><td>█▃▂▁▁</td></tr><tr><td>val_acc</td><td>▁▃▆▇█</td></tr><tr><td>val_loss</td><td>█▅▃▂▁</td></tr></table><br/></div><div class=\"wandb-col\"><h3>Run summary:</h3><br/><table class=\"wandb\"><tr><td>epoch</td><td>5</td></tr><tr><td>final_val_acc</td><td>0.871</td></tr><tr><td>final_val_loss</td><td>0.36055</td></tr></table><br/></div></div>"
            ]
          },
          "metadata": {}
        },
        {
          "output_type": "display_data",
          "data": {
            "text/plain": [
              "<IPython.core.display.HTML object>"
            ],
            "text/html": [
              " View run <strong style=\"color:#cdcd00\">e_5_hl_5_nhpl_128_bs_64_init_xavier_ac_relu_op_adam_lo_cross_entropy_loss</strong> at: <a href='https://wandb.ai/yeshu183-indian-institute-of-technology-madras/New%20Sweep/runs/z2u5rwvj' target=\"_blank\">https://wandb.ai/yeshu183-indian-institute-of-technology-madras/New%20Sweep/runs/z2u5rwvj</a><br> View project at: <a href='https://wandb.ai/yeshu183-indian-institute-of-technology-madras/New%20Sweep' target=\"_blank\">https://wandb.ai/yeshu183-indian-institute-of-technology-madras/New%20Sweep</a><br>Synced 5 W&B file(s), 0 media file(s), 0 artifact file(s) and 0 other file(s)"
            ]
          },
          "metadata": {}
        },
        {
          "output_type": "display_data",
          "data": {
            "text/plain": [
              "<IPython.core.display.HTML object>"
            ],
            "text/html": [
              "Find logs at: <code>./wandb/run-20250317_135323-z2u5rwvj/logs</code>"
            ]
          },
          "metadata": {}
        },
        {
          "output_type": "stream",
          "name": "stderr",
          "text": [
            "\u001b[34m\u001b[1mwandb\u001b[0m: Agent Starting Run: g1pd3vmj with config:\n",
            "\u001b[34m\u001b[1mwandb\u001b[0m: \tactivation: relu\n",
            "\u001b[34m\u001b[1mwandb\u001b[0m: \tbatch_size: 64\n",
            "\u001b[34m\u001b[1mwandb\u001b[0m: \tepochs: 10\n",
            "\u001b[34m\u001b[1mwandb\u001b[0m: \thid_layer_size: 128\n",
            "\u001b[34m\u001b[1mwandb\u001b[0m: \tl2_reg: 0\n",
            "\u001b[34m\u001b[1mwandb\u001b[0m: \tloss_func: cross_entropy_loss\n",
            "\u001b[34m\u001b[1mwandb\u001b[0m: \tlr: 0.0001\n",
            "\u001b[34m\u001b[1mwandb\u001b[0m: \tnum_hid_layers: 3\n",
            "\u001b[34m\u001b[1mwandb\u001b[0m: \toptimizer_func: adam\n",
            "\u001b[34m\u001b[1mwandb\u001b[0m: \tweight_init: xavier\n"
          ]
        },
        {
          "output_type": "display_data",
          "data": {
            "text/plain": [
              "<IPython.core.display.HTML object>"
            ],
            "text/html": [
              "Ignoring project 'New Sweep' when running a sweep."
            ]
          },
          "metadata": {}
        },
        {
          "output_type": "display_data",
          "data": {
            "text/plain": [
              "<IPython.core.display.HTML object>"
            ],
            "text/html": [
              "Tracking run with wandb version 0.19.8"
            ]
          },
          "metadata": {}
        },
        {
          "output_type": "display_data",
          "data": {
            "text/plain": [
              "<IPython.core.display.HTML object>"
            ],
            "text/html": [
              "Run data is saved locally in <code>/content/wandb/run-20250317_135423-g1pd3vmj</code>"
            ]
          },
          "metadata": {}
        },
        {
          "output_type": "display_data",
          "data": {
            "text/plain": [
              "<IPython.core.display.HTML object>"
            ],
            "text/html": [
              "Syncing run <strong><a href='https://wandb.ai/yeshu183-indian-institute-of-technology-madras/New%20Sweep/runs/g1pd3vmj' target=\"_blank\">expert-sweep-41</a></strong> to <a href='https://wandb.ai/yeshu183-indian-institute-of-technology-madras/New%20Sweep' target=\"_blank\">Weights & Biases</a> (<a href='https://wandb.me/developer-guide' target=\"_blank\">docs</a>)<br>Sweep page: <a href='https://wandb.ai/yeshu183-indian-institute-of-technology-madras/New%20Sweep/sweeps/surnww5r' target=\"_blank\">https://wandb.ai/yeshu183-indian-institute-of-technology-madras/New%20Sweep/sweeps/surnww5r</a>"
            ]
          },
          "metadata": {}
        },
        {
          "output_type": "display_data",
          "data": {
            "text/plain": [
              "<IPython.core.display.HTML object>"
            ],
            "text/html": [
              " View project at <a href='https://wandb.ai/yeshu183-indian-institute-of-technology-madras/New%20Sweep' target=\"_blank\">https://wandb.ai/yeshu183-indian-institute-of-technology-madras/New%20Sweep</a>"
            ]
          },
          "metadata": {}
        },
        {
          "output_type": "display_data",
          "data": {
            "text/plain": [
              "<IPython.core.display.HTML object>"
            ],
            "text/html": [
              " View sweep at <a href='https://wandb.ai/yeshu183-indian-institute-of-technology-madras/New%20Sweep/sweeps/surnww5r' target=\"_blank\">https://wandb.ai/yeshu183-indian-institute-of-technology-madras/New%20Sweep/sweeps/surnww5r</a>"
            ]
          },
          "metadata": {}
        },
        {
          "output_type": "display_data",
          "data": {
            "text/plain": [
              "<IPython.core.display.HTML object>"
            ],
            "text/html": [
              " View run at <a href='https://wandb.ai/yeshu183-indian-institute-of-technology-madras/New%20Sweep/runs/g1pd3vmj' target=\"_blank\">https://wandb.ai/yeshu183-indian-institute-of-technology-madras/New%20Sweep/runs/g1pd3vmj</a>"
            ]
          },
          "metadata": {}
        },
        {
          "output_type": "stream",
          "name": "stdout",
          "text": [
            "Epoch: 1 | Time: 10.39 | Train Loss: 0.6774 | Train Accuracy: 0.7730 | Val Loss: 0.4629 | Val Accuracy: 0.8415\n",
            "Epoch: 2 | Time: 8.38 | Train Loss: 0.4381 | Train Accuracy: 0.8457 | Val Loss: 0.4156 | Val Accuracy: 0.8547\n",
            "Epoch: 3 | Time: 7.49 | Train Loss: 0.4000 | Train Accuracy: 0.8597 | Val Loss: 0.3894 | Val Accuracy: 0.8625\n",
            "Epoch: 4 | Time: 9.42 | Train Loss: 0.3772 | Train Accuracy: 0.8676 | Val Loss: 0.3825 | Val Accuracy: 0.8633\n",
            "Epoch: 5 | Time: 6.82 | Train Loss: 0.3609 | Train Accuracy: 0.8725 | Val Loss: 0.3747 | Val Accuracy: 0.8660\n",
            "Epoch: 6 | Time: 9.22 | Train Loss: 0.3473 | Train Accuracy: 0.8759 | Val Loss: 0.3621 | Val Accuracy: 0.8717\n",
            "Epoch: 7 | Time: 6.76 | Train Loss: 0.3381 | Train Accuracy: 0.8794 | Val Loss: 0.3529 | Val Accuracy: 0.8758\n",
            "Epoch: 8 | Time: 9.42 | Train Loss: 0.3279 | Train Accuracy: 0.8833 | Val Loss: 0.3562 | Val Accuracy: 0.8743\n",
            "Epoch: 9 | Time: 7.53 | Train Loss: 0.3174 | Train Accuracy: 0.8871 | Val Loss: 0.3418 | Val Accuracy: 0.8758\n",
            "Epoch: 10 | Time: 8.73 | Train Loss: 0.3112 | Train Accuracy: 0.8888 | Val Loss: 0.3363 | Val Accuracy: 0.8792\n",
            "Validation Loss: 0.3363, Validation Accuracy: 0.8792\n"
          ]
        },
        {
          "output_type": "display_data",
          "data": {
            "text/plain": [
              "<IPython.core.display.HTML object>"
            ],
            "text/html": []
          },
          "metadata": {}
        },
        {
          "output_type": "display_data",
          "data": {
            "text/plain": [
              "<IPython.core.display.HTML object>"
            ],
            "text/html": [
              "<br>    <style><br>        .wandb-row {<br>            display: flex;<br>            flex-direction: row;<br>            flex-wrap: wrap;<br>            justify-content: flex-start;<br>            width: 100%;<br>        }<br>        .wandb-col {<br>            display: flex;<br>            flex-direction: column;<br>            flex-basis: 100%;<br>            flex: 1;<br>            padding: 10px;<br>        }<br>    </style><br><div class=\"wandb-row\"><div class=\"wandb-col\"><h3>Run history:</h3><br/><table class=\"wandb\"><tr><td>epoch</td><td>▁▂▃▃▄▅▆▆▇█</td></tr><tr><td>final_val_acc</td><td>▁</td></tr><tr><td>final_val_loss</td><td>▁</td></tr><tr><td>train_acc</td><td>▁▅▆▇▇▇▇███</td></tr><tr><td>train_loss</td><td>█▃▃▂▂▂▂▁▁▁</td></tr><tr><td>val_acc</td><td>▁▃▅▅▆▇▇▇▇█</td></tr><tr><td>val_loss</td><td>█▅▄▄▃▂▂▂▁▁</td></tr></table><br/></div><div class=\"wandb-col\"><h3>Run summary:</h3><br/><table class=\"wandb\"><tr><td>epoch</td><td>10</td></tr><tr><td>final_val_acc</td><td>0.87917</td></tr><tr><td>final_val_loss</td><td>0.33633</td></tr></table><br/></div></div>"
            ]
          },
          "metadata": {}
        },
        {
          "output_type": "display_data",
          "data": {
            "text/plain": [
              "<IPython.core.display.HTML object>"
            ],
            "text/html": [
              " View run <strong style=\"color:#cdcd00\">e_10_hl_3_nhpl_128_bs_64_init_xavier_ac_relu_op_adam_lo_cross_entropy_loss</strong> at: <a href='https://wandb.ai/yeshu183-indian-institute-of-technology-madras/New%20Sweep/runs/g1pd3vmj' target=\"_blank\">https://wandb.ai/yeshu183-indian-institute-of-technology-madras/New%20Sweep/runs/g1pd3vmj</a><br> View project at: <a href='https://wandb.ai/yeshu183-indian-institute-of-technology-madras/New%20Sweep' target=\"_blank\">https://wandb.ai/yeshu183-indian-institute-of-technology-madras/New%20Sweep</a><br>Synced 5 W&B file(s), 0 media file(s), 0 artifact file(s) and 0 other file(s)"
            ]
          },
          "metadata": {}
        },
        {
          "output_type": "display_data",
          "data": {
            "text/plain": [
              "<IPython.core.display.HTML object>"
            ],
            "text/html": [
              "Find logs at: <code>./wandb/run-20250317_135423-g1pd3vmj/logs</code>"
            ]
          },
          "metadata": {}
        },
        {
          "output_type": "stream",
          "name": "stderr",
          "text": [
            "\u001b[34m\u001b[1mwandb\u001b[0m: Agent Starting Run: g55rhdxf with config:\n",
            "\u001b[34m\u001b[1mwandb\u001b[0m: \tactivation: tanh\n",
            "\u001b[34m\u001b[1mwandb\u001b[0m: \tbatch_size: 64\n",
            "\u001b[34m\u001b[1mwandb\u001b[0m: \tepochs: 10\n",
            "\u001b[34m\u001b[1mwandb\u001b[0m: \thid_layer_size: 128\n",
            "\u001b[34m\u001b[1mwandb\u001b[0m: \tl2_reg: 0\n",
            "\u001b[34m\u001b[1mwandb\u001b[0m: \tloss_func: cross_entropy_loss\n",
            "\u001b[34m\u001b[1mwandb\u001b[0m: \tlr: 0.0001\n",
            "\u001b[34m\u001b[1mwandb\u001b[0m: \tnum_hid_layers: 4\n",
            "\u001b[34m\u001b[1mwandb\u001b[0m: \toptimizer_func: adam\n",
            "\u001b[34m\u001b[1mwandb\u001b[0m: \tweight_init: xavier\n"
          ]
        },
        {
          "output_type": "display_data",
          "data": {
            "text/plain": [
              "<IPython.core.display.HTML object>"
            ],
            "text/html": [
              "Ignoring project 'New Sweep' when running a sweep."
            ]
          },
          "metadata": {}
        },
        {
          "output_type": "display_data",
          "data": {
            "text/plain": [
              "<IPython.core.display.HTML object>"
            ],
            "text/html": [
              "Tracking run with wandb version 0.19.8"
            ]
          },
          "metadata": {}
        },
        {
          "output_type": "display_data",
          "data": {
            "text/plain": [
              "<IPython.core.display.HTML object>"
            ],
            "text/html": [
              "Run data is saved locally in <code>/content/wandb/run-20250317_135555-g55rhdxf</code>"
            ]
          },
          "metadata": {}
        },
        {
          "output_type": "display_data",
          "data": {
            "text/plain": [
              "<IPython.core.display.HTML object>"
            ],
            "text/html": [
              "Syncing run <strong><a href='https://wandb.ai/yeshu183-indian-institute-of-technology-madras/New%20Sweep/runs/g55rhdxf' target=\"_blank\">exalted-sweep-42</a></strong> to <a href='https://wandb.ai/yeshu183-indian-institute-of-technology-madras/New%20Sweep' target=\"_blank\">Weights & Biases</a> (<a href='https://wandb.me/developer-guide' target=\"_blank\">docs</a>)<br>Sweep page: <a href='https://wandb.ai/yeshu183-indian-institute-of-technology-madras/New%20Sweep/sweeps/surnww5r' target=\"_blank\">https://wandb.ai/yeshu183-indian-institute-of-technology-madras/New%20Sweep/sweeps/surnww5r</a>"
            ]
          },
          "metadata": {}
        },
        {
          "output_type": "display_data",
          "data": {
            "text/plain": [
              "<IPython.core.display.HTML object>"
            ],
            "text/html": [
              " View project at <a href='https://wandb.ai/yeshu183-indian-institute-of-technology-madras/New%20Sweep' target=\"_blank\">https://wandb.ai/yeshu183-indian-institute-of-technology-madras/New%20Sweep</a>"
            ]
          },
          "metadata": {}
        },
        {
          "output_type": "display_data",
          "data": {
            "text/plain": [
              "<IPython.core.display.HTML object>"
            ],
            "text/html": [
              " View sweep at <a href='https://wandb.ai/yeshu183-indian-institute-of-technology-madras/New%20Sweep/sweeps/surnww5r' target=\"_blank\">https://wandb.ai/yeshu183-indian-institute-of-technology-madras/New%20Sweep/sweeps/surnww5r</a>"
            ]
          },
          "metadata": {}
        },
        {
          "output_type": "display_data",
          "data": {
            "text/plain": [
              "<IPython.core.display.HTML object>"
            ],
            "text/html": [
              " View run at <a href='https://wandb.ai/yeshu183-indian-institute-of-technology-madras/New%20Sweep/runs/g55rhdxf' target=\"_blank\">https://wandb.ai/yeshu183-indian-institute-of-technology-madras/New%20Sweep/runs/g55rhdxf</a>"
            ]
          },
          "metadata": {}
        },
        {
          "output_type": "stream",
          "name": "stdout",
          "text": [
            "Epoch: 1 | Time: 14.77 | Train Loss: 0.6012 | Train Accuracy: 0.7936 | Val Loss: 0.4393 | Val Accuracy: 0.8480\n",
            "Epoch: 2 | Time: 14.40 | Train Loss: 0.4120 | Train Accuracy: 0.8527 | Val Loss: 0.3956 | Val Accuracy: 0.8618\n",
            "Epoch: 3 | Time: 17.05 | Train Loss: 0.3807 | Train Accuracy: 0.8636 | Val Loss: 0.3872 | Val Accuracy: 0.8610\n",
            "Epoch: 4 | Time: 14.52 | Train Loss: 0.3614 | Train Accuracy: 0.8696 | Val Loss: 0.3694 | Val Accuracy: 0.8668\n",
            "Epoch: 5 | Time: 14.41 | Train Loss: 0.3466 | Train Accuracy: 0.8750 | Val Loss: 0.3609 | Val Accuracy: 0.8703\n",
            "Epoch: 6 | Time: 14.30 | Train Loss: 0.3355 | Train Accuracy: 0.8789 | Val Loss: 0.3527 | Val Accuracy: 0.8742\n",
            "Epoch: 7 | Time: 14.36 | Train Loss: 0.3256 | Train Accuracy: 0.8825 | Val Loss: 0.3379 | Val Accuracy: 0.8778\n",
            "Epoch: 8 | Time: 14.23 | Train Loss: 0.3152 | Train Accuracy: 0.8874 | Val Loss: 0.3461 | Val Accuracy: 0.8707\n",
            "Epoch: 9 | Time: 14.50 | Train Loss: 0.3096 | Train Accuracy: 0.8873 | Val Loss: 0.3354 | Val Accuracy: 0.8762\n",
            "Epoch: 10 | Time: 15.13 | Train Loss: 0.3009 | Train Accuracy: 0.8903 | Val Loss: 0.3410 | Val Accuracy: 0.8783\n",
            "Validation Loss: 0.3410, Validation Accuracy: 0.8783\n"
          ]
        },
        {
          "output_type": "display_data",
          "data": {
            "text/plain": [
              "<IPython.core.display.HTML object>"
            ],
            "text/html": []
          },
          "metadata": {}
        },
        {
          "output_type": "display_data",
          "data": {
            "text/plain": [
              "<IPython.core.display.HTML object>"
            ],
            "text/html": [
              "<br>    <style><br>        .wandb-row {<br>            display: flex;<br>            flex-direction: row;<br>            flex-wrap: wrap;<br>            justify-content: flex-start;<br>            width: 100%;<br>        }<br>        .wandb-col {<br>            display: flex;<br>            flex-direction: column;<br>            flex-basis: 100%;<br>            flex: 1;<br>            padding: 10px;<br>        }<br>    </style><br><div class=\"wandb-row\"><div class=\"wandb-col\"><h3>Run history:</h3><br/><table class=\"wandb\"><tr><td>epoch</td><td>▁▂▃▃▄▅▆▆▇█</td></tr><tr><td>final_val_acc</td><td>▁</td></tr><tr><td>final_val_loss</td><td>▁</td></tr><tr><td>train_acc</td><td>▁▅▆▇▇▇▇███</td></tr><tr><td>train_loss</td><td>█▄▃▂▂▂▂▁▁▁</td></tr><tr><td>val_acc</td><td>▁▄▄▅▆▇█▆▇█</td></tr><tr><td>val_loss</td><td>█▅▄▃▃▂▁▂▁▁</td></tr></table><br/></div><div class=\"wandb-col\"><h3>Run summary:</h3><br/><table class=\"wandb\"><tr><td>epoch</td><td>10</td></tr><tr><td>final_val_acc</td><td>0.87833</td></tr><tr><td>final_val_loss</td><td>0.34098</td></tr></table><br/></div></div>"
            ]
          },
          "metadata": {}
        },
        {
          "output_type": "display_data",
          "data": {
            "text/plain": [
              "<IPython.core.display.HTML object>"
            ],
            "text/html": [
              " View run <strong style=\"color:#cdcd00\">e_10_hl_4_nhpl_128_bs_64_init_xavier_ac_tanh_op_adam_lo_cross_entropy_loss</strong> at: <a href='https://wandb.ai/yeshu183-indian-institute-of-technology-madras/New%20Sweep/runs/g55rhdxf' target=\"_blank\">https://wandb.ai/yeshu183-indian-institute-of-technology-madras/New%20Sweep/runs/g55rhdxf</a><br> View project at: <a href='https://wandb.ai/yeshu183-indian-institute-of-technology-madras/New%20Sweep' target=\"_blank\">https://wandb.ai/yeshu183-indian-institute-of-technology-madras/New%20Sweep</a><br>Synced 5 W&B file(s), 0 media file(s), 0 artifact file(s) and 0 other file(s)"
            ]
          },
          "metadata": {}
        },
        {
          "output_type": "display_data",
          "data": {
            "text/plain": [
              "<IPython.core.display.HTML object>"
            ],
            "text/html": [
              "Find logs at: <code>./wandb/run-20250317_135555-g55rhdxf/logs</code>"
            ]
          },
          "metadata": {}
        },
        {
          "output_type": "stream",
          "name": "stderr",
          "text": [
            "\u001b[34m\u001b[1mwandb\u001b[0m: Agent Starting Run: pqeffmki with config:\n",
            "\u001b[34m\u001b[1mwandb\u001b[0m: \tactivation: relu\n",
            "\u001b[34m\u001b[1mwandb\u001b[0m: \tbatch_size: 64\n",
            "\u001b[34m\u001b[1mwandb\u001b[0m: \tepochs: 10\n",
            "\u001b[34m\u001b[1mwandb\u001b[0m: \thid_layer_size: 128\n",
            "\u001b[34m\u001b[1mwandb\u001b[0m: \tl2_reg: 0.0005\n",
            "\u001b[34m\u001b[1mwandb\u001b[0m: \tloss_func: cross_entropy_loss\n",
            "\u001b[34m\u001b[1mwandb\u001b[0m: \tlr: 0.001\n",
            "\u001b[34m\u001b[1mwandb\u001b[0m: \tnum_hid_layers: 4\n",
            "\u001b[34m\u001b[1mwandb\u001b[0m: \toptimizer_func: rmsprop\n",
            "\u001b[34m\u001b[1mwandb\u001b[0m: \tweight_init: xavier\n"
          ]
        },
        {
          "output_type": "display_data",
          "data": {
            "text/plain": [
              "<IPython.core.display.HTML object>"
            ],
            "text/html": [
              "Ignoring project 'New Sweep' when running a sweep."
            ]
          },
          "metadata": {}
        },
        {
          "output_type": "display_data",
          "data": {
            "text/plain": [
              "<IPython.core.display.HTML object>"
            ],
            "text/html": [
              "Tracking run with wandb version 0.19.8"
            ]
          },
          "metadata": {}
        },
        {
          "output_type": "display_data",
          "data": {
            "text/plain": [
              "<IPython.core.display.HTML object>"
            ],
            "text/html": [
              "Run data is saved locally in <code>/content/wandb/run-20250317_135832-pqeffmki</code>"
            ]
          },
          "metadata": {}
        },
        {
          "output_type": "display_data",
          "data": {
            "text/plain": [
              "<IPython.core.display.HTML object>"
            ],
            "text/html": [
              "Syncing run <strong><a href='https://wandb.ai/yeshu183-indian-institute-of-technology-madras/New%20Sweep/runs/pqeffmki' target=\"_blank\">sleek-sweep-43</a></strong> to <a href='https://wandb.ai/yeshu183-indian-institute-of-technology-madras/New%20Sweep' target=\"_blank\">Weights & Biases</a> (<a href='https://wandb.me/developer-guide' target=\"_blank\">docs</a>)<br>Sweep page: <a href='https://wandb.ai/yeshu183-indian-institute-of-technology-madras/New%20Sweep/sweeps/surnww5r' target=\"_blank\">https://wandb.ai/yeshu183-indian-institute-of-technology-madras/New%20Sweep/sweeps/surnww5r</a>"
            ]
          },
          "metadata": {}
        },
        {
          "output_type": "display_data",
          "data": {
            "text/plain": [
              "<IPython.core.display.HTML object>"
            ],
            "text/html": [
              " View project at <a href='https://wandb.ai/yeshu183-indian-institute-of-technology-madras/New%20Sweep' target=\"_blank\">https://wandb.ai/yeshu183-indian-institute-of-technology-madras/New%20Sweep</a>"
            ]
          },
          "metadata": {}
        },
        {
          "output_type": "display_data",
          "data": {
            "text/plain": [
              "<IPython.core.display.HTML object>"
            ],
            "text/html": [
              " View sweep at <a href='https://wandb.ai/yeshu183-indian-institute-of-technology-madras/New%20Sweep/sweeps/surnww5r' target=\"_blank\">https://wandb.ai/yeshu183-indian-institute-of-technology-madras/New%20Sweep/sweeps/surnww5r</a>"
            ]
          },
          "metadata": {}
        },
        {
          "output_type": "display_data",
          "data": {
            "text/plain": [
              "<IPython.core.display.HTML object>"
            ],
            "text/html": [
              " View run at <a href='https://wandb.ai/yeshu183-indian-institute-of-technology-madras/New%20Sweep/runs/pqeffmki' target=\"_blank\">https://wandb.ai/yeshu183-indian-institute-of-technology-madras/New%20Sweep/runs/pqeffmki</a>"
            ]
          },
          "metadata": {}
        },
        {
          "output_type": "stream",
          "name": "stdout",
          "text": [
            "Epoch: 1 | Time: 6.64 | Train Loss: 0.5651 | Train Accuracy: 0.7927 | Val Loss: 0.4454 | Val Accuracy: 0.8398\n",
            "Epoch: 2 | Time: 8.93 | Train Loss: 0.4166 | Train Accuracy: 0.8473 | Val Loss: 0.4162 | Val Accuracy: 0.8482\n",
            "Epoch: 3 | Time: 7.56 | Train Loss: 0.3818 | Train Accuracy: 0.8627 | Val Loss: 0.4144 | Val Accuracy: 0.8495\n",
            "Epoch: 4 | Time: 8.50 | Train Loss: 0.3607 | Train Accuracy: 0.8681 | Val Loss: 0.3689 | Val Accuracy: 0.8683\n",
            "Epoch: 5 | Time: 9.29 | Train Loss: 0.3485 | Train Accuracy: 0.8737 | Val Loss: 0.4140 | Val Accuracy: 0.8563\n",
            "Epoch: 6 | Time: 6.57 | Train Loss: 0.3369 | Train Accuracy: 0.8759 | Val Loss: 0.3738 | Val Accuracy: 0.8685\n",
            "Epoch: 7 | Time: 9.25 | Train Loss: 0.3283 | Train Accuracy: 0.8793 | Val Loss: 0.3992 | Val Accuracy: 0.8572\n",
            "Epoch: 8 | Time: 6.57 | Train Loss: 0.3239 | Train Accuracy: 0.8811 | Val Loss: 0.3397 | Val Accuracy: 0.8780\n",
            "Epoch: 9 | Time: 9.16 | Train Loss: 0.3157 | Train Accuracy: 0.8838 | Val Loss: 0.3559 | Val Accuracy: 0.8765\n",
            "Epoch: 10 | Time: 6.53 | Train Loss: 0.3099 | Train Accuracy: 0.8858 | Val Loss: 0.3649 | Val Accuracy: 0.8715\n",
            "Validation Loss: 0.3649, Validation Accuracy: 0.8715\n"
          ]
        },
        {
          "output_type": "display_data",
          "data": {
            "text/plain": [
              "<IPython.core.display.HTML object>"
            ],
            "text/html": []
          },
          "metadata": {}
        },
        {
          "output_type": "display_data",
          "data": {
            "text/plain": [
              "<IPython.core.display.HTML object>"
            ],
            "text/html": [
              "<br>    <style><br>        .wandb-row {<br>            display: flex;<br>            flex-direction: row;<br>            flex-wrap: wrap;<br>            justify-content: flex-start;<br>            width: 100%;<br>        }<br>        .wandb-col {<br>            display: flex;<br>            flex-direction: column;<br>            flex-basis: 100%;<br>            flex: 1;<br>            padding: 10px;<br>        }<br>    </style><br><div class=\"wandb-row\"><div class=\"wandb-col\"><h3>Run history:</h3><br/><table class=\"wandb\"><tr><td>epoch</td><td>▁▂▃▃▄▅▆▆▇█</td></tr><tr><td>final_val_acc</td><td>▁</td></tr><tr><td>final_val_loss</td><td>▁</td></tr><tr><td>train_acc</td><td>▁▅▆▇▇▇████</td></tr><tr><td>train_loss</td><td>█▄▃▂▂▂▂▁▁▁</td></tr><tr><td>val_acc</td><td>▁▃▃▆▄▆▄██▇</td></tr><tr><td>val_loss</td><td>█▆▆▃▆▃▅▁▂▃</td></tr></table><br/></div><div class=\"wandb-col\"><h3>Run summary:</h3><br/><table class=\"wandb\"><tr><td>epoch</td><td>10</td></tr><tr><td>final_val_acc</td><td>0.8715</td></tr><tr><td>final_val_loss</td><td>0.36493</td></tr></table><br/></div></div>"
            ]
          },
          "metadata": {}
        },
        {
          "output_type": "display_data",
          "data": {
            "text/plain": [
              "<IPython.core.display.HTML object>"
            ],
            "text/html": [
              " View run <strong style=\"color:#cdcd00\">e_10_hl_4_nhpl_128_bs_64_init_xavier_ac_relu_op_rmsprop_lo_cross_entropy_loss</strong> at: <a href='https://wandb.ai/yeshu183-indian-institute-of-technology-madras/New%20Sweep/runs/pqeffmki' target=\"_blank\">https://wandb.ai/yeshu183-indian-institute-of-technology-madras/New%20Sweep/runs/pqeffmki</a><br> View project at: <a href='https://wandb.ai/yeshu183-indian-institute-of-technology-madras/New%20Sweep' target=\"_blank\">https://wandb.ai/yeshu183-indian-institute-of-technology-madras/New%20Sweep</a><br>Synced 5 W&B file(s), 0 media file(s), 0 artifact file(s) and 0 other file(s)"
            ]
          },
          "metadata": {}
        },
        {
          "output_type": "display_data",
          "data": {
            "text/plain": [
              "<IPython.core.display.HTML object>"
            ],
            "text/html": [
              "Find logs at: <code>./wandb/run-20250317_135832-pqeffmki/logs</code>"
            ]
          },
          "metadata": {}
        },
        {
          "output_type": "stream",
          "name": "stderr",
          "text": [
            "\u001b[34m\u001b[1mwandb\u001b[0m: Agent Starting Run: c34mupo2 with config:\n",
            "\u001b[34m\u001b[1mwandb\u001b[0m: \tactivation: tanh\n",
            "\u001b[34m\u001b[1mwandb\u001b[0m: \tbatch_size: 32\n",
            "\u001b[34m\u001b[1mwandb\u001b[0m: \tepochs: 10\n",
            "\u001b[34m\u001b[1mwandb\u001b[0m: \thid_layer_size: 64\n",
            "\u001b[34m\u001b[1mwandb\u001b[0m: \tl2_reg: 0\n",
            "\u001b[34m\u001b[1mwandb\u001b[0m: \tloss_func: cross_entropy_loss\n",
            "\u001b[34m\u001b[1mwandb\u001b[0m: \tlr: 0.0001\n",
            "\u001b[34m\u001b[1mwandb\u001b[0m: \tnum_hid_layers: 3\n",
            "\u001b[34m\u001b[1mwandb\u001b[0m: \toptimizer_func: adam\n",
            "\u001b[34m\u001b[1mwandb\u001b[0m: \tweight_init: xavier\n"
          ]
        },
        {
          "output_type": "display_data",
          "data": {
            "text/plain": [
              "<IPython.core.display.HTML object>"
            ],
            "text/html": [
              "Ignoring project 'New Sweep' when running a sweep."
            ]
          },
          "metadata": {}
        },
        {
          "output_type": "display_data",
          "data": {
            "text/plain": [
              "<IPython.core.display.HTML object>"
            ],
            "text/html": [
              "Tracking run with wandb version 0.19.8"
            ]
          },
          "metadata": {}
        },
        {
          "output_type": "display_data",
          "data": {
            "text/plain": [
              "<IPython.core.display.HTML object>"
            ],
            "text/html": [
              "Run data is saved locally in <code>/content/wandb/run-20250317_140000-c34mupo2</code>"
            ]
          },
          "metadata": {}
        },
        {
          "output_type": "display_data",
          "data": {
            "text/plain": [
              "<IPython.core.display.HTML object>"
            ],
            "text/html": [
              "Syncing run <strong><a href='https://wandb.ai/yeshu183-indian-institute-of-technology-madras/New%20Sweep/runs/c34mupo2' target=\"_blank\">treasured-sweep-44</a></strong> to <a href='https://wandb.ai/yeshu183-indian-institute-of-technology-madras/New%20Sweep' target=\"_blank\">Weights & Biases</a> (<a href='https://wandb.me/developer-guide' target=\"_blank\">docs</a>)<br>Sweep page: <a href='https://wandb.ai/yeshu183-indian-institute-of-technology-madras/New%20Sweep/sweeps/surnww5r' target=\"_blank\">https://wandb.ai/yeshu183-indian-institute-of-technology-madras/New%20Sweep/sweeps/surnww5r</a>"
            ]
          },
          "metadata": {}
        },
        {
          "output_type": "display_data",
          "data": {
            "text/plain": [
              "<IPython.core.display.HTML object>"
            ],
            "text/html": [
              " View project at <a href='https://wandb.ai/yeshu183-indian-institute-of-technology-madras/New%20Sweep' target=\"_blank\">https://wandb.ai/yeshu183-indian-institute-of-technology-madras/New%20Sweep</a>"
            ]
          },
          "metadata": {}
        },
        {
          "output_type": "display_data",
          "data": {
            "text/plain": [
              "<IPython.core.display.HTML object>"
            ],
            "text/html": [
              " View sweep at <a href='https://wandb.ai/yeshu183-indian-institute-of-technology-madras/New%20Sweep/sweeps/surnww5r' target=\"_blank\">https://wandb.ai/yeshu183-indian-institute-of-technology-madras/New%20Sweep/sweeps/surnww5r</a>"
            ]
          },
          "metadata": {}
        },
        {
          "output_type": "display_data",
          "data": {
            "text/plain": [
              "<IPython.core.display.HTML object>"
            ],
            "text/html": [
              " View run at <a href='https://wandb.ai/yeshu183-indian-institute-of-technology-madras/New%20Sweep/runs/c34mupo2' target=\"_blank\">https://wandb.ai/yeshu183-indian-institute-of-technology-madras/New%20Sweep/runs/c34mupo2</a>"
            ]
          },
          "metadata": {}
        },
        {
          "output_type": "stream",
          "name": "stdout",
          "text": [
            "Epoch: 1 | Time: 8.96 | Train Loss: 0.6572 | Train Accuracy: 0.7829 | Val Loss: 0.4627 | Val Accuracy: 0.8427\n",
            "Epoch: 2 | Time: 8.88 | Train Loss: 0.4406 | Train Accuracy: 0.8442 | Val Loss: 0.4165 | Val Accuracy: 0.8545\n",
            "Epoch: 3 | Time: 9.83 | Train Loss: 0.4032 | Train Accuracy: 0.8567 | Val Loss: 0.3913 | Val Accuracy: 0.8660\n"
          ]
        }
      ]
    },
    {
      "cell_type": "code",
      "source": [
        "print(wandb.Api().default_entity)"
      ],
      "metadata": {
        "colab": {
          "base_uri": "https://localhost:8080/"
        },
        "id": "Tw15r7bG6DSg",
        "outputId": "4df244ac-189a-4b9b-9c45-0f75190ef519"
      },
      "execution_count": 16,
      "outputs": [
        {
          "output_type": "stream",
          "name": "stdout",
          "text": [
            "yeshu183-indian-institute-of-technology-madras\n"
          ]
        }
      ]
    },
    {
      "cell_type": "code",
      "source": [
        "\n",
        "# Connect to W&B\n",
        "api = wandb.Api()\n",
        "\n",
        "# Replace with your project name\n",
        "project_name = \"New Sweep\"\n",
        "entity_name = wandb.Api().default_entity\n",
        "\n",
        "# Get all runs\n",
        "runs = api.runs(f\"{entity_name}/{project_name}\")\n",
        "\n",
        "# Find the best run based on `final_val_acc`\n",
        "best_run = max(runs, key=lambda run: run.summary.get(\"final_val_acc\", 0))\n",
        "\n",
        "print(f\"Best run ID: {best_run.id}, Accuracy: {best_run.summary.get('final_val_acc', 0)}\")\n",
        "\n",
        "# Download the best model\n",
        "best_run.file(\"best_model.pkl\").download(replace=True)\n",
        "print(\"Best model downloaded successfully!\")\n",
        "\n",
        "# Load the saved model\n",
        "with open(\"best_model.pkl\", \"rb\") as f:\n",
        "    best_model = pickle.load(f)\n",
        "\n",
        "print(\"Best model loaded successfully!\")\n"
      ],
      "metadata": {
        "colab": {
          "base_uri": "https://localhost:8080/"
        },
        "id": "SmIXqAYp5scG",
        "outputId": "0a3addb2-98be-4412-8a97-ad406f96a8d0"
      },
      "execution_count": 16,
      "outputs": [
        {
          "output_type": "stream",
          "name": "stdout",
          "text": [
            "Best run ID: athnjci4, Accuracy: 0.8815\n",
            "Best model downloaded successfully!\n",
            "Best model loaded successfully!\n"
          ]
        }
      ]
    },
    {
      "cell_type": "markdown",
      "source": [
        "## Test accuracy calculation"
      ],
      "metadata": {
        "id": "Nbno2aqV7Osc"
      }
    },
    {
      "cell_type": "code",
      "source": [
        "\n",
        "# Initialize W&B for testing\n",
        "wandb.finish()\n",
        "wandb.init(project=project_name, entity=entity_name, force=True)\n",
        "wandb.run.name = \"Best Model Evaluation\"\n",
        "wandb.run.save()\n",
        "\n",
        "# Run inference on the test set\n",
        "a_list_test, h_list_test = best_model.forward(x_test)\n",
        "y_hat_test = h_list_test[best_model.n_h+1]\n",
        "\n",
        "# Compute test loss and accuracy\n",
        "final_test_loss = best_model.loss(y_hat_test, best_model.one_hot(y_test))\n",
        "final_test_acc = best_model.accuracy(np.argmax(np.array(y_hat_test), axis=1), y_test)\n",
        "\n",
        "print(f\"Test Loss: {final_test_loss:.4f}, Test Accuracy: {final_test_acc:.4f}\")\n",
        "\n",
        "# Log results and confusion matrix\n",
        "wandb.log({\n",
        "    \"test_loss\": final_test_loss,\n",
        "    \"test_acc\": final_test_acc,\n",
        "    \"confusion_matrix\": wandb.plot.confusion_matrix(\n",
        "        probs=None,\n",
        "        y_true=y_test,\n",
        "        preds=np.argmax(np.array(y_hat_test), axis=1),\n",
        "        class_names=list(range(10))  # Change based on actual class names\n",
        "    )\n",
        "})\n",
        "\n",
        "wandb.finish()\n"
      ],
      "metadata": {
        "colab": {
          "base_uri": "https://localhost:8080/",
          "height": 657
        },
        "id": "XqipqJFpEIrP",
        "outputId": "7e863a77-b127-44fa-b0d1-7ddc7f1157a4"
      },
      "execution_count": 30,
      "outputs": [
        {
          "output_type": "display_data",
          "data": {
            "text/plain": [
              "<IPython.core.display.HTML object>"
            ],
            "text/html": [
              "Changes to your `wandb` environment variables will be ignored because your `wandb` session has already started. For more information on how to modify your settings with `wandb.init()` arguments, please refer to <a href='https://wandb.me/wandb-init' target=\"_blank\">the W&B docs</a>."
            ]
          },
          "metadata": {}
        },
        {
          "output_type": "display_data",
          "data": {
            "text/plain": [
              "<IPython.core.display.HTML object>"
            ],
            "text/html": [
              "Ignoring project 'New Sweep' when running a sweep."
            ]
          },
          "metadata": {}
        },
        {
          "output_type": "display_data",
          "data": {
            "text/plain": [
              "<IPython.core.display.HTML object>"
            ],
            "text/html": [
              "Ignoring entity 'yeshu183-indian-institute-of-technology-madras' when running a sweep."
            ]
          },
          "metadata": {}
        },
        {
          "output_type": "display_data",
          "data": {
            "text/plain": [
              "<IPython.core.display.HTML object>"
            ],
            "text/html": [
              "Tracking run with wandb version 0.19.8"
            ]
          },
          "metadata": {}
        },
        {
          "output_type": "display_data",
          "data": {
            "text/plain": [
              "<IPython.core.display.HTML object>"
            ],
            "text/html": [
              "Run data is saved locally in <code>/content/wandb/run-20250317_074902-rrk0tpkr</code>"
            ]
          },
          "metadata": {}
        },
        {
          "output_type": "display_data",
          "data": {
            "text/plain": [
              "<IPython.core.display.HTML object>"
            ],
            "text/html": [
              "Syncing run <strong><a href='https://wandb.ai/yeshu183-indian-institute-of-technology-madras/New%20Sweep/runs/rrk0tpkr' target=\"_blank\">Best Model Evaluation</a></strong> to <a href='https://wandb.ai/yeshu183-indian-institute-of-technology-madras/New%20Sweep' target=\"_blank\">Weights & Biases</a> (<a href='https://wandb.me/developer-guide' target=\"_blank\">docs</a>)<br>Sweep page: <a href='https://wandb.ai/yeshu183-indian-institute-of-technology-madras/New%20Sweep/sweeps/98xkw814' target=\"_blank\">https://wandb.ai/yeshu183-indian-institute-of-technology-madras/New%20Sweep/sweeps/98xkw814</a>"
            ]
          },
          "metadata": {}
        },
        {
          "output_type": "display_data",
          "data": {
            "text/plain": [
              "<IPython.core.display.HTML object>"
            ],
            "text/html": [
              " View project at <a href='https://wandb.ai/yeshu183-indian-institute-of-technology-madras/New%20Sweep' target=\"_blank\">https://wandb.ai/yeshu183-indian-institute-of-technology-madras/New%20Sweep</a>"
            ]
          },
          "metadata": {}
        },
        {
          "output_type": "display_data",
          "data": {
            "text/plain": [
              "<IPython.core.display.HTML object>"
            ],
            "text/html": [
              " View sweep at <a href='https://wandb.ai/yeshu183-indian-institute-of-technology-madras/New%20Sweep/sweeps/98xkw814' target=\"_blank\">https://wandb.ai/yeshu183-indian-institute-of-technology-madras/New%20Sweep/sweeps/98xkw814</a>"
            ]
          },
          "metadata": {}
        },
        {
          "output_type": "display_data",
          "data": {
            "text/plain": [
              "<IPython.core.display.HTML object>"
            ],
            "text/html": [
              " View run at <a href='https://wandb.ai/yeshu183-indian-institute-of-technology-madras/New%20Sweep/runs/rrk0tpkr' target=\"_blank\">https://wandb.ai/yeshu183-indian-institute-of-technology-madras/New%20Sweep/runs/rrk0tpkr</a>"
            ]
          },
          "metadata": {}
        },
        {
          "output_type": "stream",
          "name": "stdout",
          "text": [
            "Test Loss: 0.3666, Test Accuracy: 0.8716\n"
          ]
        },
        {
          "output_type": "stream",
          "name": "stderr",
          "text": [
            "/usr/local/lib/python3.11/dist-packages/wandb/sdk/wandb_run.py:2296: UserWarning: Run (n3hq9nxk) is finished. The call to `_console_raw_callback` will be ignored. Please make sure that you are using an active run.\n",
            "  lambda data: self._console_raw_callback(\"stdout\", data),\n",
            "/usr/local/lib/python3.11/dist-packages/wandb/sdk/wandb_run.py:2302: UserWarning: Run (n3hq9nxk) is finished. The call to `_console_raw_callback` will be ignored. Please make sure that you are using an active run.\n",
            "  lambda data: self._console_raw_callback(\"stderr\", data),\n"
          ]
        },
        {
          "output_type": "display_data",
          "data": {
            "text/plain": [
              "<IPython.core.display.HTML object>"
            ],
            "text/html": []
          },
          "metadata": {}
        },
        {
          "output_type": "display_data",
          "data": {
            "text/plain": [
              "<IPython.core.display.HTML object>"
            ],
            "text/html": [
              "<br>    <style><br>        .wandb-row {<br>            display: flex;<br>            flex-direction: row;<br>            flex-wrap: wrap;<br>            justify-content: flex-start;<br>            width: 100%;<br>        }<br>        .wandb-col {<br>            display: flex;<br>            flex-direction: column;<br>            flex-basis: 100%;<br>            flex: 1;<br>            padding: 10px;<br>        }<br>    </style><br><div class=\"wandb-row\"><div class=\"wandb-col\"><h3>Run history:</h3><br/><table class=\"wandb\"><tr><td>test_acc</td><td>▁</td></tr><tr><td>test_loss</td><td>▁</td></tr></table><br/></div><div class=\"wandb-col\"><h3>Run summary:</h3><br/><table class=\"wandb\"><tr><td>test_acc</td><td>0.8716</td></tr><tr><td>test_loss</td><td>0.36657</td></tr></table><br/></div></div>"
            ]
          },
          "metadata": {}
        },
        {
          "output_type": "display_data",
          "data": {
            "text/plain": [
              "<IPython.core.display.HTML object>"
            ],
            "text/html": [
              " View run <strong style=\"color:#cdcd00\">Best Model Evaluation</strong> at: <a href='https://wandb.ai/yeshu183-indian-institute-of-technology-madras/New%20Sweep/runs/rrk0tpkr' target=\"_blank\">https://wandb.ai/yeshu183-indian-institute-of-technology-madras/New%20Sweep/runs/rrk0tpkr</a><br> View project at: <a href='https://wandb.ai/yeshu183-indian-institute-of-technology-madras/New%20Sweep' target=\"_blank\">https://wandb.ai/yeshu183-indian-institute-of-technology-madras/New%20Sweep</a><br>Synced 5 W&B file(s), 1 media file(s), 0 artifact file(s) and 0 other file(s)"
            ]
          },
          "metadata": {}
        },
        {
          "output_type": "display_data",
          "data": {
            "text/plain": [
              "<IPython.core.display.HTML object>"
            ],
            "text/html": [
              "Find logs at: <code>./wandb/run-20250317_074902-rrk0tpkr/logs</code>"
            ]
          },
          "metadata": {}
        }
      ]
    },
    {
      "cell_type": "code",
      "source": [
        "from sklearn.metrics import confusion_matrix\n",
        "cm = confusion_matrix(y_test, np.argmax(np.array(y_hat_test),axis=1))\n",
        "cm_percentage = cm.astype('float') / cm.sum(axis=1)[:, np.newaxis] * 100\n",
        "sns.heatmap(cm_percentage, annot=True, fmt=\".1f\", cmap=\"Blues\")\n",
        "plt.xlabel(\"Predicted\")\n",
        "plt.ylabel(\"True\")"
      ],
      "metadata": {
        "colab": {
          "base_uri": "https://localhost:8080/",
          "height": 466
        },
        "id": "Y4PbWrFM5sUa",
        "outputId": "32051181-9cf3-49d0-8116-7e1cd75bcf2b"
      },
      "execution_count": 34,
      "outputs": [
        {
          "output_type": "execute_result",
          "data": {
            "text/plain": [
              "Text(50.722222222222214, 0.5, 'True')"
            ]
          },
          "metadata": {},
          "execution_count": 34
        },
        {
          "output_type": "display_data",
          "data": {
            "text/plain": [
              "<Figure size 640x480 with 2 Axes>"
            ],
            "image/png": "[encoded data removed]"
          },
          "metadata": {}
        }
      ]
    },
    {
      "cell_type": "code",
      "source": [],
      "metadata": {
        "id": "8xyKYvWT5sP0"
      },
      "execution_count": 34,
      "outputs": []
    },
    {
      "cell_type": "code",
      "source": [
        "plt.plot(train_acc_list)\n",
        "plt.plot(val_acc_list)\n",
        "#plt.plot(train_loss_list)\n",
        "#plt.plot(val_loss_list)\n",
        "plt.xlabel(\"Epochs\")\n",
        "plt.ylabel(\"Acc\")"
      ],
      "metadata": {
        "colab": {
          "base_uri": "https://localhost:8080/",
          "height": 466
        },
        "id": "_U3OP1_Yy4Tz",
        "outputId": "f05101ed-b558-45ef-be44-6da3d51b1e6e"
      },
      "execution_count": 9,
      "outputs": [
        {
          "output_type": "execute_result",
          "data": {
            "text/plain": [
              "Text(0, 0.5, 'Acc')"
            ]
          },
          "metadata": {},
          "execution_count": 9
        },
        {
          "output_type": "display_data",
          "data": {
            "text/plain": [
              "<Figure size 640x480 with 1 Axes>"
            ],
            "image/png": "[encoded data removed]"
          },
          "metadata": {}
        }
      ]
    },
    {
      "cell_type": "code",
      "source": [
        "plt.plot(train_loss_list)\n",
        "plt.plot(val_loss_list)\n",
        "plt.xlabel(\"Epochs\")\n",
        "plt.ylabel(\"Loss\")"
      ],
      "metadata": {
        "colab": {
          "base_uri": "https://localhost:8080/",
          "height": 466
        },
        "id": "jCTWrR1By4RA",
        "outputId": "0b81553b-7e41-444e-982e-7b4317c9e98a"
      },
      "execution_count": 10,
      "outputs": [
        {
          "output_type": "execute_result",
          "data": {
            "text/plain": [
              "Text(0, 0.5, 'Loss')"
            ]
          },
          "metadata": {},
          "execution_count": 10
        },
        {
          "output_type": "display_data",
          "data": {
            "text/plain": [
              "<Figure size 640x480 with 1 Axes>"
            ],
            "image/png": "[encoded data removed]"
          },
          "metadata": {}
        }
      ]
    },
    {
      "cell_type": "code",
      "source": [],
      "metadata": {
        "id": "S_IjmXtRy4OV"
      },
      "execution_count": 10,
      "outputs": []
    },
    {
      "cell_type": "code",
      "source": [],
      "metadata": {
        "id": "5VGQ3r6Cy4Bi"
      },
      "execution_count": 10,
      "outputs": []
    },
    {
      "cell_type": "code",
      "source": [],
      "metadata": {
        "id": "P8pNfdXxy3-M"
      },
      "execution_count": 10,
      "outputs": []
    }
  ],
  "metadata": {
    "kernelspec": {
      "display_name": "Python 3",
      "name": "python3"
    },
    "language_info": {
      "codemirror_mode": {
        "name": "ipython",
        "version": 3
      },
      "file_extension": ".py",
      "mimetype": "text/x-python",
      "name": "python",
      "nbconvert_exporter": "python",
      "pygments_lexer": "ipython3",
      "version": "3.12.2"
    },
    "colab": {
      "provenance": []
    }
  },
  "nbformat": 4,
  "nbformat_minor": 0
}