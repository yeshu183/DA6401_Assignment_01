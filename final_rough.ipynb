{
  "cells": [
    {
      "cell_type": "code",
      "execution_count": 1,
      "metadata": {
        "id": "ORZgzk52GSAT"
      },
      "outputs": [],
      "source": [
        "import numpy as np\n",
        "import pandas as pd\n",
        "import matplotlib.pyplot as plt\n",
        "import seaborn as sns"
      ]
    },
    {
      "cell_type": "code",
      "source": [
        "class NN():\n",
        "  def __init__(self,input_shape,output_shape,n_hidden_layers,h_per_layer,activation_func=\"ReLU\"):\n",
        "    self.input_shape = input_shape\n",
        "    self.output_shape = output_shape\n",
        "    self.n_h = n_hidden_layers\n",
        "    self.k = h_per_layer\n",
        "    self.weights = []\n",
        "    self.biases = []\n",
        "    self.grad_weights = []\n",
        "    self.grad_biases = []\n",
        "    self.activation_func = activation_func\n",
        "  def activation(self,x):\n",
        "    if self.activation_func == \"ReLU\":\n",
        "      return np.maximum(0,x)\n",
        "    elif self.activation_func == \"tanh\":\n",
        "      return np.tanh(x)\n",
        "    elif self.activation_func == \"sigmoid\":\n",
        "      return 1/(1+np.exp(-x))\n",
        "  def softmax(self,x):\n",
        "    return np.exp(x)/np.sum(np.exp(x),axis=0)\n",
        "  def weight_init(self,init_type=\"random\"):\n",
        "    if init_type == \"random\":\n",
        "      self.weights.append(np.random.randn(self.input_shape,self.k))\n",
        "      self.biases.append(np.random.randn(self.k,1))\n",
        "      for i in range(self.n_h):\n",
        "        self.weights.append(np.random.randn(self.k,self.k))\n",
        "        self.biases.append(np.random.randn(self.k,1))\n",
        "      self.weights.append(np.random.randn(self.k,self.output_shape))\n",
        "      self.biases.append(np.random.randn(self.output_shape,1))\n",
        "    return self.weights,self.biases\n",
        "  def basic_optimizer(self,lr):\n",
        "    self.weights = self.weights - lr*self.grad_weights\n",
        "    self.biases = self.biases - lr*self.grad_biases\n",
        "  def forward(self,x_train,y_train,x_val,y_val,batch_size):\n",
        "    self.weights,self.biases = self.weight_init()\n",
        "    a_list = []\n",
        "    h_list = []\n",
        "    h = x_train\n",
        "    for i in range(self.n_h):\n",
        "      a = np.dot(self.weights[i].T,h)+self.biases[i]\n",
        "      h = self.activation(a)\n",
        "      a_list.append(a)\n",
        "      h_list.append(h)\n",
        "    a = np.dot(self.weights[self.n_h].T,h)+self.biases[self.n_h]\n",
        "    h_y = self.softmax(a)\n",
        "    a_list.append(a)\n",
        "    h_list.append(h_y)\n",
        "    return a_list,h_list\n",
        "  def backward(self):\n",
        "\n",
        "    for i in range(self.n_h):\n"
      ],
      "metadata": {
        "id": "5BE2JhcCJoUV"
      },
      "execution_count": null,
      "outputs": []
    }
  ],
  "metadata": {
    "kernelspec": {
      "display_name": "Python 3",
      "language": "python",
      "name": "python3"
    },
    "language_info": {
      "codemirror_mode": {
        "name": "ipython",
        "version": 3
      },
      "file_extension": ".py",
      "mimetype": "text/x-python",
      "name": "python",
      "nbconvert_exporter": "python",
      "pygments_lexer": "ipython3",
      "version": "3.12.2"
    },
    "colab": {
      "provenance": []
    }
  },
  "nbformat": 4,
  "nbformat_minor": 0
}