{
  "cells": [
    {
      "cell_type": "code",
      "execution_count": 1,
      "metadata": {
        "id": "ORZgzk52GSAT"
      },
      "outputs": [],
      "source": [
        "import numpy as np\n",
        "import pandas as pd\n",
        "import matplotlib.pyplot as plt\n",
        "import seaborn as sns\n",
        "from keras.datasets import fashion_mnist"
      ]
    },
    {
      "cell_type": "code",
      "source": [
        "(x_train, y_train), (x_test, y_test) = fashion_mnist.load_data()"
      ],
      "metadata": {
        "id": "T9-iyV5oy94Z"
      },
      "execution_count": 2,
      "outputs": []
    },
    {
      "cell_type": "code",
      "source": [
        "# Split validation set (10% of training data)\n",
        "val_size = int(0.1 * len(x_train))\n",
        "x_val, y_val = x_train[:val_size], y_train[:val_size]\n",
        "x_train, y_train = x_train[val_size:], y_train[val_size:]\n",
        "\n",
        "# Normalize inputs\n",
        "x_train = x_train.reshape(x_train.shape[0], -1) / 255.0\n",
        "x_val = x_val.reshape(x_val.shape[0], -1) / 255.0\n",
        "x_test = x_test.reshape(x_test.shape[0], -1) / 255.0"
      ],
      "metadata": {
        "id": "BeTHNHD3zOwS"
      },
      "execution_count": 3,
      "outputs": []
    },
    {
      "cell_type": "code",
      "source": [
        "x_val.shape"
      ],
      "metadata": {
        "colab": {
          "base_uri": "https://localhost:8080/"
        },
        "id": "0YRHjFaqy9va",
        "outputId": "a55e65fa-bf5b-4dd0-a252-ac92e1451012"
      },
      "execution_count": 4,
      "outputs": [
        {
          "output_type": "execute_result",
          "data": {
            "text/plain": [
              "(6000, 784)"
            ]
          },
          "metadata": {},
          "execution_count": 4
        }
      ]
    },
    {
      "cell_type": "code",
      "source": [],
      "metadata": {
        "id": "M6KcTRZyy9lf"
      },
      "execution_count": null,
      "outputs": []
    },
    {
      "cell_type": "code",
      "source": [],
      "metadata": {
        "id": "M9kos9zqy84O"
      },
      "execution_count": null,
      "outputs": []
    },
    {
      "cell_type": "code",
      "source": [
        "class NN:\n",
        "  def __init__(self,input_shape,output_shape,n_hidden_layers,h_per_layer,activation_func=\"relu\",loss_func=\"cross_entropy_loss\",init_type=\"random\"):\n",
        "    self.input_shape = input_shape\n",
        "    self.output_shape = output_shape\n",
        "    self.n_h = n_hidden_layers\n",
        "    self.k = h_per_layer\n",
        "    self.weights,self.biases = self.weight_init(init_type)\n",
        "    self.grad_weights = [0]*(self.n_h+1)\n",
        "    self.grad_biases = [0]*(self.n_h+1)\n",
        "    self.activation_func = activation_func\n",
        "    self.loss_func = loss_func\n",
        "  def activation(self,x):\n",
        "    if self.activation_func == \"relu\":\n",
        "      return np.maximum(0,x)\n",
        "    elif self.activation_func == \"tanh\":\n",
        "      return np.tanh(x)\n",
        "    elif self.activation_func == \"sigmoid\":\n",
        "      return 1/(1+np.exp(-x))\n",
        "  def activation_grad(self,x):\n",
        "    if self.activation_func == \"relu\":\n",
        "      return np.where(x>0,1,0)\n",
        "    elif self.activation_func == \"tanh\":\n",
        "      return 1-np.tanh(x)**2\n",
        "    elif self.activation_func == \"sigmoid\":\n",
        "      s = 1/(1+np.exp(-x))\n",
        "      return s*(1-s)\n",
        "  def softmax(self,x):\n",
        "    exp_x = np.exp(x - np.max(x, axis=0, keepdims=True))\n",
        "    return exp_x / np.sum(exp_x, axis=0, keepdims=True)\n",
        "  def transpose(self,w):\n",
        "    return np.array(w).T.tolist()\n",
        "  def one_hot(self,y):\n",
        "    return np.eye(self.output_shape)[y]\n",
        "  def loss(self,y_hat,y_true):\n",
        "    if self.loss_func == \"cross_entropy_loss\":\n",
        "      y_hat = np.array(y_hat)\n",
        "      y_true = np.array(y_true)\n",
        "      epsilon = 1e-10  # Prevent log(0)\n",
        "      return -np.sum(y_true * np.log(y_hat + epsilon)) / y_hat.shape[0]\n",
        "    elif self.loss_func == \"squared_error\":\n",
        "      return np.sum((y_hat-y_true)**2)\n",
        "  def accuracy(self,y_hat,y_true):\n",
        "    return np.sum(y_hat==y_true)/len(y_true)\n",
        "  def weight_init(self, init_type=\"random\"):\n",
        "    weights = []\n",
        "    biases = []\n",
        "    if init_type == \"random\":\n",
        "        weights.append(np.random.randn(self.input_shape, self.k))\n",
        "        biases.append(np.random.randn(self.k, 1))\n",
        "        for i in range(self.n_h - 1):\n",
        "            weights.append(np.random.randn(self.k, self.k))\n",
        "            biases.append(np.random.randn(self.k, 1))\n",
        "        weights.append(np.random.randn(self.k, self.output_shape))\n",
        "        biases.append(np.random.randn(self.output_shape, 1))\n",
        "    elif init_type == \"xavier\":\n",
        "        # Xavier Initialization\n",
        "        weights.append(np.random.randn(self.input_shape, self.k) * np.sqrt(2 / (self.input_shape + self.k)))\n",
        "        biases.append(np.zeros((self.k, 1)))  # Biases are usually initialized to 0\n",
        "        for i in range(self.n_h - 1):\n",
        "            weights.append(np.random.randn(self.k, self.k) * np.sqrt(2 / (self.k + self.k)))\n",
        "            biases.append(np.zeros((self.k, 1)))\n",
        "        weights.append(np.random.randn(self.k, self.output_shape) * np.sqrt(2 / (self.k + self.output_shape)))\n",
        "        biases.append(np.zeros((self.output_shape, 1)))\n",
        "    return weights, biases\n",
        "\n",
        "  def basic_optimizer(self, lr=0.001, beta1=0.9, beta2=0.999, epsilon=1e-8):\n",
        "    if not hasattr(self, \"m_weights\"):\n",
        "        # Initialize moment estimates as numpy arrays\n",
        "        self.m_weights = [np.zeros_like(w) for w in self.weights]\n",
        "        self.v_weights = [np.zeros_like(w) for w in self.weights]\n",
        "        self.m_biases = [np.zeros_like(b) for b in self.biases]\n",
        "        self.v_biases = [np.zeros_like(b) for b in self.biases]\n",
        "        self.t = 0  # Time step\n",
        "\n",
        "    self.t += 1  # Increment time step\n",
        "\n",
        "    for i in range(len(self.weights)):\n",
        "        # Convert gradients to numpy arrays\n",
        "        grad_w = np.array(self.grad_weights[i])\n",
        "        grad_b = np.array(self.grad_biases[i])\n",
        "\n",
        "        # Compute biased first moment estimate\n",
        "        self.m_weights[i] = beta1 * self.m_weights[i] + (1 - beta1) * grad_w\n",
        "        self.m_biases[i] = beta1 * self.m_biases[i] + (1 - beta1) * grad_b\n",
        "\n",
        "        # Compute biased second moment estimate\n",
        "        self.v_weights[i] = beta2 * self.v_weights[i] + (1 - beta2) * (grad_w ** 2)\n",
        "        self.v_biases[i] = beta2 * self.v_biases[i] + (1 - beta2) * (grad_b ** 2)\n",
        "\n",
        "        # Bias-corrected moment estimates\n",
        "        m_w_hat = self.m_weights[i] / (1 - beta1 ** self.t)\n",
        "        v_w_hat = self.v_weights[i] / (1 - beta2 ** self.t)\n",
        "        m_b_hat = self.m_biases[i] / (1 - beta1 ** self.t)\n",
        "        v_b_hat = self.v_biases[i] / (1 - beta2 ** self.t)\n",
        "\n",
        "        # Update weights and biases\n",
        "        self.weights[i] -= lr * m_w_hat / (np.sqrt(v_w_hat) + epsilon)\n",
        "        self.biases[i] -= lr * (np.sum(m_b_hat, axis=1, keepdims=True)) / (np.sqrt(np.sum(v_b_hat, axis=1, keepdims=True)) + epsilon)\n",
        "\n",
        "  def forward(self,x,y):\n",
        "    a_list = [0]*(self.n_h+2)\n",
        "    h_list = [0]*(self.n_h+2)\n",
        "    h = self.transpose(x)\n",
        "    h_list[0] = h\n",
        "    for i in range(self.n_h):\n",
        "      a_list[i+1] = np.dot(self.transpose(self.weights[i]),h_list[i])+self.biases[i]\n",
        "      h_list[i+1] = self.activation(a_list[i+1])\n",
        "    a_list[self.n_h+1] = np.dot(self.transpose(self.weights[self.n_h]),h_list[self.n_h])+self.biases[self.n_h]\n",
        "    y_hat = self.transpose(self.softmax(a_list[self.n_h+1]))\n",
        "    h_list[self.n_h+1] = y_hat\n",
        "    return a_list,h_list\n",
        "  def backward(self,a_list,h_list,y):\n",
        "    a_grad_list = [0]*(self.n_h+2)\n",
        "    h_grad_list = [0]*(self.n_h+2)\n",
        "    y_hat = h_list[self.n_h+1]\n",
        "    if self.loss_func == \"cross_entropy_loss\": #gradient wrt output layer\n",
        "      a_grad = self.transpose(y_hat - self.one_hot(y))\n",
        "    elif self.loss_func == \"squared_error\":\n",
        "      a_grad = 2*(np.argmax(y_hat,axis=0) - y)\n",
        "    a_grad_list[-1] = a_grad\n",
        "    for k in range(self.n_h,-1,-1): # gradient wrt hiddden layers\n",
        "      h_grad = np.dot(self.weights[k],a_grad_list[k+1])\n",
        "      h_grad_list[k] = h_grad\n",
        "      a_grad = np.multiply(h_grad,self.activation_grad(a_list[k]))\n",
        "      a_grad_list[k] = a_grad\n",
        "      self.grad_weights[k] = self.transpose(np.dot(a_grad_list[k+1],self.transpose(h_list[k]))) #gradients wrt parameters\n",
        "      self.grad_biases[k] = np.sum(a_grad_list[k+1],axis=0, keepdims=True)\n",
        "  def train(self,x_train,y_train,x_val,y_val,lr,epochs):\n",
        "    train_loss_list = []\n",
        "    train_acc_list = []\n",
        "    for i in range(epochs):\n",
        "      a_list_train,h_list_train = self.forward(x_train,y_train) # forward pass\n",
        "      print(\"forward pass done\")\n",
        "      self.backward(a_list_train,h_list_train,y_train) # backward pass\n",
        "      print(\"backward pass done\")\n",
        "      self.basic_optimizer(lr=lr) # updating weights\n",
        "      print(\"optimizer done\")\n",
        "      y_hat = h_list_train[self.n_h+1]\n",
        "      train_loss = self.loss(y_hat,self.one_hot(y_train))\n",
        "      train_acc = self.accuracy(np.argmax(np.array(y_hat),axis=1),y_train)\n",
        "      train_loss_list.append(train_loss)\n",
        "      train_acc_list.append(train_acc)\n",
        "      print(\"Train Loss: \",train_loss,\"Train Accuracy: \",train_acc)\n",
        "    return train_loss_list,train_acc_list\n",
        "      # a_list_val,h_list_val = self.forward(x_val,y_val)\n",
        "      # y_hat_val = h_list_val[self.n_h+1]\n",
        "      # val_loss = self.loss(y_hat_val,self.one_hot(y_val))\n",
        "      # val_acc = self.accuracy(np.argmax(np.array(y_hat_val),axis=1),y_val)\n",
        "      # print(\"Epoch: \",i+1,\"Train Loss: \",train_loss,\"Train Accuracy: \",train_acc,\"Val Loss: \",val_loss,\"Val Accuracy: \",val_acc)"
      ],
      "metadata": {
        "id": "5BE2JhcCJoUV"
      },
      "execution_count": 64,
      "outputs": []
    },
    {
      "cell_type": "code",
      "source": [
        "# Hyperparameters\n",
        "num_hid_layers = 3\n",
        "hid_layer_size = 64  # Changeable number of layers\n",
        "weight_init = 'xavier'  # Options: 'random', 'xavier'\n",
        "activation = 'relu'  # Options: 'sigmoid', 'tanh', 'relu'\n",
        "#l2_reg = 0.0005  # L2 regularization strength\n",
        "lr = 1e-3  # Options: 1e-3, 1e-4\n",
        "#batch_size = 32  # Options: 16, 32, 64\n",
        "epochs = 20  # Options: 5, 10\n",
        "#optimizer = 'sgd'  # Options: 'sgd', 'momentum', 'nesterov', 'rmsprop', 'adam', 'nadam'\n",
        "loss_func = 'cross_entropy_loss'  # Options: 'cross_entropy_loss', 'squared_error'\n",
        "# self,input_shape,output_shape,n_hidden_layers,h_per_layer,activation_func=\"ReLU\",loss_func=\"cross_entropy_loss\"\n",
        "# Initialize and train the model\n",
        "nn = NN(input_shape=784,output_shape=10,n_hidden_layers=num_hid_layers, h_per_layer=hid_layer_size, activation_func=activation, init_type=weight_init, loss_func=loss_func)\n",
        "train_loss_list,train_acc_list = nn.train(x_train, y_train, x_val, y_val, epochs=epochs,lr=lr)"
      ],
      "metadata": {
        "colab": {
          "base_uri": "https://localhost:8080/"
        },
        "id": "lQgXsVYBy4XP",
        "outputId": "5e8d7417-e05c-4f5e-ccc1-63230ed30eb1"
      },
      "execution_count": 65,
      "outputs": [
        {
          "output_type": "stream",
          "name": "stdout",
          "text": [
            "forward pass done\n",
            "backward pass done\n",
            "optimizer done\n",
            "Train Loss:  2.335658931536413 Train Accuracy:  0.13257407407407407\n",
            "forward pass done\n",
            "backward pass done\n",
            "optimizer done\n",
            "Train Loss:  2.2477942573880134 Train Accuracy:  0.21207407407407408\n",
            "forward pass done\n",
            "backward pass done\n",
            "optimizer done\n",
            "Train Loss:  2.189446736568144 Train Accuracy:  0.2710740740740741\n",
            "forward pass done\n",
            "backward pass done\n",
            "optimizer done\n",
            "Train Loss:  2.114079329044668 Train Accuracy:  0.3088148148148148\n",
            "forward pass done\n",
            "backward pass done\n",
            "optimizer done\n",
            "Train Loss:  2.0267275773009312 Train Accuracy:  0.3187962962962963\n",
            "forward pass done\n",
            "backward pass done\n",
            "optimizer done\n",
            "Train Loss:  1.9436061268028222 Train Accuracy:  0.3310740740740741\n",
            "forward pass done\n",
            "backward pass done\n",
            "optimizer done\n",
            "Train Loss:  1.86153544327104 Train Accuracy:  0.38625925925925925\n",
            "forward pass done\n",
            "backward pass done\n",
            "optimizer done\n",
            "Train Loss:  1.7741918805641694 Train Accuracy:  0.4597407407407407\n",
            "forward pass done\n",
            "backward pass done\n",
            "optimizer done\n",
            "Train Loss:  1.6837585572582738 Train Accuracy:  0.5167407407407407\n",
            "forward pass done\n",
            "backward pass done\n",
            "optimizer done\n",
            "Train Loss:  1.593013927204694 Train Accuracy:  0.5639074074074074\n",
            "forward pass done\n",
            "backward pass done\n",
            "optimizer done\n",
            "Train Loss:  1.5031156620139798 Train Accuracy:  0.596\n",
            "forward pass done\n",
            "backward pass done\n",
            "optimizer done\n",
            "Train Loss:  1.4145761766850666 Train Accuracy:  0.6200925925925926\n",
            "forward pass done\n",
            "backward pass done\n",
            "optimizer done\n",
            "Train Loss:  1.3283117884865259 Train Accuracy:  0.6416851851851851\n",
            "forward pass done\n",
            "backward pass done\n",
            "optimizer done\n",
            "Train Loss:  1.2479513865810503 Train Accuracy:  0.6598888888888889\n",
            "forward pass done\n",
            "backward pass done\n",
            "optimizer done\n",
            "Train Loss:  1.1756318917284867 Train Accuracy:  0.6733518518518519\n",
            "forward pass done\n",
            "backward pass done\n",
            "optimizer done\n",
            "Train Loss:  1.1096915670918999 Train Accuracy:  0.6848148148148148\n",
            "forward pass done\n",
            "backward pass done\n",
            "optimizer done\n",
            "Train Loss:  1.0489734418927243 Train Accuracy:  0.6940740740740741\n",
            "forward pass done\n",
            "backward pass done\n",
            "optimizer done\n",
            "Train Loss:  0.9937624084967238 Train Accuracy:  0.7014444444444444\n",
            "forward pass done\n",
            "backward pass done\n",
            "optimizer done\n",
            "Train Loss:  0.9433566120874795 Train Accuracy:  0.7105\n",
            "forward pass done\n",
            "backward pass done\n",
            "optimizer done\n",
            "Train Loss:  0.8994016584086022 Train Accuracy:  0.7198703703703704\n"
          ]
        }
      ]
    },
    {
      "cell_type": "code",
      "source": [
        "plt.plot(train_acc_list)\n",
        "plt.xlabel(\"Epochs\")\n",
        "plt.ylabel(\"Acc\")"
      ],
      "metadata": {
        "colab": {
          "base_uri": "https://localhost:8080/",
          "height": 466
        },
        "id": "_U3OP1_Yy4Tz",
        "outputId": "0c7ac8ce-dfbb-4478-88b3-178e5fe08b92"
      },
      "execution_count": 66,
      "outputs": [
        {
          "output_type": "execute_result",
          "data": {
            "text/plain": [
              "Text(0, 0.5, 'Acc')"
            ]
          },
          "metadata": {},
          "execution_count": 66
        },
        {
          "output_type": "display_data",
          "data": {
            "text/plain": [
              "<Figure size 640x480 with 1 Axes>"
            ],
            "image/png": "[encoded data removed]"
          },
          "metadata": {}
        }
      ]
    },
    {
      "cell_type": "code",
      "source": [
        "plt.plot(train_loss_list)\n",
        "plt.xlabel(\"Epochs\")\n",
        "plt.ylabel(\"Loss\")"
      ],
      "metadata": {
        "colab": {
          "base_uri": "https://localhost:8080/",
          "height": 470
        },
        "id": "jCTWrR1By4RA",
        "outputId": "17cb6d93-4ee4-451b-e60e-cd520803676a"
      },
      "execution_count": 67,
      "outputs": [
        {
          "output_type": "execute_result",
          "data": {
            "text/plain": [
              "Text(0, 0.5, 'Loss')"
            ]
          },
          "metadata": {},
          "execution_count": 67
        },
        {
          "output_type": "display_data",
          "data": {
            "text/plain": [
              "<Figure size 640x480 with 1 Axes>"
            ],
            "image/png": "[encoded data removed]"
          },
          "metadata": {}
        }
      ]
    },
    {
      "cell_type": "code",
      "source": [],
      "metadata": {
        "id": "S_IjmXtRy4OV"
      },
      "execution_count": null,
      "outputs": []
    },
    {
      "cell_type": "code",
      "source": [],
      "metadata": {
        "id": "5VGQ3r6Cy4Bi"
      },
      "execution_count": null,
      "outputs": []
    },
    {
      "cell_type": "code",
      "source": [],
      "metadata": {
        "id": "P8pNfdXxy3-M"
      },
      "execution_count": null,
      "outputs": []
    }
  ],
  "metadata": {
    "kernelspec": {
      "display_name": "Python 3",
      "language": "python",
      "name": "python3"
    },
    "language_info": {
      "codemirror_mode": {
        "name": "ipython",
        "version": 3
      },
      "file_extension": ".py",
      "mimetype": "text/x-python",
      "name": "python",
      "nbconvert_exporter": "python",
      "pygments_lexer": "ipython3",
      "version": "3.12.2"
    },
    "colab": {
      "provenance": []
    }
  },
  "nbformat": 4,
  "nbformat_minor": 0
}