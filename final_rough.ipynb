{
  "cells": [
    {
      "cell_type": "code",
      "execution_count": 1,
      "metadata": {
        "id": "ORZgzk52GSAT"
      },
      "outputs": [],
      "source": [
        "import numpy as np\n",
        "import pandas as pd\n",
        "import matplotlib.pyplot as plt\n",
        "import seaborn as sns\n",
        "from keras.datasets import fashion_mnist\n",
        "import time"
      ]
    },
    {
      "cell_type": "code",
      "source": [
        "import wandb\n",
        "wandb.login()\n",
        "#API Key: f659082c2b19bf3ffaaceceb36c1e280541f6b11"
      ],
      "metadata": {
        "colab": {
          "base_uri": "https://localhost:8080/",
          "height": 228
        },
        "id": "yFML75noWRV3",
        "outputId": "10ea48f9-2831-4a73-92fe-63a15d8c6cde"
      },
      "execution_count": 2,
      "outputs": [
        {
          "output_type": "stream",
          "name": "stderr",
          "text": [
            "\u001b[34m\u001b[1mwandb\u001b[0m: Using wandb-core as the SDK backend.  Please refer to https://wandb.me/wandb-core for more information.\n"
          ]
        },
        {
          "output_type": "display_data",
          "data": {
            "text/plain": [
              "<IPython.core.display.Javascript object>"
            ],
            "application/javascript": [
              "\n",
              "        window._wandbApiKey = new Promise((resolve, reject) => {\n",
              "            function loadScript(url) {\n",
              "            return new Promise(function(resolve, reject) {\n",
              "                let newScript = document.createElement(\"script\");\n",
              "                newScript.onerror = reject;\n",
              "                newScript.onload = resolve;\n",
              "                document.body.appendChild(newScript);\n",
              "                newScript.src = url;\n",
              "            });\n",
              "            }\n",
              "            loadScript(\"https://cdn.jsdelivr.net/npm/postmate/build/postmate.min.js\").then(() => {\n",
              "            const iframe = document.createElement('iframe')\n",
              "            iframe.style.cssText = \"width:0;height:0;border:none\"\n",
              "            document.body.appendChild(iframe)\n",
              "            const handshake = new Postmate({\n",
              "                container: iframe,\n",
              "                url: 'https://wandb.ai/authorize'\n",
              "            });\n",
              "            const timeout = setTimeout(() => reject(\"Couldn't auto authenticate\"), 5000)\n",
              "            handshake.then(function(child) {\n",
              "                child.on('authorize', data => {\n",
              "                    clearTimeout(timeout)\n",
              "                    resolve(data)\n",
              "                });\n",
              "            });\n",
              "            })\n",
              "        });\n",
              "    "
            ]
          },
          "metadata": {}
        },
        {
          "output_type": "stream",
          "name": "stderr",
          "text": [
            "\u001b[34m\u001b[1mwandb\u001b[0m: Logging into wandb.ai. (Learn how to deploy a W&B server locally: https://wandb.me/wandb-server)\n",
            "\u001b[34m\u001b[1mwandb\u001b[0m: You can find your API key in your browser here: https://wandb.ai/authorize\n",
            "wandb: Paste an API key from your profile and hit enter:"
          ]
        },
        {
          "name": "stdout",
          "output_type": "stream",
          "text": [
            " ··········\n"
          ]
        },
        {
          "output_type": "stream",
          "name": "stderr",
          "text": [
            "\u001b[34m\u001b[1mwandb\u001b[0m: \u001b[33mWARNING\u001b[0m If you're specifying your api key in code, ensure this code is not shared publicly.\n",
            "\u001b[34m\u001b[1mwandb\u001b[0m: \u001b[33mWARNING\u001b[0m Consider setting the WANDB_API_KEY environment variable, or running `wandb login` from the command line.\n",
            "\u001b[34m\u001b[1mwandb\u001b[0m: No netrc file found, creating one.\n",
            "\u001b[34m\u001b[1mwandb\u001b[0m: Appending key for api.wandb.ai to your netrc file: /root/.netrc\n",
            "\u001b[34m\u001b[1mwandb\u001b[0m: Currently logged in as: \u001b[33myeshu183\u001b[0m (\u001b[33myeshu183-indian-institute-of-technology-madras\u001b[0m) to \u001b[32mhttps://api.wandb.ai\u001b[0m. Use \u001b[1m`wandb login --relogin`\u001b[0m to force relogin\n"
          ]
        },
        {
          "output_type": "execute_result",
          "data": {
            "text/plain": [
              "True"
            ]
          },
          "metadata": {},
          "execution_count": 2
        }
      ]
    },
    {
      "cell_type": "code",
      "source": [
        "(x_train, y_train), (x_test, y_test) = fashion_mnist.load_data()"
      ],
      "metadata": {
        "colab": {
          "base_uri": "https://localhost:8080/"
        },
        "id": "T9-iyV5oy94Z",
        "outputId": "a2707f11-915d-4ec4-d915-c14618816835"
      },
      "execution_count": 3,
      "outputs": [
        {
          "output_type": "stream",
          "name": "stdout",
          "text": [
            "Downloading data from https://storage.googleapis.com/tensorflow/tf-keras-datasets/train-labels-idx1-ubyte.gz\n",
            "\u001b[1m29515/29515\u001b[0m \u001b[32m━━━━━━━━━━━━━━━━━━━━\u001b[0m\u001b[37m\u001b[0m \u001b[1m0s\u001b[0m 0us/step\n",
            "Downloading data from https://storage.googleapis.com/tensorflow/tf-keras-datasets/train-images-idx3-ubyte.gz\n",
            "\u001b[1m26421880/26421880\u001b[0m \u001b[32m━━━━━━━━━━━━━━━━━━━━\u001b[0m\u001b[37m\u001b[0m \u001b[1m0s\u001b[0m 0us/step\n",
            "Downloading data from https://storage.googleapis.com/tensorflow/tf-keras-datasets/t10k-labels-idx1-ubyte.gz\n",
            "\u001b[1m5148/5148\u001b[0m \u001b[32m━━━━━━━━━━━━━━━━━━━━\u001b[0m\u001b[37m\u001b[0m \u001b[1m0s\u001b[0m 0us/step\n",
            "Downloading data from https://storage.googleapis.com/tensorflow/tf-keras-datasets/t10k-images-idx3-ubyte.gz\n",
            "\u001b[1m4422102/4422102\u001b[0m \u001b[32m━━━━━━━━━━━━━━━━━━━━\u001b[0m\u001b[37m\u001b[0m \u001b[1m0s\u001b[0m 0us/step\n"
          ]
        }
      ]
    },
    {
      "cell_type": "code",
      "source": [
        "# Split validation set (10% of training data)\n",
        "val_size = int(0.1 * len(x_train))\n",
        "x_val, y_val = x_train[:val_size], y_train[:val_size]\n",
        "x_train, y_train = x_train[val_size:], y_train[val_size:]\n",
        "\n",
        "# Normalize inputs\n",
        "x_train = x_train.reshape(x_train.shape[0], -1) / 255.0\n",
        "x_val = x_val.reshape(x_val.shape[0], -1) / 255.0\n",
        "x_test = x_test.reshape(x_test.shape[0], -1) / 255.0"
      ],
      "metadata": {
        "id": "BeTHNHD3zOwS"
      },
      "execution_count": 4,
      "outputs": []
    },
    {
      "cell_type": "code",
      "source": [
        "y_train"
      ],
      "metadata": {
        "colab": {
          "base_uri": "https://localhost:8080/"
        },
        "id": "0YRHjFaqy9va",
        "outputId": "0dbacf4f-09da-449c-b118-5756d2338e45"
      },
      "execution_count": 5,
      "outputs": [
        {
          "output_type": "execute_result",
          "data": {
            "text/plain": [
              "array([8, 6, 4, ..., 3, 0, 5], dtype=uint8)"
            ]
          },
          "metadata": {},
          "execution_count": 5
        }
      ]
    },
    {
      "cell_type": "code",
      "source": [],
      "metadata": {
        "id": "M6KcTRZyy9lf"
      },
      "execution_count": 5,
      "outputs": []
    },
    {
      "cell_type": "code",
      "source": [
        "class Optimizers:\n",
        "    def __init__(self, lr=1e-3, epsilon=1e-8):\n",
        "        self.lr = lr\n",
        "        self.epsilon = epsilon  # Small value to prevent division by zero\n",
        "\n",
        "        # Initialize state dictionaries\n",
        "        self.v = {}  # Velocity (for momentum, NAG)\n",
        "        self.s = {}  # Squared gradients (for RMSprop, Adam, Nadam)\n",
        "        self.m = {}  # First moment (for Adam/Nadam)\n",
        "        self.t = 0   # Time step (for Adam/Nadam)\n",
        "\n",
        "    def _initialize_params(self, w_key, param_shape):\n",
        "        \"\"\"Initialize optimizer states for a given parameter key\"\"\"\n",
        "        if w_key not in self.v:\n",
        "            self.v[w_key] = np.zeros(param_shape)\n",
        "            self.s[w_key] = np.zeros(param_shape)\n",
        "            self.m[w_key] = np.zeros(param_shape)\n",
        "\n",
        "    def sgd(self, w, b, dw, db, key=\"w\"):\n",
        "        \"\"\"Vanilla Stochastic Gradient Descent\"\"\"\n",
        "        w -= self.lr * dw\n",
        "        b -= self.lr * db\n",
        "        return w, b\n",
        "\n",
        "    def momentum(self, w, b, dw, db, key=\"w\", beta1=0.9):\n",
        "        \"\"\"Momentum-based Gradient Descent\"\"\"\n",
        "        self._initialize_params(key, w.shape)\n",
        "        self.v[key] = beta1 * self.v[key] - self.lr * dw\n",
        "        w += self.v[key]\n",
        "        b -= self.lr * db\n",
        "        return w, b\n",
        "\n",
        "    def nesterov(self, w, b, dw, db, key=\"w\", beta1=0.9):\n",
        "        \"\"\"Nesterov Accelerated Gradient (NAG)\"\"\"\n",
        "        self._initialize_params(key, w.shape)\n",
        "        prev_v = self.v[key]\n",
        "        self.v[key] = beta1 * self.v[key] - self.lr * dw\n",
        "        w += -beta1 * prev_v + (1 + beta1) * self.v[key]\n",
        "        b -= self.lr * db\n",
        "        return w, b\n",
        "\n",
        "    def rmsprop(self, w, b, dw, db, key=\"w\", rho=0.9):\n",
        "        \"\"\"RMSprop Optimization\"\"\"\n",
        "        self._initialize_params(key, w.shape)\n",
        "        self.s[key] = rho * self.s[key] + (1 - rho) * (dw ** 2)\n",
        "        w -= self.lr * dw / (np.sqrt(self.s[key]) + self.epsilon)\n",
        "        b -= self.lr * db\n",
        "        return w, b\n",
        "\n",
        "    def adam(self, w, b, dw, db, key=\"w\", beta1=0.9, beta2=0.999):\n",
        "        \"\"\"Adaptive Moment Estimation (Adam)\"\"\"\n",
        "        self._initialize_params(key, w.shape)\n",
        "        self.t += 1  # Time step\n",
        "        self.m[key] = beta1 * self.m[key] + (1 - beta1) * dw\n",
        "        self.s[key] = beta2 * self.s[key] + (1 - beta2) * (dw ** 2)\n",
        "\n",
        "        m_hat = self.m[key] / (1 - beta1 ** self.t)\n",
        "        s_hat = self.s[key] / (1 - beta2 ** self.t)\n",
        "\n",
        "        w -= self.lr * m_hat / (np.sqrt(s_hat) + self.epsilon)\n",
        "        b -= self.lr * db\n",
        "        return w, b\n",
        "\n",
        "    def nadam(self, w, b, dw, db, key=\"w\", beta1=0.9, beta2=0.999):\n",
        "        \"\"\"Nadam Optimization (Adam + Nesterov)\"\"\"\n",
        "        self._initialize_params(key, w.shape)\n",
        "        self.t += 1  # Time step\n",
        "        self.m[key] = beta1 * self.m[key] + (1 - beta1) * dw\n",
        "        self.s[key] = beta2 * self.s[key] + (1 - beta2) * (dw ** 2)\n",
        "\n",
        "        m_hat = self.m[key] / (1 - beta1 ** self.t)\n",
        "        s_hat = self.s[key] / (1 - beta2 ** self.t)\n",
        "\n",
        "        m_nesterov = beta1 * m_hat + (1 - beta1) * dw / (1 - beta1 ** self.t)\n",
        "\n",
        "        w -= self.lr * m_nesterov / (np.sqrt(s_hat) + self.epsilon)\n",
        "        b -= self.lr * db\n",
        "        return w, b\n"
      ],
      "metadata": {
        "id": "M9kos9zqy84O"
      },
      "execution_count": 6,
      "outputs": []
    },
    {
      "cell_type": "code",
      "source": [
        "class NN:\n",
        "  def __init__(self,input_shape,output_shape,n_hidden_layers,h_per_layer,activation_func=\"relu\",loss_func=\"cross_entropy_loss\",init_type=\"random\",l2_reg=0,optimizer_func='adam'):\n",
        "    self.input_shape = input_shape\n",
        "    self.output_shape = output_shape\n",
        "    self.n_h = n_hidden_layers\n",
        "    self.k = h_per_layer\n",
        "    self.weights,self.biases = self.weight_init(init_type)\n",
        "    self.opt_name = optimizer_func\n",
        "    self.optimizer = Optimizers(lr=lr)  # Create an instance of Optimizers\n",
        "    self.optimizer_function = getattr(self.optimizer, optimizer_func)\n",
        "    self.grad_weights = [0]*(self.n_h+1)\n",
        "    self.grad_biases = [0]*(self.n_h+1)\n",
        "    self.activation_func = activation_func\n",
        "    self.loss_func = loss_func\n",
        "    self.l2_reg = l2_reg\n",
        "  def activation(self,x):\n",
        "    if self.activation_func == \"relu\":\n",
        "      return np.maximum(0,x)\n",
        "    elif self.activation_func == \"tanh\":\n",
        "      return np.tanh(x)\n",
        "    elif self.activation_func == \"sigmoid\":\n",
        "      return 1/(1+np.exp(-x))\n",
        "  def activation_grad(self,x):\n",
        "    if self.activation_func == \"relu\":\n",
        "      return np.where(x>0,1,0)\n",
        "    elif self.activation_func == \"tanh\":\n",
        "      return 1-np.tanh(x)**2\n",
        "    elif self.activation_func == \"sigmoid\":\n",
        "      s = 1/(1+np.exp(-x))\n",
        "      return s*(1-s)\n",
        "  def softmax(self,x):\n",
        "    exp_x = np.exp(x - np.max(x, axis=0, keepdims=True))\n",
        "    return exp_x / np.sum(exp_x, axis=0, keepdims=True)\n",
        "  def one_hot(self,y):\n",
        "    ohe = np.zeros((len(y), self.output_shape))\n",
        "    for i in range(len(y)):\n",
        "      ohe[i][y[i]] = 1\n",
        "    return ohe\n",
        "  def loss(self,y_hat,y_true):\n",
        "    if self.loss_func == \"cross_entropy_loss\":\n",
        "      y_hat = np.array(y_hat)\n",
        "      y_true = np.array(y_true)\n",
        "      epsilon = 1e-10  # Prevent log(0)\n",
        "      return -np.sum(y_true * np.log(y_hat + epsilon)) / y_hat.shape[0]\n",
        "    elif self.loss_func == \"squared_error\":\n",
        "      return np.sum((y_hat-y_true)**2)\n",
        "  def accuracy(self,y_hat,y_true):\n",
        "    return np.sum(y_hat==y_true)/len(y_true)\n",
        "  def weight_init(self, init_type=\"random\"):\n",
        "    weights = []\n",
        "    biases = []\n",
        "    if init_type == \"random\":\n",
        "        weights.append(np.random.randn(self.input_shape, self.k))\n",
        "        biases.append(np.random.randn(self.k, 1))\n",
        "        for i in range(self.n_h - 1):\n",
        "            weights.append(np.random.randn(self.k, self.k))\n",
        "            biases.append(np.random.randn(self.k, 1))\n",
        "        weights.append(np.random.randn(self.k, self.output_shape))\n",
        "        biases.append(np.random.randn(self.output_shape, 1))\n",
        "    elif init_type == \"xavier\":\n",
        "        # Xavier Initialization\n",
        "        weights.append(np.random.randn(self.input_shape, self.k) * np.sqrt(2 / (self.input_shape + self.k)))\n",
        "        biases.append(np.zeros((self.k, 1)))  # Biases are usually initialized to 0\n",
        "        for i in range(self.n_h - 1):\n",
        "            weights.append(np.random.randn(self.k, self.k) * np.sqrt(2 / (self.k + self.k)))\n",
        "            biases.append(np.zeros((self.k, 1)))\n",
        "        weights.append(np.random.randn(self.k, self.output_shape) * np.sqrt(2 / (self.k + self.output_shape)))\n",
        "        biases.append(np.zeros((self.output_shape, 1)))\n",
        "    return weights, biases\n",
        "\n",
        "  def update_parameters(self):\n",
        "    for i in range(len(self.weights)):\n",
        "      grad_w = np.array(self.grad_weights[i])\n",
        "      grad_b = np.array(self.grad_biases[i])\n",
        "      if self.opt_name == \"sgd\":\n",
        "          self.weights[i], self.biases[i] = self.optimizer_function(\n",
        "              self.weights[i], self.biases[i],grad_w,grad_b)\n",
        "      else:\n",
        "          self.weights[i], self.biases[i] = self.optimizer_function(\n",
        "              self.weights[i], self.biases[i],grad_w,grad_b,key=f\"layer_{i}\")\n",
        "\n",
        "  def forward(self,x):\n",
        "    a_list = [0]*(self.n_h+2)\n",
        "    h_list = [0]*(self.n_h+2)\n",
        "    h = x.T\n",
        "    h_list[0] = h\n",
        "    for i in range(self.n_h):\n",
        "      a_list[i+1] = np.dot(self.weights[i].T,h_list[i])+self.biases[i] #biases are broadcasted\n",
        "      h_list[i+1] = self.activation(a_list[i+1])\n",
        "    a_list[self.n_h+1] = np.dot(self.weights[self.n_h].T,h_list[self.n_h])+self.biases[self.n_h]\n",
        "    y_hat = self.softmax(a_list[self.n_h+1]).T\n",
        "    h_list[self.n_h+1] = y_hat\n",
        "    return a_list,h_list\n",
        "  def backward(self,a_list,h_list,y):\n",
        "    a_grad_list = [0]*(self.n_h+2)\n",
        "    h_grad_list = [0]*(self.n_h+2)\n",
        "    y_hat = h_list[self.n_h+1]\n",
        "    if self.loss_func == \"cross_entropy_loss\": #gradient wrt output layer\n",
        "      a_grad = (y_hat - self.one_hot(y)).T\n",
        "    elif self.loss_func == \"squared_error\":\n",
        "      a_grad = 2*(np.argmax(y_hat,axis=0) - y) #must be changed appropriately\n",
        "    a_grad_list[-1] = a_grad\n",
        "    for k in range(self.n_h,-1,-1): # gradient wrt hiddden layers\n",
        "      h_grad = np.dot(self.weights[k],a_grad_list[k+1])\n",
        "      h_grad_list[k] = h_grad\n",
        "      a_grad = np.multiply(h_grad,self.activation_grad(a_list[k]))\n",
        "      a_grad_list[k] = a_grad\n",
        "      self.grad_weights[k] = np.dot(a_grad_list[k+1],h_list[k].T).T + + self.l2_reg * self.weights[k] #gradients wrt parameters\n",
        "      self.grad_biases[k] = np.sum(a_grad_list[k+1],axis=1, keepdims=True)\n",
        "  def train(self,x_train,y_train,x_val,y_val,lr=1e-3,epochs=10,batch_size=32):\n",
        "    train_loss_list = []\n",
        "    train_acc_list = []\n",
        "    val_loss_list = []\n",
        "    val_acc_list = []\n",
        "    for i in range(epochs):\n",
        "      start = time.time()\n",
        "      indices = np.arange(len(x_train))\n",
        "      np.random.shuffle(indices)\n",
        "      if self.opt_name == 'sgd':\n",
        "        batch_size=1\n",
        "      else:\n",
        "        batch_size = batch_size\n",
        "      per_epoch_loss = []\n",
        "      per_epoch_acc = []\n",
        "      for j in range(0,len(x_train),batch_size):\n",
        "        #startf = time.time()\n",
        "        batch_indices = indices[j:j+batch_size]\n",
        "        x_batch = x_train[batch_indices]\n",
        "        y_batch = y_train[batch_indices]\n",
        "        a_list_train,h_list_train = self.forward(x_batch) # forward pass\n",
        "        #end_time_f = time.time()\n",
        "        #startb = time.time()\n",
        "        #print(\"forward pass done\")\n",
        "        self.backward(a_list_train,h_list_train,y_batch) # backward pass\n",
        "        #end_time_b = time.time()\n",
        "        #starto = time.time()\n",
        "        #print(\"backward pass done\")\n",
        "        self.update_parameters()\n",
        "        #self.optimizer_function(lr=lr) # updating weights\n",
        "        #end_time_o = time.time()\n",
        "        #print(\"optimizer done\")\n",
        "        y_hat = h_list_train[self.n_h+1]\n",
        "        per_epoch_loss.append(self.loss(y_hat,self.one_hot(y_batch)))\n",
        "        per_epoch_acc.append(self.accuracy(np.argmax(np.array(y_hat),axis=1),y_batch))\n",
        "      train_loss = np.mean(per_epoch_loss)\n",
        "      train_acc = np.mean(per_epoch_acc)\n",
        "      train_loss_list.append(train_loss)\n",
        "      train_acc_list.append(train_acc)\n",
        "      #print(f\"Epoch: {i+1} | Batch: {j+1}/{len(x_train)} | f_time: {(end_time_f-startf): .6f} | b_time:{(end_time_b-startb): .6f} | o_time:{(end_time_o-starto): .6f}\")\n",
        "      #print(\"Train Loss: \",train_loss,\"Train Accuracy: \",train_acc)\n",
        "      a_list_val,h_list_val = self.forward(x_val)\n",
        "      y_hat_val = h_list_val[self.n_h+1]\n",
        "      val_loss = self.loss(y_hat_val,self.one_hot(y_val))\n",
        "      val_acc = self.accuracy(np.argmax(np.array(y_hat_val),axis=1),y_val)\n",
        "      val_loss_list.append(val_loss)\n",
        "      val_acc_list.append(val_acc)\n",
        "      end = time.time()\n",
        "      # Log metrics\n",
        "      wandb.log({\n",
        "          \"train_loss\": train_loss,\n",
        "          \"train_acc\": train_acc,\n",
        "          \"val_loss\": val_loss,\n",
        "          \"val_acc\": val_acc,\n",
        "          \"epoch\": i+1\n",
        "      })\n",
        "      print(f\"Epoch: {i+1} | Time: {(end-start):.2f} | Train Loss: {train_loss:.4f} | Train Accuracy: {train_acc:.4f} | Val Loss: {val_loss:.4f} | Val Accuracy: {val_acc:.4f}\")\n",
        "    return train_loss_list,train_acc_list,val_loss_list,val_acc_list"
      ],
      "metadata": {
        "id": "5BE2JhcCJoUV"
      },
      "execution_count": 19,
      "outputs": []
    },
    {
      "cell_type": "code",
      "source": [
        "wandb.finish()\n",
        "wandb.init(project=\"Example_run\")\n",
        "# Hyperparameters\n",
        "num_hid_layers = 3 #3,4,5\n",
        "hid_layer_size = 64  # Changeable number of layers\n",
        "weight_init = 'xavier'  # Options: 'random', 'xavier'\n",
        "activation = 'relu'  # Options: 'sigmoid', 'tanh', 'relu'\n",
        "l2_reg = 0.05  # L2 regularization strength\n",
        "lr = 1e-3  # Options: 1e-3, 1e-4\n",
        "batch_size = 64  # Options: 16, 32, 64\n",
        "epochs = 3  # Options: 5, 10\n",
        "optimizer_func = 'momentum'  # Options: 'sgd', 'momentum', 'nesterov', 'rmsprop', 'adam', 'nadam'\n",
        "loss_func = 'cross_entropy_loss'  # Options: 'cross_entropy_loss', 'squared_error'\n",
        "# self,input_shape,output_shape,n_hidden_layers,h_per_layer,activation_func=\"ReLU\",loss_func=\"cross_entropy_loss\"\n",
        "# Initialize and train the model\n",
        "nn = NN(input_shape=784,output_shape=10,n_hidden_layers=num_hid_layers, h_per_layer=hid_layer_size, activation_func=activation, init_type=weight_init, loss_func=loss_func,l2_reg=l2_reg,optimizer_func=optimizer_func)\n",
        "train_loss_list,train_acc_list,val_loss_list,val_acc_list = nn.train(x_train, y_train, x_val, y_val, epochs=epochs,lr=lr,batch_size=batch_size)\n",
        "wandb.finish()"
      ],
      "metadata": {
        "colab": {
          "base_uri": "https://localhost:8080/",
          "height": 624
        },
        "id": "lQgXsVYBy4XP",
        "outputId": "1f76af73-e9b2-4d39-9d25-1acd95fc6bb5"
      },
      "execution_count": 20,
      "outputs": [
        {
          "output_type": "display_data",
          "data": {
            "text/plain": [
              "<IPython.core.display.HTML object>"
            ],
            "text/html": [
              "Tracking run with wandb version 0.19.8"
            ]
          },
          "metadata": {}
        },
        {
          "output_type": "display_data",
          "data": {
            "text/plain": [
              "<IPython.core.display.HTML object>"
            ],
            "text/html": [
              "Run data is saved locally in <code>/content/wandb/run-20250316_203406-83n288ii</code>"
            ]
          },
          "metadata": {}
        },
        {
          "output_type": "display_data",
          "data": {
            "text/plain": [
              "<IPython.core.display.HTML object>"
            ],
            "text/html": [
              "Syncing run <strong><a href='https://wandb.ai/yeshu183-indian-institute-of-technology-madras/Example_run/runs/83n288ii' target=\"_blank\">fancy-paper-7</a></strong> to <a href='https://wandb.ai/yeshu183-indian-institute-of-technology-madras/Example_run' target=\"_blank\">Weights & Biases</a> (<a href='https://wandb.me/developer-guide' target=\"_blank\">docs</a>)<br>"
            ]
          },
          "metadata": {}
        },
        {
          "output_type": "display_data",
          "data": {
            "text/plain": [
              "<IPython.core.display.HTML object>"
            ],
            "text/html": [
              " View project at <a href='https://wandb.ai/yeshu183-indian-institute-of-technology-madras/Example_run' target=\"_blank\">https://wandb.ai/yeshu183-indian-institute-of-technology-madras/Example_run</a>"
            ]
          },
          "metadata": {}
        },
        {
          "output_type": "display_data",
          "data": {
            "text/plain": [
              "<IPython.core.display.HTML object>"
            ],
            "text/html": [
              " View run at <a href='https://wandb.ai/yeshu183-indian-institute-of-technology-madras/Example_run/runs/83n288ii' target=\"_blank\">https://wandb.ai/yeshu183-indian-institute-of-technology-madras/Example_run/runs/83n288ii</a>"
            ]
          },
          "metadata": {}
        },
        {
          "output_type": "stream",
          "name": "stdout",
          "text": [
            "Epoch: 1 | Time: 3.45 | Train Loss: 0.6250 | Train Accuracy: 0.7717 | Val Loss: 0.5013 | Val Accuracy: 0.8197\n",
            "Epoch: 2 | Time: 2.37 | Train Loss: 0.4833 | Train Accuracy: 0.8268 | Val Loss: 0.5241 | Val Accuracy: 0.8220\n",
            "Epoch: 3 | Time: 2.39 | Train Loss: 0.4577 | Train Accuracy: 0.8358 | Val Loss: 0.4946 | Val Accuracy: 0.8253\n"
          ]
        },
        {
          "output_type": "display_data",
          "data": {
            "text/plain": [
              "<IPython.core.display.HTML object>"
            ],
            "text/html": []
          },
          "metadata": {}
        },
        {
          "output_type": "display_data",
          "data": {
            "text/plain": [
              "<IPython.core.display.HTML object>"
            ],
            "text/html": [
              "<br>    <style><br>        .wandb-row {<br>            display: flex;<br>            flex-direction: row;<br>            flex-wrap: wrap;<br>            justify-content: flex-start;<br>            width: 100%;<br>        }<br>        .wandb-col {<br>            display: flex;<br>            flex-direction: column;<br>            flex-basis: 100%;<br>            flex: 1;<br>            padding: 10px;<br>        }<br>    </style><br><div class=\"wandb-row\"><div class=\"wandb-col\"><h3>Run history:</h3><br/><table class=\"wandb\"><tr><td>epoch</td><td>▁▅█</td></tr><tr><td>train_acc</td><td>▁▇█</td></tr><tr><td>train_loss</td><td>█▂▁</td></tr><tr><td>val_acc</td><td>▁▄█</td></tr><tr><td>val_loss</td><td>▃█▁</td></tr></table><br/></div><div class=\"wandb-col\"><h3>Run summary:</h3><br/><table class=\"wandb\"><tr><td>epoch</td><td>3</td></tr><tr><td>train_acc</td><td>0.83581</td></tr><tr><td>train_loss</td><td>0.45769</td></tr><tr><td>val_acc</td><td>0.82533</td></tr><tr><td>val_loss</td><td>0.49456</td></tr></table><br/></div></div>"
            ]
          },
          "metadata": {}
        },
        {
          "output_type": "display_data",
          "data": {
            "text/plain": [
              "<IPython.core.display.HTML object>"
            ],
            "text/html": [
              " View run <strong style=\"color:#cdcd00\">fancy-paper-7</strong> at: <a href='https://wandb.ai/yeshu183-indian-institute-of-technology-madras/Example_run/runs/83n288ii' target=\"_blank\">https://wandb.ai/yeshu183-indian-institute-of-technology-madras/Example_run/runs/83n288ii</a><br> View project at: <a href='https://wandb.ai/yeshu183-indian-institute-of-technology-madras/Example_run' target=\"_blank\">https://wandb.ai/yeshu183-indian-institute-of-technology-madras/Example_run</a><br>Synced 5 W&B file(s), 0 media file(s), 0 artifact file(s) and 0 other file(s)"
            ]
          },
          "metadata": {}
        },
        {
          "output_type": "display_data",
          "data": {
            "text/plain": [
              "<IPython.core.display.HTML object>"
            ],
            "text/html": [
              "Find logs at: <code>./wandb/run-20250316_203406-83n288ii/logs</code>"
            ]
          },
          "metadata": {}
        }
      ]
    },
    {
      "cell_type": "code",
      "source": [
        "# Initialize Weights & Biases (wandb)\n",
        "wandb.finish()\n",
        "\n",
        "\n",
        "# nn = NN(input_shape=784,output_shape=10,n_hidden_layers=num_hid_layers, h_per_layer=hid_layer_size, activation_func=activation, init_type=weight_init, loss_func=loss_func,l2_reg=l2_reg)\n",
        "# train_loss_list,train_acc_list,val_loss_list,val_acc_list = nn.train(x_train, y_train, x_val, y_val, epochs=epochs,lr=lr,batch_size=batch_size)\n",
        "\n",
        "# Define sweep configuration\n",
        "sweep_config = {\n",
        "    'method': 'bayes',  # Options: grid, random, bayes\n",
        "    'metric': {'name': 'final_val_acc', 'goal': 'maximize'},\n",
        "    'parameters': {\n",
        "        'loss_func': {'values': ['cross_entropy_loss']},#, 'squared_error'\n",
        "        'epochs': {'values': [5,10]},\n",
        "        'num_hid_layers': {'values': [3, 4, 5]},\n",
        "        'hid_layer_size': {'values': [32,64,128]},\n",
        "        'weight_init': {'values': ['random', 'xavier']},\n",
        "        'activation': {'values': ['sigmoid', 'tanh', 'relu']},\n",
        "        'l2_reg': {'values': [0, 0.0005, 0.5]},\n",
        "        'learning_rate': {'values': [1e-2, 1e-3, 1e-4]},\n",
        "        'batch_size': {'values': [16, 32, 64]},\n",
        "        'optimizer_func': {'values': ['sgd','momentum', 'nesterov', 'rmsprop', 'adam', 'nadam']}\n",
        "    }\n",
        "}\n",
        "\n",
        "sweep_id = wandb.sweep(sweep_config, project=\"New Sweep\")\n",
        "\n",
        "def train_sweep():\n",
        "    wandb.init(project=\"New Sweep\")\n",
        "    config = wandb.config\n",
        "    wandb.run.name = f\"e_{config.epochs}_hl_{config.num_hid_layers}_bs_{config.batch_size}_init_{config.weight_init}_ac_{config.activation}_op_{config.optimizer_func}_lo_{config.loss_func}\"\n",
        "\n",
        "    nn = NN(\n",
        "        input_shape=784,\n",
        "        n_hidden_layers=config.num_hid_layers,\n",
        "        h_per_layer=config.hid_layer_size,\n",
        "        activation_func=config.activation,\n",
        "        init_type=config.weight_init,\n",
        "        l2_reg=config.l2_reg,\n",
        "        optimizer_func=config.optimizer_func,\n",
        "        loss_func=config.loss_func,\n",
        "        output_shape=10\n",
        "    )\n",
        "\n",
        "    train_loss_list,train_acc_list,val_loss_list,val_acc_list = nn.train(x_train, y_train, x_val, y_val, epochs=config.epochs, batch_size=config.batch_size,lr=config.learning_rate)\n",
        "\n",
        "    a_list_val,h_list_val = nn.forward(x_val)\n",
        "    y_hat_val = h_list_val[nn.n_h+1]\n",
        "    final_val_loss = nn.loss(y_hat_val,nn.one_hot(y_val))\n",
        "    final_val_acc = nn.accuracy(np.argmax(np.array(y_hat_val),axis=1),y_val)\n",
        "    wandb.log({\"train_loss\": train_loss_list})\n",
        "    wandb.log({\"train_acc\": train_acc_list})\n",
        "    wandb.log({\"val_loss\": val_loss_list})\n",
        "    wandb.log({\"val_acc\": val_acc_list})\n",
        "    wandb.log({\"final_val_loss\": final_val_loss})\n",
        "    wandb.log({\"final_val_acc\": final_val_acc})\n",
        "    print(f\"Validation Loss: {final_val_loss:.4f}, Validation Accuracy: {final_val_acc:.4f}\")\n",
        "\n",
        "wandb.agent(sweep_id, function=train_sweep,count=100)\n",
        "wandb.finish()"
      ],
      "metadata": {
        "colab": {
          "base_uri": "https://localhost:8080/",
          "height": 1000
        },
        "id": "L4rH1muGQpM5",
        "outputId": "d2127fc1-6814-4d4a-b011-685317f20af2"
      },
      "execution_count": null,
      "outputs": [
        {
          "output_type": "stream",
          "name": "stdout",
          "text": [
            "Create sweep with ID: 90ukdxze\n",
            "Sweep URL: https://wandb.ai/yeshu183-indian-institute-of-technology-madras/New%20Sweep/sweeps/90ukdxze\n"
          ]
        },
        {
          "output_type": "stream",
          "name": "stderr",
          "text": [
            "\u001b[34m\u001b[1mwandb\u001b[0m: Agent Starting Run: kcmxhkfm with config:\n",
            "\u001b[34m\u001b[1mwandb\u001b[0m: \tactivation: sigmoid\n",
            "\u001b[34m\u001b[1mwandb\u001b[0m: \tbatch_size: 64\n",
            "\u001b[34m\u001b[1mwandb\u001b[0m: \tepochs: 10\n",
            "\u001b[34m\u001b[1mwandb\u001b[0m: \thid_layer_size: 32\n",
            "\u001b[34m\u001b[1mwandb\u001b[0m: \tl2_reg: 0.0005\n",
            "\u001b[34m\u001b[1mwandb\u001b[0m: \tlearning_rate: 0.0001\n",
            "\u001b[34m\u001b[1mwandb\u001b[0m: \tloss_func: cross_entropy_loss\n",
            "\u001b[34m\u001b[1mwandb\u001b[0m: \tnum_hid_layers: 4\n",
            "\u001b[34m\u001b[1mwandb\u001b[0m: \toptimizer_func: nadam\n",
            "\u001b[34m\u001b[1mwandb\u001b[0m: \tweight_init: xavier\n"
          ]
        },
        {
          "output_type": "display_data",
          "data": {
            "text/plain": [
              "<IPython.core.display.HTML object>"
            ],
            "text/html": [
              "Ignoring project 'New Sweep' when running a sweep."
            ]
          },
          "metadata": {}
        },
        {
          "output_type": "display_data",
          "data": {
            "text/plain": [
              "<IPython.core.display.HTML object>"
            ],
            "text/html": [
              "Tracking run with wandb version 0.19.8"
            ]
          },
          "metadata": {}
        },
        {
          "output_type": "display_data",
          "data": {
            "text/plain": [
              "<IPython.core.display.HTML object>"
            ],
            "text/html": [
              "Run data is saved locally in <code>/content/wandb/run-20250316_203807-kcmxhkfm</code>"
            ]
          },
          "metadata": {}
        },
        {
          "output_type": "display_data",
          "data": {
            "text/plain": [
              "<IPython.core.display.HTML object>"
            ],
            "text/html": [
              "Syncing run <strong><a href='https://wandb.ai/yeshu183-indian-institute-of-technology-madras/New%20Sweep/runs/kcmxhkfm' target=\"_blank\">tough-sweep-1</a></strong> to <a href='https://wandb.ai/yeshu183-indian-institute-of-technology-madras/New%20Sweep' target=\"_blank\">Weights & Biases</a> (<a href='https://wandb.me/developer-guide' target=\"_blank\">docs</a>)<br>Sweep page: <a href='https://wandb.ai/yeshu183-indian-institute-of-technology-madras/New%20Sweep/sweeps/90ukdxze' target=\"_blank\">https://wandb.ai/yeshu183-indian-institute-of-technology-madras/New%20Sweep/sweeps/90ukdxze</a>"
            ]
          },
          "metadata": {}
        },
        {
          "output_type": "display_data",
          "data": {
            "text/plain": [
              "<IPython.core.display.HTML object>"
            ],
            "text/html": [
              " View project at <a href='https://wandb.ai/yeshu183-indian-institute-of-technology-madras/New%20Sweep' target=\"_blank\">https://wandb.ai/yeshu183-indian-institute-of-technology-madras/New%20Sweep</a>"
            ]
          },
          "metadata": {}
        },
        {
          "output_type": "display_data",
          "data": {
            "text/plain": [
              "<IPython.core.display.HTML object>"
            ],
            "text/html": [
              " View sweep at <a href='https://wandb.ai/yeshu183-indian-institute-of-technology-madras/New%20Sweep/sweeps/90ukdxze' target=\"_blank\">https://wandb.ai/yeshu183-indian-institute-of-technology-madras/New%20Sweep/sweeps/90ukdxze</a>"
            ]
          },
          "metadata": {}
        },
        {
          "output_type": "display_data",
          "data": {
            "text/plain": [
              "<IPython.core.display.HTML object>"
            ],
            "text/html": [
              " View run at <a href='https://wandb.ai/yeshu183-indian-institute-of-technology-madras/New%20Sweep/runs/kcmxhkfm' target=\"_blank\">https://wandb.ai/yeshu183-indian-institute-of-technology-madras/New%20Sweep/runs/kcmxhkfm</a>"
            ]
          },
          "metadata": {}
        },
        {
          "output_type": "stream",
          "name": "stdout",
          "text": [
            "Epoch: 1 | Time: 4.46 | Train Loss: 1.2462 | Train Accuracy: 0.5232 | Val Loss: 0.8471 | Val Accuracy: 0.6988\n",
            "Epoch: 2 | Time: 2.65 | Train Loss: 0.7322 | Train Accuracy: 0.7278 | Val Loss: 0.6586 | Val Accuracy: 0.7492\n",
            "Epoch: 3 | Time: 2.39 | Train Loss: 0.6044 | Train Accuracy: 0.7851 | Val Loss: 0.5624 | Val Accuracy: 0.8080\n",
            "Epoch: 4 | Time: 2.36 | Train Loss: 0.5203 | Train Accuracy: 0.8250 | Val Loss: 0.5259 | Val Accuracy: 0.8223\n",
            "Epoch: 5 | Time: 3.11 | Train Loss: 0.4566 | Train Accuracy: 0.8475 | Val Loss: 0.4602 | Val Accuracy: 0.8427\n",
            "Epoch: 6 | Time: 3.91 | Train Loss: 0.4200 | Train Accuracy: 0.8566 | Val Loss: 0.4388 | Val Accuracy: 0.8485\n",
            "Epoch: 7 | Time: 2.39 | Train Loss: 0.3965 | Train Accuracy: 0.8624 | Val Loss: 0.4173 | Val Accuracy: 0.8570\n",
            "Epoch: 8 | Time: 2.39 | Train Loss: 0.3784 | Train Accuracy: 0.8693 | Val Loss: 0.4048 | Val Accuracy: 0.8595\n",
            "Epoch: 9 | Time: 2.35 | Train Loss: 0.3660 | Train Accuracy: 0.8726 | Val Loss: 0.4008 | Val Accuracy: 0.8602\n",
            "Epoch: 10 | Time: 3.25 | Train Loss: 0.3534 | Train Accuracy: 0.8770 | Val Loss: 0.3900 | Val Accuracy: 0.8650\n",
            "Validation Loss: 0.3900, Validation Accuracy: 0.8650\n"
          ]
        },
        {
          "output_type": "display_data",
          "data": {
            "text/plain": [
              "<IPython.core.display.HTML object>"
            ],
            "text/html": []
          },
          "metadata": {}
        },
        {
          "output_type": "display_data",
          "data": {
            "text/plain": [
              "<IPython.core.display.HTML object>"
            ],
            "text/html": [
              "<br>    <style><br>        .wandb-row {<br>            display: flex;<br>            flex-direction: row;<br>            flex-wrap: wrap;<br>            justify-content: flex-start;<br>            width: 100%;<br>        }<br>        .wandb-col {<br>            display: flex;<br>            flex-direction: column;<br>            flex-basis: 100%;<br>            flex: 1;<br>            padding: 10px;<br>        }<br>    </style><br><div class=\"wandb-row\"><div class=\"wandb-col\"><h3>Run history:</h3><br/><table class=\"wandb\"><tr><td>epoch</td><td>▁▂▃▃▄▅▆▆▇█</td></tr><tr><td>final_val_acc</td><td>▁</td></tr><tr><td>final_val_loss</td><td>▁</td></tr><tr><td>train_acc</td><td>▁▅▆▇▇█████</td></tr><tr><td>train_loss</td><td>█▄▃▂▂▂▁▁▁▁</td></tr><tr><td>val_acc</td><td>▁▃▆▆▇▇████</td></tr><tr><td>val_loss</td><td>█▅▄▃▂▂▁▁▁▁</td></tr></table><br/></div><div class=\"wandb-col\"><h3>Run summary:</h3><br/><table class=\"wandb\"><tr><td>epoch</td><td>10</td></tr><tr><td>final_val_acc</td><td>0.865</td></tr><tr><td>final_val_loss</td><td>0.39001</td></tr></table><br/></div></div>"
            ]
          },
          "metadata": {}
        },
        {
          "output_type": "display_data",
          "data": {
            "text/plain": [
              "<IPython.core.display.HTML object>"
            ],
            "text/html": [
              " View run <strong style=\"color:#cdcd00\">e_10_hl_4_bs_64_init_xavier_ac_sigmoid_op_nadam_lo_cross_entropy_loss</strong> at: <a href='https://wandb.ai/yeshu183-indian-institute-of-technology-madras/New%20Sweep/runs/kcmxhkfm' target=\"_blank\">https://wandb.ai/yeshu183-indian-institute-of-technology-madras/New%20Sweep/runs/kcmxhkfm</a><br> View project at: <a href='https://wandb.ai/yeshu183-indian-institute-of-technology-madras/New%20Sweep' target=\"_blank\">https://wandb.ai/yeshu183-indian-institute-of-technology-madras/New%20Sweep</a><br>Synced 5 W&B file(s), 0 media file(s), 0 artifact file(s) and 0 other file(s)"
            ]
          },
          "metadata": {}
        },
        {
          "output_type": "display_data",
          "data": {
            "text/plain": [
              "<IPython.core.display.HTML object>"
            ],
            "text/html": [
              "Find logs at: <code>./wandb/run-20250316_203807-kcmxhkfm/logs</code>"
            ]
          },
          "metadata": {}
        },
        {
          "output_type": "stream",
          "name": "stderr",
          "text": [
            "\u001b[34m\u001b[1mwandb\u001b[0m: Agent Starting Run: dy8r3fba with config:\n",
            "\u001b[34m\u001b[1mwandb\u001b[0m: \tactivation: tanh\n",
            "\u001b[34m\u001b[1mwandb\u001b[0m: \tbatch_size: 32\n",
            "\u001b[34m\u001b[1mwandb\u001b[0m: \tepochs: 10\n",
            "\u001b[34m\u001b[1mwandb\u001b[0m: \thid_layer_size: 128\n",
            "\u001b[34m\u001b[1mwandb\u001b[0m: \tl2_reg: 0\n",
            "\u001b[34m\u001b[1mwandb\u001b[0m: \tlearning_rate: 0.0001\n",
            "\u001b[34m\u001b[1mwandb\u001b[0m: \tloss_func: cross_entropy_loss\n",
            "\u001b[34m\u001b[1mwandb\u001b[0m: \tnum_hid_layers: 3\n",
            "\u001b[34m\u001b[1mwandb\u001b[0m: \toptimizer_func: nadam\n",
            "\u001b[34m\u001b[1mwandb\u001b[0m: \tweight_init: random\n"
          ]
        },
        {
          "output_type": "display_data",
          "data": {
            "text/plain": [
              "<IPython.core.display.HTML object>"
            ],
            "text/html": [
              "Ignoring project 'New Sweep' when running a sweep."
            ]
          },
          "metadata": {}
        },
        {
          "output_type": "display_data",
          "data": {
            "text/plain": [
              "<IPython.core.display.HTML object>"
            ],
            "text/html": [
              "Tracking run with wandb version 0.19.8"
            ]
          },
          "metadata": {}
        },
        {
          "output_type": "display_data",
          "data": {
            "text/plain": [
              "<IPython.core.display.HTML object>"
            ],
            "text/html": [
              "Run data is saved locally in <code>/content/wandb/run-20250316_203843-dy8r3fba</code>"
            ]
          },
          "metadata": {}
        },
        {
          "output_type": "display_data",
          "data": {
            "text/plain": [
              "<IPython.core.display.HTML object>"
            ],
            "text/html": [
              "Syncing run <strong><a href='https://wandb.ai/yeshu183-indian-institute-of-technology-madras/New%20Sweep/runs/dy8r3fba' target=\"_blank\">rural-sweep-2</a></strong> to <a href='https://wandb.ai/yeshu183-indian-institute-of-technology-madras/New%20Sweep' target=\"_blank\">Weights & Biases</a> (<a href='https://wandb.me/developer-guide' target=\"_blank\">docs</a>)<br>Sweep page: <a href='https://wandb.ai/yeshu183-indian-institute-of-technology-madras/New%20Sweep/sweeps/90ukdxze' target=\"_blank\">https://wandb.ai/yeshu183-indian-institute-of-technology-madras/New%20Sweep/sweeps/90ukdxze</a>"
            ]
          },
          "metadata": {}
        },
        {
          "output_type": "display_data",
          "data": {
            "text/plain": [
              "<IPython.core.display.HTML object>"
            ],
            "text/html": [
              " View project at <a href='https://wandb.ai/yeshu183-indian-institute-of-technology-madras/New%20Sweep' target=\"_blank\">https://wandb.ai/yeshu183-indian-institute-of-technology-madras/New%20Sweep</a>"
            ]
          },
          "metadata": {}
        },
        {
          "output_type": "display_data",
          "data": {
            "text/plain": [
              "<IPython.core.display.HTML object>"
            ],
            "text/html": [
              " View sweep at <a href='https://wandb.ai/yeshu183-indian-institute-of-technology-madras/New%20Sweep/sweeps/90ukdxze' target=\"_blank\">https://wandb.ai/yeshu183-indian-institute-of-technology-madras/New%20Sweep/sweeps/90ukdxze</a>"
            ]
          },
          "metadata": {}
        },
        {
          "output_type": "display_data",
          "data": {
            "text/plain": [
              "<IPython.core.display.HTML object>"
            ],
            "text/html": [
              " View run at <a href='https://wandb.ai/yeshu183-indian-institute-of-technology-madras/New%20Sweep/runs/dy8r3fba' target=\"_blank\">https://wandb.ai/yeshu183-indian-institute-of-technology-madras/New%20Sweep/runs/dy8r3fba</a>"
            ]
          },
          "metadata": {}
        },
        {
          "output_type": "stream",
          "name": "stdout",
          "text": [
            "Epoch: 1 | Time: 19.01 | Train Loss: 2.9755 | Train Accuracy: 0.5466 | Val Loss: 1.4293 | Val Accuracy: 0.6462\n",
            "Epoch: 2 | Time: 16.24 | Train Loss: 1.2196 | Train Accuracy: 0.6492 | Val Loss: 1.0358 | Val Accuracy: 0.6843\n",
            "Epoch: 3 | Time: 17.51 | Train Loss: 0.9610 | Train Accuracy: 0.6956 | Val Loss: 0.9146 | Val Accuracy: 0.7095\n",
            "Epoch: 4 | Time: 16.05 | Train Loss: 0.8239 | Train Accuracy: 0.7172 | Val Loss: 0.7990 | Val Accuracy: 0.7228\n",
            "Epoch: 5 | Time: 15.46 | Train Loss: 0.7289 | Train Accuracy: 0.7447 | Val Loss: 0.7340 | Val Accuracy: 0.7558\n",
            "Epoch: 6 | Time: 15.88 | Train Loss: 0.6752 | Train Accuracy: 0.7618 | Val Loss: 0.6846 | Val Accuracy: 0.7693\n"
          ]
        }
      ]
    },
    {
      "cell_type": "code",
      "source": [
        "plt.plot(train_acc_list)\n",
        "plt.plot(val_acc_list)\n",
        "#plt.plot(train_loss_list)\n",
        "#plt.plot(val_loss_list)\n",
        "plt.xlabel(\"Epochs\")\n",
        "plt.ylabel(\"Acc\")"
      ],
      "metadata": {
        "colab": {
          "base_uri": "https://localhost:8080/",
          "height": 466
        },
        "id": "_U3OP1_Yy4Tz",
        "outputId": "f05101ed-b558-45ef-be44-6da3d51b1e6e"
      },
      "execution_count": 9,
      "outputs": [
        {
          "output_type": "execute_result",
          "data": {
            "text/plain": [
              "Text(0, 0.5, 'Acc')"
            ]
          },
          "metadata": {},
          "execution_count": 9
        },
        {
          "output_type": "display_data",
          "data": {
            "text/plain": [
              "<Figure size 640x480 with 1 Axes>"
            ],
            "image/png": "[encoded data removed]"
          },
          "metadata": {}
        }
      ]
    },
    {
      "cell_type": "code",
      "source": [
        "plt.plot(train_loss_list)\n",
        "plt.plot(val_loss_list)\n",
        "plt.xlabel(\"Epochs\")\n",
        "plt.ylabel(\"Loss\")"
      ],
      "metadata": {
        "colab": {
          "base_uri": "https://localhost:8080/",
          "height": 466
        },
        "id": "jCTWrR1By4RA",
        "outputId": "0b81553b-7e41-444e-982e-7b4317c9e98a"
      },
      "execution_count": 10,
      "outputs": [
        {
          "output_type": "execute_result",
          "data": {
            "text/plain": [
              "Text(0, 0.5, 'Loss')"
            ]
          },
          "metadata": {},
          "execution_count": 10
        },
        {
          "output_type": "display_data",
          "data": {
            "text/plain": [
              "<Figure size 640x480 with 1 Axes>"
            ],
            "image/png": "[encoded data removed]"
          },
          "metadata": {}
        }
      ]
    },
    {
      "cell_type": "code",
      "source": [],
      "metadata": {
        "id": "S_IjmXtRy4OV"
      },
      "execution_count": 10,
      "outputs": []
    },
    {
      "cell_type": "code",
      "source": [],
      "metadata": {
        "id": "5VGQ3r6Cy4Bi"
      },
      "execution_count": 10,
      "outputs": []
    },
    {
      "cell_type": "code",
      "source": [],
      "metadata": {
        "id": "P8pNfdXxy3-M"
      },
      "execution_count": 10,
      "outputs": []
    }
  ],
  "metadata": {
    "kernelspec": {
      "display_name": "Python 3",
      "name": "python3"
    },
    "language_info": {
      "codemirror_mode": {
        "name": "ipython",
        "version": 3
      },
      "file_extension": ".py",
      "mimetype": "text/x-python",
      "name": "python",
      "nbconvert_exporter": "python",
      "pygments_lexer": "ipython3",
      "version": "3.12.2"
    },
    "colab": {
      "provenance": []
    }
  },
  "nbformat": 4,
  "nbformat_minor": 0
}