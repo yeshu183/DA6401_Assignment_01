{
  "cells": [
    {
      "cell_type": "code",
      "execution_count": 1,
      "metadata": {
        "id": "ORZgzk52GSAT"
      },
      "outputs": [],
      "source": [
        "import numpy as np\n",
        "import pandas as pd\n",
        "import matplotlib.pyplot as plt\n",
        "import seaborn as sns\n",
        "from keras.datasets import fashion_mnist,mnist\n",
        "import time\n",
        "import pickle"
      ]
    },
    {
      "cell_type": "code",
      "source": [
        "import wandb\n",
        "wandb.login()\n",
        "#API Key: f659082c2b19bf3ffaaceceb36c1e280541f6b11"
      ],
      "metadata": {
        "colab": {
          "base_uri": "https://localhost:8080/",
          "height": 228
        },
        "id": "yFML75noWRV3",
        "outputId": "296d8148-1976-4bb4-8e98-7b6be46c5bef"
      },
      "execution_count": 2,
      "outputs": [
        {
          "output_type": "stream",
          "name": "stderr",
          "text": [
            "\u001b[34m\u001b[1mwandb\u001b[0m: Using wandb-core as the SDK backend.  Please refer to https://wandb.me/wandb-core for more information.\n"
          ]
        },
        {
          "output_type": "display_data",
          "data": {
            "text/plain": [
              "<IPython.core.display.Javascript object>"
            ],
            "application/javascript": [
              "\n",
              "        window._wandbApiKey = new Promise((resolve, reject) => {\n",
              "            function loadScript(url) {\n",
              "            return new Promise(function(resolve, reject) {\n",
              "                let newScript = document.createElement(\"script\");\n",
              "                newScript.onerror = reject;\n",
              "                newScript.onload = resolve;\n",
              "                document.body.appendChild(newScript);\n",
              "                newScript.src = url;\n",
              "            });\n",
              "            }\n",
              "            loadScript(\"https://cdn.jsdelivr.net/npm/postmate/build/postmate.min.js\").then(() => {\n",
              "            const iframe = document.createElement('iframe')\n",
              "            iframe.style.cssText = \"width:0;height:0;border:none\"\n",
              "            document.body.appendChild(iframe)\n",
              "            const handshake = new Postmate({\n",
              "                container: iframe,\n",
              "                url: 'https://wandb.ai/authorize'\n",
              "            });\n",
              "            const timeout = setTimeout(() => reject(\"Couldn't auto authenticate\"), 5000)\n",
              "            handshake.then(function(child) {\n",
              "                child.on('authorize', data => {\n",
              "                    clearTimeout(timeout)\n",
              "                    resolve(data)\n",
              "                });\n",
              "            });\n",
              "            })\n",
              "        });\n",
              "    "
            ]
          },
          "metadata": {}
        },
        {
          "output_type": "stream",
          "name": "stderr",
          "text": [
            "\u001b[34m\u001b[1mwandb\u001b[0m: Logging into wandb.ai. (Learn how to deploy a W&B server locally: https://wandb.me/wandb-server)\n",
            "\u001b[34m\u001b[1mwandb\u001b[0m: You can find your API key in your browser here: https://wandb.ai/authorize\n",
            "wandb: Paste an API key from your profile and hit enter:"
          ]
        },
        {
          "name": "stdout",
          "output_type": "stream",
          "text": [
            " ··········\n"
          ]
        },
        {
          "output_type": "stream",
          "name": "stderr",
          "text": [
            "\u001b[34m\u001b[1mwandb\u001b[0m: \u001b[33mWARNING\u001b[0m If you're specifying your api key in code, ensure this code is not shared publicly.\n",
            "\u001b[34m\u001b[1mwandb\u001b[0m: \u001b[33mWARNING\u001b[0m Consider setting the WANDB_API_KEY environment variable, or running `wandb login` from the command line.\n",
            "\u001b[34m\u001b[1mwandb\u001b[0m: No netrc file found, creating one.\n",
            "\u001b[34m\u001b[1mwandb\u001b[0m: Appending key for api.wandb.ai to your netrc file: /root/.netrc\n",
            "\u001b[34m\u001b[1mwandb\u001b[0m: Currently logged in as: \u001b[33myeshu183\u001b[0m (\u001b[33myeshu183-indian-institute-of-technology-madras\u001b[0m) to \u001b[32mhttps://api.wandb.ai\u001b[0m. Use \u001b[1m`wandb login --relogin`\u001b[0m to force relogin\n"
          ]
        },
        {
          "output_type": "execute_result",
          "data": {
            "text/plain": [
              "True"
            ]
          },
          "metadata": {},
          "execution_count": 2
        }
      ]
    },
    {
      "cell_type": "code",
      "source": [
        "(x_train, y_train), (x_test, y_test) = mnist.load_data()"
      ],
      "metadata": {
        "colab": {
          "base_uri": "https://localhost:8080/"
        },
        "id": "T9-iyV5oy94Z",
        "outputId": "6c99f3c6-5027-46a0-f63a-b09f060aadff"
      },
      "execution_count": 3,
      "outputs": [
        {
          "output_type": "stream",
          "name": "stdout",
          "text": [
            "Downloading data from https://storage.googleapis.com/tensorflow/tf-keras-datasets/mnist.npz\n",
            "\u001b[1m11490434/11490434\u001b[0m \u001b[32m━━━━━━━━━━━━━━━━━━━━\u001b[0m\u001b[37m\u001b[0m \u001b[1m0s\u001b[0m 0us/step\n"
          ]
        }
      ]
    },
    {
      "cell_type": "code",
      "source": [
        "# Split validation set (10% of training data)\n",
        "val_size = int(0.1 * len(x_train))\n",
        "x_val, y_val = x_train[:val_size], y_train[:val_size]\n",
        "x_train, y_train = x_train[val_size:], y_train[val_size:]\n",
        "\n",
        "# Normalize inputs\n",
        "x_train = x_train.reshape(x_train.shape[0], -1) / 255.0\n",
        "x_val = x_val.reshape(x_val.shape[0], -1) / 255.0\n",
        "x_test = x_test.reshape(x_test.shape[0], -1) / 255.0"
      ],
      "metadata": {
        "id": "BeTHNHD3zOwS"
      },
      "execution_count": 4,
      "outputs": []
    },
    {
      "cell_type": "code",
      "source": [
        "y_train"
      ],
      "metadata": {
        "colab": {
          "base_uri": "https://localhost:8080/"
        },
        "id": "0YRHjFaqy9va",
        "outputId": "93b62736-60a5-47b7-960c-ba3d0050949b"
      },
      "execution_count": null,
      "outputs": [
        {
          "output_type": "execute_result",
          "data": {
            "text/plain": [
              "array([8, 6, 4, ..., 3, 0, 5], dtype=uint8)"
            ]
          },
          "metadata": {},
          "execution_count": 5
        }
      ]
    },
    {
      "cell_type": "code",
      "source": [],
      "metadata": {
        "id": "M6KcTRZyy9lf"
      },
      "execution_count": null,
      "outputs": []
    },
    {
      "cell_type": "code",
      "source": [
        "class Optimizers:\n",
        "    def __init__(self, lr=1e-3, epsilon=1e-8, beta1=0.9, beta2=0.999, rho=0.9, optimizer=\"adam\"):\n",
        "        self.lr = lr\n",
        "        self.epsilon = epsilon\n",
        "        self.beta1 = beta1\n",
        "        self.beta2 = beta2\n",
        "        self.rho = rho\n",
        "        self.optimizer = optimizer  # Store optimizer type\n",
        "\n",
        "        self.v, self.s, self.m = {}, {}, {}  # Optimizer state\n",
        "        self.t = 0  # Time step for Adam/Nadam\n",
        "\n",
        "    def _initialize_params(self, key, shape):\n",
        "        \"\"\"Initialize optimizer states for a given parameter key\"\"\"\n",
        "        if key not in self.v:\n",
        "            self.v[key] = np.zeros(shape)\n",
        "            self.s[key] = np.zeros(shape)\n",
        "            self.m[key] = np.zeros(shape)\n",
        "\n",
        "    def step(self, w, b, dw, db, key=\"w\"):\n",
        "        \"\"\"Generic function to perform an optimization step based on selected optimizer\"\"\"\n",
        "        self._initialize_params(key, w.shape)\n",
        "        self.t += 1  # Increment time step\n",
        "\n",
        "        if self.optimizer == \"sgd\":\n",
        "            w -= self.lr * dw\n",
        "            b -= self.lr * db\n",
        "\n",
        "        elif self.optimizer == \"momentum\":\n",
        "            self.v[key] = self.beta1 * self.v[key] - self.lr * dw\n",
        "            w += self.v[key]\n",
        "            b -= self.lr * db\n",
        "\n",
        "        elif self.optimizer == \"nesterov\":\n",
        "            prev_v = self.v[key]\n",
        "            self.v[key] = self.beta1 * self.v[key] - self.lr * dw\n",
        "            w += -self.beta1 * prev_v + (1 + self.beta1) * self.v[key]\n",
        "            b -= self.lr * db\n",
        "\n",
        "        elif self.optimizer == \"rmsprop\":\n",
        "            self.s[key] = self.rho * self.s[key] + (1 - self.rho) * (dw ** 2)\n",
        "            w -= self.lr * dw / (np.sqrt(self.s[key]) + self.epsilon)\n",
        "            b -= self.lr * db\n",
        "\n",
        "        elif self.optimizer == \"adam\":\n",
        "            self.m[key] = self.beta1 * self.m[key] + (1 - self.beta1) * dw\n",
        "            self.s[key] = self.beta2 * self.s[key] + (1 - self.beta2) * (dw ** 2)\n",
        "            m_hat = self.m[key] / (1 - self.beta1 ** self.t)\n",
        "            s_hat = self.s[key] / (1 - self.beta2 ** self.t)\n",
        "            w -= self.lr * m_hat / (np.sqrt(s_hat) + self.epsilon)\n",
        "            b -= self.lr * db\n",
        "\n",
        "        return w, b"
      ],
      "metadata": {
        "id": "M9kos9zqy84O"
      },
      "execution_count": 6,
      "outputs": []
    },
    {
      "cell_type": "code",
      "source": [
        "class NN:\n",
        "  def __init__(self,input_shape,output_shape,n_hidden_layers,h_per_layer,optimizer,activation_func=\"relu\",loss_func=\"cross_entropy_loss\",init_type=\"random\",l2_reg=0):\n",
        "    self.input_shape = input_shape\n",
        "    self.output_shape = output_shape\n",
        "    self.n_h = n_hidden_layers\n",
        "    self.k = h_per_layer\n",
        "    self.weights,self.biases = self.weight_init(init_type)\n",
        "    self.optimizer_function = optimizer\n",
        "    self.grad_weights = [0]*(self.n_h+1)\n",
        "    self.grad_biases = [0]*(self.n_h+1)\n",
        "    self.activation_func = activation_func\n",
        "    self.loss_func = loss_func\n",
        "    self.l2_reg = l2_reg\n",
        "  def activation(self,x):\n",
        "    if self.activation_func == \"relu\":\n",
        "      return np.maximum(0,x)\n",
        "    elif self.activation_func == \"tanh\":\n",
        "      return np.tanh(x)\n",
        "    elif self.activation_func == \"sigmoid\":\n",
        "      return 1/(1+np.exp(-x))\n",
        "  def activation_grad(self,x):\n",
        "    if self.activation_func == \"relu\":\n",
        "      return np.where(x>0,1,0)\n",
        "    elif self.activation_func == \"tanh\":\n",
        "      return 1-np.tanh(x)**2\n",
        "    elif self.activation_func == \"sigmoid\":\n",
        "      s = 1/(1+np.exp(-x))\n",
        "      return s*(1-s)\n",
        "  def softmax(self,x):\n",
        "    exp_x = np.exp(x - np.max(x, axis=0, keepdims=True))\n",
        "    return exp_x / np.sum(exp_x, axis=0, keepdims=True)\n",
        "  def one_hot(self,y):\n",
        "    ohe = np.zeros((len(y), self.output_shape))\n",
        "    for i in range(len(y)):\n",
        "      ohe[i][y[i]] = 1\n",
        "    return ohe\n",
        "  def loss(self,y_hat,y_true):\n",
        "    if self.loss_func == \"cross_entropy_loss\":\n",
        "      y_hat = np.array(y_hat)\n",
        "      y_true = np.array(y_true)\n",
        "      epsilon = 1e-10  # Prevent log(0)\n",
        "      return -np.sum(y_true * np.log(y_hat + epsilon)) / y_hat.shape[0]\n",
        "    elif self.loss_func == \"squared_error\":\n",
        "      diff = y_hat - y_true\n",
        "      squared_diff = diff**2\n",
        "      mse = np.mean(squared_diff)\n",
        "      return mse\n",
        "  def accuracy(self,y_hat,y_true):\n",
        "    return np.sum(y_hat==y_true)/len(y_true)\n",
        "  def weight_init(self, init_type=\"random\"):\n",
        "    weights = []\n",
        "    biases = []\n",
        "    if init_type == \"random\":\n",
        "        weights.append(np.random.randn(self.input_shape, self.k))\n",
        "        biases.append(np.random.randn(self.k, 1))\n",
        "        for i in range(self.n_h - 1):\n",
        "            weights.append(np.random.randn(self.k, self.k))\n",
        "            biases.append(np.random.randn(self.k, 1))\n",
        "        weights.append(np.random.randn(self.k, self.output_shape))\n",
        "        biases.append(np.random.randn(self.output_shape, 1))\n",
        "    elif init_type == \"xavier\":\n",
        "        # Xavier Initialization\n",
        "        weights.append(np.random.randn(self.input_shape, self.k) * np.sqrt(2 / (self.input_shape + self.k)))\n",
        "        biases.append(np.zeros((self.k, 1)))  # Biases are usually initialized to 0\n",
        "        for i in range(self.n_h - 1):\n",
        "            weights.append(np.random.randn(self.k, self.k) * np.sqrt(2 / (self.k + self.k)))\n",
        "            biases.append(np.zeros((self.k, 1)))\n",
        "        weights.append(np.random.randn(self.k, self.output_shape) * np.sqrt(2 / (self.k + self.output_shape)))\n",
        "        biases.append(np.zeros((self.output_shape, 1)))\n",
        "    return weights, biases\n",
        "\n",
        "  def update_parameters(self):\n",
        "    for i in range(len(self.weights)):\n",
        "      grad_w = np.array(self.grad_weights[i])\n",
        "      grad_b = np.array(self.grad_biases[i])\n",
        "      self.weights[i], self.biases[i] = self.optimizer_function.step(\n",
        "              self.weights[i], self.biases[i],grad_w,grad_b,key=f\"layer_{i}\")\n",
        "\n",
        "  def forward(self,x):\n",
        "    a_list = [0]*(self.n_h+2)\n",
        "    h_list = [0]*(self.n_h+2)\n",
        "    h = x.T\n",
        "    h_list[0] = h\n",
        "    for i in range(self.n_h):\n",
        "      a_list[i+1] = np.dot(self.weights[i].T,h_list[i])+self.biases[i] #biases are broadcasted\n",
        "      h_list[i+1] = self.activation(a_list[i+1])\n",
        "    a_list[self.n_h+1] = np.dot(self.weights[self.n_h].T,h_list[self.n_h])+self.biases[self.n_h]\n",
        "    y_hat = self.softmax(a_list[self.n_h+1]).T\n",
        "    h_list[self.n_h+1] = y_hat\n",
        "    return a_list,h_list\n",
        "  def backward(self,a_list,h_list,y):\n",
        "    a_grad_list = [0]*(self.n_h+2)\n",
        "    h_grad_list = [0]*(self.n_h+2)\n",
        "    y_hat = h_list[self.n_h+1]\n",
        "    if self.loss_func == \"cross_entropy_loss\": #gradient wrt output layer\n",
        "      a_grad = (y_hat - self.one_hot(y)).T\n",
        "    elif self.loss_func == \"squared_error\":\n",
        "      #a_grad = (y_hat - self.one_hot(y)).T\n",
        "      a_grad = (2*(y_hat - self.one_hot(y))*y_hat*(1-y_hat)).T #must be changed appropriately\n",
        "    a_grad_list[-1] = a_grad/y_hat.shape[0]\n",
        "    for k in range(self.n_h,-1,-1): # gradient wrt hiddden layers\n",
        "      h_grad = np.dot(self.weights[k],a_grad_list[k+1])\n",
        "      h_grad_list[k] = h_grad\n",
        "      a_grad = np.multiply(h_grad,self.activation_grad(a_list[k]))\n",
        "      a_grad_list[k] = a_grad\n",
        "      self.grad_weights[k] = np.dot(a_grad_list[k+1],h_list[k].T).T + + self.l2_reg * self.weights[k] #gradients wrt parameters\n",
        "      self.grad_biases[k] = np.sum(a_grad_list[k+1],axis=1, keepdims=True)\n",
        "  def predict(self,x):\n",
        "    a_list,h_list = self.forward(x)\n",
        "    return np.argmax(h_list[self.n_h+1],axis=0)\n",
        "  def train(self,x_train,y_train,x_val,y_val,epochs=10,batch_size=32):\n",
        "    train_loss_list = []\n",
        "    train_acc_list = []\n",
        "    val_loss_list = []\n",
        "    val_acc_list = []\n",
        "    for i in range(epochs):\n",
        "      start = time.time()\n",
        "      indices = np.arange(len(x_train))\n",
        "      np.random.shuffle(indices)\n",
        "      per_epoch_loss = []\n",
        "      per_epoch_acc = []\n",
        "      for j in range(0,len(x_train),batch_size):\n",
        "        #startf = time.time()\n",
        "        batch_indices = indices[j:j+batch_size]\n",
        "        x_batch = x_train[batch_indices]\n",
        "        y_batch = y_train[batch_indices]\n",
        "        a_list_train,h_list_train = self.forward(x_batch) # forward pass\n",
        "        #end_time_f = time.time()\n",
        "        #startb = time.time()\n",
        "        #print(\"forward pass done\")\n",
        "        self.backward(a_list_train,h_list_train,y_batch) # backward pass\n",
        "        #end_time_b = time.time()\n",
        "        #starto = time.time()\n",
        "        #print(\"backward pass done\")\n",
        "        self.update_parameters()\n",
        "        #self.optimizer_function(lr=lr) # updating weights\n",
        "        #end_time_o = time.time()\n",
        "        #print(\"optimizer done\")\n",
        "        y_hat = h_list_train[self.n_h+1]\n",
        "        per_epoch_loss.append(self.loss(y_hat,self.one_hot(y_batch)))\n",
        "        per_epoch_acc.append(self.accuracy(np.argmax(np.array(y_hat),axis=1),y_batch))\n",
        "      train_loss = np.mean(per_epoch_loss)\n",
        "      train_acc = np.mean(per_epoch_acc)\n",
        "      train_loss_list.append(train_loss)\n",
        "      train_acc_list.append(train_acc)\n",
        "      #print(f\"Epoch: {i+1} | Batch: {j+1}/{len(x_train)} | f_time: {(end_time_f-startf): .6f} | b_time:{(end_time_b-startb): .6f} | o_time:{(end_time_o-starto): .6f}\")\n",
        "      #print(\"Train Loss: \",train_loss,\"Train Accuracy: \",train_acc)\n",
        "      a_list_val,h_list_val = self.forward(x_val)\n",
        "      y_hat_val = h_list_val[self.n_h+1]\n",
        "      val_loss = self.loss(y_hat_val,self.one_hot(y_val))\n",
        "      val_acc = self.accuracy(np.argmax(np.array(y_hat_val),axis=1),y_val)\n",
        "      val_loss_list.append(val_loss)\n",
        "      val_acc_list.append(val_acc)\n",
        "      end = time.time()\n",
        "      # Log metrics\n",
        "      wandb.log({\n",
        "          \"train_loss\": train_loss,\n",
        "          \"train_acc\": train_acc,\n",
        "          \"val_loss\": val_loss,\n",
        "          \"val_acc\": val_acc,\n",
        "          \"epoch\": i+1\n",
        "      })\n",
        "      print(f\"Epoch: {i+1} | Time: {(end-start):.2f} | Train Loss: {train_loss:.4f} | Train Accuracy: {train_acc:.4f} | Val Loss: {val_loss:.4f} | Val Accuracy: {val_acc:.4f}\")\n",
        "    return train_loss_list,train_acc_list,val_loss_list,val_acc_list"
      ],
      "metadata": {
        "id": "5BE2JhcCJoUV"
      },
      "execution_count": 7,
      "outputs": []
    },
    {
      "cell_type": "code",
      "source": [
        "wandb.finish()\n",
        "wandb.init(project=\"Example_run\")\n",
        "# Hyperparameters\n",
        "num_hid_layers = 3 #3,4,5\n",
        "hid_layer_size = 64  # Changeable number of layers\n",
        "weight_init = 'xavier'  # Options: 'random', 'xavier'\n",
        "activation = 'relu'  # Options: 'sigmoid', 'tanh', 'relu'\n",
        "l2_reg = 0.05  # L2 regularization strength\n",
        "lr = 1e-3  # Options: 1e-3, 1e-4\n",
        "batch_size = 64  # Options: 16, 32, 64\n",
        "epochs = 3  # Options: 5, 10\n",
        "optimizer_func = 'sgd'  # Options: 'sgd', 'momentum', 'nesterov', 'rmsprop', 'adam'\n",
        "loss_func = \"squared_error\"  # Options: 'cross_entropy_loss', 'squared_error'\n",
        "# self,input_shape,output_shape,n_hidden_layers,h_per_layer,activation_func=\"ReLU\",loss_func=\"cross_entropy_loss\"\n",
        "# Initialize and train the model\n",
        "optimizer = Optimizers(lr=lr, beta1=0.9, beta2=0.999, rho=0.9, optimizer=optimizer_func)\n",
        "nn = NN(input_shape=784,output_shape=10,n_hidden_layers=num_hid_layers, h_per_layer=hid_layer_size, activation_func=activation, init_type=weight_init, loss_func=loss_func,l2_reg=l2_reg,optimizer=optimizer)\n",
        "train_loss_list,train_acc_list,val_loss_list,val_acc_list = nn.train(x_train, y_train, x_val, y_val, epochs=epochs,batch_size=batch_size)\n",
        "wandb.finish()"
      ],
      "metadata": {
        "colab": {
          "base_uri": "https://localhost:8080/",
          "height": 624
        },
        "id": "lQgXsVYBy4XP",
        "outputId": "aa4bfeb3-881a-4829-cccd-514c899b26f0"
      },
      "execution_count": null,
      "outputs": [
        {
          "output_type": "display_data",
          "data": {
            "text/plain": [
              "<IPython.core.display.HTML object>"
            ],
            "text/html": [
              "Tracking run with wandb version 0.19.8"
            ]
          },
          "metadata": {}
        },
        {
          "output_type": "display_data",
          "data": {
            "text/plain": [
              "<IPython.core.display.HTML object>"
            ],
            "text/html": [
              "Run data is saved locally in <code>/content/wandb/run-20250317_123529-1vpif3y9</code>"
            ]
          },
          "metadata": {}
        },
        {
          "output_type": "display_data",
          "data": {
            "text/plain": [
              "<IPython.core.display.HTML object>"
            ],
            "text/html": [
              "Syncing run <strong><a href='https://wandb.ai/yeshu183-indian-institute-of-technology-madras/Example_run/runs/1vpif3y9' target=\"_blank\">silvery-hill-26</a></strong> to <a href='https://wandb.ai/yeshu183-indian-institute-of-technology-madras/Example_run' target=\"_blank\">Weights & Biases</a> (<a href='https://wandb.me/developer-guide' target=\"_blank\">docs</a>)<br>"
            ]
          },
          "metadata": {}
        },
        {
          "output_type": "display_data",
          "data": {
            "text/plain": [
              "<IPython.core.display.HTML object>"
            ],
            "text/html": [
              " View project at <a href='https://wandb.ai/yeshu183-indian-institute-of-technology-madras/Example_run' target=\"_blank\">https://wandb.ai/yeshu183-indian-institute-of-technology-madras/Example_run</a>"
            ]
          },
          "metadata": {}
        },
        {
          "output_type": "display_data",
          "data": {
            "text/plain": [
              "<IPython.core.display.HTML object>"
            ],
            "text/html": [
              " View run at <a href='https://wandb.ai/yeshu183-indian-institute-of-technology-madras/Example_run/runs/1vpif3y9' target=\"_blank\">https://wandb.ai/yeshu183-indian-institute-of-technology-madras/Example_run/runs/1vpif3y9</a>"
            ]
          },
          "metadata": {}
        },
        {
          "output_type": "stream",
          "name": "stdout",
          "text": [
            "Epoch: 1 | Time: 4.85 | Train Loss: 0.0896 | Train Accuracy: 0.1234 | Val Loss: 0.0887 | Val Accuracy: 0.1583\n",
            "Epoch: 2 | Time: 2.98 | Train Loss: 0.0881 | Train Accuracy: 0.1972 | Val Loss: 0.0875 | Val Accuracy: 0.2353\n",
            "Epoch: 3 | Time: 2.59 | Train Loss: 0.0871 | Train Accuracy: 0.2588 | Val Loss: 0.0865 | Val Accuracy: 0.2980\n"
          ]
        },
        {
          "output_type": "display_data",
          "data": {
            "text/plain": [
              "<IPython.core.display.HTML object>"
            ],
            "text/html": []
          },
          "metadata": {}
        },
        {
          "output_type": "display_data",
          "data": {
            "text/plain": [
              "<IPython.core.display.HTML object>"
            ],
            "text/html": [
              "<br>    <style><br>        .wandb-row {<br>            display: flex;<br>            flex-direction: row;<br>            flex-wrap: wrap;<br>            justify-content: flex-start;<br>            width: 100%;<br>        }<br>        .wandb-col {<br>            display: flex;<br>            flex-direction: column;<br>            flex-basis: 100%;<br>            flex: 1;<br>            padding: 10px;<br>        }<br>    </style><br><div class=\"wandb-row\"><div class=\"wandb-col\"><h3>Run history:</h3><br/><table class=\"wandb\"><tr><td>epoch</td><td>▁▅█</td></tr><tr><td>train_acc</td><td>▁▅█</td></tr><tr><td>train_loss</td><td>█▄▁</td></tr><tr><td>val_acc</td><td>▁▅█</td></tr><tr><td>val_loss</td><td>█▄▁</td></tr></table><br/></div><div class=\"wandb-col\"><h3>Run summary:</h3><br/><table class=\"wandb\"><tr><td>epoch</td><td>3</td></tr><tr><td>train_acc</td><td>0.25881</td></tr><tr><td>train_loss</td><td>0.08712</td></tr><tr><td>val_acc</td><td>0.298</td></tr><tr><td>val_loss</td><td>0.08653</td></tr></table><br/></div></div>"
            ]
          },
          "metadata": {}
        },
        {
          "output_type": "display_data",
          "data": {
            "text/plain": [
              "<IPython.core.display.HTML object>"
            ],
            "text/html": [
              " View run <strong style=\"color:#cdcd00\">silvery-hill-26</strong> at: <a href='https://wandb.ai/yeshu183-indian-institute-of-technology-madras/Example_run/runs/1vpif3y9' target=\"_blank\">https://wandb.ai/yeshu183-indian-institute-of-technology-madras/Example_run/runs/1vpif3y9</a><br> View project at: <a href='https://wandb.ai/yeshu183-indian-institute-of-technology-madras/Example_run' target=\"_blank\">https://wandb.ai/yeshu183-indian-institute-of-technology-madras/Example_run</a><br>Synced 5 W&B file(s), 0 media file(s), 0 artifact file(s) and 0 other file(s)"
            ]
          },
          "metadata": {}
        },
        {
          "output_type": "display_data",
          "data": {
            "text/plain": [
              "<IPython.core.display.HTML object>"
            ],
            "text/html": [
              "Find logs at: <code>./wandb/run-20250317_123529-1vpif3y9/logs</code>"
            ]
          },
          "metadata": {}
        }
      ]
    },
    {
      "cell_type": "code",
      "source": [
        "# Initialize Weights & Biases (wandb)\n",
        "wandb.finish()\n",
        "best_val_acc = 0\n",
        "\n",
        "# nn = NN(input_shape=784,output_shape=10,n_hidden_layers=num_hid_layers, h_per_layer=hid_layer_size, activation_func=activation, init_type=weight_init, loss_func=loss_func,l2_reg=l2_reg)\n",
        "# train_loss_list,train_acc_list,val_loss_list,val_acc_list = nn.train(x_train, y_train, x_val, y_val, epochs=epochs,lr=lr,batch_size=batch_size)\n",
        "\n",
        "# Define sweep configuration\n",
        "sweep_config = {\n",
        "    'method': 'bayes',  # Options: grid, random, bayes\n",
        "    'metric': {'name': 'final_val_acc', 'goal': 'maximize'},\n",
        "    'parameters': {\n",
        "        'loss_func': {'values': ['cross_entropy_loss']},#, 'squared_error'\n",
        "        'epochs': {'values': [10]},\n",
        "        'num_hid_layers': {'values': [3, 4]},\n",
        "        'hid_layer_size': {'values': [64,128]},\n",
        "        'lr': {'values': [1e-3]},\n",
        "        'weight_init': {'values': ['xavier']},\n",
        "        'activation': {'values': ['tanh']},\n",
        "        'l2_reg': {'values': [0]},\n",
        "        'batch_size': {'values': [64]},\n",
        "        'optimizer_func': {'values': ['adam']}\n",
        "    }\n",
        "}\n",
        "\n",
        "sweep_id = wandb.sweep(sweep_config, project=\"New Sweep\")\n",
        "\n",
        "def train_sweep():\n",
        "    global best_val_acc\n",
        "    wandb.init(project=\"New Sweep\")\n",
        "    config = wandb.config\n",
        "    wandb.run.name = f\"e_{config.epochs}_hl_{config.num_hid_layers}_nhpl_{config.hid_layer_size}_bs_{config.batch_size}_init_{config.weight_init}_ac_{config.activation}_op_{config.optimizer_func}_lo_{config.loss_func}\"\n",
        "    optimizer = Optimizers(lr=config.lr, beta1=0.9, beta2=0.999, rho=0.9, optimizer=config.optimizer_func)\n",
        "    nn = NN(\n",
        "        input_shape=784,\n",
        "        n_hidden_layers=config.num_hid_layers,\n",
        "        h_per_layer=config.hid_layer_size,\n",
        "        activation_func=config.activation,\n",
        "        init_type=config.weight_init,\n",
        "        l2_reg=config.l2_reg,\n",
        "        optimizer=optimizer,\n",
        "        loss_func=config.loss_func,\n",
        "        output_shape=10\n",
        "    )\n",
        "\n",
        "    train_loss_list,train_acc_list,val_loss_list,val_acc_list = nn.train(x_train, y_train, x_val, y_val, epochs=config.epochs, batch_size=config.batch_size)\n",
        "\n",
        "    a_list_val,h_list_val = nn.forward(x_val)\n",
        "    y_hat_val = h_list_val[nn.n_h+1]\n",
        "    a_list_test,h_list_test = nn.forward(x_test)\n",
        "    y_hat_test = h_list_test[nn.n_h+1]\n",
        "    final_val_loss = nn.loss(y_hat_val,nn.one_hot(y_val))\n",
        "    final_val_acc = nn.accuracy(np.argmax(np.array(y_hat_val),axis=1),y_val)\n",
        "    final_test_loss = nn.loss(y_hat_test,nn.one_hot(y_test))\n",
        "    final_test_acc = nn.accuracy(np.argmax(np.array(y_hat_test),axis=1),y_test)\n",
        "    wandb.log({\"train_loss\": train_loss_list})\n",
        "    wandb.log({\"train_acc\": train_acc_list})\n",
        "    wandb.log({\"val_loss\": val_loss_list})\n",
        "    wandb.log({\"val_acc\": val_acc_list})\n",
        "    wandb.log({\"final_val_loss\": final_val_loss})\n",
        "    wandb.log({\"final_val_acc\": final_val_acc})\n",
        "    print(f\"Test Loss: {final_test_loss:.4f}, Test Accuracy: {final_test_acc:.4f}\")\n",
        "    if final_val_acc > best_val_acc:\n",
        "        best_val_acc = final_val_acc\n",
        "        with open(\"best_model.pkl\", \"wb\") as f:\n",
        "            pickle.dump(nn, f)  # Save the entire model object\n",
        "        wandb.save(\"best_model.pkl\")  # Save to W&B cloud storage\n",
        "        print(\"Best model updated!\")\n",
        "\n",
        "wandb.agent(sweep_id, function=train_sweep,count=100)\n",
        "wandb.finish()"
      ],
      "metadata": {
        "colab": {
          "base_uri": "https://localhost:8080/",
          "height": 1000
        },
        "id": "L4rH1muGQpM5",
        "outputId": "e35477df-0128-4b19-ac62-ce0917d5d857"
      },
      "execution_count": null,
      "outputs": [
        {
          "output_type": "stream",
          "name": "stdout",
          "text": [
            "Create sweep with ID: dw22ve2e\n",
            "Sweep URL: https://wandb.ai/yeshu183-indian-institute-of-technology-madras/New%20Sweep/sweeps/dw22ve2e\n"
          ]
        },
        {
          "output_type": "stream",
          "name": "stderr",
          "text": [
            "\u001b[34m\u001b[1mwandb\u001b[0m: Agent Starting Run: 5b8z0bp7 with config:\n",
            "\u001b[34m\u001b[1mwandb\u001b[0m: \tactivation: tanh\n",
            "\u001b[34m\u001b[1mwandb\u001b[0m: \tbatch_size: 64\n",
            "\u001b[34m\u001b[1mwandb\u001b[0m: \tepochs: 10\n",
            "\u001b[34m\u001b[1mwandb\u001b[0m: \thid_layer_size: 64\n",
            "\u001b[34m\u001b[1mwandb\u001b[0m: \tl2_reg: 0\n",
            "\u001b[34m\u001b[1mwandb\u001b[0m: \tloss_func: cross_entropy_loss\n",
            "\u001b[34m\u001b[1mwandb\u001b[0m: \tlr: 0.001\n",
            "\u001b[34m\u001b[1mwandb\u001b[0m: \tnum_hid_layers: 3\n",
            "\u001b[34m\u001b[1mwandb\u001b[0m: \toptimizer_func: adam\n",
            "\u001b[34m\u001b[1mwandb\u001b[0m: \tweight_init: xavier\n"
          ]
        },
        {
          "output_type": "display_data",
          "data": {
            "text/plain": [
              "<IPython.core.display.HTML object>"
            ],
            "text/html": [
              "Ignoring project 'New Sweep' when running a sweep."
            ]
          },
          "metadata": {}
        },
        {
          "output_type": "display_data",
          "data": {
            "text/plain": [
              "<IPython.core.display.HTML object>"
            ],
            "text/html": [
              "Tracking run with wandb version 0.19.8"
            ]
          },
          "metadata": {}
        },
        {
          "output_type": "display_data",
          "data": {
            "text/plain": [
              "<IPython.core.display.HTML object>"
            ],
            "text/html": [
              "Run data is saved locally in <code>/content/wandb/run-20250317_174113-5b8z0bp7</code>"
            ]
          },
          "metadata": {}
        },
        {
          "output_type": "display_data",
          "data": {
            "text/plain": [
              "<IPython.core.display.HTML object>"
            ],
            "text/html": [
              "Syncing run <strong><a href='https://wandb.ai/yeshu183-indian-institute-of-technology-madras/New%20Sweep/runs/5b8z0bp7' target=\"_blank\">atomic-sweep-1</a></strong> to <a href='https://wandb.ai/yeshu183-indian-institute-of-technology-madras/New%20Sweep' target=\"_blank\">Weights & Biases</a> (<a href='https://wandb.me/developer-guide' target=\"_blank\">docs</a>)<br>Sweep page: <a href='https://wandb.ai/yeshu183-indian-institute-of-technology-madras/New%20Sweep/sweeps/dw22ve2e' target=\"_blank\">https://wandb.ai/yeshu183-indian-institute-of-technology-madras/New%20Sweep/sweeps/dw22ve2e</a>"
            ]
          },
          "metadata": {}
        },
        {
          "output_type": "display_data",
          "data": {
            "text/plain": [
              "<IPython.core.display.HTML object>"
            ],
            "text/html": [
              " View project at <a href='https://wandb.ai/yeshu183-indian-institute-of-technology-madras/New%20Sweep' target=\"_blank\">https://wandb.ai/yeshu183-indian-institute-of-technology-madras/New%20Sweep</a>"
            ]
          },
          "metadata": {}
        },
        {
          "output_type": "display_data",
          "data": {
            "text/plain": [
              "<IPython.core.display.HTML object>"
            ],
            "text/html": [
              " View sweep at <a href='https://wandb.ai/yeshu183-indian-institute-of-technology-madras/New%20Sweep/sweeps/dw22ve2e' target=\"_blank\">https://wandb.ai/yeshu183-indian-institute-of-technology-madras/New%20Sweep/sweeps/dw22ve2e</a>"
            ]
          },
          "metadata": {}
        },
        {
          "output_type": "display_data",
          "data": {
            "text/plain": [
              "<IPython.core.display.HTML object>"
            ],
            "text/html": [
              " View run at <a href='https://wandb.ai/yeshu183-indian-institute-of-technology-madras/New%20Sweep/runs/5b8z0bp7' target=\"_blank\">https://wandb.ai/yeshu183-indian-institute-of-technology-madras/New%20Sweep/runs/5b8z0bp7</a>"
            ]
          },
          "metadata": {}
        },
        {
          "output_type": "stream",
          "name": "stdout",
          "text": [
            "Epoch: 1 | Time: 4.34 | Train Loss: 0.2974 | Train Accuracy: 0.9125 | Val Loss: 0.1472 | Val Accuracy: 0.9570\n",
            "Epoch: 2 | Time: 8.45 | Train Loss: 0.1291 | Train Accuracy: 0.9609 | Val Loss: 0.1100 | Val Accuracy: 0.9665\n",
            "Epoch: 3 | Time: 4.60 | Train Loss: 0.0929 | Train Accuracy: 0.9713 | Val Loss: 0.1087 | Val Accuracy: 0.9637\n",
            "Epoch: 4 | Time: 4.38 | Train Loss: 0.0714 | Train Accuracy: 0.9783 | Val Loss: 0.0964 | Val Accuracy: 0.9715\n",
            "Epoch: 5 | Time: 7.87 | Train Loss: 0.0580 | Train Accuracy: 0.9821 | Val Loss: 0.0895 | Val Accuracy: 0.9733\n",
            "Epoch: 6 | Time: 4.65 | Train Loss: 0.0465 | Train Accuracy: 0.9853 | Val Loss: 0.0895 | Val Accuracy: 0.9755\n",
            "Epoch: 7 | Time: 8.82 | Train Loss: 0.0384 | Train Accuracy: 0.9878 | Val Loss: 0.1008 | Val Accuracy: 0.9717\n",
            "Epoch: 8 | Time: 4.64 | Train Loss: 0.0319 | Train Accuracy: 0.9899 | Val Loss: 0.0946 | Val Accuracy: 0.9730\n",
            "Epoch: 9 | Time: 7.93 | Train Loss: 0.0269 | Train Accuracy: 0.9921 | Val Loss: 0.1307 | Val Accuracy: 0.9675\n",
            "Epoch: 10 | Time: 4.66 | Train Loss: 0.0243 | Train Accuracy: 0.9924 | Val Loss: 0.1039 | Val Accuracy: 0.9705\n",
            "Test Loss: 0.1132, Test Accuracy: 0.9694\n",
            "Best model updated!\n"
          ]
        },
        {
          "output_type": "display_data",
          "data": {
            "text/plain": [
              "<IPython.core.display.HTML object>"
            ],
            "text/html": []
          },
          "metadata": {}
        },
        {
          "output_type": "display_data",
          "data": {
            "text/plain": [
              "<IPython.core.display.HTML object>"
            ],
            "text/html": [
              "<br>    <style><br>        .wandb-row {<br>            display: flex;<br>            flex-direction: row;<br>            flex-wrap: wrap;<br>            justify-content: flex-start;<br>            width: 100%;<br>        }<br>        .wandb-col {<br>            display: flex;<br>            flex-direction: column;<br>            flex-basis: 100%;<br>            flex: 1;<br>            padding: 10px;<br>        }<br>    </style><br><div class=\"wandb-row\"><div class=\"wandb-col\"><h3>Run history:</h3><br/><table class=\"wandb\"><tr><td>epoch</td><td>▁▂▃▃▄▅▆▆▇█</td></tr><tr><td>final_val_acc</td><td>▁</td></tr><tr><td>final_val_loss</td><td>▁</td></tr><tr><td>train_acc</td><td>▁▅▆▇▇▇████</td></tr><tr><td>train_loss</td><td>█▄▃▂▂▂▁▁▁▁</td></tr><tr><td>val_acc</td><td>▁▅▄▆▇█▇▇▅▆</td></tr><tr><td>val_loss</td><td>█▃▃▂▁▁▂▂▆▃</td></tr></table><br/></div><div class=\"wandb-col\"><h3>Run summary:</h3><br/><table class=\"wandb\"><tr><td>epoch</td><td>10</td></tr><tr><td>final_val_acc</td><td>0.9705</td></tr><tr><td>final_val_loss</td><td>0.10394</td></tr></table><br/></div></div>"
            ]
          },
          "metadata": {}
        },
        {
          "output_type": "display_data",
          "data": {
            "text/plain": [
              "<IPython.core.display.HTML object>"
            ],
            "text/html": [
              " View run <strong style=\"color:#cdcd00\">e_10_hl_3_nhpl_64_bs_64_init_xavier_ac_tanh_op_adam_lo_cross_entropy_loss</strong> at: <a href='https://wandb.ai/yeshu183-indian-institute-of-technology-madras/New%20Sweep/runs/5b8z0bp7' target=\"_blank\">https://wandb.ai/yeshu183-indian-institute-of-technology-madras/New%20Sweep/runs/5b8z0bp7</a><br> View project at: <a href='https://wandb.ai/yeshu183-indian-institute-of-technology-madras/New%20Sweep' target=\"_blank\">https://wandb.ai/yeshu183-indian-institute-of-technology-madras/New%20Sweep</a><br>Synced 5 W&B file(s), 0 media file(s), 0 artifact file(s) and 1 other file(s)"
            ]
          },
          "metadata": {}
        },
        {
          "output_type": "display_data",
          "data": {
            "text/plain": [
              "<IPython.core.display.HTML object>"
            ],
            "text/html": [
              "Find logs at: <code>./wandb/run-20250317_174113-5b8z0bp7/logs</code>"
            ]
          },
          "metadata": {}
        },
        {
          "output_type": "stream",
          "name": "stderr",
          "text": [
            "\u001b[34m\u001b[1mwandb\u001b[0m: Agent Starting Run: 9v8rbcxa with config:\n",
            "\u001b[34m\u001b[1mwandb\u001b[0m: \tactivation: tanh\n",
            "\u001b[34m\u001b[1mwandb\u001b[0m: \tbatch_size: 64\n",
            "\u001b[34m\u001b[1mwandb\u001b[0m: \tepochs: 10\n",
            "\u001b[34m\u001b[1mwandb\u001b[0m: \thid_layer_size: 64\n",
            "\u001b[34m\u001b[1mwandb\u001b[0m: \tl2_reg: 0\n",
            "\u001b[34m\u001b[1mwandb\u001b[0m: \tloss_func: cross_entropy_loss\n",
            "\u001b[34m\u001b[1mwandb\u001b[0m: \tlr: 0.001\n",
            "\u001b[34m\u001b[1mwandb\u001b[0m: \tnum_hid_layers: 4\n",
            "\u001b[34m\u001b[1mwandb\u001b[0m: \toptimizer_func: adam\n",
            "\u001b[34m\u001b[1mwandb\u001b[0m: \tweight_init: xavier\n"
          ]
        },
        {
          "output_type": "display_data",
          "data": {
            "text/plain": [
              "<IPython.core.display.HTML object>"
            ],
            "text/html": [
              "Ignoring project 'New Sweep' when running a sweep."
            ]
          },
          "metadata": {}
        },
        {
          "output_type": "display_data",
          "data": {
            "text/plain": [
              "<IPython.core.display.HTML object>"
            ],
            "text/html": [
              "Tracking run with wandb version 0.19.8"
            ]
          },
          "metadata": {}
        },
        {
          "output_type": "display_data",
          "data": {
            "text/plain": [
              "<IPython.core.display.HTML object>"
            ],
            "text/html": [
              "Run data is saved locally in <code>/content/wandb/run-20250317_174218-9v8rbcxa</code>"
            ]
          },
          "metadata": {}
        },
        {
          "output_type": "display_data",
          "data": {
            "text/plain": [
              "<IPython.core.display.HTML object>"
            ],
            "text/html": [
              "Syncing run <strong><a href='https://wandb.ai/yeshu183-indian-institute-of-technology-madras/New%20Sweep/runs/9v8rbcxa' target=\"_blank\">dry-sweep-2</a></strong> to <a href='https://wandb.ai/yeshu183-indian-institute-of-technology-madras/New%20Sweep' target=\"_blank\">Weights & Biases</a> (<a href='https://wandb.me/developer-guide' target=\"_blank\">docs</a>)<br>Sweep page: <a href='https://wandb.ai/yeshu183-indian-institute-of-technology-madras/New%20Sweep/sweeps/dw22ve2e' target=\"_blank\">https://wandb.ai/yeshu183-indian-institute-of-technology-madras/New%20Sweep/sweeps/dw22ve2e</a>"
            ]
          },
          "metadata": {}
        },
        {
          "output_type": "display_data",
          "data": {
            "text/plain": [
              "<IPython.core.display.HTML object>"
            ],
            "text/html": [
              " View project at <a href='https://wandb.ai/yeshu183-indian-institute-of-technology-madras/New%20Sweep' target=\"_blank\">https://wandb.ai/yeshu183-indian-institute-of-technology-madras/New%20Sweep</a>"
            ]
          },
          "metadata": {}
        },
        {
          "output_type": "display_data",
          "data": {
            "text/plain": [
              "<IPython.core.display.HTML object>"
            ],
            "text/html": [
              " View sweep at <a href='https://wandb.ai/yeshu183-indian-institute-of-technology-madras/New%20Sweep/sweeps/dw22ve2e' target=\"_blank\">https://wandb.ai/yeshu183-indian-institute-of-technology-madras/New%20Sweep/sweeps/dw22ve2e</a>"
            ]
          },
          "metadata": {}
        },
        {
          "output_type": "display_data",
          "data": {
            "text/plain": [
              "<IPython.core.display.HTML object>"
            ],
            "text/html": [
              " View run at <a href='https://wandb.ai/yeshu183-indian-institute-of-technology-madras/New%20Sweep/runs/9v8rbcxa' target=\"_blank\">https://wandb.ai/yeshu183-indian-institute-of-technology-madras/New%20Sweep/runs/9v8rbcxa</a>"
            ]
          },
          "metadata": {}
        },
        {
          "output_type": "stream",
          "name": "stdout",
          "text": [
            "Epoch: 1 | Time: 8.76 | Train Loss: 0.2849 | Train Accuracy: 0.9150 | Val Loss: 0.1363 | Val Accuracy: 0.9603\n",
            "Epoch: 2 | Time: 5.51 | Train Loss: 0.1258 | Train Accuracy: 0.9618 | Val Loss: 0.1083 | Val Accuracy: 0.9672\n",
            "Epoch: 3 | Time: 8.76 | Train Loss: 0.0873 | Train Accuracy: 0.9732 | Val Loss: 0.0957 | Val Accuracy: 0.9703\n",
            "Epoch: 4 | Time: 5.33 | Train Loss: 0.0698 | Train Accuracy: 0.9786 | Val Loss: 0.0907 | Val Accuracy: 0.9727\n",
            "Epoch: 5 | Time: 8.46 | Train Loss: 0.0562 | Train Accuracy: 0.9821 | Val Loss: 0.1086 | Val Accuracy: 0.9688\n",
            "Epoch: 6 | Time: 5.79 | Train Loss: 0.0456 | Train Accuracy: 0.9855 | Val Loss: 0.0961 | Val Accuracy: 0.9727\n",
            "Epoch: 7 | Time: 8.79 | Train Loss: 0.0384 | Train Accuracy: 0.9882 | Val Loss: 0.1147 | Val Accuracy: 0.9697\n",
            "Epoch: 8 | Time: 5.88 | Train Loss: 0.0345 | Train Accuracy: 0.9893 | Val Loss: 0.1020 | Val Accuracy: 0.9702\n",
            "Epoch: 9 | Time: 8.65 | Train Loss: 0.0286 | Train Accuracy: 0.9912 | Val Loss: 0.0990 | Val Accuracy: 0.9752\n",
            "Epoch: 10 | Time: 5.18 | Train Loss: 0.0271 | Train Accuracy: 0.9912 | Val Loss: 0.1057 | Val Accuracy: 0.9712\n",
            "Test Loss: 0.1008, Test Accuracy: 0.9728\n",
            "Best model updated!\n"
          ]
        },
        {
          "output_type": "display_data",
          "data": {
            "text/plain": [
              "<IPython.core.display.HTML object>"
            ],
            "text/html": []
          },
          "metadata": {}
        },
        {
          "output_type": "display_data",
          "data": {
            "text/plain": [
              "<IPython.core.display.HTML object>"
            ],
            "text/html": [
              "<br>    <style><br>        .wandb-row {<br>            display: flex;<br>            flex-direction: row;<br>            flex-wrap: wrap;<br>            justify-content: flex-start;<br>            width: 100%;<br>        }<br>        .wandb-col {<br>            display: flex;<br>            flex-direction: column;<br>            flex-basis: 100%;<br>            flex: 1;<br>            padding: 10px;<br>        }<br>    </style><br><div class=\"wandb-row\"><div class=\"wandb-col\"><h3>Run history:</h3><br/><table class=\"wandb\"><tr><td>epoch</td><td>▁▂▃▃▄▅▆▆▇█</td></tr><tr><td>final_val_acc</td><td>▁</td></tr><tr><td>final_val_loss</td><td>▁</td></tr><tr><td>train_acc</td><td>▁▅▆▇▇▇████</td></tr><tr><td>train_loss</td><td>█▄▃▂▂▂▁▁▁▁</td></tr><tr><td>val_acc</td><td>▁▄▆▇▅▇▅▆█▆</td></tr><tr><td>val_loss</td><td>█▄▂▁▄▂▅▃▂▃</td></tr></table><br/></div><div class=\"wandb-col\"><h3>Run summary:</h3><br/><table class=\"wandb\"><tr><td>epoch</td><td>10</td></tr><tr><td>final_val_acc</td><td>0.97117</td></tr><tr><td>final_val_loss</td><td>0.10568</td></tr></table><br/></div></div>"
            ]
          },
          "metadata": {}
        },
        {
          "output_type": "display_data",
          "data": {
            "text/plain": [
              "<IPython.core.display.HTML object>"
            ],
            "text/html": [
              " View run <strong style=\"color:#cdcd00\">e_10_hl_4_nhpl_64_bs_64_init_xavier_ac_tanh_op_adam_lo_cross_entropy_loss</strong> at: <a href='https://wandb.ai/yeshu183-indian-institute-of-technology-madras/New%20Sweep/runs/9v8rbcxa' target=\"_blank\">https://wandb.ai/yeshu183-indian-institute-of-technology-madras/New%20Sweep/runs/9v8rbcxa</a><br> View project at: <a href='https://wandb.ai/yeshu183-indian-institute-of-technology-madras/New%20Sweep' target=\"_blank\">https://wandb.ai/yeshu183-indian-institute-of-technology-madras/New%20Sweep</a><br>Synced 5 W&B file(s), 0 media file(s), 0 artifact file(s) and 1 other file(s)"
            ]
          },
          "metadata": {}
        },
        {
          "output_type": "display_data",
          "data": {
            "text/plain": [
              "<IPython.core.display.HTML object>"
            ],
            "text/html": [
              "Find logs at: <code>./wandb/run-20250317_174218-9v8rbcxa/logs</code>"
            ]
          },
          "metadata": {}
        },
        {
          "output_type": "stream",
          "name": "stderr",
          "text": [
            "\u001b[34m\u001b[1mwandb\u001b[0m: Agent Starting Run: jaibbp6g with config:\n",
            "\u001b[34m\u001b[1mwandb\u001b[0m: \tactivation: tanh\n",
            "\u001b[34m\u001b[1mwandb\u001b[0m: \tbatch_size: 64\n",
            "\u001b[34m\u001b[1mwandb\u001b[0m: \tepochs: 10\n",
            "\u001b[34m\u001b[1mwandb\u001b[0m: \thid_layer_size: 128\n",
            "\u001b[34m\u001b[1mwandb\u001b[0m: \tl2_reg: 0\n",
            "\u001b[34m\u001b[1mwandb\u001b[0m: \tloss_func: cross_entropy_loss\n",
            "\u001b[34m\u001b[1mwandb\u001b[0m: \tlr: 0.001\n",
            "\u001b[34m\u001b[1mwandb\u001b[0m: \tnum_hid_layers: 4\n",
            "\u001b[34m\u001b[1mwandb\u001b[0m: \toptimizer_func: adam\n",
            "\u001b[34m\u001b[1mwandb\u001b[0m: \tweight_init: xavier\n"
          ]
        },
        {
          "output_type": "display_data",
          "data": {
            "text/plain": [
              "<IPython.core.display.HTML object>"
            ],
            "text/html": [
              "Ignoring project 'New Sweep' when running a sweep."
            ]
          },
          "metadata": {}
        },
        {
          "output_type": "display_data",
          "data": {
            "text/plain": [
              "<IPython.core.display.HTML object>"
            ],
            "text/html": [
              "Tracking run with wandb version 0.19.8"
            ]
          },
          "metadata": {}
        },
        {
          "output_type": "display_data",
          "data": {
            "text/plain": [
              "<IPython.core.display.HTML object>"
            ],
            "text/html": [
              "Run data is saved locally in <code>/content/wandb/run-20250317_174335-jaibbp6g</code>"
            ]
          },
          "metadata": {}
        },
        {
          "output_type": "display_data",
          "data": {
            "text/plain": [
              "<IPython.core.display.HTML object>"
            ],
            "text/html": [
              "Syncing run <strong><a href='https://wandb.ai/yeshu183-indian-institute-of-technology-madras/New%20Sweep/runs/jaibbp6g' target=\"_blank\">treasured-sweep-3</a></strong> to <a href='https://wandb.ai/yeshu183-indian-institute-of-technology-madras/New%20Sweep' target=\"_blank\">Weights & Biases</a> (<a href='https://wandb.me/developer-guide' target=\"_blank\">docs</a>)<br>Sweep page: <a href='https://wandb.ai/yeshu183-indian-institute-of-technology-madras/New%20Sweep/sweeps/dw22ve2e' target=\"_blank\">https://wandb.ai/yeshu183-indian-institute-of-technology-madras/New%20Sweep/sweeps/dw22ve2e</a>"
            ]
          },
          "metadata": {}
        },
        {
          "output_type": "display_data",
          "data": {
            "text/plain": [
              "<IPython.core.display.HTML object>"
            ],
            "text/html": [
              " View project at <a href='https://wandb.ai/yeshu183-indian-institute-of-technology-madras/New%20Sweep' target=\"_blank\">https://wandb.ai/yeshu183-indian-institute-of-technology-madras/New%20Sweep</a>"
            ]
          },
          "metadata": {}
        },
        {
          "output_type": "display_data",
          "data": {
            "text/plain": [
              "<IPython.core.display.HTML object>"
            ],
            "text/html": [
              " View sweep at <a href='https://wandb.ai/yeshu183-indian-institute-of-technology-madras/New%20Sweep/sweeps/dw22ve2e' target=\"_blank\">https://wandb.ai/yeshu183-indian-institute-of-technology-madras/New%20Sweep/sweeps/dw22ve2e</a>"
            ]
          },
          "metadata": {}
        },
        {
          "output_type": "display_data",
          "data": {
            "text/plain": [
              "<IPython.core.display.HTML object>"
            ],
            "text/html": [
              " View run at <a href='https://wandb.ai/yeshu183-indian-institute-of-technology-madras/New%20Sweep/runs/jaibbp6g' target=\"_blank\">https://wandb.ai/yeshu183-indian-institute-of-technology-madras/New%20Sweep/runs/jaibbp6g</a>"
            ]
          },
          "metadata": {}
        },
        {
          "output_type": "stream",
          "name": "stdout",
          "text": [
            "Epoch: 1 | Time: 14.94 | Train Loss: 0.2611 | Train Accuracy: 0.9219 | Val Loss: 0.1327 | Val Accuracy: 0.9603\n",
            "Epoch: 2 | Time: 14.94 | Train Loss: 0.1181 | Train Accuracy: 0.9637 | Val Loss: 0.1037 | Val Accuracy: 0.9682\n",
            "Epoch: 3 | Time: 14.10 | Train Loss: 0.0829 | Train Accuracy: 0.9744 | Val Loss: 0.0987 | Val Accuracy: 0.9730\n",
            "Epoch: 4 | Time: 14.13 | Train Loss: 0.0598 | Train Accuracy: 0.9809 | Val Loss: 0.0935 | Val Accuracy: 0.9708\n",
            "Epoch: 5 | Time: 14.63 | Train Loss: 0.0488 | Train Accuracy: 0.9846 | Val Loss: 0.0967 | Val Accuracy: 0.9730\n"
          ]
        }
      ]
    },
    {
      "cell_type": "code",
      "source": [
        "print(wandb.Api().default_entity)"
      ],
      "metadata": {
        "colab": {
          "base_uri": "https://localhost:8080/"
        },
        "id": "Tw15r7bG6DSg",
        "outputId": "4df244ac-189a-4b9b-9c45-0f75190ef519"
      },
      "execution_count": null,
      "outputs": [
        {
          "output_type": "stream",
          "name": "stdout",
          "text": [
            "yeshu183-indian-institute-of-technology-madras\n"
          ]
        }
      ]
    },
    {
      "cell_type": "code",
      "source": [
        "\n",
        "# Connect to W&B\n",
        "api = wandb.Api()\n",
        "\n",
        "# Replace with your project name\n",
        "project_name = \"New Sweep\"\n",
        "entity_name = wandb.Api().default_entity\n",
        "\n",
        "# Get all runs\n",
        "runs = api.runs(f\"{entity_name}/{project_name}\")\n",
        "\n",
        "# Find the best run based on `final_val_acc`\n",
        "best_run = max(runs, key=lambda run: run.summary.get(\"final_val_acc\", 0))\n",
        "\n",
        "print(f\"Best run ID: {best_run.id}, Accuracy: {best_run.summary.get('final_val_acc', 0)}\")\n",
        "\n",
        "# Download the best model\n",
        "best_run.file(\"best_model.pkl\").download(replace=True)\n",
        "print(\"Best model downloaded successfully!\")\n",
        "\n",
        "# Load the saved model\n",
        "with open(\"best_model.pkl\", \"rb\") as f:\n",
        "    best_model = pickle.load(f)\n",
        "\n",
        "print(\"Best model loaded successfully!\")\n"
      ],
      "metadata": {
        "colab": {
          "base_uri": "https://localhost:8080/"
        },
        "id": "SmIXqAYp5scG",
        "outputId": "59fd7f6d-5967-4fa4-93a3-8321e3da7ccb"
      },
      "execution_count": null,
      "outputs": [
        {
          "output_type": "stream",
          "name": "stdout",
          "text": [
            "Best run ID: 09qrj7km, Accuracy: 0.8916666666666667\n",
            "Best model downloaded successfully!\n",
            "Best model loaded successfully!\n"
          ]
        }
      ]
    },
    {
      "cell_type": "code",
      "source": [],
      "metadata": {
        "id": "KyKMXT77bVj5"
      },
      "execution_count": null,
      "outputs": []
    },
    {
      "cell_type": "markdown",
      "source": [
        "## Test accuracy calculation"
      ],
      "metadata": {
        "id": "Nbno2aqV7Osc"
      }
    },
    {
      "cell_type": "code",
      "source": [
        "from sklearn.metrics import confusion_matrix\n",
        "import seaborn as sns\n",
        "# Initialize W&B for testing\n",
        "wandb.finish()\n",
        "wandb.init(project=project_name, entity=entity_name, force=True)\n",
        "wandb.run.name = \"Best Model Evaluation\"\n",
        "wandb.run.save()\n",
        "class_labels = [\n",
        "    \"T-shirt/top\", \"Trouser\", \"Pullover\", \"Dress\", \"Coat\",\n",
        "    \"Sandal\", \"Shirt\", \"Sneaker\", \"Bag\", \"Ankle_boot\"\n",
        "]\n",
        "# Run inference on the test set\n",
        "a_list_test, h_list_test = best_model.forward(x_test)\n",
        "y_hat_test = h_list_test[best_model.n_h+1]\n",
        "\n",
        "# Compute test loss and accuracy\n",
        "final_test_loss = best_model.loss(y_hat_test, best_model.one_hot(y_test))\n",
        "final_test_acc = best_model.accuracy(np.argmax(np.array(y_hat_test), axis=1), y_test)\n",
        "\n",
        "print(f\"Test Loss: {final_test_loss:.4f}, Test Accuracy: {final_test_acc:.4f}\")\n",
        "cm = confusion_matrix(y_test, np.argmax(np.array(y_hat_test),axis=1))\n",
        "cm_percentage = cm.astype('float') / cm.sum(axis=1)[:, np.newaxis] * 100\n",
        "\n",
        "# Log results and confusion matrix\n",
        "wandb.log({\n",
        "    \"test_loss\": final_test_loss,\n",
        "    \"test_acc\": final_test_acc,\n",
        "    \"confusion_matrix\": sns.heatmap(cm_percentage, annot=True, fmt=\".1f\", cmap=\"Blues\")\n",
        "})\n",
        "\n",
        "wandb.finish()\n"
      ],
      "metadata": {
        "colab": {
          "base_uri": "https://localhost:8080/",
          "height": 726
        },
        "id": "XqipqJFpEIrP",
        "outputId": "d11cd1ad-e879-496d-b8ca-20a5f303609b"
      },
      "execution_count": null,
      "outputs": [
        {
          "output_type": "display_data",
          "data": {
            "text/plain": [
              "<IPython.core.display.HTML object>"
            ],
            "text/html": []
          },
          "metadata": {}
        },
        {
          "output_type": "display_data",
          "data": {
            "text/plain": [
              "<IPython.core.display.HTML object>"
            ],
            "text/html": [
              " View run <strong style=\"color:#cdcd00\">Best Model Evaluation</strong> at: <a href='https://wandb.ai/yeshu183-indian-institute-of-technology-madras/New%20Sweep/runs/f6wux8l2' target=\"_blank\">https://wandb.ai/yeshu183-indian-institute-of-technology-madras/New%20Sweep/runs/f6wux8l2</a><br> View project at: <a href='https://wandb.ai/yeshu183-indian-institute-of-technology-madras/New%20Sweep' target=\"_blank\">https://wandb.ai/yeshu183-indian-institute-of-technology-madras/New%20Sweep</a><br>Synced 5 W&B file(s), 0 media file(s), 0 artifact file(s) and 0 other file(s)"
            ]
          },
          "metadata": {}
        },
        {
          "output_type": "display_data",
          "data": {
            "text/plain": [
              "<IPython.core.display.HTML object>"
            ],
            "text/html": [
              "Find logs at: <code>./wandb/run-20250317_141540-f6wux8l2/logs</code>"
            ]
          },
          "metadata": {}
        },
        {
          "output_type": "display_data",
          "data": {
            "text/plain": [
              "<IPython.core.display.HTML object>"
            ],
            "text/html": [
              "Changes to your `wandb` environment variables will be ignored because your `wandb` session has already started. For more information on how to modify your settings with `wandb.init()` arguments, please refer to <a href='https://wandb.me/wandb-init' target=\"_blank\">the W&B docs</a>."
            ]
          },
          "metadata": {}
        },
        {
          "output_type": "display_data",
          "data": {
            "text/plain": [
              "<IPython.core.display.HTML object>"
            ],
            "text/html": [
              "Ignoring project 'New Sweep' when running a sweep."
            ]
          },
          "metadata": {}
        },
        {
          "output_type": "display_data",
          "data": {
            "text/plain": [
              "<IPython.core.display.HTML object>"
            ],
            "text/html": [
              "Ignoring entity 'yeshu183-indian-institute-of-technology-madras' when running a sweep."
            ]
          },
          "metadata": {}
        },
        {
          "output_type": "display_data",
          "data": {
            "text/plain": [
              "<IPython.core.display.HTML object>"
            ],
            "text/html": [
              "Tracking run with wandb version 0.19.8"
            ]
          },
          "metadata": {}
        },
        {
          "output_type": "display_data",
          "data": {
            "text/plain": [
              "<IPython.core.display.HTML object>"
            ],
            "text/html": [
              "Run data is saved locally in <code>/content/wandb/run-20250317_141556-f6wux8l2</code>"
            ]
          },
          "metadata": {}
        },
        {
          "output_type": "display_data",
          "data": {
            "text/plain": [
              "<IPython.core.display.HTML object>"
            ],
            "text/html": [
              "Syncing run <strong><a href='https://wandb.ai/yeshu183-indian-institute-of-technology-madras/New%20Sweep/runs/f6wux8l2' target=\"_blank\">Best Model Evaluation</a></strong> to <a href='https://wandb.ai/yeshu183-indian-institute-of-technology-madras/New%20Sweep' target=\"_blank\">Weights & Biases</a> (<a href='https://wandb.me/developer-guide' target=\"_blank\">docs</a>)<br>Sweep page: <a href='https://wandb.ai/yeshu183-indian-institute-of-technology-madras/New%20Sweep/sweeps/surnww5r' target=\"_blank\">https://wandb.ai/yeshu183-indian-institute-of-technology-madras/New%20Sweep/sweeps/surnww5r</a>"
            ]
          },
          "metadata": {}
        },
        {
          "output_type": "display_data",
          "data": {
            "text/plain": [
              "<IPython.core.display.HTML object>"
            ],
            "text/html": [
              " View project at <a href='https://wandb.ai/yeshu183-indian-institute-of-technology-madras/New%20Sweep' target=\"_blank\">https://wandb.ai/yeshu183-indian-institute-of-technology-madras/New%20Sweep</a>"
            ]
          },
          "metadata": {}
        },
        {
          "output_type": "display_data",
          "data": {
            "text/plain": [
              "<IPython.core.display.HTML object>"
            ],
            "text/html": [
              " View sweep at <a href='https://wandb.ai/yeshu183-indian-institute-of-technology-madras/New%20Sweep/sweeps/surnww5r' target=\"_blank\">https://wandb.ai/yeshu183-indian-institute-of-technology-madras/New%20Sweep/sweeps/surnww5r</a>"
            ]
          },
          "metadata": {}
        },
        {
          "output_type": "display_data",
          "data": {
            "text/plain": [
              "<IPython.core.display.HTML object>"
            ],
            "text/html": [
              " View run at <a href='https://wandb.ai/yeshu183-indian-institute-of-technology-madras/New%20Sweep/runs/f6wux8l2' target=\"_blank\">https://wandb.ai/yeshu183-indian-institute-of-technology-madras/New%20Sweep/runs/f6wux8l2</a>"
            ]
          },
          "metadata": {}
        },
        {
          "output_type": "stream",
          "name": "stdout",
          "text": [
            "Test Loss: 0.3444, Test Accuracy: 0.8824\n"
          ]
        },
        {
          "output_type": "stream",
          "name": "stderr",
          "text": [
            "/usr/local/lib/python3.11/dist-packages/plotly/matplotlylib/renderer.py:571: UserWarning:\n",
            "\n",
            "Dang! That path collection is out of this world. I totally don't know what to do with it yet! Plotly can only import path collections linked to 'data' coordinates\n",
            "\n"
          ]
        },
        {
          "output_type": "display_data",
          "data": {
            "text/plain": [
              "<IPython.core.display.HTML object>"
            ],
            "text/html": []
          },
          "metadata": {}
        },
        {
          "output_type": "display_data",
          "data": {
            "text/plain": [
              "<IPython.core.display.HTML object>"
            ],
            "text/html": [
              "<br>    <style><br>        .wandb-row {<br>            display: flex;<br>            flex-direction: row;<br>            flex-wrap: wrap;<br>            justify-content: flex-start;<br>            width: 100%;<br>        }<br>        .wandb-col {<br>            display: flex;<br>            flex-direction: column;<br>            flex-basis: 100%;<br>            flex: 1;<br>            padding: 10px;<br>        }<br>    </style><br><div class=\"wandb-row\"><div class=\"wandb-col\"><h3>Run history:</h3><br/><table class=\"wandb\"><tr><td>test_acc</td><td>▁</td></tr><tr><td>test_loss</td><td>▁</td></tr></table><br/></div><div class=\"wandb-col\"><h3>Run summary:</h3><br/><table class=\"wandb\"><tr><td>test_acc</td><td>0.8824</td></tr><tr><td>test_loss</td><td>0.34438</td></tr></table><br/></div></div>"
            ]
          },
          "metadata": {}
        },
        {
          "output_type": "display_data",
          "data": {
            "text/plain": [
              "<IPython.core.display.HTML object>"
            ],
            "text/html": [
              " View run <strong style=\"color:#cdcd00\">Best Model Evaluation</strong> at: <a href='https://wandb.ai/yeshu183-indian-institute-of-technology-madras/New%20Sweep/runs/f6wux8l2' target=\"_blank\">https://wandb.ai/yeshu183-indian-institute-of-technology-madras/New%20Sweep/runs/f6wux8l2</a><br> View project at: <a href='https://wandb.ai/yeshu183-indian-institute-of-technology-madras/New%20Sweep' target=\"_blank\">https://wandb.ai/yeshu183-indian-institute-of-technology-madras/New%20Sweep</a><br>Synced 5 W&B file(s), 1 media file(s), 0 artifact file(s) and 0 other file(s)"
            ]
          },
          "metadata": {}
        },
        {
          "output_type": "display_data",
          "data": {
            "text/plain": [
              "<IPython.core.display.HTML object>"
            ],
            "text/html": [
              "Find logs at: <code>./wandb/run-20250317_141556-f6wux8l2/logs</code>"
            ]
          },
          "metadata": {}
        }
      ]
    },
    {
      "cell_type": "code",
      "source": [
        "import wandb\n",
        "import numpy as np\n",
        "import matplotlib.pyplot as plt\n",
        "import seaborn as sns\n",
        "from sklearn.metrics import confusion_matrix\n",
        "\n",
        "# Initialize Wandb\n",
        "wandb.init(project=\"fashion-mnist\", name=\"custom-confusion-matrix\")\n",
        "\n",
        "# Compute confusion matrix\n",
        "mask = np.eye(len(cm), dtype=bool)\n",
        "cm = confusion_matrix(y_test, np.argmax(np.array(y_hat_test),axis=1))\n",
        "cm_percentage = cm.astype('float') / cm.sum(axis=1)[:, np.newaxis] * 100\n",
        "\n",
        "# Plot confusion matrix\n",
        "plt.figure(figsize=(10, 8))\n",
        "sns.heatmap(cm_percentage, annot=True, fmt=\".1f\", cmap=\"Greens\",mask=~mask,xticklabels=class_labels,yticklabels=class_labels,cbar=False)\n",
        "sns.heatmap(cm_percentage, annot=True, fmt=\".1f\", cmap=\"Reds\",mask=mask,xticklabels=class_labels,yticklabels=class_labels,cbar=False)\n",
        "plt.xlabel(\"Predicted Label\")\n",
        "plt.ylabel(\"True Label\")\n",
        "plt.title(\"Custom Confusion Matrix\")\n",
        "\n",
        "# Save the figure\n",
        "plt.savefig(\"confusion_matrix.png\", bbox_inches=\"tight\")\n",
        "wandb.log({\"Custom Confusion Matrix\": wandb.Image(\"confusion_matrix.png\")})\n",
        "\n",
        "# Close wandb\n",
        "wandb.finish()\n"
      ],
      "metadata": {
        "colab": {
          "base_uri": "https://localhost:8080/",
          "height": 961
        },
        "id": "7ZYTmXhee48R",
        "outputId": "c4c64b2b-78d9-465d-c076-bf8bf6f87bf6"
      },
      "execution_count": null,
      "outputs": [
        {
          "output_type": "display_data",
          "data": {
            "text/plain": [
              "<IPython.core.display.HTML object>"
            ],
            "text/html": [
              "Changes to your `wandb` environment variables will be ignored because your `wandb` session has already started. For more information on how to modify your settings with `wandb.init()` arguments, please refer to <a href='https://wandb.me/wandb-init' target=\"_blank\">the W&B docs</a>."
            ]
          },
          "metadata": {}
        },
        {
          "output_type": "display_data",
          "data": {
            "text/plain": [
              "<IPython.core.display.HTML object>"
            ],
            "text/html": [
              "Ignoring project 'fashion-mnist' when running a sweep."
            ]
          },
          "metadata": {}
        },
        {
          "output_type": "display_data",
          "data": {
            "text/plain": [
              "<IPython.core.display.HTML object>"
            ],
            "text/html": [
              "Tracking run with wandb version 0.19.8"
            ]
          },
          "metadata": {}
        },
        {
          "output_type": "display_data",
          "data": {
            "text/plain": [
              "<IPython.core.display.HTML object>"
            ],
            "text/html": [
              "Run data is saved locally in <code>/content/wandb/run-20250317_142900-f6wux8l2</code>"
            ]
          },
          "metadata": {}
        },
        {
          "output_type": "display_data",
          "data": {
            "text/plain": [
              "<IPython.core.display.HTML object>"
            ],
            "text/html": [
              "Syncing run <strong><a href='https://wandb.ai/yeshu183-indian-institute-of-technology-madras/New%20Sweep/runs/f6wux8l2' target=\"_blank\">custom-confusion-matrix</a></strong> to <a href='https://wandb.ai/yeshu183-indian-institute-of-technology-madras/New%20Sweep' target=\"_blank\">Weights & Biases</a> (<a href='https://wandb.me/developer-guide' target=\"_blank\">docs</a>)<br>Sweep page: <a href='https://wandb.ai/yeshu183-indian-institute-of-technology-madras/New%20Sweep/sweeps/surnww5r' target=\"_blank\">https://wandb.ai/yeshu183-indian-institute-of-technology-madras/New%20Sweep/sweeps/surnww5r</a>"
            ]
          },
          "metadata": {}
        },
        {
          "output_type": "display_data",
          "data": {
            "text/plain": [
              "<IPython.core.display.HTML object>"
            ],
            "text/html": [
              " View project at <a href='https://wandb.ai/yeshu183-indian-institute-of-technology-madras/New%20Sweep' target=\"_blank\">https://wandb.ai/yeshu183-indian-institute-of-technology-madras/New%20Sweep</a>"
            ]
          },
          "metadata": {}
        },
        {
          "output_type": "display_data",
          "data": {
            "text/plain": [
              "<IPython.core.display.HTML object>"
            ],
            "text/html": [
              " View sweep at <a href='https://wandb.ai/yeshu183-indian-institute-of-technology-madras/New%20Sweep/sweeps/surnww5r' target=\"_blank\">https://wandb.ai/yeshu183-indian-institute-of-technology-madras/New%20Sweep/sweeps/surnww5r</a>"
            ]
          },
          "metadata": {}
        },
        {
          "output_type": "display_data",
          "data": {
            "text/plain": [
              "<IPython.core.display.HTML object>"
            ],
            "text/html": [
              " View run at <a href='https://wandb.ai/yeshu183-indian-institute-of-technology-madras/New%20Sweep/runs/f6wux8l2' target=\"_blank\">https://wandb.ai/yeshu183-indian-institute-of-technology-madras/New%20Sweep/runs/f6wux8l2</a>"
            ]
          },
          "metadata": {}
        },
        {
          "output_type": "display_data",
          "data": {
            "text/plain": [
              "<IPython.core.display.HTML object>"
            ],
            "text/html": []
          },
          "metadata": {}
        },
        {
          "output_type": "display_data",
          "data": {
            "text/plain": [
              "<IPython.core.display.HTML object>"
            ],
            "text/html": [
              " View run <strong style=\"color:#cdcd00\">custom-confusion-matrix</strong> at: <a href='https://wandb.ai/yeshu183-indian-institute-of-technology-madras/New%20Sweep/runs/f6wux8l2' target=\"_blank\">https://wandb.ai/yeshu183-indian-institute-of-technology-madras/New%20Sweep/runs/f6wux8l2</a><br> View project at: <a href='https://wandb.ai/yeshu183-indian-institute-of-technology-madras/New%20Sweep' target=\"_blank\">https://wandb.ai/yeshu183-indian-institute-of-technology-madras/New%20Sweep</a><br>Synced 5 W&B file(s), 1 media file(s), 0 artifact file(s) and 0 other file(s)"
            ]
          },
          "metadata": {}
        },
        {
          "output_type": "display_data",
          "data": {
            "text/plain": [
              "<IPython.core.display.HTML object>"
            ],
            "text/html": [
              "Find logs at: <code>./wandb/run-20250317_142900-f6wux8l2/logs</code>"
            ]
          },
          "metadata": {}
        },
        {
          "output_type": "display_data",
          "data": {
            "text/plain": [
              "<Figure size 1000x800 with 1 Axes>"
            ],
            "image/png": "[encoded data removed]"
          },
          "metadata": {}
        }
      ]
    },
    {
      "cell_type": "code",
      "source": [
        "from sklearn.metrics import confusion_matrix\n",
        "cm = confusion_matrix(y_test, np.argmax(np.array(y_hat_test),axis=1))\n",
        "cm_percentage = cm.astype('float') / cm.sum(axis=1)[:, np.newaxis] * 100\n",
        "sns.heatmap(cm_percentage, annot=True, fmt=\".1f\", cmap=\"Blues\")\n",
        "plt.xlabel(\"Predicted\")\n",
        "plt.ylabel(\"True\")"
      ],
      "metadata": {
        "colab": {
          "base_uri": "https://localhost:8080/",
          "height": 466
        },
        "id": "Y4PbWrFM5sUa",
        "outputId": "32051181-9cf3-49d0-8116-7e1cd75bcf2b"
      },
      "execution_count": null,
      "outputs": [
        {
          "output_type": "execute_result",
          "data": {
            "text/plain": [
              "Text(50.722222222222214, 0.5, 'True')"
            ]
          },
          "metadata": {},
          "execution_count": 34
        },
        {
          "output_type": "display_data",
          "data": {
            "text/plain": [
              "<Figure size 640x480 with 2 Axes>"
            ],
            "image/png": "[encoded data removed]"
          },
          "metadata": {}
        }
      ]
    },
    {
      "cell_type": "code",
      "source": [],
      "metadata": {
        "id": "8xyKYvWT5sP0"
      },
      "execution_count": null,
      "outputs": []
    },
    {
      "cell_type": "code",
      "source": [
        "plt.plot(train_acc_list)\n",
        "plt.plot(val_acc_list)\n",
        "#plt.plot(train_loss_list)\n",
        "#plt.plot(val_loss_list)\n",
        "plt.xlabel(\"Epochs\")\n",
        "plt.ylabel(\"Acc\")"
      ],
      "metadata": {
        "colab": {
          "base_uri": "https://localhost:8080/",
          "height": 466
        },
        "id": "_U3OP1_Yy4Tz",
        "outputId": "f05101ed-b558-45ef-be44-6da3d51b1e6e"
      },
      "execution_count": null,
      "outputs": [
        {
          "output_type": "execute_result",
          "data": {
            "text/plain": [
              "Text(0, 0.5, 'Acc')"
            ]
          },
          "metadata": {},
          "execution_count": 9
        },
        {
          "output_type": "display_data",
          "data": {
            "text/plain": [
              "<Figure size 640x480 with 1 Axes>"
            ],
            "image/png": "[encoded data removed]"
          },
          "metadata": {}
        }
      ]
    },
    {
      "cell_type": "code",
      "source": [
        "plt.plot(train_loss_list)\n",
        "plt.plot(val_loss_list)\n",
        "plt.xlabel(\"Epochs\")\n",
        "plt.ylabel(\"Loss\")"
      ],
      "metadata": {
        "colab": {
          "base_uri": "https://localhost:8080/",
          "height": 466
        },
        "id": "jCTWrR1By4RA",
        "outputId": "0b81553b-7e41-444e-982e-7b4317c9e98a"
      },
      "execution_count": null,
      "outputs": [
        {
          "output_type": "execute_result",
          "data": {
            "text/plain": [
              "Text(0, 0.5, 'Loss')"
            ]
          },
          "metadata": {},
          "execution_count": 10
        },
        {
          "output_type": "display_data",
          "data": {
            "text/plain": [
              "<Figure size 640x480 with 1 Axes>"
            ],
            "image/png": "[encoded data removed]"
          },
          "metadata": {}
        }
      ]
    },
    {
      "cell_type": "code",
      "source": [],
      "metadata": {
        "id": "S_IjmXtRy4OV"
      },
      "execution_count": null,
      "outputs": []
    },
    {
      "cell_type": "code",
      "source": [],
      "metadata": {
        "id": "5VGQ3r6Cy4Bi"
      },
      "execution_count": null,
      "outputs": []
    },
    {
      "cell_type": "code",
      "source": [],
      "metadata": {
        "id": "P8pNfdXxy3-M"
      },
      "execution_count": null,
      "outputs": []
    }
  ],
  "metadata": {
    "kernelspec": {
      "display_name": "Python 3",
      "name": "python3"
    },
    "language_info": {
      "codemirror_mode": {
        "name": "ipython",
        "version": 3
      },
      "file_extension": ".py",
      "mimetype": "text/x-python",
      "name": "python",
      "nbconvert_exporter": "python",
      "pygments_lexer": "ipython3",
      "version": "3.12.2"
    },
    "colab": {
      "provenance": []
    }
  },
  "nbformat": 4,
  "nbformat_minor": 0
}