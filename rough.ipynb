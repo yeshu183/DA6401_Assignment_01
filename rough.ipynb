import numpy as np
import panda as pd
