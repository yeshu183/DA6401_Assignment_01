{
  "cells": [
    {
      "cell_type": "code",
      "execution_count": 1,
      "metadata": {
        "id": "D7dFAzFKwtEk"
      },
      "outputs": [],
      "source": [
        "import numpy as np\n",
        "import pandas as pd\n",
        "import matplotlib.pyplot as plt\n",
        "import seaborn as sns"
      ]
    },
    {
      "cell_type": "code",
      "execution_count": 2,
      "metadata": {
        "id": "qNWvgxdOwtEo"
      },
      "outputs": [],
      "source": [
        "import wandb\n",
        "from keras.datasets import fashion_mnist\n",
        "from PIL import Image"
      ]
    },
    {
      "cell_type": "markdown",
      "source": [
        "## Question-01"
      ],
      "metadata": {
        "id": "2IdpS6KYl_a5"
      }
    },
    {
      "cell_type": "code",
      "source": [
        "# Initialize wandb\n",
        "wandb.init(project=\"fashion-mnist-classes\")\n",
        "\n",
        "# Load dataset\n",
        "(x_train, y_train), (x_test, y_test) = fashion_mnist.load_data()\n",
        "\n",
        "# Class labels in Fashion-MNIST\n",
        "class_labels = [\n",
        "    \"T-shirt/top\", \"Trouser\", \"Pullover\", \"Dress\", \"Coat\",\n",
        "    \"Sandal\", \"Shirt\", \"Sneaker\", \"Bag\", \"Ankle_boot\"\n",
        "]\n",
        "plt.figure(figsize=[12, 5])\n",
        "\n",
        "# Select one image per class\n",
        "sample_images = {}\n",
        "st = set()\n",
        "for x,y in zip(x_train,y_train):\n",
        "    if y in st:\n",
        "      continue\n",
        "    else:\n",
        "      st.add(y)\n",
        "      sample_images[class_labels[y]] = wandb.Image(x)\n",
        "      plt.subplot(2, 5, y+1)\n",
        "      plt.imshow(x, cmap='gray')\n",
        "      plt.axis('off')\n",
        "      plt.title(class_labels[y])\n",
        "\n",
        "# Log images to wandb\n",
        "wandb.log({\"fashion-mnist-classes\": [wandb.Image(img,caption=caption) for caption,img in sample_images.items()]})\n",
        "\n",
        "# Finish wandb run API Key: f659082c2b19bf3ffaaceceb36c1e280541f6b11\n",
        "wandb.finish()"
      ],
      "metadata": {
        "colab": {
          "base_uri": "https://localhost:8080/",
          "height": 640
        },
        "id": "plQ2XOQcawb-",
        "outputId": "0468283d-ccf6-4de8-ae92-aa54189d1748"
      },
      "execution_count": 3,
      "outputs": [
        {
          "output_type": "stream",
          "name": "stderr",
          "text": [
            "\u001b[34m\u001b[1mwandb\u001b[0m: Using wandb-core as the SDK backend.  Please refer to https://wandb.me/wandb-core for more information.\n",
            "\u001b[34m\u001b[1mwandb\u001b[0m: Currently logged in as: \u001b[33myeshu183\u001b[0m (\u001b[33myeshu183-indian-institute-of-technology-madras\u001b[0m) to \u001b[32mhttps://api.wandb.ai\u001b[0m. Use \u001b[1m`wandb login --relogin`\u001b[0m to force relogin\n"
          ]
        },
        {
          "output_type": "display_data",
          "data": {
            "text/plain": [
              "<IPython.core.display.HTML object>"
            ],
            "text/html": [
              "Tracking run with wandb version 0.19.7"
            ]
          },
          "metadata": {}
        },
        {
          "output_type": "display_data",
          "data": {
            "text/plain": [
              "<IPython.core.display.HTML object>"
            ],
            "text/html": [
              "Run data is saved locally in <code>/content/wandb/run-20250309_185221-fdka7b4j</code>"
            ]
          },
          "metadata": {}
        },
        {
          "output_type": "display_data",
          "data": {
            "text/plain": [
              "<IPython.core.display.HTML object>"
            ],
            "text/html": [
              "Syncing run <strong><a href='https://wandb.ai/yeshu183-indian-institute-of-technology-madras/fashion-mnist-classes/runs/fdka7b4j' target=\"_blank\">cerulean-lake-15</a></strong> to <a href='https://wandb.ai/yeshu183-indian-institute-of-technology-madras/fashion-mnist-classes' target=\"_blank\">Weights & Biases</a> (<a href='https://wandb.me/developer-guide' target=\"_blank\">docs</a>)<br>"
            ]
          },
          "metadata": {}
        },
        {
          "output_type": "display_data",
          "data": {
            "text/plain": [
              "<IPython.core.display.HTML object>"
            ],
            "text/html": [
              " View project at <a href='https://wandb.ai/yeshu183-indian-institute-of-technology-madras/fashion-mnist-classes' target=\"_blank\">https://wandb.ai/yeshu183-indian-institute-of-technology-madras/fashion-mnist-classes</a>"
            ]
          },
          "metadata": {}
        },
        {
          "output_type": "display_data",
          "data": {
            "text/plain": [
              "<IPython.core.display.HTML object>"
            ],
            "text/html": [
              " View run at <a href='https://wandb.ai/yeshu183-indian-institute-of-technology-madras/fashion-mnist-classes/runs/fdka7b4j' target=\"_blank\">https://wandb.ai/yeshu183-indian-institute-of-technology-madras/fashion-mnist-classes/runs/fdka7b4j</a>"
            ]
          },
          "metadata": {}
        },
        {
          "output_type": "display_data",
          "data": {
            "text/plain": [
              "<IPython.core.display.HTML object>"
            ],
            "text/html": []
          },
          "metadata": {}
        },
        {
          "output_type": "display_data",
          "data": {
            "text/plain": [
              "<IPython.core.display.HTML object>"
            ],
            "text/html": [
              " View run <strong style=\"color:#cdcd00\">cerulean-lake-15</strong> at: <a href='https://wandb.ai/yeshu183-indian-institute-of-technology-madras/fashion-mnist-classes/runs/fdka7b4j' target=\"_blank\">https://wandb.ai/yeshu183-indian-institute-of-technology-madras/fashion-mnist-classes/runs/fdka7b4j</a><br> View project at: <a href='https://wandb.ai/yeshu183-indian-institute-of-technology-madras/fashion-mnist-classes' target=\"_blank\">https://wandb.ai/yeshu183-indian-institute-of-technology-madras/fashion-mnist-classes</a><br>Synced 5 W&B file(s), 10 media file(s), 0 artifact file(s) and 0 other file(s)"
            ]
          },
          "metadata": {}
        },
        {
          "output_type": "display_data",
          "data": {
            "text/plain": [
              "<IPython.core.display.HTML object>"
            ],
            "text/html": [
              "Find logs at: <code>./wandb/run-20250309_185221-fdka7b4j/logs</code>"
            ]
          },
          "metadata": {}
        },
        {
          "output_type": "display_data",
          "data": {
            "text/plain": [
              "<Figure size 1200x500 with 10 Axes>"
            ],
            "image/png": "[encoded data removed]"
          },
          "metadata": {}
        }
      ]
    },
    {
      "cell_type": "markdown",
      "source": [
        "##Question-02"
      ],
      "metadata": {
        "id": "Rx-ywI4umG4_"
      }
    },
    {
      "cell_type": "code",
      "source": [
        "(x_train, y_train), (x_test, y_test) = fashion_mnist.load_data()\n",
        "# Split validation set (10% of training data)\n",
        "val_size = int(0.1 * len(x_train))\n",
        "x_val, y_val = x_train[:val_size], y_train[:val_size]\n",
        "x_train, y_train = x_train[val_size:], y_train[val_size:]\n",
        "\n",
        "# Normalize inputs\n",
        "x_train = x_train.reshape(x_train.shape[0], -1) / 255.0\n",
        "x_val = x_val.reshape(x_val.shape[0], -1) / 255.0\n",
        "x_test = x_test.reshape(x_test.shape[0], -1) / 255.0\n",
        "\n",
        "# One-hot encoding of labels\n",
        "def one_hot_encode(y, num_classes=10):\n",
        "    return np.eye(num_classes)[y]\n",
        "\n",
        "y_train = one_hot_encode(y_train)\n",
        "y_val = one_hot_encode(y_val)\n",
        "y_test = one_hot_encode(y_test)"
      ],
      "metadata": {
        "id": "8Maj3AkbdfNm"
      },
      "execution_count": 3,
      "outputs": []
    },
    {
      "cell_type": "code",
      "source": [
        "wandb.finish()"
      ],
      "metadata": {
        "id": "w3WMcgU6jmrb"
      },
      "execution_count": 5,
      "outputs": []
    },
    {
      "cell_type": "code",
      "source": [
        "class Optimizers:\n",
        "    def __init__(self, lr=1e-3, epsilon=1e-8):\n",
        "        self.lr = lr\n",
        "        self.epsilon = epsilon  # Small value to prevent division by zero\n",
        "\n",
        "        # Initialize state dictionaries\n",
        "        self.v = {}  # Velocity (for momentum, NAG)\n",
        "        self.s = {}  # Squared gradients (for RMSprop, Adam, Nadam)\n",
        "        self.m = {}  # First moment (for Adam/Nadam)\n",
        "        self.t = 0   # Time step (for Adam/Nadam)\n",
        "\n",
        "    def _initialize_params(self, w_key, param_shape):\n",
        "        \"\"\"Initialize optimizer states for a given parameter key\"\"\"\n",
        "        if w_key not in self.v:\n",
        "            self.v[w_key] = np.zeros(param_shape)\n",
        "            self.s[w_key] = np.zeros(param_shape)\n",
        "            self.m[w_key] = np.zeros(param_shape)\n",
        "\n",
        "    def sgd(self, w, b, dw, db, key=\"w\"):\n",
        "        \"\"\"Vanilla Stochastic Gradient Descent\"\"\"\n",
        "        w -= self.lr * dw\n",
        "        b -= self.lr * db\n",
        "        return w, b\n",
        "\n",
        "    def momentum(self, w, b, dw, db, key=\"w\", beta1=0.9):\n",
        "        \"\"\"Momentum-based Gradient Descent\"\"\"\n",
        "        self._initialize_params(key, w.shape)\n",
        "        self.v[key] = beta1 * self.v[key] - self.lr * dw\n",
        "        w += self.v[key]\n",
        "        b -= self.lr * db\n",
        "        return w, b\n",
        "\n",
        "    def nesterov(self, w, b, dw, db, key=\"w\", beta1=0.9):\n",
        "        \"\"\"Nesterov Accelerated Gradient (NAG)\"\"\"\n",
        "        self._initialize_params(key, w.shape)\n",
        "        prev_v = self.v[key]\n",
        "        self.v[key] = beta1 * self.v[key] - self.lr * dw\n",
        "        w += -beta1 * prev_v + (1 + beta1) * self.v[key]\n",
        "        b -= self.lr * db\n",
        "        return w, b\n",
        "\n",
        "    def rmsprop(self, w, b, dw, db, key=\"w\", rho=0.9):\n",
        "        \"\"\"RMSprop Optimization\"\"\"\n",
        "        self._initialize_params(key, w.shape)\n",
        "        self.s[key] = rho * self.s[key] + (1 - rho) * (dw ** 2)\n",
        "        w -= self.lr * dw / (np.sqrt(self.s[key]) + self.epsilon)\n",
        "        b -= self.lr * db\n",
        "        return w, b\n",
        "\n",
        "    def adam(self, w, b, dw, db, key=\"w\", beta1=0.9, beta2=0.999):\n",
        "        \"\"\"Adaptive Moment Estimation (Adam)\"\"\"\n",
        "        self._initialize_params(key, w.shape)\n",
        "        self.t += 1  # Time step\n",
        "        self.m[key] = beta1 * self.m[key] + (1 - beta1) * dw\n",
        "        self.s[key] = beta2 * self.s[key] + (1 - beta2) * (dw ** 2)\n",
        "\n",
        "        m_hat = self.m[key] / (1 - beta1 ** self.t)\n",
        "        s_hat = self.s[key] / (1 - beta2 ** self.t)\n",
        "\n",
        "        w -= self.lr * m_hat / (np.sqrt(s_hat) + self.epsilon)\n",
        "        b -= self.lr * db\n",
        "        return w, b\n",
        "\n",
        "    def nadam(self, w, b, dw, db, key=\"w\", beta1=0.9, beta2=0.999):\n",
        "        \"\"\"Nadam Optimization (Adam + Nesterov)\"\"\"\n",
        "        self._initialize_params(key, w.shape)\n",
        "        self.t += 1  # Time step\n",
        "        self.m[key] = beta1 * self.m[key] + (1 - beta1) * dw\n",
        "        self.s[key] = beta2 * self.s[key] + (1 - beta2) * (dw ** 2)\n",
        "\n",
        "        m_hat = self.m[key] / (1 - beta1 ** self.t)\n",
        "        s_hat = self.s[key] / (1 - beta2 ** self.t)\n",
        "\n",
        "        m_nesterov = beta1 * m_hat + (1 - beta1) * dw / (1 - beta1 ** self.t)\n",
        "\n",
        "        w -= self.lr * m_nesterov / (np.sqrt(s_hat) + self.epsilon)\n",
        "        b -= self.lr * db\n",
        "        return w, b\n"
      ],
      "metadata": {
        "id": "qlLBAbw5WGQL"
      },
      "execution_count": 4,
      "outputs": []
    },
    {
      "cell_type": "code",
      "source": [
        "# Define activation functions class\n",
        "class ActivationFunctions:\n",
        "    def sigmoid(z):\n",
        "        return 1 / (1 + np.exp(-z))\n",
        "\n",
        "    def tanh(z):\n",
        "        return np.tanh(z)\n",
        "\n",
        "    def relu(z):\n",
        "        return np.maximum(0, z)\n",
        "\n",
        "    def softmax(z):\n",
        "        exp_z = np.exp(z - np.max(z, axis=1, keepdims=True))\n",
        "        return exp_z / np.sum(exp_z, axis=1, keepdims=True)"
      ],
      "metadata": {
        "id": "AuhiJ75FWYOg"
      },
      "execution_count": 5,
      "outputs": []
    },
    {
      "cell_type": "code",
      "source": [],
      "metadata": {
        "id": "Phgub4la2-Su"
      },
      "execution_count": 6,
      "outputs": []
    },
    {
      "cell_type": "code",
      "source": [
        "from os import access\n",
        "# Initialize Weights & Biases (wandb)\n",
        "wandb.finish()\n",
        "wandb.init(project=\"Neural Network class\")\n",
        "\n",
        "\n",
        "\n",
        "# Define weight initialization methods\n",
        "def random_init(shape):\n",
        "    return np.random.randn(*shape) * 0.01\n",
        "\n",
        "def xavier_init(shape):\n",
        "    return np.random.randn(*shape) * np.sqrt(1 / shape[0])\n",
        "\n",
        "# Define gradient descent algorithms class\n",
        "# class Optimizers:\n",
        "#     def __init__(self, lr=1e-3):\n",
        "#         self.lr = lr\n",
        "\n",
        "#     def sgd(self, w, b, dw, db):\n",
        "#         w -= self.lr * dw\n",
        "#         b -= self.lr * db\n",
        "#         return w, b\n",
        "# Define the neural network class\n",
        "class NeuralNetwork:\n",
        "    def __init__(self, input_size,num_hid_layers, hid_layer_size, output_size=10, activation='relu', weight_init='random', l2_reg=0.0, optimizer='sgd', lr=1e-3):\n",
        "        self.layers = [input_size] + num_hid_layers*[hid_layer_size] + [output_size]\n",
        "        self.activation_func = getattr(ActivationFunctions, activation)\n",
        "        self.weight_init = {'random': random_init, 'xavier': xavier_init}[weight_init]\n",
        "        self.l2_reg = l2_reg\n",
        "        self.optimizer = Optimizers(lr)  # Create an instance of Optimizers\n",
        "        self.optimizer_function = getattr(self.optimizer, optimizer)\n",
        "        self.weights = [self.weight_init((self.layers[i], self.layers[i+1])) for i in range(len(self.layers) - 1)]\n",
        "        self.biases = [self.weight_init((1, self.layers[i+1])) for i in range(len(self.layers) - 1)]\n",
        "\n",
        "    def forward(self, x):\n",
        "        activations = [x]\n",
        "        z_values = []\n",
        "        for i in range(len(self.weights) - 1):\n",
        "            z = np.dot(x, self.weights[i]) + self.biases[i]\n",
        "            x = self.activation_func(z)\n",
        "            z_values.append(z)\n",
        "            activations.append(x)\n",
        "        z = np.dot(x, self.weights[-1]) + self.biases[-1]\n",
        "        x = ActivationFunctions.softmax(z)\n",
        "        z_values.append(z)\n",
        "        activations.append(x)\n",
        "        return activations, z_values\n",
        "\n",
        "    def compute_loss(self, y_pred, y_true):\n",
        "        l2_penalty = self.l2_reg * sum(np.sum(w**2) for w in self.weights) / 2\n",
        "        return -np.mean(y_true * np.log(y_pred + 1e-9)) + l2_penalty\n",
        "\n",
        "    def compute_accuracy(self, y_pred, y_true):\n",
        "        # Convert one-hot encoded true labels to class indices\n",
        "        y_true_labels = np.argmax(y_true, axis=1)\n",
        "        # Convert predicted probabilities to class indices\n",
        "        y_pred_labels = np.argmax(y_pred, axis=1)\n",
        "        # Compute accuracy\n",
        "        accuracy = np.mean(y_pred_labels == y_true_labels)\n",
        "        return accuracy\n",
        "\n",
        "\n",
        "    def backward(self, activations, z_values, y_true):\n",
        "        \"\"\"\n",
        "        Perform backpropagation with different activation functions.\n",
        "\n",
        "        Parameters:\n",
        "        - activations: List of activations from each layer.\n",
        "        - z_values: List of pre-activation values (Z) from each layer.\n",
        "        - y_true: True labels.\n",
        "        - activation_funcs: List of activation functions used in each layer.\n",
        "\n",
        "        Returns:\n",
        "        - grad_weights: Gradients for weights.\n",
        "        - grad_biases: Gradients for biases.\n",
        "        \"\"\"\n",
        "        grad_weights = [None] * len(self.weights)\n",
        "        grad_biases = [None] * len(self.biases)\n",
        "\n",
        "        # Derivative functions for activation functions\n",
        "        def relu_derivative(z):\n",
        "            return (z > 0).astype(float)\n",
        "\n",
        "        def tanh_derivative(z):\n",
        "            return 1 - np.tanh(z) ** 2\n",
        "\n",
        "        def sigmoid_derivative(z):\n",
        "            sig = 1 / (1 + np.exp(-z))\n",
        "            return sig * (1 - sig)\n",
        "\n",
        "        def softmax_derivative(a):\n",
        "            return a * (1 - a)  # Not directly used in CE loss\n",
        "\n",
        "        # Output layer gradient\n",
        "        dz = activations[-1] - y_true  # Cross-entropy with softmax simplifies to this\n",
        "\n",
        "        grad_weights[-1] = np.dot(activations[-2].T, dz) / len(y_true)\n",
        "        grad_biases[-1] = np.sum(dz, axis=0, keepdims=True) / len(y_true)\n",
        "\n",
        "        # Backpropagation through hidden layers\n",
        "        for i in range(len(self.weights) - 2, -1, -1):\n",
        "            if activation == \"relu\":\n",
        "                dz = np.dot(dz, self.weights[i + 1].T) * relu_derivative(z_values[i])\n",
        "            elif activation == \"tanh\":\n",
        "                dz = np.dot(dz, self.weights[i + 1].T) * tanh_derivative(z_values[i])\n",
        "            elif activation == \"sigmoid\":\n",
        "                dz = np.dot(dz, self.weights[i + 1].T) * sigmoid_derivative(z_values[i])\n",
        "            else:\n",
        "                raise ValueError(f\"Unsupported activation function: {activation}\")\n",
        "\n",
        "            grad_weights[i] = np.dot(activations[i].T, dz) / len(y_true) + self.l2_reg * self.weights[i]\n",
        "            grad_biases[i] = np.sum(dz, axis=0, keepdims=True) / len(y_true)\n",
        "\n",
        "        return grad_weights, grad_biases\n",
        "\n",
        "\n",
        "    def update_parameters(self, grad_weights, grad_biases):\n",
        "        for i in range(len(self.weights)):\n",
        "            if self.optimizer.__class__.__name__ == \"sgd\":\n",
        "                self.weights[i], self.biases[i] = self.optimizer_function(\n",
        "                    self.weights[i], self.biases[i], grad_weights[i], grad_biases[i])\n",
        "            else:\n",
        "                self.weights[i], self.biases[i] = self.optimizer_function(\n",
        "                    self.weights[i], self.biases[i], grad_weights[i], grad_biases[i],\n",
        "                    key=f\"layer_{i}\")\n",
        "\n",
        "\n",
        "    def train(self, x_train, y_train, x_val, y_val, epochs=10, batch_size=32):\n",
        "        train_history = []\n",
        "        val_history = []\n",
        "\n",
        "        for epoch in range(epochs):\n",
        "            # Shuffle training data\n",
        "            indices = np.arange(len(x_train))\n",
        "            np.random.shuffle(indices)\n",
        "\n",
        "            # Training phase - process in batches\n",
        "            epoch_losses = []\n",
        "            epoch_predictions = []\n",
        "            epoch_true_labels = []\n",
        "\n",
        "            for i in range(0, len(x_train), batch_size):\n",
        "                batch_indices = indices[i:i+batch_size]\n",
        "                x_batch, y_batch = x_train[batch_indices], y_train[batch_indices]\n",
        "\n",
        "                # Forward pass\n",
        "                activations, z_values = self.forward(x_batch)\n",
        "\n",
        "                # Store batch results for epoch-level metrics\n",
        "                batch_loss = self.compute_loss(activations[-1], y_batch)\n",
        "                epoch_losses.append(batch_loss * len(x_batch))  # Weighted by batch size\n",
        "                epoch_predictions.append(activations[-1])\n",
        "                epoch_true_labels.append(y_batch)\n",
        "\n",
        "                # Backward pass and weight updates\n",
        "                grad_weights, grad_biases = self.backward(activations, z_values, y_batch)\n",
        "                self.update_parameters(grad_weights, grad_biases)\n",
        "\n",
        "            # Compute epoch-level training metrics\n",
        "            train_loss = sum(epoch_losses) / len(x_train)\n",
        "\n",
        "            # Concatenate all batches for accuracy calculation\n",
        "            all_predictions = np.vstack(epoch_predictions)\n",
        "            all_true_labels = np.vstack(epoch_true_labels)\n",
        "            train_accuracy = self.compute_accuracy(all_predictions, all_true_labels)\n",
        "\n",
        "            # Validation phase - process in one go or in batches if dataset is large\n",
        "            val_activations, _ = self.forward(x_val)\n",
        "            val_loss = self.compute_loss(val_activations[-1], y_val)\n",
        "            val_accuracy = self.compute_accuracy(val_activations[-1], y_val)\n",
        "\n",
        "            # Log metrics\n",
        "            wandb.log({\n",
        "                \"loss\": train_loss,\n",
        "                \"accuracy\": train_accuracy,\n",
        "                \"val_loss\": val_loss,\n",
        "                \"val_accuracy\": val_accuracy,\n",
        "                \"epoch\": epoch+1\n",
        "            })\n",
        "\n",
        "            # Store history\n",
        "            train_history.append((train_loss, train_accuracy))\n",
        "            val_history.append((val_loss, val_accuracy))\n",
        "\n",
        "            # Print progress\n",
        "            print(f\"Epoch {epoch+1}, Loss: {train_loss:.4f}, Accuracy: {train_accuracy:.4f}, \"\n",
        "                  f\"Val Loss: {val_loss:.4f}, Val Accuracy: {val_accuracy:.4f}\")\n",
        "\n",
        "        return train_history, val_history\n",
        "\n",
        "# Hyperparameters\n",
        "num_hid_layers = 3\n",
        "hid_layer_size = 64  # Changeable number of layers\n",
        "weight_init = 'xavier'  # Options: 'random', 'xavier'\n",
        "activation = 'relu'  # Options: 'sigmoid', 'tanh', 'relu'\n",
        "l2_reg = 0.0005  # L2 regularization strength\n",
        "learning_rate = 1e-3  # Options: 1e-3, 1e-4\n",
        "batch_size = 32  # Options: 16, 32, 64\n",
        "epochs = 5  # Options: 5, 10\n",
        "optimizer = 'sgd'  # Options: 'sgd', 'momentum', 'nesterov', 'rmsprop', 'adam', 'nadam'\n",
        "\n",
        "# Initialize and train the model\n",
        "nn = NeuralNetwork(input_size=784, num_hid_layers=num_hid_layers, hid_layer_size=hid_layer_size, activation=activation, weight_init=weight_init, l2_reg=l2_reg, optimizer=optimizer, lr=learning_rate)\n",
        "nn.train(x_train, y_train, x_val, y_val, epochs=epochs, batch_size=batch_size)\n",
        "\n",
        "wandb.finish()\n"
      ],
      "metadata": {
        "colab": {
          "base_uri": "https://localhost:8080/",
          "height": 746
        },
        "id": "Z3oZ7GmXb-aY",
        "outputId": "1cee65b7-7c39-4c98-f739-5f0f862c0dbd"
      },
      "execution_count": 10,
      "outputs": [
        {
          "output_type": "display_data",
          "data": {
            "text/plain": [
              "<IPython.core.display.HTML object>"
            ],
            "text/html": [
              "Changes to your `wandb` environment variables will be ignored because your `wandb` session has already started. For more information on how to modify your settings with `wandb.init()` arguments, please refer to <a href='https://wandb.me/wandb-init' target=\"_blank\">the W&B docs</a>."
            ]
          },
          "metadata": {}
        },
        {
          "output_type": "display_data",
          "data": {
            "text/plain": [
              "<IPython.core.display.HTML object>"
            ],
            "text/html": [
              "Ignoring project 'Neural Network class' when running a sweep."
            ]
          },
          "metadata": {}
        },
        {
          "output_type": "display_data",
          "data": {
            "text/plain": [
              "<IPython.core.display.HTML object>"
            ],
            "text/html": [
              "Tracking run with wandb version 0.19.7"
            ]
          },
          "metadata": {}
        },
        {
          "output_type": "display_data",
          "data": {
            "text/plain": [
              "<IPython.core.display.HTML object>"
            ],
            "text/html": [
              "Run data is saved locally in <code>/content/wandb/run-20250310_072441-r40x22al</code>"
            ]
          },
          "metadata": {}
        },
        {
          "output_type": "display_data",
          "data": {
            "text/plain": [
              "<IPython.core.display.HTML object>"
            ],
            "text/html": [
              "Syncing run <strong><a href='https://wandb.ai/yeshu183-indian-institute-of-technology-madras/Sweep%20Functionality/runs/r40x22al' target=\"_blank\">e_10_hl_3_opt_nesterov_bs_16_init_xavier_ac_relu</a></strong> to <a href='https://wandb.ai/yeshu183-indian-institute-of-technology-madras/Sweep%20Functionality' target=\"_blank\">Weights & Biases</a> (<a href='https://wandb.me/developer-guide' target=\"_blank\">docs</a>)<br>Sweep page: <a href='https://wandb.ai/yeshu183-indian-institute-of-technology-madras/Sweep%20Functionality/sweeps/in6238dh' target=\"_blank\">https://wandb.ai/yeshu183-indian-institute-of-technology-madras/Sweep%20Functionality/sweeps/in6238dh</a>"
            ]
          },
          "metadata": {}
        },
        {
          "output_type": "display_data",
          "data": {
            "text/plain": [
              "<IPython.core.display.HTML object>"
            ],
            "text/html": [
              " View project at <a href='https://wandb.ai/yeshu183-indian-institute-of-technology-madras/Sweep%20Functionality' target=\"_blank\">https://wandb.ai/yeshu183-indian-institute-of-technology-madras/Sweep%20Functionality</a>"
            ]
          },
          "metadata": {}
        },
        {
          "output_type": "display_data",
          "data": {
            "text/plain": [
              "<IPython.core.display.HTML object>"
            ],
            "text/html": [
              " View sweep at <a href='https://wandb.ai/yeshu183-indian-institute-of-technology-madras/Sweep%20Functionality/sweeps/in6238dh' target=\"_blank\">https://wandb.ai/yeshu183-indian-institute-of-technology-madras/Sweep%20Functionality/sweeps/in6238dh</a>"
            ]
          },
          "metadata": {}
        },
        {
          "output_type": "display_data",
          "data": {
            "text/plain": [
              "<IPython.core.display.HTML object>"
            ],
            "text/html": [
              " View run at <a href='https://wandb.ai/yeshu183-indian-institute-of-technology-madras/Sweep%20Functionality/runs/r40x22al' target=\"_blank\">https://wandb.ai/yeshu183-indian-institute-of-technology-madras/Sweep%20Functionality/runs/r40x22al</a>"
            ]
          },
          "metadata": {}
        },
        {
          "output_type": "stream",
          "name": "stdout",
          "text": [
            "Epoch 1, Loss: 0.2497, Accuracy: 0.3898, Val Loss: 0.1993, Val Accuracy: 0.6027\n",
            "Epoch 2, Loss: 0.1693, Accuracy: 0.6469, Val Loss: 0.1486, Val Accuracy: 0.6822\n",
            "Epoch 3, Loss: 0.1406, Accuracy: 0.7016, Val Loss: 0.1326, Val Accuracy: 0.7240\n",
            "Epoch 4, Loss: 0.1292, Accuracy: 0.7301, Val Loss: 0.1249, Val Accuracy: 0.7440\n",
            "Epoch 5, Loss: 0.1232, Accuracy: 0.7459, Val Loss: 0.1205, Val Accuracy: 0.7622\n"
          ]
        },
        {
          "output_type": "display_data",
          "data": {
            "text/plain": [
              "<IPython.core.display.HTML object>"
            ],
            "text/html": []
          },
          "metadata": {}
        },
        {
          "output_type": "display_data",
          "data": {
            "text/plain": [
              "<IPython.core.display.HTML object>"
            ],
            "text/html": [
              "<br>    <style><br>        .wandb-row {<br>            display: flex;<br>            flex-direction: row;<br>            flex-wrap: wrap;<br>            justify-content: flex-start;<br>            width: 100%;<br>        }<br>        .wandb-col {<br>            display: flex;<br>            flex-direction: column;<br>            flex-basis: 100%;<br>            flex: 1;<br>            padding: 10px;<br>        }<br>    </style><br><div class=\"wandb-row\"><div class=\"wandb-col\"><h3>Run history:</h3><br/><table class=\"wandb\"><tr><td>accuracy</td><td>▁▆▇██</td></tr><tr><td>epoch</td><td>▁▃▅▆█</td></tr><tr><td>loss</td><td>█▄▂▁▁</td></tr><tr><td>val_accuracy</td><td>▁▄▆▇█</td></tr><tr><td>val_loss</td><td>█▃▂▁▁</td></tr></table><br/></div><div class=\"wandb-col\"><h3>Run summary:</h3><br/><table class=\"wandb\"><tr><td>accuracy</td><td>0.74594</td></tr><tr><td>epoch</td><td>5</td></tr><tr><td>loss</td><td>0.12321</td></tr><tr><td>val_accuracy</td><td>0.76217</td></tr><tr><td>val_loss</td><td>0.12055</td></tr></table><br/></div></div>"
            ]
          },
          "metadata": {}
        },
        {
          "output_type": "display_data",
          "data": {
            "text/plain": [
              "<IPython.core.display.HTML object>"
            ],
            "text/html": [
              " View run <strong style=\"color:#cdcd00\">e_10_hl_3_opt_nesterov_bs_16_init_xavier_ac_relu</strong> at: <a href='https://wandb.ai/yeshu183-indian-institute-of-technology-madras/Sweep%20Functionality/runs/r40x22al' target=\"_blank\">https://wandb.ai/yeshu183-indian-institute-of-technology-madras/Sweep%20Functionality/runs/r40x22al</a><br> View project at: <a href='https://wandb.ai/yeshu183-indian-institute-of-technology-madras/Sweep%20Functionality' target=\"_blank\">https://wandb.ai/yeshu183-indian-institute-of-technology-madras/Sweep%20Functionality</a><br>Synced 5 W&B file(s), 0 media file(s), 0 artifact file(s) and 0 other file(s)"
            ]
          },
          "metadata": {}
        },
        {
          "output_type": "display_data",
          "data": {
            "text/plain": [
              "<IPython.core.display.HTML object>"
            ],
            "text/html": [
              "Find logs at: <code>./wandb/run-20250310_072441-r40x22al/logs</code>"
            ]
          },
          "metadata": {}
        }
      ]
    },
    {
      "cell_type": "markdown",
      "source": [
        "##Question-4"
      ],
      "metadata": {
        "id": "aWeQMwhog0oN"
      }
    },
    {
      "cell_type": "code",
      "source": [
        "# Initialize Weights & Biases (wandb)\n",
        "wandb.finish()\n",
        "\n",
        "\n",
        "# Define sweep configuration\n",
        "sweep_config = {\n",
        "    'method': 'bayes',  # Options: grid, random, bayes\n",
        "    'metric': {'name': 'val_acc', 'goal': 'maximize'},\n",
        "    'parameters': {\n",
        "        'epochs': {'values': [5,10]},\n",
        "        'num_hid_layers': {'values': [3, 4, 5]},\n",
        "        'hid_layer_size': {'values': [32,64,128]},\n",
        "        'weight_init': {'values': ['random', 'xavier']},\n",
        "        'activation': {'values': ['sigmoid', 'tanh', 'relu']},\n",
        "        'l2_reg': {'values': [0, 0.0005, 0.005]},\n",
        "        'learning_rate': {'values': [1e-2, 1e-3, 1e-4]},\n",
        "        'batch_size': {'values': [16, 32, 64]},\n",
        "        'optimizer': {'values': ['sgd','momentum', 'nesterov', 'rmsprop', 'adam', 'nadam']}\n",
        "    }\n",
        "}\n",
        "\n",
        "sweep_id = wandb.sweep(sweep_config, project=\"Sweep Functionality\")\n",
        "\n",
        "def train_sweep():\n",
        "    wandb.init(project=\"Sweep Functionality\")\n",
        "    config = wandb.config\n",
        "    wandb.run.name = f\"e_{config.epochs}_hl_{config.num_hid_layers}_opt_{config.optimizer}_bs_{config.batch_size}_init_{config.weight_init}_ac_{config.activation}\"\n",
        "\n",
        "    nn = NeuralNetwork(\n",
        "        input_size=784,\n",
        "        num_hid_layers=config.num_hid_layers,\n",
        "        hid_layer_size=config.hid_layer_size,\n",
        "        activation=config.activation,\n",
        "        weight_init=config.weight_init,\n",
        "        l2_reg=config.l2_reg,\n",
        "        optimizer=config.optimizer,\n",
        "        lr=config.learning_rate\n",
        "    )\n",
        "\n",
        "    nn.train(x_train, y_train, x_val, y_val, epochs=config.epochs, batch_size=config.batch_size)\n",
        "\n",
        "    val_activations,val_z = nn.forward(x_val)\n",
        "    val_loss = nn.compute_loss(val_activations[-1], y_val)\n",
        "    val_acc = nn.compute_accuracy(val_activations[-1], y_val)\n",
        "    wandb.log({\"val_acc\": val_acc})\n",
        "    print(f\"Validation Loss: {val_loss:.4f}, Validation Accuracy: {val_acc:.4f}\")\n",
        "\n",
        "wandb.agent(sweep_id, function=train_sweep,count=20)\n",
        "wandb.finish()"
      ],
      "metadata": {
        "colab": {
          "base_uri": "https://localhost:8080/",
          "height": 1000
        },
        "id": "_fFZy9gvmDKH",
        "outputId": "9d01c707-5d51-419f-ac9c-336c5dd5b4cb"
      },
      "execution_count": 12,
      "outputs": [
        {
          "output_type": "stream",
          "name": "stdout",
          "text": [
            "Create sweep with ID: 1875zz1k\n",
            "Sweep URL: https://wandb.ai/yeshu183-indian-institute-of-technology-madras/Sweep%20Functionality/sweeps/1875zz1k\n"
          ]
        },
        {
          "output_type": "stream",
          "name": "stderr",
          "text": [
            "/usr/local/lib/python3.11/dist-packages/wandb/sdk/wandb_run.py:2296: UserWarning: Run (bxukfgav) is finished. The call to `_console_raw_callback` will be ignored. Please make sure that you are using an active run.\n",
            "  lambda data: self._console_raw_callback(\"stdout\", data),\n",
            "/usr/local/lib/python3.11/dist-packages/wandb/sdk/wandb_run.py:2302: UserWarning: Run (bxukfgav) is finished. The call to `_console_raw_callback` will be ignored. Please make sure that you are using an active run.\n",
            "  lambda data: self._console_raw_callback(\"stderr\", data),\n",
            "\u001b[34m\u001b[1mwandb\u001b[0m: Agent Starting Run: k15y6an9 with config:\n",
            "\u001b[34m\u001b[1mwandb\u001b[0m: \tactivation: relu\n",
            "\u001b[34m\u001b[1mwandb\u001b[0m: \tbatch_size: 16\n",
            "\u001b[34m\u001b[1mwandb\u001b[0m: \tepochs: 5\n",
            "\u001b[34m\u001b[1mwandb\u001b[0m: \thid_layer_size: 32\n",
            "\u001b[34m\u001b[1mwandb\u001b[0m: \tl2_reg: 0\n",
            "\u001b[34m\u001b[1mwandb\u001b[0m: \tlearning_rate: 0.001\n",
            "\u001b[34m\u001b[1mwandb\u001b[0m: \tnum_hid_layers: 4\n",
            "\u001b[34m\u001b[1mwandb\u001b[0m: \toptimizer: adam\n",
            "\u001b[34m\u001b[1mwandb\u001b[0m: \tweight_init: random\n"
          ]
        },
        {
          "output_type": "display_data",
          "data": {
            "text/plain": [
              "<IPython.core.display.HTML object>"
            ],
            "text/html": [
              "Ignoring project 'Sweep Functionality' when running a sweep."
            ]
          },
          "metadata": {}
        },
        {
          "output_type": "display_data",
          "data": {
            "text/plain": [
              "<IPython.core.display.HTML object>"
            ],
            "text/html": [
              "Tracking run with wandb version 0.19.7"
            ]
          },
          "metadata": {}
        },
        {
          "output_type": "display_data",
          "data": {
            "text/plain": [
              "<IPython.core.display.HTML object>"
            ],
            "text/html": [
              "Run data is saved locally in <code>/content/wandb/run-20250310_072539-k15y6an9</code>"
            ]
          },
          "metadata": {}
        },
        {
          "output_type": "display_data",
          "data": {
            "text/plain": [
              "<IPython.core.display.HTML object>"
            ],
            "text/html": [
              "Syncing run <strong><a href='https://wandb.ai/yeshu183-indian-institute-of-technology-madras/Sweep%20Functionality/runs/k15y6an9' target=\"_blank\">fragrant-sweep-1</a></strong> to <a href='https://wandb.ai/yeshu183-indian-institute-of-technology-madras/Sweep%20Functionality' target=\"_blank\">Weights & Biases</a> (<a href='https://wandb.me/developer-guide' target=\"_blank\">docs</a>)<br>Sweep page: <a href='https://wandb.ai/yeshu183-indian-institute-of-technology-madras/Sweep%20Functionality/sweeps/1875zz1k' target=\"_blank\">https://wandb.ai/yeshu183-indian-institute-of-technology-madras/Sweep%20Functionality/sweeps/1875zz1k</a>"
            ]
          },
          "metadata": {}
        },
        {
          "output_type": "display_data",
          "data": {
            "text/plain": [
              "<IPython.core.display.HTML object>"
            ],
            "text/html": [
              " View project at <a href='https://wandb.ai/yeshu183-indian-institute-of-technology-madras/Sweep%20Functionality' target=\"_blank\">https://wandb.ai/yeshu183-indian-institute-of-technology-madras/Sweep%20Functionality</a>"
            ]
          },
          "metadata": {}
        },
        {
          "output_type": "display_data",
          "data": {
            "text/plain": [
              "<IPython.core.display.HTML object>"
            ],
            "text/html": [
              " View sweep at <a href='https://wandb.ai/yeshu183-indian-institute-of-technology-madras/Sweep%20Functionality/sweeps/1875zz1k' target=\"_blank\">https://wandb.ai/yeshu183-indian-institute-of-technology-madras/Sweep%20Functionality/sweeps/1875zz1k</a>"
            ]
          },
          "metadata": {}
        },
        {
          "output_type": "display_data",
          "data": {
            "text/plain": [
              "<IPython.core.display.HTML object>"
            ],
            "text/html": [
              " View run at <a href='https://wandb.ai/yeshu183-indian-institute-of-technology-madras/Sweep%20Functionality/runs/k15y6an9' target=\"_blank\">https://wandb.ai/yeshu183-indian-institute-of-technology-madras/Sweep%20Functionality/runs/k15y6an9</a>"
            ]
          },
          "metadata": {}
        },
        {
          "output_type": "stream",
          "name": "stdout",
          "text": [
            "Epoch 1, Loss: 0.0976, Accuracy: 0.5909, Val Loss: 0.0857, Val Accuracy: 0.6648\n",
            "Epoch 2, Loss: 0.0767, Accuracy: 0.7000, Val Loss: 0.0713, Val Accuracy: 0.7368\n",
            "Epoch 3, Loss: 0.0689, Accuracy: 0.7365, Val Loss: 0.0649, Val Accuracy: 0.7478\n",
            "Epoch 4, Loss: 0.0610, Accuracy: 0.7699, Val Loss: 0.0591, Val Accuracy: 0.7833\n",
            "Epoch 5, Loss: 0.0530, Accuracy: 0.8129, Val Loss: 0.0498, Val Accuracy: 0.8305\n",
            "Validation Loss: 0.0498, Validation Accuracy: 0.8305\n"
          ]
        },
        {
          "output_type": "display_data",
          "data": {
            "text/plain": [
              "<IPython.core.display.HTML object>"
            ],
            "text/html": []
          },
          "metadata": {}
        },
        {
          "output_type": "display_data",
          "data": {
            "text/plain": [
              "<IPython.core.display.HTML object>"
            ],
            "text/html": [
              "<br>    <style><br>        .wandb-row {<br>            display: flex;<br>            flex-direction: row;<br>            flex-wrap: wrap;<br>            justify-content: flex-start;<br>            width: 100%;<br>        }<br>        .wandb-col {<br>            display: flex;<br>            flex-direction: column;<br>            flex-basis: 100%;<br>            flex: 1;<br>            padding: 10px;<br>        }<br>    </style><br><div class=\"wandb-row\"><div class=\"wandb-col\"><h3>Run history:</h3><br/><table class=\"wandb\"><tr><td>accuracy</td><td>▁▄▆▇█</td></tr><tr><td>epoch</td><td>▁▃▅▆█</td></tr><tr><td>loss</td><td>█▅▃▂▁</td></tr><tr><td>val_acc</td><td>▁</td></tr><tr><td>val_accuracy</td><td>▁▄▅▆█</td></tr><tr><td>val_loss</td><td>█▅▄▃▁▁</td></tr></table><br/></div><div class=\"wandb-col\"><h3>Run summary:</h3><br/><table class=\"wandb\"><tr><td>accuracy</td><td>0.81294</td></tr><tr><td>epoch</td><td>5</td></tr><tr><td>loss</td><td>0.05302</td></tr><tr><td>val_acc</td><td>0.8305</td></tr><tr><td>val_accuracy</td><td>0.8305</td></tr><tr><td>val_loss</td><td>0.0498</td></tr></table><br/></div></div>"
            ]
          },
          "metadata": {}
        },
        {
          "output_type": "display_data",
          "data": {
            "text/plain": [
              "<IPython.core.display.HTML object>"
            ],
            "text/html": [
              " View run <strong style=\"color:#cdcd00\">e_5_hl_4_opt_adam_bs_16_init_random_ac_relu</strong> at: <a href='https://wandb.ai/yeshu183-indian-institute-of-technology-madras/Sweep%20Functionality/runs/k15y6an9' target=\"_blank\">https://wandb.ai/yeshu183-indian-institute-of-technology-madras/Sweep%20Functionality/runs/k15y6an9</a><br> View project at: <a href='https://wandb.ai/yeshu183-indian-institute-of-technology-madras/Sweep%20Functionality' target=\"_blank\">https://wandb.ai/yeshu183-indian-institute-of-technology-madras/Sweep%20Functionality</a><br>Synced 5 W&B file(s), 0 media file(s), 0 artifact file(s) and 0 other file(s)"
            ]
          },
          "metadata": {}
        },
        {
          "output_type": "display_data",
          "data": {
            "text/plain": [
              "<IPython.core.display.HTML object>"
            ],
            "text/html": [
              "Find logs at: <code>./wandb/run-20250310_072539-k15y6an9/logs</code>"
            ]
          },
          "metadata": {}
        },
        {
          "output_type": "stream",
          "name": "stderr",
          "text": [
            "\u001b[34m\u001b[1mwandb\u001b[0m: Agent Starting Run: baugkagd with config:\n",
            "\u001b[34m\u001b[1mwandb\u001b[0m: \tactivation: tanh\n",
            "\u001b[34m\u001b[1mwandb\u001b[0m: \tbatch_size: 32\n",
            "\u001b[34m\u001b[1mwandb\u001b[0m: \tepochs: 5\n",
            "\u001b[34m\u001b[1mwandb\u001b[0m: \thid_layer_size: 32\n",
            "\u001b[34m\u001b[1mwandb\u001b[0m: \tl2_reg: 0.0005\n",
            "\u001b[34m\u001b[1mwandb\u001b[0m: \tlearning_rate: 0.001\n",
            "\u001b[34m\u001b[1mwandb\u001b[0m: \tnum_hid_layers: 4\n",
            "\u001b[34m\u001b[1mwandb\u001b[0m: \toptimizer: nadam\n",
            "\u001b[34m\u001b[1mwandb\u001b[0m: \tweight_init: xavier\n"
          ]
        },
        {
          "output_type": "display_data",
          "data": {
            "text/plain": [
              "<IPython.core.display.HTML object>"
            ],
            "text/html": [
              "Ignoring project 'Sweep Functionality' when running a sweep."
            ]
          },
          "metadata": {}
        },
        {
          "output_type": "display_data",
          "data": {
            "text/plain": [
              "<IPython.core.display.HTML object>"
            ],
            "text/html": [
              "Tracking run with wandb version 0.19.7"
            ]
          },
          "metadata": {}
        },
        {
          "output_type": "display_data",
          "data": {
            "text/plain": [
              "<IPython.core.display.HTML object>"
            ],
            "text/html": [
              "Run data is saved locally in <code>/content/wandb/run-20250310_072634-baugkagd</code>"
            ]
          },
          "metadata": {}
        },
        {
          "output_type": "display_data",
          "data": {
            "text/plain": [
              "<IPython.core.display.HTML object>"
            ],
            "text/html": [
              "Syncing run <strong><a href='https://wandb.ai/yeshu183-indian-institute-of-technology-madras/Sweep%20Functionality/runs/baugkagd' target=\"_blank\">curious-sweep-2</a></strong> to <a href='https://wandb.ai/yeshu183-indian-institute-of-technology-madras/Sweep%20Functionality' target=\"_blank\">Weights & Biases</a> (<a href='https://wandb.me/developer-guide' target=\"_blank\">docs</a>)<br>Sweep page: <a href='https://wandb.ai/yeshu183-indian-institute-of-technology-madras/Sweep%20Functionality/sweeps/1875zz1k' target=\"_blank\">https://wandb.ai/yeshu183-indian-institute-of-technology-madras/Sweep%20Functionality/sweeps/1875zz1k</a>"
            ]
          },
          "metadata": {}
        },
        {
          "output_type": "display_data",
          "data": {
            "text/plain": [
              "<IPython.core.display.HTML object>"
            ],
            "text/html": [
              " View project at <a href='https://wandb.ai/yeshu183-indian-institute-of-technology-madras/Sweep%20Functionality' target=\"_blank\">https://wandb.ai/yeshu183-indian-institute-of-technology-madras/Sweep%20Functionality</a>"
            ]
          },
          "metadata": {}
        },
        {
          "output_type": "display_data",
          "data": {
            "text/plain": [
              "<IPython.core.display.HTML object>"
            ],
            "text/html": [
              " View sweep at <a href='https://wandb.ai/yeshu183-indian-institute-of-technology-madras/Sweep%20Functionality/sweeps/1875zz1k' target=\"_blank\">https://wandb.ai/yeshu183-indian-institute-of-technology-madras/Sweep%20Functionality/sweeps/1875zz1k</a>"
            ]
          },
          "metadata": {}
        },
        {
          "output_type": "display_data",
          "data": {
            "text/plain": [
              "<IPython.core.display.HTML object>"
            ],
            "text/html": [
              " View run at <a href='https://wandb.ai/yeshu183-indian-institute-of-technology-madras/Sweep%20Functionality/runs/baugkagd' target=\"_blank\">https://wandb.ai/yeshu183-indian-institute-of-technology-madras/Sweep%20Functionality/runs/baugkagd</a>"
            ]
          },
          "metadata": {}
        },
        {
          "output_type": "stream",
          "name": "stdout",
          "text": [
            "Epoch 1, Loss: 3.5808, Accuracy: 0.2320, Val Loss: 5.4751, Val Accuracy: 0.2093\n",
            "Epoch 2, Loss: 7.1380, Accuracy: 0.2066, Val Loss: 9.5092, Val Accuracy: 0.2008\n",
            "Epoch 3, Loss: 13.1844, Accuracy: 0.2498, Val Loss: 17.7496, Val Accuracy: 0.3547\n",
            "Epoch 4, Loss: 21.6425, Accuracy: 0.3136, Val Loss: 25.5264, Val Accuracy: 0.3297\n",
            "Epoch 5, Loss: 29.6786, Accuracy: 0.3195, Val Loss: 33.1592, Val Accuracy: 0.3457\n",
            "Validation Loss: 33.1592, Validation Accuracy: 0.3457\n"
          ]
        },
        {
          "output_type": "display_data",
          "data": {
            "text/plain": [
              "<IPython.core.display.HTML object>"
            ],
            "text/html": []
          },
          "metadata": {}
        },
        {
          "output_type": "display_data",
          "data": {
            "text/plain": [
              "<IPython.core.display.HTML object>"
            ],
            "text/html": [
              "<br>    <style><br>        .wandb-row {<br>            display: flex;<br>            flex-direction: row;<br>            flex-wrap: wrap;<br>            justify-content: flex-start;<br>            width: 100%;<br>        }<br>        .wandb-col {<br>            display: flex;<br>            flex-direction: column;<br>            flex-basis: 100%;<br>            flex: 1;<br>            padding: 10px;<br>        }<br>    </style><br><div class=\"wandb-row\"><div class=\"wandb-col\"><h3>Run history:</h3><br/><table class=\"wandb\"><tr><td>accuracy</td><td>▃▁▄██</td></tr><tr><td>epoch</td><td>▁▃▅▆█</td></tr><tr><td>loss</td><td>▁▂▄▆█</td></tr><tr><td>val_acc</td><td>▁</td></tr><tr><td>val_accuracy</td><td>▁▁█▇█</td></tr><tr><td>val_loss</td><td>▁▂▄▆██</td></tr></table><br/></div><div class=\"wandb-col\"><h3>Run summary:</h3><br/><table class=\"wandb\"><tr><td>accuracy</td><td>0.31946</td></tr><tr><td>epoch</td><td>5</td></tr><tr><td>loss</td><td>29.67861</td></tr><tr><td>val_acc</td><td>0.34567</td></tr><tr><td>val_accuracy</td><td>0.34567</td></tr><tr><td>val_loss</td><td>33.15919</td></tr></table><br/></div></div>"
            ]
          },
          "metadata": {}
        },
        {
          "output_type": "display_data",
          "data": {
            "text/plain": [
              "<IPython.core.display.HTML object>"
            ],
            "text/html": [
              " View run <strong style=\"color:#cdcd00\">e_5_hl_4_opt_nadam_bs_32_init_xavier_ac_tanh</strong> at: <a href='https://wandb.ai/yeshu183-indian-institute-of-technology-madras/Sweep%20Functionality/runs/baugkagd' target=\"_blank\">https://wandb.ai/yeshu183-indian-institute-of-technology-madras/Sweep%20Functionality/runs/baugkagd</a><br> View project at: <a href='https://wandb.ai/yeshu183-indian-institute-of-technology-madras/Sweep%20Functionality' target=\"_blank\">https://wandb.ai/yeshu183-indian-institute-of-technology-madras/Sweep%20Functionality</a><br>Synced 5 W&B file(s), 0 media file(s), 0 artifact file(s) and 0 other file(s)"
            ]
          },
          "metadata": {}
        },
        {
          "output_type": "display_data",
          "data": {
            "text/plain": [
              "<IPython.core.display.HTML object>"
            ],
            "text/html": [
              "Find logs at: <code>./wandb/run-20250310_072634-baugkagd/logs</code>"
            ]
          },
          "metadata": {}
        },
        {
          "output_type": "stream",
          "name": "stderr",
          "text": [
            "\u001b[34m\u001b[1mwandb\u001b[0m: Sweep Agent: Waiting for job.\n",
            "\u001b[34m\u001b[1mwandb\u001b[0m: Job received.\n",
            "\u001b[34m\u001b[1mwandb\u001b[0m: Agent Starting Run: 4r62nbbf with config:\n",
            "\u001b[34m\u001b[1mwandb\u001b[0m: \tactivation: sigmoid\n",
            "\u001b[34m\u001b[1mwandb\u001b[0m: \tbatch_size: 32\n",
            "\u001b[34m\u001b[1mwandb\u001b[0m: \tepochs: 10\n",
            "\u001b[34m\u001b[1mwandb\u001b[0m: \thid_layer_size: 128\n",
            "\u001b[34m\u001b[1mwandb\u001b[0m: \tl2_reg: 0\n",
            "\u001b[34m\u001b[1mwandb\u001b[0m: \tlearning_rate: 0.0001\n",
            "\u001b[34m\u001b[1mwandb\u001b[0m: \tnum_hid_layers: 5\n",
            "\u001b[34m\u001b[1mwandb\u001b[0m: \toptimizer: momentum\n",
            "\u001b[34m\u001b[1mwandb\u001b[0m: \tweight_init: random\n"
          ]
        },
        {
          "output_type": "display_data",
          "data": {
            "text/plain": [
              "<IPython.core.display.HTML object>"
            ],
            "text/html": [
              "Ignoring project 'Sweep Functionality' when running a sweep."
            ]
          },
          "metadata": {}
        },
        {
          "output_type": "display_data",
          "data": {
            "text/plain": [
              "<IPython.core.display.HTML object>"
            ],
            "text/html": [
              "Tracking run with wandb version 0.19.7"
            ]
          },
          "metadata": {}
        },
        {
          "output_type": "display_data",
          "data": {
            "text/plain": [
              "<IPython.core.display.HTML object>"
            ],
            "text/html": [
              "Run data is saved locally in <code>/content/wandb/run-20250310_072734-4r62nbbf</code>"
            ]
          },
          "metadata": {}
        },
        {
          "output_type": "display_data",
          "data": {
            "text/plain": [
              "<IPython.core.display.HTML object>"
            ],
            "text/html": [
              "Syncing run <strong><a href='https://wandb.ai/yeshu183-indian-institute-of-technology-madras/Sweep%20Functionality/runs/4r62nbbf' target=\"_blank\">dauntless-sweep-3</a></strong> to <a href='https://wandb.ai/yeshu183-indian-institute-of-technology-madras/Sweep%20Functionality' target=\"_blank\">Weights & Biases</a> (<a href='https://wandb.me/developer-guide' target=\"_blank\">docs</a>)<br>Sweep page: <a href='https://wandb.ai/yeshu183-indian-institute-of-technology-madras/Sweep%20Functionality/sweeps/1875zz1k' target=\"_blank\">https://wandb.ai/yeshu183-indian-institute-of-technology-madras/Sweep%20Functionality/sweeps/1875zz1k</a>"
            ]
          },
          "metadata": {}
        },
        {
          "output_type": "display_data",
          "data": {
            "text/plain": [
              "<IPython.core.display.HTML object>"
            ],
            "text/html": [
              " View project at <a href='https://wandb.ai/yeshu183-indian-institute-of-technology-madras/Sweep%20Functionality' target=\"_blank\">https://wandb.ai/yeshu183-indian-institute-of-technology-madras/Sweep%20Functionality</a>"
            ]
          },
          "metadata": {}
        },
        {
          "output_type": "display_data",
          "data": {
            "text/plain": [
              "<IPython.core.display.HTML object>"
            ],
            "text/html": [
              " View sweep at <a href='https://wandb.ai/yeshu183-indian-institute-of-technology-madras/Sweep%20Functionality/sweeps/1875zz1k' target=\"_blank\">https://wandb.ai/yeshu183-indian-institute-of-technology-madras/Sweep%20Functionality/sweeps/1875zz1k</a>"
            ]
          },
          "metadata": {}
        },
        {
          "output_type": "display_data",
          "data": {
            "text/plain": [
              "<IPython.core.display.HTML object>"
            ],
            "text/html": [
              " View run at <a href='https://wandb.ai/yeshu183-indian-institute-of-technology-madras/Sweep%20Functionality/runs/4r62nbbf' target=\"_blank\">https://wandb.ai/yeshu183-indian-institute-of-technology-madras/Sweep%20Functionality/runs/4r62nbbf</a>"
            ]
          },
          "metadata": {}
        },
        {
          "output_type": "stream",
          "name": "stdout",
          "text": [
            "Epoch 1, Loss: 0.2303, Accuracy: 0.0971, Val Loss: 0.2303, Val Accuracy: 0.0990\n",
            "Epoch 2, Loss: 0.2303, Accuracy: 0.0998, Val Loss: 0.2303, Val Accuracy: 0.0983\n",
            "Epoch 3, Loss: 0.2303, Accuracy: 0.0966, Val Loss: 0.2302, Val Accuracy: 0.1013\n",
            "Epoch 4, Loss: 0.2303, Accuracy: 0.0988, Val Loss: 0.2303, Val Accuracy: 0.0990\n",
            "Epoch 5, Loss: 0.2303, Accuracy: 0.0969, Val Loss: 0.2303, Val Accuracy: 0.0983\n",
            "Epoch 6, Loss: 0.2303, Accuracy: 0.0998, Val Loss: 0.2303, Val Accuracy: 0.1003\n",
            "Epoch 7, Loss: 0.2303, Accuracy: 0.0989, Val Loss: 0.2303, Val Accuracy: 0.0983\n",
            "Epoch 8, Loss: 0.2303, Accuracy: 0.0984, Val Loss: 0.2303, Val Accuracy: 0.0973\n",
            "Epoch 9, Loss: 0.2303, Accuracy: 0.0994, Val Loss: 0.2303, Val Accuracy: 0.0983\n",
            "Epoch 10, Loss: 0.2303, Accuracy: 0.0994, Val Loss: 0.2303, Val Accuracy: 0.1020\n",
            "Validation Loss: 0.2303, Validation Accuracy: 0.1020\n"
          ]
        },
        {
          "output_type": "display_data",
          "data": {
            "text/plain": [
              "<IPython.core.display.HTML object>"
            ],
            "text/html": []
          },
          "metadata": {}
        },
        {
          "output_type": "display_data",
          "data": {
            "text/plain": [
              "<IPython.core.display.HTML object>"
            ],
            "text/html": [
              "<br>    <style><br>        .wandb-row {<br>            display: flex;<br>            flex-direction: row;<br>            flex-wrap: wrap;<br>            justify-content: flex-start;<br>            width: 100%;<br>        }<br>        .wandb-col {<br>            display: flex;<br>            flex-direction: column;<br>            flex-basis: 100%;<br>            flex: 1;<br>            padding: 10px;<br>        }<br>    </style><br><div class=\"wandb-row\"><div class=\"wandb-col\"><h3>Run history:</h3><br/><table class=\"wandb\"><tr><td>accuracy</td><td>▂█▁▆▂█▆▅▇▇</td></tr><tr><td>epoch</td><td>▁▂▃▃▄▅▆▆▇█</td></tr><tr><td>loss</td><td>█▂▃▂▃▁▃▂▂▂</td></tr><tr><td>val_acc</td><td>▁</td></tr><tr><td>val_accuracy</td><td>▃▃▇▃▃▆▃▁▃█</td></tr><tr><td>val_loss</td><td>▄▅▁█▄▄▂▃▅██</td></tr></table><br/></div><div class=\"wandb-col\"><h3>Run summary:</h3><br/><table class=\"wandb\"><tr><td>accuracy</td><td>0.09941</td></tr><tr><td>epoch</td><td>10</td></tr><tr><td>loss</td><td>0.23029</td></tr><tr><td>val_acc</td><td>0.102</td></tr><tr><td>val_accuracy</td><td>0.102</td></tr><tr><td>val_loss</td><td>0.23035</td></tr></table><br/></div></div>"
            ]
          },
          "metadata": {}
        },
        {
          "output_type": "display_data",
          "data": {
            "text/plain": [
              "<IPython.core.display.HTML object>"
            ],
            "text/html": [
              " View run <strong style=\"color:#cdcd00\">e_10_hl_5_opt_momentum_bs_32_init_random_ac_sigmoid</strong> at: <a href='https://wandb.ai/yeshu183-indian-institute-of-technology-madras/Sweep%20Functionality/runs/4r62nbbf' target=\"_blank\">https://wandb.ai/yeshu183-indian-institute-of-technology-madras/Sweep%20Functionality/runs/4r62nbbf</a><br> View project at: <a href='https://wandb.ai/yeshu183-indian-institute-of-technology-madras/Sweep%20Functionality' target=\"_blank\">https://wandb.ai/yeshu183-indian-institute-of-technology-madras/Sweep%20Functionality</a><br>Synced 5 W&B file(s), 0 media file(s), 0 artifact file(s) and 0 other file(s)"
            ]
          },
          "metadata": {}
        },
        {
          "output_type": "display_data",
          "data": {
            "text/plain": [
              "<IPython.core.display.HTML object>"
            ],
            "text/html": [
              "Find logs at: <code>./wandb/run-20250310_072734-4r62nbbf/logs</code>"
            ]
          },
          "metadata": {}
        },
        {
          "output_type": "stream",
          "name": "stderr",
          "text": [
            "\u001b[34m\u001b[1mwandb\u001b[0m: Agent Starting Run: o5xnp1tl with config:\n",
            "\u001b[34m\u001b[1mwandb\u001b[0m: \tactivation: relu\n",
            "\u001b[34m\u001b[1mwandb\u001b[0m: \tbatch_size: 32\n",
            "\u001b[34m\u001b[1mwandb\u001b[0m: \tepochs: 5\n",
            "\u001b[34m\u001b[1mwandb\u001b[0m: \thid_layer_size: 64\n",
            "\u001b[34m\u001b[1mwandb\u001b[0m: \tl2_reg: 0.005\n",
            "\u001b[34m\u001b[1mwandb\u001b[0m: \tlearning_rate: 0.0001\n",
            "\u001b[34m\u001b[1mwandb\u001b[0m: \tnum_hid_layers: 5\n",
            "\u001b[34m\u001b[1mwandb\u001b[0m: \toptimizer: adam\n",
            "\u001b[34m\u001b[1mwandb\u001b[0m: \tweight_init: xavier\n"
          ]
        },
        {
          "output_type": "display_data",
          "data": {
            "text/plain": [
              "<IPython.core.display.HTML object>"
            ],
            "text/html": [
              "Ignoring project 'Sweep Functionality' when running a sweep."
            ]
          },
          "metadata": {}
        },
        {
          "output_type": "display_data",
          "data": {
            "text/plain": [
              "<IPython.core.display.HTML object>"
            ],
            "text/html": [
              "Tracking run with wandb version 0.19.7"
            ]
          },
          "metadata": {}
        },
        {
          "output_type": "display_data",
          "data": {
            "text/plain": [
              "<IPython.core.display.HTML object>"
            ],
            "text/html": [
              "Run data is saved locally in <code>/content/wandb/run-20250310_072931-o5xnp1tl</code>"
            ]
          },
          "metadata": {}
        },
        {
          "output_type": "display_data",
          "data": {
            "text/plain": [
              "<IPython.core.display.HTML object>"
            ],
            "text/html": [
              "Syncing run <strong><a href='https://wandb.ai/yeshu183-indian-institute-of-technology-madras/Sweep%20Functionality/runs/o5xnp1tl' target=\"_blank\">treasured-sweep-4</a></strong> to <a href='https://wandb.ai/yeshu183-indian-institute-of-technology-madras/Sweep%20Functionality' target=\"_blank\">Weights & Biases</a> (<a href='https://wandb.me/developer-guide' target=\"_blank\">docs</a>)<br>Sweep page: <a href='https://wandb.ai/yeshu183-indian-institute-of-technology-madras/Sweep%20Functionality/sweeps/1875zz1k' target=\"_blank\">https://wandb.ai/yeshu183-indian-institute-of-technology-madras/Sweep%20Functionality/sweeps/1875zz1k</a>"
            ]
          },
          "metadata": {}
        },
        {
          "output_type": "display_data",
          "data": {
            "text/plain": [
              "<IPython.core.display.HTML object>"
            ],
            "text/html": [
              " View project at <a href='https://wandb.ai/yeshu183-indian-institute-of-technology-madras/Sweep%20Functionality' target=\"_blank\">https://wandb.ai/yeshu183-indian-institute-of-technology-madras/Sweep%20Functionality</a>"
            ]
          },
          "metadata": {}
        },
        {
          "output_type": "display_data",
          "data": {
            "text/plain": [
              "<IPython.core.display.HTML object>"
            ],
            "text/html": [
              " View sweep at <a href='https://wandb.ai/yeshu183-indian-institute-of-technology-madras/Sweep%20Functionality/sweeps/1875zz1k' target=\"_blank\">https://wandb.ai/yeshu183-indian-institute-of-technology-madras/Sweep%20Functionality/sweeps/1875zz1k</a>"
            ]
          },
          "metadata": {}
        },
        {
          "output_type": "display_data",
          "data": {
            "text/plain": [
              "<IPython.core.display.HTML object>"
            ],
            "text/html": [
              " View run at <a href='https://wandb.ai/yeshu183-indian-institute-of-technology-madras/Sweep%20Functionality/runs/o5xnp1tl' target=\"_blank\">https://wandb.ai/yeshu183-indian-institute-of-technology-madras/Sweep%20Functionality/runs/o5xnp1tl</a>"
            ]
          },
          "metadata": {}
        },
        {
          "output_type": "stream",
          "name": "stdout",
          "text": [
            "Epoch 1, Loss: 0.5671, Accuracy: 0.7108, Val Loss: 0.4509, Val Accuracy: 0.8045\n",
            "Epoch 2, Loss: 0.4304, Accuracy: 0.8087, Val Loss: 0.4155, Val Accuracy: 0.8262\n",
            "Epoch 3, Loss: 0.4086, Accuracy: 0.8248, Val Loss: 0.4014, Val Accuracy: 0.8305\n",
            "Epoch 4, Loss: 0.3961, Accuracy: 0.8339, Val Loss: 0.3919, Val Accuracy: 0.8365\n",
            "Epoch 5, Loss: 0.3868, Accuracy: 0.8408, Val Loss: 0.3836, Val Accuracy: 0.8392\n",
            "Validation Loss: 0.3836, Validation Accuracy: 0.8392\n"
          ]
        },
        {
          "output_type": "display_data",
          "data": {
            "text/plain": [
              "<IPython.core.display.HTML object>"
            ],
            "text/html": []
          },
          "metadata": {}
        },
        {
          "output_type": "display_data",
          "data": {
            "text/plain": [
              "<IPython.core.display.HTML object>"
            ],
            "text/html": [
              "<br>    <style><br>        .wandb-row {<br>            display: flex;<br>            flex-direction: row;<br>            flex-wrap: wrap;<br>            justify-content: flex-start;<br>            width: 100%;<br>        }<br>        .wandb-col {<br>            display: flex;<br>            flex-direction: column;<br>            flex-basis: 100%;<br>            flex: 1;<br>            padding: 10px;<br>        }<br>    </style><br><div class=\"wandb-row\"><div class=\"wandb-col\"><h3>Run history:</h3><br/><table class=\"wandb\"><tr><td>accuracy</td><td>▁▆▇██</td></tr><tr><td>epoch</td><td>▁▃▅▆█</td></tr><tr><td>loss</td><td>█▃▂▁▁</td></tr><tr><td>val_acc</td><td>▁</td></tr><tr><td>val_accuracy</td><td>▁▅▆▇█</td></tr><tr><td>val_loss</td><td>█▄▃▂▁▁</td></tr></table><br/></div><div class=\"wandb-col\"><h3>Run summary:</h3><br/><table class=\"wandb\"><tr><td>accuracy</td><td>0.8408</td></tr><tr><td>epoch</td><td>5</td></tr><tr><td>loss</td><td>0.38682</td></tr><tr><td>val_acc</td><td>0.83917</td></tr><tr><td>val_accuracy</td><td>0.83917</td></tr><tr><td>val_loss</td><td>0.38357</td></tr></table><br/></div></div>"
            ]
          },
          "metadata": {}
        },
        {
          "output_type": "display_data",
          "data": {
            "text/plain": [
              "<IPython.core.display.HTML object>"
            ],
            "text/html": [
              " View run <strong style=\"color:#cdcd00\">e_5_hl_5_opt_adam_bs_32_init_xavier_ac_relu</strong> at: <a href='https://wandb.ai/yeshu183-indian-institute-of-technology-madras/Sweep%20Functionality/runs/o5xnp1tl' target=\"_blank\">https://wandb.ai/yeshu183-indian-institute-of-technology-madras/Sweep%20Functionality/runs/o5xnp1tl</a><br> View project at: <a href='https://wandb.ai/yeshu183-indian-institute-of-technology-madras/Sweep%20Functionality' target=\"_blank\">https://wandb.ai/yeshu183-indian-institute-of-technology-madras/Sweep%20Functionality</a><br>Synced 5 W&B file(s), 0 media file(s), 0 artifact file(s) and 0 other file(s)"
            ]
          },
          "metadata": {}
        },
        {
          "output_type": "display_data",
          "data": {
            "text/plain": [
              "<IPython.core.display.HTML object>"
            ],
            "text/html": [
              "Find logs at: <code>./wandb/run-20250310_072931-o5xnp1tl/logs</code>"
            ]
          },
          "metadata": {}
        },
        {
          "output_type": "stream",
          "name": "stderr",
          "text": [
            "\u001b[34m\u001b[1mwandb\u001b[0m: Agent Starting Run: 8cdh7ru7 with config:\n",
            "\u001b[34m\u001b[1mwandb\u001b[0m: \tactivation: relu\n",
            "\u001b[34m\u001b[1mwandb\u001b[0m: \tbatch_size: 32\n",
            "\u001b[34m\u001b[1mwandb\u001b[0m: \tepochs: 10\n",
            "\u001b[34m\u001b[1mwandb\u001b[0m: \thid_layer_size: 32\n",
            "\u001b[34m\u001b[1mwandb\u001b[0m: \tl2_reg: 0.0005\n",
            "\u001b[34m\u001b[1mwandb\u001b[0m: \tlearning_rate: 0.0001\n",
            "\u001b[34m\u001b[1mwandb\u001b[0m: \tnum_hid_layers: 5\n",
            "\u001b[34m\u001b[1mwandb\u001b[0m: \toptimizer: nadam\n",
            "\u001b[34m\u001b[1mwandb\u001b[0m: \tweight_init: xavier\n"
          ]
        },
        {
          "output_type": "display_data",
          "data": {
            "text/plain": [
              "<IPython.core.display.HTML object>"
            ],
            "text/html": [
              "Ignoring project 'Sweep Functionality' when running a sweep."
            ]
          },
          "metadata": {}
        },
        {
          "output_type": "display_data",
          "data": {
            "text/plain": [
              "<IPython.core.display.HTML object>"
            ],
            "text/html": [
              "Tracking run with wandb version 0.19.7"
            ]
          },
          "metadata": {}
        },
        {
          "output_type": "display_data",
          "data": {
            "text/plain": [
              "<IPython.core.display.HTML object>"
            ],
            "text/html": [
              "Run data is saved locally in <code>/content/wandb/run-20250310_073016-8cdh7ru7</code>"
            ]
          },
          "metadata": {}
        },
        {
          "output_type": "display_data",
          "data": {
            "text/plain": [
              "<IPython.core.display.HTML object>"
            ],
            "text/html": [
              "Syncing run <strong><a href='https://wandb.ai/yeshu183-indian-institute-of-technology-madras/Sweep%20Functionality/runs/8cdh7ru7' target=\"_blank\">rosy-sweep-5</a></strong> to <a href='https://wandb.ai/yeshu183-indian-institute-of-technology-madras/Sweep%20Functionality' target=\"_blank\">Weights & Biases</a> (<a href='https://wandb.me/developer-guide' target=\"_blank\">docs</a>)<br>Sweep page: <a href='https://wandb.ai/yeshu183-indian-institute-of-technology-madras/Sweep%20Functionality/sweeps/1875zz1k' target=\"_blank\">https://wandb.ai/yeshu183-indian-institute-of-technology-madras/Sweep%20Functionality/sweeps/1875zz1k</a>"
            ]
          },
          "metadata": {}
        },
        {
          "output_type": "display_data",
          "data": {
            "text/plain": [
              "<IPython.core.display.HTML object>"
            ],
            "text/html": [
              " View project at <a href='https://wandb.ai/yeshu183-indian-institute-of-technology-madras/Sweep%20Functionality' target=\"_blank\">https://wandb.ai/yeshu183-indian-institute-of-technology-madras/Sweep%20Functionality</a>"
            ]
          },
          "metadata": {}
        },
        {
          "output_type": "display_data",
          "data": {
            "text/plain": [
              "<IPython.core.display.HTML object>"
            ],
            "text/html": [
              " View sweep at <a href='https://wandb.ai/yeshu183-indian-institute-of-technology-madras/Sweep%20Functionality/sweeps/1875zz1k' target=\"_blank\">https://wandb.ai/yeshu183-indian-institute-of-technology-madras/Sweep%20Functionality/sweeps/1875zz1k</a>"
            ]
          },
          "metadata": {}
        },
        {
          "output_type": "display_data",
          "data": {
            "text/plain": [
              "<IPython.core.display.HTML object>"
            ],
            "text/html": [
              " View run at <a href='https://wandb.ai/yeshu183-indian-institute-of-technology-madras/Sweep%20Functionality/runs/8cdh7ru7' target=\"_blank\">https://wandb.ai/yeshu183-indian-institute-of-technology-madras/Sweep%20Functionality/runs/8cdh7ru7</a>"
            ]
          },
          "metadata": {}
        },
        {
          "output_type": "stream",
          "name": "stdout",
          "text": [
            "Epoch 1, Loss: 0.1375, Accuracy: 0.6447, Val Loss: 0.0954, Val Accuracy: 0.7870\n",
            "Epoch 2, Loss: 0.0901, Accuracy: 0.7996, Val Loss: 0.0871, Val Accuracy: 0.8112\n",
            "Epoch 3, Loss: 0.0851, Accuracy: 0.8208, Val Loss: 0.0848, Val Accuracy: 0.8205\n",
            "Epoch 4, Loss: 0.0827, Accuracy: 0.8302, Val Loss: 0.0819, Val Accuracy: 0.8357\n",
            "Epoch 5, Loss: 0.0813, Accuracy: 0.8384, Val Loss: 0.0808, Val Accuracy: 0.8423\n",
            "Epoch 6, Loss: 0.0804, Accuracy: 0.8450, Val Loss: 0.0803, Val Accuracy: 0.8478\n",
            "Epoch 7, Loss: 0.0797, Accuracy: 0.8507, Val Loss: 0.0798, Val Accuracy: 0.8505\n",
            "Epoch 8, Loss: 0.0791, Accuracy: 0.8527, Val Loss: 0.0807, Val Accuracy: 0.8480\n",
            "Epoch 9, Loss: 0.0787, Accuracy: 0.8563, Val Loss: 0.0799, Val Accuracy: 0.8533\n",
            "Epoch 10, Loss: 0.0785, Accuracy: 0.8576, Val Loss: 0.0805, Val Accuracy: 0.8537\n",
            "Validation Loss: 0.0805, Validation Accuracy: 0.8537\n"
          ]
        },
        {
          "output_type": "display_data",
          "data": {
            "text/plain": [
              "<IPython.core.display.HTML object>"
            ],
            "text/html": []
          },
          "metadata": {}
        },
        {
          "output_type": "display_data",
          "data": {
            "text/plain": [
              "<IPython.core.display.HTML object>"
            ],
            "text/html": [
              "<br>    <style><br>        .wandb-row {<br>            display: flex;<br>            flex-direction: row;<br>            flex-wrap: wrap;<br>            justify-content: flex-start;<br>            width: 100%;<br>        }<br>        .wandb-col {<br>            display: flex;<br>            flex-direction: column;<br>            flex-basis: 100%;<br>            flex: 1;<br>            padding: 10px;<br>        }<br>    </style><br><div class=\"wandb-row\"><div class=\"wandb-col\"><h3>Run history:</h3><br/><table class=\"wandb\"><tr><td>accuracy</td><td>▁▆▇▇▇█████</td></tr><tr><td>epoch</td><td>▁▂▃▃▄▅▆▆▇█</td></tr><tr><td>loss</td><td>█▂▂▂▁▁▁▁▁▁</td></tr><tr><td>val_acc</td><td>▁</td></tr><tr><td>val_accuracy</td><td>▁▄▅▆▇▇█▇██</td></tr><tr><td>val_loss</td><td>█▄▃▂▁▁▁▁▁▁▁</td></tr></table><br/></div><div class=\"wandb-col\"><h3>Run summary:</h3><br/><table class=\"wandb\"><tr><td>accuracy</td><td>0.85765</td></tr><tr><td>epoch</td><td>10</td></tr><tr><td>loss</td><td>0.0785</td></tr><tr><td>val_acc</td><td>0.85367</td></tr><tr><td>val_accuracy</td><td>0.85367</td></tr><tr><td>val_loss</td><td>0.08055</td></tr></table><br/></div></div>"
            ]
          },
          "metadata": {}
        },
        {
          "output_type": "display_data",
          "data": {
            "text/plain": [
              "<IPython.core.display.HTML object>"
            ],
            "text/html": [
              " View run <strong style=\"color:#cdcd00\">e_10_hl_5_opt_nadam_bs_32_init_xavier_ac_relu</strong> at: <a href='https://wandb.ai/yeshu183-indian-institute-of-technology-madras/Sweep%20Functionality/runs/8cdh7ru7' target=\"_blank\">https://wandb.ai/yeshu183-indian-institute-of-technology-madras/Sweep%20Functionality/runs/8cdh7ru7</a><br> View project at: <a href='https://wandb.ai/yeshu183-indian-institute-of-technology-madras/Sweep%20Functionality' target=\"_blank\">https://wandb.ai/yeshu183-indian-institute-of-technology-madras/Sweep%20Functionality</a><br>Synced 5 W&B file(s), 0 media file(s), 0 artifact file(s) and 0 other file(s)"
            ]
          },
          "metadata": {}
        },
        {
          "output_type": "display_data",
          "data": {
            "text/plain": [
              "<IPython.core.display.HTML object>"
            ],
            "text/html": [
              "Find logs at: <code>./wandb/run-20250310_073016-8cdh7ru7/logs</code>"
            ]
          },
          "metadata": {}
        },
        {
          "output_type": "stream",
          "name": "stderr",
          "text": [
            "\u001b[34m\u001b[1mwandb\u001b[0m: Agent Starting Run: 1v2uk0nn with config:\n",
            "\u001b[34m\u001b[1mwandb\u001b[0m: \tactivation: relu\n",
            "\u001b[34m\u001b[1mwandb\u001b[0m: \tbatch_size: 16\n",
            "\u001b[34m\u001b[1mwandb\u001b[0m: \tepochs: 5\n",
            "\u001b[34m\u001b[1mwandb\u001b[0m: \thid_layer_size: 32\n",
            "\u001b[34m\u001b[1mwandb\u001b[0m: \tl2_reg: 0\n",
            "\u001b[34m\u001b[1mwandb\u001b[0m: \tlearning_rate: 0.001\n",
            "\u001b[34m\u001b[1mwandb\u001b[0m: \tnum_hid_layers: 4\n",
            "\u001b[34m\u001b[1mwandb\u001b[0m: \toptimizer: nadam\n",
            "\u001b[34m\u001b[1mwandb\u001b[0m: \tweight_init: random\n"
          ]
        },
        {
          "output_type": "display_data",
          "data": {
            "text/plain": [
              "<IPython.core.display.HTML object>"
            ],
            "text/html": [
              "Ignoring project 'Sweep Functionality' when running a sweep."
            ]
          },
          "metadata": {}
        },
        {
          "output_type": "display_data",
          "data": {
            "text/plain": [
              "<IPython.core.display.HTML object>"
            ],
            "text/html": [
              "Tracking run with wandb version 0.19.7"
            ]
          },
          "metadata": {}
        },
        {
          "output_type": "display_data",
          "data": {
            "text/plain": [
              "<IPython.core.display.HTML object>"
            ],
            "text/html": [
              "Run data is saved locally in <code>/content/wandb/run-20250310_073157-1v2uk0nn</code>"
            ]
          },
          "metadata": {}
        },
        {
          "output_type": "display_data",
          "data": {
            "text/plain": [
              "<IPython.core.display.HTML object>"
            ],
            "text/html": [
              "Syncing run <strong><a href='https://wandb.ai/yeshu183-indian-institute-of-technology-madras/Sweep%20Functionality/runs/1v2uk0nn' target=\"_blank\">graceful-sweep-6</a></strong> to <a href='https://wandb.ai/yeshu183-indian-institute-of-technology-madras/Sweep%20Functionality' target=\"_blank\">Weights & Biases</a> (<a href='https://wandb.me/developer-guide' target=\"_blank\">docs</a>)<br>Sweep page: <a href='https://wandb.ai/yeshu183-indian-institute-of-technology-madras/Sweep%20Functionality/sweeps/1875zz1k' target=\"_blank\">https://wandb.ai/yeshu183-indian-institute-of-technology-madras/Sweep%20Functionality/sweeps/1875zz1k</a>"
            ]
          },
          "metadata": {}
        },
        {
          "output_type": "display_data",
          "data": {
            "text/plain": [
              "<IPython.core.display.HTML object>"
            ],
            "text/html": [
              " View project at <a href='https://wandb.ai/yeshu183-indian-institute-of-technology-madras/Sweep%20Functionality' target=\"_blank\">https://wandb.ai/yeshu183-indian-institute-of-technology-madras/Sweep%20Functionality</a>"
            ]
          },
          "metadata": {}
        },
        {
          "output_type": "display_data",
          "data": {
            "text/plain": [
              "<IPython.core.display.HTML object>"
            ],
            "text/html": [
              " View sweep at <a href='https://wandb.ai/yeshu183-indian-institute-of-technology-madras/Sweep%20Functionality/sweeps/1875zz1k' target=\"_blank\">https://wandb.ai/yeshu183-indian-institute-of-technology-madras/Sweep%20Functionality/sweeps/1875zz1k</a>"
            ]
          },
          "metadata": {}
        },
        {
          "output_type": "display_data",
          "data": {
            "text/plain": [
              "<IPython.core.display.HTML object>"
            ],
            "text/html": [
              " View run at <a href='https://wandb.ai/yeshu183-indian-institute-of-technology-madras/Sweep%20Functionality/runs/1v2uk0nn' target=\"_blank\">https://wandb.ai/yeshu183-indian-institute-of-technology-madras/Sweep%20Functionality/runs/1v2uk0nn</a>"
            ]
          },
          "metadata": {}
        },
        {
          "output_type": "stream",
          "name": "stdout",
          "text": [
            "Epoch 1, Loss: 0.0974, Accuracy: 0.5983, Val Loss: 0.0804, Val Accuracy: 0.7143\n",
            "Epoch 2, Loss: 0.0775, Accuracy: 0.7184, Val Loss: 0.0745, Val Accuracy: 0.7385\n",
            "Epoch 3, Loss: 0.0687, Accuracy: 0.7471, Val Loss: 0.0654, Val Accuracy: 0.7537\n",
            "Epoch 4, Loss: 0.0627, Accuracy: 0.7635, Val Loss: 0.0590, Val Accuracy: 0.7822\n",
            "Epoch 5, Loss: 0.0589, Accuracy: 0.7761, Val Loss: 0.0604, Val Accuracy: 0.7727\n",
            "Validation Loss: 0.0604, Validation Accuracy: 0.7727\n"
          ]
        },
        {
          "output_type": "display_data",
          "data": {
            "text/plain": [
              "<IPython.core.display.HTML object>"
            ],
            "text/html": []
          },
          "metadata": {}
        },
        {
          "output_type": "display_data",
          "data": {
            "text/plain": [
              "<IPython.core.display.HTML object>"
            ],
            "text/html": [
              "<br>    <style><br>        .wandb-row {<br>            display: flex;<br>            flex-direction: row;<br>            flex-wrap: wrap;<br>            justify-content: flex-start;<br>            width: 100%;<br>        }<br>        .wandb-col {<br>            display: flex;<br>            flex-direction: column;<br>            flex-basis: 100%;<br>            flex: 1;<br>            padding: 10px;<br>        }<br>    </style><br><div class=\"wandb-row\"><div class=\"wandb-col\"><h3>Run history:</h3><br/><table class=\"wandb\"><tr><td>accuracy</td><td>▁▆▇██</td></tr><tr><td>epoch</td><td>▁▃▅▆█</td></tr><tr><td>loss</td><td>█▄▃▂▁</td></tr><tr><td>val_acc</td><td>▁</td></tr><tr><td>val_accuracy</td><td>▁▃▅█▇</td></tr><tr><td>val_loss</td><td>█▆▃▁▁▁</td></tr></table><br/></div><div class=\"wandb-col\"><h3>Run summary:</h3><br/><table class=\"wandb\"><tr><td>accuracy</td><td>0.77611</td></tr><tr><td>epoch</td><td>5</td></tr><tr><td>loss</td><td>0.05894</td></tr><tr><td>val_acc</td><td>0.77267</td></tr><tr><td>val_accuracy</td><td>0.77267</td></tr><tr><td>val_loss</td><td>0.06041</td></tr></table><br/></div></div>"
            ]
          },
          "metadata": {}
        },
        {
          "output_type": "display_data",
          "data": {
            "text/plain": [
              "<IPython.core.display.HTML object>"
            ],
            "text/html": [
              " View run <strong style=\"color:#cdcd00\">e_5_hl_4_opt_nadam_bs_16_init_random_ac_relu</strong> at: <a href='https://wandb.ai/yeshu183-indian-institute-of-technology-madras/Sweep%20Functionality/runs/1v2uk0nn' target=\"_blank\">https://wandb.ai/yeshu183-indian-institute-of-technology-madras/Sweep%20Functionality/runs/1v2uk0nn</a><br> View project at: <a href='https://wandb.ai/yeshu183-indian-institute-of-technology-madras/Sweep%20Functionality' target=\"_blank\">https://wandb.ai/yeshu183-indian-institute-of-technology-madras/Sweep%20Functionality</a><br>Synced 5 W&B file(s), 0 media file(s), 0 artifact file(s) and 0 other file(s)"
            ]
          },
          "metadata": {}
        },
        {
          "output_type": "display_data",
          "data": {
            "text/plain": [
              "<IPython.core.display.HTML object>"
            ],
            "text/html": [
              "Find logs at: <code>./wandb/run-20250310_073157-1v2uk0nn/logs</code>"
            ]
          },
          "metadata": {}
        },
        {
          "output_type": "stream",
          "name": "stderr",
          "text": [
            "\u001b[34m\u001b[1mwandb\u001b[0m: Agent Starting Run: np7ssg5x with config:\n",
            "\u001b[34m\u001b[1mwandb\u001b[0m: \tactivation: relu\n",
            "\u001b[34m\u001b[1mwandb\u001b[0m: \tbatch_size: 16\n",
            "\u001b[34m\u001b[1mwandb\u001b[0m: \tepochs: 5\n",
            "\u001b[34m\u001b[1mwandb\u001b[0m: \thid_layer_size: 128\n",
            "\u001b[34m\u001b[1mwandb\u001b[0m: \tl2_reg: 0.0005\n",
            "\u001b[34m\u001b[1mwandb\u001b[0m: \tlearning_rate: 0.0001\n",
            "\u001b[34m\u001b[1mwandb\u001b[0m: \tnum_hid_layers: 5\n",
            "\u001b[34m\u001b[1mwandb\u001b[0m: \toptimizer: adam\n",
            "\u001b[34m\u001b[1mwandb\u001b[0m: \tweight_init: xavier\n"
          ]
        },
        {
          "output_type": "display_data",
          "data": {
            "text/plain": [
              "<IPython.core.display.HTML object>"
            ],
            "text/html": [
              "Ignoring project 'Sweep Functionality' when running a sweep."
            ]
          },
          "metadata": {}
        },
        {
          "output_type": "display_data",
          "data": {
            "text/plain": [
              "<IPython.core.display.HTML object>"
            ],
            "text/html": [
              "Tracking run with wandb version 0.19.7"
            ]
          },
          "metadata": {}
        },
        {
          "output_type": "display_data",
          "data": {
            "text/plain": [
              "<IPython.core.display.HTML object>"
            ],
            "text/html": [
              "Run data is saved locally in <code>/content/wandb/run-20250310_073258-np7ssg5x</code>"
            ]
          },
          "metadata": {}
        },
        {
          "output_type": "display_data",
          "data": {
            "text/plain": [
              "<IPython.core.display.HTML object>"
            ],
            "text/html": [
              "Syncing run <strong><a href='https://wandb.ai/yeshu183-indian-institute-of-technology-madras/Sweep%20Functionality/runs/np7ssg5x' target=\"_blank\">colorful-sweep-7</a></strong> to <a href='https://wandb.ai/yeshu183-indian-institute-of-technology-madras/Sweep%20Functionality' target=\"_blank\">Weights & Biases</a> (<a href='https://wandb.me/developer-guide' target=\"_blank\">docs</a>)<br>Sweep page: <a href='https://wandb.ai/yeshu183-indian-institute-of-technology-madras/Sweep%20Functionality/sweeps/1875zz1k' target=\"_blank\">https://wandb.ai/yeshu183-indian-institute-of-technology-madras/Sweep%20Functionality/sweeps/1875zz1k</a>"
            ]
          },
          "metadata": {}
        },
        {
          "output_type": "display_data",
          "data": {
            "text/plain": [
              "<IPython.core.display.HTML object>"
            ],
            "text/html": [
              " View project at <a href='https://wandb.ai/yeshu183-indian-institute-of-technology-madras/Sweep%20Functionality' target=\"_blank\">https://wandb.ai/yeshu183-indian-institute-of-technology-madras/Sweep%20Functionality</a>"
            ]
          },
          "metadata": {}
        },
        {
          "output_type": "display_data",
          "data": {
            "text/plain": [
              "<IPython.core.display.HTML object>"
            ],
            "text/html": [
              " View sweep at <a href='https://wandb.ai/yeshu183-indian-institute-of-technology-madras/Sweep%20Functionality/sweeps/1875zz1k' target=\"_blank\">https://wandb.ai/yeshu183-indian-institute-of-technology-madras/Sweep%20Functionality/sweeps/1875zz1k</a>"
            ]
          },
          "metadata": {}
        },
        {
          "output_type": "display_data",
          "data": {
            "text/plain": [
              "<IPython.core.display.HTML object>"
            ],
            "text/html": [
              " View run at <a href='https://wandb.ai/yeshu183-indian-institute-of-technology-madras/Sweep%20Functionality/runs/np7ssg5x' target=\"_blank\">https://wandb.ai/yeshu183-indian-institute-of-technology-madras/Sweep%20Functionality/runs/np7ssg5x</a>"
            ]
          },
          "metadata": {}
        },
        {
          "output_type": "stream",
          "name": "stdout",
          "text": [
            "Epoch 1, Loss: 0.1554, Accuracy: 0.7734, Val Loss: 0.1337, Val Accuracy: 0.8330\n",
            "Epoch 2, Loss: 0.1305, Accuracy: 0.8404, Val Loss: 0.1277, Val Accuracy: 0.8512\n",
            "Epoch 3, Loss: 0.1264, Accuracy: 0.8531, Val Loss: 0.1249, Val Accuracy: 0.8588\n",
            "Epoch 4, Loss: 0.1238, Accuracy: 0.8611, Val Loss: 0.1236, Val Accuracy: 0.8628\n",
            "Epoch 5, Loss: 0.1222, Accuracy: 0.8687, Val Loss: 0.1258, Val Accuracy: 0.8538\n",
            "Validation Loss: 0.1258, Validation Accuracy: 0.8538\n"
          ]
        },
        {
          "output_type": "display_data",
          "data": {
            "text/plain": [
              "<IPython.core.display.HTML object>"
            ],
            "text/html": []
          },
          "metadata": {}
        },
        {
          "output_type": "display_data",
          "data": {
            "text/plain": [
              "<IPython.core.display.HTML object>"
            ],
            "text/html": [
              "<br>    <style><br>        .wandb-row {<br>            display: flex;<br>            flex-direction: row;<br>            flex-wrap: wrap;<br>            justify-content: flex-start;<br>            width: 100%;<br>        }<br>        .wandb-col {<br>            display: flex;<br>            flex-direction: column;<br>            flex-basis: 100%;<br>            flex: 1;<br>            padding: 10px;<br>        }<br>    </style><br><div class=\"wandb-row\"><div class=\"wandb-col\"><h3>Run history:</h3><br/><table class=\"wandb\"><tr><td>accuracy</td><td>▁▆▇▇█</td></tr><tr><td>epoch</td><td>▁▃▅▆█</td></tr><tr><td>loss</td><td>█▃▂▁▁</td></tr><tr><td>val_acc</td><td>▁</td></tr><tr><td>val_accuracy</td><td>▁▅▇█▆</td></tr><tr><td>val_loss</td><td>█▄▂▁▃▃</td></tr></table><br/></div><div class=\"wandb-col\"><h3>Run summary:</h3><br/><table class=\"wandb\"><tr><td>accuracy</td><td>0.86867</td></tr><tr><td>epoch</td><td>5</td></tr><tr><td>loss</td><td>0.12219</td></tr><tr><td>val_acc</td><td>0.85383</td></tr><tr><td>val_accuracy</td><td>0.85383</td></tr><tr><td>val_loss</td><td>0.12585</td></tr></table><br/></div></div>"
            ]
          },
          "metadata": {}
        },
        {
          "output_type": "display_data",
          "data": {
            "text/plain": [
              "<IPython.core.display.HTML object>"
            ],
            "text/html": [
              " View run <strong style=\"color:#cdcd00\">e_5_hl_5_opt_adam_bs_16_init_xavier_ac_relu</strong> at: <a href='https://wandb.ai/yeshu183-indian-institute-of-technology-madras/Sweep%20Functionality/runs/np7ssg5x' target=\"_blank\">https://wandb.ai/yeshu183-indian-institute-of-technology-madras/Sweep%20Functionality/runs/np7ssg5x</a><br> View project at: <a href='https://wandb.ai/yeshu183-indian-institute-of-technology-madras/Sweep%20Functionality' target=\"_blank\">https://wandb.ai/yeshu183-indian-institute-of-technology-madras/Sweep%20Functionality</a><br>Synced 5 W&B file(s), 0 media file(s), 0 artifact file(s) and 0 other file(s)"
            ]
          },
          "metadata": {}
        },
        {
          "output_type": "display_data",
          "data": {
            "text/plain": [
              "<IPython.core.display.HTML object>"
            ],
            "text/html": [
              "Find logs at: <code>./wandb/run-20250310_073258-np7ssg5x/logs</code>"
            ]
          },
          "metadata": {}
        },
        {
          "output_type": "stream",
          "name": "stderr",
          "text": [
            "\u001b[34m\u001b[1mwandb\u001b[0m: Agent Starting Run: w0hrxukl with config:\n",
            "\u001b[34m\u001b[1mwandb\u001b[0m: \tactivation: relu\n",
            "\u001b[34m\u001b[1mwandb\u001b[0m: \tbatch_size: 16\n",
            "\u001b[34m\u001b[1mwandb\u001b[0m: \tepochs: 5\n",
            "\u001b[34m\u001b[1mwandb\u001b[0m: \thid_layer_size: 64\n",
            "\u001b[34m\u001b[1mwandb\u001b[0m: \tl2_reg: 0.0005\n",
            "\u001b[34m\u001b[1mwandb\u001b[0m: \tlearning_rate: 0.0001\n",
            "\u001b[34m\u001b[1mwandb\u001b[0m: \tnum_hid_layers: 5\n",
            "\u001b[34m\u001b[1mwandb\u001b[0m: \toptimizer: adam\n",
            "\u001b[34m\u001b[1mwandb\u001b[0m: \tweight_init: xavier\n"
          ]
        },
        {
          "output_type": "display_data",
          "data": {
            "text/plain": [
              "<IPython.core.display.HTML object>"
            ],
            "text/html": [
              "Ignoring project 'Sweep Functionality' when running a sweep."
            ]
          },
          "metadata": {}
        },
        {
          "output_type": "display_data",
          "data": {
            "text/plain": [
              "<IPython.core.display.HTML object>"
            ],
            "text/html": [
              "Tracking run with wandb version 0.19.7"
            ]
          },
          "metadata": {}
        },
        {
          "output_type": "display_data",
          "data": {
            "text/plain": [
              "<IPython.core.display.HTML object>"
            ],
            "text/html": [
              "Run data is saved locally in <code>/content/wandb/run-20250310_073619-w0hrxukl</code>"
            ]
          },
          "metadata": {}
        },
        {
          "output_type": "display_data",
          "data": {
            "text/plain": [
              "<IPython.core.display.HTML object>"
            ],
            "text/html": [
              "Syncing run <strong><a href='https://wandb.ai/yeshu183-indian-institute-of-technology-madras/Sweep%20Functionality/runs/w0hrxukl' target=\"_blank\">autumn-sweep-8</a></strong> to <a href='https://wandb.ai/yeshu183-indian-institute-of-technology-madras/Sweep%20Functionality' target=\"_blank\">Weights & Biases</a> (<a href='https://wandb.me/developer-guide' target=\"_blank\">docs</a>)<br>Sweep page: <a href='https://wandb.ai/yeshu183-indian-institute-of-technology-madras/Sweep%20Functionality/sweeps/1875zz1k' target=\"_blank\">https://wandb.ai/yeshu183-indian-institute-of-technology-madras/Sweep%20Functionality/sweeps/1875zz1k</a>"
            ]
          },
          "metadata": {}
        },
        {
          "output_type": "display_data",
          "data": {
            "text/plain": [
              "<IPython.core.display.HTML object>"
            ],
            "text/html": [
              " View project at <a href='https://wandb.ai/yeshu183-indian-institute-of-technology-madras/Sweep%20Functionality' target=\"_blank\">https://wandb.ai/yeshu183-indian-institute-of-technology-madras/Sweep%20Functionality</a>"
            ]
          },
          "metadata": {}
        },
        {
          "output_type": "display_data",
          "data": {
            "text/plain": [
              "<IPython.core.display.HTML object>"
            ],
            "text/html": [
              " View sweep at <a href='https://wandb.ai/yeshu183-indian-institute-of-technology-madras/Sweep%20Functionality/sweeps/1875zz1k' target=\"_blank\">https://wandb.ai/yeshu183-indian-institute-of-technology-madras/Sweep%20Functionality/sweeps/1875zz1k</a>"
            ]
          },
          "metadata": {}
        },
        {
          "output_type": "display_data",
          "data": {
            "text/plain": [
              "<IPython.core.display.HTML object>"
            ],
            "text/html": [
              " View run at <a href='https://wandb.ai/yeshu183-indian-institute-of-technology-madras/Sweep%20Functionality/runs/w0hrxukl' target=\"_blank\">https://wandb.ai/yeshu183-indian-institute-of-technology-madras/Sweep%20Functionality/runs/w0hrxukl</a>"
            ]
          },
          "metadata": {}
        },
        {
          "output_type": "stream",
          "name": "stdout",
          "text": [
            "Epoch 1, Loss: 0.1259, Accuracy: 0.7627, Val Loss: 0.1057, Val Accuracy: 0.8268\n",
            "Epoch 2, Loss: 0.1044, Accuracy: 0.8307, Val Loss: 0.1042, Val Accuracy: 0.8338\n",
            "Epoch 3, Loss: 0.1018, Accuracy: 0.8427, Val Loss: 0.1008, Val Accuracy: 0.8478\n",
            "Epoch 4, Loss: 0.1003, Accuracy: 0.8528, Val Loss: 0.1008, Val Accuracy: 0.8538\n",
            "Epoch 5, Loss: 0.0993, Accuracy: 0.8582, Val Loss: 0.0991, Val Accuracy: 0.8620\n",
            "Validation Loss: 0.0991, Validation Accuracy: 0.8620\n"
          ]
        },
        {
          "output_type": "display_data",
          "data": {
            "text/plain": [
              "<IPython.core.display.HTML object>"
            ],
            "text/html": []
          },
          "metadata": {}
        },
        {
          "output_type": "display_data",
          "data": {
            "text/plain": [
              "<IPython.core.display.HTML object>"
            ],
            "text/html": [
              "<br>    <style><br>        .wandb-row {<br>            display: flex;<br>            flex-direction: row;<br>            flex-wrap: wrap;<br>            justify-content: flex-start;<br>            width: 100%;<br>        }<br>        .wandb-col {<br>            display: flex;<br>            flex-direction: column;<br>            flex-basis: 100%;<br>            flex: 1;<br>            padding: 10px;<br>        }<br>    </style><br><div class=\"wandb-row\"><div class=\"wandb-col\"><h3>Run history:</h3><br/><table class=\"wandb\"><tr><td>accuracy</td><td>▁▆▇██</td></tr><tr><td>epoch</td><td>▁▃▅▆█</td></tr><tr><td>loss</td><td>█▂▂▁▁</td></tr><tr><td>val_acc</td><td>▁</td></tr><tr><td>val_accuracy</td><td>▁▂▅▆█</td></tr><tr><td>val_loss</td><td>█▆▃▃▁▁</td></tr></table><br/></div><div class=\"wandb-col\"><h3>Run summary:</h3><br/><table class=\"wandb\"><tr><td>accuracy</td><td>0.85822</td></tr><tr><td>epoch</td><td>5</td></tr><tr><td>loss</td><td>0.09925</td></tr><tr><td>val_acc</td><td>0.862</td></tr><tr><td>val_accuracy</td><td>0.862</td></tr><tr><td>val_loss</td><td>0.09906</td></tr></table><br/></div></div>"
            ]
          },
          "metadata": {}
        },
        {
          "output_type": "display_data",
          "data": {
            "text/plain": [
              "<IPython.core.display.HTML object>"
            ],
            "text/html": [
              " View run <strong style=\"color:#cdcd00\">e_5_hl_5_opt_adam_bs_16_init_xavier_ac_relu</strong> at: <a href='https://wandb.ai/yeshu183-indian-institute-of-technology-madras/Sweep%20Functionality/runs/w0hrxukl' target=\"_blank\">https://wandb.ai/yeshu183-indian-institute-of-technology-madras/Sweep%20Functionality/runs/w0hrxukl</a><br> View project at: <a href='https://wandb.ai/yeshu183-indian-institute-of-technology-madras/Sweep%20Functionality' target=\"_blank\">https://wandb.ai/yeshu183-indian-institute-of-technology-madras/Sweep%20Functionality</a><br>Synced 5 W&B file(s), 0 media file(s), 0 artifact file(s) and 0 other file(s)"
            ]
          },
          "metadata": {}
        },
        {
          "output_type": "display_data",
          "data": {
            "text/plain": [
              "<IPython.core.display.HTML object>"
            ],
            "text/html": [
              "Find logs at: <code>./wandb/run-20250310_073619-w0hrxukl/logs</code>"
            ]
          },
          "metadata": {}
        },
        {
          "output_type": "stream",
          "name": "stderr",
          "text": [
            "\u001b[34m\u001b[1mwandb\u001b[0m: Agent Starting Run: v7vmq99x with config:\n",
            "\u001b[34m\u001b[1mwandb\u001b[0m: \tactivation: relu\n",
            "\u001b[34m\u001b[1mwandb\u001b[0m: \tbatch_size: 16\n",
            "\u001b[34m\u001b[1mwandb\u001b[0m: \tepochs: 5\n",
            "\u001b[34m\u001b[1mwandb\u001b[0m: \thid_layer_size: 32\n",
            "\u001b[34m\u001b[1mwandb\u001b[0m: \tl2_reg: 0\n",
            "\u001b[34m\u001b[1mwandb\u001b[0m: \tlearning_rate: 0.001\n",
            "\u001b[34m\u001b[1mwandb\u001b[0m: \tnum_hid_layers: 4\n",
            "\u001b[34m\u001b[1mwandb\u001b[0m: \toptimizer: rmsprop\n",
            "\u001b[34m\u001b[1mwandb\u001b[0m: \tweight_init: random\n"
          ]
        },
        {
          "output_type": "display_data",
          "data": {
            "text/plain": [
              "<IPython.core.display.HTML object>"
            ],
            "text/html": [
              "Ignoring project 'Sweep Functionality' when running a sweep."
            ]
          },
          "metadata": {}
        },
        {
          "output_type": "display_data",
          "data": {
            "text/plain": [
              "<IPython.core.display.HTML object>"
            ],
            "text/html": [
              "Tracking run with wandb version 0.19.7"
            ]
          },
          "metadata": {}
        },
        {
          "output_type": "display_data",
          "data": {
            "text/plain": [
              "<IPython.core.display.HTML object>"
            ],
            "text/html": [
              "Run data is saved locally in <code>/content/wandb/run-20250310_073750-v7vmq99x</code>"
            ]
          },
          "metadata": {}
        },
        {
          "output_type": "display_data",
          "data": {
            "text/plain": [
              "<IPython.core.display.HTML object>"
            ],
            "text/html": [
              "Syncing run <strong><a href='https://wandb.ai/yeshu183-indian-institute-of-technology-madras/Sweep%20Functionality/runs/v7vmq99x' target=\"_blank\">wise-sweep-9</a></strong> to <a href='https://wandb.ai/yeshu183-indian-institute-of-technology-madras/Sweep%20Functionality' target=\"_blank\">Weights & Biases</a> (<a href='https://wandb.me/developer-guide' target=\"_blank\">docs</a>)<br>Sweep page: <a href='https://wandb.ai/yeshu183-indian-institute-of-technology-madras/Sweep%20Functionality/sweeps/1875zz1k' target=\"_blank\">https://wandb.ai/yeshu183-indian-institute-of-technology-madras/Sweep%20Functionality/sweeps/1875zz1k</a>"
            ]
          },
          "metadata": {}
        },
        {
          "output_type": "display_data",
          "data": {
            "text/plain": [
              "<IPython.core.display.HTML object>"
            ],
            "text/html": [
              " View project at <a href='https://wandb.ai/yeshu183-indian-institute-of-technology-madras/Sweep%20Functionality' target=\"_blank\">https://wandb.ai/yeshu183-indian-institute-of-technology-madras/Sweep%20Functionality</a>"
            ]
          },
          "metadata": {}
        },
        {
          "output_type": "display_data",
          "data": {
            "text/plain": [
              "<IPython.core.display.HTML object>"
            ],
            "text/html": [
              " View sweep at <a href='https://wandb.ai/yeshu183-indian-institute-of-technology-madras/Sweep%20Functionality/sweeps/1875zz1k' target=\"_blank\">https://wandb.ai/yeshu183-indian-institute-of-technology-madras/Sweep%20Functionality/sweeps/1875zz1k</a>"
            ]
          },
          "metadata": {}
        },
        {
          "output_type": "display_data",
          "data": {
            "text/plain": [
              "<IPython.core.display.HTML object>"
            ],
            "text/html": [
              " View run at <a href='https://wandb.ai/yeshu183-indian-institute-of-technology-madras/Sweep%20Functionality/runs/v7vmq99x' target=\"_blank\">https://wandb.ai/yeshu183-indian-institute-of-technology-madras/Sweep%20Functionality/runs/v7vmq99x</a>"
            ]
          },
          "metadata": {}
        },
        {
          "output_type": "stream",
          "name": "stdout",
          "text": [
            "Epoch 1, Loss: 0.1059, Accuracy: 0.5576, Val Loss: 0.0896, Val Accuracy: 0.6497\n",
            "Epoch 2, Loss: 0.0878, Accuracy: 0.6587, Val Loss: 0.0797, Val Accuracy: 0.6802\n",
            "Epoch 3, Loss: 0.0708, Accuracy: 0.7321, Val Loss: 0.0608, Val Accuracy: 0.7872\n",
            "Epoch 4, Loss: 0.0526, Accuracy: 0.8184, Val Loss: 0.0482, Val Accuracy: 0.8363\n",
            "Epoch 5, Loss: 0.0461, Accuracy: 0.8401, Val Loss: 0.0520, Val Accuracy: 0.8240\n",
            "Validation Loss: 0.0520, Validation Accuracy: 0.8240\n"
          ]
        },
        {
          "output_type": "display_data",
          "data": {
            "text/plain": [
              "<IPython.core.display.HTML object>"
            ],
            "text/html": []
          },
          "metadata": {}
        },
        {
          "output_type": "display_data",
          "data": {
            "text/plain": [
              "<IPython.core.display.HTML object>"
            ],
            "text/html": [
              "<br>    <style><br>        .wandb-row {<br>            display: flex;<br>            flex-direction: row;<br>            flex-wrap: wrap;<br>            justify-content: flex-start;<br>            width: 100%;<br>        }<br>        .wandb-col {<br>            display: flex;<br>            flex-direction: column;<br>            flex-basis: 100%;<br>            flex: 1;<br>            padding: 10px;<br>        }<br>    </style><br><div class=\"wandb-row\"><div class=\"wandb-col\"><h3>Run history:</h3><br/><table class=\"wandb\"><tr><td>accuracy</td><td>▁▄▅▇█</td></tr><tr><td>epoch</td><td>▁▃▅▆█</td></tr><tr><td>loss</td><td>█▆▄▂▁</td></tr><tr><td>val_acc</td><td>▁</td></tr><tr><td>val_accuracy</td><td>▁▂▆██</td></tr><tr><td>val_loss</td><td>█▆▃▁▂▂</td></tr></table><br/></div><div class=\"wandb-col\"><h3>Run summary:</h3><br/><table class=\"wandb\"><tr><td>accuracy</td><td>0.84011</td></tr><tr><td>epoch</td><td>5</td></tr><tr><td>loss</td><td>0.04613</td></tr><tr><td>val_acc</td><td>0.824</td></tr><tr><td>val_accuracy</td><td>0.824</td></tr><tr><td>val_loss</td><td>0.05195</td></tr></table><br/></div></div>"
            ]
          },
          "metadata": {}
        },
        {
          "output_type": "display_data",
          "data": {
            "text/plain": [
              "<IPython.core.display.HTML object>"
            ],
            "text/html": [
              " View run <strong style=\"color:#cdcd00\">e_5_hl_4_opt_rmsprop_bs_16_init_random_ac_relu</strong> at: <a href='https://wandb.ai/yeshu183-indian-institute-of-technology-madras/Sweep%20Functionality/runs/v7vmq99x' target=\"_blank\">https://wandb.ai/yeshu183-indian-institute-of-technology-madras/Sweep%20Functionality/runs/v7vmq99x</a><br> View project at: <a href='https://wandb.ai/yeshu183-indian-institute-of-technology-madras/Sweep%20Functionality' target=\"_blank\">https://wandb.ai/yeshu183-indian-institute-of-technology-madras/Sweep%20Functionality</a><br>Synced 5 W&B file(s), 0 media file(s), 0 artifact file(s) and 0 other file(s)"
            ]
          },
          "metadata": {}
        },
        {
          "output_type": "display_data",
          "data": {
            "text/plain": [
              "<IPython.core.display.HTML object>"
            ],
            "text/html": [
              "Find logs at: <code>./wandb/run-20250310_073750-v7vmq99x/logs</code>"
            ]
          },
          "metadata": {}
        },
        {
          "output_type": "stream",
          "name": "stderr",
          "text": [
            "\u001b[34m\u001b[1mwandb\u001b[0m: Agent Starting Run: 8qnlp5pc with config:\n",
            "\u001b[34m\u001b[1mwandb\u001b[0m: \tactivation: relu\n",
            "\u001b[34m\u001b[1mwandb\u001b[0m: \tbatch_size: 16\n",
            "\u001b[34m\u001b[1mwandb\u001b[0m: \tepochs: 5\n",
            "\u001b[34m\u001b[1mwandb\u001b[0m: \thid_layer_size: 32\n",
            "\u001b[34m\u001b[1mwandb\u001b[0m: \tl2_reg: 0\n",
            "\u001b[34m\u001b[1mwandb\u001b[0m: \tlearning_rate: 0.001\n",
            "\u001b[34m\u001b[1mwandb\u001b[0m: \tnum_hid_layers: 4\n",
            "\u001b[34m\u001b[1mwandb\u001b[0m: \toptimizer: adam\n",
            "\u001b[34m\u001b[1mwandb\u001b[0m: \tweight_init: random\n"
          ]
        },
        {
          "output_type": "display_data",
          "data": {
            "text/plain": [
              "<IPython.core.display.HTML object>"
            ],
            "text/html": [
              "Ignoring project 'Sweep Functionality' when running a sweep."
            ]
          },
          "metadata": {}
        },
        {
          "output_type": "display_data",
          "data": {
            "text/plain": [
              "<IPython.core.display.HTML object>"
            ],
            "text/html": [
              "Tracking run with wandb version 0.19.7"
            ]
          },
          "metadata": {}
        },
        {
          "output_type": "display_data",
          "data": {
            "text/plain": [
              "<IPython.core.display.HTML object>"
            ],
            "text/html": [
              "Run data is saved locally in <code>/content/wandb/run-20250310_073830-8qnlp5pc</code>"
            ]
          },
          "metadata": {}
        },
        {
          "output_type": "display_data",
          "data": {
            "text/plain": [
              "<IPython.core.display.HTML object>"
            ],
            "text/html": [
              "Syncing run <strong><a href='https://wandb.ai/yeshu183-indian-institute-of-technology-madras/Sweep%20Functionality/runs/8qnlp5pc' target=\"_blank\">silvery-sweep-10</a></strong> to <a href='https://wandb.ai/yeshu183-indian-institute-of-technology-madras/Sweep%20Functionality' target=\"_blank\">Weights & Biases</a> (<a href='https://wandb.me/developer-guide' target=\"_blank\">docs</a>)<br>Sweep page: <a href='https://wandb.ai/yeshu183-indian-institute-of-technology-madras/Sweep%20Functionality/sweeps/1875zz1k' target=\"_blank\">https://wandb.ai/yeshu183-indian-institute-of-technology-madras/Sweep%20Functionality/sweeps/1875zz1k</a>"
            ]
          },
          "metadata": {}
        },
        {
          "output_type": "display_data",
          "data": {
            "text/plain": [
              "<IPython.core.display.HTML object>"
            ],
            "text/html": [
              " View project at <a href='https://wandb.ai/yeshu183-indian-institute-of-technology-madras/Sweep%20Functionality' target=\"_blank\">https://wandb.ai/yeshu183-indian-institute-of-technology-madras/Sweep%20Functionality</a>"
            ]
          },
          "metadata": {}
        },
        {
          "output_type": "display_data",
          "data": {
            "text/plain": [
              "<IPython.core.display.HTML object>"
            ],
            "text/html": [
              " View sweep at <a href='https://wandb.ai/yeshu183-indian-institute-of-technology-madras/Sweep%20Functionality/sweeps/1875zz1k' target=\"_blank\">https://wandb.ai/yeshu183-indian-institute-of-technology-madras/Sweep%20Functionality/sweeps/1875zz1k</a>"
            ]
          },
          "metadata": {}
        },
        {
          "output_type": "display_data",
          "data": {
            "text/plain": [
              "<IPython.core.display.HTML object>"
            ],
            "text/html": [
              " View run at <a href='https://wandb.ai/yeshu183-indian-institute-of-technology-madras/Sweep%20Functionality/runs/8qnlp5pc' target=\"_blank\">https://wandb.ai/yeshu183-indian-institute-of-technology-madras/Sweep%20Functionality/runs/8qnlp5pc</a>"
            ]
          },
          "metadata": {}
        },
        {
          "output_type": "stream",
          "name": "stdout",
          "text": [
            "Epoch 1, Loss: 0.1008, Accuracy: 0.5706, Val Loss: 0.0854, Val Accuracy: 0.6802\n",
            "Epoch 2, Loss: 0.0831, Accuracy: 0.6857, Val Loss: 0.0816, Val Accuracy: 0.7243\n",
            "Epoch 3, Loss: 0.0738, Accuracy: 0.7274, Val Loss: 0.0665, Val Accuracy: 0.7615\n",
            "Epoch 4, Loss: 0.0607, Accuracy: 0.7728, Val Loss: 0.0532, Val Accuracy: 0.8080\n",
            "Epoch 5, Loss: 0.0500, Accuracy: 0.8173, Val Loss: 0.0480, Val Accuracy: 0.8290\n",
            "Validation Loss: 0.0480, Validation Accuracy: 0.8290\n"
          ]
        },
        {
          "output_type": "display_data",
          "data": {
            "text/plain": [
              "<IPython.core.display.HTML object>"
            ],
            "text/html": []
          },
          "metadata": {}
        },
        {
          "output_type": "display_data",
          "data": {
            "text/plain": [
              "<IPython.core.display.HTML object>"
            ],
            "text/html": [
              "<br>    <style><br>        .wandb-row {<br>            display: flex;<br>            flex-direction: row;<br>            flex-wrap: wrap;<br>            justify-content: flex-start;<br>            width: 100%;<br>        }<br>        .wandb-col {<br>            display: flex;<br>            flex-direction: column;<br>            flex-basis: 100%;<br>            flex: 1;<br>            padding: 10px;<br>        }<br>    </style><br><div class=\"wandb-row\"><div class=\"wandb-col\"><h3>Run history:</h3><br/><table class=\"wandb\"><tr><td>accuracy</td><td>▁▄▅▇█</td></tr><tr><td>epoch</td><td>▁▃▅▆█</td></tr><tr><td>loss</td><td>█▆▄▂▁</td></tr><tr><td>val_acc</td><td>▁</td></tr><tr><td>val_accuracy</td><td>▁▃▅▇█</td></tr><tr><td>val_loss</td><td>█▇▄▂▁▁</td></tr></table><br/></div><div class=\"wandb-col\"><h3>Run summary:</h3><br/><table class=\"wandb\"><tr><td>accuracy</td><td>0.8173</td></tr><tr><td>epoch</td><td>5</td></tr><tr><td>loss</td><td>0.04999</td></tr><tr><td>val_acc</td><td>0.829</td></tr><tr><td>val_accuracy</td><td>0.829</td></tr><tr><td>val_loss</td><td>0.04801</td></tr></table><br/></div></div>"
            ]
          },
          "metadata": {}
        },
        {
          "output_type": "display_data",
          "data": {
            "text/plain": [
              "<IPython.core.display.HTML object>"
            ],
            "text/html": [
              " View run <strong style=\"color:#cdcd00\">e_5_hl_4_opt_adam_bs_16_init_random_ac_relu</strong> at: <a href='https://wandb.ai/yeshu183-indian-institute-of-technology-madras/Sweep%20Functionality/runs/8qnlp5pc' target=\"_blank\">https://wandb.ai/yeshu183-indian-institute-of-technology-madras/Sweep%20Functionality/runs/8qnlp5pc</a><br> View project at: <a href='https://wandb.ai/yeshu183-indian-institute-of-technology-madras/Sweep%20Functionality' target=\"_blank\">https://wandb.ai/yeshu183-indian-institute-of-technology-madras/Sweep%20Functionality</a><br>Synced 5 W&B file(s), 0 media file(s), 0 artifact file(s) and 0 other file(s)"
            ]
          },
          "metadata": {}
        },
        {
          "output_type": "display_data",
          "data": {
            "text/plain": [
              "<IPython.core.display.HTML object>"
            ],
            "text/html": [
              "Find logs at: <code>./wandb/run-20250310_073830-8qnlp5pc/logs</code>"
            ]
          },
          "metadata": {}
        },
        {
          "output_type": "stream",
          "name": "stderr",
          "text": [
            "\u001b[34m\u001b[1mwandb\u001b[0m: Agent Starting Run: ax72t6ta with config:\n",
            "\u001b[34m\u001b[1mwandb\u001b[0m: \tactivation: relu\n",
            "\u001b[34m\u001b[1mwandb\u001b[0m: \tbatch_size: 16\n",
            "\u001b[34m\u001b[1mwandb\u001b[0m: \tepochs: 10\n",
            "\u001b[34m\u001b[1mwandb\u001b[0m: \thid_layer_size: 32\n",
            "\u001b[34m\u001b[1mwandb\u001b[0m: \tl2_reg: 0\n",
            "\u001b[34m\u001b[1mwandb\u001b[0m: \tlearning_rate: 0.0001\n",
            "\u001b[34m\u001b[1mwandb\u001b[0m: \tnum_hid_layers: 5\n",
            "\u001b[34m\u001b[1mwandb\u001b[0m: \toptimizer: nadam\n",
            "\u001b[34m\u001b[1mwandb\u001b[0m: \tweight_init: random\n"
          ]
        },
        {
          "output_type": "display_data",
          "data": {
            "text/plain": [
              "<IPython.core.display.HTML object>"
            ],
            "text/html": [
              "Ignoring project 'Sweep Functionality' when running a sweep."
            ]
          },
          "metadata": {}
        },
        {
          "output_type": "display_data",
          "data": {
            "text/plain": [
              "<IPython.core.display.HTML object>"
            ],
            "text/html": [
              "Tracking run with wandb version 0.19.7"
            ]
          },
          "metadata": {}
        },
        {
          "output_type": "display_data",
          "data": {
            "text/plain": [
              "<IPython.core.display.HTML object>"
            ],
            "text/html": [
              "Run data is saved locally in <code>/content/wandb/run-20250310_073916-ax72t6ta</code>"
            ]
          },
          "metadata": {}
        },
        {
          "output_type": "display_data",
          "data": {
            "text/plain": [
              "<IPython.core.display.HTML object>"
            ],
            "text/html": [
              "Syncing run <strong><a href='https://wandb.ai/yeshu183-indian-institute-of-technology-madras/Sweep%20Functionality/runs/ax72t6ta' target=\"_blank\">swift-sweep-11</a></strong> to <a href='https://wandb.ai/yeshu183-indian-institute-of-technology-madras/Sweep%20Functionality' target=\"_blank\">Weights & Biases</a> (<a href='https://wandb.me/developer-guide' target=\"_blank\">docs</a>)<br>Sweep page: <a href='https://wandb.ai/yeshu183-indian-institute-of-technology-madras/Sweep%20Functionality/sweeps/1875zz1k' target=\"_blank\">https://wandb.ai/yeshu183-indian-institute-of-technology-madras/Sweep%20Functionality/sweeps/1875zz1k</a>"
            ]
          },
          "metadata": {}
        },
        {
          "output_type": "display_data",
          "data": {
            "text/plain": [
              "<IPython.core.display.HTML object>"
            ],
            "text/html": [
              " View project at <a href='https://wandb.ai/yeshu183-indian-institute-of-technology-madras/Sweep%20Functionality' target=\"_blank\">https://wandb.ai/yeshu183-indian-institute-of-technology-madras/Sweep%20Functionality</a>"
            ]
          },
          "metadata": {}
        },
        {
          "output_type": "display_data",
          "data": {
            "text/plain": [
              "<IPython.core.display.HTML object>"
            ],
            "text/html": [
              " View sweep at <a href='https://wandb.ai/yeshu183-indian-institute-of-technology-madras/Sweep%20Functionality/sweeps/1875zz1k' target=\"_blank\">https://wandb.ai/yeshu183-indian-institute-of-technology-madras/Sweep%20Functionality/sweeps/1875zz1k</a>"
            ]
          },
          "metadata": {}
        },
        {
          "output_type": "display_data",
          "data": {
            "text/plain": [
              "<IPython.core.display.HTML object>"
            ],
            "text/html": [
              " View run at <a href='https://wandb.ai/yeshu183-indian-institute-of-technology-madras/Sweep%20Functionality/runs/ax72t6ta' target=\"_blank\">https://wandb.ai/yeshu183-indian-institute-of-technology-madras/Sweep%20Functionality/runs/ax72t6ta</a>"
            ]
          },
          "metadata": {}
        },
        {
          "output_type": "stream",
          "name": "stdout",
          "text": [
            "Epoch 1, Loss: 0.1164, Accuracy: 0.4909, Val Loss: 0.1002, Val Accuracy: 0.5615\n",
            "Epoch 2, Loss: 0.0987, Accuracy: 0.5654, Val Loss: 0.0987, Val Accuracy: 0.5952\n",
            "Epoch 3, Loss: 0.0953, Accuracy: 0.5996, Val Loss: 0.0941, Val Accuracy: 0.6327\n",
            "Epoch 4, Loss: 0.0932, Accuracy: 0.6179, Val Loss: 0.0938, Val Accuracy: 0.6297\n",
            "Epoch 5, Loss: 0.0915, Accuracy: 0.6293, Val Loss: 0.0906, Val Accuracy: 0.6520\n",
            "Epoch 6, Loss: 0.0902, Accuracy: 0.6381, Val Loss: 0.0891, Val Accuracy: 0.6568\n",
            "Epoch 7, Loss: 0.0891, Accuracy: 0.6462, Val Loss: 0.0889, Val Accuracy: 0.6407\n",
            "Epoch 8, Loss: 0.0881, Accuracy: 0.6513, Val Loss: 0.0874, Val Accuracy: 0.6565\n",
            "Epoch 9, Loss: 0.0872, Accuracy: 0.6575, Val Loss: 0.0877, Val Accuracy: 0.6728\n",
            "Epoch 10, Loss: 0.0862, Accuracy: 0.6643, Val Loss: 0.0869, Val Accuracy: 0.6700\n",
            "Validation Loss: 0.0869, Validation Accuracy: 0.6700\n"
          ]
        },
        {
          "output_type": "display_data",
          "data": {
            "text/plain": [
              "<IPython.core.display.HTML object>"
            ],
            "text/html": []
          },
          "metadata": {}
        },
        {
          "output_type": "display_data",
          "data": {
            "text/plain": [
              "<IPython.core.display.HTML object>"
            ],
            "text/html": [
              "<br>    <style><br>        .wandb-row {<br>            display: flex;<br>            flex-direction: row;<br>            flex-wrap: wrap;<br>            justify-content: flex-start;<br>            width: 100%;<br>        }<br>        .wandb-col {<br>            display: flex;<br>            flex-direction: column;<br>            flex-basis: 100%;<br>            flex: 1;<br>            padding: 10px;<br>        }<br>    </style><br><div class=\"wandb-row\"><div class=\"wandb-col\"><h3>Run history:</h3><br/><table class=\"wandb\"><tr><td>accuracy</td><td>▁▄▅▆▇▇▇▇██</td></tr><tr><td>epoch</td><td>▁▂▃▃▄▅▆▆▇█</td></tr><tr><td>loss</td><td>█▄▃▃▂▂▂▁▁▁</td></tr><tr><td>val_acc</td><td>▁</td></tr><tr><td>val_accuracy</td><td>▁▃▅▅▇▇▆▇██</td></tr><tr><td>val_loss</td><td>█▇▅▅▃▂▂▁▁▁▁</td></tr></table><br/></div><div class=\"wandb-col\"><h3>Run summary:</h3><br/><table class=\"wandb\"><tr><td>accuracy</td><td>0.66431</td></tr><tr><td>epoch</td><td>10</td></tr><tr><td>loss</td><td>0.08621</td></tr><tr><td>val_acc</td><td>0.67</td></tr><tr><td>val_accuracy</td><td>0.67</td></tr><tr><td>val_loss</td><td>0.08695</td></tr></table><br/></div></div>"
            ]
          },
          "metadata": {}
        },
        {
          "output_type": "display_data",
          "data": {
            "text/plain": [
              "<IPython.core.display.HTML object>"
            ],
            "text/html": [
              " View run <strong style=\"color:#cdcd00\">e_10_hl_5_opt_nadam_bs_16_init_random_ac_relu</strong> at: <a href='https://wandb.ai/yeshu183-indian-institute-of-technology-madras/Sweep%20Functionality/runs/ax72t6ta' target=\"_blank\">https://wandb.ai/yeshu183-indian-institute-of-technology-madras/Sweep%20Functionality/runs/ax72t6ta</a><br> View project at: <a href='https://wandb.ai/yeshu183-indian-institute-of-technology-madras/Sweep%20Functionality' target=\"_blank\">https://wandb.ai/yeshu183-indian-institute-of-technology-madras/Sweep%20Functionality</a><br>Synced 5 W&B file(s), 0 media file(s), 0 artifact file(s) and 0 other file(s)"
            ]
          },
          "metadata": {}
        },
        {
          "output_type": "display_data",
          "data": {
            "text/plain": [
              "<IPython.core.display.HTML object>"
            ],
            "text/html": [
              "Find logs at: <code>./wandb/run-20250310_073916-ax72t6ta/logs</code>"
            ]
          },
          "metadata": {}
        },
        {
          "output_type": "stream",
          "name": "stderr",
          "text": [
            "\u001b[34m\u001b[1mwandb\u001b[0m: Agent Starting Run: x1r1m8zt with config:\n",
            "\u001b[34m\u001b[1mwandb\u001b[0m: \tactivation: relu\n",
            "\u001b[34m\u001b[1mwandb\u001b[0m: \tbatch_size: 16\n",
            "\u001b[34m\u001b[1mwandb\u001b[0m: \tepochs: 5\n",
            "\u001b[34m\u001b[1mwandb\u001b[0m: \thid_layer_size: 64\n",
            "\u001b[34m\u001b[1mwandb\u001b[0m: \tl2_reg: 0.005\n",
            "\u001b[34m\u001b[1mwandb\u001b[0m: \tlearning_rate: 0.0001\n",
            "\u001b[34m\u001b[1mwandb\u001b[0m: \tnum_hid_layers: 5\n",
            "\u001b[34m\u001b[1mwandb\u001b[0m: \toptimizer: rmsprop\n",
            "\u001b[34m\u001b[1mwandb\u001b[0m: \tweight_init: random\n"
          ]
        },
        {
          "output_type": "display_data",
          "data": {
            "text/plain": [
              "<IPython.core.display.HTML object>"
            ],
            "text/html": [
              "Ignoring project 'Sweep Functionality' when running a sweep."
            ]
          },
          "metadata": {}
        },
        {
          "output_type": "display_data",
          "data": {
            "text/plain": [
              "<IPython.core.display.HTML object>"
            ],
            "text/html": [
              "Tracking run with wandb version 0.19.7"
            ]
          },
          "metadata": {}
        },
        {
          "output_type": "display_data",
          "data": {
            "text/plain": [
              "<IPython.core.display.HTML object>"
            ],
            "text/html": [
              "Run data is saved locally in <code>/content/wandb/run-20250310_074107-x1r1m8zt</code>"
            ]
          },
          "metadata": {}
        },
        {
          "output_type": "display_data",
          "data": {
            "text/plain": [
              "<IPython.core.display.HTML object>"
            ],
            "text/html": [
              "Syncing run <strong><a href='https://wandb.ai/yeshu183-indian-institute-of-technology-madras/Sweep%20Functionality/runs/x1r1m8zt' target=\"_blank\">magic-sweep-12</a></strong> to <a href='https://wandb.ai/yeshu183-indian-institute-of-technology-madras/Sweep%20Functionality' target=\"_blank\">Weights & Biases</a> (<a href='https://wandb.me/developer-guide' target=\"_blank\">docs</a>)<br>Sweep page: <a href='https://wandb.ai/yeshu183-indian-institute-of-technology-madras/Sweep%20Functionality/sweeps/1875zz1k' target=\"_blank\">https://wandb.ai/yeshu183-indian-institute-of-technology-madras/Sweep%20Functionality/sweeps/1875zz1k</a>"
            ]
          },
          "metadata": {}
        },
        {
          "output_type": "display_data",
          "data": {
            "text/plain": [
              "<IPython.core.display.HTML object>"
            ],
            "text/html": [
              " View project at <a href='https://wandb.ai/yeshu183-indian-institute-of-technology-madras/Sweep%20Functionality' target=\"_blank\">https://wandb.ai/yeshu183-indian-institute-of-technology-madras/Sweep%20Functionality</a>"
            ]
          },
          "metadata": {}
        },
        {
          "output_type": "display_data",
          "data": {
            "text/plain": [
              "<IPython.core.display.HTML object>"
            ],
            "text/html": [
              " View sweep at <a href='https://wandb.ai/yeshu183-indian-institute-of-technology-madras/Sweep%20Functionality/sweeps/1875zz1k' target=\"_blank\">https://wandb.ai/yeshu183-indian-institute-of-technology-madras/Sweep%20Functionality/sweeps/1875zz1k</a>"
            ]
          },
          "metadata": {}
        },
        {
          "output_type": "display_data",
          "data": {
            "text/plain": [
              "<IPython.core.display.HTML object>"
            ],
            "text/html": [
              " View run at <a href='https://wandb.ai/yeshu183-indian-institute-of-technology-madras/Sweep%20Functionality/runs/x1r1m8zt' target=\"_blank\">https://wandb.ai/yeshu183-indian-institute-of-technology-madras/Sweep%20Functionality/runs/x1r1m8zt</a>"
            ]
          },
          "metadata": {}
        },
        {
          "output_type": "stream",
          "name": "stdout",
          "text": [
            "Epoch 1, Loss: 0.2307, Accuracy: 0.1002, Val Loss: 0.2305, Val Accuracy: 0.0983\n",
            "Epoch 2, Loss: 0.2306, Accuracy: 0.1002, Val Loss: 0.2307, Val Accuracy: 0.0983\n",
            "Epoch 3, Loss: 0.2308, Accuracy: 0.1002, Val Loss: 0.2310, Val Accuracy: 0.0983\n",
            "Epoch 4, Loss: 0.2312, Accuracy: 0.1002, Val Loss: 0.2315, Val Accuracy: 0.0983\n",
            "Epoch 5, Loss: 0.2317, Accuracy: 0.1002, Val Loss: 0.2320, Val Accuracy: 0.0983\n",
            "Validation Loss: 0.2320, Validation Accuracy: 0.0983\n"
          ]
        },
        {
          "output_type": "display_data",
          "data": {
            "text/plain": [
              "<IPython.core.display.HTML object>"
            ],
            "text/html": []
          },
          "metadata": {}
        },
        {
          "output_type": "display_data",
          "data": {
            "text/plain": [
              "<IPython.core.display.HTML object>"
            ],
            "text/html": [
              "<br>    <style><br>        .wandb-row {<br>            display: flex;<br>            flex-direction: row;<br>            flex-wrap: wrap;<br>            justify-content: flex-start;<br>            width: 100%;<br>        }<br>        .wandb-col {<br>            display: flex;<br>            flex-direction: column;<br>            flex-basis: 100%;<br>            flex: 1;<br>            padding: 10px;<br>        }<br>    </style><br><div class=\"wandb-row\"><div class=\"wandb-col\"><h3>Run history:</h3><br/><table class=\"wandb\"><tr><td>accuracy</td><td>▁▁▁▁▁</td></tr><tr><td>epoch</td><td>▁▃▅▆█</td></tr><tr><td>loss</td><td>▂▁▃▅█</td></tr><tr><td>val_acc</td><td>▁</td></tr><tr><td>val_accuracy</td><td>▁▁▁▁▁</td></tr><tr><td>val_loss</td><td>▁▂▃▅██</td></tr></table><br/></div><div class=\"wandb-col\"><h3>Run summary:</h3><br/><table class=\"wandb\"><tr><td>accuracy</td><td>0.10019</td></tr><tr><td>epoch</td><td>5</td></tr><tr><td>loss</td><td>0.23174</td></tr><tr><td>val_acc</td><td>0.09833</td></tr><tr><td>val_accuracy</td><td>0.09833</td></tr><tr><td>val_loss</td><td>0.23202</td></tr></table><br/></div></div>"
            ]
          },
          "metadata": {}
        },
        {
          "output_type": "display_data",
          "data": {
            "text/plain": [
              "<IPython.core.display.HTML object>"
            ],
            "text/html": [
              " View run <strong style=\"color:#cdcd00\">e_5_hl_5_opt_rmsprop_bs_16_init_random_ac_relu</strong> at: <a href='https://wandb.ai/yeshu183-indian-institute-of-technology-madras/Sweep%20Functionality/runs/x1r1m8zt' target=\"_blank\">https://wandb.ai/yeshu183-indian-institute-of-technology-madras/Sweep%20Functionality/runs/x1r1m8zt</a><br> View project at: <a href='https://wandb.ai/yeshu183-indian-institute-of-technology-madras/Sweep%20Functionality' target=\"_blank\">https://wandb.ai/yeshu183-indian-institute-of-technology-madras/Sweep%20Functionality</a><br>Synced 5 W&B file(s), 0 media file(s), 0 artifact file(s) and 0 other file(s)"
            ]
          },
          "metadata": {}
        },
        {
          "output_type": "display_data",
          "data": {
            "text/plain": [
              "<IPython.core.display.HTML object>"
            ],
            "text/html": [
              "Find logs at: <code>./wandb/run-20250310_074107-x1r1m8zt/logs</code>"
            ]
          },
          "metadata": {}
        },
        {
          "output_type": "stream",
          "name": "stderr",
          "text": [
            "\u001b[34m\u001b[1mwandb\u001b[0m: Agent Starting Run: 8nxomcl4 with config:\n",
            "\u001b[34m\u001b[1mwandb\u001b[0m: \tactivation: relu\n",
            "\u001b[34m\u001b[1mwandb\u001b[0m: \tbatch_size: 32\n",
            "\u001b[34m\u001b[1mwandb\u001b[0m: \tepochs: 5\n",
            "\u001b[34m\u001b[1mwandb\u001b[0m: \thid_layer_size: 32\n",
            "\u001b[34m\u001b[1mwandb\u001b[0m: \tl2_reg: 0\n",
            "\u001b[34m\u001b[1mwandb\u001b[0m: \tlearning_rate: 0.001\n",
            "\u001b[34m\u001b[1mwandb\u001b[0m: \tnum_hid_layers: 5\n",
            "\u001b[34m\u001b[1mwandb\u001b[0m: \toptimizer: adam\n",
            "\u001b[34m\u001b[1mwandb\u001b[0m: \tweight_init: random\n"
          ]
        },
        {
          "output_type": "display_data",
          "data": {
            "text/plain": [
              "<IPython.core.display.HTML object>"
            ],
            "text/html": [
              "Ignoring project 'Sweep Functionality' when running a sweep."
            ]
          },
          "metadata": {}
        },
        {
          "output_type": "display_data",
          "data": {
            "text/plain": [
              "<IPython.core.display.HTML object>"
            ],
            "text/html": [
              "Tracking run with wandb version 0.19.7"
            ]
          },
          "metadata": {}
        },
        {
          "output_type": "display_data",
          "data": {
            "text/plain": [
              "<IPython.core.display.HTML object>"
            ],
            "text/html": [
              "Run data is saved locally in <code>/content/wandb/run-20250310_074207-8nxomcl4</code>"
            ]
          },
          "metadata": {}
        },
        {
          "output_type": "display_data",
          "data": {
            "text/plain": [
              "<IPython.core.display.HTML object>"
            ],
            "text/html": [
              "Syncing run <strong><a href='https://wandb.ai/yeshu183-indian-institute-of-technology-madras/Sweep%20Functionality/runs/8nxomcl4' target=\"_blank\">sage-sweep-13</a></strong> to <a href='https://wandb.ai/yeshu183-indian-institute-of-technology-madras/Sweep%20Functionality' target=\"_blank\">Weights & Biases</a> (<a href='https://wandb.me/developer-guide' target=\"_blank\">docs</a>)<br>Sweep page: <a href='https://wandb.ai/yeshu183-indian-institute-of-technology-madras/Sweep%20Functionality/sweeps/1875zz1k' target=\"_blank\">https://wandb.ai/yeshu183-indian-institute-of-technology-madras/Sweep%20Functionality/sweeps/1875zz1k</a>"
            ]
          },
          "metadata": {}
        },
        {
          "output_type": "display_data",
          "data": {
            "text/plain": [
              "<IPython.core.display.HTML object>"
            ],
            "text/html": [
              " View project at <a href='https://wandb.ai/yeshu183-indian-institute-of-technology-madras/Sweep%20Functionality' target=\"_blank\">https://wandb.ai/yeshu183-indian-institute-of-technology-madras/Sweep%20Functionality</a>"
            ]
          },
          "metadata": {}
        },
        {
          "output_type": "display_data",
          "data": {
            "text/plain": [
              "<IPython.core.display.HTML object>"
            ],
            "text/html": [
              " View sweep at <a href='https://wandb.ai/yeshu183-indian-institute-of-technology-madras/Sweep%20Functionality/sweeps/1875zz1k' target=\"_blank\">https://wandb.ai/yeshu183-indian-institute-of-technology-madras/Sweep%20Functionality/sweeps/1875zz1k</a>"
            ]
          },
          "metadata": {}
        },
        {
          "output_type": "display_data",
          "data": {
            "text/plain": [
              "<IPython.core.display.HTML object>"
            ],
            "text/html": [
              " View run at <a href='https://wandb.ai/yeshu183-indian-institute-of-technology-madras/Sweep%20Functionality/runs/8nxomcl4' target=\"_blank\">https://wandb.ai/yeshu183-indian-institute-of-technology-madras/Sweep%20Functionality/runs/8nxomcl4</a>"
            ]
          },
          "metadata": {}
        },
        {
          "output_type": "stream",
          "name": "stdout",
          "text": [
            "Epoch 1, Loss: 0.1012, Accuracy: 0.5698, Val Loss: 0.0746, Val Accuracy: 0.6837\n",
            "Epoch 2, Loss: 0.0708, Accuracy: 0.7098, Val Loss: 0.0654, Val Accuracy: 0.7500\n",
            "Epoch 3, Loss: 0.0621, Accuracy: 0.7668, Val Loss: 0.0606, Val Accuracy: 0.7728\n",
            "Epoch 4, Loss: 0.0559, Accuracy: 0.7880, Val Loss: 0.0542, Val Accuracy: 0.7982\n",
            "Epoch 5, Loss: 0.0528, Accuracy: 0.7988, Val Loss: 0.0526, Val Accuracy: 0.8003\n",
            "Validation Loss: 0.0526, Validation Accuracy: 0.8003\n"
          ]
        },
        {
          "output_type": "display_data",
          "data": {
            "text/plain": [
              "<IPython.core.display.HTML object>"
            ],
            "text/html": []
          },
          "metadata": {}
        },
        {
          "output_type": "display_data",
          "data": {
            "text/plain": [
              "<IPython.core.display.HTML object>"
            ],
            "text/html": [
              "<br>    <style><br>        .wandb-row {<br>            display: flex;<br>            flex-direction: row;<br>            flex-wrap: wrap;<br>            justify-content: flex-start;<br>            width: 100%;<br>        }<br>        .wandb-col {<br>            display: flex;<br>            flex-direction: column;<br>            flex-basis: 100%;<br>            flex: 1;<br>            padding: 10px;<br>        }<br>    </style><br><div class=\"wandb-row\"><div class=\"wandb-col\"><h3>Run history:</h3><br/><table class=\"wandb\"><tr><td>accuracy</td><td>▁▅▇██</td></tr><tr><td>epoch</td><td>▁▃▅▆█</td></tr><tr><td>loss</td><td>█▄▂▁▁</td></tr><tr><td>val_acc</td><td>▁</td></tr><tr><td>val_accuracy</td><td>▁▅▆██</td></tr><tr><td>val_loss</td><td>█▅▄▁▁▁</td></tr></table><br/></div><div class=\"wandb-col\"><h3>Run summary:</h3><br/><table class=\"wandb\"><tr><td>accuracy</td><td>0.79881</td></tr><tr><td>epoch</td><td>5</td></tr><tr><td>loss</td><td>0.05279</td></tr><tr><td>val_acc</td><td>0.80033</td></tr><tr><td>val_accuracy</td><td>0.80033</td></tr><tr><td>val_loss</td><td>0.05261</td></tr></table><br/></div></div>"
            ]
          },
          "metadata": {}
        },
        {
          "output_type": "display_data",
          "data": {
            "text/plain": [
              "<IPython.core.display.HTML object>"
            ],
            "text/html": [
              " View run <strong style=\"color:#cdcd00\">e_5_hl_5_opt_adam_bs_32_init_random_ac_relu</strong> at: <a href='https://wandb.ai/yeshu183-indian-institute-of-technology-madras/Sweep%20Functionality/runs/8nxomcl4' target=\"_blank\">https://wandb.ai/yeshu183-indian-institute-of-technology-madras/Sweep%20Functionality/runs/8nxomcl4</a><br> View project at: <a href='https://wandb.ai/yeshu183-indian-institute-of-technology-madras/Sweep%20Functionality' target=\"_blank\">https://wandb.ai/yeshu183-indian-institute-of-technology-madras/Sweep%20Functionality</a><br>Synced 5 W&B file(s), 0 media file(s), 0 artifact file(s) and 0 other file(s)"
            ]
          },
          "metadata": {}
        },
        {
          "output_type": "display_data",
          "data": {
            "text/plain": [
              "<IPython.core.display.HTML object>"
            ],
            "text/html": [
              "Find logs at: <code>./wandb/run-20250310_074207-8nxomcl4/logs</code>"
            ]
          },
          "metadata": {}
        },
        {
          "output_type": "stream",
          "name": "stderr",
          "text": [
            "\u001b[34m\u001b[1mwandb\u001b[0m: Agent Starting Run: 2gnve6k7 with config:\n",
            "\u001b[34m\u001b[1mwandb\u001b[0m: \tactivation: relu\n",
            "\u001b[34m\u001b[1mwandb\u001b[0m: \tbatch_size: 16\n",
            "\u001b[34m\u001b[1mwandb\u001b[0m: \tepochs: 5\n",
            "\u001b[34m\u001b[1mwandb\u001b[0m: \thid_layer_size: 64\n",
            "\u001b[34m\u001b[1mwandb\u001b[0m: \tl2_reg: 0\n",
            "\u001b[34m\u001b[1mwandb\u001b[0m: \tlearning_rate: 0.001\n",
            "\u001b[34m\u001b[1mwandb\u001b[0m: \tnum_hid_layers: 4\n",
            "\u001b[34m\u001b[1mwandb\u001b[0m: \toptimizer: adam\n",
            "\u001b[34m\u001b[1mwandb\u001b[0m: \tweight_init: xavier\n"
          ]
        },
        {
          "output_type": "display_data",
          "data": {
            "text/plain": [
              "<IPython.core.display.HTML object>"
            ],
            "text/html": [
              "Ignoring project 'Sweep Functionality' when running a sweep."
            ]
          },
          "metadata": {}
        },
        {
          "output_type": "display_data",
          "data": {
            "text/plain": [
              "<IPython.core.display.HTML object>"
            ],
            "text/html": [
              "Tracking run with wandb version 0.19.7"
            ]
          },
          "metadata": {}
        },
        {
          "output_type": "display_data",
          "data": {
            "text/plain": [
              "<IPython.core.display.HTML object>"
            ],
            "text/html": [
              "Run data is saved locally in <code>/content/wandb/run-20250310_074233-2gnve6k7</code>"
            ]
          },
          "metadata": {}
        },
        {
          "output_type": "display_data",
          "data": {
            "text/plain": [
              "<IPython.core.display.HTML object>"
            ],
            "text/html": [
              "Syncing run <strong><a href='https://wandb.ai/yeshu183-indian-institute-of-technology-madras/Sweep%20Functionality/runs/2gnve6k7' target=\"_blank\">jumping-sweep-14</a></strong> to <a href='https://wandb.ai/yeshu183-indian-institute-of-technology-madras/Sweep%20Functionality' target=\"_blank\">Weights & Biases</a> (<a href='https://wandb.me/developer-guide' target=\"_blank\">docs</a>)<br>Sweep page: <a href='https://wandb.ai/yeshu183-indian-institute-of-technology-madras/Sweep%20Functionality/sweeps/1875zz1k' target=\"_blank\">https://wandb.ai/yeshu183-indian-institute-of-technology-madras/Sweep%20Functionality/sweeps/1875zz1k</a>"
            ]
          },
          "metadata": {}
        },
        {
          "output_type": "display_data",
          "data": {
            "text/plain": [
              "<IPython.core.display.HTML object>"
            ],
            "text/html": [
              " View project at <a href='https://wandb.ai/yeshu183-indian-institute-of-technology-madras/Sweep%20Functionality' target=\"_blank\">https://wandb.ai/yeshu183-indian-institute-of-technology-madras/Sweep%20Functionality</a>"
            ]
          },
          "metadata": {}
        },
        {
          "output_type": "display_data",
          "data": {
            "text/plain": [
              "<IPython.core.display.HTML object>"
            ],
            "text/html": [
              " View sweep at <a href='https://wandb.ai/yeshu183-indian-institute-of-technology-madras/Sweep%20Functionality/sweeps/1875zz1k' target=\"_blank\">https://wandb.ai/yeshu183-indian-institute-of-technology-madras/Sweep%20Functionality/sweeps/1875zz1k</a>"
            ]
          },
          "metadata": {}
        },
        {
          "output_type": "display_data",
          "data": {
            "text/plain": [
              "<IPython.core.display.HTML object>"
            ],
            "text/html": [
              " View run at <a href='https://wandb.ai/yeshu183-indian-institute-of-technology-madras/Sweep%20Functionality/runs/2gnve6k7' target=\"_blank\">https://wandb.ai/yeshu183-indian-institute-of-technology-madras/Sweep%20Functionality/runs/2gnve6k7</a>"
            ]
          },
          "metadata": {}
        },
        {
          "output_type": "stream",
          "name": "stdout",
          "text": [
            "Epoch 1, Loss: 0.0504, Accuracy: 0.8132, Val Loss: 0.0392, Val Accuracy: 0.8587\n",
            "Epoch 2, Loss: 0.0378, Accuracy: 0.8603, Val Loss: 0.0387, Val Accuracy: 0.8613\n",
            "Epoch 3, Loss: 0.0349, Accuracy: 0.8707, Val Loss: 0.0352, Val Accuracy: 0.8705\n",
            "Epoch 4, Loss: 0.0331, Accuracy: 0.8781, Val Loss: 0.0344, Val Accuracy: 0.8792\n",
            "Epoch 5, Loss: 0.0314, Accuracy: 0.8826, Val Loss: 0.0342, Val Accuracy: 0.8815\n",
            "Validation Loss: 0.0342, Validation Accuracy: 0.8815\n"
          ]
        },
        {
          "output_type": "display_data",
          "data": {
            "text/plain": [
              "<IPython.core.display.HTML object>"
            ],
            "text/html": []
          },
          "metadata": {}
        },
        {
          "output_type": "display_data",
          "data": {
            "text/plain": [
              "<IPython.core.display.HTML object>"
            ],
            "text/html": [
              "<br>    <style><br>        .wandb-row {<br>            display: flex;<br>            flex-direction: row;<br>            flex-wrap: wrap;<br>            justify-content: flex-start;<br>            width: 100%;<br>        }<br>        .wandb-col {<br>            display: flex;<br>            flex-direction: column;<br>            flex-basis: 100%;<br>            flex: 1;<br>            padding: 10px;<br>        }<br>    </style><br><div class=\"wandb-row\"><div class=\"wandb-col\"><h3>Run history:</h3><br/><table class=\"wandb\"><tr><td>accuracy</td><td>▁▆▇██</td></tr><tr><td>epoch</td><td>▁▃▅▆█</td></tr><tr><td>loss</td><td>█▃▂▂▁</td></tr><tr><td>val_acc</td><td>▁</td></tr><tr><td>val_accuracy</td><td>▁▂▅▇█</td></tr><tr><td>val_loss</td><td>█▇▂▁▁▁</td></tr></table><br/></div><div class=\"wandb-col\"><h3>Run summary:</h3><br/><table class=\"wandb\"><tr><td>accuracy</td><td>0.88263</td></tr><tr><td>epoch</td><td>5</td></tr><tr><td>loss</td><td>0.0314</td></tr><tr><td>val_acc</td><td>0.8815</td></tr><tr><td>val_accuracy</td><td>0.8815</td></tr><tr><td>val_loss</td><td>0.03418</td></tr></table><br/></div></div>"
            ]
          },
          "metadata": {}
        },
        {
          "output_type": "display_data",
          "data": {
            "text/plain": [
              "<IPython.core.display.HTML object>"
            ],
            "text/html": [
              " View run <strong style=\"color:#cdcd00\">e_5_hl_4_opt_adam_bs_16_init_xavier_ac_relu</strong> at: <a href='https://wandb.ai/yeshu183-indian-institute-of-technology-madras/Sweep%20Functionality/runs/2gnve6k7' target=\"_blank\">https://wandb.ai/yeshu183-indian-institute-of-technology-madras/Sweep%20Functionality/runs/2gnve6k7</a><br> View project at: <a href='https://wandb.ai/yeshu183-indian-institute-of-technology-madras/Sweep%20Functionality' target=\"_blank\">https://wandb.ai/yeshu183-indian-institute-of-technology-madras/Sweep%20Functionality</a><br>Synced 5 W&B file(s), 0 media file(s), 0 artifact file(s) and 0 other file(s)"
            ]
          },
          "metadata": {}
        },
        {
          "output_type": "display_data",
          "data": {
            "text/plain": [
              "<IPython.core.display.HTML object>"
            ],
            "text/html": [
              "Find logs at: <code>./wandb/run-20250310_074233-2gnve6k7/logs</code>"
            ]
          },
          "metadata": {}
        },
        {
          "output_type": "stream",
          "name": "stderr",
          "text": [
            "\u001b[34m\u001b[1mwandb\u001b[0m: Agent Starting Run: y1lwf8jd with config:\n",
            "\u001b[34m\u001b[1mwandb\u001b[0m: \tactivation: relu\n",
            "\u001b[34m\u001b[1mwandb\u001b[0m: \tbatch_size: 32\n",
            "\u001b[34m\u001b[1mwandb\u001b[0m: \tepochs: 5\n",
            "\u001b[34m\u001b[1mwandb\u001b[0m: \thid_layer_size: 64\n",
            "\u001b[34m\u001b[1mwandb\u001b[0m: \tl2_reg: 0\n",
            "\u001b[34m\u001b[1mwandb\u001b[0m: \tlearning_rate: 0.0001\n",
            "\u001b[34m\u001b[1mwandb\u001b[0m: \tnum_hid_layers: 5\n",
            "\u001b[34m\u001b[1mwandb\u001b[0m: \toptimizer: rmsprop\n",
            "\u001b[34m\u001b[1mwandb\u001b[0m: \tweight_init: xavier\n"
          ]
        },
        {
          "output_type": "display_data",
          "data": {
            "text/plain": [
              "<IPython.core.display.HTML object>"
            ],
            "text/html": [
              "Ignoring project 'Sweep Functionality' when running a sweep."
            ]
          },
          "metadata": {}
        },
        {
          "output_type": "display_data",
          "data": {
            "text/plain": [
              "<IPython.core.display.HTML object>"
            ],
            "text/html": [
              "Tracking run with wandb version 0.19.7"
            ]
          },
          "metadata": {}
        },
        {
          "output_type": "display_data",
          "data": {
            "text/plain": [
              "<IPython.core.display.HTML object>"
            ],
            "text/html": [
              "Run data is saved locally in <code>/content/wandb/run-20250310_074353-y1lwf8jd</code>"
            ]
          },
          "metadata": {}
        },
        {
          "output_type": "display_data",
          "data": {
            "text/plain": [
              "<IPython.core.display.HTML object>"
            ],
            "text/html": [
              "Syncing run <strong><a href='https://wandb.ai/yeshu183-indian-institute-of-technology-madras/Sweep%20Functionality/runs/y1lwf8jd' target=\"_blank\">jumping-sweep-15</a></strong> to <a href='https://wandb.ai/yeshu183-indian-institute-of-technology-madras/Sweep%20Functionality' target=\"_blank\">Weights & Biases</a> (<a href='https://wandb.me/developer-guide' target=\"_blank\">docs</a>)<br>Sweep page: <a href='https://wandb.ai/yeshu183-indian-institute-of-technology-madras/Sweep%20Functionality/sweeps/1875zz1k' target=\"_blank\">https://wandb.ai/yeshu183-indian-institute-of-technology-madras/Sweep%20Functionality/sweeps/1875zz1k</a>"
            ]
          },
          "metadata": {}
        },
        {
          "output_type": "display_data",
          "data": {
            "text/plain": [
              "<IPython.core.display.HTML object>"
            ],
            "text/html": [
              " View project at <a href='https://wandb.ai/yeshu183-indian-institute-of-technology-madras/Sweep%20Functionality' target=\"_blank\">https://wandb.ai/yeshu183-indian-institute-of-technology-madras/Sweep%20Functionality</a>"
            ]
          },
          "metadata": {}
        },
        {
          "output_type": "display_data",
          "data": {
            "text/plain": [
              "<IPython.core.display.HTML object>"
            ],
            "text/html": [
              " View sweep at <a href='https://wandb.ai/yeshu183-indian-institute-of-technology-madras/Sweep%20Functionality/sweeps/1875zz1k' target=\"_blank\">https://wandb.ai/yeshu183-indian-institute-of-technology-madras/Sweep%20Functionality/sweeps/1875zz1k</a>"
            ]
          },
          "metadata": {}
        },
        {
          "output_type": "display_data",
          "data": {
            "text/plain": [
              "<IPython.core.display.HTML object>"
            ],
            "text/html": [
              " View run at <a href='https://wandb.ai/yeshu183-indian-institute-of-technology-madras/Sweep%20Functionality/runs/y1lwf8jd' target=\"_blank\">https://wandb.ai/yeshu183-indian-institute-of-technology-madras/Sweep%20Functionality/runs/y1lwf8jd</a>"
            ]
          },
          "metadata": {}
        },
        {
          "output_type": "stream",
          "name": "stdout",
          "text": [
            "Epoch 1, Loss: 0.1027, Accuracy: 0.6665, Val Loss: 0.0572, Val Accuracy: 0.7957\n",
            "Epoch 2, Loss: 0.0520, Accuracy: 0.8152, Val Loss: 0.0480, Val Accuracy: 0.8293\n",
            "Epoch 3, Loss: 0.0461, Accuracy: 0.8348, Val Loss: 0.0451, Val Accuracy: 0.8385\n",
            "Epoch 4, Loss: 0.0430, Accuracy: 0.8469, Val Loss: 0.0435, Val Accuracy: 0.8427\n",
            "Epoch 5, Loss: 0.0408, Accuracy: 0.8544, Val Loss: 0.0412, Val Accuracy: 0.8520\n",
            "Validation Loss: 0.0412, Validation Accuracy: 0.8520\n"
          ]
        },
        {
          "output_type": "display_data",
          "data": {
            "text/plain": [
              "<IPython.core.display.HTML object>"
            ],
            "text/html": []
          },
          "metadata": {}
        },
        {
          "output_type": "display_data",
          "data": {
            "text/plain": [
              "<IPython.core.display.HTML object>"
            ],
            "text/html": [
              "<br>    <style><br>        .wandb-row {<br>            display: flex;<br>            flex-direction: row;<br>            flex-wrap: wrap;<br>            justify-content: flex-start;<br>            width: 100%;<br>        }<br>        .wandb-col {<br>            display: flex;<br>            flex-direction: column;<br>            flex-basis: 100%;<br>            flex: 1;<br>            padding: 10px;<br>        }<br>    </style><br><div class=\"wandb-row\"><div class=\"wandb-col\"><h3>Run history:</h3><br/><table class=\"wandb\"><tr><td>accuracy</td><td>▁▇▇██</td></tr><tr><td>epoch</td><td>▁▃▅▆█</td></tr><tr><td>loss</td><td>█▂▂▁▁</td></tr><tr><td>val_acc</td><td>▁</td></tr><tr><td>val_accuracy</td><td>▁▅▆▇█</td></tr><tr><td>val_loss</td><td>█▄▃▂▁▁</td></tr></table><br/></div><div class=\"wandb-col\"><h3>Run summary:</h3><br/><table class=\"wandb\"><tr><td>accuracy</td><td>0.85439</td></tr><tr><td>epoch</td><td>5</td></tr><tr><td>loss</td><td>0.04083</td></tr><tr><td>val_acc</td><td>0.852</td></tr><tr><td>val_accuracy</td><td>0.852</td></tr><tr><td>val_loss</td><td>0.04122</td></tr></table><br/></div></div>"
            ]
          },
          "metadata": {}
        },
        {
          "output_type": "display_data",
          "data": {
            "text/plain": [
              "<IPython.core.display.HTML object>"
            ],
            "text/html": [
              " View run <strong style=\"color:#cdcd00\">e_5_hl_5_opt_rmsprop_bs_32_init_xavier_ac_relu</strong> at: <a href='https://wandb.ai/yeshu183-indian-institute-of-technology-madras/Sweep%20Functionality/runs/y1lwf8jd' target=\"_blank\">https://wandb.ai/yeshu183-indian-institute-of-technology-madras/Sweep%20Functionality/runs/y1lwf8jd</a><br> View project at: <a href='https://wandb.ai/yeshu183-indian-institute-of-technology-madras/Sweep%20Functionality' target=\"_blank\">https://wandb.ai/yeshu183-indian-institute-of-technology-madras/Sweep%20Functionality</a><br>Synced 5 W&B file(s), 0 media file(s), 0 artifact file(s) and 0 other file(s)"
            ]
          },
          "metadata": {}
        },
        {
          "output_type": "display_data",
          "data": {
            "text/plain": [
              "<IPython.core.display.HTML object>"
            ],
            "text/html": [
              "Find logs at: <code>./wandb/run-20250310_074353-y1lwf8jd/logs</code>"
            ]
          },
          "metadata": {}
        },
        {
          "output_type": "stream",
          "name": "stderr",
          "text": [
            "\u001b[34m\u001b[1mwandb\u001b[0m: Agent Starting Run: wd3mzu2a with config:\n",
            "\u001b[34m\u001b[1mwandb\u001b[0m: \tactivation: relu\n",
            "\u001b[34m\u001b[1mwandb\u001b[0m: \tbatch_size: 16\n",
            "\u001b[34m\u001b[1mwandb\u001b[0m: \tepochs: 10\n",
            "\u001b[34m\u001b[1mwandb\u001b[0m: \thid_layer_size: 32\n",
            "\u001b[34m\u001b[1mwandb\u001b[0m: \tl2_reg: 0\n",
            "\u001b[34m\u001b[1mwandb\u001b[0m: \tlearning_rate: 0.001\n",
            "\u001b[34m\u001b[1mwandb\u001b[0m: \tnum_hid_layers: 3\n",
            "\u001b[34m\u001b[1mwandb\u001b[0m: \toptimizer: nesterov\n",
            "\u001b[34m\u001b[1mwandb\u001b[0m: \tweight_init: xavier\n"
          ]
        },
        {
          "output_type": "display_data",
          "data": {
            "text/plain": [
              "<IPython.core.display.HTML object>"
            ],
            "text/html": [
              "Ignoring project 'Sweep Functionality' when running a sweep."
            ]
          },
          "metadata": {}
        },
        {
          "output_type": "display_data",
          "data": {
            "text/plain": [
              "<IPython.core.display.HTML object>"
            ],
            "text/html": [
              "Tracking run with wandb version 0.19.7"
            ]
          },
          "metadata": {}
        },
        {
          "output_type": "display_data",
          "data": {
            "text/plain": [
              "<IPython.core.display.HTML object>"
            ],
            "text/html": [
              "Run data is saved locally in <code>/content/wandb/run-20250310_074429-wd3mzu2a</code>"
            ]
          },
          "metadata": {}
        },
        {
          "output_type": "display_data",
          "data": {
            "text/plain": [
              "<IPython.core.display.HTML object>"
            ],
            "text/html": [
              "Syncing run <strong><a href='https://wandb.ai/yeshu183-indian-institute-of-technology-madras/Sweep%20Functionality/runs/wd3mzu2a' target=\"_blank\">vague-sweep-16</a></strong> to <a href='https://wandb.ai/yeshu183-indian-institute-of-technology-madras/Sweep%20Functionality' target=\"_blank\">Weights & Biases</a> (<a href='https://wandb.me/developer-guide' target=\"_blank\">docs</a>)<br>Sweep page: <a href='https://wandb.ai/yeshu183-indian-institute-of-technology-madras/Sweep%20Functionality/sweeps/1875zz1k' target=\"_blank\">https://wandb.ai/yeshu183-indian-institute-of-technology-madras/Sweep%20Functionality/sweeps/1875zz1k</a>"
            ]
          },
          "metadata": {}
        },
        {
          "output_type": "display_data",
          "data": {
            "text/plain": [
              "<IPython.core.display.HTML object>"
            ],
            "text/html": [
              " View project at <a href='https://wandb.ai/yeshu183-indian-institute-of-technology-madras/Sweep%20Functionality' target=\"_blank\">https://wandb.ai/yeshu183-indian-institute-of-technology-madras/Sweep%20Functionality</a>"
            ]
          },
          "metadata": {}
        },
        {
          "output_type": "display_data",
          "data": {
            "text/plain": [
              "<IPython.core.display.HTML object>"
            ],
            "text/html": [
              " View sweep at <a href='https://wandb.ai/yeshu183-indian-institute-of-technology-madras/Sweep%20Functionality/sweeps/1875zz1k' target=\"_blank\">https://wandb.ai/yeshu183-indian-institute-of-technology-madras/Sweep%20Functionality/sweeps/1875zz1k</a>"
            ]
          },
          "metadata": {}
        },
        {
          "output_type": "display_data",
          "data": {
            "text/plain": [
              "<IPython.core.display.HTML object>"
            ],
            "text/html": [
              " View run at <a href='https://wandb.ai/yeshu183-indian-institute-of-technology-madras/Sweep%20Functionality/runs/wd3mzu2a' target=\"_blank\">https://wandb.ai/yeshu183-indian-institute-of-technology-madras/Sweep%20Functionality/runs/wd3mzu2a</a>"
            ]
          },
          "metadata": {}
        },
        {
          "output_type": "stream",
          "name": "stdout",
          "text": [
            "Epoch 1, Loss: 0.0896, Accuracy: 0.6745, Val Loss: 0.0530, Val Accuracy: 0.8152\n",
            "Epoch 2, Loss: 0.0510, Accuracy: 0.8183, Val Loss: 0.0459, Val Accuracy: 0.8422\n",
            "Epoch 3, Loss: 0.0458, Accuracy: 0.8375, Val Loss: 0.0437, Val Accuracy: 0.8448\n",
            "Epoch 4, Loss: 0.0424, Accuracy: 0.8479, Val Loss: 0.0429, Val Accuracy: 0.8472\n",
            "Epoch 5, Loss: 0.0406, Accuracy: 0.8543, Val Loss: 0.0406, Val Accuracy: 0.8538\n",
            "Epoch 6, Loss: 0.0389, Accuracy: 0.8599, Val Loss: 0.0406, Val Accuracy: 0.8550\n",
            "Epoch 7, Loss: 0.0377, Accuracy: 0.8646, Val Loss: 0.0386, Val Accuracy: 0.8628\n",
            "Epoch 8, Loss: 0.0366, Accuracy: 0.8681, Val Loss: 0.0373, Val Accuracy: 0.8607\n",
            "Epoch 9, Loss: 0.0357, Accuracy: 0.8703, Val Loss: 0.0376, Val Accuracy: 0.8642\n",
            "Epoch 10, Loss: 0.0348, Accuracy: 0.8738, Val Loss: 0.0389, Val Accuracy: 0.8590\n",
            "Validation Loss: 0.0389, Validation Accuracy: 0.8590\n"
          ]
        },
        {
          "output_type": "display_data",
          "data": {
            "text/plain": [
              "<IPython.core.display.HTML object>"
            ],
            "text/html": []
          },
          "metadata": {}
        },
        {
          "output_type": "display_data",
          "data": {
            "text/plain": [
              "<IPython.core.display.HTML object>"
            ],
            "text/html": [
              "<br>    <style><br>        .wandb-row {<br>            display: flex;<br>            flex-direction: row;<br>            flex-wrap: wrap;<br>            justify-content: flex-start;<br>            width: 100%;<br>        }<br>        .wandb-col {<br>            display: flex;<br>            flex-direction: column;<br>            flex-basis: 100%;<br>            flex: 1;<br>            padding: 10px;<br>        }<br>    </style><br><div class=\"wandb-row\"><div class=\"wandb-col\"><h3>Run history:</h3><br/><table class=\"wandb\"><tr><td>accuracy</td><td>▁▆▇▇▇█████</td></tr><tr><td>epoch</td><td>▁▂▃▃▄▅▆▆▇█</td></tr><tr><td>loss</td><td>█▃▂▂▂▂▁▁▁▁</td></tr><tr><td>val_acc</td><td>▁</td></tr><tr><td>val_accuracy</td><td>▁▅▅▆▇▇███▇</td></tr><tr><td>val_loss</td><td>█▅▄▃▂▂▂▁▁▂▂</td></tr></table><br/></div><div class=\"wandb-col\"><h3>Run summary:</h3><br/><table class=\"wandb\"><tr><td>accuracy</td><td>0.87381</td></tr><tr><td>epoch</td><td>10</td></tr><tr><td>loss</td><td>0.03482</td></tr><tr><td>val_acc</td><td>0.859</td></tr><tr><td>val_accuracy</td><td>0.859</td></tr><tr><td>val_loss</td><td>0.03893</td></tr></table><br/></div></div>"
            ]
          },
          "metadata": {}
        },
        {
          "output_type": "display_data",
          "data": {
            "text/plain": [
              "<IPython.core.display.HTML object>"
            ],
            "text/html": [
              " View run <strong style=\"color:#cdcd00\">e_10_hl_3_opt_nesterov_bs_16_init_xavier_ac_relu</strong> at: <a href='https://wandb.ai/yeshu183-indian-institute-of-technology-madras/Sweep%20Functionality/runs/wd3mzu2a' target=\"_blank\">https://wandb.ai/yeshu183-indian-institute-of-technology-madras/Sweep%20Functionality/runs/wd3mzu2a</a><br> View project at: <a href='https://wandb.ai/yeshu183-indian-institute-of-technology-madras/Sweep%20Functionality' target=\"_blank\">https://wandb.ai/yeshu183-indian-institute-of-technology-madras/Sweep%20Functionality</a><br>Synced 5 W&B file(s), 0 media file(s), 0 artifact file(s) and 0 other file(s)"
            ]
          },
          "metadata": {}
        },
        {
          "output_type": "display_data",
          "data": {
            "text/plain": [
              "<IPython.core.display.HTML object>"
            ],
            "text/html": [
              "Find logs at: <code>./wandb/run-20250310_074429-wd3mzu2a/logs</code>"
            ]
          },
          "metadata": {}
        },
        {
          "output_type": "stream",
          "name": "stderr",
          "text": [
            "\u001b[34m\u001b[1mwandb\u001b[0m: Sweep Agent: Waiting for job.\n",
            "\u001b[34m\u001b[1mwandb\u001b[0m: Job received.\n",
            "\u001b[34m\u001b[1mwandb\u001b[0m: Agent Starting Run: 9v176dlc with config:\n",
            "\u001b[34m\u001b[1mwandb\u001b[0m: \tactivation: relu\n",
            "\u001b[34m\u001b[1mwandb\u001b[0m: \tbatch_size: 16\n",
            "\u001b[34m\u001b[1mwandb\u001b[0m: \tepochs: 10\n",
            "\u001b[34m\u001b[1mwandb\u001b[0m: \thid_layer_size: 64\n",
            "\u001b[34m\u001b[1mwandb\u001b[0m: \tl2_reg: 0\n",
            "\u001b[34m\u001b[1mwandb\u001b[0m: \tlearning_rate: 0.001\n",
            "\u001b[34m\u001b[1mwandb\u001b[0m: \tnum_hid_layers: 4\n",
            "\u001b[34m\u001b[1mwandb\u001b[0m: \toptimizer: nadam\n",
            "\u001b[34m\u001b[1mwandb\u001b[0m: \tweight_init: xavier\n"
          ]
        },
        {
          "output_type": "display_data",
          "data": {
            "text/plain": [
              "<IPython.core.display.HTML object>"
            ],
            "text/html": [
              "Ignoring project 'Sweep Functionality' when running a sweep."
            ]
          },
          "metadata": {}
        },
        {
          "output_type": "display_data",
          "data": {
            "text/plain": [
              "<IPython.core.display.HTML object>"
            ],
            "text/html": [
              "Tracking run with wandb version 0.19.7"
            ]
          },
          "metadata": {}
        },
        {
          "output_type": "display_data",
          "data": {
            "text/plain": [
              "<IPython.core.display.HTML object>"
            ],
            "text/html": [
              "Run data is saved locally in <code>/content/wandb/run-20250310_074534-9v176dlc</code>"
            ]
          },
          "metadata": {}
        },
        {
          "output_type": "display_data",
          "data": {
            "text/plain": [
              "<IPython.core.display.HTML object>"
            ],
            "text/html": [
              "Syncing run <strong><a href='https://wandb.ai/yeshu183-indian-institute-of-technology-madras/Sweep%20Functionality/runs/9v176dlc' target=\"_blank\">wandering-sweep-17</a></strong> to <a href='https://wandb.ai/yeshu183-indian-institute-of-technology-madras/Sweep%20Functionality' target=\"_blank\">Weights & Biases</a> (<a href='https://wandb.me/developer-guide' target=\"_blank\">docs</a>)<br>Sweep page: <a href='https://wandb.ai/yeshu183-indian-institute-of-technology-madras/Sweep%20Functionality/sweeps/1875zz1k' target=\"_blank\">https://wandb.ai/yeshu183-indian-institute-of-technology-madras/Sweep%20Functionality/sweeps/1875zz1k</a>"
            ]
          },
          "metadata": {}
        },
        {
          "output_type": "display_data",
          "data": {
            "text/plain": [
              "<IPython.core.display.HTML object>"
            ],
            "text/html": [
              " View project at <a href='https://wandb.ai/yeshu183-indian-institute-of-technology-madras/Sweep%20Functionality' target=\"_blank\">https://wandb.ai/yeshu183-indian-institute-of-technology-madras/Sweep%20Functionality</a>"
            ]
          },
          "metadata": {}
        },
        {
          "output_type": "display_data",
          "data": {
            "text/plain": [
              "<IPython.core.display.HTML object>"
            ],
            "text/html": [
              " View sweep at <a href='https://wandb.ai/yeshu183-indian-institute-of-technology-madras/Sweep%20Functionality/sweeps/1875zz1k' target=\"_blank\">https://wandb.ai/yeshu183-indian-institute-of-technology-madras/Sweep%20Functionality/sweeps/1875zz1k</a>"
            ]
          },
          "metadata": {}
        },
        {
          "output_type": "display_data",
          "data": {
            "text/plain": [
              "<IPython.core.display.HTML object>"
            ],
            "text/html": [
              " View run at <a href='https://wandb.ai/yeshu183-indian-institute-of-technology-madras/Sweep%20Functionality/runs/9v176dlc' target=\"_blank\">https://wandb.ai/yeshu183-indian-institute-of-technology-madras/Sweep%20Functionality/runs/9v176dlc</a>"
            ]
          },
          "metadata": {}
        },
        {
          "output_type": "stream",
          "name": "stdout",
          "text": [
            "Epoch 1, Loss: 0.0495, Accuracy: 0.8176, Val Loss: 0.0391, Val Accuracy: 0.8548\n",
            "Epoch 2, Loss: 0.0383, Accuracy: 0.8585, Val Loss: 0.0365, Val Accuracy: 0.8647\n",
            "Epoch 3, Loss: 0.0349, Accuracy: 0.8714, Val Loss: 0.0359, Val Accuracy: 0.8697\n",
            "Epoch 4, Loss: 0.0330, Accuracy: 0.8785, Val Loss: 0.0361, Val Accuracy: 0.8678\n",
            "Epoch 5, Loss: 0.0315, Accuracy: 0.8833, Val Loss: 0.0342, Val Accuracy: 0.8733\n",
            "Epoch 6, Loss: 0.0302, Accuracy: 0.8882, Val Loss: 0.0333, Val Accuracy: 0.8765\n",
            "Epoch 7, Loss: 0.0292, Accuracy: 0.8910, Val Loss: 0.0334, Val Accuracy: 0.8762\n",
            "Epoch 8, Loss: 0.0283, Accuracy: 0.8939, Val Loss: 0.0354, Val Accuracy: 0.8763\n",
            "Epoch 9, Loss: 0.0277, Accuracy: 0.8963, Val Loss: 0.0329, Val Accuracy: 0.8822\n",
            "Epoch 10, Loss: 0.0268, Accuracy: 0.8979, Val Loss: 0.0338, Val Accuracy: 0.8785\n",
            "Validation Loss: 0.0338, Validation Accuracy: 0.8785\n"
          ]
        },
        {
          "output_type": "display_data",
          "data": {
            "text/plain": [
              "<IPython.core.display.HTML object>"
            ],
            "text/html": []
          },
          "metadata": {}
        },
        {
          "output_type": "display_data",
          "data": {
            "text/plain": [
              "<IPython.core.display.HTML object>"
            ],
            "text/html": [
              "<br>    <style><br>        .wandb-row {<br>            display: flex;<br>            flex-direction: row;<br>            flex-wrap: wrap;<br>            justify-content: flex-start;<br>            width: 100%;<br>        }<br>        .wandb-col {<br>            display: flex;<br>            flex-direction: column;<br>            flex-basis: 100%;<br>            flex: 1;<br>            padding: 10px;<br>        }<br>    </style><br><div class=\"wandb-row\"><div class=\"wandb-col\"><h3>Run history:</h3><br/><table class=\"wandb\"><tr><td>accuracy</td><td>▁▅▆▆▇▇▇███</td></tr><tr><td>epoch</td><td>▁▂▃▃▄▅▆▆▇█</td></tr><tr><td>loss</td><td>█▅▃▃▂▂▂▁▁▁</td></tr><tr><td>val_acc</td><td>▁</td></tr><tr><td>val_accuracy</td><td>▁▄▅▄▆▇▆▇█▇</td></tr><tr><td>val_loss</td><td>█▅▄▅▂▁▂▄▁▂▂</td></tr></table><br/></div><div class=\"wandb-col\"><h3>Run summary:</h3><br/><table class=\"wandb\"><tr><td>accuracy</td><td>0.89793</td></tr><tr><td>epoch</td><td>10</td></tr><tr><td>loss</td><td>0.02681</td></tr><tr><td>val_acc</td><td>0.8785</td></tr><tr><td>val_accuracy</td><td>0.8785</td></tr><tr><td>val_loss</td><td>0.03379</td></tr></table><br/></div></div>"
            ]
          },
          "metadata": {}
        },
        {
          "output_type": "display_data",
          "data": {
            "text/plain": [
              "<IPython.core.display.HTML object>"
            ],
            "text/html": [
              " View run <strong style=\"color:#cdcd00\">e_10_hl_4_opt_nadam_bs_16_init_xavier_ac_relu</strong> at: <a href='https://wandb.ai/yeshu183-indian-institute-of-technology-madras/Sweep%20Functionality/runs/9v176dlc' target=\"_blank\">https://wandb.ai/yeshu183-indian-institute-of-technology-madras/Sweep%20Functionality/runs/9v176dlc</a><br> View project at: <a href='https://wandb.ai/yeshu183-indian-institute-of-technology-madras/Sweep%20Functionality' target=\"_blank\">https://wandb.ai/yeshu183-indian-institute-of-technology-madras/Sweep%20Functionality</a><br>Synced 5 W&B file(s), 0 media file(s), 0 artifact file(s) and 0 other file(s)"
            ]
          },
          "metadata": {}
        },
        {
          "output_type": "display_data",
          "data": {
            "text/plain": [
              "<IPython.core.display.HTML object>"
            ],
            "text/html": [
              "Find logs at: <code>./wandb/run-20250310_074534-9v176dlc/logs</code>"
            ]
          },
          "metadata": {}
        },
        {
          "output_type": "stream",
          "name": "stderr",
          "text": [
            "\u001b[34m\u001b[1mwandb\u001b[0m: Agent Starting Run: wi6eyc09 with config:\n",
            "\u001b[34m\u001b[1mwandb\u001b[0m: \tactivation: relu\n",
            "\u001b[34m\u001b[1mwandb\u001b[0m: \tbatch_size: 16\n",
            "\u001b[34m\u001b[1mwandb\u001b[0m: \tepochs: 10\n",
            "\u001b[34m\u001b[1mwandb\u001b[0m: \thid_layer_size: 128\n",
            "\u001b[34m\u001b[1mwandb\u001b[0m: \tl2_reg: 0\n",
            "\u001b[34m\u001b[1mwandb\u001b[0m: \tlearning_rate: 0.0001\n",
            "\u001b[34m\u001b[1mwandb\u001b[0m: \tnum_hid_layers: 3\n",
            "\u001b[34m\u001b[1mwandb\u001b[0m: \toptimizer: nadam\n",
            "\u001b[34m\u001b[1mwandb\u001b[0m: \tweight_init: xavier\n"
          ]
        },
        {
          "output_type": "display_data",
          "data": {
            "text/plain": [
              "<IPython.core.display.HTML object>"
            ],
            "text/html": [
              "Ignoring project 'Sweep Functionality' when running a sweep."
            ]
          },
          "metadata": {}
        },
        {
          "output_type": "display_data",
          "data": {
            "text/plain": [
              "<IPython.core.display.HTML object>"
            ],
            "text/html": [
              "Tracking run with wandb version 0.19.7"
            ]
          },
          "metadata": {}
        },
        {
          "output_type": "display_data",
          "data": {
            "text/plain": [
              "<IPython.core.display.HTML object>"
            ],
            "text/html": [
              "Run data is saved locally in <code>/content/wandb/run-20250310_074901-wi6eyc09</code>"
            ]
          },
          "metadata": {}
        },
        {
          "output_type": "display_data",
          "data": {
            "text/plain": [
              "<IPython.core.display.HTML object>"
            ],
            "text/html": [
              "Syncing run <strong><a href='https://wandb.ai/yeshu183-indian-institute-of-technology-madras/Sweep%20Functionality/runs/wi6eyc09' target=\"_blank\">skilled-sweep-18</a></strong> to <a href='https://wandb.ai/yeshu183-indian-institute-of-technology-madras/Sweep%20Functionality' target=\"_blank\">Weights & Biases</a> (<a href='https://wandb.me/developer-guide' target=\"_blank\">docs</a>)<br>Sweep page: <a href='https://wandb.ai/yeshu183-indian-institute-of-technology-madras/Sweep%20Functionality/sweeps/1875zz1k' target=\"_blank\">https://wandb.ai/yeshu183-indian-institute-of-technology-madras/Sweep%20Functionality/sweeps/1875zz1k</a>"
            ]
          },
          "metadata": {}
        },
        {
          "output_type": "display_data",
          "data": {
            "text/plain": [
              "<IPython.core.display.HTML object>"
            ],
            "text/html": [
              " View project at <a href='https://wandb.ai/yeshu183-indian-institute-of-technology-madras/Sweep%20Functionality' target=\"_blank\">https://wandb.ai/yeshu183-indian-institute-of-technology-madras/Sweep%20Functionality</a>"
            ]
          },
          "metadata": {}
        },
        {
          "output_type": "display_data",
          "data": {
            "text/plain": [
              "<IPython.core.display.HTML object>"
            ],
            "text/html": [
              " View sweep at <a href='https://wandb.ai/yeshu183-indian-institute-of-technology-madras/Sweep%20Functionality/sweeps/1875zz1k' target=\"_blank\">https://wandb.ai/yeshu183-indian-institute-of-technology-madras/Sweep%20Functionality/sweeps/1875zz1k</a>"
            ]
          },
          "metadata": {}
        },
        {
          "output_type": "display_data",
          "data": {
            "text/plain": [
              "<IPython.core.display.HTML object>"
            ],
            "text/html": [
              " View run at <a href='https://wandb.ai/yeshu183-indian-institute-of-technology-madras/Sweep%20Functionality/runs/wi6eyc09' target=\"_blank\">https://wandb.ai/yeshu183-indian-institute-of-technology-madras/Sweep%20Functionality/runs/wi6eyc09</a>"
            ]
          },
          "metadata": {}
        },
        {
          "output_type": "stream",
          "name": "stdout",
          "text": [
            "Epoch 1, Loss: 0.0605, Accuracy: 0.7902, Val Loss: 0.0442, Val Accuracy: 0.8440\n",
            "Epoch 2, Loss: 0.0429, Accuracy: 0.8469, Val Loss: 0.0395, Val Accuracy: 0.8635\n",
            "Epoch 3, Loss: 0.0390, Accuracy: 0.8589, Val Loss: 0.0374, Val Accuracy: 0.8698\n",
            "Epoch 4, Loss: 0.0367, Accuracy: 0.8691, Val Loss: 0.0355, Val Accuracy: 0.8723\n",
            "Epoch 5, Loss: 0.0349, Accuracy: 0.8739, Val Loss: 0.0373, Val Accuracy: 0.8653\n",
            "Epoch 6, Loss: 0.0334, Accuracy: 0.8779, Val Loss: 0.0339, Val Accuracy: 0.8767\n",
            "Epoch 7, Loss: 0.0322, Accuracy: 0.8824, Val Loss: 0.0344, Val Accuracy: 0.8728\n",
            "Epoch 8, Loss: 0.0311, Accuracy: 0.8866, Val Loss: 0.0333, Val Accuracy: 0.8810\n",
            "Epoch 9, Loss: 0.0302, Accuracy: 0.8894, Val Loss: 0.0323, Val Accuracy: 0.8800\n",
            "Epoch 10, Loss: 0.0293, Accuracy: 0.8924, Val Loss: 0.0319, Val Accuracy: 0.8872\n",
            "Validation Loss: 0.0319, Validation Accuracy: 0.8872\n"
          ]
        },
        {
          "output_type": "display_data",
          "data": {
            "text/plain": [
              "<IPython.core.display.HTML object>"
            ],
            "text/html": []
          },
          "metadata": {}
        },
        {
          "output_type": "display_data",
          "data": {
            "text/plain": [
              "<IPython.core.display.HTML object>"
            ],
            "text/html": [
              "<br>    <style><br>        .wandb-row {<br>            display: flex;<br>            flex-direction: row;<br>            flex-wrap: wrap;<br>            justify-content: flex-start;<br>            width: 100%;<br>        }<br>        .wandb-col {<br>            display: flex;<br>            flex-direction: column;<br>            flex-basis: 100%;<br>            flex: 1;<br>            padding: 10px;<br>        }<br>    </style><br><div class=\"wandb-row\"><div class=\"wandb-col\"><h3>Run history:</h3><br/><table class=\"wandb\"><tr><td>accuracy</td><td>▁▅▆▆▇▇▇███</td></tr><tr><td>epoch</td><td>▁▂▃▃▄▅▆▆▇█</td></tr><tr><td>loss</td><td>█▄▃▃▂▂▂▁▁▁</td></tr><tr><td>val_acc</td><td>▁</td></tr><tr><td>val_accuracy</td><td>▁▄▅▆▄▆▆▇▇█</td></tr><tr><td>val_loss</td><td>█▅▄▃▄▂▂▂▁▁▁</td></tr></table><br/></div><div class=\"wandb-col\"><h3>Run summary:</h3><br/><table class=\"wandb\"><tr><td>accuracy</td><td>0.89244</td></tr><tr><td>epoch</td><td>10</td></tr><tr><td>loss</td><td>0.02931</td></tr><tr><td>val_acc</td><td>0.88717</td></tr><tr><td>val_accuracy</td><td>0.88717</td></tr><tr><td>val_loss</td><td>0.03194</td></tr></table><br/></div></div>"
            ]
          },
          "metadata": {}
        },
        {
          "output_type": "display_data",
          "data": {
            "text/plain": [
              "<IPython.core.display.HTML object>"
            ],
            "text/html": [
              " View run <strong style=\"color:#cdcd00\">e_10_hl_3_opt_nadam_bs_16_init_xavier_ac_relu</strong> at: <a href='https://wandb.ai/yeshu183-indian-institute-of-technology-madras/Sweep%20Functionality/runs/wi6eyc09' target=\"_blank\">https://wandb.ai/yeshu183-indian-institute-of-technology-madras/Sweep%20Functionality/runs/wi6eyc09</a><br> View project at: <a href='https://wandb.ai/yeshu183-indian-institute-of-technology-madras/Sweep%20Functionality' target=\"_blank\">https://wandb.ai/yeshu183-indian-institute-of-technology-madras/Sweep%20Functionality</a><br>Synced 5 W&B file(s), 0 media file(s), 0 artifact file(s) and 0 other file(s)"
            ]
          },
          "metadata": {}
        },
        {
          "output_type": "display_data",
          "data": {
            "text/plain": [
              "<IPython.core.display.HTML object>"
            ],
            "text/html": [
              "Find logs at: <code>./wandb/run-20250310_074901-wi6eyc09/logs</code>"
            ]
          },
          "metadata": {}
        },
        {
          "output_type": "stream",
          "name": "stderr",
          "text": [
            "\u001b[34m\u001b[1mwandb\u001b[0m: Agent Starting Run: eo35btee with config:\n",
            "\u001b[34m\u001b[1mwandb\u001b[0m: \tactivation: relu\n",
            "\u001b[34m\u001b[1mwandb\u001b[0m: \tbatch_size: 16\n",
            "\u001b[34m\u001b[1mwandb\u001b[0m: \tepochs: 5\n",
            "\u001b[34m\u001b[1mwandb\u001b[0m: \thid_layer_size: 128\n",
            "\u001b[34m\u001b[1mwandb\u001b[0m: \tl2_reg: 0\n",
            "\u001b[34m\u001b[1mwandb\u001b[0m: \tlearning_rate: 0.0001\n",
            "\u001b[34m\u001b[1mwandb\u001b[0m: \tnum_hid_layers: 4\n",
            "\u001b[34m\u001b[1mwandb\u001b[0m: \toptimizer: nadam\n",
            "\u001b[34m\u001b[1mwandb\u001b[0m: \tweight_init: xavier\n"
          ]
        },
        {
          "output_type": "display_data",
          "data": {
            "text/plain": [
              "<IPython.core.display.HTML object>"
            ],
            "text/html": [
              "Ignoring project 'Sweep Functionality' when running a sweep."
            ]
          },
          "metadata": {}
        },
        {
          "output_type": "display_data",
          "data": {
            "text/plain": [
              "<IPython.core.display.HTML object>"
            ],
            "text/html": [
              "Tracking run with wandb version 0.19.7"
            ]
          },
          "metadata": {}
        },
        {
          "output_type": "display_data",
          "data": {
            "text/plain": [
              "<IPython.core.display.HTML object>"
            ],
            "text/html": [
              "Run data is saved locally in <code>/content/wandb/run-20250310_075343-eo35btee</code>"
            ]
          },
          "metadata": {}
        },
        {
          "output_type": "display_data",
          "data": {
            "text/plain": [
              "<IPython.core.display.HTML object>"
            ],
            "text/html": [
              "Syncing run <strong><a href='https://wandb.ai/yeshu183-indian-institute-of-technology-madras/Sweep%20Functionality/runs/eo35btee' target=\"_blank\">logical-sweep-19</a></strong> to <a href='https://wandb.ai/yeshu183-indian-institute-of-technology-madras/Sweep%20Functionality' target=\"_blank\">Weights & Biases</a> (<a href='https://wandb.me/developer-guide' target=\"_blank\">docs</a>)<br>Sweep page: <a href='https://wandb.ai/yeshu183-indian-institute-of-technology-madras/Sweep%20Functionality/sweeps/1875zz1k' target=\"_blank\">https://wandb.ai/yeshu183-indian-institute-of-technology-madras/Sweep%20Functionality/sweeps/1875zz1k</a>"
            ]
          },
          "metadata": {}
        },
        {
          "output_type": "display_data",
          "data": {
            "text/plain": [
              "<IPython.core.display.HTML object>"
            ],
            "text/html": [
              " View project at <a href='https://wandb.ai/yeshu183-indian-institute-of-technology-madras/Sweep%20Functionality' target=\"_blank\">https://wandb.ai/yeshu183-indian-institute-of-technology-madras/Sweep%20Functionality</a>"
            ]
          },
          "metadata": {}
        },
        {
          "output_type": "display_data",
          "data": {
            "text/plain": [
              "<IPython.core.display.HTML object>"
            ],
            "text/html": [
              " View sweep at <a href='https://wandb.ai/yeshu183-indian-institute-of-technology-madras/Sweep%20Functionality/sweeps/1875zz1k' target=\"_blank\">https://wandb.ai/yeshu183-indian-institute-of-technology-madras/Sweep%20Functionality/sweeps/1875zz1k</a>"
            ]
          },
          "metadata": {}
        },
        {
          "output_type": "display_data",
          "data": {
            "text/plain": [
              "<IPython.core.display.HTML object>"
            ],
            "text/html": [
              " View run at <a href='https://wandb.ai/yeshu183-indian-institute-of-technology-madras/Sweep%20Functionality/runs/eo35btee' target=\"_blank\">https://wandb.ai/yeshu183-indian-institute-of-technology-madras/Sweep%20Functionality/runs/eo35btee</a>"
            ]
          },
          "metadata": {}
        },
        {
          "output_type": "stream",
          "name": "stdout",
          "text": [
            "Epoch 1, Loss: 0.0593, Accuracy: 0.7875, Val Loss: 0.0439, Val Accuracy: 0.8422\n",
            "Epoch 2, Loss: 0.0423, Accuracy: 0.8474, Val Loss: 0.0407, Val Accuracy: 0.8568\n",
            "Epoch 3, Loss: 0.0387, Accuracy: 0.8591, Val Loss: 0.0378, Val Accuracy: 0.8628\n",
            "Epoch 4, Loss: 0.0363, Accuracy: 0.8679, Val Loss: 0.0364, Val Accuracy: 0.8658\n",
            "Epoch 5, Loss: 0.0345, Accuracy: 0.8732, Val Loss: 0.0346, Val Accuracy: 0.8737\n",
            "Validation Loss: 0.0346, Validation Accuracy: 0.8737\n"
          ]
        },
        {
          "output_type": "display_data",
          "data": {
            "text/plain": [
              "<IPython.core.display.HTML object>"
            ],
            "text/html": []
          },
          "metadata": {}
        },
        {
          "output_type": "display_data",
          "data": {
            "text/plain": [
              "<IPython.core.display.HTML object>"
            ],
            "text/html": [
              "<br>    <style><br>        .wandb-row {<br>            display: flex;<br>            flex-direction: row;<br>            flex-wrap: wrap;<br>            justify-content: flex-start;<br>            width: 100%;<br>        }<br>        .wandb-col {<br>            display: flex;<br>            flex-direction: column;<br>            flex-basis: 100%;<br>            flex: 1;<br>            padding: 10px;<br>        }<br>    </style><br><div class=\"wandb-row\"><div class=\"wandb-col\"><h3>Run history:</h3><br/><table class=\"wandb\"><tr><td>accuracy</td><td>▁▆▇██</td></tr><tr><td>epoch</td><td>▁▃▅▆█</td></tr><tr><td>loss</td><td>█▃▂▂▁</td></tr><tr><td>val_acc</td><td>▁</td></tr><tr><td>val_accuracy</td><td>▁▄▆▆█</td></tr><tr><td>val_loss</td><td>█▆▃▂▁▁</td></tr></table><br/></div><div class=\"wandb-col\"><h3>Run summary:</h3><br/><table class=\"wandb\"><tr><td>accuracy</td><td>0.87324</td></tr><tr><td>epoch</td><td>5</td></tr><tr><td>loss</td><td>0.03449</td></tr><tr><td>val_acc</td><td>0.87367</td></tr><tr><td>val_accuracy</td><td>0.87367</td></tr><tr><td>val_loss</td><td>0.03458</td></tr></table><br/></div></div>"
            ]
          },
          "metadata": {}
        },
        {
          "output_type": "display_data",
          "data": {
            "text/plain": [
              "<IPython.core.display.HTML object>"
            ],
            "text/html": [
              " View run <strong style=\"color:#cdcd00\">e_5_hl_4_opt_nadam_bs_16_init_xavier_ac_relu</strong> at: <a href='https://wandb.ai/yeshu183-indian-institute-of-technology-madras/Sweep%20Functionality/runs/eo35btee' target=\"_blank\">https://wandb.ai/yeshu183-indian-institute-of-technology-madras/Sweep%20Functionality/runs/eo35btee</a><br> View project at: <a href='https://wandb.ai/yeshu183-indian-institute-of-technology-madras/Sweep%20Functionality' target=\"_blank\">https://wandb.ai/yeshu183-indian-institute-of-technology-madras/Sweep%20Functionality</a><br>Synced 5 W&B file(s), 0 media file(s), 0 artifact file(s) and 0 other file(s)"
            ]
          },
          "metadata": {}
        },
        {
          "output_type": "display_data",
          "data": {
            "text/plain": [
              "<IPython.core.display.HTML object>"
            ],
            "text/html": [
              "Find logs at: <code>./wandb/run-20250310_075343-eo35btee/logs</code>"
            ]
          },
          "metadata": {}
        },
        {
          "output_type": "stream",
          "name": "stderr",
          "text": [
            "\u001b[34m\u001b[1mwandb\u001b[0m: Agent Starting Run: zxlnoz4f with config:\n",
            "\u001b[34m\u001b[1mwandb\u001b[0m: \tactivation: relu\n",
            "\u001b[34m\u001b[1mwandb\u001b[0m: \tbatch_size: 16\n",
            "\u001b[34m\u001b[1mwandb\u001b[0m: \tepochs: 5\n",
            "\u001b[34m\u001b[1mwandb\u001b[0m: \thid_layer_size: 128\n",
            "\u001b[34m\u001b[1mwandb\u001b[0m: \tl2_reg: 0\n",
            "\u001b[34m\u001b[1mwandb\u001b[0m: \tlearning_rate: 0.001\n",
            "\u001b[34m\u001b[1mwandb\u001b[0m: \tnum_hid_layers: 4\n",
            "\u001b[34m\u001b[1mwandb\u001b[0m: \toptimizer: adam\n",
            "\u001b[34m\u001b[1mwandb\u001b[0m: \tweight_init: xavier\n"
          ]
        },
        {
          "output_type": "display_data",
          "data": {
            "text/plain": [
              "<IPython.core.display.HTML object>"
            ],
            "text/html": [
              "Ignoring project 'Sweep Functionality' when running a sweep."
            ]
          },
          "metadata": {}
        },
        {
          "output_type": "display_data",
          "data": {
            "text/plain": [
              "<IPython.core.display.HTML object>"
            ],
            "text/html": [
              "Tracking run with wandb version 0.19.7"
            ]
          },
          "metadata": {}
        },
        {
          "output_type": "display_data",
          "data": {
            "text/plain": [
              "<IPython.core.display.HTML object>"
            ],
            "text/html": [
              "Run data is saved locally in <code>/content/wandb/run-20250310_075614-zxlnoz4f</code>"
            ]
          },
          "metadata": {}
        },
        {
          "output_type": "display_data",
          "data": {
            "text/plain": [
              "<IPython.core.display.HTML object>"
            ],
            "text/html": [
              "Syncing run <strong><a href='https://wandb.ai/yeshu183-indian-institute-of-technology-madras/Sweep%20Functionality/runs/zxlnoz4f' target=\"_blank\">neat-sweep-20</a></strong> to <a href='https://wandb.ai/yeshu183-indian-institute-of-technology-madras/Sweep%20Functionality' target=\"_blank\">Weights & Biases</a> (<a href='https://wandb.me/developer-guide' target=\"_blank\">docs</a>)<br>Sweep page: <a href='https://wandb.ai/yeshu183-indian-institute-of-technology-madras/Sweep%20Functionality/sweeps/1875zz1k' target=\"_blank\">https://wandb.ai/yeshu183-indian-institute-of-technology-madras/Sweep%20Functionality/sweeps/1875zz1k</a>"
            ]
          },
          "metadata": {}
        },
        {
          "output_type": "display_data",
          "data": {
            "text/plain": [
              "<IPython.core.display.HTML object>"
            ],
            "text/html": [
              " View project at <a href='https://wandb.ai/yeshu183-indian-institute-of-technology-madras/Sweep%20Functionality' target=\"_blank\">https://wandb.ai/yeshu183-indian-institute-of-technology-madras/Sweep%20Functionality</a>"
            ]
          },
          "metadata": {}
        },
        {
          "output_type": "display_data",
          "data": {
            "text/plain": [
              "<IPython.core.display.HTML object>"
            ],
            "text/html": [
              " View sweep at <a href='https://wandb.ai/yeshu183-indian-institute-of-technology-madras/Sweep%20Functionality/sweeps/1875zz1k' target=\"_blank\">https://wandb.ai/yeshu183-indian-institute-of-technology-madras/Sweep%20Functionality/sweeps/1875zz1k</a>"
            ]
          },
          "metadata": {}
        },
        {
          "output_type": "display_data",
          "data": {
            "text/plain": [
              "<IPython.core.display.HTML object>"
            ],
            "text/html": [
              " View run at <a href='https://wandb.ai/yeshu183-indian-institute-of-technology-madras/Sweep%20Functionality/runs/zxlnoz4f' target=\"_blank\">https://wandb.ai/yeshu183-indian-institute-of-technology-madras/Sweep%20Functionality/runs/zxlnoz4f</a>"
            ]
          },
          "metadata": {}
        },
        {
          "output_type": "stream",
          "name": "stdout",
          "text": [
            "Epoch 1, Loss: 0.0502, Accuracy: 0.8151, Val Loss: 0.0407, Val Accuracy: 0.8510\n",
            "Epoch 2, Loss: 0.0372, Accuracy: 0.8640, Val Loss: 0.0395, Val Accuracy: 0.8585\n",
            "Epoch 3, Loss: 0.0341, Accuracy: 0.8757, Val Loss: 0.0362, Val Accuracy: 0.8702\n",
            "Epoch 4, Loss: 0.0319, Accuracy: 0.8821, Val Loss: 0.0354, Val Accuracy: 0.8722\n",
            "Epoch 5, Loss: 0.0307, Accuracy: 0.8875, Val Loss: 0.0333, Val Accuracy: 0.8852\n",
            "Validation Loss: 0.0333, Validation Accuracy: 0.8852\n"
          ]
        },
        {
          "output_type": "display_data",
          "data": {
            "text/plain": [
              "<IPython.core.display.HTML object>"
            ],
            "text/html": []
          },
          "metadata": {}
        },
        {
          "output_type": "display_data",
          "data": {
            "text/plain": [
              "<IPython.core.display.HTML object>"
            ],
            "text/html": [
              "<br>    <style><br>        .wandb-row {<br>            display: flex;<br>            flex-direction: row;<br>            flex-wrap: wrap;<br>            justify-content: flex-start;<br>            width: 100%;<br>        }<br>        .wandb-col {<br>            display: flex;<br>            flex-direction: column;<br>            flex-basis: 100%;<br>            flex: 1;<br>            padding: 10px;<br>        }<br>    </style><br><div class=\"wandb-row\"><div class=\"wandb-col\"><h3>Run history:</h3><br/><table class=\"wandb\"><tr><td>accuracy</td><td>▁▆▇▇█</td></tr><tr><td>epoch</td><td>▁▃▅▆█</td></tr><tr><td>loss</td><td>█▃▂▁▁</td></tr><tr><td>val_acc</td><td>▁</td></tr><tr><td>val_accuracy</td><td>▁▃▅▅█</td></tr><tr><td>val_loss</td><td>█▇▄▃▁▁</td></tr></table><br/></div><div class=\"wandb-col\"><h3>Run summary:</h3><br/><table class=\"wandb\"><tr><td>accuracy</td><td>0.8875</td></tr><tr><td>epoch</td><td>5</td></tr><tr><td>loss</td><td>0.03073</td></tr><tr><td>val_acc</td><td>0.88517</td></tr><tr><td>val_accuracy</td><td>0.88517</td></tr><tr><td>val_loss</td><td>0.0333</td></tr></table><br/></div></div>"
            ]
          },
          "metadata": {}
        },
        {
          "output_type": "display_data",
          "data": {
            "text/plain": [
              "<IPython.core.display.HTML object>"
            ],
            "text/html": [
              " View run <strong style=\"color:#cdcd00\">e_5_hl_4_opt_adam_bs_16_init_xavier_ac_relu</strong> at: <a href='https://wandb.ai/yeshu183-indian-institute-of-technology-madras/Sweep%20Functionality/runs/zxlnoz4f' target=\"_blank\">https://wandb.ai/yeshu183-indian-institute-of-technology-madras/Sweep%20Functionality/runs/zxlnoz4f</a><br> View project at: <a href='https://wandb.ai/yeshu183-indian-institute-of-technology-madras/Sweep%20Functionality' target=\"_blank\">https://wandb.ai/yeshu183-indian-institute-of-technology-madras/Sweep%20Functionality</a><br>Synced 5 W&B file(s), 0 media file(s), 0 artifact file(s) and 0 other file(s)"
            ]
          },
          "metadata": {}
        },
        {
          "output_type": "display_data",
          "data": {
            "text/plain": [
              "<IPython.core.display.HTML object>"
            ],
            "text/html": [
              "Find logs at: <code>./wandb/run-20250310_075614-zxlnoz4f/logs</code>"
            ]
          },
          "metadata": {}
        }
      ]
    },
    {
      "cell_type": "code",
      "source": [
        "#wandb.agent(sweep_id, function=train_sweep, count=5)\n",
        "wandb.finish()"
      ],
      "metadata": {
        "id": "MTXUca7lmFYY"
      },
      "execution_count": 9,
      "outputs": []
    },
    {
      "cell_type": "code",
      "source": [],
      "metadata": {
        "id": "zfmt5j4iNdhU"
      },
      "execution_count": null,
      "outputs": []
    }
  ],
  "metadata": {
    "kernelspec": {
      "display_name": "Python 3",
      "language": "python",
      "name": "python3"
    },
    "language_info": {
      "codemirror_mode": {
        "name": "ipython",
        "version": 3
      },
      "file_extension": ".py",
      "mimetype": "text/x-python",
      "name": "python",
      "nbconvert_exporter": "python",
      "pygments_lexer": "ipython3",
      "version": "3.12.2"
    },
    "colab": {
      "provenance": []
    }
  },
  "nbformat": 4,
  "nbformat_minor": 0
}