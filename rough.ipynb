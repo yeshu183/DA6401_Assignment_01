{
  "cells": [
    {
      "cell_type": "code",
      "execution_count": 1,
      "metadata": {
        "id": "D7dFAzFKwtEk"
      },
      "outputs": [],
      "source": [
        "import numpy as np\n",
        "import pandas as pd\n",
        "import matplotlib.pyplot as plt\n",
        "import seaborn as sns"
      ]
    },
    {
      "cell_type": "code",
      "execution_count": 2,
      "metadata": {
        "id": "qNWvgxdOwtEo"
      },
      "outputs": [],
      "source": [
        "import wandb\n",
        "from keras.datasets import fashion_mnist\n",
        "from PIL import Image"
      ]
    },
    {
      "cell_type": "markdown",
      "source": [
        "## Question-01"
      ],
      "metadata": {
        "id": "2IdpS6KYl_a5"
      }
    },
    {
      "cell_type": "code",
      "source": [
        "# Initialize wandb\n",
        "wandb.init(project=\"fashion-mnist-classes\")\n",
        "\n",
        "# Load dataset\n",
        "(x_train, y_train), (x_test, y_test) = fashion_mnist.load_data()\n",
        "\n",
        "# Class labels in Fashion-MNIST\n",
        "class_labels = [\n",
        "    \"T-shirt/top\", \"Trouser\", \"Pullover\", \"Dress\", \"Coat\",\n",
        "    \"Sandal\", \"Shirt\", \"Sneaker\", \"Bag\", \"Ankle_boot\"\n",
        "]\n",
        "plt.figure(figsize=[12, 5])\n",
        "\n",
        "# Select one image per class\n",
        "sample_images = {}\n",
        "st = set()\n",
        "for x,y in zip(x_train,y_train):\n",
        "    if y in st:\n",
        "      continue\n",
        "    else:\n",
        "      st.add(y)\n",
        "      sample_images[class_labels[y]] = wandb.Image(x)\n",
        "      plt.subplot(2, 5, y+1)\n",
        "      plt.imshow(x, cmap='gray')\n",
        "      plt.axis('off')\n",
        "      plt.title(class_labels[y])\n",
        "\n",
        "# Log images to wandb\n",
        "wandb.log({\"fashion-mnist-classes\": [wandb.Image(img,caption=caption) for caption,img in sample_images.items()]})\n",
        "\n",
        "# Finish wandb run API Key: f659082c2b19bf3ffaaceceb36c1e280541f6b11\n",
        "wandb.finish()"
      ],
      "metadata": {
        "colab": {
          "base_uri": "https://localhost:8080/",
          "height": 640
        },
        "id": "plQ2XOQcawb-",
        "outputId": "0468283d-ccf6-4de8-ae92-aa54189d1748"
      },
      "execution_count": 3,
      "outputs": [
        {
          "output_type": "stream",
          "name": "stderr",
          "text": [
            "\u001b[34m\u001b[1mwandb\u001b[0m: Using wandb-core as the SDK backend.  Please refer to https://wandb.me/wandb-core for more information.\n",
            "\u001b[34m\u001b[1mwandb\u001b[0m: Currently logged in as: \u001b[33myeshu183\u001b[0m (\u001b[33myeshu183-indian-institute-of-technology-madras\u001b[0m) to \u001b[32mhttps://api.wandb.ai\u001b[0m. Use \u001b[1m`wandb login --relogin`\u001b[0m to force relogin\n"
          ]
        },
        {
          "output_type": "display_data",
          "data": {
            "text/plain": [
              "<IPython.core.display.HTML object>"
            ],
            "text/html": [
              "Tracking run with wandb version 0.19.7"
            ]
          },
          "metadata": {}
        },
        {
          "output_type": "display_data",
          "data": {
            "text/plain": [
              "<IPython.core.display.HTML object>"
            ],
            "text/html": [
              "Run data is saved locally in <code>/content/wandb/run-20250309_185221-fdka7b4j</code>"
            ]
          },
          "metadata": {}
        },
        {
          "output_type": "display_data",
          "data": {
            "text/plain": [
              "<IPython.core.display.HTML object>"
            ],
            "text/html": [
              "Syncing run <strong><a href='https://wandb.ai/yeshu183-indian-institute-of-technology-madras/fashion-mnist-classes/runs/fdka7b4j' target=\"_blank\">cerulean-lake-15</a></strong> to <a href='https://wandb.ai/yeshu183-indian-institute-of-technology-madras/fashion-mnist-classes' target=\"_blank\">Weights & Biases</a> (<a href='https://wandb.me/developer-guide' target=\"_blank\">docs</a>)<br>"
            ]
          },
          "metadata": {}
        },
        {
          "output_type": "display_data",
          "data": {
            "text/plain": [
              "<IPython.core.display.HTML object>"
            ],
            "text/html": [
              " View project at <a href='https://wandb.ai/yeshu183-indian-institute-of-technology-madras/fashion-mnist-classes' target=\"_blank\">https://wandb.ai/yeshu183-indian-institute-of-technology-madras/fashion-mnist-classes</a>"
            ]
          },
          "metadata": {}
        },
        {
          "output_type": "display_data",
          "data": {
            "text/plain": [
              "<IPython.core.display.HTML object>"
            ],
            "text/html": [
              " View run at <a href='https://wandb.ai/yeshu183-indian-institute-of-technology-madras/fashion-mnist-classes/runs/fdka7b4j' target=\"_blank\">https://wandb.ai/yeshu183-indian-institute-of-technology-madras/fashion-mnist-classes/runs/fdka7b4j</a>"
            ]
          },
          "metadata": {}
        },
        {
          "output_type": "display_data",
          "data": {
            "text/plain": [
              "<IPython.core.display.HTML object>"
            ],
            "text/html": []
          },
          "metadata": {}
        },
        {
          "output_type": "display_data",
          "data": {
            "text/plain": [
              "<IPython.core.display.HTML object>"
            ],
            "text/html": [
              " View run <strong style=\"color:#cdcd00\">cerulean-lake-15</strong> at: <a href='https://wandb.ai/yeshu183-indian-institute-of-technology-madras/fashion-mnist-classes/runs/fdka7b4j' target=\"_blank\">https://wandb.ai/yeshu183-indian-institute-of-technology-madras/fashion-mnist-classes/runs/fdka7b4j</a><br> View project at: <a href='https://wandb.ai/yeshu183-indian-institute-of-technology-madras/fashion-mnist-classes' target=\"_blank\">https://wandb.ai/yeshu183-indian-institute-of-technology-madras/fashion-mnist-classes</a><br>Synced 5 W&B file(s), 10 media file(s), 0 artifact file(s) and 0 other file(s)"
            ]
          },
          "metadata": {}
        },
        {
          "output_type": "display_data",
          "data": {
            "text/plain": [
              "<IPython.core.display.HTML object>"
            ],
            "text/html": [
              "Find logs at: <code>./wandb/run-20250309_185221-fdka7b4j/logs</code>"
            ]
          },
          "metadata": {}
        },
        {
          "output_type": "display_data",
          "data": {
            "text/plain": [
              "<Figure size 1200x500 with 10 Axes>"
            ],
            "image/png": "[encoded data removed]"
          },
          "metadata": {}
        }
      ]
    },
    {
      "cell_type": "markdown",
      "source": [
        "##Question-02"
      ],
      "metadata": {
        "id": "Rx-ywI4umG4_"
      }
    },
    {
      "cell_type": "code",
      "source": [
        "(x_train, y_train), (x_test, y_test) = fashion_mnist.load_data()\n",
        "# Split validation set (10% of training data)\n",
        "val_size = int(0.1 * len(x_train))\n",
        "x_val, y_val = x_train[:val_size], y_train[:val_size]\n",
        "x_train, y_train = x_train[val_size:], y_train[val_size:]\n",
        "\n",
        "# Normalize inputs\n",
        "x_train = x_train.reshape(x_train.shape[0], -1) / 255.0\n",
        "x_val = x_val.reshape(x_val.shape[0], -1) / 255.0\n",
        "x_test = x_test.reshape(x_test.shape[0], -1) / 255.0\n",
        "\n",
        "# One-hot encoding of labels\n",
        "def one_hot_encode(y, num_classes=10):\n",
        "    return np.eye(num_classes)[y]\n",
        "\n",
        "y_train = one_hot_encode(y_train)\n",
        "y_val = one_hot_encode(y_val)\n",
        "y_test = one_hot_encode(y_test)"
      ],
      "metadata": {
        "colab": {
          "base_uri": "https://localhost:8080/"
        },
        "id": "8Maj3AkbdfNm",
        "outputId": "ddf3fce7-56c0-4984-8d84-2969f94d6ddc"
      },
      "execution_count": 3,
      "outputs": [
        {
          "output_type": "stream",
          "name": "stdout",
          "text": [
            "Downloading data from https://storage.googleapis.com/tensorflow/tf-keras-datasets/train-labels-idx1-ubyte.gz\n",
            "\u001b[1m29515/29515\u001b[0m \u001b[32m━━━━━━━━━━━━━━━━━━━━\u001b[0m\u001b[37m\u001b[0m \u001b[1m0s\u001b[0m 0us/step\n",
            "Downloading data from https://storage.googleapis.com/tensorflow/tf-keras-datasets/train-images-idx3-ubyte.gz\n",
            "\u001b[1m26421880/26421880\u001b[0m \u001b[32m━━━━━━━━━━━━━━━━━━━━\u001b[0m\u001b[37m\u001b[0m \u001b[1m0s\u001b[0m 0us/step\n",
            "Downloading data from https://storage.googleapis.com/tensorflow/tf-keras-datasets/t10k-labels-idx1-ubyte.gz\n",
            "\u001b[1m5148/5148\u001b[0m \u001b[32m━━━━━━━━━━━━━━━━━━━━\u001b[0m\u001b[37m\u001b[0m \u001b[1m0s\u001b[0m 0us/step\n",
            "Downloading data from https://storage.googleapis.com/tensorflow/tf-keras-datasets/t10k-images-idx3-ubyte.gz\n",
            "\u001b[1m4422102/4422102\u001b[0m \u001b[32m━━━━━━━━━━━━━━━━━━━━\u001b[0m\u001b[37m\u001b[0m \u001b[1m0s\u001b[0m 0us/step\n"
          ]
        }
      ]
    },
    {
      "cell_type": "code",
      "source": [
        "wandb.finish()"
      ],
      "metadata": {
        "id": "w3WMcgU6jmrb"
      },
      "execution_count": 5,
      "outputs": []
    },
    {
      "cell_type": "code",
      "source": [
        "import numpy as np\n",
        "\n",
        "class Optimizers:\n",
        "    def __init__(self, lr=1e-3, epsilon=1e-8):\n",
        "        self.lr = lr\n",
        "        self.epsilon = epsilon  # Small value to prevent division by zero\n",
        "\n",
        "        # Initialize state dictionaries\n",
        "        self.v = {}  # Velocity (for momentum, NAG)\n",
        "        self.s = {}  # Squared gradients (for RMSprop, Adam, Nadam)\n",
        "        self.m = {}  # First moment (for Adam/Nadam)\n",
        "        self.t = 0   # Time step (for Adam/Nadam)\n",
        "\n",
        "    def _initialize_params(self, w_key):\n",
        "        \"\"\"Initialize optimizer states for a given parameter key\"\"\"\n",
        "        if w_key not in self.v:\n",
        "            self.v[w_key] = np.zeros_like(w_key)\n",
        "            self.s[w_key] = np.zeros_like(w_key)\n",
        "            self.m[w_key] = np.zeros_like(w_key)\n",
        "\n",
        "    def sgd(self, w, b, dw, db):\n",
        "        \"\"\"Vanilla Stochastic Gradient Descent\"\"\"\n",
        "        w -= self.lr * dw\n",
        "        b -= self.lr * db\n",
        "        return w, b\n",
        "\n",
        "    def momentum(self, w, b, dw, db, key=\"w\", beta1=0.9):\n",
        "        \"\"\"Momentum-based Gradient Descent\"\"\"\n",
        "        self._initialize_params(key)\n",
        "        self.v[key] = beta1 * self.v[key] - self.lr * dw\n",
        "        w += self.v[key]\n",
        "        b -= self.lr * db\n",
        "        return w, b\n",
        "\n",
        "    def nesterov(self, w, b, dw, db, key=\"w\", beta1=0.9):\n",
        "        \"\"\"Nesterov Accelerated Gradient (NAG)\"\"\"\n",
        "        self._initialize_params(key)\n",
        "        prev_v = self.v[key]\n",
        "        self.v[key] = beta1 * self.v[key] - self.lr * dw\n",
        "        w += -beta1 * prev_v + (1 + beta1) * self.v[key]\n",
        "        b -= self.lr * db\n",
        "        return w, b\n",
        "\n",
        "    def rmsprop(self, w, b, dw, db, key=\"w\", rho=0.9):\n",
        "        \"\"\"RMSprop Optimization\"\"\"\n",
        "        self._initialize_params(key)\n",
        "        self.s[key] = rho * self.s[key] + (1 - rho) * (dw ** 2)\n",
        "        w -= self.lr * dw / (np.sqrt(self.s[key]) + self.epsilon)\n",
        "        b -= self.lr * db\n",
        "        return w, b\n",
        "\n",
        "    def adam(self, w, b, dw, db, key=\"w\", beta1=0.9, beta2=0.999):\n",
        "        \"\"\"Adaptive Moment Estimation (Adam)\"\"\"\n",
        "        self._initialize_params(key)\n",
        "        self.t += 1  # Time step\n",
        "        self.m[key] = beta1 * self.m[key] + (1 - beta1) * dw\n",
        "        self.s[key] = beta2 * self.s[key] + (1 - beta2) * (dw ** 2)\n",
        "\n",
        "        m_hat = self.m[key] / (1 - beta1 ** self.t)\n",
        "        s_hat = self.s[key] / (1 - beta2 ** self.t)\n",
        "\n",
        "        w -= self.lr * m_hat / (np.sqrt(s_hat) + self.epsilon)\n",
        "        b -= self.lr * db\n",
        "        return w, b\n",
        "\n",
        "    def nadam(self, w, b, dw, db, key=\"w\", beta1=0.9, beta2=0.999):\n",
        "        \"\"\"Nadam Optimization (Adam + Nesterov)\"\"\"\n",
        "        self._initialize_params(key)\n",
        "        self.t += 1  # Time step\n",
        "        self.m[key] = beta1 * self.m[key] + (1 - beta1) * dw\n",
        "        self.s[key] = beta2 * self.s[key] + (1 - beta2) * (dw ** 2)\n",
        "\n",
        "        m_hat = self.m[key] / (1 - beta1 ** self.t)\n",
        "        s_hat = self.s[key] / (1 - beta2 ** self.t)\n",
        "\n",
        "        m_nesterov = beta1 * m_hat + (1 - beta1) * dw / (1 - beta1 ** self.t)\n",
        "\n",
        "        w -= self.lr * m_nesterov / (np.sqrt(s_hat) + self.epsilon)\n",
        "        b -= self.lr * db\n",
        "        return w, b\n"
      ],
      "metadata": {
        "id": "qlLBAbw5WGQL"
      },
      "execution_count": 7,
      "outputs": []
    },
    {
      "cell_type": "code",
      "source": [
        "# Define activation functions class\n",
        "class ActivationFunctions:\n",
        "    def sigmoid(z):\n",
        "        return 1 / (1 + np.exp(-z))\n",
        "\n",
        "    def tanh(z):\n",
        "        return np.tanh(z)\n",
        "\n",
        "    def relu(z):\n",
        "        return np.maximum(0, z)\n",
        "\n",
        "    def softmax(z):\n",
        "        exp_z = np.exp(z - np.max(z, axis=1, keepdims=True))\n",
        "        return exp_z / np.sum(exp_z, axis=1, keepdims=True)"
      ],
      "metadata": {
        "id": "AuhiJ75FWYOg"
      },
      "execution_count": 6,
      "outputs": []
    },
    {
      "cell_type": "code",
      "source": [
        "from os import access\n",
        "# Initialize Weights & Biases (wandb)\n",
        "wandb.init(project=\"Neural Network class\")\n",
        "\n",
        "\n",
        "\n",
        "# Define weight initialization methods\n",
        "def random_init(shape):\n",
        "    return np.random.randn(*shape) * 0.01\n",
        "\n",
        "def xavier_init(shape):\n",
        "    return np.random.randn(*shape) * np.sqrt(1 / shape[0])\n",
        "\n",
        "# Define gradient descent algorithms class\n",
        "# class Optimizers:\n",
        "#     def __init__(self, lr=1e-3):\n",
        "#         self.lr = lr\n",
        "\n",
        "#     def sgd(self, w, b, dw, db):\n",
        "#         w -= self.lr * dw\n",
        "#         b -= self.lr * db\n",
        "#         return w, b\n",
        "# Define the neural network class\n",
        "class NeuralNetwork:\n",
        "    def __init__(self, input_size,num_hid_layers, hid_layer_size, output_size=10, activation='relu', weight_init='random', l2_reg=0.0, optimizer='sgd', lr=1e-3):\n",
        "        self.layers = [input_size] + num_hid_layers*[hid_layer_size] + [output_size]\n",
        "        self.activation_func = getattr(ActivationFunctions, activation)\n",
        "        self.weight_init = {'random': random_init, 'xavier': xavier_init}[weight_init]\n",
        "        self.l2_reg = l2_reg\n",
        "        self.optimizer = Optimizers(lr)  # Create an instance of Optimizers\n",
        "        self.optimizer_function = getattr(self.optimizer, optimizer)\n",
        "        self.weights = [self.weight_init((self.layers[i], self.layers[i+1])) for i in range(len(self.layers) - 1)]\n",
        "        self.biases = [self.weight_init((1, self.layers[i+1])) for i in range(len(self.layers) - 1)]\n",
        "\n",
        "    def forward(self, x):\n",
        "        activations = [x]\n",
        "        z_values = []\n",
        "        for i in range(len(self.weights) - 1):\n",
        "            z = np.dot(x, self.weights[i]) + self.biases[i]\n",
        "            a = self.activation_func(z)\n",
        "            z_values.append(z)\n",
        "            activations.append(a)\n",
        "        z = np.dot(x, self.weights[-1]) + self.biases[-1]\n",
        "        a = ActivationFunctions.softmax(z)\n",
        "        z_values.append(z)\n",
        "        activations.append(a)\n",
        "        return activations, z_values\n",
        "\n",
        "    def compute_loss(self, y_pred, y_true):\n",
        "        l2_penalty = self.l2_reg * sum(np.sum(w**2) for w in self.weights) / 2\n",
        "        return -np.mean(y_true * np.log(y_pred + 1e-9)) + l2_penalty\n",
        "\n",
        "    def compute_accuracy(self, y_pred, y_true):\n",
        "        # Convert one-hot encoded true labels to class indices\n",
        "        y_true_labels = np.argmax(y_true, axis=1)\n",
        "        # Convert predicted probabilities to class indices\n",
        "        y_pred_labels = np.argmax(y_pred, axis=1)\n",
        "        # Compute accuracy\n",
        "        accuracy = np.mean(y_pred_labels == y_true_labels)\n",
        "        return accuracy\n",
        "\n",
        "\n",
        "    def backward(self, activations, z_values, y_true):\n",
        "        \"\"\"\n",
        "        Perform backpropagation with different activation functions.\n",
        "\n",
        "        Parameters:\n",
        "        - activations: List of activations from each layer.\n",
        "        - z_values: List of pre-activation values (Z) from each layer.\n",
        "        - y_true: True labels.\n",
        "        - activation_funcs: List of activation functions used in each layer.\n",
        "\n",
        "        Returns:\n",
        "        - grad_weights: Gradients for weights.\n",
        "        - grad_biases: Gradients for biases.\n",
        "        \"\"\"\n",
        "        grad_weights = [None] * len(self.weights)\n",
        "        grad_biases = [None] * len(self.biases)\n",
        "\n",
        "        # Derivative functions for activation functions\n",
        "        def relu_derivative(z):\n",
        "            return (z > 0).astype(float)\n",
        "\n",
        "        def tanh_derivative(z):\n",
        "            return 1 - np.tanh(z) ** 2\n",
        "\n",
        "        def sigmoid_derivative(z):\n",
        "            sig = 1 / (1 + np.exp(-z))\n",
        "            return sig * (1 - sig)\n",
        "\n",
        "        def softmax_derivative(a):\n",
        "            return a * (1 - a)  # Not directly used in CE loss\n",
        "\n",
        "        # Output layer gradient\n",
        "        dz = activations[-1] - y_true  # Cross-entropy with softmax simplifies to this\n",
        "\n",
        "        grad_weights[-1] = np.dot(activations[-2].T, dz) / len(y_true)\n",
        "        grad_biases[-1] = np.sum(dz, axis=0, keepdims=True) / len(y_true)\n",
        "\n",
        "        # Backpropagation through hidden layers\n",
        "        for i in range(len(self.weights) - 2, -1, -1):\n",
        "            if activation == \"relu\":\n",
        "                dz = np.dot(dz, self.weights[i + 1].T) * relu_derivative(z_values[i])\n",
        "            elif activation == \"tanh\":\n",
        "                dz = np.dot(dz, self.weights[i + 1].T) * tanh_derivative(z_values[i])\n",
        "            elif activation == \"sigmoid\":\n",
        "                dz = np.dot(dz, self.weights[i + 1].T) * sigmoid_derivative(z_values[i])\n",
        "            else:\n",
        "                raise ValueError(f\"Unsupported activation function: {activation}\")\n",
        "\n",
        "            grad_weights[i] = np.dot(activations[i].T, dz) / len(y_true)\n",
        "            grad_biases[i] = np.sum(dz, axis=0, keepdims=True) / len(y_true)\n",
        "\n",
        "        return grad_weights, grad_biases\n",
        "\n",
        "\n",
        "    def update_parameters(self, grad_weights, grad_biases, optimizer_function, lr):\n",
        "      for i in range(len(self.weights)):\n",
        "          self.weights[i], self.biases[i] = optimizer_function(self.weights[i], self.biases[i], grad_weights[i], grad_biases[i])\n",
        "\n",
        "\n",
        "    def train(self, x, y, epochs=10, batch_size=32):\n",
        "        for epoch in range(epochs):\n",
        "            indices = np.arange(len(x))\n",
        "            np.random.shuffle(indices)\n",
        "            for i in range(0, len(x), batch_size):\n",
        "                batch_indices = indices[i:i+batch_size]\n",
        "                x_batch, y_batch = x[batch_indices], y[batch_indices]\n",
        "                activations, z_values = self.forward(x_batch)\n",
        "                loss = self.compute_loss(activations[-1], y_batch)\n",
        "                accuracy = self.compute_accuracy(activations[-1], y_batch)\n",
        "                grad_weights, grad_biases = self.backward(activations, z_values, y_batch)\n",
        "                self.update_parameters(grad_weights, grad_biases, self.optimizer_function, self.optimizer.lr)\n",
        "                #wandb.log({\"loss\": loss, \"accuracy\": accuracy})\n",
        "            print(f\"Epoch {epoch+1}, Loss: {loss:.4f}, Accuracy: {accuracy:.4f}\")\n",
        "\n",
        "# Hyperparameters\n",
        "hidden_layers = [32, 64, 128]  # Changeable number of layers\n",
        "weight_init = 'xavier'  # Options: 'random', 'xavier'\n",
        "activation = 'relu'  # Options: 'sigmoid', 'tanh', 'relu'\n",
        "l2_reg = 0.0005  # L2 regularization strength\n",
        "learning_rate = 1e-3  # Options: 1e-3, 1e-4\n",
        "batch_size = 32  # Options: 16, 32, 64\n",
        "epochs = 5  # Options: 5, 10\n",
        "optimizer = 'sgd'  # Options: 'sgd', 'momentum', 'nesterov', 'rmsprop', 'adam', 'nadam'\n",
        "\n",
        "# Initialize and train the model\n",
        "nn = NeuralNetwork(input_size=784, hidden_layers=hidden_layers, activation=activation, weight_init=weight_init, l2_reg=l2_reg, optimizer=optimizer, lr=learning_rate)\n",
        "nn.train(x_train, y_train, epochs=epochs, batch_size=batch_size)\n",
        "\n",
        "wandb.finish()\n"
      ],
      "metadata": {
        "colab": {
          "base_uri": "https://localhost:8080/",
          "height": 595
        },
        "id": "Z3oZ7GmXb-aY",
        "outputId": "ec06f960-9d5c-488a-b417-f10f486406b0"
      },
      "execution_count": 13,
      "outputs": [
        {
          "output_type": "display_data",
          "data": {
            "text/plain": [
              "<IPython.core.display.HTML object>"
            ],
            "text/html": [
              "Changes to your `wandb` environment variables will be ignored because your `wandb` session has already started. For more information on how to modify your settings with `wandb.init()` arguments, please refer to <a href='https://wandb.me/wandb-init' target=\"_blank\">the W&B docs</a>."
            ]
          },
          "metadata": {}
        },
        {
          "output_type": "display_data",
          "data": {
            "text/plain": [
              "<IPython.core.display.HTML object>"
            ],
            "text/html": [
              "Ignoring project 'Neural Network class' when running a sweep."
            ]
          },
          "metadata": {}
        },
        {
          "output_type": "display_data",
          "data": {
            "text/plain": [
              "<IPython.core.display.HTML object>"
            ],
            "text/html": [
              "Tracking run with wandb version 0.19.7"
            ]
          },
          "metadata": {}
        },
        {
          "output_type": "display_data",
          "data": {
            "text/plain": [
              "<IPython.core.display.HTML object>"
            ],
            "text/html": [
              "Run data is saved locally in <code>/content/wandb/run-20250310_051231-kr491izm</code>"
            ]
          },
          "metadata": {}
        },
        {
          "output_type": "display_data",
          "data": {
            "text/plain": [
              "<IPython.core.display.HTML object>"
            ],
            "text/html": [
              "Syncing run <strong><a href='https://wandb.ai/yeshu183-indian-institute-of-technology-madras/Sweep%20Functionality/runs/kr491izm' target=\"_blank\">e_5_hl_[128, 256, 512]_opt_sgd_bs_16_init_random_ac_tanh</a></strong> to <a href='https://wandb.ai/yeshu183-indian-institute-of-technology-madras/Sweep%20Functionality' target=\"_blank\">Weights & Biases</a> (<a href='https://wandb.me/developer-guide' target=\"_blank\">docs</a>)<br>Sweep page: <a href='https://wandb.ai/yeshu183-indian-institute-of-technology-madras/Sweep%20Functionality/sweeps/prs669kj' target=\"_blank\">https://wandb.ai/yeshu183-indian-institute-of-technology-madras/Sweep%20Functionality/sweeps/prs669kj</a>"
            ]
          },
          "metadata": {}
        },
        {
          "output_type": "display_data",
          "data": {
            "text/plain": [
              "<IPython.core.display.HTML object>"
            ],
            "text/html": [
              " View project at <a href='https://wandb.ai/yeshu183-indian-institute-of-technology-madras/Sweep%20Functionality' target=\"_blank\">https://wandb.ai/yeshu183-indian-institute-of-technology-madras/Sweep%20Functionality</a>"
            ]
          },
          "metadata": {}
        },
        {
          "output_type": "display_data",
          "data": {
            "text/plain": [
              "<IPython.core.display.HTML object>"
            ],
            "text/html": [
              " View sweep at <a href='https://wandb.ai/yeshu183-indian-institute-of-technology-madras/Sweep%20Functionality/sweeps/prs669kj' target=\"_blank\">https://wandb.ai/yeshu183-indian-institute-of-technology-madras/Sweep%20Functionality/sweeps/prs669kj</a>"
            ]
          },
          "metadata": {}
        },
        {
          "output_type": "display_data",
          "data": {
            "text/plain": [
              "<IPython.core.display.HTML object>"
            ],
            "text/html": [
              " View run at <a href='https://wandb.ai/yeshu183-indian-institute-of-technology-madras/Sweep%20Functionality/runs/kr491izm' target=\"_blank\">https://wandb.ai/yeshu183-indian-institute-of-technology-madras/Sweep%20Functionality/runs/kr491izm</a>"
            ]
          },
          "metadata": {}
        },
        {
          "output_type": "stream",
          "name": "stdout",
          "text": [
            "Epoch 1, Loss: 0.1938\n",
            "Epoch 2, Loss: 0.1618\n",
            "Epoch 3, Loss: 0.1330\n",
            "Epoch 4, Loss: 0.1499\n",
            "Epoch 5, Loss: 0.1288\n"
          ]
        },
        {
          "output_type": "display_data",
          "data": {
            "text/plain": [
              "<IPython.core.display.HTML object>"
            ],
            "text/html": []
          },
          "metadata": {}
        },
        {
          "output_type": "display_data",
          "data": {
            "text/plain": [
              "<IPython.core.display.HTML object>"
            ],
            "text/html": [
              "<br>    <style><br>        .wandb-row {<br>            display: flex;<br>            flex-direction: row;<br>            flex-wrap: wrap;<br>            justify-content: flex-start;<br>            width: 100%;<br>        }<br>        .wandb-col {<br>            display: flex;<br>            flex-direction: column;<br>            flex-basis: 100%;<br>            flex: 1;<br>            padding: 10px;<br>        }<br>    </style><br><div class=\"wandb-row\"><div class=\"wandb-col\"><h3>Run history:</h3><br/><table class=\"wandb\"><tr><td>loss</td><td>█████▇▇▄▄▃▃▃▃▃▃▂▃▃▂▂▂▁▁▂▁▁▂▂▁▂▁▂▂▁▂▁▂▂▂▂</td></tr></table><br/></div><div class=\"wandb-col\"><h3>Run summary:</h3><br/><table class=\"wandb\"><tr><td>loss</td><td>0.12875</td></tr></table><br/></div></div>"
            ]
          },
          "metadata": {}
        },
        {
          "output_type": "display_data",
          "data": {
            "text/plain": [
              "<IPython.core.display.HTML object>"
            ],
            "text/html": [
              " View run <strong style=\"color:#cdcd00\">e_5_hl_[128, 256, 512]_opt_sgd_bs_16_init_random_ac_tanh</strong> at: <a href='https://wandb.ai/yeshu183-indian-institute-of-technology-madras/Sweep%20Functionality/runs/kr491izm' target=\"_blank\">https://wandb.ai/yeshu183-indian-institute-of-technology-madras/Sweep%20Functionality/runs/kr491izm</a><br> View project at: <a href='https://wandb.ai/yeshu183-indian-institute-of-technology-madras/Sweep%20Functionality' target=\"_blank\">https://wandb.ai/yeshu183-indian-institute-of-technology-madras/Sweep%20Functionality</a><br>Synced 5 W&B file(s), 0 media file(s), 0 artifact file(s) and 0 other file(s)"
            ]
          },
          "metadata": {}
        },
        {
          "output_type": "display_data",
          "data": {
            "text/plain": [
              "<IPython.core.display.HTML object>"
            ],
            "text/html": [
              "Find logs at: <code>./wandb/run-20250310_051231-kr491izm/logs</code>"
            ]
          },
          "metadata": {}
        }
      ]
    },
    {
      "cell_type": "markdown",
      "source": [
        "##Question-4"
      ],
      "metadata": {
        "id": "aWeQMwhog0oN"
      }
    },
    {
      "cell_type": "code",
      "source": [
        "# Initialize Weights & Biases (wandb)\n",
        "wandb.finish()\n",
        "\n",
        "\n",
        "# Define sweep configuration\n",
        "sweep_config = {\n",
        "    'method': 'bayes',  # Options: grid, random, bayes\n",
        "    'metric': {'name': 'val_acc', 'goal': 'maximize'},\n",
        "    'parameters': {\n",
        "        'epochs': {'values': [5]},\n",
        "        'hidden_layers': {'values': [[32, 64, 128], [64, 128, 256], [128, 256, 512]]},\n",
        "        'weight_init': {'values': ['random', 'xavier']},\n",
        "        'activation': {'values': ['sigmoid', 'tanh', 'relu']},\n",
        "        'l2_reg': {'values': [0, 0.0005, 0.5]},\n",
        "        'learning_rate': {'values': [1e-3, 1e-4]},\n",
        "        'batch_size': {'values': [16, 32, 64]},\n",
        "        'optimizer': {'values': ['sgd']}\n",
        "    }\n",
        "}\n",
        "\n",
        "sweep_id = wandb.sweep(sweep_config, project=\"Sweep Functionality\")\n",
        "\n",
        "def train_sweep():\n",
        "    wandb.init(project=\"Sweep Functionality\")\n",
        "    config = wandb.config\n",
        "    wandb.run.name = f\"e_{config.epochs}_hl_{config.hidden_layers}_opt_{config.optimizer}_bs_{config.batch_size}_init_{config.weight_init}_ac_{config.activation}\"\n",
        "\n",
        "    nn = NeuralNetwork(\n",
        "        input_size=784,\n",
        "        hidden_layers=config.hidden_layers,\n",
        "        activation=config.activation,\n",
        "        weight_init=config.weight_init,\n",
        "        l2_reg=config.l2_reg,\n",
        "        optimizer=config.optimizer,\n",
        "        lr=config.learning_rate\n",
        "    )\n",
        "\n",
        "    nn.train(x_train, y_train, epochs=config.epochs, batch_size=config.batch_size)\n",
        "\n",
        "    val_activations,val_z = nn.forward(x_val)\n",
        "    val_loss = nn.compute_loss(val_activations[-1], y_val)\n",
        "    val_acc = nn.compute_accuracy(val_activations[-1], y_val)\n",
        "    wandb.log({\"val_loss\": val_loss, \"val_acc\": val_acc})\n",
        "    print(f\"Validation Loss: {val_loss:.4f}, Validation Accuracy: {val_acc:.4f}\")\n",
        "\n",
        "wandb.agent(sweep_id, function=train_sweep)\n",
        "wandb.finish()"
      ],
      "metadata": {
        "colab": {
          "base_uri": "https://localhost:8080/",
          "height": 1000
        },
        "id": "_fFZy9gvmDKH",
        "outputId": "8a25a9e5-f86c-40a7-dbfa-6a647d7be43d"
      },
      "execution_count": null,
      "outputs": [
        {
          "output_type": "stream",
          "name": "stdout",
          "text": [
            "Create sweep with ID: x54z7171\n",
            "Sweep URL: https://wandb.ai/yeshu183-indian-institute-of-technology-madras/Sweep%20Functionality/sweeps/x54z7171\n"
          ]
        },
        {
          "output_type": "stream",
          "name": "stderr",
          "text": [
            "\u001b[34m\u001b[1mwandb\u001b[0m: Agent Starting Run: ubnuf2bk with config:\n",
            "\u001b[34m\u001b[1mwandb\u001b[0m: \tactivation: relu\n",
            "\u001b[34m\u001b[1mwandb\u001b[0m: \tbatch_size: 32\n",
            "\u001b[34m\u001b[1mwandb\u001b[0m: \tepochs: 5\n",
            "\u001b[34m\u001b[1mwandb\u001b[0m: \thidden_layers: [64, 128, 256]\n",
            "\u001b[34m\u001b[1mwandb\u001b[0m: \tl2_reg: 0.5\n",
            "\u001b[34m\u001b[1mwandb\u001b[0m: \tlearning_rate: 0.0001\n",
            "\u001b[34m\u001b[1mwandb\u001b[0m: \toptimizer: sgd\n",
            "\u001b[34m\u001b[1mwandb\u001b[0m: \tweight_init: xavier\n"
          ]
        },
        {
          "output_type": "display_data",
          "data": {
            "text/plain": [
              "<IPython.core.display.HTML object>"
            ],
            "text/html": [
              "Ignoring project 'Sweep Functionality' when running a sweep."
            ]
          },
          "metadata": {}
        },
        {
          "output_type": "display_data",
          "data": {
            "text/plain": [
              "<IPython.core.display.HTML object>"
            ],
            "text/html": [
              "Tracking run with wandb version 0.19.7"
            ]
          },
          "metadata": {}
        },
        {
          "output_type": "display_data",
          "data": {
            "text/plain": [
              "<IPython.core.display.HTML object>"
            ],
            "text/html": [
              "Run data is saved locally in <code>/content/wandb/run-20250310_051300-ubnuf2bk</code>"
            ]
          },
          "metadata": {}
        },
        {
          "output_type": "display_data",
          "data": {
            "text/plain": [
              "<IPython.core.display.HTML object>"
            ],
            "text/html": [
              "Syncing run <strong><a href='https://wandb.ai/yeshu183-indian-institute-of-technology-madras/Sweep%20Functionality/runs/ubnuf2bk' target=\"_blank\">morning-sweep-1</a></strong> to <a href='https://wandb.ai/yeshu183-indian-institute-of-technology-madras/Sweep%20Functionality' target=\"_blank\">Weights & Biases</a> (<a href='https://wandb.me/developer-guide' target=\"_blank\">docs</a>)<br>Sweep page: <a href='https://wandb.ai/yeshu183-indian-institute-of-technology-madras/Sweep%20Functionality/sweeps/x54z7171' target=\"_blank\">https://wandb.ai/yeshu183-indian-institute-of-technology-madras/Sweep%20Functionality/sweeps/x54z7171</a>"
            ]
          },
          "metadata": {}
        },
        {
          "output_type": "display_data",
          "data": {
            "text/plain": [
              "<IPython.core.display.HTML object>"
            ],
            "text/html": [
              " View project at <a href='https://wandb.ai/yeshu183-indian-institute-of-technology-madras/Sweep%20Functionality' target=\"_blank\">https://wandb.ai/yeshu183-indian-institute-of-technology-madras/Sweep%20Functionality</a>"
            ]
          },
          "metadata": {}
        },
        {
          "output_type": "display_data",
          "data": {
            "text/plain": [
              "<IPython.core.display.HTML object>"
            ],
            "text/html": [
              " View sweep at <a href='https://wandb.ai/yeshu183-indian-institute-of-technology-madras/Sweep%20Functionality/sweeps/x54z7171' target=\"_blank\">https://wandb.ai/yeshu183-indian-institute-of-technology-madras/Sweep%20Functionality/sweeps/x54z7171</a>"
            ]
          },
          "metadata": {}
        },
        {
          "output_type": "display_data",
          "data": {
            "text/plain": [
              "<IPython.core.display.HTML object>"
            ],
            "text/html": [
              " View run at <a href='https://wandb.ai/yeshu183-indian-institute-of-technology-madras/Sweep%20Functionality/runs/ubnuf2bk' target=\"_blank\">https://wandb.ai/yeshu183-indian-institute-of-technology-madras/Sweep%20Functionality/runs/ubnuf2bk</a>"
            ]
          },
          "metadata": {}
        },
        {
          "output_type": "stream",
          "name": "stdout",
          "text": [
            "Epoch 1, Loss: 115.1918\n",
            "Epoch 2, Loss: 115.2192\n",
            "Epoch 3, Loss: 115.2727\n",
            "Epoch 4, Loss: 115.3420\n",
            "Epoch 5, Loss: 115.4375\n",
            "Validation Loss: 115.4334, Validation Accuracy: 0.5328\n"
          ]
        },
        {
          "output_type": "display_data",
          "data": {
            "text/plain": [
              "<IPython.core.display.HTML object>"
            ],
            "text/html": []
          },
          "metadata": {}
        },
        {
          "output_type": "display_data",
          "data": {
            "text/plain": [
              "<IPython.core.display.HTML object>"
            ],
            "text/html": [
              "<br>    <style><br>        .wandb-row {<br>            display: flex;<br>            flex-direction: row;<br>            flex-wrap: wrap;<br>            justify-content: flex-start;<br>            width: 100%;<br>        }<br>        .wandb-col {<br>            display: flex;<br>            flex-direction: column;<br>            flex-basis: 100%;<br>            flex: 1;<br>            padding: 10px;<br>        }<br>    </style><br><div class=\"wandb-row\"><div class=\"wandb-col\"><h3>Run history:</h3><br/><table class=\"wandb\"><tr><td>loss</td><td>▄▁▂▂▁▁▁▁▁▁▁▂▂▂▂▂▂▂▂▃▃▃▃▃▄▄▄▅▅▄▆▆▆▇▇▇████</td></tr><tr><td>val_acc</td><td>▁</td></tr><tr><td>val_loss</td><td>▁</td></tr></table><br/></div><div class=\"wandb-col\"><h3>Run summary:</h3><br/><table class=\"wandb\"><tr><td>loss</td><td>115.43745</td></tr><tr><td>val_acc</td><td>0.53283</td></tr><tr><td>val_loss</td><td>115.43342</td></tr></table><br/></div></div>"
            ]
          },
          "metadata": {}
        },
        {
          "output_type": "display_data",
          "data": {
            "text/plain": [
              "<IPython.core.display.HTML object>"
            ],
            "text/html": [
              " View run <strong style=\"color:#cdcd00\">e_5_hl_[64, 128, 256]_opt_sgd_bs_32_init_xavier_ac_relu</strong> at: <a href='https://wandb.ai/yeshu183-indian-institute-of-technology-madras/Sweep%20Functionality/runs/ubnuf2bk' target=\"_blank\">https://wandb.ai/yeshu183-indian-institute-of-technology-madras/Sweep%20Functionality/runs/ubnuf2bk</a><br> View project at: <a href='https://wandb.ai/yeshu183-indian-institute-of-technology-madras/Sweep%20Functionality' target=\"_blank\">https://wandb.ai/yeshu183-indian-institute-of-technology-madras/Sweep%20Functionality</a><br>Synced 5 W&B file(s), 0 media file(s), 0 artifact file(s) and 0 other file(s)"
            ]
          },
          "metadata": {}
        },
        {
          "output_type": "display_data",
          "data": {
            "text/plain": [
              "<IPython.core.display.HTML object>"
            ],
            "text/html": [
              "Find logs at: <code>./wandb/run-20250310_051300-ubnuf2bk/logs</code>"
            ]
          },
          "metadata": {}
        },
        {
          "output_type": "stream",
          "name": "stderr",
          "text": [
            "\u001b[34m\u001b[1mwandb\u001b[0m: Sweep Agent: Waiting for job.\n",
            "\u001b[34m\u001b[1mwandb\u001b[0m: Job received.\n",
            "\u001b[34m\u001b[1mwandb\u001b[0m: Agent Starting Run: 285jonqj with config:\n",
            "\u001b[34m\u001b[1mwandb\u001b[0m: \tactivation: sigmoid\n",
            "\u001b[34m\u001b[1mwandb\u001b[0m: \tbatch_size: 16\n",
            "\u001b[34m\u001b[1mwandb\u001b[0m: \tepochs: 5\n",
            "\u001b[34m\u001b[1mwandb\u001b[0m: \thidden_layers: [32, 64, 128]\n",
            "\u001b[34m\u001b[1mwandb\u001b[0m: \tl2_reg: 0\n",
            "\u001b[34m\u001b[1mwandb\u001b[0m: \tlearning_rate: 0.001\n",
            "\u001b[34m\u001b[1mwandb\u001b[0m: \toptimizer: sgd\n",
            "\u001b[34m\u001b[1mwandb\u001b[0m: \tweight_init: xavier\n"
          ]
        },
        {
          "output_type": "display_data",
          "data": {
            "text/plain": [
              "<IPython.core.display.HTML object>"
            ],
            "text/html": [
              "Ignoring project 'Sweep Functionality' when running a sweep."
            ]
          },
          "metadata": {}
        },
        {
          "output_type": "display_data",
          "data": {
            "text/plain": [
              "<IPython.core.display.HTML object>"
            ],
            "text/html": [
              "Tracking run with wandb version 0.19.7"
            ]
          },
          "metadata": {}
        },
        {
          "output_type": "display_data",
          "data": {
            "text/plain": [
              "<IPython.core.display.HTML object>"
            ],
            "text/html": [
              "Run data is saved locally in <code>/content/wandb/run-20250310_051345-285jonqj</code>"
            ]
          },
          "metadata": {}
        },
        {
          "output_type": "display_data",
          "data": {
            "text/plain": [
              "<IPython.core.display.HTML object>"
            ],
            "text/html": [
              "Syncing run <strong><a href='https://wandb.ai/yeshu183-indian-institute-of-technology-madras/Sweep%20Functionality/runs/285jonqj' target=\"_blank\">dazzling-sweep-2</a></strong> to <a href='https://wandb.ai/yeshu183-indian-institute-of-technology-madras/Sweep%20Functionality' target=\"_blank\">Weights & Biases</a> (<a href='https://wandb.me/developer-guide' target=\"_blank\">docs</a>)<br>Sweep page: <a href='https://wandb.ai/yeshu183-indian-institute-of-technology-madras/Sweep%20Functionality/sweeps/x54z7171' target=\"_blank\">https://wandb.ai/yeshu183-indian-institute-of-technology-madras/Sweep%20Functionality/sweeps/x54z7171</a>"
            ]
          },
          "metadata": {}
        },
        {
          "output_type": "display_data",
          "data": {
            "text/plain": [
              "<IPython.core.display.HTML object>"
            ],
            "text/html": [
              " View project at <a href='https://wandb.ai/yeshu183-indian-institute-of-technology-madras/Sweep%20Functionality' target=\"_blank\">https://wandb.ai/yeshu183-indian-institute-of-technology-madras/Sweep%20Functionality</a>"
            ]
          },
          "metadata": {}
        },
        {
          "output_type": "display_data",
          "data": {
            "text/plain": [
              "<IPython.core.display.HTML object>"
            ],
            "text/html": [
              " View sweep at <a href='https://wandb.ai/yeshu183-indian-institute-of-technology-madras/Sweep%20Functionality/sweeps/x54z7171' target=\"_blank\">https://wandb.ai/yeshu183-indian-institute-of-technology-madras/Sweep%20Functionality/sweeps/x54z7171</a>"
            ]
          },
          "metadata": {}
        },
        {
          "output_type": "display_data",
          "data": {
            "text/plain": [
              "<IPython.core.display.HTML object>"
            ],
            "text/html": [
              " View run at <a href='https://wandb.ai/yeshu183-indian-institute-of-technology-madras/Sweep%20Functionality/runs/285jonqj' target=\"_blank\">https://wandb.ai/yeshu183-indian-institute-of-technology-madras/Sweep%20Functionality/runs/285jonqj</a>"
            ]
          },
          "metadata": {}
        },
        {
          "output_type": "stream",
          "name": "stdout",
          "text": [
            "Epoch 1, Loss: 0.2290\n",
            "Epoch 2, Loss: 0.2297\n",
            "Epoch 3, Loss: 0.2275\n",
            "Epoch 4, Loss: 0.2250\n",
            "Epoch 5, Loss: 0.2162\n",
            "Validation Loss: 0.2217, Validation Accuracy: 0.2417\n"
          ]
        },
        {
          "output_type": "display_data",
          "data": {
            "text/plain": [
              "<IPython.core.display.HTML object>"
            ],
            "text/html": []
          },
          "metadata": {}
        },
        {
          "output_type": "display_data",
          "data": {
            "text/plain": [
              "<IPython.core.display.HTML object>"
            ],
            "text/html": [
              "<br>    <style><br>        .wandb-row {<br>            display: flex;<br>            flex-direction: row;<br>            flex-wrap: wrap;<br>            justify-content: flex-start;<br>            width: 100%;<br>        }<br>        .wandb-col {<br>            display: flex;<br>            flex-direction: column;<br>            flex-basis: 100%;<br>            flex: 1;<br>            padding: 10px;<br>        }<br>    </style><br><div class=\"wandb-row\"><div class=\"wandb-col\"><h3>Run history:</h3><br/><table class=\"wandb\"><tr><td>loss</td><td>▇█▅▄▄▅▅▄▄▄▄▅▄▄▄▄▅▄▄▄▃▄▄▄▃▄▂▃▃▄▃▃▃▃▃▁▂▃▂▃</td></tr><tr><td>val_acc</td><td>▁</td></tr><tr><td>val_loss</td><td>▁</td></tr></table><br/></div><div class=\"wandb-col\"><h3>Run summary:</h3><br/><table class=\"wandb\"><tr><td>loss</td><td>0.21624</td></tr><tr><td>val_acc</td><td>0.24167</td></tr><tr><td>val_loss</td><td>0.2217</td></tr></table><br/></div></div>"
            ]
          },
          "metadata": {}
        },
        {
          "output_type": "display_data",
          "data": {
            "text/plain": [
              "<IPython.core.display.HTML object>"
            ],
            "text/html": [
              " View run <strong style=\"color:#cdcd00\">e_5_hl_[32, 64, 128]_opt_sgd_bs_16_init_xavier_ac_sigmoid</strong> at: <a href='https://wandb.ai/yeshu183-indian-institute-of-technology-madras/Sweep%20Functionality/runs/285jonqj' target=\"_blank\">https://wandb.ai/yeshu183-indian-institute-of-technology-madras/Sweep%20Functionality/runs/285jonqj</a><br> View project at: <a href='https://wandb.ai/yeshu183-indian-institute-of-technology-madras/Sweep%20Functionality' target=\"_blank\">https://wandb.ai/yeshu183-indian-institute-of-technology-madras/Sweep%20Functionality</a><br>Synced 5 W&B file(s), 0 media file(s), 0 artifact file(s) and 0 other file(s)"
            ]
          },
          "metadata": {}
        },
        {
          "output_type": "display_data",
          "data": {
            "text/plain": [
              "<IPython.core.display.HTML object>"
            ],
            "text/html": [
              "Find logs at: <code>./wandb/run-20250310_051345-285jonqj/logs</code>"
            ]
          },
          "metadata": {}
        },
        {
          "output_type": "stream",
          "name": "stderr",
          "text": [
            "\u001b[34m\u001b[1mwandb\u001b[0m: Agent Starting Run: hoci7pma with config:\n",
            "\u001b[34m\u001b[1mwandb\u001b[0m: \tactivation: relu\n",
            "\u001b[34m\u001b[1mwandb\u001b[0m: \tbatch_size: 32\n",
            "\u001b[34m\u001b[1mwandb\u001b[0m: \tepochs: 5\n",
            "\u001b[34m\u001b[1mwandb\u001b[0m: \thidden_layers: [128, 256, 512]\n",
            "\u001b[34m\u001b[1mwandb\u001b[0m: \tl2_reg: 0.0005\n",
            "\u001b[34m\u001b[1mwandb\u001b[0m: \tlearning_rate: 0.001\n",
            "\u001b[34m\u001b[1mwandb\u001b[0m: \toptimizer: sgd\n",
            "\u001b[34m\u001b[1mwandb\u001b[0m: \tweight_init: xavier\n"
          ]
        },
        {
          "output_type": "display_data",
          "data": {
            "text/plain": [
              "<IPython.core.display.HTML object>"
            ],
            "text/html": [
              "Ignoring project 'Sweep Functionality' when running a sweep."
            ]
          },
          "metadata": {}
        },
        {
          "output_type": "display_data",
          "data": {
            "text/plain": [
              "<IPython.core.display.HTML object>"
            ],
            "text/html": [
              "Tracking run with wandb version 0.19.7"
            ]
          },
          "metadata": {}
        },
        {
          "output_type": "display_data",
          "data": {
            "text/plain": [
              "<IPython.core.display.HTML object>"
            ],
            "text/html": [
              "Run data is saved locally in <code>/content/wandb/run-20250310_051441-hoci7pma</code>"
            ]
          },
          "metadata": {}
        },
        {
          "output_type": "display_data",
          "data": {
            "text/plain": [
              "<IPython.core.display.HTML object>"
            ],
            "text/html": [
              "Syncing run <strong><a href='https://wandb.ai/yeshu183-indian-institute-of-technology-madras/Sweep%20Functionality/runs/hoci7pma' target=\"_blank\">prime-sweep-3</a></strong> to <a href='https://wandb.ai/yeshu183-indian-institute-of-technology-madras/Sweep%20Functionality' target=\"_blank\">Weights & Biases</a> (<a href='https://wandb.me/developer-guide' target=\"_blank\">docs</a>)<br>Sweep page: <a href='https://wandb.ai/yeshu183-indian-institute-of-technology-madras/Sweep%20Functionality/sweeps/x54z7171' target=\"_blank\">https://wandb.ai/yeshu183-indian-institute-of-technology-madras/Sweep%20Functionality/sweeps/x54z7171</a>"
            ]
          },
          "metadata": {}
        },
        {
          "output_type": "display_data",
          "data": {
            "text/plain": [
              "<IPython.core.display.HTML object>"
            ],
            "text/html": [
              " View project at <a href='https://wandb.ai/yeshu183-indian-institute-of-technology-madras/Sweep%20Functionality' target=\"_blank\">https://wandb.ai/yeshu183-indian-institute-of-technology-madras/Sweep%20Functionality</a>"
            ]
          },
          "metadata": {}
        },
        {
          "output_type": "display_data",
          "data": {
            "text/plain": [
              "<IPython.core.display.HTML object>"
            ],
            "text/html": [
              " View sweep at <a href='https://wandb.ai/yeshu183-indian-institute-of-technology-madras/Sweep%20Functionality/sweeps/x54z7171' target=\"_blank\">https://wandb.ai/yeshu183-indian-institute-of-technology-madras/Sweep%20Functionality/sweeps/x54z7171</a>"
            ]
          },
          "metadata": {}
        },
        {
          "output_type": "display_data",
          "data": {
            "text/plain": [
              "<IPython.core.display.HTML object>"
            ],
            "text/html": [
              " View run at <a href='https://wandb.ai/yeshu183-indian-institute-of-technology-madras/Sweep%20Functionality/runs/hoci7pma' target=\"_blank\">https://wandb.ai/yeshu183-indian-institute-of-technology-madras/Sweep%20Functionality/runs/hoci7pma</a>"
            ]
          },
          "metadata": {}
        },
        {
          "output_type": "stream",
          "name": "stdout",
          "text": [
            "Epoch 1, Loss: 0.3226\n",
            "Epoch 2, Loss: 0.2912\n",
            "Epoch 3, Loss: 0.2980\n",
            "Epoch 4, Loss: 0.2823\n",
            "Epoch 5, Loss: 0.3203\n",
            "Validation Loss: 0.2886, Validation Accuracy: 0.7853\n"
          ]
        },
        {
          "output_type": "display_data",
          "data": {
            "text/plain": [
              "<IPython.core.display.HTML object>"
            ],
            "text/html": []
          },
          "metadata": {}
        },
        {
          "output_type": "display_data",
          "data": {
            "text/plain": [
              "<IPython.core.display.HTML object>"
            ],
            "text/html": [
              "<br>    <style><br>        .wandb-row {<br>            display: flex;<br>            flex-direction: row;<br>            flex-wrap: wrap;<br>            justify-content: flex-start;<br>            width: 100%;<br>        }<br>        .wandb-col {<br>            display: flex;<br>            flex-direction: column;<br>            flex-basis: 100%;<br>            flex: 1;<br>            padding: 10px;<br>        }<br>    </style><br><div class=\"wandb-row\"><div class=\"wandb-col\"><h3>Run history:</h3><br/><table class=\"wandb\"><tr><td>loss</td><td>█▇▇▇▆▅▅▄▄▄▂▂▃▃▂▃▃▃▂▃▃▂▂▂▂▂▁▁▁▂▁▁▁▂▂▁▂▂▁▂</td></tr><tr><td>val_acc</td><td>▁</td></tr><tr><td>val_loss</td><td>▁</td></tr></table><br/></div><div class=\"wandb-col\"><h3>Run summary:</h3><br/><table class=\"wandb\"><tr><td>loss</td><td>0.32028</td></tr><tr><td>val_acc</td><td>0.78533</td></tr><tr><td>val_loss</td><td>0.28857</td></tr></table><br/></div></div>"
            ]
          },
          "metadata": {}
        },
        {
          "output_type": "display_data",
          "data": {
            "text/plain": [
              "<IPython.core.display.HTML object>"
            ],
            "text/html": [
              " View run <strong style=\"color:#cdcd00\">e_5_hl_[128, 256, 512]_opt_sgd_bs_32_init_xavier_ac_relu</strong> at: <a href='https://wandb.ai/yeshu183-indian-institute-of-technology-madras/Sweep%20Functionality/runs/hoci7pma' target=\"_blank\">https://wandb.ai/yeshu183-indian-institute-of-technology-madras/Sweep%20Functionality/runs/hoci7pma</a><br> View project at: <a href='https://wandb.ai/yeshu183-indian-institute-of-technology-madras/Sweep%20Functionality' target=\"_blank\">https://wandb.ai/yeshu183-indian-institute-of-technology-madras/Sweep%20Functionality</a><br>Synced 5 W&B file(s), 0 media file(s), 0 artifact file(s) and 0 other file(s)"
            ]
          },
          "metadata": {}
        },
        {
          "output_type": "display_data",
          "data": {
            "text/plain": [
              "<IPython.core.display.HTML object>"
            ],
            "text/html": [
              "Find logs at: <code>./wandb/run-20250310_051441-hoci7pma/logs</code>"
            ]
          },
          "metadata": {}
        },
        {
          "output_type": "stream",
          "name": "stderr",
          "text": [
            "\u001b[34m\u001b[1mwandb\u001b[0m: Agent Starting Run: 7vfpzun3 with config:\n",
            "\u001b[34m\u001b[1mwandb\u001b[0m: \tactivation: relu\n",
            "\u001b[34m\u001b[1mwandb\u001b[0m: \tbatch_size: 64\n",
            "\u001b[34m\u001b[1mwandb\u001b[0m: \tepochs: 5\n",
            "\u001b[34m\u001b[1mwandb\u001b[0m: \thidden_layers: [128, 256, 512]\n",
            "\u001b[34m\u001b[1mwandb\u001b[0m: \tl2_reg: 0.0005\n",
            "\u001b[34m\u001b[1mwandb\u001b[0m: \tlearning_rate: 0.001\n",
            "\u001b[34m\u001b[1mwandb\u001b[0m: \toptimizer: sgd\n",
            "\u001b[34m\u001b[1mwandb\u001b[0m: \tweight_init: xavier\n"
          ]
        },
        {
          "output_type": "display_data",
          "data": {
            "text/plain": [
              "<IPython.core.display.HTML object>"
            ],
            "text/html": [
              "Ignoring project 'Sweep Functionality' when running a sweep."
            ]
          },
          "metadata": {}
        },
        {
          "output_type": "display_data",
          "data": {
            "text/plain": [
              "<IPython.core.display.HTML object>"
            ],
            "text/html": [
              "Tracking run with wandb version 0.19.7"
            ]
          },
          "metadata": {}
        },
        {
          "output_type": "display_data",
          "data": {
            "text/plain": [
              "<IPython.core.display.HTML object>"
            ],
            "text/html": [
              "Run data is saved locally in <code>/content/wandb/run-20250310_051557-7vfpzun3</code>"
            ]
          },
          "metadata": {}
        },
        {
          "output_type": "display_data",
          "data": {
            "text/plain": [
              "<IPython.core.display.HTML object>"
            ],
            "text/html": [
              "Syncing run <strong><a href='https://wandb.ai/yeshu183-indian-institute-of-technology-madras/Sweep%20Functionality/runs/7vfpzun3' target=\"_blank\">still-sweep-4</a></strong> to <a href='https://wandb.ai/yeshu183-indian-institute-of-technology-madras/Sweep%20Functionality' target=\"_blank\">Weights & Biases</a> (<a href='https://wandb.me/developer-guide' target=\"_blank\">docs</a>)<br>Sweep page: <a href='https://wandb.ai/yeshu183-indian-institute-of-technology-madras/Sweep%20Functionality/sweeps/x54z7171' target=\"_blank\">https://wandb.ai/yeshu183-indian-institute-of-technology-madras/Sweep%20Functionality/sweeps/x54z7171</a>"
            ]
          },
          "metadata": {}
        },
        {
          "output_type": "display_data",
          "data": {
            "text/plain": [
              "<IPython.core.display.HTML object>"
            ],
            "text/html": [
              " View project at <a href='https://wandb.ai/yeshu183-indian-institute-of-technology-madras/Sweep%20Functionality' target=\"_blank\">https://wandb.ai/yeshu183-indian-institute-of-technology-madras/Sweep%20Functionality</a>"
            ]
          },
          "metadata": {}
        },
        {
          "output_type": "display_data",
          "data": {
            "text/plain": [
              "<IPython.core.display.HTML object>"
            ],
            "text/html": [
              " View sweep at <a href='https://wandb.ai/yeshu183-indian-institute-of-technology-madras/Sweep%20Functionality/sweeps/x54z7171' target=\"_blank\">https://wandb.ai/yeshu183-indian-institute-of-technology-madras/Sweep%20Functionality/sweeps/x54z7171</a>"
            ]
          },
          "metadata": {}
        },
        {
          "output_type": "display_data",
          "data": {
            "text/plain": [
              "<IPython.core.display.HTML object>"
            ],
            "text/html": [
              " View run at <a href='https://wandb.ai/yeshu183-indian-institute-of-technology-madras/Sweep%20Functionality/runs/7vfpzun3' target=\"_blank\">https://wandb.ai/yeshu183-indian-institute-of-technology-madras/Sweep%20Functionality/runs/7vfpzun3</a>"
            ]
          },
          "metadata": {}
        },
        {
          "output_type": "stream",
          "name": "stdout",
          "text": [
            "Epoch 1, Loss: 0.3973\n",
            "Epoch 2, Loss: 0.3413\n",
            "Epoch 3, Loss: 0.3171\n",
            "Epoch 4, Loss: 0.3046\n",
            "Epoch 5, Loss: 0.2886\n",
            "Validation Loss: 0.3013, Validation Accuracy: 0.7457\n"
          ]
        },
        {
          "output_type": "display_data",
          "data": {
            "text/plain": [
              "<IPython.core.display.HTML object>"
            ],
            "text/html": []
          },
          "metadata": {}
        },
        {
          "output_type": "display_data",
          "data": {
            "text/plain": [
              "<IPython.core.display.HTML object>"
            ],
            "text/html": [
              "<br>    <style><br>        .wandb-row {<br>            display: flex;<br>            flex-direction: row;<br>            flex-wrap: wrap;<br>            justify-content: flex-start;<br>            width: 100%;<br>        }<br>        .wandb-col {<br>            display: flex;<br>            flex-direction: column;<br>            flex-basis: 100%;<br>            flex: 1;<br>            padding: 10px;<br>        }<br>    </style><br><div class=\"wandb-row\"><div class=\"wandb-col\"><h3>Run history:</h3><br/><table class=\"wandb\"><tr><td>loss</td><td>█▇▇▇▇▆▆▆▅▄▄▄▄▃▃▃▃▃▃▃▃▃▂▂▁▂▂▂▂▂▁▂▁▂▂▂▂▁▂▂</td></tr><tr><td>val_acc</td><td>▁</td></tr><tr><td>val_loss</td><td>▁</td></tr></table><br/></div><div class=\"wandb-col\"><h3>Run summary:</h3><br/><table class=\"wandb\"><tr><td>loss</td><td>0.28862</td></tr><tr><td>val_acc</td><td>0.74567</td></tr><tr><td>val_loss</td><td>0.30126</td></tr></table><br/></div></div>"
            ]
          },
          "metadata": {}
        },
        {
          "output_type": "display_data",
          "data": {
            "text/plain": [
              "<IPython.core.display.HTML object>"
            ],
            "text/html": [
              " View run <strong style=\"color:#cdcd00\">e_5_hl_[128, 256, 512]_opt_sgd_bs_64_init_xavier_ac_relu</strong> at: <a href='https://wandb.ai/yeshu183-indian-institute-of-technology-madras/Sweep%20Functionality/runs/7vfpzun3' target=\"_blank\">https://wandb.ai/yeshu183-indian-institute-of-technology-madras/Sweep%20Functionality/runs/7vfpzun3</a><br> View project at: <a href='https://wandb.ai/yeshu183-indian-institute-of-technology-madras/Sweep%20Functionality' target=\"_blank\">https://wandb.ai/yeshu183-indian-institute-of-technology-madras/Sweep%20Functionality</a><br>Synced 5 W&B file(s), 0 media file(s), 0 artifact file(s) and 0 other file(s)"
            ]
          },
          "metadata": {}
        },
        {
          "output_type": "display_data",
          "data": {
            "text/plain": [
              "<IPython.core.display.HTML object>"
            ],
            "text/html": [
              "Find logs at: <code>./wandb/run-20250310_051557-7vfpzun3/logs</code>"
            ]
          },
          "metadata": {}
        },
        {
          "output_type": "stream",
          "name": "stderr",
          "text": [
            "\u001b[34m\u001b[1mwandb\u001b[0m: Agent Starting Run: 35a094oj with config:\n",
            "\u001b[34m\u001b[1mwandb\u001b[0m: \tactivation: relu\n",
            "\u001b[34m\u001b[1mwandb\u001b[0m: \tbatch_size: 64\n",
            "\u001b[34m\u001b[1mwandb\u001b[0m: \tepochs: 5\n",
            "\u001b[34m\u001b[1mwandb\u001b[0m: \thidden_layers: [128, 256, 512]\n",
            "\u001b[34m\u001b[1mwandb\u001b[0m: \tl2_reg: 0.5\n",
            "\u001b[34m\u001b[1mwandb\u001b[0m: \tlearning_rate: 0.001\n",
            "\u001b[34m\u001b[1mwandb\u001b[0m: \toptimizer: sgd\n",
            "\u001b[34m\u001b[1mwandb\u001b[0m: \tweight_init: xavier\n"
          ]
        },
        {
          "output_type": "display_data",
          "data": {
            "text/plain": [
              "<IPython.core.display.HTML object>"
            ],
            "text/html": [
              "Ignoring project 'Sweep Functionality' when running a sweep."
            ]
          },
          "metadata": {}
        },
        {
          "output_type": "display_data",
          "data": {
            "text/plain": [
              "<IPython.core.display.HTML object>"
            ],
            "text/html": [
              "Tracking run with wandb version 0.19.7"
            ]
          },
          "metadata": {}
        },
        {
          "output_type": "display_data",
          "data": {
            "text/plain": [
              "<IPython.core.display.HTML object>"
            ],
            "text/html": [
              "Run data is saved locally in <code>/content/wandb/run-20250310_051652-35a094oj</code>"
            ]
          },
          "metadata": {}
        },
        {
          "output_type": "display_data",
          "data": {
            "text/plain": [
              "<IPython.core.display.HTML object>"
            ],
            "text/html": [
              "Syncing run <strong><a href='https://wandb.ai/yeshu183-indian-institute-of-technology-madras/Sweep%20Functionality/runs/35a094oj' target=\"_blank\">toasty-sweep-5</a></strong> to <a href='https://wandb.ai/yeshu183-indian-institute-of-technology-madras/Sweep%20Functionality' target=\"_blank\">Weights & Biases</a> (<a href='https://wandb.me/developer-guide' target=\"_blank\">docs</a>)<br>Sweep page: <a href='https://wandb.ai/yeshu183-indian-institute-of-technology-madras/Sweep%20Functionality/sweeps/x54z7171' target=\"_blank\">https://wandb.ai/yeshu183-indian-institute-of-technology-madras/Sweep%20Functionality/sweeps/x54z7171</a>"
            ]
          },
          "metadata": {}
        },
        {
          "output_type": "display_data",
          "data": {
            "text/plain": [
              "<IPython.core.display.HTML object>"
            ],
            "text/html": [
              " View project at <a href='https://wandb.ai/yeshu183-indian-institute-of-technology-madras/Sweep%20Functionality' target=\"_blank\">https://wandb.ai/yeshu183-indian-institute-of-technology-madras/Sweep%20Functionality</a>"
            ]
          },
          "metadata": {}
        },
        {
          "output_type": "display_data",
          "data": {
            "text/plain": [
              "<IPython.core.display.HTML object>"
            ],
            "text/html": [
              " View sweep at <a href='https://wandb.ai/yeshu183-indian-institute-of-technology-madras/Sweep%20Functionality/sweeps/x54z7171' target=\"_blank\">https://wandb.ai/yeshu183-indian-institute-of-technology-madras/Sweep%20Functionality/sweeps/x54z7171</a>"
            ]
          },
          "metadata": {}
        },
        {
          "output_type": "display_data",
          "data": {
            "text/plain": [
              "<IPython.core.display.HTML object>"
            ],
            "text/html": [
              " View run at <a href='https://wandb.ai/yeshu183-indian-institute-of-technology-madras/Sweep%20Functionality/runs/35a094oj' target=\"_blank\">https://wandb.ai/yeshu183-indian-institute-of-technology-madras/Sweep%20Functionality/runs/35a094oj</a>"
            ]
          },
          "metadata": {}
        },
        {
          "output_type": "stream",
          "name": "stdout",
          "text": [
            "Epoch 1, Loss: 227.8701\n",
            "Epoch 2, Loss: 228.5441\n",
            "Epoch 3, Loss: 229.1410\n",
            "Epoch 4, Loss: 229.6056\n",
            "Epoch 5, Loss: 230.0077\n",
            "Validation Loss: 230.0090, Validation Accuracy: 0.7465\n"
          ]
        },
        {
          "output_type": "display_data",
          "data": {
            "text/plain": [
              "<IPython.core.display.HTML object>"
            ],
            "text/html": []
          },
          "metadata": {}
        },
        {
          "output_type": "display_data",
          "data": {
            "text/plain": [
              "<IPython.core.display.HTML object>"
            ],
            "text/html": [
              "<br>    <style><br>        .wandb-row {<br>            display: flex;<br>            flex-direction: row;<br>            flex-wrap: wrap;<br>            justify-content: flex-start;<br>            width: 100%;<br>        }<br>        .wandb-col {<br>            display: flex;<br>            flex-direction: column;<br>            flex-basis: 100%;<br>            flex: 1;<br>            padding: 10px;<br>        }<br>    </style><br><div class=\"wandb-row\"><div class=\"wandb-col\"><h3>Run history:</h3><br/><table class=\"wandb\"><tr><td>loss</td><td>▁▁▁▁▁▂▂▂▂▂▃▃▃▃▄▄▄▄▄▄▅▅▅▅▅▆▆▆▆▆▇▇▇▇▇▇████</td></tr><tr><td>val_acc</td><td>▁</td></tr><tr><td>val_loss</td><td>▁</td></tr></table><br/></div><div class=\"wandb-col\"><h3>Run summary:</h3><br/><table class=\"wandb\"><tr><td>loss</td><td>230.00775</td></tr><tr><td>val_acc</td><td>0.7465</td></tr><tr><td>val_loss</td><td>230.00897</td></tr></table><br/></div></div>"
            ]
          },
          "metadata": {}
        },
        {
          "output_type": "display_data",
          "data": {
            "text/plain": [
              "<IPython.core.display.HTML object>"
            ],
            "text/html": [
              " View run <strong style=\"color:#cdcd00\">e_5_hl_[128, 256, 512]_opt_sgd_bs_64_init_xavier_ac_relu</strong> at: <a href='https://wandb.ai/yeshu183-indian-institute-of-technology-madras/Sweep%20Functionality/runs/35a094oj' target=\"_blank\">https://wandb.ai/yeshu183-indian-institute-of-technology-madras/Sweep%20Functionality/runs/35a094oj</a><br> View project at: <a href='https://wandb.ai/yeshu183-indian-institute-of-technology-madras/Sweep%20Functionality' target=\"_blank\">https://wandb.ai/yeshu183-indian-institute-of-technology-madras/Sweep%20Functionality</a><br>Synced 5 W&B file(s), 0 media file(s), 0 artifact file(s) and 0 other file(s)"
            ]
          },
          "metadata": {}
        },
        {
          "output_type": "display_data",
          "data": {
            "text/plain": [
              "<IPython.core.display.HTML object>"
            ],
            "text/html": [
              "Find logs at: <code>./wandb/run-20250310_051652-35a094oj/logs</code>"
            ]
          },
          "metadata": {}
        },
        {
          "output_type": "stream",
          "name": "stderr",
          "text": [
            "\u001b[34m\u001b[1mwandb\u001b[0m: Agent Starting Run: zodd5ml4 with config:\n",
            "\u001b[34m\u001b[1mwandb\u001b[0m: \tactivation: relu\n",
            "\u001b[34m\u001b[1mwandb\u001b[0m: \tbatch_size: 64\n",
            "\u001b[34m\u001b[1mwandb\u001b[0m: \tepochs: 5\n",
            "\u001b[34m\u001b[1mwandb\u001b[0m: \thidden_layers: [128, 256, 512]\n",
            "\u001b[34m\u001b[1mwandb\u001b[0m: \tl2_reg: 0.5\n",
            "\u001b[34m\u001b[1mwandb\u001b[0m: \tlearning_rate: 0.001\n",
            "\u001b[34m\u001b[1mwandb\u001b[0m: \toptimizer: sgd\n",
            "\u001b[34m\u001b[1mwandb\u001b[0m: \tweight_init: xavier\n"
          ]
        },
        {
          "output_type": "display_data",
          "data": {
            "text/plain": [
              "<IPython.core.display.HTML object>"
            ],
            "text/html": [
              "Ignoring project 'Sweep Functionality' when running a sweep."
            ]
          },
          "metadata": {}
        },
        {
          "output_type": "display_data",
          "data": {
            "text/plain": [
              "<IPython.core.display.HTML object>"
            ],
            "text/html": [
              "Tracking run with wandb version 0.19.7"
            ]
          },
          "metadata": {}
        },
        {
          "output_type": "display_data",
          "data": {
            "text/plain": [
              "<IPython.core.display.HTML object>"
            ],
            "text/html": [
              "Run data is saved locally in <code>/content/wandb/run-20250310_051743-zodd5ml4</code>"
            ]
          },
          "metadata": {}
        },
        {
          "output_type": "display_data",
          "data": {
            "text/plain": [
              "<IPython.core.display.HTML object>"
            ],
            "text/html": [
              "Syncing run <strong><a href='https://wandb.ai/yeshu183-indian-institute-of-technology-madras/Sweep%20Functionality/runs/zodd5ml4' target=\"_blank\">worldly-sweep-6</a></strong> to <a href='https://wandb.ai/yeshu183-indian-institute-of-technology-madras/Sweep%20Functionality' target=\"_blank\">Weights & Biases</a> (<a href='https://wandb.me/developer-guide' target=\"_blank\">docs</a>)<br>Sweep page: <a href='https://wandb.ai/yeshu183-indian-institute-of-technology-madras/Sweep%20Functionality/sweeps/x54z7171' target=\"_blank\">https://wandb.ai/yeshu183-indian-institute-of-technology-madras/Sweep%20Functionality/sweeps/x54z7171</a>"
            ]
          },
          "metadata": {}
        },
        {
          "output_type": "display_data",
          "data": {
            "text/plain": [
              "<IPython.core.display.HTML object>"
            ],
            "text/html": [
              " View project at <a href='https://wandb.ai/yeshu183-indian-institute-of-technology-madras/Sweep%20Functionality' target=\"_blank\">https://wandb.ai/yeshu183-indian-institute-of-technology-madras/Sweep%20Functionality</a>"
            ]
          },
          "metadata": {}
        },
        {
          "output_type": "display_data",
          "data": {
            "text/plain": [
              "<IPython.core.display.HTML object>"
            ],
            "text/html": [
              " View sweep at <a href='https://wandb.ai/yeshu183-indian-institute-of-technology-madras/Sweep%20Functionality/sweeps/x54z7171' target=\"_blank\">https://wandb.ai/yeshu183-indian-institute-of-technology-madras/Sweep%20Functionality/sweeps/x54z7171</a>"
            ]
          },
          "metadata": {}
        },
        {
          "output_type": "display_data",
          "data": {
            "text/plain": [
              "<IPython.core.display.HTML object>"
            ],
            "text/html": [
              " View run at <a href='https://wandb.ai/yeshu183-indian-institute-of-technology-madras/Sweep%20Functionality/runs/zodd5ml4' target=\"_blank\">https://wandb.ai/yeshu183-indian-institute-of-technology-madras/Sweep%20Functionality/runs/zodd5ml4</a>"
            ]
          },
          "metadata": {}
        },
        {
          "output_type": "stream",
          "name": "stdout",
          "text": [
            "Epoch 1, Loss: 226.6031\n",
            "Epoch 2, Loss: 227.3106\n",
            "Epoch 3, Loss: 227.9486\n",
            "Epoch 4, Loss: 228.4362\n",
            "Epoch 5, Loss: 228.8566\n",
            "Validation Loss: 228.8422, Validation Accuracy: 0.7570\n"
          ]
        },
        {
          "output_type": "display_data",
          "data": {
            "text/plain": [
              "<IPython.core.display.HTML object>"
            ],
            "text/html": []
          },
          "metadata": {}
        },
        {
          "output_type": "display_data",
          "data": {
            "text/plain": [
              "<IPython.core.display.HTML object>"
            ],
            "text/html": [
              "<br>    <style><br>        .wandb-row {<br>            display: flex;<br>            flex-direction: row;<br>            flex-wrap: wrap;<br>            justify-content: flex-start;<br>            width: 100%;<br>        }<br>        .wandb-col {<br>            display: flex;<br>            flex-direction: column;<br>            flex-basis: 100%;<br>            flex: 1;<br>            padding: 10px;<br>        }<br>    </style><br><div class=\"wandb-row\"><div class=\"wandb-col\"><h3>Run history:</h3><br/><table class=\"wandb\"><tr><td>loss</td><td>▁▁▁▁▁▂▂▂▂▃▃▃▃▄▄▄▄▄▅▅▅▅▆▆▆▆▆▇▇▇▇▇▇███████</td></tr><tr><td>val_acc</td><td>▁</td></tr><tr><td>val_loss</td><td>▁</td></tr></table><br/></div><div class=\"wandb-col\"><h3>Run summary:</h3><br/><table class=\"wandb\"><tr><td>loss</td><td>228.85656</td></tr><tr><td>val_acc</td><td>0.757</td></tr><tr><td>val_loss</td><td>228.84222</td></tr></table><br/></div></div>"
            ]
          },
          "metadata": {}
        },
        {
          "output_type": "display_data",
          "data": {
            "text/plain": [
              "<IPython.core.display.HTML object>"
            ],
            "text/html": [
              " View run <strong style=\"color:#cdcd00\">e_5_hl_[128, 256, 512]_opt_sgd_bs_64_init_xavier_ac_relu</strong> at: <a href='https://wandb.ai/yeshu183-indian-institute-of-technology-madras/Sweep%20Functionality/runs/zodd5ml4' target=\"_blank\">https://wandb.ai/yeshu183-indian-institute-of-technology-madras/Sweep%20Functionality/runs/zodd5ml4</a><br> View project at: <a href='https://wandb.ai/yeshu183-indian-institute-of-technology-madras/Sweep%20Functionality' target=\"_blank\">https://wandb.ai/yeshu183-indian-institute-of-technology-madras/Sweep%20Functionality</a><br>Synced 5 W&B file(s), 0 media file(s), 0 artifact file(s) and 0 other file(s)"
            ]
          },
          "metadata": {}
        },
        {
          "output_type": "display_data",
          "data": {
            "text/plain": [
              "<IPython.core.display.HTML object>"
            ],
            "text/html": [
              "Find logs at: <code>./wandb/run-20250310_051743-zodd5ml4/logs</code>"
            ]
          },
          "metadata": {}
        },
        {
          "output_type": "stream",
          "name": "stderr",
          "text": [
            "\u001b[34m\u001b[1mwandb\u001b[0m: Agent Starting Run: liek84vp with config:\n",
            "\u001b[34m\u001b[1mwandb\u001b[0m: \tactivation: relu\n",
            "\u001b[34m\u001b[1mwandb\u001b[0m: \tbatch_size: 64\n",
            "\u001b[34m\u001b[1mwandb\u001b[0m: \tepochs: 5\n",
            "\u001b[34m\u001b[1mwandb\u001b[0m: \thidden_layers: [128, 256, 512]\n",
            "\u001b[34m\u001b[1mwandb\u001b[0m: \tl2_reg: 0.5\n",
            "\u001b[34m\u001b[1mwandb\u001b[0m: \tlearning_rate: 0.001\n",
            "\u001b[34m\u001b[1mwandb\u001b[0m: \toptimizer: sgd\n",
            "\u001b[34m\u001b[1mwandb\u001b[0m: \tweight_init: xavier\n"
          ]
        },
        {
          "output_type": "display_data",
          "data": {
            "text/plain": [
              "<IPython.core.display.HTML object>"
            ],
            "text/html": [
              "Ignoring project 'Sweep Functionality' when running a sweep."
            ]
          },
          "metadata": {}
        },
        {
          "output_type": "display_data",
          "data": {
            "text/plain": [
              "<IPython.core.display.HTML object>"
            ],
            "text/html": [
              "Tracking run with wandb version 0.19.7"
            ]
          },
          "metadata": {}
        },
        {
          "output_type": "display_data",
          "data": {
            "text/plain": [
              "<IPython.core.display.HTML object>"
            ],
            "text/html": [
              "Run data is saved locally in <code>/content/wandb/run-20250310_051834-liek84vp</code>"
            ]
          },
          "metadata": {}
        },
        {
          "output_type": "display_data",
          "data": {
            "text/plain": [
              "<IPython.core.display.HTML object>"
            ],
            "text/html": [
              "Syncing run <strong><a href='https://wandb.ai/yeshu183-indian-institute-of-technology-madras/Sweep%20Functionality/runs/liek84vp' target=\"_blank\">still-sweep-7</a></strong> to <a href='https://wandb.ai/yeshu183-indian-institute-of-technology-madras/Sweep%20Functionality' target=\"_blank\">Weights & Biases</a> (<a href='https://wandb.me/developer-guide' target=\"_blank\">docs</a>)<br>Sweep page: <a href='https://wandb.ai/yeshu183-indian-institute-of-technology-madras/Sweep%20Functionality/sweeps/x54z7171' target=\"_blank\">https://wandb.ai/yeshu183-indian-institute-of-technology-madras/Sweep%20Functionality/sweeps/x54z7171</a>"
            ]
          },
          "metadata": {}
        },
        {
          "output_type": "display_data",
          "data": {
            "text/plain": [
              "<IPython.core.display.HTML object>"
            ],
            "text/html": [
              " View project at <a href='https://wandb.ai/yeshu183-indian-institute-of-technology-madras/Sweep%20Functionality' target=\"_blank\">https://wandb.ai/yeshu183-indian-institute-of-technology-madras/Sweep%20Functionality</a>"
            ]
          },
          "metadata": {}
        },
        {
          "output_type": "display_data",
          "data": {
            "text/plain": [
              "<IPython.core.display.HTML object>"
            ],
            "text/html": [
              " View sweep at <a href='https://wandb.ai/yeshu183-indian-institute-of-technology-madras/Sweep%20Functionality/sweeps/x54z7171' target=\"_blank\">https://wandb.ai/yeshu183-indian-institute-of-technology-madras/Sweep%20Functionality/sweeps/x54z7171</a>"
            ]
          },
          "metadata": {}
        },
        {
          "output_type": "display_data",
          "data": {
            "text/plain": [
              "<IPython.core.display.HTML object>"
            ],
            "text/html": [
              " View run at <a href='https://wandb.ai/yeshu183-indian-institute-of-technology-madras/Sweep%20Functionality/runs/liek84vp' target=\"_blank\">https://wandb.ai/yeshu183-indian-institute-of-technology-madras/Sweep%20Functionality/runs/liek84vp</a>"
            ]
          },
          "metadata": {}
        },
        {
          "output_type": "stream",
          "name": "stdout",
          "text": [
            "Epoch 1, Loss: 227.8531\n",
            "Epoch 2, Loss: 228.5770\n",
            "Epoch 3, Loss: 229.1949\n",
            "Epoch 4, Loss: 229.6972\n",
            "Epoch 5, Loss: 230.1066\n",
            "Validation Loss: 230.1144, Validation Accuracy: 0.7410\n"
          ]
        },
        {
          "output_type": "display_data",
          "data": {
            "text/plain": [
              "<IPython.core.display.HTML object>"
            ],
            "text/html": []
          },
          "metadata": {}
        },
        {
          "output_type": "display_data",
          "data": {
            "text/plain": [
              "<IPython.core.display.HTML object>"
            ],
            "text/html": [
              "<br>    <style><br>        .wandb-row {<br>            display: flex;<br>            flex-direction: row;<br>            flex-wrap: wrap;<br>            justify-content: flex-start;<br>            width: 100%;<br>        }<br>        .wandb-col {<br>            display: flex;<br>            flex-direction: column;<br>            flex-basis: 100%;<br>            flex: 1;<br>            padding: 10px;<br>        }<br>    </style><br><div class=\"wandb-row\"><div class=\"wandb-col\"><h3>Run history:</h3><br/><table class=\"wandb\"><tr><td>loss</td><td>▁▁▁▁▁▁▁▂▂▂▂▃▃▃▃▃▄▄▄▄▅▅▅▅▅▆▆▆▆▆▇▇▇▇▇█████</td></tr><tr><td>val_acc</td><td>▁</td></tr><tr><td>val_loss</td><td>▁</td></tr></table><br/></div><div class=\"wandb-col\"><h3>Run summary:</h3><br/><table class=\"wandb\"><tr><td>loss</td><td>230.10663</td></tr><tr><td>val_acc</td><td>0.741</td></tr><tr><td>val_loss</td><td>230.11439</td></tr></table><br/></div></div>"
            ]
          },
          "metadata": {}
        },
        {
          "output_type": "display_data",
          "data": {
            "text/plain": [
              "<IPython.core.display.HTML object>"
            ],
            "text/html": [
              " View run <strong style=\"color:#cdcd00\">e_5_hl_[128, 256, 512]_opt_sgd_bs_64_init_xavier_ac_relu</strong> at: <a href='https://wandb.ai/yeshu183-indian-institute-of-technology-madras/Sweep%20Functionality/runs/liek84vp' target=\"_blank\">https://wandb.ai/yeshu183-indian-institute-of-technology-madras/Sweep%20Functionality/runs/liek84vp</a><br> View project at: <a href='https://wandb.ai/yeshu183-indian-institute-of-technology-madras/Sweep%20Functionality' target=\"_blank\">https://wandb.ai/yeshu183-indian-institute-of-technology-madras/Sweep%20Functionality</a><br>Synced 5 W&B file(s), 0 media file(s), 0 artifact file(s) and 0 other file(s)"
            ]
          },
          "metadata": {}
        },
        {
          "output_type": "display_data",
          "data": {
            "text/plain": [
              "<IPython.core.display.HTML object>"
            ],
            "text/html": [
              "Find logs at: <code>./wandb/run-20250310_051834-liek84vp/logs</code>"
            ]
          },
          "metadata": {}
        },
        {
          "output_type": "stream",
          "name": "stderr",
          "text": [
            "\u001b[34m\u001b[1mwandb\u001b[0m: Agent Starting Run: am9lpr8j with config:\n",
            "\u001b[34m\u001b[1mwandb\u001b[0m: \tactivation: relu\n",
            "\u001b[34m\u001b[1mwandb\u001b[0m: \tbatch_size: 64\n",
            "\u001b[34m\u001b[1mwandb\u001b[0m: \tepochs: 5\n",
            "\u001b[34m\u001b[1mwandb\u001b[0m: \thidden_layers: [128, 256, 512]\n",
            "\u001b[34m\u001b[1mwandb\u001b[0m: \tl2_reg: 0.5\n",
            "\u001b[34m\u001b[1mwandb\u001b[0m: \tlearning_rate: 0.001\n",
            "\u001b[34m\u001b[1mwandb\u001b[0m: \toptimizer: sgd\n",
            "\u001b[34m\u001b[1mwandb\u001b[0m: \tweight_init: random\n"
          ]
        },
        {
          "output_type": "display_data",
          "data": {
            "text/plain": [
              "<IPython.core.display.HTML object>"
            ],
            "text/html": [
              "Ignoring project 'Sweep Functionality' when running a sweep."
            ]
          },
          "metadata": {}
        },
        {
          "output_type": "display_data",
          "data": {
            "text/plain": [
              "<IPython.core.display.HTML object>"
            ],
            "text/html": [
              "Tracking run with wandb version 0.19.7"
            ]
          },
          "metadata": {}
        },
        {
          "output_type": "display_data",
          "data": {
            "text/plain": [
              "<IPython.core.display.HTML object>"
            ],
            "text/html": [
              "Run data is saved locally in <code>/content/wandb/run-20250310_051929-am9lpr8j</code>"
            ]
          },
          "metadata": {}
        },
        {
          "output_type": "display_data",
          "data": {
            "text/plain": [
              "<IPython.core.display.HTML object>"
            ],
            "text/html": [
              "Syncing run <strong><a href='https://wandb.ai/yeshu183-indian-institute-of-technology-madras/Sweep%20Functionality/runs/am9lpr8j' target=\"_blank\">solar-sweep-8</a></strong> to <a href='https://wandb.ai/yeshu183-indian-institute-of-technology-madras/Sweep%20Functionality' target=\"_blank\">Weights & Biases</a> (<a href='https://wandb.me/developer-guide' target=\"_blank\">docs</a>)<br>Sweep page: <a href='https://wandb.ai/yeshu183-indian-institute-of-technology-madras/Sweep%20Functionality/sweeps/x54z7171' target=\"_blank\">https://wandb.ai/yeshu183-indian-institute-of-technology-madras/Sweep%20Functionality/sweeps/x54z7171</a>"
            ]
          },
          "metadata": {}
        },
        {
          "output_type": "display_data",
          "data": {
            "text/plain": [
              "<IPython.core.display.HTML object>"
            ],
            "text/html": [
              " View project at <a href='https://wandb.ai/yeshu183-indian-institute-of-technology-madras/Sweep%20Functionality' target=\"_blank\">https://wandb.ai/yeshu183-indian-institute-of-technology-madras/Sweep%20Functionality</a>"
            ]
          },
          "metadata": {}
        },
        {
          "output_type": "display_data",
          "data": {
            "text/plain": [
              "<IPython.core.display.HTML object>"
            ],
            "text/html": [
              " View sweep at <a href='https://wandb.ai/yeshu183-indian-institute-of-technology-madras/Sweep%20Functionality/sweeps/x54z7171' target=\"_blank\">https://wandb.ai/yeshu183-indian-institute-of-technology-madras/Sweep%20Functionality/sweeps/x54z7171</a>"
            ]
          },
          "metadata": {}
        },
        {
          "output_type": "display_data",
          "data": {
            "text/plain": [
              "<IPython.core.display.HTML object>"
            ],
            "text/html": [
              " View run at <a href='https://wandb.ai/yeshu183-indian-institute-of-technology-madras/Sweep%20Functionality/runs/am9lpr8j' target=\"_blank\">https://wandb.ai/yeshu183-indian-institute-of-technology-madras/Sweep%20Functionality/runs/am9lpr8j</a>"
            ]
          },
          "metadata": {}
        },
        {
          "output_type": "stream",
          "name": "stdout",
          "text": [
            "Epoch 1, Loss: 6.9981\n",
            "Epoch 2, Loss: 6.9983\n",
            "Epoch 3, Loss: 6.9981\n",
            "Epoch 4, Loss: 6.9985\n",
            "Epoch 5, Loss: 6.9987\n",
            "Validation Loss: 6.9987, Validation Accuracy: 0.0983\n"
          ]
        },
        {
          "output_type": "display_data",
          "data": {
            "text/plain": [
              "<IPython.core.display.HTML object>"
            ],
            "text/html": []
          },
          "metadata": {}
        },
        {
          "output_type": "display_data",
          "data": {
            "text/plain": [
              "<IPython.core.display.HTML object>"
            ],
            "text/html": [
              "<br>    <style><br>        .wandb-row {<br>            display: flex;<br>            flex-direction: row;<br>            flex-wrap: wrap;<br>            justify-content: flex-start;<br>            width: 100%;<br>        }<br>        .wandb-col {<br>            display: flex;<br>            flex-direction: column;<br>            flex-basis: 100%;<br>            flex: 1;<br>            padding: 10px;<br>        }<br>    </style><br><div class=\"wandb-row\"><div class=\"wandb-col\"><h3>Run history:</h3><br/><table class=\"wandb\"><tr><td>loss</td><td>▃▁▃▂▃▂▃▁▆▂▃▃▃▃▄▃▆▄▅▅▄▃▄▄▄▄▄▅▅▂▅▅▃▆▇▆▇▇▇█</td></tr><tr><td>val_acc</td><td>▁</td></tr><tr><td>val_loss</td><td>▁</td></tr></table><br/></div><div class=\"wandb-col\"><h3>Run summary:</h3><br/><table class=\"wandb\"><tr><td>loss</td><td>6.99871</td></tr><tr><td>val_acc</td><td>0.09833</td></tr><tr><td>val_loss</td><td>6.99866</td></tr></table><br/></div></div>"
            ]
          },
          "metadata": {}
        },
        {
          "output_type": "display_data",
          "data": {
            "text/plain": [
              "<IPython.core.display.HTML object>"
            ],
            "text/html": [
              " View run <strong style=\"color:#cdcd00\">e_5_hl_[128, 256, 512]_opt_sgd_bs_64_init_random_ac_relu</strong> at: <a href='https://wandb.ai/yeshu183-indian-institute-of-technology-madras/Sweep%20Functionality/runs/am9lpr8j' target=\"_blank\">https://wandb.ai/yeshu183-indian-institute-of-technology-madras/Sweep%20Functionality/runs/am9lpr8j</a><br> View project at: <a href='https://wandb.ai/yeshu183-indian-institute-of-technology-madras/Sweep%20Functionality' target=\"_blank\">https://wandb.ai/yeshu183-indian-institute-of-technology-madras/Sweep%20Functionality</a><br>Synced 5 W&B file(s), 0 media file(s), 0 artifact file(s) and 0 other file(s)"
            ]
          },
          "metadata": {}
        },
        {
          "output_type": "display_data",
          "data": {
            "text/plain": [
              "<IPython.core.display.HTML object>"
            ],
            "text/html": [
              "Find logs at: <code>./wandb/run-20250310_051929-am9lpr8j/logs</code>"
            ]
          },
          "metadata": {}
        },
        {
          "output_type": "stream",
          "name": "stderr",
          "text": [
            "\u001b[34m\u001b[1mwandb\u001b[0m: Agent Starting Run: 7bk6sbmz with config:\n",
            "\u001b[34m\u001b[1mwandb\u001b[0m: \tactivation: tanh\n",
            "\u001b[34m\u001b[1mwandb\u001b[0m: \tbatch_size: 64\n",
            "\u001b[34m\u001b[1mwandb\u001b[0m: \tepochs: 5\n",
            "\u001b[34m\u001b[1mwandb\u001b[0m: \thidden_layers: [128, 256, 512]\n",
            "\u001b[34m\u001b[1mwandb\u001b[0m: \tl2_reg: 0.5\n",
            "\u001b[34m\u001b[1mwandb\u001b[0m: \tlearning_rate: 0.0001\n",
            "\u001b[34m\u001b[1mwandb\u001b[0m: \toptimizer: sgd\n",
            "\u001b[34m\u001b[1mwandb\u001b[0m: \tweight_init: xavier\n"
          ]
        },
        {
          "output_type": "display_data",
          "data": {
            "text/plain": [
              "<IPython.core.display.HTML object>"
            ],
            "text/html": [
              "Ignoring project 'Sweep Functionality' when running a sweep."
            ]
          },
          "metadata": {}
        },
        {
          "output_type": "display_data",
          "data": {
            "text/plain": [
              "<IPython.core.display.HTML object>"
            ],
            "text/html": [
              "Tracking run with wandb version 0.19.7"
            ]
          },
          "metadata": {}
        },
        {
          "output_type": "display_data",
          "data": {
            "text/plain": [
              "<IPython.core.display.HTML object>"
            ],
            "text/html": [
              "Run data is saved locally in <code>/content/wandb/run-20250310_052020-7bk6sbmz</code>"
            ]
          },
          "metadata": {}
        },
        {
          "output_type": "display_data",
          "data": {
            "text/plain": [
              "<IPython.core.display.HTML object>"
            ],
            "text/html": [
              "Syncing run <strong><a href='https://wandb.ai/yeshu183-indian-institute-of-technology-madras/Sweep%20Functionality/runs/7bk6sbmz' target=\"_blank\">ruby-sweep-9</a></strong> to <a href='https://wandb.ai/yeshu183-indian-institute-of-technology-madras/Sweep%20Functionality' target=\"_blank\">Weights & Biases</a> (<a href='https://wandb.me/developer-guide' target=\"_blank\">docs</a>)<br>Sweep page: <a href='https://wandb.ai/yeshu183-indian-institute-of-technology-madras/Sweep%20Functionality/sweeps/x54z7171' target=\"_blank\">https://wandb.ai/yeshu183-indian-institute-of-technology-madras/Sweep%20Functionality/sweeps/x54z7171</a>"
            ]
          },
          "metadata": {}
        },
        {
          "output_type": "display_data",
          "data": {
            "text/plain": [
              "<IPython.core.display.HTML object>"
            ],
            "text/html": [
              " View project at <a href='https://wandb.ai/yeshu183-indian-institute-of-technology-madras/Sweep%20Functionality' target=\"_blank\">https://wandb.ai/yeshu183-indian-institute-of-technology-madras/Sweep%20Functionality</a>"
            ]
          },
          "metadata": {}
        },
        {
          "output_type": "display_data",
          "data": {
            "text/plain": [
              "<IPython.core.display.HTML object>"
            ],
            "text/html": [
              " View sweep at <a href='https://wandb.ai/yeshu183-indian-institute-of-technology-madras/Sweep%20Functionality/sweeps/x54z7171' target=\"_blank\">https://wandb.ai/yeshu183-indian-institute-of-technology-madras/Sweep%20Functionality/sweeps/x54z7171</a>"
            ]
          },
          "metadata": {}
        },
        {
          "output_type": "display_data",
          "data": {
            "text/plain": [
              "<IPython.core.display.HTML object>"
            ],
            "text/html": [
              " View run at <a href='https://wandb.ai/yeshu183-indian-institute-of-technology-madras/Sweep%20Functionality/runs/7bk6sbmz' target=\"_blank\">https://wandb.ai/yeshu183-indian-institute-of-technology-madras/Sweep%20Functionality/runs/7bk6sbmz</a>"
            ]
          },
          "metadata": {}
        },
        {
          "output_type": "stream",
          "name": "stdout",
          "text": [
            "Epoch 1, Loss: 228.3557\n",
            "Epoch 2, Loss: 228.3647\n",
            "Epoch 3, Loss: 228.3773\n",
            "Epoch 4, Loss: 228.3954\n",
            "Epoch 5, Loss: 228.4144\n",
            "Validation Loss: 228.4160, Validation Accuracy: 0.4103\n"
          ]
        },
        {
          "output_type": "display_data",
          "data": {
            "text/plain": [
              "<IPython.core.display.HTML object>"
            ],
            "text/html": []
          },
          "metadata": {}
        },
        {
          "output_type": "display_data",
          "data": {
            "text/plain": [
              "<IPython.core.display.HTML object>"
            ],
            "text/html": [
              "<br>    <style><br>        .wandb-row {<br>            display: flex;<br>            flex-direction: row;<br>            flex-wrap: wrap;<br>            justify-content: flex-start;<br>            width: 100%;<br>        }<br>        .wandb-col {<br>            display: flex;<br>            flex-direction: column;<br>            flex-basis: 100%;<br>            flex: 1;<br>            padding: 10px;<br>        }<br>    </style><br><div class=\"wandb-row\"><div class=\"wandb-col\"><h3>Run history:</h3><br/><table class=\"wandb\"><tr><td>loss</td><td>▅▁▁▁▁▁▁▂▂▂▃▃▃▃▃▄▄▄▄▄▅▅▅▅▅▅▅▅▆▆▇▇▇▇▇▇▇███</td></tr><tr><td>val_acc</td><td>▁</td></tr><tr><td>val_loss</td><td>▁</td></tr></table><br/></div><div class=\"wandb-col\"><h3>Run summary:</h3><br/><table class=\"wandb\"><tr><td>loss</td><td>228.41445</td></tr><tr><td>val_acc</td><td>0.41033</td></tr><tr><td>val_loss</td><td>228.416</td></tr></table><br/></div></div>"
            ]
          },
          "metadata": {}
        },
        {
          "output_type": "display_data",
          "data": {
            "text/plain": [
              "<IPython.core.display.HTML object>"
            ],
            "text/html": [
              " View run <strong style=\"color:#cdcd00\">e_5_hl_[128, 256, 512]_opt_sgd_bs_64_init_xavier_ac_tanh</strong> at: <a href='https://wandb.ai/yeshu183-indian-institute-of-technology-madras/Sweep%20Functionality/runs/7bk6sbmz' target=\"_blank\">https://wandb.ai/yeshu183-indian-institute-of-technology-madras/Sweep%20Functionality/runs/7bk6sbmz</a><br> View project at: <a href='https://wandb.ai/yeshu183-indian-institute-of-technology-madras/Sweep%20Functionality' target=\"_blank\">https://wandb.ai/yeshu183-indian-institute-of-technology-madras/Sweep%20Functionality</a><br>Synced 5 W&B file(s), 0 media file(s), 0 artifact file(s) and 0 other file(s)"
            ]
          },
          "metadata": {}
        },
        {
          "output_type": "display_data",
          "data": {
            "text/plain": [
              "<IPython.core.display.HTML object>"
            ],
            "text/html": [
              "Find logs at: <code>./wandb/run-20250310_052020-7bk6sbmz/logs</code>"
            ]
          },
          "metadata": {}
        },
        {
          "output_type": "stream",
          "name": "stderr",
          "text": [
            "\u001b[34m\u001b[1mwandb\u001b[0m: Agent Starting Run: w9l7bf8y with config:\n",
            "\u001b[34m\u001b[1mwandb\u001b[0m: \tactivation: relu\n",
            "\u001b[34m\u001b[1mwandb\u001b[0m: \tbatch_size: 64\n",
            "\u001b[34m\u001b[1mwandb\u001b[0m: \tepochs: 5\n",
            "\u001b[34m\u001b[1mwandb\u001b[0m: \thidden_layers: [128, 256, 512]\n",
            "\u001b[34m\u001b[1mwandb\u001b[0m: \tl2_reg: 0.0005\n",
            "\u001b[34m\u001b[1mwandb\u001b[0m: \tlearning_rate: 0.0001\n",
            "\u001b[34m\u001b[1mwandb\u001b[0m: \toptimizer: sgd\n",
            "\u001b[34m\u001b[1mwandb\u001b[0m: \tweight_init: xavier\n"
          ]
        },
        {
          "output_type": "display_data",
          "data": {
            "text/plain": [
              "<IPython.core.display.HTML object>"
            ],
            "text/html": [
              "Ignoring project 'Sweep Functionality' when running a sweep."
            ]
          },
          "metadata": {}
        },
        {
          "output_type": "display_data",
          "data": {
            "text/plain": [
              "<IPython.core.display.HTML object>"
            ],
            "text/html": [
              "Tracking run with wandb version 0.19.7"
            ]
          },
          "metadata": {}
        },
        {
          "output_type": "display_data",
          "data": {
            "text/plain": [
              "<IPython.core.display.HTML object>"
            ],
            "text/html": [
              "Run data is saved locally in <code>/content/wandb/run-20250310_052131-w9l7bf8y</code>"
            ]
          },
          "metadata": {}
        },
        {
          "output_type": "display_data",
          "data": {
            "text/plain": [
              "<IPython.core.display.HTML object>"
            ],
            "text/html": [
              "Syncing run <strong><a href='https://wandb.ai/yeshu183-indian-institute-of-technology-madras/Sweep%20Functionality/runs/w9l7bf8y' target=\"_blank\">lively-sweep-10</a></strong> to <a href='https://wandb.ai/yeshu183-indian-institute-of-technology-madras/Sweep%20Functionality' target=\"_blank\">Weights & Biases</a> (<a href='https://wandb.me/developer-guide' target=\"_blank\">docs</a>)<br>Sweep page: <a href='https://wandb.ai/yeshu183-indian-institute-of-technology-madras/Sweep%20Functionality/sweeps/x54z7171' target=\"_blank\">https://wandb.ai/yeshu183-indian-institute-of-technology-madras/Sweep%20Functionality/sweeps/x54z7171</a>"
            ]
          },
          "metadata": {}
        },
        {
          "output_type": "display_data",
          "data": {
            "text/plain": [
              "<IPython.core.display.HTML object>"
            ],
            "text/html": [
              " View project at <a href='https://wandb.ai/yeshu183-indian-institute-of-technology-madras/Sweep%20Functionality' target=\"_blank\">https://wandb.ai/yeshu183-indian-institute-of-technology-madras/Sweep%20Functionality</a>"
            ]
          },
          "metadata": {}
        },
        {
          "output_type": "display_data",
          "data": {
            "text/plain": [
              "<IPython.core.display.HTML object>"
            ],
            "text/html": [
              " View sweep at <a href='https://wandb.ai/yeshu183-indian-institute-of-technology-madras/Sweep%20Functionality/sweeps/x54z7171' target=\"_blank\">https://wandb.ai/yeshu183-indian-institute-of-technology-madras/Sweep%20Functionality/sweeps/x54z7171</a>"
            ]
          },
          "metadata": {}
        },
        {
          "output_type": "display_data",
          "data": {
            "text/plain": [
              "<IPython.core.display.HTML object>"
            ],
            "text/html": [
              " View run at <a href='https://wandb.ai/yeshu183-indian-institute-of-technology-madras/Sweep%20Functionality/runs/w9l7bf8y' target=\"_blank\">https://wandb.ai/yeshu183-indian-institute-of-technology-madras/Sweep%20Functionality/runs/w9l7bf8y</a>"
            ]
          },
          "metadata": {}
        },
        {
          "output_type": "stream",
          "name": "stdout",
          "text": [
            "Epoch 1, Loss: 0.4530\n",
            "Epoch 2, Loss: 0.4466\n",
            "Epoch 3, Loss: 0.4408\n",
            "Epoch 4, Loss: 0.4328\n",
            "Epoch 5, Loss: 0.4244\n",
            "Validation Loss: 0.4231, Validation Accuracy: 0.5868\n"
          ]
        },
        {
          "output_type": "display_data",
          "data": {
            "text/plain": [
              "<IPython.core.display.HTML object>"
            ],
            "text/html": []
          },
          "metadata": {}
        },
        {
          "output_type": "display_data",
          "data": {
            "text/plain": [
              "<IPython.core.display.HTML object>"
            ],
            "text/html": [
              "<br>    <style><br>        .wandb-row {<br>            display: flex;<br>            flex-direction: row;<br>            flex-wrap: wrap;<br>            justify-content: flex-start;<br>            width: 100%;<br>        }<br>        .wandb-col {<br>            display: flex;<br>            flex-direction: column;<br>            flex-basis: 100%;<br>            flex: 1;<br>            padding: 10px;<br>        }<br>    </style><br><div class=\"wandb-row\"><div class=\"wandb-col\"><h3>Run history:</h3><br/><table class=\"wandb\"><tr><td>loss</td><td>▇██▇▆▅▅▅▅▅▄▄▄▄▄▄▄▄▃▃▃▃▃▂▃▃▃▂▂▃▂▂▂▂▂▂▁▂▁▁</td></tr><tr><td>val_acc</td><td>▁</td></tr><tr><td>val_loss</td><td>▁</td></tr></table><br/></div><div class=\"wandb-col\"><h3>Run summary:</h3><br/><table class=\"wandb\"><tr><td>loss</td><td>0.42443</td></tr><tr><td>val_acc</td><td>0.58683</td></tr><tr><td>val_loss</td><td>0.42312</td></tr></table><br/></div></div>"
            ]
          },
          "metadata": {}
        },
        {
          "output_type": "display_data",
          "data": {
            "text/plain": [
              "<IPython.core.display.HTML object>"
            ],
            "text/html": [
              " View run <strong style=\"color:#cdcd00\">e_5_hl_[128, 256, 512]_opt_sgd_bs_64_init_xavier_ac_relu</strong> at: <a href='https://wandb.ai/yeshu183-indian-institute-of-technology-madras/Sweep%20Functionality/runs/w9l7bf8y' target=\"_blank\">https://wandb.ai/yeshu183-indian-institute-of-technology-madras/Sweep%20Functionality/runs/w9l7bf8y</a><br> View project at: <a href='https://wandb.ai/yeshu183-indian-institute-of-technology-madras/Sweep%20Functionality' target=\"_blank\">https://wandb.ai/yeshu183-indian-institute-of-technology-madras/Sweep%20Functionality</a><br>Synced 5 W&B file(s), 0 media file(s), 0 artifact file(s) and 0 other file(s)"
            ]
          },
          "metadata": {}
        },
        {
          "output_type": "display_data",
          "data": {
            "text/plain": [
              "<IPython.core.display.HTML object>"
            ],
            "text/html": [
              "Find logs at: <code>./wandb/run-20250310_052131-w9l7bf8y/logs</code>"
            ]
          },
          "metadata": {}
        },
        {
          "output_type": "stream",
          "name": "stderr",
          "text": [
            "\u001b[34m\u001b[1mwandb\u001b[0m: Agent Starting Run: fa2do1v2 with config:\n",
            "\u001b[34m\u001b[1mwandb\u001b[0m: \tactivation: relu\n",
            "\u001b[34m\u001b[1mwandb\u001b[0m: \tbatch_size: 64\n",
            "\u001b[34m\u001b[1mwandb\u001b[0m: \tepochs: 5\n",
            "\u001b[34m\u001b[1mwandb\u001b[0m: \thidden_layers: [128, 256, 512]\n",
            "\u001b[34m\u001b[1mwandb\u001b[0m: \tl2_reg: 0.0005\n",
            "\u001b[34m\u001b[1mwandb\u001b[0m: \tlearning_rate: 0.0001\n",
            "\u001b[34m\u001b[1mwandb\u001b[0m: \toptimizer: sgd\n",
            "\u001b[34m\u001b[1mwandb\u001b[0m: \tweight_init: xavier\n"
          ]
        },
        {
          "output_type": "display_data",
          "data": {
            "text/plain": [
              "<IPython.core.display.HTML object>"
            ],
            "text/html": [
              "Ignoring project 'Sweep Functionality' when running a sweep."
            ]
          },
          "metadata": {}
        },
        {
          "output_type": "display_data",
          "data": {
            "text/plain": [
              "<IPython.core.display.HTML object>"
            ],
            "text/html": [
              "Tracking run with wandb version 0.19.7"
            ]
          },
          "metadata": {}
        },
        {
          "output_type": "display_data",
          "data": {
            "text/plain": [
              "<IPython.core.display.HTML object>"
            ],
            "text/html": [
              "Run data is saved locally in <code>/content/wandb/run-20250310_052226-fa2do1v2</code>"
            ]
          },
          "metadata": {}
        },
        {
          "output_type": "display_data",
          "data": {
            "text/plain": [
              "<IPython.core.display.HTML object>"
            ],
            "text/html": [
              "Syncing run <strong><a href='https://wandb.ai/yeshu183-indian-institute-of-technology-madras/Sweep%20Functionality/runs/fa2do1v2' target=\"_blank\">fine-sweep-11</a></strong> to <a href='https://wandb.ai/yeshu183-indian-institute-of-technology-madras/Sweep%20Functionality' target=\"_blank\">Weights & Biases</a> (<a href='https://wandb.me/developer-guide' target=\"_blank\">docs</a>)<br>Sweep page: <a href='https://wandb.ai/yeshu183-indian-institute-of-technology-madras/Sweep%20Functionality/sweeps/x54z7171' target=\"_blank\">https://wandb.ai/yeshu183-indian-institute-of-technology-madras/Sweep%20Functionality/sweeps/x54z7171</a>"
            ]
          },
          "metadata": {}
        },
        {
          "output_type": "display_data",
          "data": {
            "text/plain": [
              "<IPython.core.display.HTML object>"
            ],
            "text/html": [
              " View project at <a href='https://wandb.ai/yeshu183-indian-institute-of-technology-madras/Sweep%20Functionality' target=\"_blank\">https://wandb.ai/yeshu183-indian-institute-of-technology-madras/Sweep%20Functionality</a>"
            ]
          },
          "metadata": {}
        },
        {
          "output_type": "display_data",
          "data": {
            "text/plain": [
              "<IPython.core.display.HTML object>"
            ],
            "text/html": [
              " View sweep at <a href='https://wandb.ai/yeshu183-indian-institute-of-technology-madras/Sweep%20Functionality/sweeps/x54z7171' target=\"_blank\">https://wandb.ai/yeshu183-indian-institute-of-technology-madras/Sweep%20Functionality/sweeps/x54z7171</a>"
            ]
          },
          "metadata": {}
        },
        {
          "output_type": "display_data",
          "data": {
            "text/plain": [
              "<IPython.core.display.HTML object>"
            ],
            "text/html": [
              " View run at <a href='https://wandb.ai/yeshu183-indian-institute-of-technology-madras/Sweep%20Functionality/runs/fa2do1v2' target=\"_blank\">https://wandb.ai/yeshu183-indian-institute-of-technology-madras/Sweep%20Functionality/runs/fa2do1v2</a>"
            ]
          },
          "metadata": {}
        },
        {
          "output_type": "stream",
          "name": "stdout",
          "text": [
            "Epoch 1, Loss: 0.4540\n",
            "Epoch 2, Loss: 0.4462\n",
            "Epoch 3, Loss: 0.4393\n",
            "Epoch 4, Loss: 0.4317\n",
            "Epoch 5, Loss: 0.4262\n",
            "Validation Loss: 0.4232, Validation Accuracy: 0.5280\n"
          ]
        },
        {
          "output_type": "display_data",
          "data": {
            "text/plain": [
              "<IPython.core.display.HTML object>"
            ],
            "text/html": []
          },
          "metadata": {}
        },
        {
          "output_type": "display_data",
          "data": {
            "text/plain": [
              "<IPython.core.display.HTML object>"
            ],
            "text/html": [
              "<br>    <style><br>        .wandb-row {<br>            display: flex;<br>            flex-direction: row;<br>            flex-wrap: wrap;<br>            justify-content: flex-start;<br>            width: 100%;<br>        }<br>        .wandb-col {<br>            display: flex;<br>            flex-direction: column;<br>            flex-basis: 100%;<br>            flex: 1;<br>            padding: 10px;<br>        }<br>    </style><br><div class=\"wandb-row\"><div class=\"wandb-col\"><h3>Run history:</h3><br/><table class=\"wandb\"><tr><td>loss</td><td>█▅▅▃▃▃▃▃▃▃▃▃▃▃▃▂▂▂▂▂▂▂▂▂▂▂▂▂▂▂▁▂▁▁▁▁▁▁▁▁</td></tr><tr><td>val_acc</td><td>▁</td></tr><tr><td>val_loss</td><td>▁</td></tr></table><br/></div><div class=\"wandb-col\"><h3>Run summary:</h3><br/><table class=\"wandb\"><tr><td>loss</td><td>0.42616</td></tr><tr><td>val_acc</td><td>0.528</td></tr><tr><td>val_loss</td><td>0.42318</td></tr></table><br/></div></div>"
            ]
          },
          "metadata": {}
        },
        {
          "output_type": "display_data",
          "data": {
            "text/plain": [
              "<IPython.core.display.HTML object>"
            ],
            "text/html": [
              " View run <strong style=\"color:#cdcd00\">e_5_hl_[128, 256, 512]_opt_sgd_bs_64_init_xavier_ac_relu</strong> at: <a href='https://wandb.ai/yeshu183-indian-institute-of-technology-madras/Sweep%20Functionality/runs/fa2do1v2' target=\"_blank\">https://wandb.ai/yeshu183-indian-institute-of-technology-madras/Sweep%20Functionality/runs/fa2do1v2</a><br> View project at: <a href='https://wandb.ai/yeshu183-indian-institute-of-technology-madras/Sweep%20Functionality' target=\"_blank\">https://wandb.ai/yeshu183-indian-institute-of-technology-madras/Sweep%20Functionality</a><br>Synced 5 W&B file(s), 0 media file(s), 0 artifact file(s) and 0 other file(s)"
            ]
          },
          "metadata": {}
        },
        {
          "output_type": "display_data",
          "data": {
            "text/plain": [
              "<IPython.core.display.HTML object>"
            ],
            "text/html": [
              "Find logs at: <code>./wandb/run-20250310_052226-fa2do1v2/logs</code>"
            ]
          },
          "metadata": {}
        },
        {
          "output_type": "stream",
          "name": "stderr",
          "text": [
            "\u001b[34m\u001b[1mwandb\u001b[0m: Agent Starting Run: ezxdoq2b with config:\n",
            "\u001b[34m\u001b[1mwandb\u001b[0m: \tactivation: relu\n",
            "\u001b[34m\u001b[1mwandb\u001b[0m: \tbatch_size: 32\n",
            "\u001b[34m\u001b[1mwandb\u001b[0m: \tepochs: 5\n",
            "\u001b[34m\u001b[1mwandb\u001b[0m: \thidden_layers: [128, 256, 512]\n",
            "\u001b[34m\u001b[1mwandb\u001b[0m: \tl2_reg: 0.0005\n",
            "\u001b[34m\u001b[1mwandb\u001b[0m: \tlearning_rate: 0.0001\n",
            "\u001b[34m\u001b[1mwandb\u001b[0m: \toptimizer: sgd\n",
            "\u001b[34m\u001b[1mwandb\u001b[0m: \tweight_init: xavier\n"
          ]
        },
        {
          "output_type": "display_data",
          "data": {
            "text/plain": [
              "<IPython.core.display.HTML object>"
            ],
            "text/html": [
              "Ignoring project 'Sweep Functionality' when running a sweep."
            ]
          },
          "metadata": {}
        },
        {
          "output_type": "display_data",
          "data": {
            "text/plain": [
              "<IPython.core.display.HTML object>"
            ],
            "text/html": [
              "Tracking run with wandb version 0.19.7"
            ]
          },
          "metadata": {}
        },
        {
          "output_type": "display_data",
          "data": {
            "text/plain": [
              "<IPython.core.display.HTML object>"
            ],
            "text/html": [
              "Run data is saved locally in <code>/content/wandb/run-20250310_052317-ezxdoq2b</code>"
            ]
          },
          "metadata": {}
        },
        {
          "output_type": "display_data",
          "data": {
            "text/plain": [
              "<IPython.core.display.HTML object>"
            ],
            "text/html": [
              "Syncing run <strong><a href='https://wandb.ai/yeshu183-indian-institute-of-technology-madras/Sweep%20Functionality/runs/ezxdoq2b' target=\"_blank\">comfy-sweep-12</a></strong> to <a href='https://wandb.ai/yeshu183-indian-institute-of-technology-madras/Sweep%20Functionality' target=\"_blank\">Weights & Biases</a> (<a href='https://wandb.me/developer-guide' target=\"_blank\">docs</a>)<br>Sweep page: <a href='https://wandb.ai/yeshu183-indian-institute-of-technology-madras/Sweep%20Functionality/sweeps/x54z7171' target=\"_blank\">https://wandb.ai/yeshu183-indian-institute-of-technology-madras/Sweep%20Functionality/sweeps/x54z7171</a>"
            ]
          },
          "metadata": {}
        },
        {
          "output_type": "display_data",
          "data": {
            "text/plain": [
              "<IPython.core.display.HTML object>"
            ],
            "text/html": [
              " View project at <a href='https://wandb.ai/yeshu183-indian-institute-of-technology-madras/Sweep%20Functionality' target=\"_blank\">https://wandb.ai/yeshu183-indian-institute-of-technology-madras/Sweep%20Functionality</a>"
            ]
          },
          "metadata": {}
        },
        {
          "output_type": "display_data",
          "data": {
            "text/plain": [
              "<IPython.core.display.HTML object>"
            ],
            "text/html": [
              " View sweep at <a href='https://wandb.ai/yeshu183-indian-institute-of-technology-madras/Sweep%20Functionality/sweeps/x54z7171' target=\"_blank\">https://wandb.ai/yeshu183-indian-institute-of-technology-madras/Sweep%20Functionality/sweeps/x54z7171</a>"
            ]
          },
          "metadata": {}
        },
        {
          "output_type": "display_data",
          "data": {
            "text/plain": [
              "<IPython.core.display.HTML object>"
            ],
            "text/html": [
              " View run at <a href='https://wandb.ai/yeshu183-indian-institute-of-technology-madras/Sweep%20Functionality/runs/ezxdoq2b' target=\"_blank\">https://wandb.ai/yeshu183-indian-institute-of-technology-madras/Sweep%20Functionality/runs/ezxdoq2b</a>"
            ]
          },
          "metadata": {}
        },
        {
          "output_type": "stream",
          "name": "stdout",
          "text": [
            "Epoch 1, Loss: 0.4487\n",
            "Epoch 2, Loss: 0.4345\n",
            "Epoch 3, Loss: 0.4272\n",
            "Epoch 4, Loss: 0.4144\n",
            "Epoch 5, Loss: 0.3878\n",
            "Validation Loss: 0.3871, Validation Accuracy: 0.5997\n"
          ]
        },
        {
          "output_type": "display_data",
          "data": {
            "text/plain": [
              "<IPython.core.display.HTML object>"
            ],
            "text/html": []
          },
          "metadata": {}
        },
        {
          "output_type": "display_data",
          "data": {
            "text/plain": [
              "<IPython.core.display.HTML object>"
            ],
            "text/html": [
              "<br>    <style><br>        .wandb-row {<br>            display: flex;<br>            flex-direction: row;<br>            flex-wrap: wrap;<br>            justify-content: flex-start;<br>            width: 100%;<br>        }<br>        .wandb-col {<br>            display: flex;<br>            flex-direction: column;<br>            flex-basis: 100%;<br>            flex: 1;<br>            padding: 10px;<br>        }<br>    </style><br><div class=\"wandb-row\"><div class=\"wandb-col\"><h3>Run history:</h3><br/><table class=\"wandb\"><tr><td>loss</td><td>▆█▇▆▆▆▆▆▆▆▅▅▅▅▆▅▅▅▅▅▄▄▄▄▄▃▄▄▃▂▂▃▂▃▂▂▂▁▁▂</td></tr><tr><td>val_acc</td><td>▁</td></tr><tr><td>val_loss</td><td>▁</td></tr></table><br/></div><div class=\"wandb-col\"><h3>Run summary:</h3><br/><table class=\"wandb\"><tr><td>loss</td><td>0.38778</td></tr><tr><td>val_acc</td><td>0.59967</td></tr><tr><td>val_loss</td><td>0.3871</td></tr></table><br/></div></div>"
            ]
          },
          "metadata": {}
        },
        {
          "output_type": "display_data",
          "data": {
            "text/plain": [
              "<IPython.core.display.HTML object>"
            ],
            "text/html": [
              " View run <strong style=\"color:#cdcd00\">e_5_hl_[128, 256, 512]_opt_sgd_bs_32_init_xavier_ac_relu</strong> at: <a href='https://wandb.ai/yeshu183-indian-institute-of-technology-madras/Sweep%20Functionality/runs/ezxdoq2b' target=\"_blank\">https://wandb.ai/yeshu183-indian-institute-of-technology-madras/Sweep%20Functionality/runs/ezxdoq2b</a><br> View project at: <a href='https://wandb.ai/yeshu183-indian-institute-of-technology-madras/Sweep%20Functionality' target=\"_blank\">https://wandb.ai/yeshu183-indian-institute-of-technology-madras/Sweep%20Functionality</a><br>Synced 5 W&B file(s), 0 media file(s), 0 artifact file(s) and 0 other file(s)"
            ]
          },
          "metadata": {}
        },
        {
          "output_type": "display_data",
          "data": {
            "text/plain": [
              "<IPython.core.display.HTML object>"
            ],
            "text/html": [
              "Find logs at: <code>./wandb/run-20250310_052317-ezxdoq2b/logs</code>"
            ]
          },
          "metadata": {}
        },
        {
          "output_type": "stream",
          "name": "stderr",
          "text": [
            "\u001b[34m\u001b[1mwandb\u001b[0m: Agent Starting Run: r8gvyooy with config:\n",
            "\u001b[34m\u001b[1mwandb\u001b[0m: \tactivation: relu\n",
            "\u001b[34m\u001b[1mwandb\u001b[0m: \tbatch_size: 64\n",
            "\u001b[34m\u001b[1mwandb\u001b[0m: \tepochs: 5\n",
            "\u001b[34m\u001b[1mwandb\u001b[0m: \thidden_layers: [128, 256, 512]\n",
            "\u001b[34m\u001b[1mwandb\u001b[0m: \tl2_reg: 0.0005\n",
            "\u001b[34m\u001b[1mwandb\u001b[0m: \tlearning_rate: 0.001\n",
            "\u001b[34m\u001b[1mwandb\u001b[0m: \toptimizer: sgd\n",
            "\u001b[34m\u001b[1mwandb\u001b[0m: \tweight_init: xavier\n"
          ]
        },
        {
          "output_type": "display_data",
          "data": {
            "text/plain": [
              "<IPython.core.display.HTML object>"
            ],
            "text/html": [
              "Ignoring project 'Sweep Functionality' when running a sweep."
            ]
          },
          "metadata": {}
        },
        {
          "output_type": "display_data",
          "data": {
            "text/plain": [
              "<IPython.core.display.HTML object>"
            ],
            "text/html": [
              "Tracking run with wandb version 0.19.7"
            ]
          },
          "metadata": {}
        },
        {
          "output_type": "display_data",
          "data": {
            "text/plain": [
              "<IPython.core.display.HTML object>"
            ],
            "text/html": [
              "Run data is saved locally in <code>/content/wandb/run-20250310_052433-r8gvyooy</code>"
            ]
          },
          "metadata": {}
        },
        {
          "output_type": "display_data",
          "data": {
            "text/plain": [
              "<IPython.core.display.HTML object>"
            ],
            "text/html": [
              "Syncing run <strong><a href='https://wandb.ai/yeshu183-indian-institute-of-technology-madras/Sweep%20Functionality/runs/r8gvyooy' target=\"_blank\">jumping-sweep-13</a></strong> to <a href='https://wandb.ai/yeshu183-indian-institute-of-technology-madras/Sweep%20Functionality' target=\"_blank\">Weights & Biases</a> (<a href='https://wandb.me/developer-guide' target=\"_blank\">docs</a>)<br>Sweep page: <a href='https://wandb.ai/yeshu183-indian-institute-of-technology-madras/Sweep%20Functionality/sweeps/x54z7171' target=\"_blank\">https://wandb.ai/yeshu183-indian-institute-of-technology-madras/Sweep%20Functionality/sweeps/x54z7171</a>"
            ]
          },
          "metadata": {}
        },
        {
          "output_type": "display_data",
          "data": {
            "text/plain": [
              "<IPython.core.display.HTML object>"
            ],
            "text/html": [
              " View project at <a href='https://wandb.ai/yeshu183-indian-institute-of-technology-madras/Sweep%20Functionality' target=\"_blank\">https://wandb.ai/yeshu183-indian-institute-of-technology-madras/Sweep%20Functionality</a>"
            ]
          },
          "metadata": {}
        },
        {
          "output_type": "display_data",
          "data": {
            "text/plain": [
              "<IPython.core.display.HTML object>"
            ],
            "text/html": [
              " View sweep at <a href='https://wandb.ai/yeshu183-indian-institute-of-technology-madras/Sweep%20Functionality/sweeps/x54z7171' target=\"_blank\">https://wandb.ai/yeshu183-indian-institute-of-technology-madras/Sweep%20Functionality/sweeps/x54z7171</a>"
            ]
          },
          "metadata": {}
        },
        {
          "output_type": "display_data",
          "data": {
            "text/plain": [
              "<IPython.core.display.HTML object>"
            ],
            "text/html": [
              " View run at <a href='https://wandb.ai/yeshu183-indian-institute-of-technology-madras/Sweep%20Functionality/runs/r8gvyooy' target=\"_blank\">https://wandb.ai/yeshu183-indian-institute-of-technology-madras/Sweep%20Functionality/runs/r8gvyooy</a>"
            ]
          },
          "metadata": {}
        },
        {
          "output_type": "stream",
          "name": "stdout",
          "text": [
            "Epoch 1, Loss: 0.3727\n",
            "Epoch 2, Loss: 0.3518\n",
            "Epoch 3, Loss: 0.3200\n",
            "Epoch 4, Loss: 0.2976\n",
            "Epoch 5, Loss: 0.3045\n",
            "Validation Loss: 0.3014, Validation Accuracy: 0.7545\n"
          ]
        },
        {
          "output_type": "display_data",
          "data": {
            "text/plain": [
              "<IPython.core.display.HTML object>"
            ],
            "text/html": []
          },
          "metadata": {}
        },
        {
          "output_type": "display_data",
          "data": {
            "text/plain": [
              "<IPython.core.display.HTML object>"
            ],
            "text/html": [
              "<br>    <style><br>        .wandb-row {<br>            display: flex;<br>            flex-direction: row;<br>            flex-wrap: wrap;<br>            justify-content: flex-start;<br>            width: 100%;<br>        }<br>        .wandb-col {<br>            display: flex;<br>            flex-direction: column;<br>            flex-basis: 100%;<br>            flex: 1;<br>            padding: 10px;<br>        }<br>    </style><br><div class=\"wandb-row\"><div class=\"wandb-col\"><h3>Run history:</h3><br/><table class=\"wandb\"><tr><td>loss</td><td>███▇▇▆▅▅▄▄▃▃▃▃▃▃▂▃▃▂▂▂▂▂▃▂▁▁▁▁▁▂▁▁▁▁▁▁▁▂</td></tr><tr><td>val_acc</td><td>▁</td></tr><tr><td>val_loss</td><td>▁</td></tr></table><br/></div><div class=\"wandb-col\"><h3>Run summary:</h3><br/><table class=\"wandb\"><tr><td>loss</td><td>0.30455</td></tr><tr><td>val_acc</td><td>0.7545</td></tr><tr><td>val_loss</td><td>0.30142</td></tr></table><br/></div></div>"
            ]
          },
          "metadata": {}
        },
        {
          "output_type": "display_data",
          "data": {
            "text/plain": [
              "<IPython.core.display.HTML object>"
            ],
            "text/html": [
              " View run <strong style=\"color:#cdcd00\">e_5_hl_[128, 256, 512]_opt_sgd_bs_64_init_xavier_ac_relu</strong> at: <a href='https://wandb.ai/yeshu183-indian-institute-of-technology-madras/Sweep%20Functionality/runs/r8gvyooy' target=\"_blank\">https://wandb.ai/yeshu183-indian-institute-of-technology-madras/Sweep%20Functionality/runs/r8gvyooy</a><br> View project at: <a href='https://wandb.ai/yeshu183-indian-institute-of-technology-madras/Sweep%20Functionality' target=\"_blank\">https://wandb.ai/yeshu183-indian-institute-of-technology-madras/Sweep%20Functionality</a><br>Synced 5 W&B file(s), 0 media file(s), 0 artifact file(s) and 0 other file(s)"
            ]
          },
          "metadata": {}
        },
        {
          "output_type": "display_data",
          "data": {
            "text/plain": [
              "<IPython.core.display.HTML object>"
            ],
            "text/html": [
              "Find logs at: <code>./wandb/run-20250310_052433-r8gvyooy/logs</code>"
            ]
          },
          "metadata": {}
        },
        {
          "output_type": "stream",
          "name": "stderr",
          "text": [
            "\u001b[34m\u001b[1mwandb\u001b[0m: Agent Starting Run: pnm0mc24 with config:\n",
            "\u001b[34m\u001b[1mwandb\u001b[0m: \tactivation: relu\n",
            "\u001b[34m\u001b[1mwandb\u001b[0m: \tbatch_size: 32\n",
            "\u001b[34m\u001b[1mwandb\u001b[0m: \tepochs: 5\n",
            "\u001b[34m\u001b[1mwandb\u001b[0m: \thidden_layers: [128, 256, 512]\n",
            "\u001b[34m\u001b[1mwandb\u001b[0m: \tl2_reg: 0.5\n",
            "\u001b[34m\u001b[1mwandb\u001b[0m: \tlearning_rate: 0.0001\n",
            "\u001b[34m\u001b[1mwandb\u001b[0m: \toptimizer: sgd\n",
            "\u001b[34m\u001b[1mwandb\u001b[0m: \tweight_init: xavier\n"
          ]
        },
        {
          "output_type": "display_data",
          "data": {
            "text/plain": [
              "<IPython.core.display.HTML object>"
            ],
            "text/html": [
              "Ignoring project 'Sweep Functionality' when running a sweep."
            ]
          },
          "metadata": {}
        },
        {
          "output_type": "display_data",
          "data": {
            "text/plain": [
              "<IPython.core.display.HTML object>"
            ],
            "text/html": [
              "Tracking run with wandb version 0.19.7"
            ]
          },
          "metadata": {}
        },
        {
          "output_type": "display_data",
          "data": {
            "text/plain": [
              "<IPython.core.display.HTML object>"
            ],
            "text/html": [
              "Run data is saved locally in <code>/content/wandb/run-20250310_052523-pnm0mc24</code>"
            ]
          },
          "metadata": {}
        },
        {
          "output_type": "display_data",
          "data": {
            "text/plain": [
              "<IPython.core.display.HTML object>"
            ],
            "text/html": [
              "Syncing run <strong><a href='https://wandb.ai/yeshu183-indian-institute-of-technology-madras/Sweep%20Functionality/runs/pnm0mc24' target=\"_blank\">solar-sweep-14</a></strong> to <a href='https://wandb.ai/yeshu183-indian-institute-of-technology-madras/Sweep%20Functionality' target=\"_blank\">Weights & Biases</a> (<a href='https://wandb.me/developer-guide' target=\"_blank\">docs</a>)<br>Sweep page: <a href='https://wandb.ai/yeshu183-indian-institute-of-technology-madras/Sweep%20Functionality/sweeps/x54z7171' target=\"_blank\">https://wandb.ai/yeshu183-indian-institute-of-technology-madras/Sweep%20Functionality/sweeps/x54z7171</a>"
            ]
          },
          "metadata": {}
        },
        {
          "output_type": "display_data",
          "data": {
            "text/plain": [
              "<IPython.core.display.HTML object>"
            ],
            "text/html": [
              " View project at <a href='https://wandb.ai/yeshu183-indian-institute-of-technology-madras/Sweep%20Functionality' target=\"_blank\">https://wandb.ai/yeshu183-indian-institute-of-technology-madras/Sweep%20Functionality</a>"
            ]
          },
          "metadata": {}
        },
        {
          "output_type": "display_data",
          "data": {
            "text/plain": [
              "<IPython.core.display.HTML object>"
            ],
            "text/html": [
              " View sweep at <a href='https://wandb.ai/yeshu183-indian-institute-of-technology-madras/Sweep%20Functionality/sweeps/x54z7171' target=\"_blank\">https://wandb.ai/yeshu183-indian-institute-of-technology-madras/Sweep%20Functionality/sweeps/x54z7171</a>"
            ]
          },
          "metadata": {}
        },
        {
          "output_type": "display_data",
          "data": {
            "text/plain": [
              "<IPython.core.display.HTML object>"
            ],
            "text/html": [
              " View run at <a href='https://wandb.ai/yeshu183-indian-institute-of-technology-madras/Sweep%20Functionality/runs/pnm0mc24' target=\"_blank\">https://wandb.ai/yeshu183-indian-institute-of-technology-madras/Sweep%20Functionality/runs/pnm0mc24</a>"
            ]
          },
          "metadata": {}
        },
        {
          "output_type": "stream",
          "name": "stdout",
          "text": [
            "Epoch 1, Loss: 226.4967\n",
            "Epoch 2, Loss: 226.5363\n",
            "Epoch 3, Loss: 226.6068\n",
            "Epoch 4, Loss: 226.7080\n",
            "Epoch 5, Loss: 226.8291\n",
            "Validation Loss: 226.8356, Validation Accuracy: 0.6197\n"
          ]
        },
        {
          "output_type": "display_data",
          "data": {
            "text/plain": [
              "<IPython.core.display.HTML object>"
            ],
            "text/html": []
          },
          "metadata": {}
        },
        {
          "output_type": "display_data",
          "data": {
            "text/plain": [
              "<IPython.core.display.HTML object>"
            ],
            "text/html": [
              "<br>    <style><br>        .wandb-row {<br>            display: flex;<br>            flex-direction: row;<br>            flex-wrap: wrap;<br>            justify-content: flex-start;<br>            width: 100%;<br>        }<br>        .wandb-col {<br>            display: flex;<br>            flex-direction: column;<br>            flex-basis: 100%;<br>            flex: 1;<br>            padding: 10px;<br>        }<br>    </style><br><div class=\"wandb-row\"><div class=\"wandb-col\"><h3>Run history:</h3><br/><table class=\"wandb\"><tr><td>loss</td><td>▁▁▁▁▁▁▁▁▁▂▁▂▂▂▂▂▂▂▃▃▃▃▃▃▄▄▄▄▄▅▆▆▇▇▇▇████</td></tr><tr><td>val_acc</td><td>▁</td></tr><tr><td>val_loss</td><td>▁</td></tr></table><br/></div><div class=\"wandb-col\"><h3>Run summary:</h3><br/><table class=\"wandb\"><tr><td>loss</td><td>226.82909</td></tr><tr><td>val_acc</td><td>0.61967</td></tr><tr><td>val_loss</td><td>226.83556</td></tr></table><br/></div></div>"
            ]
          },
          "metadata": {}
        },
        {
          "output_type": "display_data",
          "data": {
            "text/plain": [
              "<IPython.core.display.HTML object>"
            ],
            "text/html": [
              " View run <strong style=\"color:#cdcd00\">e_5_hl_[128, 256, 512]_opt_sgd_bs_32_init_xavier_ac_relu</strong> at: <a href='https://wandb.ai/yeshu183-indian-institute-of-technology-madras/Sweep%20Functionality/runs/pnm0mc24' target=\"_blank\">https://wandb.ai/yeshu183-indian-institute-of-technology-madras/Sweep%20Functionality/runs/pnm0mc24</a><br> View project at: <a href='https://wandb.ai/yeshu183-indian-institute-of-technology-madras/Sweep%20Functionality' target=\"_blank\">https://wandb.ai/yeshu183-indian-institute-of-technology-madras/Sweep%20Functionality</a><br>Synced 5 W&B file(s), 0 media file(s), 0 artifact file(s) and 0 other file(s)"
            ]
          },
          "metadata": {}
        },
        {
          "output_type": "display_data",
          "data": {
            "text/plain": [
              "<IPython.core.display.HTML object>"
            ],
            "text/html": [
              "Find logs at: <code>./wandb/run-20250310_052523-pnm0mc24/logs</code>"
            ]
          },
          "metadata": {}
        },
        {
          "output_type": "stream",
          "name": "stderr",
          "text": [
            "\u001b[34m\u001b[1mwandb\u001b[0m: Agent Starting Run: b3dhhu8x with config:\n",
            "\u001b[34m\u001b[1mwandb\u001b[0m: \tactivation: relu\n",
            "\u001b[34m\u001b[1mwandb\u001b[0m: \tbatch_size: 64\n",
            "\u001b[34m\u001b[1mwandb\u001b[0m: \tepochs: 5\n",
            "\u001b[34m\u001b[1mwandb\u001b[0m: \thidden_layers: [128, 256, 512]\n",
            "\u001b[34m\u001b[1mwandb\u001b[0m: \tl2_reg: 0.5\n",
            "\u001b[34m\u001b[1mwandb\u001b[0m: \tlearning_rate: 0.001\n",
            "\u001b[34m\u001b[1mwandb\u001b[0m: \toptimizer: sgd\n",
            "\u001b[34m\u001b[1mwandb\u001b[0m: \tweight_init: xavier\n"
          ]
        },
        {
          "output_type": "display_data",
          "data": {
            "text/plain": [
              "<IPython.core.display.HTML object>"
            ],
            "text/html": [
              "Ignoring project 'Sweep Functionality' when running a sweep."
            ]
          },
          "metadata": {}
        },
        {
          "output_type": "display_data",
          "data": {
            "text/plain": [
              "<IPython.core.display.HTML object>"
            ],
            "text/html": [
              "Tracking run with wandb version 0.19.7"
            ]
          },
          "metadata": {}
        },
        {
          "output_type": "display_data",
          "data": {
            "text/plain": [
              "<IPython.core.display.HTML object>"
            ],
            "text/html": [
              "Run data is saved locally in <code>/content/wandb/run-20250310_052639-b3dhhu8x</code>"
            ]
          },
          "metadata": {}
        },
        {
          "output_type": "display_data",
          "data": {
            "text/plain": [
              "<IPython.core.display.HTML object>"
            ],
            "text/html": [
              "Syncing run <strong><a href='https://wandb.ai/yeshu183-indian-institute-of-technology-madras/Sweep%20Functionality/runs/b3dhhu8x' target=\"_blank\">deft-sweep-15</a></strong> to <a href='https://wandb.ai/yeshu183-indian-institute-of-technology-madras/Sweep%20Functionality' target=\"_blank\">Weights & Biases</a> (<a href='https://wandb.me/developer-guide' target=\"_blank\">docs</a>)<br>Sweep page: <a href='https://wandb.ai/yeshu183-indian-institute-of-technology-madras/Sweep%20Functionality/sweeps/x54z7171' target=\"_blank\">https://wandb.ai/yeshu183-indian-institute-of-technology-madras/Sweep%20Functionality/sweeps/x54z7171</a>"
            ]
          },
          "metadata": {}
        },
        {
          "output_type": "display_data",
          "data": {
            "text/plain": [
              "<IPython.core.display.HTML object>"
            ],
            "text/html": [
              " View project at <a href='https://wandb.ai/yeshu183-indian-institute-of-technology-madras/Sweep%20Functionality' target=\"_blank\">https://wandb.ai/yeshu183-indian-institute-of-technology-madras/Sweep%20Functionality</a>"
            ]
          },
          "metadata": {}
        },
        {
          "output_type": "display_data",
          "data": {
            "text/plain": [
              "<IPython.core.display.HTML object>"
            ],
            "text/html": [
              " View sweep at <a href='https://wandb.ai/yeshu183-indian-institute-of-technology-madras/Sweep%20Functionality/sweeps/x54z7171' target=\"_blank\">https://wandb.ai/yeshu183-indian-institute-of-technology-madras/Sweep%20Functionality/sweeps/x54z7171</a>"
            ]
          },
          "metadata": {}
        },
        {
          "output_type": "display_data",
          "data": {
            "text/plain": [
              "<IPython.core.display.HTML object>"
            ],
            "text/html": [
              " View run at <a href='https://wandb.ai/yeshu183-indian-institute-of-technology-madras/Sweep%20Functionality/runs/b3dhhu8x' target=\"_blank\">https://wandb.ai/yeshu183-indian-institute-of-technology-madras/Sweep%20Functionality/runs/b3dhhu8x</a>"
            ]
          },
          "metadata": {}
        },
        {
          "output_type": "stream",
          "name": "stdout",
          "text": [
            "Epoch 1, Loss: 226.9394\n",
            "Epoch 2, Loss: 227.6379\n",
            "Epoch 3, Loss: 228.2265\n",
            "Epoch 4, Loss: 228.7128\n",
            "Epoch 5, Loss: 229.1383\n",
            "Validation Loss: 229.1265, Validation Accuracy: 0.7472\n"
          ]
        },
        {
          "output_type": "display_data",
          "data": {
            "text/plain": [
              "<IPython.core.display.HTML object>"
            ],
            "text/html": []
          },
          "metadata": {}
        },
        {
          "output_type": "display_data",
          "data": {
            "text/plain": [
              "<IPython.core.display.HTML object>"
            ],
            "text/html": [
              "<br>    <style><br>        .wandb-row {<br>            display: flex;<br>            flex-direction: row;<br>            flex-wrap: wrap;<br>            justify-content: flex-start;<br>            width: 100%;<br>        }<br>        .wandb-col {<br>            display: flex;<br>            flex-direction: column;<br>            flex-basis: 100%;<br>            flex: 1;<br>            padding: 10px;<br>        }<br>    </style><br><div class=\"wandb-row\"><div class=\"wandb-col\"><h3>Run history:</h3><br/><table class=\"wandb\"><tr><td>loss</td><td>▁▁▁▁▁▂▂▂▂▂▃▃▃▃▃▃▄▄▄▄▄▅▅▅▅▆▆▆▆▆▇▇▇▇▇▇████</td></tr><tr><td>val_acc</td><td>▁</td></tr><tr><td>val_loss</td><td>▁</td></tr></table><br/></div><div class=\"wandb-col\"><h3>Run summary:</h3><br/><table class=\"wandb\"><tr><td>loss</td><td>229.13829</td></tr><tr><td>val_acc</td><td>0.74717</td></tr><tr><td>val_loss</td><td>229.12648</td></tr></table><br/></div></div>"
            ]
          },
          "metadata": {}
        },
        {
          "output_type": "display_data",
          "data": {
            "text/plain": [
              "<IPython.core.display.HTML object>"
            ],
            "text/html": [
              " View run <strong style=\"color:#cdcd00\">e_5_hl_[128, 256, 512]_opt_sgd_bs_64_init_xavier_ac_relu</strong> at: <a href='https://wandb.ai/yeshu183-indian-institute-of-technology-madras/Sweep%20Functionality/runs/b3dhhu8x' target=\"_blank\">https://wandb.ai/yeshu183-indian-institute-of-technology-madras/Sweep%20Functionality/runs/b3dhhu8x</a><br> View project at: <a href='https://wandb.ai/yeshu183-indian-institute-of-technology-madras/Sweep%20Functionality' target=\"_blank\">https://wandb.ai/yeshu183-indian-institute-of-technology-madras/Sweep%20Functionality</a><br>Synced 5 W&B file(s), 0 media file(s), 0 artifact file(s) and 0 other file(s)"
            ]
          },
          "metadata": {}
        },
        {
          "output_type": "display_data",
          "data": {
            "text/plain": [
              "<IPython.core.display.HTML object>"
            ],
            "text/html": [
              "Find logs at: <code>./wandb/run-20250310_052639-b3dhhu8x/logs</code>"
            ]
          },
          "metadata": {}
        },
        {
          "output_type": "stream",
          "name": "stderr",
          "text": [
            "\u001b[34m\u001b[1mwandb\u001b[0m: Agent Starting Run: 7pzryp9b with config:\n",
            "\u001b[34m\u001b[1mwandb\u001b[0m: \tactivation: relu\n",
            "\u001b[34m\u001b[1mwandb\u001b[0m: \tbatch_size: 64\n",
            "\u001b[34m\u001b[1mwandb\u001b[0m: \tepochs: 5\n",
            "\u001b[34m\u001b[1mwandb\u001b[0m: \thidden_layers: [128, 256, 512]\n",
            "\u001b[34m\u001b[1mwandb\u001b[0m: \tl2_reg: 0\n",
            "\u001b[34m\u001b[1mwandb\u001b[0m: \tlearning_rate: 0.0001\n",
            "\u001b[34m\u001b[1mwandb\u001b[0m: \toptimizer: sgd\n",
            "\u001b[34m\u001b[1mwandb\u001b[0m: \tweight_init: xavier\n"
          ]
        },
        {
          "output_type": "display_data",
          "data": {
            "text/plain": [
              "<IPython.core.display.HTML object>"
            ],
            "text/html": [
              "Ignoring project 'Sweep Functionality' when running a sweep."
            ]
          },
          "metadata": {}
        },
        {
          "output_type": "display_data",
          "data": {
            "text/plain": [
              "<IPython.core.display.HTML object>"
            ],
            "text/html": [
              "Tracking run with wandb version 0.19.7"
            ]
          },
          "metadata": {}
        },
        {
          "output_type": "display_data",
          "data": {
            "text/plain": [
              "<IPython.core.display.HTML object>"
            ],
            "text/html": [
              "Run data is saved locally in <code>/content/wandb/run-20250310_052730-7pzryp9b</code>"
            ]
          },
          "metadata": {}
        },
        {
          "output_type": "display_data",
          "data": {
            "text/plain": [
              "<IPython.core.display.HTML object>"
            ],
            "text/html": [
              "Syncing run <strong><a href='https://wandb.ai/yeshu183-indian-institute-of-technology-madras/Sweep%20Functionality/runs/7pzryp9b' target=\"_blank\">atomic-sweep-16</a></strong> to <a href='https://wandb.ai/yeshu183-indian-institute-of-technology-madras/Sweep%20Functionality' target=\"_blank\">Weights & Biases</a> (<a href='https://wandb.me/developer-guide' target=\"_blank\">docs</a>)<br>Sweep page: <a href='https://wandb.ai/yeshu183-indian-institute-of-technology-madras/Sweep%20Functionality/sweeps/x54z7171' target=\"_blank\">https://wandb.ai/yeshu183-indian-institute-of-technology-madras/Sweep%20Functionality/sweeps/x54z7171</a>"
            ]
          },
          "metadata": {}
        },
        {
          "output_type": "display_data",
          "data": {
            "text/plain": [
              "<IPython.core.display.HTML object>"
            ],
            "text/html": [
              " View project at <a href='https://wandb.ai/yeshu183-indian-institute-of-technology-madras/Sweep%20Functionality' target=\"_blank\">https://wandb.ai/yeshu183-indian-institute-of-technology-madras/Sweep%20Functionality</a>"
            ]
          },
          "metadata": {}
        },
        {
          "output_type": "display_data",
          "data": {
            "text/plain": [
              "<IPython.core.display.HTML object>"
            ],
            "text/html": [
              " View sweep at <a href='https://wandb.ai/yeshu183-indian-institute-of-technology-madras/Sweep%20Functionality/sweeps/x54z7171' target=\"_blank\">https://wandb.ai/yeshu183-indian-institute-of-technology-madras/Sweep%20Functionality/sweeps/x54z7171</a>"
            ]
          },
          "metadata": {}
        },
        {
          "output_type": "display_data",
          "data": {
            "text/plain": [
              "<IPython.core.display.HTML object>"
            ],
            "text/html": [
              " View run at <a href='https://wandb.ai/yeshu183-indian-institute-of-technology-madras/Sweep%20Functionality/runs/7pzryp9b' target=\"_blank\">https://wandb.ai/yeshu183-indian-institute-of-technology-madras/Sweep%20Functionality/runs/7pzryp9b</a>"
            ]
          },
          "metadata": {}
        },
        {
          "output_type": "stream",
          "name": "stdout",
          "text": [
            "Epoch 1, Loss: 0.2264\n",
            "Epoch 2, Loss: 0.2169\n",
            "Epoch 3, Loss: 0.2119\n",
            "Epoch 4, Loss: 0.2073\n",
            "Epoch 5, Loss: 0.1988\n",
            "Validation Loss: 0.1992, Validation Accuracy: 0.5270\n"
          ]
        },
        {
          "output_type": "display_data",
          "data": {
            "text/plain": [
              "<IPython.core.display.HTML object>"
            ],
            "text/html": []
          },
          "metadata": {}
        },
        {
          "output_type": "display_data",
          "data": {
            "text/plain": [
              "<IPython.core.display.HTML object>"
            ],
            "text/html": [
              "<br>    <style><br>        .wandb-row {<br>            display: flex;<br>            flex-direction: row;<br>            flex-wrap: wrap;<br>            justify-content: flex-start;<br>            width: 100%;<br>        }<br>        .wandb-col {<br>            display: flex;<br>            flex-direction: column;<br>            flex-basis: 100%;<br>            flex: 1;<br>            padding: 10px;<br>        }<br>    </style><br><div class=\"wandb-row\"><div class=\"wandb-col\"><h3>Run history:</h3><br/><table class=\"wandb\"><tr><td>loss</td><td>█▄▄▄▃▄▃▃▃▃▃▃▃▂▃▂▂▂▂▂▂▂▂▂▂▂▂▂▂▂▂▂▁▁▁▁▁▁▁▁</td></tr><tr><td>val_acc</td><td>▁</td></tr><tr><td>val_loss</td><td>▁</td></tr></table><br/></div><div class=\"wandb-col\"><h3>Run summary:</h3><br/><table class=\"wandb\"><tr><td>loss</td><td>0.19878</td></tr><tr><td>val_acc</td><td>0.527</td></tr><tr><td>val_loss</td><td>0.19917</td></tr></table><br/></div></div>"
            ]
          },
          "metadata": {}
        },
        {
          "output_type": "display_data",
          "data": {
            "text/plain": [
              "<IPython.core.display.HTML object>"
            ],
            "text/html": [
              " View run <strong style=\"color:#cdcd00\">e_5_hl_[128, 256, 512]_opt_sgd_bs_64_init_xavier_ac_relu</strong> at: <a href='https://wandb.ai/yeshu183-indian-institute-of-technology-madras/Sweep%20Functionality/runs/7pzryp9b' target=\"_blank\">https://wandb.ai/yeshu183-indian-institute-of-technology-madras/Sweep%20Functionality/runs/7pzryp9b</a><br> View project at: <a href='https://wandb.ai/yeshu183-indian-institute-of-technology-madras/Sweep%20Functionality' target=\"_blank\">https://wandb.ai/yeshu183-indian-institute-of-technology-madras/Sweep%20Functionality</a><br>Synced 5 W&B file(s), 0 media file(s), 0 artifact file(s) and 0 other file(s)"
            ]
          },
          "metadata": {}
        },
        {
          "output_type": "display_data",
          "data": {
            "text/plain": [
              "<IPython.core.display.HTML object>"
            ],
            "text/html": [
              "Find logs at: <code>./wandb/run-20250310_052730-7pzryp9b/logs</code>"
            ]
          },
          "metadata": {}
        },
        {
          "output_type": "stream",
          "name": "stderr",
          "text": [
            "\u001b[34m\u001b[1mwandb\u001b[0m: Agent Starting Run: e4lbg8gx with config:\n",
            "\u001b[34m\u001b[1mwandb\u001b[0m: \tactivation: relu\n",
            "\u001b[34m\u001b[1mwandb\u001b[0m: \tbatch_size: 32\n",
            "\u001b[34m\u001b[1mwandb\u001b[0m: \tepochs: 5\n",
            "\u001b[34m\u001b[1mwandb\u001b[0m: \thidden_layers: [128, 256, 512]\n",
            "\u001b[34m\u001b[1mwandb\u001b[0m: \tl2_reg: 0.5\n",
            "\u001b[34m\u001b[1mwandb\u001b[0m: \tlearning_rate: 0.0001\n",
            "\u001b[34m\u001b[1mwandb\u001b[0m: \toptimizer: sgd\n",
            "\u001b[34m\u001b[1mwandb\u001b[0m: \tweight_init: xavier\n"
          ]
        },
        {
          "output_type": "display_data",
          "data": {
            "text/plain": [
              "<IPython.core.display.HTML object>"
            ],
            "text/html": [
              "Ignoring project 'Sweep Functionality' when running a sweep."
            ]
          },
          "metadata": {}
        },
        {
          "output_type": "display_data",
          "data": {
            "text/plain": [
              "<IPython.core.display.HTML object>"
            ],
            "text/html": [
              "Tracking run with wandb version 0.19.7"
            ]
          },
          "metadata": {}
        },
        {
          "output_type": "display_data",
          "data": {
            "text/plain": [
              "<IPython.core.display.HTML object>"
            ],
            "text/html": [
              "Run data is saved locally in <code>/content/wandb/run-20250310_052820-e4lbg8gx</code>"
            ]
          },
          "metadata": {}
        },
        {
          "output_type": "display_data",
          "data": {
            "text/plain": [
              "<IPython.core.display.HTML object>"
            ],
            "text/html": [
              "Syncing run <strong><a href='https://wandb.ai/yeshu183-indian-institute-of-technology-madras/Sweep%20Functionality/runs/e4lbg8gx' target=\"_blank\">grateful-sweep-17</a></strong> to <a href='https://wandb.ai/yeshu183-indian-institute-of-technology-madras/Sweep%20Functionality' target=\"_blank\">Weights & Biases</a> (<a href='https://wandb.me/developer-guide' target=\"_blank\">docs</a>)<br>Sweep page: <a href='https://wandb.ai/yeshu183-indian-institute-of-technology-madras/Sweep%20Functionality/sweeps/x54z7171' target=\"_blank\">https://wandb.ai/yeshu183-indian-institute-of-technology-madras/Sweep%20Functionality/sweeps/x54z7171</a>"
            ]
          },
          "metadata": {}
        },
        {
          "output_type": "display_data",
          "data": {
            "text/plain": [
              "<IPython.core.display.HTML object>"
            ],
            "text/html": [
              " View project at <a href='https://wandb.ai/yeshu183-indian-institute-of-technology-madras/Sweep%20Functionality' target=\"_blank\">https://wandb.ai/yeshu183-indian-institute-of-technology-madras/Sweep%20Functionality</a>"
            ]
          },
          "metadata": {}
        },
        {
          "output_type": "display_data",
          "data": {
            "text/plain": [
              "<IPython.core.display.HTML object>"
            ],
            "text/html": [
              " View sweep at <a href='https://wandb.ai/yeshu183-indian-institute-of-technology-madras/Sweep%20Functionality/sweeps/x54z7171' target=\"_blank\">https://wandb.ai/yeshu183-indian-institute-of-technology-madras/Sweep%20Functionality/sweeps/x54z7171</a>"
            ]
          },
          "metadata": {}
        },
        {
          "output_type": "display_data",
          "data": {
            "text/plain": [
              "<IPython.core.display.HTML object>"
            ],
            "text/html": [
              " View run at <a href='https://wandb.ai/yeshu183-indian-institute-of-technology-madras/Sweep%20Functionality/runs/e4lbg8gx' target=\"_blank\">https://wandb.ai/yeshu183-indian-institute-of-technology-madras/Sweep%20Functionality/runs/e4lbg8gx</a>"
            ]
          },
          "metadata": {}
        },
        {
          "output_type": "stream",
          "name": "stdout",
          "text": [
            "Epoch 1, Loss: 226.1758\n",
            "Epoch 2, Loss: 226.2154\n",
            "Epoch 3, Loss: 226.2845\n",
            "Epoch 4, Loss: 226.3930\n",
            "Epoch 5, Loss: 226.5064\n",
            "Validation Loss: 226.5033, Validation Accuracy: 0.5995\n"
          ]
        },
        {
          "output_type": "display_data",
          "data": {
            "text/plain": [
              "<IPython.core.display.HTML object>"
            ],
            "text/html": []
          },
          "metadata": {}
        },
        {
          "output_type": "display_data",
          "data": {
            "text/plain": [
              "<IPython.core.display.HTML object>"
            ],
            "text/html": [
              "<br>    <style><br>        .wandb-row {<br>            display: flex;<br>            flex-direction: row;<br>            flex-wrap: wrap;<br>            justify-content: flex-start;<br>            width: 100%;<br>        }<br>        .wandb-col {<br>            display: flex;<br>            flex-direction: column;<br>            flex-basis: 100%;<br>            flex: 1;<br>            padding: 10px;<br>        }<br>    </style><br><div class=\"wandb-row\"><div class=\"wandb-col\"><h3>Run history:</h3><br/><table class=\"wandb\"><tr><td>loss</td><td>▂▁▁▁▁▁▁▁▁▁▁▁▁▁▁▂▂▂▂▂▂▂▂▃▃▄▃▄▄▄▅▆▆▆▆▇▇▇██</td></tr><tr><td>val_acc</td><td>▁</td></tr><tr><td>val_loss</td><td>▁</td></tr></table><br/></div><div class=\"wandb-col\"><h3>Run summary:</h3><br/><table class=\"wandb\"><tr><td>loss</td><td>226.50642</td></tr><tr><td>val_acc</td><td>0.5995</td></tr><tr><td>val_loss</td><td>226.50334</td></tr></table><br/></div></div>"
            ]
          },
          "metadata": {}
        },
        {
          "output_type": "display_data",
          "data": {
            "text/plain": [
              "<IPython.core.display.HTML object>"
            ],
            "text/html": [
              " View run <strong style=\"color:#cdcd00\">e_5_hl_[128, 256, 512]_opt_sgd_bs_32_init_xavier_ac_relu</strong> at: <a href='https://wandb.ai/yeshu183-indian-institute-of-technology-madras/Sweep%20Functionality/runs/e4lbg8gx' target=\"_blank\">https://wandb.ai/yeshu183-indian-institute-of-technology-madras/Sweep%20Functionality/runs/e4lbg8gx</a><br> View project at: <a href='https://wandb.ai/yeshu183-indian-institute-of-technology-madras/Sweep%20Functionality' target=\"_blank\">https://wandb.ai/yeshu183-indian-institute-of-technology-madras/Sweep%20Functionality</a><br>Synced 5 W&B file(s), 0 media file(s), 0 artifact file(s) and 0 other file(s)"
            ]
          },
          "metadata": {}
        },
        {
          "output_type": "display_data",
          "data": {
            "text/plain": [
              "<IPython.core.display.HTML object>"
            ],
            "text/html": [
              "Find logs at: <code>./wandb/run-20250310_052820-e4lbg8gx/logs</code>"
            ]
          },
          "metadata": {}
        },
        {
          "output_type": "stream",
          "name": "stderr",
          "text": [
            "\u001b[34m\u001b[1mwandb\u001b[0m: Agent Starting Run: hf0j1bwv with config:\n",
            "\u001b[34m\u001b[1mwandb\u001b[0m: \tactivation: relu\n",
            "\u001b[34m\u001b[1mwandb\u001b[0m: \tbatch_size: 64\n",
            "\u001b[34m\u001b[1mwandb\u001b[0m: \tepochs: 5\n",
            "\u001b[34m\u001b[1mwandb\u001b[0m: \thidden_layers: [128, 256, 512]\n",
            "\u001b[34m\u001b[1mwandb\u001b[0m: \tl2_reg: 0.0005\n",
            "\u001b[34m\u001b[1mwandb\u001b[0m: \tlearning_rate: 0.001\n",
            "\u001b[34m\u001b[1mwandb\u001b[0m: \toptimizer: sgd\n",
            "\u001b[34m\u001b[1mwandb\u001b[0m: \tweight_init: xavier\n"
          ]
        },
        {
          "output_type": "display_data",
          "data": {
            "text/plain": [
              "<IPython.core.display.HTML object>"
            ],
            "text/html": [
              "Ignoring project 'Sweep Functionality' when running a sweep."
            ]
          },
          "metadata": {}
        },
        {
          "output_type": "display_data",
          "data": {
            "text/plain": [
              "<IPython.core.display.HTML object>"
            ],
            "text/html": [
              "Tracking run with wandb version 0.19.7"
            ]
          },
          "metadata": {}
        },
        {
          "output_type": "display_data",
          "data": {
            "text/plain": [
              "<IPython.core.display.HTML object>"
            ],
            "text/html": [
              "Run data is saved locally in <code>/content/wandb/run-20250310_052936-hf0j1bwv</code>"
            ]
          },
          "metadata": {}
        },
        {
          "output_type": "display_data",
          "data": {
            "text/plain": [
              "<IPython.core.display.HTML object>"
            ],
            "text/html": [
              "Syncing run <strong><a href='https://wandb.ai/yeshu183-indian-institute-of-technology-madras/Sweep%20Functionality/runs/hf0j1bwv' target=\"_blank\">genial-sweep-18</a></strong> to <a href='https://wandb.ai/yeshu183-indian-institute-of-technology-madras/Sweep%20Functionality' target=\"_blank\">Weights & Biases</a> (<a href='https://wandb.me/developer-guide' target=\"_blank\">docs</a>)<br>Sweep page: <a href='https://wandb.ai/yeshu183-indian-institute-of-technology-madras/Sweep%20Functionality/sweeps/x54z7171' target=\"_blank\">https://wandb.ai/yeshu183-indian-institute-of-technology-madras/Sweep%20Functionality/sweeps/x54z7171</a>"
            ]
          },
          "metadata": {}
        },
        {
          "output_type": "display_data",
          "data": {
            "text/plain": [
              "<IPython.core.display.HTML object>"
            ],
            "text/html": [
              " View project at <a href='https://wandb.ai/yeshu183-indian-institute-of-technology-madras/Sweep%20Functionality' target=\"_blank\">https://wandb.ai/yeshu183-indian-institute-of-technology-madras/Sweep%20Functionality</a>"
            ]
          },
          "metadata": {}
        },
        {
          "output_type": "display_data",
          "data": {
            "text/plain": [
              "<IPython.core.display.HTML object>"
            ],
            "text/html": [
              " View sweep at <a href='https://wandb.ai/yeshu183-indian-institute-of-technology-madras/Sweep%20Functionality/sweeps/x54z7171' target=\"_blank\">https://wandb.ai/yeshu183-indian-institute-of-technology-madras/Sweep%20Functionality/sweeps/x54z7171</a>"
            ]
          },
          "metadata": {}
        },
        {
          "output_type": "display_data",
          "data": {
            "text/plain": [
              "<IPython.core.display.HTML object>"
            ],
            "text/html": [
              " View run at <a href='https://wandb.ai/yeshu183-indian-institute-of-technology-madras/Sweep%20Functionality/runs/hf0j1bwv' target=\"_blank\">https://wandb.ai/yeshu183-indian-institute-of-technology-madras/Sweep%20Functionality/runs/hf0j1bwv</a>"
            ]
          },
          "metadata": {}
        },
        {
          "output_type": "stream",
          "name": "stdout",
          "text": [
            "Epoch 1, Loss: 0.3925\n",
            "Epoch 2, Loss: 0.3414\n",
            "Epoch 3, Loss: 0.3243\n",
            "Epoch 4, Loss: 0.3141\n",
            "Epoch 5, Loss: 0.3124\n",
            "Validation Loss: 0.3030, Validation Accuracy: 0.7505\n"
          ]
        },
        {
          "output_type": "display_data",
          "data": {
            "text/plain": [
              "<IPython.core.display.HTML object>"
            ],
            "text/html": []
          },
          "metadata": {}
        },
        {
          "output_type": "display_data",
          "data": {
            "text/plain": [
              "<IPython.core.display.HTML object>"
            ],
            "text/html": [
              "<br>    <style><br>        .wandb-row {<br>            display: flex;<br>            flex-direction: row;<br>            flex-wrap: wrap;<br>            justify-content: flex-start;<br>            width: 100%;<br>        }<br>        .wandb-col {<br>            display: flex;<br>            flex-direction: column;<br>            flex-basis: 100%;<br>            flex: 1;<br>            padding: 10px;<br>        }<br>    </style><br><div class=\"wandb-row\"><div class=\"wandb-col\"><h3>Run history:</h3><br/><table class=\"wandb\"><tr><td>loss</td><td>███▇▅▅▅▄▄▄▄▄▄▄▃▃▂▂▃▃▃▂▂▂▃▂▂▂▂▂▂▂▁▂▂▁▁▁▂▁</td></tr><tr><td>val_acc</td><td>▁</td></tr><tr><td>val_loss</td><td>▁</td></tr></table><br/></div><div class=\"wandb-col\"><h3>Run summary:</h3><br/><table class=\"wandb\"><tr><td>loss</td><td>0.31242</td></tr><tr><td>val_acc</td><td>0.7505</td></tr><tr><td>val_loss</td><td>0.30297</td></tr></table><br/></div></div>"
            ]
          },
          "metadata": {}
        },
        {
          "output_type": "display_data",
          "data": {
            "text/plain": [
              "<IPython.core.display.HTML object>"
            ],
            "text/html": [
              " View run <strong style=\"color:#cdcd00\">e_5_hl_[128, 256, 512]_opt_sgd_bs_64_init_xavier_ac_relu</strong> at: <a href='https://wandb.ai/yeshu183-indian-institute-of-technology-madras/Sweep%20Functionality/runs/hf0j1bwv' target=\"_blank\">https://wandb.ai/yeshu183-indian-institute-of-technology-madras/Sweep%20Functionality/runs/hf0j1bwv</a><br> View project at: <a href='https://wandb.ai/yeshu183-indian-institute-of-technology-madras/Sweep%20Functionality' target=\"_blank\">https://wandb.ai/yeshu183-indian-institute-of-technology-madras/Sweep%20Functionality</a><br>Synced 5 W&B file(s), 0 media file(s), 0 artifact file(s) and 0 other file(s)"
            ]
          },
          "metadata": {}
        },
        {
          "output_type": "display_data",
          "data": {
            "text/plain": [
              "<IPython.core.display.HTML object>"
            ],
            "text/html": [
              "Find logs at: <code>./wandb/run-20250310_052936-hf0j1bwv/logs</code>"
            ]
          },
          "metadata": {}
        },
        {
          "output_type": "stream",
          "name": "stderr",
          "text": [
            "\u001b[34m\u001b[1mwandb\u001b[0m: Agent Starting Run: u95q31ue with config:\n",
            "\u001b[34m\u001b[1mwandb\u001b[0m: \tactivation: relu\n",
            "\u001b[34m\u001b[1mwandb\u001b[0m: \tbatch_size: 64\n",
            "\u001b[34m\u001b[1mwandb\u001b[0m: \tepochs: 5\n",
            "\u001b[34m\u001b[1mwandb\u001b[0m: \thidden_layers: [128, 256, 512]\n",
            "\u001b[34m\u001b[1mwandb\u001b[0m: \tl2_reg: 0.0005\n",
            "\u001b[34m\u001b[1mwandb\u001b[0m: \tlearning_rate: 0.001\n",
            "\u001b[34m\u001b[1mwandb\u001b[0m: \toptimizer: sgd\n",
            "\u001b[34m\u001b[1mwandb\u001b[0m: \tweight_init: xavier\n"
          ]
        },
        {
          "output_type": "display_data",
          "data": {
            "text/plain": [
              "<IPython.core.display.HTML object>"
            ],
            "text/html": [
              "Ignoring project 'Sweep Functionality' when running a sweep."
            ]
          },
          "metadata": {}
        },
        {
          "output_type": "display_data",
          "data": {
            "text/plain": [
              "<IPython.core.display.HTML object>"
            ],
            "text/html": [
              "Tracking run with wandb version 0.19.7"
            ]
          },
          "metadata": {}
        },
        {
          "output_type": "display_data",
          "data": {
            "text/plain": [
              "<IPython.core.display.HTML object>"
            ],
            "text/html": [
              "Run data is saved locally in <code>/content/wandb/run-20250310_053026-u95q31ue</code>"
            ]
          },
          "metadata": {}
        },
        {
          "output_type": "display_data",
          "data": {
            "text/plain": [
              "<IPython.core.display.HTML object>"
            ],
            "text/html": [
              "Syncing run <strong><a href='https://wandb.ai/yeshu183-indian-institute-of-technology-madras/Sweep%20Functionality/runs/u95q31ue' target=\"_blank\">avid-sweep-19</a></strong> to <a href='https://wandb.ai/yeshu183-indian-institute-of-technology-madras/Sweep%20Functionality' target=\"_blank\">Weights & Biases</a> (<a href='https://wandb.me/developer-guide' target=\"_blank\">docs</a>)<br>Sweep page: <a href='https://wandb.ai/yeshu183-indian-institute-of-technology-madras/Sweep%20Functionality/sweeps/x54z7171' target=\"_blank\">https://wandb.ai/yeshu183-indian-institute-of-technology-madras/Sweep%20Functionality/sweeps/x54z7171</a>"
            ]
          },
          "metadata": {}
        },
        {
          "output_type": "display_data",
          "data": {
            "text/plain": [
              "<IPython.core.display.HTML object>"
            ],
            "text/html": [
              " View project at <a href='https://wandb.ai/yeshu183-indian-institute-of-technology-madras/Sweep%20Functionality' target=\"_blank\">https://wandb.ai/yeshu183-indian-institute-of-technology-madras/Sweep%20Functionality</a>"
            ]
          },
          "metadata": {}
        },
        {
          "output_type": "display_data",
          "data": {
            "text/plain": [
              "<IPython.core.display.HTML object>"
            ],
            "text/html": [
              " View sweep at <a href='https://wandb.ai/yeshu183-indian-institute-of-technology-madras/Sweep%20Functionality/sweeps/x54z7171' target=\"_blank\">https://wandb.ai/yeshu183-indian-institute-of-technology-madras/Sweep%20Functionality/sweeps/x54z7171</a>"
            ]
          },
          "metadata": {}
        },
        {
          "output_type": "display_data",
          "data": {
            "text/plain": [
              "<IPython.core.display.HTML object>"
            ],
            "text/html": [
              " View run at <a href='https://wandb.ai/yeshu183-indian-institute-of-technology-madras/Sweep%20Functionality/runs/u95q31ue' target=\"_blank\">https://wandb.ai/yeshu183-indian-institute-of-technology-madras/Sweep%20Functionality/runs/u95q31ue</a>"
            ]
          },
          "metadata": {}
        },
        {
          "output_type": "stream",
          "name": "stdout",
          "text": [
            "Epoch 1, Loss: 0.3807\n",
            "Epoch 2, Loss: 0.3252\n",
            "Epoch 3, Loss: 0.3270\n",
            "Epoch 4, Loss: 0.2919\n",
            "Epoch 5, Loss: 0.2917\n",
            "Validation Loss: 0.3023, Validation Accuracy: 0.7483\n"
          ]
        },
        {
          "output_type": "display_data",
          "data": {
            "text/plain": [
              "<IPython.core.display.HTML object>"
            ],
            "text/html": []
          },
          "metadata": {}
        },
        {
          "output_type": "display_data",
          "data": {
            "text/plain": [
              "<IPython.core.display.HTML object>"
            ],
            "text/html": [
              "<br>    <style><br>        .wandb-row {<br>            display: flex;<br>            flex-direction: row;<br>            flex-wrap: wrap;<br>            justify-content: flex-start;<br>            width: 100%;<br>        }<br>        .wandb-col {<br>            display: flex;<br>            flex-direction: column;<br>            flex-basis: 100%;<br>            flex: 1;<br>            padding: 10px;<br>        }<br>    </style><br><div class=\"wandb-row\"><div class=\"wandb-col\"><h3>Run history:</h3><br/><table class=\"wandb\"><tr><td>loss</td><td>███▇▇▆▆▅▅▄▄▄▅▄▃▄▃▂▃▃▂▂▂▂▂▁▂▂▁▁▂▁▁▁▁▂▁▁▂▁</td></tr><tr><td>val_acc</td><td>▁</td></tr><tr><td>val_loss</td><td>▁</td></tr></table><br/></div><div class=\"wandb-col\"><h3>Run summary:</h3><br/><table class=\"wandb\"><tr><td>loss</td><td>0.29174</td></tr><tr><td>val_acc</td><td>0.74833</td></tr><tr><td>val_loss</td><td>0.30227</td></tr></table><br/></div></div>"
            ]
          },
          "metadata": {}
        },
        {
          "output_type": "display_data",
          "data": {
            "text/plain": [
              "<IPython.core.display.HTML object>"
            ],
            "text/html": [
              " View run <strong style=\"color:#cdcd00\">e_5_hl_[128, 256, 512]_opt_sgd_bs_64_init_xavier_ac_relu</strong> at: <a href='https://wandb.ai/yeshu183-indian-institute-of-technology-madras/Sweep%20Functionality/runs/u95q31ue' target=\"_blank\">https://wandb.ai/yeshu183-indian-institute-of-technology-madras/Sweep%20Functionality/runs/u95q31ue</a><br> View project at: <a href='https://wandb.ai/yeshu183-indian-institute-of-technology-madras/Sweep%20Functionality' target=\"_blank\">https://wandb.ai/yeshu183-indian-institute-of-technology-madras/Sweep%20Functionality</a><br>Synced 5 W&B file(s), 0 media file(s), 0 artifact file(s) and 0 other file(s)"
            ]
          },
          "metadata": {}
        },
        {
          "output_type": "display_data",
          "data": {
            "text/plain": [
              "<IPython.core.display.HTML object>"
            ],
            "text/html": [
              "Find logs at: <code>./wandb/run-20250310_053026-u95q31ue/logs</code>"
            ]
          },
          "metadata": {}
        },
        {
          "output_type": "stream",
          "name": "stderr",
          "text": [
            "\u001b[34m\u001b[1mwandb\u001b[0m: Agent Starting Run: a04n0hdr with config:\n",
            "\u001b[34m\u001b[1mwandb\u001b[0m: \tactivation: relu\n",
            "\u001b[34m\u001b[1mwandb\u001b[0m: \tbatch_size: 64\n",
            "\u001b[34m\u001b[1mwandb\u001b[0m: \tepochs: 5\n",
            "\u001b[34m\u001b[1mwandb\u001b[0m: \thidden_layers: [128, 256, 512]\n",
            "\u001b[34m\u001b[1mwandb\u001b[0m: \tl2_reg: 0.0005\n",
            "\u001b[34m\u001b[1mwandb\u001b[0m: \tlearning_rate: 0.001\n",
            "\u001b[34m\u001b[1mwandb\u001b[0m: \toptimizer: sgd\n",
            "\u001b[34m\u001b[1mwandb\u001b[0m: \tweight_init: xavier\n"
          ]
        },
        {
          "output_type": "display_data",
          "data": {
            "text/plain": [
              "<IPython.core.display.HTML object>"
            ],
            "text/html": [
              "Ignoring project 'Sweep Functionality' when running a sweep."
            ]
          },
          "metadata": {}
        },
        {
          "output_type": "display_data",
          "data": {
            "text/plain": [
              "<IPython.core.display.HTML object>"
            ],
            "text/html": [
              "Tracking run with wandb version 0.19.7"
            ]
          },
          "metadata": {}
        },
        {
          "output_type": "display_data",
          "data": {
            "text/plain": [
              "<IPython.core.display.HTML object>"
            ],
            "text/html": [
              "Run data is saved locally in <code>/content/wandb/run-20250310_053117-a04n0hdr</code>"
            ]
          },
          "metadata": {}
        },
        {
          "output_type": "display_data",
          "data": {
            "text/plain": [
              "<IPython.core.display.HTML object>"
            ],
            "text/html": [
              "Syncing run <strong><a href='https://wandb.ai/yeshu183-indian-institute-of-technology-madras/Sweep%20Functionality/runs/a04n0hdr' target=\"_blank\">balmy-sweep-20</a></strong> to <a href='https://wandb.ai/yeshu183-indian-institute-of-technology-madras/Sweep%20Functionality' target=\"_blank\">Weights & Biases</a> (<a href='https://wandb.me/developer-guide' target=\"_blank\">docs</a>)<br>Sweep page: <a href='https://wandb.ai/yeshu183-indian-institute-of-technology-madras/Sweep%20Functionality/sweeps/x54z7171' target=\"_blank\">https://wandb.ai/yeshu183-indian-institute-of-technology-madras/Sweep%20Functionality/sweeps/x54z7171</a>"
            ]
          },
          "metadata": {}
        },
        {
          "output_type": "display_data",
          "data": {
            "text/plain": [
              "<IPython.core.display.HTML object>"
            ],
            "text/html": [
              " View project at <a href='https://wandb.ai/yeshu183-indian-institute-of-technology-madras/Sweep%20Functionality' target=\"_blank\">https://wandb.ai/yeshu183-indian-institute-of-technology-madras/Sweep%20Functionality</a>"
            ]
          },
          "metadata": {}
        },
        {
          "output_type": "display_data",
          "data": {
            "text/plain": [
              "<IPython.core.display.HTML object>"
            ],
            "text/html": [
              " View sweep at <a href='https://wandb.ai/yeshu183-indian-institute-of-technology-madras/Sweep%20Functionality/sweeps/x54z7171' target=\"_blank\">https://wandb.ai/yeshu183-indian-institute-of-technology-madras/Sweep%20Functionality/sweeps/x54z7171</a>"
            ]
          },
          "metadata": {}
        },
        {
          "output_type": "display_data",
          "data": {
            "text/plain": [
              "<IPython.core.display.HTML object>"
            ],
            "text/html": [
              " View run at <a href='https://wandb.ai/yeshu183-indian-institute-of-technology-madras/Sweep%20Functionality/runs/a04n0hdr' target=\"_blank\">https://wandb.ai/yeshu183-indian-institute-of-technology-madras/Sweep%20Functionality/runs/a04n0hdr</a>"
            ]
          },
          "metadata": {}
        },
        {
          "output_type": "stream",
          "name": "stdout",
          "text": [
            "Epoch 1, Loss: 0.3839\n",
            "Epoch 2, Loss: 0.3277\n",
            "Epoch 3, Loss: 0.3094\n",
            "Epoch 4, Loss: 0.3171\n",
            "Epoch 5, Loss: 0.2852\n",
            "Validation Loss: 0.3025, Validation Accuracy: 0.7437\n"
          ]
        },
        {
          "output_type": "display_data",
          "data": {
            "text/plain": [
              "<IPython.core.display.HTML object>"
            ],
            "text/html": []
          },
          "metadata": {}
        },
        {
          "output_type": "display_data",
          "data": {
            "text/plain": [
              "<IPython.core.display.HTML object>"
            ],
            "text/html": [
              "<br>    <style><br>        .wandb-row {<br>            display: flex;<br>            flex-direction: row;<br>            flex-wrap: wrap;<br>            justify-content: flex-start;<br>            width: 100%;<br>        }<br>        .wandb-col {<br>            display: flex;<br>            flex-direction: column;<br>            flex-basis: 100%;<br>            flex: 1;<br>            padding: 10px;<br>        }<br>    </style><br><div class=\"wandb-row\"><div class=\"wandb-col\"><h3>Run history:</h3><br/><table class=\"wandb\"><tr><td>loss</td><td>██▇▆▆▅▅▄▅▃▃▃▃▃▂▂▃▂▂▂▂▂▂▂▁▁▁▂▁▂▁▂▁▁▁▁▁▂▁▁</td></tr><tr><td>val_acc</td><td>▁</td></tr><tr><td>val_loss</td><td>▁</td></tr></table><br/></div><div class=\"wandb-col\"><h3>Run summary:</h3><br/><table class=\"wandb\"><tr><td>loss</td><td>0.28519</td></tr><tr><td>val_acc</td><td>0.74367</td></tr><tr><td>val_loss</td><td>0.30245</td></tr></table><br/></div></div>"
            ]
          },
          "metadata": {}
        },
        {
          "output_type": "display_data",
          "data": {
            "text/plain": [
              "<IPython.core.display.HTML object>"
            ],
            "text/html": [
              " View run <strong style=\"color:#cdcd00\">e_5_hl_[128, 256, 512]_opt_sgd_bs_64_init_xavier_ac_relu</strong> at: <a href='https://wandb.ai/yeshu183-indian-institute-of-technology-madras/Sweep%20Functionality/runs/a04n0hdr' target=\"_blank\">https://wandb.ai/yeshu183-indian-institute-of-technology-madras/Sweep%20Functionality/runs/a04n0hdr</a><br> View project at: <a href='https://wandb.ai/yeshu183-indian-institute-of-technology-madras/Sweep%20Functionality' target=\"_blank\">https://wandb.ai/yeshu183-indian-institute-of-technology-madras/Sweep%20Functionality</a><br>Synced 5 W&B file(s), 0 media file(s), 0 artifact file(s) and 0 other file(s)"
            ]
          },
          "metadata": {}
        },
        {
          "output_type": "display_data",
          "data": {
            "text/plain": [
              "<IPython.core.display.HTML object>"
            ],
            "text/html": [
              "Find logs at: <code>./wandb/run-20250310_053117-a04n0hdr/logs</code>"
            ]
          },
          "metadata": {}
        },
        {
          "output_type": "stream",
          "name": "stderr",
          "text": [
            "\u001b[34m\u001b[1mwandb\u001b[0m: Agent Starting Run: 3104aumo with config:\n",
            "\u001b[34m\u001b[1mwandb\u001b[0m: \tactivation: relu\n",
            "\u001b[34m\u001b[1mwandb\u001b[0m: \tbatch_size: 32\n",
            "\u001b[34m\u001b[1mwandb\u001b[0m: \tepochs: 5\n",
            "\u001b[34m\u001b[1mwandb\u001b[0m: \thidden_layers: [128, 256, 512]\n",
            "\u001b[34m\u001b[1mwandb\u001b[0m: \tl2_reg: 0.0005\n",
            "\u001b[34m\u001b[1mwandb\u001b[0m: \tlearning_rate: 0.0001\n",
            "\u001b[34m\u001b[1mwandb\u001b[0m: \toptimizer: sgd\n",
            "\u001b[34m\u001b[1mwandb\u001b[0m: \tweight_init: xavier\n"
          ]
        },
        {
          "output_type": "display_data",
          "data": {
            "text/plain": [
              "<IPython.core.display.HTML object>"
            ],
            "text/html": [
              "Ignoring project 'Sweep Functionality' when running a sweep."
            ]
          },
          "metadata": {}
        },
        {
          "output_type": "display_data",
          "data": {
            "text/plain": [
              "<IPython.core.display.HTML object>"
            ],
            "text/html": [
              "Tracking run with wandb version 0.19.7"
            ]
          },
          "metadata": {}
        },
        {
          "output_type": "display_data",
          "data": {
            "text/plain": [
              "<IPython.core.display.HTML object>"
            ],
            "text/html": [
              "Run data is saved locally in <code>/content/wandb/run-20250310_053208-3104aumo</code>"
            ]
          },
          "metadata": {}
        },
        {
          "output_type": "display_data",
          "data": {
            "text/plain": [
              "<IPython.core.display.HTML object>"
            ],
            "text/html": [
              "Syncing run <strong><a href='https://wandb.ai/yeshu183-indian-institute-of-technology-madras/Sweep%20Functionality/runs/3104aumo' target=\"_blank\">dandy-sweep-21</a></strong> to <a href='https://wandb.ai/yeshu183-indian-institute-of-technology-madras/Sweep%20Functionality' target=\"_blank\">Weights & Biases</a> (<a href='https://wandb.me/developer-guide' target=\"_blank\">docs</a>)<br>Sweep page: <a href='https://wandb.ai/yeshu183-indian-institute-of-technology-madras/Sweep%20Functionality/sweeps/x54z7171' target=\"_blank\">https://wandb.ai/yeshu183-indian-institute-of-technology-madras/Sweep%20Functionality/sweeps/x54z7171</a>"
            ]
          },
          "metadata": {}
        },
        {
          "output_type": "display_data",
          "data": {
            "text/plain": [
              "<IPython.core.display.HTML object>"
            ],
            "text/html": [
              " View project at <a href='https://wandb.ai/yeshu183-indian-institute-of-technology-madras/Sweep%20Functionality' target=\"_blank\">https://wandb.ai/yeshu183-indian-institute-of-technology-madras/Sweep%20Functionality</a>"
            ]
          },
          "metadata": {}
        },
        {
          "output_type": "display_data",
          "data": {
            "text/plain": [
              "<IPython.core.display.HTML object>"
            ],
            "text/html": [
              " View sweep at <a href='https://wandb.ai/yeshu183-indian-institute-of-technology-madras/Sweep%20Functionality/sweeps/x54z7171' target=\"_blank\">https://wandb.ai/yeshu183-indian-institute-of-technology-madras/Sweep%20Functionality/sweeps/x54z7171</a>"
            ]
          },
          "metadata": {}
        },
        {
          "output_type": "display_data",
          "data": {
            "text/plain": [
              "<IPython.core.display.HTML object>"
            ],
            "text/html": [
              " View run at <a href='https://wandb.ai/yeshu183-indian-institute-of-technology-madras/Sweep%20Functionality/runs/3104aumo' target=\"_blank\">https://wandb.ai/yeshu183-indian-institute-of-technology-madras/Sweep%20Functionality/runs/3104aumo</a>"
            ]
          },
          "metadata": {}
        },
        {
          "output_type": "stream",
          "name": "stdout",
          "text": [
            "Epoch 1, Loss: 0.4457\n",
            "Epoch 2, Loss: 0.4337\n",
            "Epoch 3, Loss: 0.4208\n",
            "Epoch 4, Loss: 0.4217\n",
            "Epoch 5, Loss: 0.4075\n",
            "Validation Loss: 0.3952, Validation Accuracy: 0.6453\n"
          ]
        },
        {
          "output_type": "display_data",
          "data": {
            "text/plain": [
              "<IPython.core.display.HTML object>"
            ],
            "text/html": []
          },
          "metadata": {}
        },
        {
          "output_type": "display_data",
          "data": {
            "text/plain": [
              "<IPython.core.display.HTML object>"
            ],
            "text/html": [
              "<br>    <style><br>        .wandb-row {<br>            display: flex;<br>            flex-direction: row;<br>            flex-wrap: wrap;<br>            justify-content: flex-start;<br>            width: 100%;<br>        }<br>        .wandb-col {<br>            display: flex;<br>            flex-direction: column;<br>            flex-basis: 100%;<br>            flex: 1;<br>            padding: 10px;<br>        }<br>    </style><br><div class=\"wandb-row\"><div class=\"wandb-col\"><h3>Run history:</h3><br/><table class=\"wandb\"><tr><td>loss</td><td>██▇▇▇▇▇▇▇▆▆▆▆▆▆▆▆▅▅▅▅▅▄▅▄▄▄▄▅▃▃▃▂▃▃▁▁▃▂▁</td></tr><tr><td>val_acc</td><td>▁</td></tr><tr><td>val_loss</td><td>▁</td></tr></table><br/></div><div class=\"wandb-col\"><h3>Run summary:</h3><br/><table class=\"wandb\"><tr><td>loss</td><td>0.40746</td></tr><tr><td>val_acc</td><td>0.64533</td></tr><tr><td>val_loss</td><td>0.39522</td></tr></table><br/></div></div>"
            ]
          },
          "metadata": {}
        },
        {
          "output_type": "display_data",
          "data": {
            "text/plain": [
              "<IPython.core.display.HTML object>"
            ],
            "text/html": [
              " View run <strong style=\"color:#cdcd00\">e_5_hl_[128, 256, 512]_opt_sgd_bs_32_init_xavier_ac_relu</strong> at: <a href='https://wandb.ai/yeshu183-indian-institute-of-technology-madras/Sweep%20Functionality/runs/3104aumo' target=\"_blank\">https://wandb.ai/yeshu183-indian-institute-of-technology-madras/Sweep%20Functionality/runs/3104aumo</a><br> View project at: <a href='https://wandb.ai/yeshu183-indian-institute-of-technology-madras/Sweep%20Functionality' target=\"_blank\">https://wandb.ai/yeshu183-indian-institute-of-technology-madras/Sweep%20Functionality</a><br>Synced 5 W&B file(s), 0 media file(s), 0 artifact file(s) and 0 other file(s)"
            ]
          },
          "metadata": {}
        },
        {
          "output_type": "display_data",
          "data": {
            "text/plain": [
              "<IPython.core.display.HTML object>"
            ],
            "text/html": [
              "Find logs at: <code>./wandb/run-20250310_053208-3104aumo/logs</code>"
            ]
          },
          "metadata": {}
        },
        {
          "output_type": "stream",
          "name": "stderr",
          "text": [
            "\u001b[34m\u001b[1mwandb\u001b[0m: Agent Starting Run: rfm2198c with config:\n",
            "\u001b[34m\u001b[1mwandb\u001b[0m: \tactivation: relu\n",
            "\u001b[34m\u001b[1mwandb\u001b[0m: \tbatch_size: 32\n",
            "\u001b[34m\u001b[1mwandb\u001b[0m: \tepochs: 5\n",
            "\u001b[34m\u001b[1mwandb\u001b[0m: \thidden_layers: [128, 256, 512]\n",
            "\u001b[34m\u001b[1mwandb\u001b[0m: \tl2_reg: 0.0005\n",
            "\u001b[34m\u001b[1mwandb\u001b[0m: \tlearning_rate: 0.001\n",
            "\u001b[34m\u001b[1mwandb\u001b[0m: \toptimizer: sgd\n",
            "\u001b[34m\u001b[1mwandb\u001b[0m: \tweight_init: xavier\n"
          ]
        },
        {
          "output_type": "display_data",
          "data": {
            "text/plain": [
              "<IPython.core.display.HTML object>"
            ],
            "text/html": [
              "Ignoring project 'Sweep Functionality' when running a sweep."
            ]
          },
          "metadata": {}
        },
        {
          "output_type": "display_data",
          "data": {
            "text/plain": [
              "<IPython.core.display.HTML object>"
            ],
            "text/html": [
              "Tracking run with wandb version 0.19.7"
            ]
          },
          "metadata": {}
        },
        {
          "output_type": "display_data",
          "data": {
            "text/plain": [
              "<IPython.core.display.HTML object>"
            ],
            "text/html": [
              "Run data is saved locally in <code>/content/wandb/run-20250310_053323-rfm2198c</code>"
            ]
          },
          "metadata": {}
        },
        {
          "output_type": "display_data",
          "data": {
            "text/plain": [
              "<IPython.core.display.HTML object>"
            ],
            "text/html": [
              "Syncing run <strong><a href='https://wandb.ai/yeshu183-indian-institute-of-technology-madras/Sweep%20Functionality/runs/rfm2198c' target=\"_blank\">lyric-sweep-22</a></strong> to <a href='https://wandb.ai/yeshu183-indian-institute-of-technology-madras/Sweep%20Functionality' target=\"_blank\">Weights & Biases</a> (<a href='https://wandb.me/developer-guide' target=\"_blank\">docs</a>)<br>Sweep page: <a href='https://wandb.ai/yeshu183-indian-institute-of-technology-madras/Sweep%20Functionality/sweeps/x54z7171' target=\"_blank\">https://wandb.ai/yeshu183-indian-institute-of-technology-madras/Sweep%20Functionality/sweeps/x54z7171</a>"
            ]
          },
          "metadata": {}
        },
        {
          "output_type": "display_data",
          "data": {
            "text/plain": [
              "<IPython.core.display.HTML object>"
            ],
            "text/html": [
              " View project at <a href='https://wandb.ai/yeshu183-indian-institute-of-technology-madras/Sweep%20Functionality' target=\"_blank\">https://wandb.ai/yeshu183-indian-institute-of-technology-madras/Sweep%20Functionality</a>"
            ]
          },
          "metadata": {}
        },
        {
          "output_type": "display_data",
          "data": {
            "text/plain": [
              "<IPython.core.display.HTML object>"
            ],
            "text/html": [
              " View sweep at <a href='https://wandb.ai/yeshu183-indian-institute-of-technology-madras/Sweep%20Functionality/sweeps/x54z7171' target=\"_blank\">https://wandb.ai/yeshu183-indian-institute-of-technology-madras/Sweep%20Functionality/sweeps/x54z7171</a>"
            ]
          },
          "metadata": {}
        },
        {
          "output_type": "display_data",
          "data": {
            "text/plain": [
              "<IPython.core.display.HTML object>"
            ],
            "text/html": [
              " View run at <a href='https://wandb.ai/yeshu183-indian-institute-of-technology-madras/Sweep%20Functionality/runs/rfm2198c' target=\"_blank\">https://wandb.ai/yeshu183-indian-institute-of-technology-madras/Sweep%20Functionality/runs/rfm2198c</a>"
            ]
          },
          "metadata": {}
        },
        {
          "output_type": "stream",
          "name": "stdout",
          "text": [
            "Epoch 1, Loss: 0.3259\n",
            "Epoch 2, Loss: 0.3055\n",
            "Epoch 3, Loss: 0.2904\n",
            "Epoch 4, Loss: 0.2748\n",
            "Epoch 5, Loss: 0.2644\n",
            "Validation Loss: 0.2883, Validation Accuracy: 0.7922\n"
          ]
        },
        {
          "output_type": "display_data",
          "data": {
            "text/plain": [
              "<IPython.core.display.HTML object>"
            ],
            "text/html": []
          },
          "metadata": {}
        },
        {
          "output_type": "display_data",
          "data": {
            "text/plain": [
              "<IPython.core.display.HTML object>"
            ],
            "text/html": [
              "<br>    <style><br>        .wandb-row {<br>            display: flex;<br>            flex-direction: row;<br>            flex-wrap: wrap;<br>            justify-content: flex-start;<br>            width: 100%;<br>        }<br>        .wandb-col {<br>            display: flex;<br>            flex-direction: column;<br>            flex-basis: 100%;<br>            flex: 1;<br>            padding: 10px;<br>        }<br>    </style><br><div class=\"wandb-row\"><div class=\"wandb-col\"><h3>Run history:</h3><br/><table class=\"wandb\"><tr><td>loss</td><td>█▇▇▇▆▅▅▄▄▄▄▄▄▃▃▂▃▂▂▂▃▂▃▂▂▂▃▂▂▁▂▃▂▂▂▂▂▁▁▂</td></tr><tr><td>val_acc</td><td>▁</td></tr><tr><td>val_loss</td><td>▁</td></tr></table><br/></div><div class=\"wandb-col\"><h3>Run summary:</h3><br/><table class=\"wandb\"><tr><td>loss</td><td>0.26436</td></tr><tr><td>val_acc</td><td>0.79217</td></tr><tr><td>val_loss</td><td>0.28831</td></tr></table><br/></div></div>"
            ]
          },
          "metadata": {}
        },
        {
          "output_type": "display_data",
          "data": {
            "text/plain": [
              "<IPython.core.display.HTML object>"
            ],
            "text/html": [
              " View run <strong style=\"color:#cdcd00\">e_5_hl_[128, 256, 512]_opt_sgd_bs_32_init_xavier_ac_relu</strong> at: <a href='https://wandb.ai/yeshu183-indian-institute-of-technology-madras/Sweep%20Functionality/runs/rfm2198c' target=\"_blank\">https://wandb.ai/yeshu183-indian-institute-of-technology-madras/Sweep%20Functionality/runs/rfm2198c</a><br> View project at: <a href='https://wandb.ai/yeshu183-indian-institute-of-technology-madras/Sweep%20Functionality' target=\"_blank\">https://wandb.ai/yeshu183-indian-institute-of-technology-madras/Sweep%20Functionality</a><br>Synced 5 W&B file(s), 0 media file(s), 0 artifact file(s) and 0 other file(s)"
            ]
          },
          "metadata": {}
        },
        {
          "output_type": "display_data",
          "data": {
            "text/plain": [
              "<IPython.core.display.HTML object>"
            ],
            "text/html": [
              "Find logs at: <code>./wandb/run-20250310_053323-rfm2198c/logs</code>"
            ]
          },
          "metadata": {}
        },
        {
          "output_type": "stream",
          "name": "stderr",
          "text": [
            "\u001b[34m\u001b[1mwandb\u001b[0m: Agent Starting Run: w9llt0rl with config:\n",
            "\u001b[34m\u001b[1mwandb\u001b[0m: \tactivation: relu\n",
            "\u001b[34m\u001b[1mwandb\u001b[0m: \tbatch_size: 64\n",
            "\u001b[34m\u001b[1mwandb\u001b[0m: \tepochs: 5\n",
            "\u001b[34m\u001b[1mwandb\u001b[0m: \thidden_layers: [128, 256, 512]\n",
            "\u001b[34m\u001b[1mwandb\u001b[0m: \tl2_reg: 0.0005\n",
            "\u001b[34m\u001b[1mwandb\u001b[0m: \tlearning_rate: 0.001\n",
            "\u001b[34m\u001b[1mwandb\u001b[0m: \toptimizer: sgd\n",
            "\u001b[34m\u001b[1mwandb\u001b[0m: \tweight_init: xavier\n"
          ]
        },
        {
          "output_type": "display_data",
          "data": {
            "text/plain": [
              "<IPython.core.display.HTML object>"
            ],
            "text/html": [
              "Ignoring project 'Sweep Functionality' when running a sweep."
            ]
          },
          "metadata": {}
        },
        {
          "output_type": "display_data",
          "data": {
            "text/plain": [
              "<IPython.core.display.HTML object>"
            ],
            "text/html": [
              "Tracking run with wandb version 0.19.7"
            ]
          },
          "metadata": {}
        },
        {
          "output_type": "display_data",
          "data": {
            "text/plain": [
              "<IPython.core.display.HTML object>"
            ],
            "text/html": [
              "Run data is saved locally in <code>/content/wandb/run-20250310_053439-w9llt0rl</code>"
            ]
          },
          "metadata": {}
        },
        {
          "output_type": "display_data",
          "data": {
            "text/plain": [
              "<IPython.core.display.HTML object>"
            ],
            "text/html": [
              "Syncing run <strong><a href='https://wandb.ai/yeshu183-indian-institute-of-technology-madras/Sweep%20Functionality/runs/w9llt0rl' target=\"_blank\">glorious-sweep-23</a></strong> to <a href='https://wandb.ai/yeshu183-indian-institute-of-technology-madras/Sweep%20Functionality' target=\"_blank\">Weights & Biases</a> (<a href='https://wandb.me/developer-guide' target=\"_blank\">docs</a>)<br>Sweep page: <a href='https://wandb.ai/yeshu183-indian-institute-of-technology-madras/Sweep%20Functionality/sweeps/x54z7171' target=\"_blank\">https://wandb.ai/yeshu183-indian-institute-of-technology-madras/Sweep%20Functionality/sweeps/x54z7171</a>"
            ]
          },
          "metadata": {}
        },
        {
          "output_type": "display_data",
          "data": {
            "text/plain": [
              "<IPython.core.display.HTML object>"
            ],
            "text/html": [
              " View project at <a href='https://wandb.ai/yeshu183-indian-institute-of-technology-madras/Sweep%20Functionality' target=\"_blank\">https://wandb.ai/yeshu183-indian-institute-of-technology-madras/Sweep%20Functionality</a>"
            ]
          },
          "metadata": {}
        },
        {
          "output_type": "display_data",
          "data": {
            "text/plain": [
              "<IPython.core.display.HTML object>"
            ],
            "text/html": [
              " View sweep at <a href='https://wandb.ai/yeshu183-indian-institute-of-technology-madras/Sweep%20Functionality/sweeps/x54z7171' target=\"_blank\">https://wandb.ai/yeshu183-indian-institute-of-technology-madras/Sweep%20Functionality/sweeps/x54z7171</a>"
            ]
          },
          "metadata": {}
        },
        {
          "output_type": "display_data",
          "data": {
            "text/plain": [
              "<IPython.core.display.HTML object>"
            ],
            "text/html": [
              " View run at <a href='https://wandb.ai/yeshu183-indian-institute-of-technology-madras/Sweep%20Functionality/runs/w9llt0rl' target=\"_blank\">https://wandb.ai/yeshu183-indian-institute-of-technology-madras/Sweep%20Functionality/runs/w9llt0rl</a>"
            ]
          },
          "metadata": {}
        },
        {
          "output_type": "stream",
          "name": "stdout",
          "text": [
            "Epoch 1, Loss: 0.3939\n",
            "Epoch 2, Loss: 0.3414\n",
            "Epoch 3, Loss: 0.3198\n",
            "Epoch 4, Loss: 0.3002\n",
            "Epoch 5, Loss: 0.3006\n",
            "Validation Loss: 0.3024, Validation Accuracy: 0.7482\n"
          ]
        },
        {
          "output_type": "display_data",
          "data": {
            "text/plain": [
              "<IPython.core.display.HTML object>"
            ],
            "text/html": []
          },
          "metadata": {}
        },
        {
          "output_type": "display_data",
          "data": {
            "text/plain": [
              "<IPython.core.display.HTML object>"
            ],
            "text/html": [
              "<br>    <style><br>        .wandb-row {<br>            display: flex;<br>            flex-direction: row;<br>            flex-wrap: wrap;<br>            justify-content: flex-start;<br>            width: 100%;<br>        }<br>        .wandb-col {<br>            display: flex;<br>            flex-direction: column;<br>            flex-basis: 100%;<br>            flex: 1;<br>            padding: 10px;<br>        }<br>    </style><br><div class=\"wandb-row\"><div class=\"wandb-col\"><h3>Run history:</h3><br/><table class=\"wandb\"><tr><td>loss</td><td>█▇▇▇▇▆▆▆▅▅▄▄▄▄▄▃▂▂▃▂▂▃▃▂▂▁▂▂▂▃▂▃▂▂▁▂▁▂▂▁</td></tr><tr><td>val_acc</td><td>▁</td></tr><tr><td>val_loss</td><td>▁</td></tr></table><br/></div><div class=\"wandb-col\"><h3>Run summary:</h3><br/><table class=\"wandb\"><tr><td>loss</td><td>0.30057</td></tr><tr><td>val_acc</td><td>0.74817</td></tr><tr><td>val_loss</td><td>0.30242</td></tr></table><br/></div></div>"
            ]
          },
          "metadata": {}
        },
        {
          "output_type": "display_data",
          "data": {
            "text/plain": [
              "<IPython.core.display.HTML object>"
            ],
            "text/html": [
              " View run <strong style=\"color:#cdcd00\">e_5_hl_[128, 256, 512]_opt_sgd_bs_64_init_xavier_ac_relu</strong> at: <a href='https://wandb.ai/yeshu183-indian-institute-of-technology-madras/Sweep%20Functionality/runs/w9llt0rl' target=\"_blank\">https://wandb.ai/yeshu183-indian-institute-of-technology-madras/Sweep%20Functionality/runs/w9llt0rl</a><br> View project at: <a href='https://wandb.ai/yeshu183-indian-institute-of-technology-madras/Sweep%20Functionality' target=\"_blank\">https://wandb.ai/yeshu183-indian-institute-of-technology-madras/Sweep%20Functionality</a><br>Synced 5 W&B file(s), 0 media file(s), 0 artifact file(s) and 0 other file(s)"
            ]
          },
          "metadata": {}
        },
        {
          "output_type": "display_data",
          "data": {
            "text/plain": [
              "<IPython.core.display.HTML object>"
            ],
            "text/html": [
              "Find logs at: <code>./wandb/run-20250310_053439-w9llt0rl/logs</code>"
            ]
          },
          "metadata": {}
        },
        {
          "output_type": "stream",
          "name": "stderr",
          "text": [
            "\u001b[34m\u001b[1mwandb\u001b[0m: Agent Starting Run: bnkqnr5j with config:\n",
            "\u001b[34m\u001b[1mwandb\u001b[0m: \tactivation: relu\n",
            "\u001b[34m\u001b[1mwandb\u001b[0m: \tbatch_size: 32\n",
            "\u001b[34m\u001b[1mwandb\u001b[0m: \tepochs: 5\n",
            "\u001b[34m\u001b[1mwandb\u001b[0m: \thidden_layers: [32, 64, 128]\n",
            "\u001b[34m\u001b[1mwandb\u001b[0m: \tl2_reg: 0\n",
            "\u001b[34m\u001b[1mwandb\u001b[0m: \tlearning_rate: 0.0001\n",
            "\u001b[34m\u001b[1mwandb\u001b[0m: \toptimizer: sgd\n",
            "\u001b[34m\u001b[1mwandb\u001b[0m: \tweight_init: random\n"
          ]
        },
        {
          "output_type": "display_data",
          "data": {
            "text/plain": [
              "<IPython.core.display.HTML object>"
            ],
            "text/html": [
              "Ignoring project 'Sweep Functionality' when running a sweep."
            ]
          },
          "metadata": {}
        },
        {
          "output_type": "display_data",
          "data": {
            "text/plain": [
              "<IPython.core.display.HTML object>"
            ],
            "text/html": [
              "Tracking run with wandb version 0.19.7"
            ]
          },
          "metadata": {}
        },
        {
          "output_type": "display_data",
          "data": {
            "text/plain": [
              "<IPython.core.display.HTML object>"
            ],
            "text/html": [
              "Run data is saved locally in <code>/content/wandb/run-20250310_053530-bnkqnr5j</code>"
            ]
          },
          "metadata": {}
        },
        {
          "output_type": "display_data",
          "data": {
            "text/plain": [
              "<IPython.core.display.HTML object>"
            ],
            "text/html": [
              "Syncing run <strong><a href='https://wandb.ai/yeshu183-indian-institute-of-technology-madras/Sweep%20Functionality/runs/bnkqnr5j' target=\"_blank\">quiet-sweep-24</a></strong> to <a href='https://wandb.ai/yeshu183-indian-institute-of-technology-madras/Sweep%20Functionality' target=\"_blank\">Weights & Biases</a> (<a href='https://wandb.me/developer-guide' target=\"_blank\">docs</a>)<br>Sweep page: <a href='https://wandb.ai/yeshu183-indian-institute-of-technology-madras/Sweep%20Functionality/sweeps/x54z7171' target=\"_blank\">https://wandb.ai/yeshu183-indian-institute-of-technology-madras/Sweep%20Functionality/sweeps/x54z7171</a>"
            ]
          },
          "metadata": {}
        },
        {
          "output_type": "display_data",
          "data": {
            "text/plain": [
              "<IPython.core.display.HTML object>"
            ],
            "text/html": [
              " View project at <a href='https://wandb.ai/yeshu183-indian-institute-of-technology-madras/Sweep%20Functionality' target=\"_blank\">https://wandb.ai/yeshu183-indian-institute-of-technology-madras/Sweep%20Functionality</a>"
            ]
          },
          "metadata": {}
        },
        {
          "output_type": "display_data",
          "data": {
            "text/plain": [
              "<IPython.core.display.HTML object>"
            ],
            "text/html": [
              " View sweep at <a href='https://wandb.ai/yeshu183-indian-institute-of-technology-madras/Sweep%20Functionality/sweeps/x54z7171' target=\"_blank\">https://wandb.ai/yeshu183-indian-institute-of-technology-madras/Sweep%20Functionality/sweeps/x54z7171</a>"
            ]
          },
          "metadata": {}
        },
        {
          "output_type": "display_data",
          "data": {
            "text/plain": [
              "<IPython.core.display.HTML object>"
            ],
            "text/html": [
              " View run at <a href='https://wandb.ai/yeshu183-indian-institute-of-technology-madras/Sweep%20Functionality/runs/bnkqnr5j' target=\"_blank\">https://wandb.ai/yeshu183-indian-institute-of-technology-madras/Sweep%20Functionality/runs/bnkqnr5j</a>"
            ]
          },
          "metadata": {}
        },
        {
          "output_type": "stream",
          "name": "stdout",
          "text": [
            "Epoch 1, Loss: 0.2302\n",
            "Epoch 2, Loss: 0.2302\n",
            "Epoch 3, Loss: 0.2303\n",
            "Epoch 4, Loss: 0.2304\n",
            "Epoch 5, Loss: 0.2303\n",
            "Validation Loss: 0.2303, Validation Accuracy: 0.0983\n"
          ]
        },
        {
          "output_type": "display_data",
          "data": {
            "text/plain": [
              "<IPython.core.display.HTML object>"
            ],
            "text/html": []
          },
          "metadata": {}
        },
        {
          "output_type": "display_data",
          "data": {
            "text/plain": [
              "<IPython.core.display.HTML object>"
            ],
            "text/html": [
              "<br>    <style><br>        .wandb-row {<br>            display: flex;<br>            flex-direction: row;<br>            flex-wrap: wrap;<br>            justify-content: flex-start;<br>            width: 100%;<br>        }<br>        .wandb-col {<br>            display: flex;<br>            flex-direction: column;<br>            flex-basis: 100%;<br>            flex: 1;<br>            padding: 10px;<br>        }<br>    </style><br><div class=\"wandb-row\"><div class=\"wandb-col\"><h3>Run history:</h3><br/><table class=\"wandb\"><tr><td>loss</td><td>▆▁▅▅▂▃▅▁▅▅▅▇▅█▃▄▅▃█▃▅▃▄▄▆▅▄▃▅▃▄▆▃▄█▆▃▂▅▅</td></tr><tr><td>val_acc</td><td>▁</td></tr><tr><td>val_loss</td><td>▁</td></tr></table><br/></div><div class=\"wandb-col\"><h3>Run summary:</h3><br/><table class=\"wandb\"><tr><td>loss</td><td>0.23028</td></tr><tr><td>val_acc</td><td>0.09833</td></tr><tr><td>val_loss</td><td>0.23026</td></tr></table><br/></div></div>"
            ]
          },
          "metadata": {}
        },
        {
          "output_type": "display_data",
          "data": {
            "text/plain": [
              "<IPython.core.display.HTML object>"
            ],
            "text/html": [
              " View run <strong style=\"color:#cdcd00\">e_5_hl_[32, 64, 128]_opt_sgd_bs_32_init_random_ac_relu</strong> at: <a href='https://wandb.ai/yeshu183-indian-institute-of-technology-madras/Sweep%20Functionality/runs/bnkqnr5j' target=\"_blank\">https://wandb.ai/yeshu183-indian-institute-of-technology-madras/Sweep%20Functionality/runs/bnkqnr5j</a><br> View project at: <a href='https://wandb.ai/yeshu183-indian-institute-of-technology-madras/Sweep%20Functionality' target=\"_blank\">https://wandb.ai/yeshu183-indian-institute-of-technology-madras/Sweep%20Functionality</a><br>Synced 5 W&B file(s), 0 media file(s), 0 artifact file(s) and 0 other file(s)"
            ]
          },
          "metadata": {}
        },
        {
          "output_type": "display_data",
          "data": {
            "text/plain": [
              "<IPython.core.display.HTML object>"
            ],
            "text/html": [
              "Find logs at: <code>./wandb/run-20250310_053530-bnkqnr5j/logs</code>"
            ]
          },
          "metadata": {}
        },
        {
          "output_type": "stream",
          "name": "stderr",
          "text": [
            "\u001b[34m\u001b[1mwandb\u001b[0m: Agent Starting Run: zcwhhpiw with config:\n",
            "\u001b[34m\u001b[1mwandb\u001b[0m: \tactivation: tanh\n",
            "\u001b[34m\u001b[1mwandb\u001b[0m: \tbatch_size: 64\n",
            "\u001b[34m\u001b[1mwandb\u001b[0m: \tepochs: 5\n",
            "\u001b[34m\u001b[1mwandb\u001b[0m: \thidden_layers: [128, 256, 512]\n",
            "\u001b[34m\u001b[1mwandb\u001b[0m: \tl2_reg: 0.0005\n",
            "\u001b[34m\u001b[1mwandb\u001b[0m: \tlearning_rate: 0.001\n",
            "\u001b[34m\u001b[1mwandb\u001b[0m: \toptimizer: sgd\n",
            "\u001b[34m\u001b[1mwandb\u001b[0m: \tweight_init: xavier\n"
          ]
        },
        {
          "output_type": "display_data",
          "data": {
            "text/plain": [
              "<IPython.core.display.HTML object>"
            ],
            "text/html": [
              "Ignoring project 'Sweep Functionality' when running a sweep."
            ]
          },
          "metadata": {}
        },
        {
          "output_type": "display_data",
          "data": {
            "text/plain": [
              "<IPython.core.display.HTML object>"
            ],
            "text/html": [
              "Tracking run with wandb version 0.19.7"
            ]
          },
          "metadata": {}
        },
        {
          "output_type": "display_data",
          "data": {
            "text/plain": [
              "<IPython.core.display.HTML object>"
            ],
            "text/html": [
              "Run data is saved locally in <code>/content/wandb/run-20250310_053555-zcwhhpiw</code>"
            ]
          },
          "metadata": {}
        },
        {
          "output_type": "display_data",
          "data": {
            "text/plain": [
              "<IPython.core.display.HTML object>"
            ],
            "text/html": [
              "Syncing run <strong><a href='https://wandb.ai/yeshu183-indian-institute-of-technology-madras/Sweep%20Functionality/runs/zcwhhpiw' target=\"_blank\">rare-sweep-25</a></strong> to <a href='https://wandb.ai/yeshu183-indian-institute-of-technology-madras/Sweep%20Functionality' target=\"_blank\">Weights & Biases</a> (<a href='https://wandb.me/developer-guide' target=\"_blank\">docs</a>)<br>Sweep page: <a href='https://wandb.ai/yeshu183-indian-institute-of-technology-madras/Sweep%20Functionality/sweeps/x54z7171' target=\"_blank\">https://wandb.ai/yeshu183-indian-institute-of-technology-madras/Sweep%20Functionality/sweeps/x54z7171</a>"
            ]
          },
          "metadata": {}
        },
        {
          "output_type": "display_data",
          "data": {
            "text/plain": [
              "<IPython.core.display.HTML object>"
            ],
            "text/html": [
              " View project at <a href='https://wandb.ai/yeshu183-indian-institute-of-technology-madras/Sweep%20Functionality' target=\"_blank\">https://wandb.ai/yeshu183-indian-institute-of-technology-madras/Sweep%20Functionality</a>"
            ]
          },
          "metadata": {}
        },
        {
          "output_type": "display_data",
          "data": {
            "text/plain": [
              "<IPython.core.display.HTML object>"
            ],
            "text/html": [
              " View sweep at <a href='https://wandb.ai/yeshu183-indian-institute-of-technology-madras/Sweep%20Functionality/sweeps/x54z7171' target=\"_blank\">https://wandb.ai/yeshu183-indian-institute-of-technology-madras/Sweep%20Functionality/sweeps/x54z7171</a>"
            ]
          },
          "metadata": {}
        },
        {
          "output_type": "display_data",
          "data": {
            "text/plain": [
              "<IPython.core.display.HTML object>"
            ],
            "text/html": [
              " View run at <a href='https://wandb.ai/yeshu183-indian-institute-of-technology-madras/Sweep%20Functionality/runs/zcwhhpiw' target=\"_blank\">https://wandb.ai/yeshu183-indian-institute-of-technology-madras/Sweep%20Functionality/runs/zcwhhpiw</a>"
            ]
          },
          "metadata": {}
        },
        {
          "output_type": "stream",
          "name": "stdout",
          "text": [
            "Epoch 1, Loss: 0.4317\n",
            "Epoch 2, Loss: 0.4014\n",
            "Epoch 3, Loss: 0.3900\n",
            "Epoch 4, Loss: 0.3664\n",
            "Epoch 5, Loss: 0.3535\n",
            "Validation Loss: 0.3634, Validation Accuracy: 0.6527\n"
          ]
        },
        {
          "output_type": "display_data",
          "data": {
            "text/plain": [
              "<IPython.core.display.HTML object>"
            ],
            "text/html": []
          },
          "metadata": {}
        },
        {
          "output_type": "display_data",
          "data": {
            "text/plain": [
              "<IPython.core.display.HTML object>"
            ],
            "text/html": [
              "<br>    <style><br>        .wandb-row {<br>            display: flex;<br>            flex-direction: row;<br>            flex-wrap: wrap;<br>            justify-content: flex-start;<br>            width: 100%;<br>        }<br>        .wandb-col {<br>            display: flex;<br>            flex-direction: column;<br>            flex-basis: 100%;<br>            flex: 1;<br>            padding: 10px;<br>        }<br>    </style><br><div class=\"wandb-row\"><div class=\"wandb-col\"><h3>Run history:</h3><br/><table class=\"wandb\"><tr><td>loss</td><td>█████▇▇▇▇▇▇▆▆▆▅▅▅▄▄▄▃▃▃▃▃▃▂▂▂▂▂▁▂▂▂▁▁▂▁▁</td></tr><tr><td>val_acc</td><td>▁</td></tr><tr><td>val_loss</td><td>▁</td></tr></table><br/></div><div class=\"wandb-col\"><h3>Run summary:</h3><br/><table class=\"wandb\"><tr><td>loss</td><td>0.35353</td></tr><tr><td>val_acc</td><td>0.65267</td></tr><tr><td>val_loss</td><td>0.36335</td></tr></table><br/></div></div>"
            ]
          },
          "metadata": {}
        },
        {
          "output_type": "display_data",
          "data": {
            "text/plain": [
              "<IPython.core.display.HTML object>"
            ],
            "text/html": [
              " View run <strong style=\"color:#cdcd00\">e_5_hl_[128, 256, 512]_opt_sgd_bs_64_init_xavier_ac_tanh</strong> at: <a href='https://wandb.ai/yeshu183-indian-institute-of-technology-madras/Sweep%20Functionality/runs/zcwhhpiw' target=\"_blank\">https://wandb.ai/yeshu183-indian-institute-of-technology-madras/Sweep%20Functionality/runs/zcwhhpiw</a><br> View project at: <a href='https://wandb.ai/yeshu183-indian-institute-of-technology-madras/Sweep%20Functionality' target=\"_blank\">https://wandb.ai/yeshu183-indian-institute-of-technology-madras/Sweep%20Functionality</a><br>Synced 5 W&B file(s), 0 media file(s), 0 artifact file(s) and 0 other file(s)"
            ]
          },
          "metadata": {}
        },
        {
          "output_type": "display_data",
          "data": {
            "text/plain": [
              "<IPython.core.display.HTML object>"
            ],
            "text/html": [
              "Find logs at: <code>./wandb/run-20250310_053555-zcwhhpiw/logs</code>"
            ]
          },
          "metadata": {}
        },
        {
          "output_type": "stream",
          "name": "stderr",
          "text": [
            "\u001b[34m\u001b[1mwandb\u001b[0m: Agent Starting Run: 45gkv05y with config:\n",
            "\u001b[34m\u001b[1mwandb\u001b[0m: \tactivation: relu\n",
            "\u001b[34m\u001b[1mwandb\u001b[0m: \tbatch_size: 64\n",
            "\u001b[34m\u001b[1mwandb\u001b[0m: \tepochs: 5\n",
            "\u001b[34m\u001b[1mwandb\u001b[0m: \thidden_layers: [128, 256, 512]\n",
            "\u001b[34m\u001b[1mwandb\u001b[0m: \tl2_reg: 0.5\n",
            "\u001b[34m\u001b[1mwandb\u001b[0m: \tlearning_rate: 0.001\n",
            "\u001b[34m\u001b[1mwandb\u001b[0m: \toptimizer: sgd\n",
            "\u001b[34m\u001b[1mwandb\u001b[0m: \tweight_init: xavier\n"
          ]
        },
        {
          "output_type": "display_data",
          "data": {
            "text/plain": [
              "<IPython.core.display.HTML object>"
            ],
            "text/html": [
              "Ignoring project 'Sweep Functionality' when running a sweep."
            ]
          },
          "metadata": {}
        },
        {
          "output_type": "display_data",
          "data": {
            "text/plain": [
              "<IPython.core.display.HTML object>"
            ],
            "text/html": [
              "Tracking run with wandb version 0.19.7"
            ]
          },
          "metadata": {}
        },
        {
          "output_type": "display_data",
          "data": {
            "text/plain": [
              "<IPython.core.display.HTML object>"
            ],
            "text/html": [
              "Run data is saved locally in <code>/content/wandb/run-20250310_053711-45gkv05y</code>"
            ]
          },
          "metadata": {}
        },
        {
          "output_type": "display_data",
          "data": {
            "text/plain": [
              "<IPython.core.display.HTML object>"
            ],
            "text/html": [
              "Syncing run <strong><a href='https://wandb.ai/yeshu183-indian-institute-of-technology-madras/Sweep%20Functionality/runs/45gkv05y' target=\"_blank\">sleek-sweep-26</a></strong> to <a href='https://wandb.ai/yeshu183-indian-institute-of-technology-madras/Sweep%20Functionality' target=\"_blank\">Weights & Biases</a> (<a href='https://wandb.me/developer-guide' target=\"_blank\">docs</a>)<br>Sweep page: <a href='https://wandb.ai/yeshu183-indian-institute-of-technology-madras/Sweep%20Functionality/sweeps/x54z7171' target=\"_blank\">https://wandb.ai/yeshu183-indian-institute-of-technology-madras/Sweep%20Functionality/sweeps/x54z7171</a>"
            ]
          },
          "metadata": {}
        },
        {
          "output_type": "display_data",
          "data": {
            "text/plain": [
              "<IPython.core.display.HTML object>"
            ],
            "text/html": [
              " View project at <a href='https://wandb.ai/yeshu183-indian-institute-of-technology-madras/Sweep%20Functionality' target=\"_blank\">https://wandb.ai/yeshu183-indian-institute-of-technology-madras/Sweep%20Functionality</a>"
            ]
          },
          "metadata": {}
        },
        {
          "output_type": "display_data",
          "data": {
            "text/plain": [
              "<IPython.core.display.HTML object>"
            ],
            "text/html": [
              " View sweep at <a href='https://wandb.ai/yeshu183-indian-institute-of-technology-madras/Sweep%20Functionality/sweeps/x54z7171' target=\"_blank\">https://wandb.ai/yeshu183-indian-institute-of-technology-madras/Sweep%20Functionality/sweeps/x54z7171</a>"
            ]
          },
          "metadata": {}
        },
        {
          "output_type": "display_data",
          "data": {
            "text/plain": [
              "<IPython.core.display.HTML object>"
            ],
            "text/html": [
              " View run at <a href='https://wandb.ai/yeshu183-indian-institute-of-technology-madras/Sweep%20Functionality/runs/45gkv05y' target=\"_blank\">https://wandb.ai/yeshu183-indian-institute-of-technology-madras/Sweep%20Functionality/runs/45gkv05y</a>"
            ]
          },
          "metadata": {}
        },
        {
          "output_type": "stream",
          "name": "stdout",
          "text": [
            "Epoch 1, Loss: 226.7133\n",
            "Epoch 2, Loss: 227.4459\n",
            "Epoch 3, Loss: 228.0643\n",
            "Epoch 4, Loss: 228.5692\n",
            "Epoch 5, Loss: 228.9546\n",
            "Validation Loss: 228.9634, Validation Accuracy: 0.7523\n"
          ]
        },
        {
          "output_type": "display_data",
          "data": {
            "text/plain": [
              "<IPython.core.display.HTML object>"
            ],
            "text/html": []
          },
          "metadata": {}
        },
        {
          "output_type": "display_data",
          "data": {
            "text/plain": [
              "<IPython.core.display.HTML object>"
            ],
            "text/html": [
              "<br>    <style><br>        .wandb-row {<br>            display: flex;<br>            flex-direction: row;<br>            flex-wrap: wrap;<br>            justify-content: flex-start;<br>            width: 100%;<br>        }<br>        .wandb-col {<br>            display: flex;<br>            flex-direction: column;<br>            flex-basis: 100%;<br>            flex: 1;<br>            padding: 10px;<br>        }<br>    </style><br><div class=\"wandb-row\"><div class=\"wandb-col\"><h3>Run history:</h3><br/><table class=\"wandb\"><tr><td>loss</td><td>▁▁▁▂▂▃▃▃▃▃▃▃▃▃▄▄▄▄▅▅▅▅▅▅▅▆▆▆▆▆▇▇▇███████</td></tr><tr><td>val_acc</td><td>▁</td></tr><tr><td>val_loss</td><td>▁</td></tr></table><br/></div><div class=\"wandb-col\"><h3>Run summary:</h3><br/><table class=\"wandb\"><tr><td>loss</td><td>228.95461</td></tr><tr><td>val_acc</td><td>0.75233</td></tr><tr><td>val_loss</td><td>228.96342</td></tr></table><br/></div></div>"
            ]
          },
          "metadata": {}
        },
        {
          "output_type": "display_data",
          "data": {
            "text/plain": [
              "<IPython.core.display.HTML object>"
            ],
            "text/html": [
              " View run <strong style=\"color:#cdcd00\">e_5_hl_[128, 256, 512]_opt_sgd_bs_64_init_xavier_ac_relu</strong> at: <a href='https://wandb.ai/yeshu183-indian-institute-of-technology-madras/Sweep%20Functionality/runs/45gkv05y' target=\"_blank\">https://wandb.ai/yeshu183-indian-institute-of-technology-madras/Sweep%20Functionality/runs/45gkv05y</a><br> View project at: <a href='https://wandb.ai/yeshu183-indian-institute-of-technology-madras/Sweep%20Functionality' target=\"_blank\">https://wandb.ai/yeshu183-indian-institute-of-technology-madras/Sweep%20Functionality</a><br>Synced 5 W&B file(s), 0 media file(s), 0 artifact file(s) and 0 other file(s)"
            ]
          },
          "metadata": {}
        },
        {
          "output_type": "display_data",
          "data": {
            "text/plain": [
              "<IPython.core.display.HTML object>"
            ],
            "text/html": [
              "Find logs at: <code>./wandb/run-20250310_053711-45gkv05y/logs</code>"
            ]
          },
          "metadata": {}
        },
        {
          "output_type": "stream",
          "name": "stderr",
          "text": [
            "\u001b[34m\u001b[1mwandb\u001b[0m: Agent Starting Run: fm2odxbe with config:\n",
            "\u001b[34m\u001b[1mwandb\u001b[0m: \tactivation: sigmoid\n",
            "\u001b[34m\u001b[1mwandb\u001b[0m: \tbatch_size: 64\n",
            "\u001b[34m\u001b[1mwandb\u001b[0m: \tepochs: 5\n",
            "\u001b[34m\u001b[1mwandb\u001b[0m: \thidden_layers: [128, 256, 512]\n",
            "\u001b[34m\u001b[1mwandb\u001b[0m: \tl2_reg: 0\n",
            "\u001b[34m\u001b[1mwandb\u001b[0m: \tlearning_rate: 0.001\n",
            "\u001b[34m\u001b[1mwandb\u001b[0m: \toptimizer: sgd\n",
            "\u001b[34m\u001b[1mwandb\u001b[0m: \tweight_init: random\n"
          ]
        },
        {
          "output_type": "display_data",
          "data": {
            "text/plain": [
              "<IPython.core.display.HTML object>"
            ],
            "text/html": [
              "Ignoring project 'Sweep Functionality' when running a sweep."
            ]
          },
          "metadata": {}
        },
        {
          "output_type": "display_data",
          "data": {
            "text/plain": [
              "<IPython.core.display.HTML object>"
            ],
            "text/html": [
              "Tracking run with wandb version 0.19.7"
            ]
          },
          "metadata": {}
        },
        {
          "output_type": "display_data",
          "data": {
            "text/plain": [
              "<IPython.core.display.HTML object>"
            ],
            "text/html": [
              "Run data is saved locally in <code>/content/wandb/run-20250310_053807-fm2odxbe</code>"
            ]
          },
          "metadata": {}
        },
        {
          "output_type": "display_data",
          "data": {
            "text/plain": [
              "<IPython.core.display.HTML object>"
            ],
            "text/html": [
              "Syncing run <strong><a href='https://wandb.ai/yeshu183-indian-institute-of-technology-madras/Sweep%20Functionality/runs/fm2odxbe' target=\"_blank\">likely-sweep-27</a></strong> to <a href='https://wandb.ai/yeshu183-indian-institute-of-technology-madras/Sweep%20Functionality' target=\"_blank\">Weights & Biases</a> (<a href='https://wandb.me/developer-guide' target=\"_blank\">docs</a>)<br>Sweep page: <a href='https://wandb.ai/yeshu183-indian-institute-of-technology-madras/Sweep%20Functionality/sweeps/x54z7171' target=\"_blank\">https://wandb.ai/yeshu183-indian-institute-of-technology-madras/Sweep%20Functionality/sweeps/x54z7171</a>"
            ]
          },
          "metadata": {}
        },
        {
          "output_type": "display_data",
          "data": {
            "text/plain": [
              "<IPython.core.display.HTML object>"
            ],
            "text/html": [
              " View project at <a href='https://wandb.ai/yeshu183-indian-institute-of-technology-madras/Sweep%20Functionality' target=\"_blank\">https://wandb.ai/yeshu183-indian-institute-of-technology-madras/Sweep%20Functionality</a>"
            ]
          },
          "metadata": {}
        },
        {
          "output_type": "display_data",
          "data": {
            "text/plain": [
              "<IPython.core.display.HTML object>"
            ],
            "text/html": [
              " View sweep at <a href='https://wandb.ai/yeshu183-indian-institute-of-technology-madras/Sweep%20Functionality/sweeps/x54z7171' target=\"_blank\">https://wandb.ai/yeshu183-indian-institute-of-technology-madras/Sweep%20Functionality/sweeps/x54z7171</a>"
            ]
          },
          "metadata": {}
        },
        {
          "output_type": "display_data",
          "data": {
            "text/plain": [
              "<IPython.core.display.HTML object>"
            ],
            "text/html": [
              " View run at <a href='https://wandb.ai/yeshu183-indian-institute-of-technology-madras/Sweep%20Functionality/runs/fm2odxbe' target=\"_blank\">https://wandb.ai/yeshu183-indian-institute-of-technology-madras/Sweep%20Functionality/runs/fm2odxbe</a>"
            ]
          },
          "metadata": {}
        },
        {
          "output_type": "stream",
          "name": "stdout",
          "text": [
            "Epoch 1, Loss: 0.2305\n",
            "Epoch 2, Loss: 0.2311\n",
            "Epoch 3, Loss: 0.2299\n",
            "Epoch 4, Loss: 0.2303\n",
            "Epoch 5, Loss: 0.2298\n",
            "Validation Loss: 0.2303, Validation Accuracy: 0.1028\n"
          ]
        },
        {
          "output_type": "display_data",
          "data": {
            "text/plain": [
              "<IPython.core.display.HTML object>"
            ],
            "text/html": []
          },
          "metadata": {}
        },
        {
          "output_type": "display_data",
          "data": {
            "text/plain": [
              "<IPython.core.display.HTML object>"
            ],
            "text/html": [
              "<br>    <style><br>        .wandb-row {<br>            display: flex;<br>            flex-direction: row;<br>            flex-wrap: wrap;<br>            justify-content: flex-start;<br>            width: 100%;<br>        }<br>        .wandb-col {<br>            display: flex;<br>            flex-direction: column;<br>            flex-basis: 100%;<br>            flex: 1;<br>            padding: 10px;<br>        }<br>    </style><br><div class=\"wandb-row\"><div class=\"wandb-col\"><h3>Run history:</h3><br/><table class=\"wandb\"><tr><td>loss</td><td>█▄▄▃▂▃▃▄▃▃▅▃▅▂▂▄▂▃▅▃▂▁▃▅▅▃▃▂▄▁▃▃▂▃▄▂▃▃▄▃</td></tr><tr><td>val_acc</td><td>▁</td></tr><tr><td>val_loss</td><td>▁</td></tr></table><br/></div><div class=\"wandb-col\"><h3>Run summary:</h3><br/><table class=\"wandb\"><tr><td>loss</td><td>0.2298</td></tr><tr><td>val_acc</td><td>0.10283</td></tr><tr><td>val_loss</td><td>0.23027</td></tr></table><br/></div></div>"
            ]
          },
          "metadata": {}
        },
        {
          "output_type": "display_data",
          "data": {
            "text/plain": [
              "<IPython.core.display.HTML object>"
            ],
            "text/html": [
              " View run <strong style=\"color:#cdcd00\">e_5_hl_[128, 256, 512]_opt_sgd_bs_64_init_random_ac_sigmoid</strong> at: <a href='https://wandb.ai/yeshu183-indian-institute-of-technology-madras/Sweep%20Functionality/runs/fm2odxbe' target=\"_blank\">https://wandb.ai/yeshu183-indian-institute-of-technology-madras/Sweep%20Functionality/runs/fm2odxbe</a><br> View project at: <a href='https://wandb.ai/yeshu183-indian-institute-of-technology-madras/Sweep%20Functionality' target=\"_blank\">https://wandb.ai/yeshu183-indian-institute-of-technology-madras/Sweep%20Functionality</a><br>Synced 5 W&B file(s), 0 media file(s), 0 artifact file(s) and 0 other file(s)"
            ]
          },
          "metadata": {}
        },
        {
          "output_type": "display_data",
          "data": {
            "text/plain": [
              "<IPython.core.display.HTML object>"
            ],
            "text/html": [
              "Find logs at: <code>./wandb/run-20250310_053807-fm2odxbe/logs</code>"
            ]
          },
          "metadata": {}
        },
        {
          "output_type": "stream",
          "name": "stderr",
          "text": [
            "\u001b[34m\u001b[1mwandb\u001b[0m: Agent Starting Run: 4wngry7x with config:\n",
            "\u001b[34m\u001b[1mwandb\u001b[0m: \tactivation: relu\n",
            "\u001b[34m\u001b[1mwandb\u001b[0m: \tbatch_size: 16\n",
            "\u001b[34m\u001b[1mwandb\u001b[0m: \tepochs: 5\n",
            "\u001b[34m\u001b[1mwandb\u001b[0m: \thidden_layers: [128, 256, 512]\n",
            "\u001b[34m\u001b[1mwandb\u001b[0m: \tl2_reg: 0.0005\n",
            "\u001b[34m\u001b[1mwandb\u001b[0m: \tlearning_rate: 0.0001\n",
            "\u001b[34m\u001b[1mwandb\u001b[0m: \toptimizer: sgd\n",
            "\u001b[34m\u001b[1mwandb\u001b[0m: \tweight_init: xavier\n"
          ]
        },
        {
          "output_type": "display_data",
          "data": {
            "text/plain": [
              "<IPython.core.display.HTML object>"
            ],
            "text/html": [
              "Ignoring project 'Sweep Functionality' when running a sweep."
            ]
          },
          "metadata": {}
        },
        {
          "output_type": "display_data",
          "data": {
            "text/plain": [
              "<IPython.core.display.HTML object>"
            ],
            "text/html": [
              "Tracking run with wandb version 0.19.7"
            ]
          },
          "metadata": {}
        },
        {
          "output_type": "display_data",
          "data": {
            "text/plain": [
              "<IPython.core.display.HTML object>"
            ],
            "text/html": [
              "Run data is saved locally in <code>/content/wandb/run-20250310_053907-4wngry7x</code>"
            ]
          },
          "metadata": {}
        },
        {
          "output_type": "display_data",
          "data": {
            "text/plain": [
              "<IPython.core.display.HTML object>"
            ],
            "text/html": [
              "Syncing run <strong><a href='https://wandb.ai/yeshu183-indian-institute-of-technology-madras/Sweep%20Functionality/runs/4wngry7x' target=\"_blank\">fancy-sweep-28</a></strong> to <a href='https://wandb.ai/yeshu183-indian-institute-of-technology-madras/Sweep%20Functionality' target=\"_blank\">Weights & Biases</a> (<a href='https://wandb.me/developer-guide' target=\"_blank\">docs</a>)<br>Sweep page: <a href='https://wandb.ai/yeshu183-indian-institute-of-technology-madras/Sweep%20Functionality/sweeps/x54z7171' target=\"_blank\">https://wandb.ai/yeshu183-indian-institute-of-technology-madras/Sweep%20Functionality/sweeps/x54z7171</a>"
            ]
          },
          "metadata": {}
        },
        {
          "output_type": "display_data",
          "data": {
            "text/plain": [
              "<IPython.core.display.HTML object>"
            ],
            "text/html": [
              " View project at <a href='https://wandb.ai/yeshu183-indian-institute-of-technology-madras/Sweep%20Functionality' target=\"_blank\">https://wandb.ai/yeshu183-indian-institute-of-technology-madras/Sweep%20Functionality</a>"
            ]
          },
          "metadata": {}
        },
        {
          "output_type": "display_data",
          "data": {
            "text/plain": [
              "<IPython.core.display.HTML object>"
            ],
            "text/html": [
              " View sweep at <a href='https://wandb.ai/yeshu183-indian-institute-of-technology-madras/Sweep%20Functionality/sweeps/x54z7171' target=\"_blank\">https://wandb.ai/yeshu183-indian-institute-of-technology-madras/Sweep%20Functionality/sweeps/x54z7171</a>"
            ]
          },
          "metadata": {}
        },
        {
          "output_type": "display_data",
          "data": {
            "text/plain": [
              "<IPython.core.display.HTML object>"
            ],
            "text/html": [
              " View run at <a href='https://wandb.ai/yeshu183-indian-institute-of-technology-madras/Sweep%20Functionality/runs/4wngry7x' target=\"_blank\">https://wandb.ai/yeshu183-indian-institute-of-technology-madras/Sweep%20Functionality/runs/4wngry7x</a>"
            ]
          },
          "metadata": {}
        },
        {
          "output_type": "stream",
          "name": "stdout",
          "text": [
            "Epoch 1, Loss: 0.4327\n",
            "Epoch 2, Loss: 0.4063\n",
            "Epoch 3, Loss: 0.3817\n",
            "Epoch 4, Loss: 0.3474\n",
            "Epoch 5, Loss: 0.3315\n",
            "Validation Loss: 0.3401, Validation Accuracy: 0.6992\n"
          ]
        },
        {
          "output_type": "display_data",
          "data": {
            "text/plain": [
              "<IPython.core.display.HTML object>"
            ],
            "text/html": []
          },
          "metadata": {}
        },
        {
          "output_type": "display_data",
          "data": {
            "text/plain": [
              "<IPython.core.display.HTML object>"
            ],
            "text/html": [
              "<br>    <style><br>        .wandb-row {<br>            display: flex;<br>            flex-direction: row;<br>            flex-wrap: wrap;<br>            justify-content: flex-start;<br>            width: 100%;<br>        }<br>        .wandb-col {<br>            display: flex;<br>            flex-direction: column;<br>            flex-basis: 100%;<br>            flex: 1;<br>            padding: 10px;<br>        }<br>    </style><br><div class=\"wandb-row\"><div class=\"wandb-col\"><h3>Run history:</h3><br/><table class=\"wandb\"><tr><td>loss</td><td>█▆▆▆▆▆▆▆▆▆▅▅▅▅▄▄▄▄▄▄▃▃▃▂▂▂▂▃▃▃▂▂▂▃▂▂▂▁▂▂</td></tr><tr><td>val_acc</td><td>▁</td></tr><tr><td>val_loss</td><td>▁</td></tr></table><br/></div><div class=\"wandb-col\"><h3>Run summary:</h3><br/><table class=\"wandb\"><tr><td>loss</td><td>0.33154</td></tr><tr><td>val_acc</td><td>0.69917</td></tr><tr><td>val_loss</td><td>0.34013</td></tr></table><br/></div></div>"
            ]
          },
          "metadata": {}
        },
        {
          "output_type": "display_data",
          "data": {
            "text/plain": [
              "<IPython.core.display.HTML object>"
            ],
            "text/html": [
              " View run <strong style=\"color:#cdcd00\">e_5_hl_[128, 256, 512]_opt_sgd_bs_16_init_xavier_ac_relu</strong> at: <a href='https://wandb.ai/yeshu183-indian-institute-of-technology-madras/Sweep%20Functionality/runs/4wngry7x' target=\"_blank\">https://wandb.ai/yeshu183-indian-institute-of-technology-madras/Sweep%20Functionality/runs/4wngry7x</a><br> View project at: <a href='https://wandb.ai/yeshu183-indian-institute-of-technology-madras/Sweep%20Functionality' target=\"_blank\">https://wandb.ai/yeshu183-indian-institute-of-technology-madras/Sweep%20Functionality</a><br>Synced 5 W&B file(s), 0 media file(s), 0 artifact file(s) and 0 other file(s)"
            ]
          },
          "metadata": {}
        },
        {
          "output_type": "display_data",
          "data": {
            "text/plain": [
              "<IPython.core.display.HTML object>"
            ],
            "text/html": [
              "Find logs at: <code>./wandb/run-20250310_053907-4wngry7x/logs</code>"
            ]
          },
          "metadata": {}
        },
        {
          "output_type": "stream",
          "name": "stderr",
          "text": [
            "\u001b[34m\u001b[1mwandb\u001b[0m: Agent Starting Run: l1s83g31 with config:\n",
            "\u001b[34m\u001b[1mwandb\u001b[0m: \tactivation: sigmoid\n",
            "\u001b[34m\u001b[1mwandb\u001b[0m: \tbatch_size: 16\n",
            "\u001b[34m\u001b[1mwandb\u001b[0m: \tepochs: 5\n",
            "\u001b[34m\u001b[1mwandb\u001b[0m: \thidden_layers: [128, 256, 512]\n",
            "\u001b[34m\u001b[1mwandb\u001b[0m: \tl2_reg: 0.5\n",
            "\u001b[34m\u001b[1mwandb\u001b[0m: \tlearning_rate: 0.001\n",
            "\u001b[34m\u001b[1mwandb\u001b[0m: \toptimizer: sgd\n",
            "\u001b[34m\u001b[1mwandb\u001b[0m: \tweight_init: xavier\n"
          ]
        },
        {
          "output_type": "display_data",
          "data": {
            "text/plain": [
              "<IPython.core.display.HTML object>"
            ],
            "text/html": [
              "Ignoring project 'Sweep Functionality' when running a sweep."
            ]
          },
          "metadata": {}
        },
        {
          "output_type": "display_data",
          "data": {
            "text/plain": [
              "<IPython.core.display.HTML object>"
            ],
            "text/html": [
              "Tracking run with wandb version 0.19.7"
            ]
          },
          "metadata": {}
        },
        {
          "output_type": "display_data",
          "data": {
            "text/plain": [
              "<IPython.core.display.HTML object>"
            ],
            "text/html": [
              "Run data is saved locally in <code>/content/wandb/run-20250310_054118-l1s83g31</code>"
            ]
          },
          "metadata": {}
        },
        {
          "output_type": "display_data",
          "data": {
            "text/plain": [
              "<IPython.core.display.HTML object>"
            ],
            "text/html": [
              "Syncing run <strong><a href='https://wandb.ai/yeshu183-indian-institute-of-technology-madras/Sweep%20Functionality/runs/l1s83g31' target=\"_blank\">azure-sweep-29</a></strong> to <a href='https://wandb.ai/yeshu183-indian-institute-of-technology-madras/Sweep%20Functionality' target=\"_blank\">Weights & Biases</a> (<a href='https://wandb.me/developer-guide' target=\"_blank\">docs</a>)<br>Sweep page: <a href='https://wandb.ai/yeshu183-indian-institute-of-technology-madras/Sweep%20Functionality/sweeps/x54z7171' target=\"_blank\">https://wandb.ai/yeshu183-indian-institute-of-technology-madras/Sweep%20Functionality/sweeps/x54z7171</a>"
            ]
          },
          "metadata": {}
        },
        {
          "output_type": "display_data",
          "data": {
            "text/plain": [
              "<IPython.core.display.HTML object>"
            ],
            "text/html": [
              " View project at <a href='https://wandb.ai/yeshu183-indian-institute-of-technology-madras/Sweep%20Functionality' target=\"_blank\">https://wandb.ai/yeshu183-indian-institute-of-technology-madras/Sweep%20Functionality</a>"
            ]
          },
          "metadata": {}
        },
        {
          "output_type": "display_data",
          "data": {
            "text/plain": [
              "<IPython.core.display.HTML object>"
            ],
            "text/html": [
              " View sweep at <a href='https://wandb.ai/yeshu183-indian-institute-of-technology-madras/Sweep%20Functionality/sweeps/x54z7171' target=\"_blank\">https://wandb.ai/yeshu183-indian-institute-of-technology-madras/Sweep%20Functionality/sweeps/x54z7171</a>"
            ]
          },
          "metadata": {}
        },
        {
          "output_type": "display_data",
          "data": {
            "text/plain": [
              "<IPython.core.display.HTML object>"
            ],
            "text/html": [
              " View run at <a href='https://wandb.ai/yeshu183-indian-institute-of-technology-madras/Sweep%20Functionality/runs/l1s83g31' target=\"_blank\">https://wandb.ai/yeshu183-indian-institute-of-technology-madras/Sweep%20Functionality/runs/l1s83g31</a>"
            ]
          },
          "metadata": {}
        },
        {
          "output_type": "stream",
          "name": "stdout",
          "text": [
            "Epoch 1, Loss: 227.3394\n",
            "Epoch 2, Loss: 233.9024\n",
            "Epoch 3, Loss: 266.1062\n",
            "Epoch 4, Loss: 462.2071\n",
            "Epoch 5, Loss: 1591.0564\n",
            "Validation Loss: 1591.6683, Validation Accuracy: 0.2747\n"
          ]
        },
        {
          "output_type": "display_data",
          "data": {
            "text/plain": [
              "<IPython.core.display.HTML object>"
            ],
            "text/html": []
          },
          "metadata": {}
        },
        {
          "output_type": "display_data",
          "data": {
            "text/plain": [
              "<IPython.core.display.HTML object>"
            ],
            "text/html": [
              "<br>    <style><br>        .wandb-row {<br>            display: flex;<br>            flex-direction: row;<br>            flex-wrap: wrap;<br>            justify-content: flex-start;<br>            width: 100%;<br>        }<br>        .wandb-col {<br>            display: flex;<br>            flex-direction: column;<br>            flex-basis: 100%;<br>            flex: 1;<br>            padding: 10px;<br>        }<br>    </style><br><div class=\"wandb-row\"><div class=\"wandb-col\"><h3>Run history:</h3><br/><table class=\"wandb\"><tr><td>loss</td><td>▁▁▁▁▁▁▁▁▁▁▁▁▁▁▁▁▁▁▁▁▁▁▁▁▁▁▁▁▂▂▂▂▂▂▂▄▅▆▆█</td></tr><tr><td>val_acc</td><td>▁</td></tr><tr><td>val_loss</td><td>▁</td></tr></table><br/></div><div class=\"wandb-col\"><h3>Run summary:</h3><br/><table class=\"wandb\"><tr><td>loss</td><td>1591.05639</td></tr><tr><td>val_acc</td><td>0.27467</td></tr><tr><td>val_loss</td><td>1591.66831</td></tr></table><br/></div></div>"
            ]
          },
          "metadata": {}
        },
        {
          "output_type": "display_data",
          "data": {
            "text/plain": [
              "<IPython.core.display.HTML object>"
            ],
            "text/html": [
              " View run <strong style=\"color:#cdcd00\">e_5_hl_[128, 256, 512]_opt_sgd_bs_16_init_xavier_ac_sigmoid</strong> at: <a href='https://wandb.ai/yeshu183-indian-institute-of-technology-madras/Sweep%20Functionality/runs/l1s83g31' target=\"_blank\">https://wandb.ai/yeshu183-indian-institute-of-technology-madras/Sweep%20Functionality/runs/l1s83g31</a><br> View project at: <a href='https://wandb.ai/yeshu183-indian-institute-of-technology-madras/Sweep%20Functionality' target=\"_blank\">https://wandb.ai/yeshu183-indian-institute-of-technology-madras/Sweep%20Functionality</a><br>Synced 5 W&B file(s), 0 media file(s), 0 artifact file(s) and 0 other file(s)"
            ]
          },
          "metadata": {}
        },
        {
          "output_type": "display_data",
          "data": {
            "text/plain": [
              "<IPython.core.display.HTML object>"
            ],
            "text/html": [
              "Find logs at: <code>./wandb/run-20250310_054118-l1s83g31/logs</code>"
            ]
          },
          "metadata": {}
        },
        {
          "output_type": "stream",
          "name": "stderr",
          "text": [
            "\u001b[34m\u001b[1mwandb\u001b[0m: Agent Starting Run: 7rrij96q with config:\n",
            "\u001b[34m\u001b[1mwandb\u001b[0m: \tactivation: relu\n",
            "\u001b[34m\u001b[1mwandb\u001b[0m: \tbatch_size: 32\n",
            "\u001b[34m\u001b[1mwandb\u001b[0m: \tepochs: 5\n",
            "\u001b[34m\u001b[1mwandb\u001b[0m: \thidden_layers: [128, 256, 512]\n",
            "\u001b[34m\u001b[1mwandb\u001b[0m: \tl2_reg: 0.5\n",
            "\u001b[34m\u001b[1mwandb\u001b[0m: \tlearning_rate: 0.001\n",
            "\u001b[34m\u001b[1mwandb\u001b[0m: \toptimizer: sgd\n",
            "\u001b[34m\u001b[1mwandb\u001b[0m: \tweight_init: xavier\n"
          ]
        },
        {
          "output_type": "display_data",
          "data": {
            "text/plain": [
              "<IPython.core.display.HTML object>"
            ],
            "text/html": [
              "Ignoring project 'Sweep Functionality' when running a sweep."
            ]
          },
          "metadata": {}
        },
        {
          "output_type": "display_data",
          "data": {
            "text/plain": [
              "<IPython.core.display.HTML object>"
            ],
            "text/html": [
              "Tracking run with wandb version 0.19.7"
            ]
          },
          "metadata": {}
        },
        {
          "output_type": "display_data",
          "data": {
            "text/plain": [
              "<IPython.core.display.HTML object>"
            ],
            "text/html": [
              "Run data is saved locally in <code>/content/wandb/run-20250310_054329-7rrij96q</code>"
            ]
          },
          "metadata": {}
        },
        {
          "output_type": "display_data",
          "data": {
            "text/plain": [
              "<IPython.core.display.HTML object>"
            ],
            "text/html": [
              "Syncing run <strong><a href='https://wandb.ai/yeshu183-indian-institute-of-technology-madras/Sweep%20Functionality/runs/7rrij96q' target=\"_blank\">legendary-sweep-30</a></strong> to <a href='https://wandb.ai/yeshu183-indian-institute-of-technology-madras/Sweep%20Functionality' target=\"_blank\">Weights & Biases</a> (<a href='https://wandb.me/developer-guide' target=\"_blank\">docs</a>)<br>Sweep page: <a href='https://wandb.ai/yeshu183-indian-institute-of-technology-madras/Sweep%20Functionality/sweeps/x54z7171' target=\"_blank\">https://wandb.ai/yeshu183-indian-institute-of-technology-madras/Sweep%20Functionality/sweeps/x54z7171</a>"
            ]
          },
          "metadata": {}
        },
        {
          "output_type": "display_data",
          "data": {
            "text/plain": [
              "<IPython.core.display.HTML object>"
            ],
            "text/html": [
              " View project at <a href='https://wandb.ai/yeshu183-indian-institute-of-technology-madras/Sweep%20Functionality' target=\"_blank\">https://wandb.ai/yeshu183-indian-institute-of-technology-madras/Sweep%20Functionality</a>"
            ]
          },
          "metadata": {}
        },
        {
          "output_type": "display_data",
          "data": {
            "text/plain": [
              "<IPython.core.display.HTML object>"
            ],
            "text/html": [
              " View sweep at <a href='https://wandb.ai/yeshu183-indian-institute-of-technology-madras/Sweep%20Functionality/sweeps/x54z7171' target=\"_blank\">https://wandb.ai/yeshu183-indian-institute-of-technology-madras/Sweep%20Functionality/sweeps/x54z7171</a>"
            ]
          },
          "metadata": {}
        },
        {
          "output_type": "display_data",
          "data": {
            "text/plain": [
              "<IPython.core.display.HTML object>"
            ],
            "text/html": [
              " View run at <a href='https://wandb.ai/yeshu183-indian-institute-of-technology-madras/Sweep%20Functionality/runs/7rrij96q' target=\"_blank\">https://wandb.ai/yeshu183-indian-institute-of-technology-madras/Sweep%20Functionality/runs/7rrij96q</a>"
            ]
          },
          "metadata": {}
        },
        {
          "output_type": "stream",
          "name": "stdout",
          "text": [
            "Epoch 1, Loss: 228.0710\n",
            "Epoch 2, Loss: 229.1553\n",
            "Epoch 3, Loss: 229.8941\n",
            "Epoch 4, Loss: 230.4787\n",
            "Epoch 5, Loss: 230.9346\n",
            "Validation Loss: 230.9322, Validation Accuracy: 0.7840\n"
          ]
        },
        {
          "output_type": "display_data",
          "data": {
            "text/plain": [
              "<IPython.core.display.HTML object>"
            ],
            "text/html": []
          },
          "metadata": {}
        },
        {
          "output_type": "display_data",
          "data": {
            "text/plain": [
              "<IPython.core.display.HTML object>"
            ],
            "text/html": [
              "<br>    <style><br>        .wandb-row {<br>            display: flex;<br>            flex-direction: row;<br>            flex-wrap: wrap;<br>            justify-content: flex-start;<br>            width: 100%;<br>        }<br>        .wandb-col {<br>            display: flex;<br>            flex-direction: column;<br>            flex-basis: 100%;<br>            flex: 1;<br>            padding: 10px;<br>        }<br>    </style><br><div class=\"wandb-row\"><div class=\"wandb-col\"><h3>Run history:</h3><br/><table class=\"wandb\"><tr><td>loss</td><td>▁▁▁▂▂▃▃▃▃▃▄▄▄▅▅▅▅▅▅▆▆▆▆▆▇▇▇▇▇▇▇▇▇▇▇█████</td></tr><tr><td>val_acc</td><td>▁</td></tr><tr><td>val_loss</td><td>▁</td></tr></table><br/></div><div class=\"wandb-col\"><h3>Run summary:</h3><br/><table class=\"wandb\"><tr><td>loss</td><td>230.93462</td></tr><tr><td>val_acc</td><td>0.784</td></tr><tr><td>val_loss</td><td>230.93222</td></tr></table><br/></div></div>"
            ]
          },
          "metadata": {}
        },
        {
          "output_type": "display_data",
          "data": {
            "text/plain": [
              "<IPython.core.display.HTML object>"
            ],
            "text/html": [
              " View run <strong style=\"color:#cdcd00\">e_5_hl_[128, 256, 512]_opt_sgd_bs_32_init_xavier_ac_relu</strong> at: <a href='https://wandb.ai/yeshu183-indian-institute-of-technology-madras/Sweep%20Functionality/runs/7rrij96q' target=\"_blank\">https://wandb.ai/yeshu183-indian-institute-of-technology-madras/Sweep%20Functionality/runs/7rrij96q</a><br> View project at: <a href='https://wandb.ai/yeshu183-indian-institute-of-technology-madras/Sweep%20Functionality' target=\"_blank\">https://wandb.ai/yeshu183-indian-institute-of-technology-madras/Sweep%20Functionality</a><br>Synced 5 W&B file(s), 0 media file(s), 0 artifact file(s) and 0 other file(s)"
            ]
          },
          "metadata": {}
        },
        {
          "output_type": "display_data",
          "data": {
            "text/plain": [
              "<IPython.core.display.HTML object>"
            ],
            "text/html": [
              "Find logs at: <code>./wandb/run-20250310_054329-7rrij96q/logs</code>"
            ]
          },
          "metadata": {}
        },
        {
          "output_type": "stream",
          "name": "stderr",
          "text": [
            "\u001b[34m\u001b[1mwandb\u001b[0m: Agent Starting Run: i61nmmvp with config:\n",
            "\u001b[34m\u001b[1mwandb\u001b[0m: \tactivation: relu\n",
            "\u001b[34m\u001b[1mwandb\u001b[0m: \tbatch_size: 32\n",
            "\u001b[34m\u001b[1mwandb\u001b[0m: \tepochs: 5\n",
            "\u001b[34m\u001b[1mwandb\u001b[0m: \thidden_layers: [32, 64, 128]\n",
            "\u001b[34m\u001b[1mwandb\u001b[0m: \tl2_reg: 0.5\n",
            "\u001b[34m\u001b[1mwandb\u001b[0m: \tlearning_rate: 0.001\n",
            "\u001b[34m\u001b[1mwandb\u001b[0m: \toptimizer: sgd\n",
            "\u001b[34m\u001b[1mwandb\u001b[0m: \tweight_init: xavier\n"
          ]
        },
        {
          "output_type": "display_data",
          "data": {
            "text/plain": [
              "<IPython.core.display.HTML object>"
            ],
            "text/html": [
              "Ignoring project 'Sweep Functionality' when running a sweep."
            ]
          },
          "metadata": {}
        },
        {
          "output_type": "display_data",
          "data": {
            "text/plain": [
              "<IPython.core.display.HTML object>"
            ],
            "text/html": [
              "Tracking run with wandb version 0.19.7"
            ]
          },
          "metadata": {}
        },
        {
          "output_type": "display_data",
          "data": {
            "text/plain": [
              "<IPython.core.display.HTML object>"
            ],
            "text/html": [
              "Run data is saved locally in <code>/content/wandb/run-20250310_054445-i61nmmvp</code>"
            ]
          },
          "metadata": {}
        },
        {
          "output_type": "display_data",
          "data": {
            "text/plain": [
              "<IPython.core.display.HTML object>"
            ],
            "text/html": [
              "Syncing run <strong><a href='https://wandb.ai/yeshu183-indian-institute-of-technology-madras/Sweep%20Functionality/runs/i61nmmvp' target=\"_blank\">astral-sweep-31</a></strong> to <a href='https://wandb.ai/yeshu183-indian-institute-of-technology-madras/Sweep%20Functionality' target=\"_blank\">Weights & Biases</a> (<a href='https://wandb.me/developer-guide' target=\"_blank\">docs</a>)<br>Sweep page: <a href='https://wandb.ai/yeshu183-indian-institute-of-technology-madras/Sweep%20Functionality/sweeps/x54z7171' target=\"_blank\">https://wandb.ai/yeshu183-indian-institute-of-technology-madras/Sweep%20Functionality/sweeps/x54z7171</a>"
            ]
          },
          "metadata": {}
        },
        {
          "output_type": "display_data",
          "data": {
            "text/plain": [
              "<IPython.core.display.HTML object>"
            ],
            "text/html": [
              " View project at <a href='https://wandb.ai/yeshu183-indian-institute-of-technology-madras/Sweep%20Functionality' target=\"_blank\">https://wandb.ai/yeshu183-indian-institute-of-technology-madras/Sweep%20Functionality</a>"
            ]
          },
          "metadata": {}
        },
        {
          "output_type": "display_data",
          "data": {
            "text/plain": [
              "<IPython.core.display.HTML object>"
            ],
            "text/html": [
              " View sweep at <a href='https://wandb.ai/yeshu183-indian-institute-of-technology-madras/Sweep%20Functionality/sweeps/x54z7171' target=\"_blank\">https://wandb.ai/yeshu183-indian-institute-of-technology-madras/Sweep%20Functionality/sweeps/x54z7171</a>"
            ]
          },
          "metadata": {}
        },
        {
          "output_type": "display_data",
          "data": {
            "text/plain": [
              "<IPython.core.display.HTML object>"
            ],
            "text/html": [
              " View run at <a href='https://wandb.ai/yeshu183-indian-institute-of-technology-madras/Sweep%20Functionality/runs/i61nmmvp' target=\"_blank\">https://wandb.ai/yeshu183-indian-institute-of-technology-madras/Sweep%20Functionality/runs/i61nmmvp</a>"
            ]
          },
          "metadata": {}
        },
        {
          "output_type": "stream",
          "name": "stdout",
          "text": [
            "Epoch 1, Loss: 60.1341\n",
            "Epoch 2, Loss: 61.2568\n",
            "Epoch 3, Loss: 62.1668\n",
            "Epoch 4, Loss: 62.8504\n",
            "Epoch 5, Loss: 63.3057\n",
            "Validation Loss: 63.3144, Validation Accuracy: 0.7677\n"
          ]
        },
        {
          "output_type": "display_data",
          "data": {
            "text/plain": [
              "<IPython.core.display.HTML object>"
            ],
            "text/html": []
          },
          "metadata": {}
        },
        {
          "output_type": "display_data",
          "data": {
            "text/plain": [
              "<IPython.core.display.HTML object>"
            ],
            "text/html": [
              "<br>    <style><br>        .wandb-row {<br>            display: flex;<br>            flex-direction: row;<br>            flex-wrap: wrap;<br>            justify-content: flex-start;<br>            width: 100%;<br>        }<br>        .wandb-col {<br>            display: flex;<br>            flex-direction: column;<br>            flex-basis: 100%;<br>            flex: 1;<br>            padding: 10px;<br>        }<br>    </style><br><div class=\"wandb-row\"><div class=\"wandb-col\"><h3>Run history:</h3><br/><table class=\"wandb\"><tr><td>loss</td><td>▁▁▂▂▂▃▃▃▃▃▄▄▄▄▄▄▅▅▅▅▅▅▅▅▆▆▆▇▇▇▇▇▇███████</td></tr><tr><td>val_acc</td><td>▁</td></tr><tr><td>val_loss</td><td>▁</td></tr></table><br/></div><div class=\"wandb-col\"><h3>Run summary:</h3><br/><table class=\"wandb\"><tr><td>loss</td><td>63.30566</td></tr><tr><td>val_acc</td><td>0.76767</td></tr><tr><td>val_loss</td><td>63.31441</td></tr></table><br/></div></div>"
            ]
          },
          "metadata": {}
        },
        {
          "output_type": "display_data",
          "data": {
            "text/plain": [
              "<IPython.core.display.HTML object>"
            ],
            "text/html": [
              " View run <strong style=\"color:#cdcd00\">e_5_hl_[32, 64, 128]_opt_sgd_bs_32_init_xavier_ac_relu</strong> at: <a href='https://wandb.ai/yeshu183-indian-institute-of-technology-madras/Sweep%20Functionality/runs/i61nmmvp' target=\"_blank\">https://wandb.ai/yeshu183-indian-institute-of-technology-madras/Sweep%20Functionality/runs/i61nmmvp</a><br> View project at: <a href='https://wandb.ai/yeshu183-indian-institute-of-technology-madras/Sweep%20Functionality' target=\"_blank\">https://wandb.ai/yeshu183-indian-institute-of-technology-madras/Sweep%20Functionality</a><br>Synced 5 W&B file(s), 0 media file(s), 0 artifact file(s) and 0 other file(s)"
            ]
          },
          "metadata": {}
        },
        {
          "output_type": "display_data",
          "data": {
            "text/plain": [
              "<IPython.core.display.HTML object>"
            ],
            "text/html": [
              "Find logs at: <code>./wandb/run-20250310_054445-i61nmmvp/logs</code>"
            ]
          },
          "metadata": {}
        },
        {
          "output_type": "stream",
          "name": "stderr",
          "text": [
            "\u001b[34m\u001b[1mwandb\u001b[0m: Agent Starting Run: bmw0adi2 with config:\n",
            "\u001b[34m\u001b[1mwandb\u001b[0m: \tactivation: relu\n",
            "\u001b[34m\u001b[1mwandb\u001b[0m: \tbatch_size: 64\n",
            "\u001b[34m\u001b[1mwandb\u001b[0m: \tepochs: 5\n",
            "\u001b[34m\u001b[1mwandb\u001b[0m: \thidden_layers: [128, 256, 512]\n",
            "\u001b[34m\u001b[1mwandb\u001b[0m: \tl2_reg: 0.0005\n",
            "\u001b[34m\u001b[1mwandb\u001b[0m: \tlearning_rate: 0.001\n",
            "\u001b[34m\u001b[1mwandb\u001b[0m: \toptimizer: sgd\n",
            "\u001b[34m\u001b[1mwandb\u001b[0m: \tweight_init: xavier\n"
          ]
        },
        {
          "output_type": "display_data",
          "data": {
            "text/plain": [
              "<IPython.core.display.HTML object>"
            ],
            "text/html": [
              "Ignoring project 'Sweep Functionality' when running a sweep."
            ]
          },
          "metadata": {}
        },
        {
          "output_type": "display_data",
          "data": {
            "text/plain": [
              "<IPython.core.display.HTML object>"
            ],
            "text/html": [
              "Tracking run with wandb version 0.19.7"
            ]
          },
          "metadata": {}
        },
        {
          "output_type": "display_data",
          "data": {
            "text/plain": [
              "<IPython.core.display.HTML object>"
            ],
            "text/html": [
              "Run data is saved locally in <code>/content/wandb/run-20250310_054510-bmw0adi2</code>"
            ]
          },
          "metadata": {}
        },
        {
          "output_type": "display_data",
          "data": {
            "text/plain": [
              "<IPython.core.display.HTML object>"
            ],
            "text/html": [
              "Syncing run <strong><a href='https://wandb.ai/yeshu183-indian-institute-of-technology-madras/Sweep%20Functionality/runs/bmw0adi2' target=\"_blank\">pretty-sweep-32</a></strong> to <a href='https://wandb.ai/yeshu183-indian-institute-of-technology-madras/Sweep%20Functionality' target=\"_blank\">Weights & Biases</a> (<a href='https://wandb.me/developer-guide' target=\"_blank\">docs</a>)<br>Sweep page: <a href='https://wandb.ai/yeshu183-indian-institute-of-technology-madras/Sweep%20Functionality/sweeps/x54z7171' target=\"_blank\">https://wandb.ai/yeshu183-indian-institute-of-technology-madras/Sweep%20Functionality/sweeps/x54z7171</a>"
            ]
          },
          "metadata": {}
        },
        {
          "output_type": "display_data",
          "data": {
            "text/plain": [
              "<IPython.core.display.HTML object>"
            ],
            "text/html": [
              " View project at <a href='https://wandb.ai/yeshu183-indian-institute-of-technology-madras/Sweep%20Functionality' target=\"_blank\">https://wandb.ai/yeshu183-indian-institute-of-technology-madras/Sweep%20Functionality</a>"
            ]
          },
          "metadata": {}
        },
        {
          "output_type": "display_data",
          "data": {
            "text/plain": [
              "<IPython.core.display.HTML object>"
            ],
            "text/html": [
              " View sweep at <a href='https://wandb.ai/yeshu183-indian-institute-of-technology-madras/Sweep%20Functionality/sweeps/x54z7171' target=\"_blank\">https://wandb.ai/yeshu183-indian-institute-of-technology-madras/Sweep%20Functionality/sweeps/x54z7171</a>"
            ]
          },
          "metadata": {}
        },
        {
          "output_type": "display_data",
          "data": {
            "text/plain": [
              "<IPython.core.display.HTML object>"
            ],
            "text/html": [
              " View run at <a href='https://wandb.ai/yeshu183-indian-institute-of-technology-madras/Sweep%20Functionality/runs/bmw0adi2' target=\"_blank\">https://wandb.ai/yeshu183-indian-institute-of-technology-madras/Sweep%20Functionality/runs/bmw0adi2</a>"
            ]
          },
          "metadata": {}
        },
        {
          "output_type": "stream",
          "name": "stdout",
          "text": [
            "Epoch 1, Loss: 0.3895\n",
            "Epoch 2, Loss: 0.3508\n",
            "Epoch 3, Loss: 0.3198\n",
            "Epoch 4, Loss: 0.3025\n",
            "Epoch 5, Loss: 0.3102\n",
            "Validation Loss: 0.3015, Validation Accuracy: 0.7468\n"
          ]
        },
        {
          "output_type": "display_data",
          "data": {
            "text/plain": [
              "<IPython.core.display.HTML object>"
            ],
            "text/html": []
          },
          "metadata": {}
        },
        {
          "output_type": "display_data",
          "data": {
            "text/plain": [
              "<IPython.core.display.HTML object>"
            ],
            "text/html": [
              "<br>    <style><br>        .wandb-row {<br>            display: flex;<br>            flex-direction: row;<br>            flex-wrap: wrap;<br>            justify-content: flex-start;<br>            width: 100%;<br>        }<br>        .wandb-col {<br>            display: flex;<br>            flex-direction: column;<br>            flex-basis: 100%;<br>            flex: 1;<br>            padding: 10px;<br>        }<br>    </style><br><div class=\"wandb-row\"><div class=\"wandb-col\"><h3>Run history:</h3><br/><table class=\"wandb\"><tr><td>loss</td><td>█▆▆▆▅▅▅▄▄▃▃▃▃▃▃▂▃▃▃▂▂▂▂▂▂▂▂▂▁▂▂▂▁▂▁▁▂▂▂▁</td></tr><tr><td>val_acc</td><td>▁</td></tr><tr><td>val_loss</td><td>▁</td></tr></table><br/></div><div class=\"wandb-col\"><h3>Run summary:</h3><br/><table class=\"wandb\"><tr><td>loss</td><td>0.31024</td></tr><tr><td>val_acc</td><td>0.74683</td></tr><tr><td>val_loss</td><td>0.30148</td></tr></table><br/></div></div>"
            ]
          },
          "metadata": {}
        },
        {
          "output_type": "display_data",
          "data": {
            "text/plain": [
              "<IPython.core.display.HTML object>"
            ],
            "text/html": [
              " View run <strong style=\"color:#cdcd00\">e_5_hl_[128, 256, 512]_opt_sgd_bs_64_init_xavier_ac_relu</strong> at: <a href='https://wandb.ai/yeshu183-indian-institute-of-technology-madras/Sweep%20Functionality/runs/bmw0adi2' target=\"_blank\">https://wandb.ai/yeshu183-indian-institute-of-technology-madras/Sweep%20Functionality/runs/bmw0adi2</a><br> View project at: <a href='https://wandb.ai/yeshu183-indian-institute-of-technology-madras/Sweep%20Functionality' target=\"_blank\">https://wandb.ai/yeshu183-indian-institute-of-technology-madras/Sweep%20Functionality</a><br>Synced 5 W&B file(s), 0 media file(s), 0 artifact file(s) and 0 other file(s)"
            ]
          },
          "metadata": {}
        },
        {
          "output_type": "display_data",
          "data": {
            "text/plain": [
              "<IPython.core.display.HTML object>"
            ],
            "text/html": [
              "Find logs at: <code>./wandb/run-20250310_054510-bmw0adi2/logs</code>"
            ]
          },
          "metadata": {}
        },
        {
          "output_type": "stream",
          "name": "stderr",
          "text": [
            "\u001b[34m\u001b[1mwandb\u001b[0m: Agent Starting Run: kadvjd4g with config:\n",
            "\u001b[34m\u001b[1mwandb\u001b[0m: \tactivation: relu\n",
            "\u001b[34m\u001b[1mwandb\u001b[0m: \tbatch_size: 16\n",
            "\u001b[34m\u001b[1mwandb\u001b[0m: \tepochs: 5\n",
            "\u001b[34m\u001b[1mwandb\u001b[0m: \thidden_layers: [64, 128, 256]\n",
            "\u001b[34m\u001b[1mwandb\u001b[0m: \tl2_reg: 0.5\n",
            "\u001b[34m\u001b[1mwandb\u001b[0m: \tlearning_rate: 0.001\n",
            "\u001b[34m\u001b[1mwandb\u001b[0m: \toptimizer: sgd\n",
            "\u001b[34m\u001b[1mwandb\u001b[0m: \tweight_init: xavier\n"
          ]
        },
        {
          "output_type": "display_data",
          "data": {
            "text/plain": [
              "<IPython.core.display.HTML object>"
            ],
            "text/html": [
              "Ignoring project 'Sweep Functionality' when running a sweep."
            ]
          },
          "metadata": {}
        },
        {
          "output_type": "display_data",
          "data": {
            "text/plain": [
              "<IPython.core.display.HTML object>"
            ],
            "text/html": [
              "Tracking run with wandb version 0.19.7"
            ]
          },
          "metadata": {}
        },
        {
          "output_type": "display_data",
          "data": {
            "text/plain": [
              "<IPython.core.display.HTML object>"
            ],
            "text/html": [
              "Run data is saved locally in <code>/content/wandb/run-20250310_054606-kadvjd4g</code>"
            ]
          },
          "metadata": {}
        },
        {
          "output_type": "display_data",
          "data": {
            "text/plain": [
              "<IPython.core.display.HTML object>"
            ],
            "text/html": [
              "Syncing run <strong><a href='https://wandb.ai/yeshu183-indian-institute-of-technology-madras/Sweep%20Functionality/runs/kadvjd4g' target=\"_blank\">sparkling-sweep-33</a></strong> to <a href='https://wandb.ai/yeshu183-indian-institute-of-technology-madras/Sweep%20Functionality' target=\"_blank\">Weights & Biases</a> (<a href='https://wandb.me/developer-guide' target=\"_blank\">docs</a>)<br>Sweep page: <a href='https://wandb.ai/yeshu183-indian-institute-of-technology-madras/Sweep%20Functionality/sweeps/x54z7171' target=\"_blank\">https://wandb.ai/yeshu183-indian-institute-of-technology-madras/Sweep%20Functionality/sweeps/x54z7171</a>"
            ]
          },
          "metadata": {}
        },
        {
          "output_type": "display_data",
          "data": {
            "text/plain": [
              "<IPython.core.display.HTML object>"
            ],
            "text/html": [
              " View project at <a href='https://wandb.ai/yeshu183-indian-institute-of-technology-madras/Sweep%20Functionality' target=\"_blank\">https://wandb.ai/yeshu183-indian-institute-of-technology-madras/Sweep%20Functionality</a>"
            ]
          },
          "metadata": {}
        },
        {
          "output_type": "display_data",
          "data": {
            "text/plain": [
              "<IPython.core.display.HTML object>"
            ],
            "text/html": [
              " View sweep at <a href='https://wandb.ai/yeshu183-indian-institute-of-technology-madras/Sweep%20Functionality/sweeps/x54z7171' target=\"_blank\">https://wandb.ai/yeshu183-indian-institute-of-technology-madras/Sweep%20Functionality/sweeps/x54z7171</a>"
            ]
          },
          "metadata": {}
        },
        {
          "output_type": "display_data",
          "data": {
            "text/plain": [
              "<IPython.core.display.HTML object>"
            ],
            "text/html": [
              " View run at <a href='https://wandb.ai/yeshu183-indian-institute-of-technology-madras/Sweep%20Functionality/runs/kadvjd4g' target=\"_blank\">https://wandb.ai/yeshu183-indian-institute-of-technology-madras/Sweep%20Functionality/runs/kadvjd4g</a>"
            ]
          },
          "metadata": {}
        },
        {
          "output_type": "stream",
          "name": "stdout",
          "text": [
            "Epoch 1, Loss: 116.2560\n",
            "Epoch 2, Loss: 117.5893\n",
            "Epoch 3, Loss: 118.4269\n",
            "Epoch 4, Loss: 119.0704\n",
            "Epoch 5, Loss: 119.6308\n",
            "Validation Loss: 119.6232, Validation Accuracy: 0.8253\n"
          ]
        },
        {
          "output_type": "display_data",
          "data": {
            "text/plain": [
              "<IPython.core.display.HTML object>"
            ],
            "text/html": []
          },
          "metadata": {}
        },
        {
          "output_type": "display_data",
          "data": {
            "text/plain": [
              "<IPython.core.display.HTML object>"
            ],
            "text/html": [
              "<br>    <style><br>        .wandb-row {<br>            display: flex;<br>            flex-direction: row;<br>            flex-wrap: wrap;<br>            justify-content: flex-start;<br>            width: 100%;<br>        }<br>        .wandb-col {<br>            display: flex;<br>            flex-direction: column;<br>            flex-basis: 100%;<br>            flex: 1;<br>            padding: 10px;<br>        }<br>    </style><br><div class=\"wandb-row\"><div class=\"wandb-col\"><h3>Run history:</h3><br/><table class=\"wandb\"><tr><td>loss</td><td>▁▂▂▂▃▃▃▃▄▄▄▄▅▅▅▅▅▅▅▅▅▅▅▆▆▆▆▆▆▇▇▇▇▇▇▇████</td></tr><tr><td>val_acc</td><td>▁</td></tr><tr><td>val_loss</td><td>▁</td></tr></table><br/></div><div class=\"wandb-col\"><h3>Run summary:</h3><br/><table class=\"wandb\"><tr><td>loss</td><td>119.63083</td></tr><tr><td>val_acc</td><td>0.82533</td></tr><tr><td>val_loss</td><td>119.62317</td></tr></table><br/></div></div>"
            ]
          },
          "metadata": {}
        },
        {
          "output_type": "display_data",
          "data": {
            "text/plain": [
              "<IPython.core.display.HTML object>"
            ],
            "text/html": [
              " View run <strong style=\"color:#cdcd00\">e_5_hl_[64, 128, 256]_opt_sgd_bs_16_init_xavier_ac_relu</strong> at: <a href='https://wandb.ai/yeshu183-indian-institute-of-technology-madras/Sweep%20Functionality/runs/kadvjd4g' target=\"_blank\">https://wandb.ai/yeshu183-indian-institute-of-technology-madras/Sweep%20Functionality/runs/kadvjd4g</a><br> View project at: <a href='https://wandb.ai/yeshu183-indian-institute-of-technology-madras/Sweep%20Functionality' target=\"_blank\">https://wandb.ai/yeshu183-indian-institute-of-technology-madras/Sweep%20Functionality</a><br>Synced 5 W&B file(s), 0 media file(s), 0 artifact file(s) and 0 other file(s)"
            ]
          },
          "metadata": {}
        },
        {
          "output_type": "display_data",
          "data": {
            "text/plain": [
              "<IPython.core.display.HTML object>"
            ],
            "text/html": [
              "Find logs at: <code>./wandb/run-20250310_054606-kadvjd4g/logs</code>"
            ]
          },
          "metadata": {}
        },
        {
          "output_type": "stream",
          "name": "stderr",
          "text": [
            "\u001b[34m\u001b[1mwandb\u001b[0m: Agent Starting Run: fx7fybcm with config:\n",
            "\u001b[34m\u001b[1mwandb\u001b[0m: \tactivation: relu\n",
            "\u001b[34m\u001b[1mwandb\u001b[0m: \tbatch_size: 16\n",
            "\u001b[34m\u001b[1mwandb\u001b[0m: \tepochs: 5\n",
            "\u001b[34m\u001b[1mwandb\u001b[0m: \thidden_layers: [32, 64, 128]\n",
            "\u001b[34m\u001b[1mwandb\u001b[0m: \tl2_reg: 0.5\n",
            "\u001b[34m\u001b[1mwandb\u001b[0m: \tlearning_rate: 0.001\n",
            "\u001b[34m\u001b[1mwandb\u001b[0m: \toptimizer: sgd\n",
            "\u001b[34m\u001b[1mwandb\u001b[0m: \tweight_init: xavier\n"
          ]
        },
        {
          "output_type": "display_data",
          "data": {
            "text/plain": [
              "<IPython.core.display.HTML object>"
            ],
            "text/html": [
              "Ignoring project 'Sweep Functionality' when running a sweep."
            ]
          },
          "metadata": {}
        },
        {
          "output_type": "display_data",
          "data": {
            "text/plain": [
              "<IPython.core.display.HTML object>"
            ],
            "text/html": [
              "Tracking run with wandb version 0.19.7"
            ]
          },
          "metadata": {}
        },
        {
          "output_type": "display_data",
          "data": {
            "text/plain": [
              "<IPython.core.display.HTML object>"
            ],
            "text/html": [
              "Run data is saved locally in <code>/content/wandb/run-20250310_054707-fx7fybcm</code>"
            ]
          },
          "metadata": {}
        },
        {
          "output_type": "display_data",
          "data": {
            "text/plain": [
              "<IPython.core.display.HTML object>"
            ],
            "text/html": [
              "Syncing run <strong><a href='https://wandb.ai/yeshu183-indian-institute-of-technology-madras/Sweep%20Functionality/runs/fx7fybcm' target=\"_blank\">fanciful-sweep-34</a></strong> to <a href='https://wandb.ai/yeshu183-indian-institute-of-technology-madras/Sweep%20Functionality' target=\"_blank\">Weights & Biases</a> (<a href='https://wandb.me/developer-guide' target=\"_blank\">docs</a>)<br>Sweep page: <a href='https://wandb.ai/yeshu183-indian-institute-of-technology-madras/Sweep%20Functionality/sweeps/x54z7171' target=\"_blank\">https://wandb.ai/yeshu183-indian-institute-of-technology-madras/Sweep%20Functionality/sweeps/x54z7171</a>"
            ]
          },
          "metadata": {}
        },
        {
          "output_type": "display_data",
          "data": {
            "text/plain": [
              "<IPython.core.display.HTML object>"
            ],
            "text/html": [
              " View project at <a href='https://wandb.ai/yeshu183-indian-institute-of-technology-madras/Sweep%20Functionality' target=\"_blank\">https://wandb.ai/yeshu183-indian-institute-of-technology-madras/Sweep%20Functionality</a>"
            ]
          },
          "metadata": {}
        },
        {
          "output_type": "display_data",
          "data": {
            "text/plain": [
              "<IPython.core.display.HTML object>"
            ],
            "text/html": [
              " View sweep at <a href='https://wandb.ai/yeshu183-indian-institute-of-technology-madras/Sweep%20Functionality/sweeps/x54z7171' target=\"_blank\">https://wandb.ai/yeshu183-indian-institute-of-technology-madras/Sweep%20Functionality/sweeps/x54z7171</a>"
            ]
          },
          "metadata": {}
        },
        {
          "output_type": "display_data",
          "data": {
            "text/plain": [
              "<IPython.core.display.HTML object>"
            ],
            "text/html": [
              " View run at <a href='https://wandb.ai/yeshu183-indian-institute-of-technology-madras/Sweep%20Functionality/runs/fx7fybcm' target=\"_blank\">https://wandb.ai/yeshu183-indian-institute-of-technology-madras/Sweep%20Functionality/runs/fx7fybcm</a>"
            ]
          },
          "metadata": {}
        },
        {
          "output_type": "stream",
          "name": "stdout",
          "text": [
            "Epoch 1, Loss: 60.8883\n",
            "Epoch 2, Loss: 62.3757\n",
            "Epoch 3, Loss: 63.2588\n",
            "Epoch 4, Loss: 63.8905\n",
            "Epoch 5, Loss: 64.4365\n",
            "Validation Loss: 64.4640, Validation Accuracy: 0.8005\n"
          ]
        },
        {
          "output_type": "display_data",
          "data": {
            "text/plain": [
              "<IPython.core.display.HTML object>"
            ],
            "text/html": []
          },
          "metadata": {}
        },
        {
          "output_type": "display_data",
          "data": {
            "text/plain": [
              "<IPython.core.display.HTML object>"
            ],
            "text/html": [
              "<br>    <style><br>        .wandb-row {<br>            display: flex;<br>            flex-direction: row;<br>            flex-wrap: wrap;<br>            justify-content: flex-start;<br>            width: 100%;<br>        }<br>        .wandb-col {<br>            display: flex;<br>            flex-direction: column;<br>            flex-basis: 100%;<br>            flex: 1;<br>            padding: 10px;<br>        }<br>    </style><br><div class=\"wandb-row\"><div class=\"wandb-col\"><h3>Run history:</h3><br/><table class=\"wandb\"><tr><td>loss</td><td>▁▁▁▂▂▂▃▃▃▄▄▄▄▅▅▅▅▅▅▅▆▆▆▆▇▇▇▇▇▇██████████</td></tr><tr><td>val_acc</td><td>▁</td></tr><tr><td>val_loss</td><td>▁</td></tr></table><br/></div><div class=\"wandb-col\"><h3>Run summary:</h3><br/><table class=\"wandb\"><tr><td>loss</td><td>64.4365</td></tr><tr><td>val_acc</td><td>0.8005</td></tr><tr><td>val_loss</td><td>64.46401</td></tr></table><br/></div></div>"
            ]
          },
          "metadata": {}
        },
        {
          "output_type": "display_data",
          "data": {
            "text/plain": [
              "<IPython.core.display.HTML object>"
            ],
            "text/html": [
              " View run <strong style=\"color:#cdcd00\">e_5_hl_[32, 64, 128]_opt_sgd_bs_16_init_xavier_ac_relu</strong> at: <a href='https://wandb.ai/yeshu183-indian-institute-of-technology-madras/Sweep%20Functionality/runs/fx7fybcm' target=\"_blank\">https://wandb.ai/yeshu183-indian-institute-of-technology-madras/Sweep%20Functionality/runs/fx7fybcm</a><br> View project at: <a href='https://wandb.ai/yeshu183-indian-institute-of-technology-madras/Sweep%20Functionality' target=\"_blank\">https://wandb.ai/yeshu183-indian-institute-of-technology-madras/Sweep%20Functionality</a><br>Synced 5 W&B file(s), 0 media file(s), 0 artifact file(s) and 0 other file(s)"
            ]
          },
          "metadata": {}
        },
        {
          "output_type": "display_data",
          "data": {
            "text/plain": [
              "<IPython.core.display.HTML object>"
            ],
            "text/html": [
              "Find logs at: <code>./wandb/run-20250310_054707-fx7fybcm/logs</code>"
            ]
          },
          "metadata": {}
        },
        {
          "output_type": "stream",
          "name": "stderr",
          "text": [
            "\u001b[34m\u001b[1mwandb\u001b[0m: Agent Starting Run: geggwe9i with config:\n",
            "\u001b[34m\u001b[1mwandb\u001b[0m: \tactivation: relu\n",
            "\u001b[34m\u001b[1mwandb\u001b[0m: \tbatch_size: 16\n",
            "\u001b[34m\u001b[1mwandb\u001b[0m: \tepochs: 5\n",
            "\u001b[34m\u001b[1mwandb\u001b[0m: \thidden_layers: [128, 256, 512]\n",
            "\u001b[34m\u001b[1mwandb\u001b[0m: \tl2_reg: 0.5\n",
            "\u001b[34m\u001b[1mwandb\u001b[0m: \tlearning_rate: 0.001\n",
            "\u001b[34m\u001b[1mwandb\u001b[0m: \toptimizer: sgd\n",
            "\u001b[34m\u001b[1mwandb\u001b[0m: \tweight_init: xavier\n"
          ]
        },
        {
          "output_type": "display_data",
          "data": {
            "text/plain": [
              "<IPython.core.display.HTML object>"
            ],
            "text/html": [
              "Ignoring project 'Sweep Functionality' when running a sweep."
            ]
          },
          "metadata": {}
        },
        {
          "output_type": "display_data",
          "data": {
            "text/plain": [
              "<IPython.core.display.HTML object>"
            ],
            "text/html": [
              "Tracking run with wandb version 0.19.7"
            ]
          },
          "metadata": {}
        },
        {
          "output_type": "display_data",
          "data": {
            "text/plain": [
              "<IPython.core.display.HTML object>"
            ],
            "text/html": [
              "Run data is saved locally in <code>/content/wandb/run-20250310_054748-geggwe9i</code>"
            ]
          },
          "metadata": {}
        },
        {
          "output_type": "display_data",
          "data": {
            "text/plain": [
              "<IPython.core.display.HTML object>"
            ],
            "text/html": [
              "Syncing run <strong><a href='https://wandb.ai/yeshu183-indian-institute-of-technology-madras/Sweep%20Functionality/runs/geggwe9i' target=\"_blank\">hardy-sweep-35</a></strong> to <a href='https://wandb.ai/yeshu183-indian-institute-of-technology-madras/Sweep%20Functionality' target=\"_blank\">Weights & Biases</a> (<a href='https://wandb.me/developer-guide' target=\"_blank\">docs</a>)<br>Sweep page: <a href='https://wandb.ai/yeshu183-indian-institute-of-technology-madras/Sweep%20Functionality/sweeps/x54z7171' target=\"_blank\">https://wandb.ai/yeshu183-indian-institute-of-technology-madras/Sweep%20Functionality/sweeps/x54z7171</a>"
            ]
          },
          "metadata": {}
        },
        {
          "output_type": "display_data",
          "data": {
            "text/plain": [
              "<IPython.core.display.HTML object>"
            ],
            "text/html": [
              " View project at <a href='https://wandb.ai/yeshu183-indian-institute-of-technology-madras/Sweep%20Functionality' target=\"_blank\">https://wandb.ai/yeshu183-indian-institute-of-technology-madras/Sweep%20Functionality</a>"
            ]
          },
          "metadata": {}
        },
        {
          "output_type": "display_data",
          "data": {
            "text/plain": [
              "<IPython.core.display.HTML object>"
            ],
            "text/html": [
              " View sweep at <a href='https://wandb.ai/yeshu183-indian-institute-of-technology-madras/Sweep%20Functionality/sweeps/x54z7171' target=\"_blank\">https://wandb.ai/yeshu183-indian-institute-of-technology-madras/Sweep%20Functionality/sweeps/x54z7171</a>"
            ]
          },
          "metadata": {}
        },
        {
          "output_type": "display_data",
          "data": {
            "text/plain": [
              "<IPython.core.display.HTML object>"
            ],
            "text/html": [
              " View run at <a href='https://wandb.ai/yeshu183-indian-institute-of-technology-madras/Sweep%20Functionality/runs/geggwe9i' target=\"_blank\">https://wandb.ai/yeshu183-indian-institute-of-technology-madras/Sweep%20Functionality/runs/geggwe9i</a>"
            ]
          },
          "metadata": {}
        },
        {
          "output_type": "stream",
          "name": "stdout",
          "text": [
            "Epoch 1, Loss: 229.0866\n",
            "Epoch 2, Loss: 230.4043\n",
            "Epoch 3, Loss: 231.2067\n",
            "Epoch 4, Loss: 231.8679\n",
            "Epoch 5, Loss: 232.4337\n",
            "Validation Loss: 232.4337, Validation Accuracy: 0.8243\n"
          ]
        },
        {
          "output_type": "display_data",
          "data": {
            "text/plain": [
              "<IPython.core.display.HTML object>"
            ],
            "text/html": []
          },
          "metadata": {}
        },
        {
          "output_type": "display_data",
          "data": {
            "text/plain": [
              "<IPython.core.display.HTML object>"
            ],
            "text/html": [
              "<br>    <style><br>        .wandb-row {<br>            display: flex;<br>            flex-direction: row;<br>            flex-wrap: wrap;<br>            justify-content: flex-start;<br>            width: 100%;<br>        }<br>        .wandb-col {<br>            display: flex;<br>            flex-direction: column;<br>            flex-basis: 100%;<br>            flex: 1;<br>            padding: 10px;<br>        }<br>    </style><br><div class=\"wandb-row\"><div class=\"wandb-col\"><h3>Run history:</h3><br/><table class=\"wandb\"><tr><td>loss</td><td>▁▁▁▂▂▃▃▃▄▄▅▅▅▅▅▅▅▆▆▆▇▇▇▇▇▇▇▇▇▇▇▇▇▇▇█████</td></tr><tr><td>val_acc</td><td>▁</td></tr><tr><td>val_loss</td><td>▁</td></tr></table><br/></div><div class=\"wandb-col\"><h3>Run summary:</h3><br/><table class=\"wandb\"><tr><td>loss</td><td>232.43374</td></tr><tr><td>val_acc</td><td>0.82433</td></tr><tr><td>val_loss</td><td>232.43367</td></tr></table><br/></div></div>"
            ]
          },
          "metadata": {}
        },
        {
          "output_type": "display_data",
          "data": {
            "text/plain": [
              "<IPython.core.display.HTML object>"
            ],
            "text/html": [
              " View run <strong style=\"color:#cdcd00\">e_5_hl_[128, 256, 512]_opt_sgd_bs_16_init_xavier_ac_relu</strong> at: <a href='https://wandb.ai/yeshu183-indian-institute-of-technology-madras/Sweep%20Functionality/runs/geggwe9i' target=\"_blank\">https://wandb.ai/yeshu183-indian-institute-of-technology-madras/Sweep%20Functionality/runs/geggwe9i</a><br> View project at: <a href='https://wandb.ai/yeshu183-indian-institute-of-technology-madras/Sweep%20Functionality' target=\"_blank\">https://wandb.ai/yeshu183-indian-institute-of-technology-madras/Sweep%20Functionality</a><br>Synced 5 W&B file(s), 0 media file(s), 0 artifact file(s) and 0 other file(s)"
            ]
          },
          "metadata": {}
        },
        {
          "output_type": "display_data",
          "data": {
            "text/plain": [
              "<IPython.core.display.HTML object>"
            ],
            "text/html": [
              "Find logs at: <code>./wandb/run-20250310_054748-geggwe9i/logs</code>"
            ]
          },
          "metadata": {}
        },
        {
          "output_type": "stream",
          "name": "stderr",
          "text": [
            "\u001b[34m\u001b[1mwandb\u001b[0m: Sweep Agent: Waiting for job.\n",
            "\u001b[34m\u001b[1mwandb\u001b[0m: Job received.\n",
            "\u001b[34m\u001b[1mwandb\u001b[0m: Agent Starting Run: ssmiq1u7 with config:\n",
            "\u001b[34m\u001b[1mwandb\u001b[0m: \tactivation: relu\n",
            "\u001b[34m\u001b[1mwandb\u001b[0m: \tbatch_size: 16\n",
            "\u001b[34m\u001b[1mwandb\u001b[0m: \tepochs: 5\n",
            "\u001b[34m\u001b[1mwandb\u001b[0m: \thidden_layers: [128, 256, 512]\n",
            "\u001b[34m\u001b[1mwandb\u001b[0m: \tl2_reg: 0.5\n",
            "\u001b[34m\u001b[1mwandb\u001b[0m: \tlearning_rate: 0.001\n",
            "\u001b[34m\u001b[1mwandb\u001b[0m: \toptimizer: sgd\n",
            "\u001b[34m\u001b[1mwandb\u001b[0m: \tweight_init: xavier\n"
          ]
        },
        {
          "output_type": "display_data",
          "data": {
            "text/plain": [
              "<IPython.core.display.HTML object>"
            ],
            "text/html": [
              "Ignoring project 'Sweep Functionality' when running a sweep."
            ]
          },
          "metadata": {}
        },
        {
          "output_type": "display_data",
          "data": {
            "text/plain": [
              "<IPython.core.display.HTML object>"
            ],
            "text/html": [
              "Tracking run with wandb version 0.19.7"
            ]
          },
          "metadata": {}
        },
        {
          "output_type": "display_data",
          "data": {
            "text/plain": [
              "<IPython.core.display.HTML object>"
            ],
            "text/html": [
              "Run data is saved locally in <code>/content/wandb/run-20250310_054959-ssmiq1u7</code>"
            ]
          },
          "metadata": {}
        },
        {
          "output_type": "display_data",
          "data": {
            "text/plain": [
              "<IPython.core.display.HTML object>"
            ],
            "text/html": [
              "Syncing run <strong><a href='https://wandb.ai/yeshu183-indian-institute-of-technology-madras/Sweep%20Functionality/runs/ssmiq1u7' target=\"_blank\">fine-sweep-36</a></strong> to <a href='https://wandb.ai/yeshu183-indian-institute-of-technology-madras/Sweep%20Functionality' target=\"_blank\">Weights & Biases</a> (<a href='https://wandb.me/developer-guide' target=\"_blank\">docs</a>)<br>Sweep page: <a href='https://wandb.ai/yeshu183-indian-institute-of-technology-madras/Sweep%20Functionality/sweeps/x54z7171' target=\"_blank\">https://wandb.ai/yeshu183-indian-institute-of-technology-madras/Sweep%20Functionality/sweeps/x54z7171</a>"
            ]
          },
          "metadata": {}
        },
        {
          "output_type": "display_data",
          "data": {
            "text/plain": [
              "<IPython.core.display.HTML object>"
            ],
            "text/html": [
              " View project at <a href='https://wandb.ai/yeshu183-indian-institute-of-technology-madras/Sweep%20Functionality' target=\"_blank\">https://wandb.ai/yeshu183-indian-institute-of-technology-madras/Sweep%20Functionality</a>"
            ]
          },
          "metadata": {}
        },
        {
          "output_type": "display_data",
          "data": {
            "text/plain": [
              "<IPython.core.display.HTML object>"
            ],
            "text/html": [
              " View sweep at <a href='https://wandb.ai/yeshu183-indian-institute-of-technology-madras/Sweep%20Functionality/sweeps/x54z7171' target=\"_blank\">https://wandb.ai/yeshu183-indian-institute-of-technology-madras/Sweep%20Functionality/sweeps/x54z7171</a>"
            ]
          },
          "metadata": {}
        },
        {
          "output_type": "display_data",
          "data": {
            "text/plain": [
              "<IPython.core.display.HTML object>"
            ],
            "text/html": [
              " View run at <a href='https://wandb.ai/yeshu183-indian-institute-of-technology-madras/Sweep%20Functionality/runs/ssmiq1u7' target=\"_blank\">https://wandb.ai/yeshu183-indian-institute-of-technology-madras/Sweep%20Functionality/runs/ssmiq1u7</a>"
            ]
          },
          "metadata": {}
        },
        {
          "output_type": "stream",
          "name": "stdout",
          "text": [
            "Epoch 1, Loss: 230.4527\n",
            "Epoch 2, Loss: 231.6847\n",
            "Epoch 3, Loss: 232.5366\n",
            "Epoch 4, Loss: 233.1140\n",
            "Epoch 5, Loss: 233.6416\n",
            "Validation Loss: 233.6687, Validation Accuracy: 0.8228\n"
          ]
        },
        {
          "output_type": "display_data",
          "data": {
            "text/plain": [
              "<IPython.core.display.HTML object>"
            ],
            "text/html": []
          },
          "metadata": {}
        },
        {
          "output_type": "display_data",
          "data": {
            "text/plain": [
              "<IPython.core.display.HTML object>"
            ],
            "text/html": [
              "<br>    <style><br>        .wandb-row {<br>            display: flex;<br>            flex-direction: row;<br>            flex-wrap: wrap;<br>            justify-content: flex-start;<br>            width: 100%;<br>        }<br>        .wandb-col {<br>            display: flex;<br>            flex-direction: column;<br>            flex-basis: 100%;<br>            flex: 1;<br>            padding: 10px;<br>        }<br>    </style><br><div class=\"wandb-row\"><div class=\"wandb-col\"><h3>Run history:</h3><br/><table class=\"wandb\"><tr><td>loss</td><td>▁▁▁▂▂▃▃▃▃▃▃▃▃▄▄▄▄▅▅▅▆▆▆▆▆▆▆▆▆▇▇▇▇▇▇▇▇▇██</td></tr><tr><td>val_acc</td><td>▁</td></tr><tr><td>val_loss</td><td>▁</td></tr></table><br/></div><div class=\"wandb-col\"><h3>Run summary:</h3><br/><table class=\"wandb\"><tr><td>loss</td><td>233.64161</td></tr><tr><td>val_acc</td><td>0.82283</td></tr><tr><td>val_loss</td><td>233.66865</td></tr></table><br/></div></div>"
            ]
          },
          "metadata": {}
        },
        {
          "output_type": "display_data",
          "data": {
            "text/plain": [
              "<IPython.core.display.HTML object>"
            ],
            "text/html": [
              " View run <strong style=\"color:#cdcd00\">e_5_hl_[128, 256, 512]_opt_sgd_bs_16_init_xavier_ac_relu</strong> at: <a href='https://wandb.ai/yeshu183-indian-institute-of-technology-madras/Sweep%20Functionality/runs/ssmiq1u7' target=\"_blank\">https://wandb.ai/yeshu183-indian-institute-of-technology-madras/Sweep%20Functionality/runs/ssmiq1u7</a><br> View project at: <a href='https://wandb.ai/yeshu183-indian-institute-of-technology-madras/Sweep%20Functionality' target=\"_blank\">https://wandb.ai/yeshu183-indian-institute-of-technology-madras/Sweep%20Functionality</a><br>Synced 5 W&B file(s), 0 media file(s), 0 artifact file(s) and 0 other file(s)"
            ]
          },
          "metadata": {}
        },
        {
          "output_type": "display_data",
          "data": {
            "text/plain": [
              "<IPython.core.display.HTML object>"
            ],
            "text/html": [
              "Find logs at: <code>./wandb/run-20250310_054959-ssmiq1u7/logs</code>"
            ]
          },
          "metadata": {}
        },
        {
          "output_type": "stream",
          "name": "stderr",
          "text": [
            "\u001b[34m\u001b[1mwandb\u001b[0m: Agent Starting Run: gdzjqlxp with config:\n",
            "\u001b[34m\u001b[1mwandb\u001b[0m: \tactivation: relu\n",
            "\u001b[34m\u001b[1mwandb\u001b[0m: \tbatch_size: 16\n",
            "\u001b[34m\u001b[1mwandb\u001b[0m: \tepochs: 5\n",
            "\u001b[34m\u001b[1mwandb\u001b[0m: \thidden_layers: [64, 128, 256]\n",
            "\u001b[34m\u001b[1mwandb\u001b[0m: \tl2_reg: 0.5\n",
            "\u001b[34m\u001b[1mwandb\u001b[0m: \tlearning_rate: 0.001\n",
            "\u001b[34m\u001b[1mwandb\u001b[0m: \toptimizer: sgd\n",
            "\u001b[34m\u001b[1mwandb\u001b[0m: \tweight_init: xavier\n"
          ]
        },
        {
          "output_type": "display_data",
          "data": {
            "text/plain": [
              "<IPython.core.display.HTML object>"
            ],
            "text/html": [
              "Ignoring project 'Sweep Functionality' when running a sweep."
            ]
          },
          "metadata": {}
        },
        {
          "output_type": "display_data",
          "data": {
            "text/plain": [
              "<IPython.core.display.HTML object>"
            ],
            "text/html": [
              "Tracking run with wandb version 0.19.7"
            ]
          },
          "metadata": {}
        },
        {
          "output_type": "display_data",
          "data": {
            "text/plain": [
              "<IPython.core.display.HTML object>"
            ],
            "text/html": [
              "Run data is saved locally in <code>/content/wandb/run-20250310_055200-gdzjqlxp</code>"
            ]
          },
          "metadata": {}
        },
        {
          "output_type": "display_data",
          "data": {
            "text/plain": [
              "<IPython.core.display.HTML object>"
            ],
            "text/html": [
              "Syncing run <strong><a href='https://wandb.ai/yeshu183-indian-institute-of-technology-madras/Sweep%20Functionality/runs/gdzjqlxp' target=\"_blank\">dry-sweep-37</a></strong> to <a href='https://wandb.ai/yeshu183-indian-institute-of-technology-madras/Sweep%20Functionality' target=\"_blank\">Weights & Biases</a> (<a href='https://wandb.me/developer-guide' target=\"_blank\">docs</a>)<br>Sweep page: <a href='https://wandb.ai/yeshu183-indian-institute-of-technology-madras/Sweep%20Functionality/sweeps/x54z7171' target=\"_blank\">https://wandb.ai/yeshu183-indian-institute-of-technology-madras/Sweep%20Functionality/sweeps/x54z7171</a>"
            ]
          },
          "metadata": {}
        },
        {
          "output_type": "display_data",
          "data": {
            "text/plain": [
              "<IPython.core.display.HTML object>"
            ],
            "text/html": [
              " View project at <a href='https://wandb.ai/yeshu183-indian-institute-of-technology-madras/Sweep%20Functionality' target=\"_blank\">https://wandb.ai/yeshu183-indian-institute-of-technology-madras/Sweep%20Functionality</a>"
            ]
          },
          "metadata": {}
        },
        {
          "output_type": "display_data",
          "data": {
            "text/plain": [
              "<IPython.core.display.HTML object>"
            ],
            "text/html": [
              " View sweep at <a href='https://wandb.ai/yeshu183-indian-institute-of-technology-madras/Sweep%20Functionality/sweeps/x54z7171' target=\"_blank\">https://wandb.ai/yeshu183-indian-institute-of-technology-madras/Sweep%20Functionality/sweeps/x54z7171</a>"
            ]
          },
          "metadata": {}
        },
        {
          "output_type": "display_data",
          "data": {
            "text/plain": [
              "<IPython.core.display.HTML object>"
            ],
            "text/html": [
              " View run at <a href='https://wandb.ai/yeshu183-indian-institute-of-technology-madras/Sweep%20Functionality/runs/gdzjqlxp' target=\"_blank\">https://wandb.ai/yeshu183-indian-institute-of-technology-madras/Sweep%20Functionality/runs/gdzjqlxp</a>"
            ]
          },
          "metadata": {}
        },
        {
          "output_type": "stream",
          "name": "stdout",
          "text": [
            "Epoch 1, Loss: 116.3896\n",
            "Epoch 2, Loss: 117.7632\n",
            "Epoch 3, Loss: 118.6367\n",
            "Epoch 4, Loss: 119.2938\n",
            "Epoch 5, Loss: 119.8522\n",
            "Validation Loss: 119.8301, Validation Accuracy: 0.8198\n"
          ]
        },
        {
          "output_type": "display_data",
          "data": {
            "text/plain": [
              "<IPython.core.display.HTML object>"
            ],
            "text/html": []
          },
          "metadata": {}
        },
        {
          "output_type": "display_data",
          "data": {
            "text/plain": [
              "<IPython.core.display.HTML object>"
            ],
            "text/html": [
              "<br>    <style><br>        .wandb-row {<br>            display: flex;<br>            flex-direction: row;<br>            flex-wrap: wrap;<br>            justify-content: flex-start;<br>            width: 100%;<br>        }<br>        .wandb-col {<br>            display: flex;<br>            flex-direction: column;<br>            flex-basis: 100%;<br>            flex: 1;<br>            padding: 10px;<br>        }<br>    </style><br><div class=\"wandb-row\"><div class=\"wandb-col\"><h3>Run history:</h3><br/><table class=\"wandb\"><tr><td>loss</td><td>▁▁▁▂▂▃▃▃▄▄▅▅▅▅▅▆▆▆▆▆▆▆▆▆▇▇▇▇▇▇▇▇▇▇▇█████</td></tr><tr><td>val_acc</td><td>▁</td></tr><tr><td>val_loss</td><td>▁</td></tr></table><br/></div><div class=\"wandb-col\"><h3>Run summary:</h3><br/><table class=\"wandb\"><tr><td>loss</td><td>119.85218</td></tr><tr><td>val_acc</td><td>0.81983</td></tr><tr><td>val_loss</td><td>119.83006</td></tr></table><br/></div></div>"
            ]
          },
          "metadata": {}
        },
        {
          "output_type": "display_data",
          "data": {
            "text/plain": [
              "<IPython.core.display.HTML object>"
            ],
            "text/html": [
              " View run <strong style=\"color:#cdcd00\">e_5_hl_[64, 128, 256]_opt_sgd_bs_16_init_xavier_ac_relu</strong> at: <a href='https://wandb.ai/yeshu183-indian-institute-of-technology-madras/Sweep%20Functionality/runs/gdzjqlxp' target=\"_blank\">https://wandb.ai/yeshu183-indian-institute-of-technology-madras/Sweep%20Functionality/runs/gdzjqlxp</a><br> View project at: <a href='https://wandb.ai/yeshu183-indian-institute-of-technology-madras/Sweep%20Functionality' target=\"_blank\">https://wandb.ai/yeshu183-indian-institute-of-technology-madras/Sweep%20Functionality</a><br>Synced 5 W&B file(s), 0 media file(s), 0 artifact file(s) and 0 other file(s)"
            ]
          },
          "metadata": {}
        },
        {
          "output_type": "display_data",
          "data": {
            "text/plain": [
              "<IPython.core.display.HTML object>"
            ],
            "text/html": [
              "Find logs at: <code>./wandb/run-20250310_055200-gdzjqlxp/logs</code>"
            ]
          },
          "metadata": {}
        },
        {
          "output_type": "stream",
          "name": "stderr",
          "text": [
            "\u001b[34m\u001b[1mwandb\u001b[0m: Agent Starting Run: z5nczi1q with config:\n",
            "\u001b[34m\u001b[1mwandb\u001b[0m: \tactivation: relu\n",
            "\u001b[34m\u001b[1mwandb\u001b[0m: \tbatch_size: 16\n",
            "\u001b[34m\u001b[1mwandb\u001b[0m: \tepochs: 5\n",
            "\u001b[34m\u001b[1mwandb\u001b[0m: \thidden_layers: [128, 256, 512]\n",
            "\u001b[34m\u001b[1mwandb\u001b[0m: \tl2_reg: 0.5\n",
            "\u001b[34m\u001b[1mwandb\u001b[0m: \tlearning_rate: 0.001\n",
            "\u001b[34m\u001b[1mwandb\u001b[0m: \toptimizer: sgd\n",
            "\u001b[34m\u001b[1mwandb\u001b[0m: \tweight_init: xavier\n"
          ]
        },
        {
          "output_type": "display_data",
          "data": {
            "text/plain": [
              "<IPython.core.display.HTML object>"
            ],
            "text/html": [
              "Ignoring project 'Sweep Functionality' when running a sweep."
            ]
          },
          "metadata": {}
        },
        {
          "output_type": "display_data",
          "data": {
            "text/plain": [
              "<IPython.core.display.HTML object>"
            ],
            "text/html": [
              "Tracking run with wandb version 0.19.7"
            ]
          },
          "metadata": {}
        },
        {
          "output_type": "display_data",
          "data": {
            "text/plain": [
              "<IPython.core.display.HTML object>"
            ],
            "text/html": [
              "Run data is saved locally in <code>/content/wandb/run-20250310_055321-z5nczi1q</code>"
            ]
          },
          "metadata": {}
        },
        {
          "output_type": "display_data",
          "data": {
            "text/plain": [
              "<IPython.core.display.HTML object>"
            ],
            "text/html": [
              "Syncing run <strong><a href='https://wandb.ai/yeshu183-indian-institute-of-technology-madras/Sweep%20Functionality/runs/z5nczi1q' target=\"_blank\">genial-sweep-38</a></strong> to <a href='https://wandb.ai/yeshu183-indian-institute-of-technology-madras/Sweep%20Functionality' target=\"_blank\">Weights & Biases</a> (<a href='https://wandb.me/developer-guide' target=\"_blank\">docs</a>)<br>Sweep page: <a href='https://wandb.ai/yeshu183-indian-institute-of-technology-madras/Sweep%20Functionality/sweeps/x54z7171' target=\"_blank\">https://wandb.ai/yeshu183-indian-institute-of-technology-madras/Sweep%20Functionality/sweeps/x54z7171</a>"
            ]
          },
          "metadata": {}
        },
        {
          "output_type": "display_data",
          "data": {
            "text/plain": [
              "<IPython.core.display.HTML object>"
            ],
            "text/html": [
              " View project at <a href='https://wandb.ai/yeshu183-indian-institute-of-technology-madras/Sweep%20Functionality' target=\"_blank\">https://wandb.ai/yeshu183-indian-institute-of-technology-madras/Sweep%20Functionality</a>"
            ]
          },
          "metadata": {}
        },
        {
          "output_type": "display_data",
          "data": {
            "text/plain": [
              "<IPython.core.display.HTML object>"
            ],
            "text/html": [
              " View sweep at <a href='https://wandb.ai/yeshu183-indian-institute-of-technology-madras/Sweep%20Functionality/sweeps/x54z7171' target=\"_blank\">https://wandb.ai/yeshu183-indian-institute-of-technology-madras/Sweep%20Functionality/sweeps/x54z7171</a>"
            ]
          },
          "metadata": {}
        },
        {
          "output_type": "display_data",
          "data": {
            "text/plain": [
              "<IPython.core.display.HTML object>"
            ],
            "text/html": [
              " View run at <a href='https://wandb.ai/yeshu183-indian-institute-of-technology-madras/Sweep%20Functionality/runs/z5nczi1q' target=\"_blank\">https://wandb.ai/yeshu183-indian-institute-of-technology-madras/Sweep%20Functionality/runs/z5nczi1q</a>"
            ]
          },
          "metadata": {}
        },
        {
          "output_type": "stream",
          "name": "stdout",
          "text": [
            "Epoch 1, Loss: 229.9033\n"
          ]
        }
      ]
    },
    {
      "cell_type": "code",
      "source": [
        "#wandb.agent(sweep_id, function=train_sweep, count=5)\n",
        "wandb.finish()"
      ],
      "metadata": {
        "id": "MTXUca7lmFYY"
      },
      "execution_count": 9,
      "outputs": []
    },
    {
      "cell_type": "code",
      "source": [],
      "metadata": {
        "id": "zfmt5j4iNdhU"
      },
      "execution_count": null,
      "outputs": []
    }
  ],
  "metadata": {
    "kernelspec": {
      "display_name": "Python 3",
      "language": "python",
      "name": "python3"
    },
    "language_info": {
      "codemirror_mode": {
        "name": "ipython",
        "version": 3
      },
      "file_extension": ".py",
      "mimetype": "text/x-python",
      "name": "python",
      "nbconvert_exporter": "python",
      "pygments_lexer": "ipython3",
      "version": "3.12.2"
    },
    "colab": {
      "provenance": []
    }
  },
  "nbformat": 4,
  "nbformat_minor": 0
}